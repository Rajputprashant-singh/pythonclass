{
 "cells": [
  {
   "cell_type": "code",
   "execution_count": 27,
   "id": "5f789088",
   "metadata": {},
   "outputs": [],
   "source": [
    "# # Typecasting\n",
    "# - dict()\n",
    "# - set()\n",
    "# - frozenset()\n",
    "# - bool()\n",
    "# -list()\n",
    "# - tuple()\n",
    "# - Input and putput functions"
   ]
  },
  {
   "cell_type": "markdown",
   "id": "053f16c5",
   "metadata": {},
   "source": [
    "# dict()"
   ]
  },
  {
   "cell_type": "markdown",
   "id": "e59360b0",
   "metadata": {},
   "source": [
    "- It returns a dictionary.\n",
    "- It typecasts to a dictionary"
   ]
  },
  {
   "cell_type": "code",
   "execution_count": 4,
   "id": "05059af4",
   "metadata": {},
   "outputs": [],
   "source": [
    "# Iterable- String, List, Tuple, Dictionary, Set, Frozenset, Range"
   ]
  },
  {
   "cell_type": "code",
   "execution_count": 3,
   "id": "e27826a4",
   "metadata": {},
   "outputs": [],
   "source": [
    "# dict(Iterable)"
   ]
  },
  {
   "cell_type": "markdown",
   "id": "93cd2f84",
   "metadata": {},
   "source": [
    "- The iterable that we pass inside the dict() must have another iterable inside it.\n",
    "- The inner iterable must have two elements (items). The first element becomes the key in the dictionary and the second element becomes the value in the dictionary."
   ]
  },
  {
   "cell_type": "code",
   "execution_count": 5,
   "id": "71826bdf",
   "metadata": {},
   "outputs": [],
   "source": [
    "# Output- {1:100}"
   ]
  },
  {
   "cell_type": "code",
   "execution_count": 6,
   "id": "f7113277",
   "metadata": {},
   "outputs": [
    {
     "name": "stdout",
     "output_type": "stream",
     "text": [
      "{1: 100} <class 'dict'>\n"
     ]
    }
   ],
   "source": [
    "d=dict([[1,100]])\n",
    "print(d,type(d))"
   ]
  },
  {
   "cell_type": "code",
   "execution_count": 7,
   "id": "c2f0081b",
   "metadata": {},
   "outputs": [
    {
     "data": {
      "text/plain": [
       "{1: 100}"
      ]
     },
     "execution_count": 7,
     "metadata": {},
     "output_type": "execute_result"
    }
   ],
   "source": [
    "dict([(1,100)])"
   ]
  },
  {
   "cell_type": "code",
   "execution_count": 8,
   "id": "9cc29611",
   "metadata": {},
   "outputs": [],
   "source": [
    "# Output- {'name':'Priya','ID':111}"
   ]
  },
  {
   "cell_type": "code",
   "execution_count": 11,
   "id": "d0c72110",
   "metadata": {},
   "outputs": [
    {
     "name": "stdout",
     "output_type": "stream",
     "text": [
      "{'name': 'Priya', 'ID': 111} <class 'dict'>\n"
     ]
    }
   ],
   "source": [
    "d=dict([('name','Priya'),('ID',111)])\n",
    "print(d,type(d))"
   ]
  },
  {
   "cell_type": "code",
   "execution_count": 13,
   "id": "87f179bb",
   "metadata": {},
   "outputs": [
    {
     "data": {
      "text/plain": [
       "{1: 100, 2: 200, 3: 300}"
      ]
     },
     "execution_count": 13,
     "metadata": {},
     "output_type": "execute_result"
    }
   ],
   "source": [
    "# I want 3 elements in the dictionary.\n",
    "\n",
    "dict([(1,100),(2,200),(3,300)])"
   ]
  },
  {
   "cell_type": "code",
   "execution_count": 14,
   "id": "40e5948c",
   "metadata": {},
   "outputs": [
    {
     "data": {
      "text/plain": [
       "{'name': 'Bhagyashreee', 'ID': 101, 'City': 'Delhi'}"
      ]
     },
     "execution_count": 14,
     "metadata": {},
     "output_type": "execute_result"
    }
   ],
   "source": [
    "dict((['name','Bhagyashreee'],['ID',101],['City','Delhi']))"
   ]
  },
  {
   "cell_type": "code",
   "execution_count": 15,
   "id": "27f1662d",
   "metadata": {},
   "outputs": [],
   "source": [
    "# dict([[],[],[]])\n",
    "# dict(((),(),()))\n",
    "# dict([[],[],[]])"
   ]
  },
  {
   "cell_type": "code",
   "execution_count": 18,
   "id": "337a3726",
   "metadata": {},
   "outputs": [
    {
     "data": {
      "text/plain": [
       "{'1': '2'}"
      ]
     },
     "execution_count": 18,
     "metadata": {},
     "output_type": "execute_result"
    }
   ],
   "source": [
    "dict(['12'])"
   ]
  },
  {
   "cell_type": "code",
   "execution_count": 22,
   "id": "50d5e1d2",
   "metadata": {},
   "outputs": [
    {
     "data": {
      "text/plain": [
       "{'name': 'Shubham', 'City': 'Noida'}"
      ]
     },
     "execution_count": 22,
     "metadata": {},
     "output_type": "execute_result"
    }
   ],
   "source": [
    "dict((('name','Shubham'),('City','Noida')))"
   ]
  },
  {
   "cell_type": "code",
   "execution_count": 23,
   "id": "932bbeaa",
   "metadata": {},
   "outputs": [
    {
     "data": {
      "text/plain": [
       "{1: 100, 2: 200, 3: 300, 4: 400}"
      ]
     },
     "execution_count": 23,
     "metadata": {},
     "output_type": "execute_result"
    }
   ],
   "source": [
    "dict([(1,100),(2,200),(3,300),(4,400)])\n",
    "# [],[],[],[]"
   ]
  },
  {
   "cell_type": "markdown",
   "id": "94c7f74f",
   "metadata": {},
   "source": [
    "# set()"
   ]
  },
  {
   "cell_type": "markdown",
   "id": "18b37aa5",
   "metadata": {},
   "source": [
    "- It returns a set.\n",
    "- It typecats to a set"
   ]
  },
  {
   "cell_type": "code",
   "execution_count": 33,
   "id": "563ecb2a",
   "metadata": {},
   "outputs": [],
   "source": [
    "# set(iterable)"
   ]
  },
  {
   "cell_type": "code",
   "execution_count": 25,
   "id": "a8232213",
   "metadata": {},
   "outputs": [
    {
     "name": "stdout",
     "output_type": "stream",
     "text": [
      "[10, 20, 30, 40, 50] <class 'list'>\n",
      "{40, 10, 50, 20, 30} <class 'set'>\n"
     ]
    }
   ],
   "source": [
    "lst=[10,20,30,40,50]\n",
    "print(lst,type(lst))\n",
    "\n",
    "s=set(lst)\n",
    "print(s,type(s))"
   ]
  },
  {
   "cell_type": "code",
   "execution_count": 29,
   "id": "da68414d",
   "metadata": {},
   "outputs": [
    {
     "name": "stdout",
     "output_type": "stream",
     "text": [
      "helloworld! <class 'str'>\n"
     ]
    }
   ],
   "source": [
    "a='helloworld!'\n",
    "print(a,type(a))"
   ]
  },
  {
   "cell_type": "code",
   "execution_count": 30,
   "id": "406d3f6a",
   "metadata": {},
   "outputs": [
    {
     "name": "stdout",
     "output_type": "stream",
     "text": [
      "{'h', 'r', 'd', 'o', '!', 'w', 'l', 'e'} <class 'set'>\n"
     ]
    }
   ],
   "source": [
    "s=set(a)\n",
    "print(s,type(s))"
   ]
  },
  {
   "cell_type": "code",
   "execution_count": 32,
   "id": "3bf18d43",
   "metadata": {},
   "outputs": [
    {
     "name": "stdout",
     "output_type": "stream",
     "text": [
      "(1, 2, 3, 4, 5, 6, 7, 8, 4, 5, 6, 2) <class 'tuple'>\n",
      "{1, 2, 3, 4, 5, 6, 7, 8} <class 'set'>\n"
     ]
    }
   ],
   "source": [
    "t=(1,2,3,4,5,6,7,8,4,5,6,2)\n",
    "print(t,type(t))\n",
    "\n",
    "s=set(t)\n",
    "print(s,type(s))"
   ]
  },
  {
   "cell_type": "code",
   "execution_count": 36,
   "id": "f177f13a",
   "metadata": {},
   "outputs": [
    {
     "name": "stdout",
     "output_type": "stream",
     "text": [
      "5 <class 'int'>\n"
     ]
    }
   ],
   "source": [
    "a=5\n",
    "print(a,type(a))\n",
    "\n",
    "# set(a)"
   ]
  },
  {
   "cell_type": "markdown",
   "id": "142e18a1",
   "metadata": {},
   "source": [
    "# list()\n",
    "- It returns a list\n",
    "- It typecats to a list"
   ]
  },
  {
   "cell_type": "code",
   "execution_count": 37,
   "id": "211bf3e3",
   "metadata": {},
   "outputs": [],
   "source": [
    "# list(iterable)"
   ]
  },
  {
   "cell_type": "code",
   "execution_count": 38,
   "id": "21a26ad8",
   "metadata": {},
   "outputs": [
    {
     "name": "stdout",
     "output_type": "stream",
     "text": [
      "Python <class 'str'>\n"
     ]
    }
   ],
   "source": [
    "a='Python'\n",
    "print(a,type(a))"
   ]
  },
  {
   "cell_type": "code",
   "execution_count": 41,
   "id": "12e9bfb5",
   "metadata": {},
   "outputs": [
    {
     "name": "stdout",
     "output_type": "stream",
     "text": [
      "['P', 'y', 't', 'h', 'o', 'n'] <class 'list'>\n"
     ]
    }
   ],
   "source": [
    "lst=list(a)\n",
    "print(lst,type(lst))"
   ]
  },
  {
   "cell_type": "code",
   "execution_count": 44,
   "id": "574b2853",
   "metadata": {},
   "outputs": [
    {
     "name": "stdout",
     "output_type": "stream",
     "text": [
      "(10, 20, 30, 40, 50, 10, 20, 30, 40, 50) <class 'tuple'>\n",
      "[10, 20, 30, 40, 50, 10, 20, 30, 40, 50] <class 'list'>\n"
     ]
    }
   ],
   "source": [
    "t=(10,20,30,40,50,10,20,30,40,50)\n",
    "print(t,type(t))\n",
    "\n",
    "lst=list(t)\n",
    "print(lst,type(lst))"
   ]
  },
  {
   "cell_type": "code",
   "execution_count": 47,
   "id": "0728f756",
   "metadata": {},
   "outputs": [
    {
     "name": "stdout",
     "output_type": "stream",
     "text": [
      "{1: 100, 2: 200, 3: 300, 4: 400} <class 'dict'>\n",
      "[1, 2, 3, 4] <class 'list'>\n",
      "[100, 200, 300, 400] <class 'list'>\n"
     ]
    }
   ],
   "source": [
    "d={1:100,2:200,3:300,4:400}\n",
    "print(d,type(d))\n",
    "\n",
    "lst=list(d)\n",
    "print(lst,type(lst))\n",
    "\n",
    "lst=list(d.values())\n",
    "print(lst,type(lst))"
   ]
  },
  {
   "cell_type": "code",
   "execution_count": 50,
   "id": "94d7c731",
   "metadata": {},
   "outputs": [
    {
     "name": "stdout",
     "output_type": "stream",
     "text": [
      "{'name': 'Aravind', 'Age': 26, 'Code': 111, 'City': 'Chennai'} <class 'dict'>\n",
      "['name', 'Age', 'Code', 'City'] <class 'list'>\n",
      "['Aravind', 26, 111, 'Chennai'] <class 'list'>\n"
     ]
    }
   ],
   "source": [
    "emp={'name':'Aravind','Age':26,'Code':111,'City':'Chennai'}\n",
    "print(emp,type(emp))\n",
    "\n",
    "lst=list(emp)\n",
    "print(lst,type(lst))\n",
    "\n",
    "vals=list(emp.values())\n",
    "print(vals,type(vals))"
   ]
  },
  {
   "cell_type": "code",
   "execution_count": 54,
   "id": "d3a39d62",
   "metadata": {},
   "outputs": [
    {
     "name": "stdout",
     "output_type": "stream",
     "text": [
      "{'a': 'abc', 'b': 'xyz'} <class 'dict'>\n",
      "['a', 'b']\n",
      "['abc', 'xyz']\n"
     ]
    }
   ],
   "source": [
    "d={'a':'abc','b':'xyz'}\n",
    "print(d,type(d))\n",
    "\n",
    "print(list(d))\n",
    "print(list(d.values()))"
   ]
  },
  {
   "cell_type": "code",
   "execution_count": 56,
   "id": "1632e3b7",
   "metadata": {},
   "outputs": [
    {
     "name": "stdout",
     "output_type": "stream",
     "text": [
      "{1, 2, 3, 4, 5} <class 'set'>\n",
      "[1, 2, 3, 4, 5] <class 'list'>\n"
     ]
    }
   ],
   "source": [
    "s={1,2,3,4,5}\n",
    "print(s,type(s))\n",
    "\n",
    "lst=list(s)\n",
    "print(lst,type(lst))"
   ]
  },
  {
   "cell_type": "code",
   "execution_count": 66,
   "id": "14481256",
   "metadata": {},
   "outputs": [
    {
     "name": "stdout",
     "output_type": "stream",
     "text": [
      "{True, 10, (1, 2, 3), 'Hello'}\n",
      "[True, 10, (1, 2, 3), 'Hello']\n"
     ]
    }
   ],
   "source": [
    "s={'Hello',True,(1,2,3),10}\n",
    "print(s)\n",
    "\n",
    "print(list(s))"
   ]
  },
  {
   "cell_type": "code",
   "execution_count": 58,
   "id": "f678c9d8",
   "metadata": {},
   "outputs": [
    {
     "name": "stdout",
     "output_type": "stream",
     "text": [
      "frozenset({True, 'Happy', 10, 20, 30}) <class 'frozenset'>\n",
      "[True, 'Happy', 10, 20, 30] <class 'list'>\n"
     ]
    }
   ],
   "source": [
    "f=frozenset([10,20,30,True,'Happy'])\n",
    "print(f,type(f))\n",
    "\n",
    "lst=list(f)\n",
    "print(lst,type(lst))"
   ]
  },
  {
   "cell_type": "code",
   "execution_count": 60,
   "id": "c42484dd",
   "metadata": {},
   "outputs": [
    {
     "name": "stdout",
     "output_type": "stream",
     "text": [
      "range(0, 10) <class 'range'>\n",
      "[0, 1, 2, 3, 4, 5, 6, 7, 8, 9] <class 'list'>\n"
     ]
    }
   ],
   "source": [
    "r=range(10)\n",
    "print(r,type(r))\n",
    "\n",
    "lst=list(r)\n",
    "print(lst,type(lst))"
   ]
  },
  {
   "cell_type": "code",
   "execution_count": 63,
   "id": "23059d3f",
   "metadata": {},
   "outputs": [
    {
     "name": "stdout",
     "output_type": "stream",
     "text": [
      "range(5, 11) <class 'range'>\n",
      "[5, 6, 7, 8, 9, 10]\n"
     ]
    }
   ],
   "source": [
    "r=range(5,11)\n",
    "print(r,type(r))\n",
    "\n",
    "print(list(r))"
   ]
  },
  {
   "cell_type": "code",
   "execution_count": 77,
   "id": "97b757cf",
   "metadata": {},
   "outputs": [
    {
     "name": "stdout",
     "output_type": "stream",
     "text": [
      "[0, 1, 2, 3, 4]\n",
      "{0, 1, 2, 3, 4}\n"
     ]
    }
   ],
   "source": [
    "print(list(range(5)))\n",
    "print(set(range(5)))\n",
    "# dict(range(5))"
   ]
  },
  {
   "cell_type": "markdown",
   "id": "d00e23db",
   "metadata": {},
   "source": [
    "# tuple()"
   ]
  },
  {
   "cell_type": "markdown",
   "id": "8df2a23d",
   "metadata": {},
   "source": [
    "- It returns a tuple.\n",
    "- It typecasts to a tuple."
   ]
  },
  {
   "cell_type": "code",
   "execution_count": 67,
   "id": "24a31b92",
   "metadata": {},
   "outputs": [],
   "source": [
    "# tuple(iterable)"
   ]
  },
  {
   "cell_type": "code",
   "execution_count": 68,
   "id": "9a4f90a5",
   "metadata": {},
   "outputs": [],
   "source": [
    "# Iterable- String, List, Tuple, Dictionary, Set, Frozenset, Range"
   ]
  },
  {
   "cell_type": "code",
   "execution_count": 78,
   "id": "dde6049b",
   "metadata": {},
   "outputs": [
    {
     "name": "stdout",
     "output_type": "stream",
     "text": [
      "Hello <class 'str'>\n"
     ]
    }
   ],
   "source": [
    "a='Hello'\n",
    "print(a,type(a))"
   ]
  },
  {
   "cell_type": "code",
   "execution_count": 80,
   "id": "70dabce9",
   "metadata": {},
   "outputs": [
    {
     "name": "stdout",
     "output_type": "stream",
     "text": [
      "('H', 'e', 'l', 'l', 'o') <class 'tuple'>\n"
     ]
    }
   ],
   "source": [
    "t=tuple(a)\n",
    "print(t,type(t))"
   ]
  },
  {
   "cell_type": "code",
   "execution_count": 81,
   "id": "e7a3b0f5",
   "metadata": {},
   "outputs": [
    {
     "name": "stdout",
     "output_type": "stream",
     "text": [
      "[True, False, 'Hello', 50, (10+20j), (1, 2, 3, 4, 5)] <class 'list'>\n"
     ]
    }
   ],
   "source": [
    "lst=[True, False, 'Hello',50,10+20j, (1,2,3,4,5)]\n",
    "print(lst,type(lst))"
   ]
  },
  {
   "cell_type": "code",
   "execution_count": 82,
   "id": "384fd90e",
   "metadata": {},
   "outputs": [
    {
     "name": "stdout",
     "output_type": "stream",
     "text": [
      "(True, False, 'Hello', 50, (10+20j), (1, 2, 3, 4, 5)) <class 'tuple'>\n"
     ]
    }
   ],
   "source": [
    "t=tuple(lst)\n",
    "print(t,type(t))"
   ]
  },
  {
   "cell_type": "code",
   "execution_count": 83,
   "id": "50c08623",
   "metadata": {},
   "outputs": [
    {
     "name": "stdout",
     "output_type": "stream",
     "text": [
      "{1: 100, 2: 200} <class 'dict'>\n"
     ]
    }
   ],
   "source": [
    "d={1:100,2:200}\n",
    "print(d,type(d))"
   ]
  },
  {
   "cell_type": "code",
   "execution_count": 85,
   "id": "e2c7c3ab",
   "metadata": {},
   "outputs": [
    {
     "name": "stdout",
     "output_type": "stream",
     "text": [
      "(1, 2) <class 'tuple'>\n",
      "(100, 200) <class 'tuple'>\n"
     ]
    }
   ],
   "source": [
    "t=tuple(d)\n",
    "print(t,type(t))\n",
    "\n",
    "t=tuple(d.values())\n",
    "print(t,type(t))"
   ]
  },
  {
   "cell_type": "code",
   "execution_count": 86,
   "id": "1e311c81",
   "metadata": {},
   "outputs": [
    {
     "name": "stdout",
     "output_type": "stream",
     "text": [
      "{(10+20j), True, 50, 'Hello'} <class 'set'>\n"
     ]
    }
   ],
   "source": [
    "s={True, 'Hello', 50, 10+20j}\n",
    "print(s,type(s))"
   ]
  },
  {
   "cell_type": "code",
   "execution_count": 88,
   "id": "86a54d97",
   "metadata": {},
   "outputs": [
    {
     "name": "stdout",
     "output_type": "stream",
     "text": [
      "((10+20j), True, 50, 'Hello') <class 'tuple'>\n"
     ]
    }
   ],
   "source": [
    "t=tuple(s)\n",
    "print(t,type(t))"
   ]
  },
  {
   "cell_type": "code",
   "execution_count": 89,
   "id": "e939d2b9",
   "metadata": {},
   "outputs": [
    {
     "name": "stdout",
     "output_type": "stream",
     "text": [
      "frozenset({70, 40, 10, 80, 50, 20, 60, 30}) <class 'frozenset'>\n"
     ]
    }
   ],
   "source": [
    "f=frozenset([10,20,30,40,50,60,70,80,10,50,70,30,20])\n",
    "print(f,type(f))"
   ]
  },
  {
   "cell_type": "code",
   "execution_count": 90,
   "id": "9f0b48c5",
   "metadata": {},
   "outputs": [
    {
     "name": "stdout",
     "output_type": "stream",
     "text": [
      "(70, 40, 10, 80, 50, 20, 60, 30) <class 'tuple'>\n"
     ]
    }
   ],
   "source": [
    "t=tuple(f)\n",
    "print(t,type(t))"
   ]
  },
  {
   "cell_type": "code",
   "execution_count": 92,
   "id": "fea38235",
   "metadata": {},
   "outputs": [
    {
     "name": "stdout",
     "output_type": "stream",
     "text": [
      "range(0, 5) <class 'range'>\n",
      "(0, 1, 2, 3, 4) <class 'tuple'>\n"
     ]
    }
   ],
   "source": [
    "r=range(5)\n",
    "print(r,type(r))\n",
    "\n",
    "t=tuple(r)\n",
    "print(t,type(t))"
   ]
  },
  {
   "cell_type": "markdown",
   "id": "ce113583",
   "metadata": {},
   "source": [
    "# frozenset()\n",
    "- It returns a frozenset.\n",
    "- It typecasts to a a frozenset"
   ]
  },
  {
   "cell_type": "code",
   "execution_count": 93,
   "id": "ac795dbb",
   "metadata": {},
   "outputs": [],
   "source": [
    "# frozenset(Iterable)"
   ]
  },
  {
   "cell_type": "code",
   "execution_count": 97,
   "id": "78bffd8b",
   "metadata": {},
   "outputs": [
    {
     "name": "stdout",
     "output_type": "stream",
     "text": [
      "Hellollllll <class 'str'>\n"
     ]
    }
   ],
   "source": [
    "a='Hellollllll'\n",
    "print(a,type(a))"
   ]
  },
  {
   "cell_type": "code",
   "execution_count": 98,
   "id": "8883c5fd",
   "metadata": {},
   "outputs": [
    {
     "name": "stdout",
     "output_type": "stream",
     "text": [
      "frozenset({'e', 'o', 'H', 'l'}) <class 'frozenset'>\n"
     ]
    }
   ],
   "source": [
    "f=frozenset(a)\n",
    "print(f,type(f))"
   ]
  },
  {
   "cell_type": "code",
   "execution_count": 99,
   "id": "4da636f6",
   "metadata": {},
   "outputs": [
    {
     "name": "stdout",
     "output_type": "stream",
     "text": [
      "[1, 3, 5, 5, 4, 7, 8, 9, 5, 4, 6] <class 'list'>\n"
     ]
    }
   ],
   "source": [
    "lst=[1,3,5,5,4,7,8,9,5,4,6]\n",
    "print(lst,type(lst))"
   ]
  },
  {
   "cell_type": "code",
   "execution_count": 101,
   "id": "983ec7f5",
   "metadata": {},
   "outputs": [
    {
     "name": "stdout",
     "output_type": "stream",
     "text": [
      "frozenset({1, 3, 4, 5, 6, 7, 8, 9}) <class 'frozenset'>\n"
     ]
    }
   ],
   "source": [
    "f=frozenset(lst)\n",
    "print(f,type(f))"
   ]
  },
  {
   "cell_type": "code",
   "execution_count": 106,
   "id": "c56281cd",
   "metadata": {},
   "outputs": [
    {
     "name": "stdout",
     "output_type": "stream",
     "text": [
      "(True, 'Python', 10) <class 'tuple'>\n"
     ]
    }
   ],
   "source": [
    "t=(True, 'Python',10)\n",
    "print(t,type(t))"
   ]
  },
  {
   "cell_type": "code",
   "execution_count": 109,
   "id": "21c8fbb3",
   "metadata": {},
   "outputs": [
    {
     "name": "stdout",
     "output_type": "stream",
     "text": [
      "frozenset({True, 10, 'Python'}) <class 'frozenset'>\n"
     ]
    }
   ],
   "source": [
    "f=frozenset(t)\n",
    "print(f,type(f))"
   ]
  },
  {
   "cell_type": "code",
   "execution_count": 110,
   "id": "5b96af6c",
   "metadata": {},
   "outputs": [
    {
     "name": "stdout",
     "output_type": "stream",
     "text": [
      "{1, 2, 3, 4, 5, 6, 7, 8} <class 'set'>\n"
     ]
    }
   ],
   "source": [
    "s={1,2,3,4,5,6,7,8,4,5,6,1,2,3,5}\n",
    "print(s,type(s))"
   ]
  },
  {
   "cell_type": "code",
   "execution_count": 112,
   "id": "e618469c",
   "metadata": {},
   "outputs": [
    {
     "name": "stdout",
     "output_type": "stream",
     "text": [
      "frozenset({1, 2, 3, 4, 5, 6, 7, 8}) <class 'frozenset'>\n"
     ]
    }
   ],
   "source": [
    "f=frozenset(s)\n",
    "print(f,type(f))"
   ]
  },
  {
   "cell_type": "code",
   "execution_count": 113,
   "id": "84becce6",
   "metadata": {},
   "outputs": [
    {
     "name": "stdout",
     "output_type": "stream",
     "text": [
      "{1: 100, 2: 200, 3: 300, 4: 400} <class 'dict'>\n"
     ]
    }
   ],
   "source": [
    "d={1:100,2:200,3:300,4:400}\n",
    "print(d,type(d))"
   ]
  },
  {
   "cell_type": "code",
   "execution_count": 114,
   "id": "cefa28de",
   "metadata": {},
   "outputs": [
    {
     "name": "stdout",
     "output_type": "stream",
     "text": [
      "frozenset({1, 2, 3, 4}) <class 'frozenset'>\n"
     ]
    }
   ],
   "source": [
    "f=frozenset(d)\n",
    "print(f,type(f))"
   ]
  },
  {
   "cell_type": "code",
   "execution_count": 116,
   "id": "434df4ed",
   "metadata": {},
   "outputs": [
    {
     "name": "stdout",
     "output_type": "stream",
     "text": [
      "frozenset({200, 100, 400, 300}) <class 'frozenset'>\n"
     ]
    }
   ],
   "source": [
    "f=frozenset(d.values())\n",
    "print(f,type(f))"
   ]
  },
  {
   "cell_type": "code",
   "execution_count": 117,
   "id": "6eb21fe8",
   "metadata": {},
   "outputs": [
    {
     "name": "stdout",
     "output_type": "stream",
     "text": [
      "{1: 100, 2: 100, 3: 100, 4: 100} <class 'dict'>\n"
     ]
    }
   ],
   "source": [
    "d={1:100,2:100,3:100,4:100}\n",
    "print(d,type(d))"
   ]
  },
  {
   "cell_type": "code",
   "execution_count": 118,
   "id": "77139bc0",
   "metadata": {},
   "outputs": [
    {
     "name": "stdout",
     "output_type": "stream",
     "text": [
      "frozenset({1, 2, 3, 4}) <class 'frozenset'>\n"
     ]
    }
   ],
   "source": [
    "f=frozenset(d)\n",
    "print(f,type(f))"
   ]
  },
  {
   "cell_type": "code",
   "execution_count": 119,
   "id": "5bd3ebfb",
   "metadata": {},
   "outputs": [
    {
     "name": "stdout",
     "output_type": "stream",
     "text": [
      "frozenset({100}) <class 'frozenset'>\n"
     ]
    }
   ],
   "source": [
    "f=frozenset(d.values())\n",
    "print(f,type(f))"
   ]
  },
  {
   "cell_type": "code",
   "execution_count": 120,
   "id": "8f118d5d",
   "metadata": {},
   "outputs": [
    {
     "name": "stdout",
     "output_type": "stream",
     "text": [
      "range(1, 6) <class 'range'>\n"
     ]
    }
   ],
   "source": [
    "r=range(1,6)\n",
    "print(r,type(r))"
   ]
  },
  {
   "cell_type": "code",
   "execution_count": 121,
   "id": "0fa435bb",
   "metadata": {},
   "outputs": [
    {
     "name": "stdout",
     "output_type": "stream",
     "text": [
      "frozenset({1, 2, 3, 4, 5}) <class 'frozenset'>\n"
     ]
    }
   ],
   "source": [
    "f=frozenset(r)\n",
    "print(f,type(f))"
   ]
  },
  {
   "cell_type": "markdown",
   "id": "a846a199",
   "metadata": {},
   "source": [
    "# Input and Output functions"
   ]
  },
  {
   "cell_type": "markdown",
   "id": "c50d909b",
   "metadata": {},
   "source": [
    "- Input functions are used to take the input from the user at run time.\n",
    "- Output functions are used to print the output on the output area (console)"
   ]
  },
  {
   "cell_type": "code",
   "execution_count": 125,
   "id": "3eb5387e",
   "metadata": {},
   "outputs": [
    {
     "name": "stdout",
     "output_type": "stream",
     "text": [
      "150\n"
     ]
    }
   ],
   "source": [
    "a=80\n",
    "b=70\n",
    "\n",
    "c=a+b\n",
    "print(c)"
   ]
  },
  {
   "cell_type": "markdown",
   "id": "ea918e3d",
   "metadata": {},
   "source": [
    "# input()"
   ]
  },
  {
   "cell_type": "markdown",
   "id": "7db650c5",
   "metadata": {},
   "source": [
    "- input() is used to take the input from the user at run time.\n",
    "- input() always returns a string value."
   ]
  },
  {
   "cell_type": "code",
   "execution_count": 126,
   "id": "a2f17e4e",
   "metadata": {},
   "outputs": [],
   "source": [
    "# input('message')"
   ]
  },
  {
   "cell_type": "code",
   "execution_count": 127,
   "id": "78374859",
   "metadata": {},
   "outputs": [
    {
     "name": "stdout",
     "output_type": "stream",
     "text": [
      "Enter a number- 10\n",
      "10 <class 'str'>\n"
     ]
    }
   ],
   "source": [
    "a=input('Enter a number- ')\n",
    "print(a,type(a))"
   ]
  },
  {
   "cell_type": "code",
   "execution_count": 128,
   "id": "5080ef6a",
   "metadata": {},
   "outputs": [
    {
     "data": {
      "text/plain": [
       "'10'"
      ]
     },
     "execution_count": 128,
     "metadata": {},
     "output_type": "execute_result"
    }
   ],
   "source": [
    "a"
   ]
  },
  {
   "cell_type": "code",
   "execution_count": 129,
   "id": "9ac21733",
   "metadata": {},
   "outputs": [
    {
     "name": "stdout",
     "output_type": "stream",
     "text": [
      "Enter a number- 10\n",
      "Enter a number again- 20\n",
      "1020\n"
     ]
    }
   ],
   "source": [
    "a=input('Enter a number- ')\n",
    "b=input('Enter a number again- ')\n",
    "\n",
    "c=a+b\n",
    "print(c)"
   ]
  },
  {
   "cell_type": "code",
   "execution_count": 130,
   "id": "0cc98fb4",
   "metadata": {},
   "outputs": [
    {
     "data": {
      "text/plain": [
       "'1020'"
      ]
     },
     "execution_count": 130,
     "metadata": {},
     "output_type": "execute_result"
    }
   ],
   "source": [
    "'10'+'20'"
   ]
  },
  {
   "cell_type": "code",
   "execution_count": 132,
   "id": "cbf30222",
   "metadata": {},
   "outputs": [
    {
     "name": "stdout",
     "output_type": "stream",
     "text": [
      "Enter a number- 5\n",
      "Enter a number again- 3\n",
      "8\n",
      "-2\n"
     ]
    }
   ],
   "source": [
    "a=input('Enter a number- ')\n",
    "b=input('Enter a number again- ')\n",
    "\n",
    "c=int(a)+int(b)\n",
    "print(c)\n",
    "\n",
    "d=int(b)-int(a)\n",
    "print(d)"
   ]
  },
  {
   "cell_type": "code",
   "execution_count": 133,
   "id": "e18b90c1",
   "metadata": {},
   "outputs": [
    {
     "name": "stdout",
     "output_type": "stream",
     "text": [
      "Enter a number- 5\n",
      "5 <class 'int'>\n"
     ]
    }
   ],
   "source": [
    "a=int(input('Enter a number- '))\n",
    "print(a,type(a))"
   ]
  },
  {
   "cell_type": "code",
   "execution_count": 1,
   "id": "133ffea4",
   "metadata": {},
   "outputs": [
    {
     "name": "stdout",
     "output_type": "stream",
     "text": [
      "Enter a number- 6\n",
      "Enter a number again- 4\n",
      "10\n"
     ]
    }
   ],
   "source": [
    "a=int(input('Enter a number- '))\n",
    "b=int(input('Enter a number again- '))\n",
    "\n",
    "c=a+b\n",
    "print(c)"
   ]
  },
  {
   "cell_type": "markdown",
   "id": "217a599f",
   "metadata": {},
   "source": [
    "# print()"
   ]
  },
  {
   "cell_type": "markdown",
   "id": "84338f91",
   "metadata": {},
   "source": [
    "- print() is an output function in Python\n",
    "- print() prints the output on the output area (console)"
   ]
  },
  {
   "cell_type": "code",
   "execution_count": 3,
   "id": "37d47a9f",
   "metadata": {},
   "outputs": [],
   "source": [
    "# print('message')- print the message\n",
    "# print(variable)- print the value of the varaible"
   ]
  },
  {
   "cell_type": "code",
   "execution_count": 4,
   "id": "8c46dd89",
   "metadata": {},
   "outputs": [
    {
     "name": "stdout",
     "output_type": "stream",
     "text": [
      "Hello\n"
     ]
    }
   ],
   "source": [
    "# print Hello in the output area\n",
    "\n",
    "print('Hello')"
   ]
  },
  {
   "cell_type": "code",
   "execution_count": 8,
   "id": "19332194",
   "metadata": {},
   "outputs": [
    {
     "name": "stdout",
     "output_type": "stream",
     "text": [
      "a\n",
      "10\n"
     ]
    }
   ],
   "source": [
    "a=10\n",
    "# print the value of a in the output area\n",
    "\n",
    "print('a')\n",
    "print(a)"
   ]
  },
  {
   "cell_type": "code",
   "execution_count": 10,
   "id": "ed1223a6",
   "metadata": {},
   "outputs": [
    {
     "name": "stdout",
     "output_type": "stream",
     "text": [
      "20 10 30 10\n"
     ]
    }
   ],
   "source": [
    "a=20\n",
    "b=10\n",
    "c=a+b\n",
    "d=a-b\n",
    "\n",
    "print(a,b,c,d)"
   ]
  },
  {
   "cell_type": "code",
   "execution_count": 8,
   "id": "4d85747f",
   "metadata": {},
   "outputs": [
    {
     "name": "stdout",
     "output_type": "stream",
     "text": [
      "10\n",
      "20\n",
      "30\n",
      "-10\n"
     ]
    }
   ],
   "source": [
    "a=10\n",
    "b=20\n",
    "c=a+b\n",
    "d=a-b\n",
    "\n",
    "print(a,b,c,d,sep='\\n')"
   ]
  },
  {
   "cell_type": "code",
   "execution_count": 2,
   "id": "0c3fc92d",
   "metadata": {},
   "outputs": [],
   "source": [
    "# input('Enter a number')"
   ]
  },
  {
   "cell_type": "code",
   "execution_count": 1,
   "id": "d0390de5",
   "metadata": {},
   "outputs": [
    {
     "name": "stdout",
     "output_type": "stream",
     "text": [
      "Hello\n"
     ]
    }
   ],
   "source": [
    "print('Hello')"
   ]
  },
  {
   "cell_type": "code",
   "execution_count": 21,
   "id": "5842057e",
   "metadata": {},
   "outputs": [
    {
     "name": "stdout",
     "output_type": "stream",
     "text": [
      "20*10*30*10\n"
     ]
    }
   ],
   "source": [
    "a=20\n",
    "b=10\n",
    "c=a+b\n",
    "d=a-b\n",
    "\n",
    "print(a,end='*')\n",
    "print(b,end='*')\n",
    "print(c,end='*')\n",
    "print(d)"
   ]
  },
  {
   "cell_type": "code",
   "execution_count": 32,
   "id": "749b6ef2",
   "metadata": {},
   "outputs": [
    {
     "name": "stdout",
     "output_type": "stream",
     "text": [
      "The result is  300\n"
     ]
    }
   ],
   "source": [
    "a=200\n",
    "b=100\n",
    "c=a+b\n",
    "\n",
    "# Output- The result is 30\n",
    "\n",
    "print('The result is ',c)"
   ]
  },
  {
   "cell_type": "code",
   "execution_count": 35,
   "id": "0ccee178",
   "metadata": {},
   "outputs": [
    {
     "name": "stdout",
     "output_type": "stream",
     "text": [
      "The addidtion of 10 and 20 is 30\n"
     ]
    }
   ],
   "source": [
    "a=10\n",
    "b=20\n",
    "c=a+b\n",
    "\n",
    "# Output- The addition of 10 and 20 is 30 \n",
    "\n",
    "print(f'The addidtion of {a} and {b} is {c}')"
   ]
  },
  {
   "cell_type": "code",
   "execution_count": 39,
   "id": "d0875779",
   "metadata": {},
   "outputs": [
    {
     "name": "stdout",
     "output_type": "stream",
     "text": [
      "The addition of 50 and 30 is 80\n"
     ]
    }
   ],
   "source": [
    "a=50\n",
    "b=30\n",
    "c=a+b\n",
    "print(f'The addition of {a} and {b} is {c}')"
   ]
  },
  {
   "cell_type": "code",
   "execution_count": 42,
   "id": "930f0988",
   "metadata": {},
   "outputs": [
    {
     "name": "stdout",
     "output_type": "stream",
     "text": [
      "The addition of a and b is c 80\n"
     ]
    }
   ],
   "source": [
    "print('The addition of a and b is c',c)"
   ]
  },
  {
   "cell_type": "code",
   "execution_count": 41,
   "id": "b11764c6",
   "metadata": {},
   "outputs": [
    {
     "name": "stdout",
     "output_type": "stream",
     "text": [
      "The addition of 50 and 30 is 80\n"
     ]
    }
   ],
   "source": [
    "print('The addition of {} and {} is {}'.format(a,b,c))"
   ]
  },
  {
   "cell_type": "markdown",
   "id": "3e6defa3",
   "metadata": {},
   "source": [
    "# Keywords in Python"
   ]
  },
  {
   "cell_type": "markdown",
   "id": "b0bd824c",
   "metadata": {},
   "source": [
    "- Keywords are the reserved words in Python.\n",
    "- These are already defined in Python and they carry some meaning.\n",
    "- The keywords are used to perform some specific task.\n",
    "- Keywords should not be used as variables.\n",
    "- Usually the Pytthon keywords are printed in green colour."
   ]
  },
  {
   "cell_type": "code",
   "execution_count": 43,
   "id": "43d491a8",
   "metadata": {},
   "outputs": [],
   "source": [
    "# True, print(), int(), input(), if, from, with, import etc."
   ]
  },
  {
   "cell_type": "code",
   "execution_count": 44,
   "id": "324fbafe",
   "metadata": {},
   "outputs": [],
   "source": [
    "import keyword"
   ]
  },
  {
   "cell_type": "code",
   "execution_count": 46,
   "id": "b07c5cc6",
   "metadata": {},
   "outputs": [
    {
     "name": "stdout",
     "output_type": "stream",
     "text": [
      "['False', 'None', 'True', '__peg_parser__', 'and', 'as', 'assert', 'async', 'await', 'break', 'class', 'continue', 'def', 'del', 'elif', 'else', 'except', 'finally', 'for', 'from', 'global', 'if', 'import', 'in', 'is', 'lambda', 'nonlocal', 'not', 'or', 'pass', 'raise', 'return', 'try', 'while', 'with', 'yield']\n"
     ]
    }
   ],
   "source": [
    "print(keyword.kwlist)"
   ]
  },
  {
   "cell_type": "code",
   "execution_count": 50,
   "id": "ef9bef4f",
   "metadata": {},
   "outputs": [],
   "source": [
    "# if=5"
   ]
  },
  {
   "cell_type": "code",
   "execution_count": 49,
   "id": "4fbea5c3",
   "metadata": {},
   "outputs": [],
   "source": [
    "# True=5"
   ]
  },
  {
   "cell_type": "markdown",
   "id": "b1c48d4a",
   "metadata": {},
   "source": [
    "# Comments in Python\n",
    "- If we don't want a piece of code to be executed then we can comment that code.\n",
    "- The code that we have commented will not get executed."
   ]
  },
  {
   "cell_type": "code",
   "execution_count": null,
   "id": "725c4017",
   "metadata": {},
   "outputs": [],
   "source": [
    "# ctrl+/ is to comment a line"
   ]
  },
  {
   "cell_type": "code",
   "execution_count": 64,
   "id": "bffb0eb9",
   "metadata": {},
   "outputs": [
    {
     "name": "stdout",
     "output_type": "stream",
     "text": [
      "10\n",
      "20\n",
      "30\n",
      "10\n",
      "200\n",
      "0.5\n"
     ]
    }
   ],
   "source": [
    "a=10\n",
    "b=20\n",
    "c=a+b\n",
    "d=b-a\n",
    "e=a*b\n",
    "f=a/b\n",
    "print(a)\n",
    "print(b)\n",
    "print(c)\n",
    "print(d)\n",
    "print(e)\n",
    "print(f)"
   ]
  },
  {
   "cell_type": "code",
   "execution_count": 69,
   "id": "7776b0a1",
   "metadata": {},
   "outputs": [
    {
     "name": "stdout",
     "output_type": "stream",
     "text": [
      "Hello\n",
      "Python\n",
      "Data Science\n",
      "Thanks\n"
     ]
    }
   ],
   "source": [
    "print('Hello')\n",
    "print('Python')\n",
    "print('Data Science')\n",
    "print('Thanks')"
   ]
  },
  {
   "cell_type": "code",
   "execution_count": 70,
   "id": "8a2f056b",
   "metadata": {},
   "outputs": [
    {
     "data": {
      "text/plain": [
       "frozenset({' ', 'H', 'd', 'e', 'l', 'o', 'r', 'w'})"
      ]
     },
     "execution_count": 70,
     "metadata": {},
     "output_type": "execute_result"
    }
   ],
   "source": [
    "frozenset('Hello world')"
   ]
  },
  {
   "cell_type": "markdown",
   "id": "9fedb2f4",
   "metadata": {},
   "source": [
    "# Operators"
   ]
  },
  {
   "cell_type": "code",
   "execution_count": 71,
   "id": "4f7907cd",
   "metadata": {},
   "outputs": [],
   "source": [
    "# - Operators are used to perform different kind of operations on different kind of values"
   ]
  },
  {
   "cell_type": "code",
   "execution_count": 73,
   "id": "8951c831",
   "metadata": {},
   "outputs": [],
   "source": [
    "# Arithmetic operators\n",
    "# Logical Operartos\n",
    "# Comparison Operators\n",
    "# Equality Operators\n",
    "# Assignment Operator\n",
    "# Membership Operators\n",
    "# Identity Operators\n",
    "# Bitwise Operators\n",
    "# Ternary Operator"
   ]
  },
  {
   "cell_type": "markdown",
   "id": "7102e492",
   "metadata": {},
   "source": [
    "# 1- Arithmetic Operators"
   ]
  },
  {
   "cell_type": "markdown",
   "id": "f9549347",
   "metadata": {},
   "source": [
    "- Arithmetic operators are used to perform arithmetic operation"
   ]
  },
  {
   "cell_type": "code",
   "execution_count": 86,
   "id": "ed91d2e0",
   "metadata": {},
   "outputs": [],
   "source": [
    "# + addition\n",
    "# - substraction\n",
    "# * multiplication\n",
    "# / float dibision (The result will be in decimal)\n",
    "# // floor division (The result will be without decinal. )\n",
    "# % modulo (It returns the remainder value after the floor divison)\n",
    "# ** exponent (It is used to get the power)"
   ]
  },
  {
   "cell_type": "code",
   "execution_count": 76,
   "id": "80869c05",
   "metadata": {},
   "outputs": [
    {
     "name": "stdout",
     "output_type": "stream",
     "text": [
      "8\n"
     ]
    }
   ],
   "source": [
    "a=5\n",
    "b=3\n",
    "c=a+b\n",
    "print(c)"
   ]
  },
  {
   "cell_type": "code",
   "execution_count": 77,
   "id": "ecd6a11c",
   "metadata": {},
   "outputs": [
    {
     "name": "stdout",
     "output_type": "stream",
     "text": [
      "2\n"
     ]
    }
   ],
   "source": [
    "a=5\n",
    "b=3\n",
    "print(a-b)"
   ]
  },
  {
   "cell_type": "code",
   "execution_count": 78,
   "id": "1159fbdc",
   "metadata": {},
   "outputs": [
    {
     "name": "stdout",
     "output_type": "stream",
     "text": [
      "15\n"
     ]
    }
   ],
   "source": [
    "a=5\n",
    "b=3\n",
    "print(a*b)"
   ]
  },
  {
   "cell_type": "code",
   "execution_count": 84,
   "id": "513da9c7",
   "metadata": {},
   "outputs": [
    {
     "name": "stdout",
     "output_type": "stream",
     "text": [
      "2.5\n",
      "2\n",
      "1\n"
     ]
    }
   ],
   "source": [
    "a=5\n",
    "b=2\n",
    "\n",
    "print(a/b) # float division\n",
    "print(a//b) # floor division\n",
    "print(a%b) # Remainder value"
   ]
  },
  {
   "cell_type": "code",
   "execution_count": 87,
   "id": "9a3b99ae",
   "metadata": {},
   "outputs": [
    {
     "name": "stdout",
     "output_type": "stream",
     "text": [
      "25\n"
     ]
    }
   ],
   "source": [
    "a=5\n",
    "b=2\n",
    "\n",
    "print(a**b) # (a raise to the power b)"
   ]
  },
  {
   "cell_type": "code",
   "execution_count": 91,
   "id": "a4dcf941",
   "metadata": {},
   "outputs": [
    {
     "name": "stdout",
     "output_type": "stream",
     "text": [
      "100\n",
      "216\n"
     ]
    }
   ],
   "source": [
    "print(10**2)\n",
    "print(6**3)"
   ]
  },
  {
   "cell_type": "code",
   "execution_count": 93,
   "id": "68bc46c4",
   "metadata": {},
   "outputs": [
    {
     "name": "stdout",
     "output_type": "stream",
     "text": [
      "216\n"
     ]
    }
   ],
   "source": [
    "print(6*6*6)"
   ]
  },
  {
   "cell_type": "code",
   "execution_count": 94,
   "id": "ef6a8222",
   "metadata": {},
   "outputs": [],
   "source": [
    "# age column- 28\n",
    "# ratings- 4.2"
   ]
  },
  {
   "cell_type": "code",
   "execution_count": 95,
   "id": "da55c122",
   "metadata": {},
   "outputs": [],
   "source": [
    "# floor\n",
    "# ceil \n",
    "# round"
   ]
  },
  {
   "cell_type": "code",
   "execution_count": 96,
   "id": "19e79925",
   "metadata": {},
   "outputs": [],
   "source": [
    "import math"
   ]
  },
  {
   "cell_type": "code",
   "execution_count": 99,
   "id": "dab1171b",
   "metadata": {},
   "outputs": [],
   "source": [
    "# floor- Minimum possible value between two whole numbers\n",
    "# ceil- Maximum possible value between two whole numbers"
   ]
  },
  {
   "cell_type": "code",
   "execution_count": 103,
   "id": "ca10c3e1",
   "metadata": {},
   "outputs": [
    {
     "name": "stdout",
     "output_type": "stream",
     "text": [
      "2.888888 <class 'float'>\n",
      "2\n",
      "3\n"
     ]
    }
   ],
   "source": [
    "a=2.888888\n",
    "print(a,type(a))\n",
    "print(math.floor(a))\n",
    "print(math.ceil(a))"
   ]
  },
  {
   "cell_type": "code",
   "execution_count": 105,
   "id": "81646254",
   "metadata": {},
   "outputs": [
    {
     "name": "stdout",
     "output_type": "stream",
     "text": [
      "2\n"
     ]
    }
   ],
   "source": [
    "print(int(a))"
   ]
  },
  {
   "cell_type": "code",
   "execution_count": 113,
   "id": "44693966",
   "metadata": {},
   "outputs": [
    {
     "name": "stdout",
     "output_type": "stream",
     "text": [
      "3\n",
      "2\n"
     ]
    }
   ],
   "source": [
    "a=2.88888\n",
    "print(round(a))\n",
    "\n",
    "a=2.2222\n",
    "print(round(a))"
   ]
  },
  {
   "cell_type": "code",
   "execution_count": null,
   "id": "45202833",
   "metadata": {},
   "outputs": [],
   "source": []
  }
 ],
 "metadata": {
  "kernelspec": {
   "display_name": "Python 3 (ipykernel)",
   "language": "python",
   "name": "python3"
  },
  "language_info": {
   "codemirror_mode": {
    "name": "ipython",
    "version": 3
   },
   "file_extension": ".py",
   "mimetype": "text/x-python",
   "name": "python",
   "nbconvert_exporter": "python",
   "pygments_lexer": "ipython3",
   "version": "3.9.13"
  }
 },
 "nbformat": 4,
 "nbformat_minor": 5
}
