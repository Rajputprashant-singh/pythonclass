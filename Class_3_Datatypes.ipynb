{
 "cells": [
  {
   "cell_type": "markdown",
   "id": "0430b01e",
   "metadata": {},
   "source": [
    "# NoneType"
   ]
  },
  {
   "cell_type": "markdown",
   "id": "9c219a20",
   "metadata": {},
   "source": [
    "- None is the Nonetype.\n",
    "- None is used to represent the missing values or null values in Python."
   ]
  },
  {
   "cell_type": "code",
   "execution_count": 36,
   "id": "09412522",
   "metadata": {},
   "outputs": [
    {
     "name": "stdout",
     "output_type": "stream",
     "text": [
      "None <class 'NoneType'>\n"
     ]
    }
   ],
   "source": [
    "a=None\n",
    "print(a,type(a))"
   ]
  },
  {
   "cell_type": "code",
   "execution_count": 37,
   "id": "21cbd845",
   "metadata": {},
   "outputs": [],
   "source": [
    "name='Sumit'\n",
    "age=25\n",
    "city=None"
   ]
  },
  {
   "cell_type": "code",
   "execution_count": 38,
   "id": "c343d67b",
   "metadata": {},
   "outputs": [
    {
     "name": "stdout",
     "output_type": "stream",
     "text": [
      "Sumit\n",
      "25\n",
      "None\n"
     ]
    }
   ],
   "source": [
    "print(name)\n",
    "print(age)\n",
    "print(city)"
   ]
  },
  {
   "cell_type": "markdown",
   "id": "c0c82470",
   "metadata": {},
   "source": [
    "# Derived Datatypes"
   ]
  },
  {
   "cell_type": "markdown",
   "id": "3efd27cc",
   "metadata": {},
   "source": [
    "- These are container types that are used to contain multiple elements"
   ]
  },
  {
   "cell_type": "code",
   "execution_count": 39,
   "id": "a8af5de4",
   "metadata": {},
   "outputs": [
    {
     "name": "stdout",
     "output_type": "stream",
     "text": [
      "0\n"
     ]
    }
   ],
   "source": [
    "a=10\n",
    "a=20\n",
    "a=0\n",
    "print(a)"
   ]
  },
  {
   "cell_type": "code",
   "execution_count": 40,
   "id": "494fbe77",
   "metadata": {},
   "outputs": [
    {
     "name": "stdout",
     "output_type": "stream",
     "text": [
      "0\n"
     ]
    }
   ],
   "source": [
    "print(a)"
   ]
  },
  {
   "cell_type": "code",
   "execution_count": 41,
   "id": "f07aa958",
   "metadata": {},
   "outputs": [],
   "source": [
    "a=6"
   ]
  },
  {
   "cell_type": "code",
   "execution_count": 42,
   "id": "c36811db",
   "metadata": {},
   "outputs": [
    {
     "name": "stdout",
     "output_type": "stream",
     "text": [
      "6\n"
     ]
    }
   ],
   "source": [
    "print(a)"
   ]
  },
  {
   "cell_type": "markdown",
   "id": "675eec41",
   "metadata": {},
   "source": [
    "# List"
   ]
  },
  {
   "cell_type": "code",
   "execution_count": 43,
   "id": "aeeb29a7",
   "metadata": {},
   "outputs": [],
   "source": [
    "# Anything inside the [] is a list.\n",
    "# A list is a container type that can contain multiple elements.\n",
    "# Each element in a list is seperated by a comma (,)\n",
    "# A list can contain heterogenous (different type) elements\n",
    "# A list can contain duplicate elements too."
   ]
  },
  {
   "cell_type": "code",
   "execution_count": 44,
   "id": "626a8e5c",
   "metadata": {},
   "outputs": [
    {
     "name": "stdout",
     "output_type": "stream",
     "text": [
      "[10, 20, 30, 40, 50] <class 'list'>\n"
     ]
    }
   ],
   "source": [
    "a=[10,20,30,40,50]\n",
    "print(a,type(a))"
   ]
  },
  {
   "cell_type": "code",
   "execution_count": 45,
   "id": "d0292041",
   "metadata": {},
   "outputs": [
    {
     "name": "stdout",
     "output_type": "stream",
     "text": [
      "[True, 10, 2.5, (5+5j), 'Python', -20] <class 'list'>\n"
     ]
    }
   ],
   "source": [
    "a=[True, 10, 2.5, 5+5j, 'Python', -20]\n",
    "print(a,type(a))"
   ]
  },
  {
   "cell_type": "code",
   "execution_count": 46,
   "id": "76ba449e",
   "metadata": {},
   "outputs": [
    {
     "name": "stdout",
     "output_type": "stream",
     "text": [
      "[1, 1, 1, 12, 2, 22, 2, 2, 2, 5, 5, 5, 5, 5, 1, 2, 3, 4, 4, 5, 2] <class 'list'>\n"
     ]
    }
   ],
   "source": [
    "a=[1,1,1,12,2,22,2,2,2,5,5,5,5,5,1,2,3,4,4,5,2]\n",
    "print(a,type(a))"
   ]
  },
  {
   "cell_type": "markdown",
   "id": "d6b48c18",
   "metadata": {},
   "source": [
    "# Tuple"
   ]
  },
  {
   "cell_type": "code",
   "execution_count": 47,
   "id": "30e28c6f",
   "metadata": {},
   "outputs": [],
   "source": [
    "# - Anything inside the () is a tuple.\n",
    "# - A tuple is a container type that can contain multiple elements.\n",
    "# - Each element inside a tuple is seperated by a comma (,)\n",
    "# - A tuple can contain heterogenous (different types) elements.\n",
    "# - A tuple can contain duplicate elements too."
   ]
  },
  {
   "cell_type": "code",
   "execution_count": 48,
   "id": "a37b1eb1",
   "metadata": {},
   "outputs": [
    {
     "name": "stdout",
     "output_type": "stream",
     "text": [
      "(10, 20, 30, 40, 50) <class 'tuple'>\n"
     ]
    }
   ],
   "source": [
    "a=(10,20,30,40,50)\n",
    "print(a,type(a))"
   ]
  },
  {
   "cell_type": "code",
   "execution_count": 49,
   "id": "3dd9ac05",
   "metadata": {},
   "outputs": [
    {
     "name": "stdout",
     "output_type": "stream",
     "text": [
      "('Python', True, False, None, 10, 5.6, (5+5j)) <class 'tuple'>\n"
     ]
    }
   ],
   "source": [
    "a=('Python',True, False,None, 10, 5.6, 5+5j)\n",
    "print(a,type(a))"
   ]
  },
  {
   "cell_type": "code",
   "execution_count": 50,
   "id": "e478a572",
   "metadata": {},
   "outputs": [
    {
     "name": "stdout",
     "output_type": "stream",
     "text": [
      "(1, 1, 1, 11, 1, 2, 2, 2, 2, 4, 4, 5, 5, 1, 4, 4, 5, 6) <class 'tuple'>\n"
     ]
    }
   ],
   "source": [
    "a=(1,1,1,11,1,2,2,2,2,4,4,5,5,1,4,4,5,6)\n",
    "print(a,type(a))"
   ]
  },
  {
   "cell_type": "markdown",
   "id": "26a0e30b",
   "metadata": {},
   "source": [
    "# List vs Tuple"
   ]
  },
  {
   "cell_type": "code",
   "execution_count": 51,
   "id": "fe2cc105",
   "metadata": {},
   "outputs": [],
   "source": [
    "# - A list is mutable whereas a tuple is immutable "
   ]
  },
  {
   "cell_type": "code",
   "execution_count": 52,
   "id": "e6940408",
   "metadata": {},
   "outputs": [],
   "source": [
    "# Mutability- We can modify the elemements after definition\n",
    "# Immutability- We can not modify the elements after definition"
   ]
  },
  {
   "cell_type": "code",
   "execution_count": 53,
   "id": "76f0a3c6",
   "metadata": {},
   "outputs": [
    {
     "name": "stdout",
     "output_type": "stream",
     "text": [
      "[10, 20, 30, 40, 50] <class 'list'>\n"
     ]
    }
   ],
   "source": [
    "\n",
    "\n",
    "print(lst,type(lst))"
   ]
  },
  {
   "cell_type": "code",
   "execution_count": 54,
   "id": "6a7d0338",
   "metadata": {},
   "outputs": [
    {
     "name": "stdout",
     "output_type": "stream",
     "text": [
      "10\n",
      "40\n",
      "30\n",
      "[10, 20, 30, 1000, 50]\n"
     ]
    }
   ],
   "source": [
    "print(lst[0])\n",
    "print(lst[3])\n",
    "print(lst[2])\n",
    "\n",
    "lst[3]=1000\n",
    "print(lst)"
   ]
  },
  {
   "cell_type": "code",
   "execution_count": 55,
   "id": "23d11bcf",
   "metadata": {},
   "outputs": [
    {
     "name": "stdout",
     "output_type": "stream",
     "text": [
      "(10, 20, 30, 40, 50) <class 'tuple'>\n"
     ]
    }
   ],
   "source": [
    "t=(10,20,30,40,50)\n",
    "print(t,type(t))"
   ]
  },
  {
   "cell_type": "code",
   "execution_count": 56,
   "id": "770d1f43",
   "metadata": {},
   "outputs": [
    {
     "name": "stdout",
     "output_type": "stream",
     "text": [
      "10\n",
      "40\n"
     ]
    }
   ],
   "source": [
    "print(t[0])\n",
    "print(t[3])"
   ]
  },
  {
   "cell_type": "code",
   "execution_count": 57,
   "id": "5f4105d3",
   "metadata": {},
   "outputs": [
    {
     "ename": "TypeError",
     "evalue": "'tuple' object does not support item assignment",
     "output_type": "error",
     "traceback": [
      "\u001b[1;31m---------------------------------------------------------------------------\u001b[0m",
      "\u001b[1;31mTypeError\u001b[0m                                 Traceback (most recent call last)",
      "\u001b[1;32m~\\AppData\\Local\\Temp\\ipykernel_19260\\4282031985.py\u001b[0m in \u001b[0;36m<module>\u001b[1;34m\u001b[0m\n\u001b[1;32m----> 1\u001b[1;33m \u001b[0mt\u001b[0m\u001b[1;33m[\u001b[0m\u001b[1;36m3\u001b[0m\u001b[1;33m]\u001b[0m\u001b[1;33m=\u001b[0m\u001b[1;36m1000\u001b[0m\u001b[1;33m\u001b[0m\u001b[1;33m\u001b[0m\u001b[0m\n\u001b[0m\u001b[0;32m      2\u001b[0m \u001b[0mprint\u001b[0m\u001b[1;33m(\u001b[0m\u001b[0mt\u001b[0m\u001b[1;33m)\u001b[0m\u001b[1;33m\u001b[0m\u001b[1;33m\u001b[0m\u001b[0m\n",
      "\u001b[1;31mTypeError\u001b[0m: 'tuple' object does not support item assignment"
     ]
    }
   ],
   "source": [
    "t[3]=1000\n",
    "print(t)"
   ]
  },
  {
   "cell_type": "code",
   "execution_count": null,
   "id": "900547ea",
   "metadata": {},
   "outputs": [],
   "source": [
    "print(t)"
   ]
  },
  {
   "cell_type": "code",
   "execution_count": null,
   "id": "5d24912c",
   "metadata": {},
   "outputs": [],
   "source": [
    "lst[0]"
   ]
  },
  {
   "cell_type": "code",
   "execution_count": null,
   "id": "8e423089",
   "metadata": {},
   "outputs": [],
   "source": [
    "a=10\n",
    "a"
   ]
  },
  {
   "cell_type": "markdown",
   "id": "d0420897",
   "metadata": {},
   "source": [
    "# Dictionary- dict"
   ]
  },
  {
   "cell_type": "code",
   "execution_count": null,
   "id": "8f510b0a",
   "metadata": {},
   "outputs": [],
   "source": [
    "# - A dictionary is a collection of key:value pairs kepts inside the {}\n",
    "# - Every key:value pair is seprated by a comma (,)"
   ]
  },
  {
   "cell_type": "code",
   "execution_count": null,
   "id": "be34e95e",
   "metadata": {},
   "outputs": [],
   "source": [
    "d={1:100,2:200,3:300,4:400}\n",
    "print(d,type(d))"
   ]
  },
  {
   "cell_type": "code",
   "execution_count": null,
   "id": "6ebe0cf5",
   "metadata": {},
   "outputs": [],
   "source": [
    "print(d[1])\n",
    "print(d[4])"
   ]
  },
  {
   "cell_type": "code",
   "execution_count": null,
   "id": "d8e2bd3e",
   "metadata": {},
   "outputs": [],
   "source": [
    "emp={'name':'Pragya','ID':101,'City':'Noida','Company':'Infosys'}\n",
    "print(emp,type(emp))"
   ]
  },
  {
   "cell_type": "code",
   "execution_count": null,
   "id": "7d95f459",
   "metadata": {},
   "outputs": [],
   "source": [
    "print(emp['name'])\n",
    "print(emp['Company'])\n",
    "print(emp['ID'])"
   ]
  },
  {
   "cell_type": "code",
   "execution_count": null,
   "id": "71388335",
   "metadata": {},
   "outputs": [],
   "source": [
    "# abc- variable"
   ]
  },
  {
   "cell_type": "code",
   "execution_count": null,
   "id": "8f04a074",
   "metadata": {},
   "outputs": [],
   "source": [
    "emp={'name':'Pragya','ID':None,'City':'Noida'}"
   ]
  },
  {
   "cell_type": "code",
   "execution_count": null,
   "id": "a9c530d0",
   "metadata": {},
   "outputs": [],
   "source": [
    "print(emp['ID'])"
   ]
  },
  {
   "cell_type": "code",
   "execution_count": null,
   "id": "faa1da24",
   "metadata": {},
   "outputs": [],
   "source": [
    "# keys- int, float, string, tuple \n",
    "# values- Anytype"
   ]
  },
  {
   "cell_type": "code",
   "execution_count": null,
   "id": "5d3d16d4",
   "metadata": {},
   "outputs": [],
   "source": [
    "emp={'name':'Pragya','ID':101,'City':'Noida','Company':'Infosys'}\n",
    "print(emp,type(emp))"
   ]
  },
  {
   "cell_type": "code",
   "execution_count": null,
   "id": "090564e4",
   "metadata": {},
   "outputs": [],
   "source": [
    "emp.keys()"
   ]
  },
  {
   "cell_type": "code",
   "execution_count": null,
   "id": "093d09fd",
   "metadata": {},
   "outputs": [],
   "source": [
    "emp.values()"
   ]
  },
  {
   "cell_type": "code",
   "execution_count": null,
   "id": "bd90bb50",
   "metadata": {},
   "outputs": [],
   "source": [
    "emp"
   ]
  },
  {
   "cell_type": "code",
   "execution_count": null,
   "id": "db8291f7",
   "metadata": {},
   "outputs": [],
   "source": [
    "emp['name']='Yash'"
   ]
  },
  {
   "cell_type": "code",
   "execution_count": null,
   "id": "16794a16",
   "metadata": {},
   "outputs": [],
   "source": [
    "emp"
   ]
  },
  {
   "cell_type": "code",
   "execution_count": null,
   "id": "174f73d6",
   "metadata": {},
   "outputs": [],
   "source": [
    "emp['ID']=None"
   ]
  },
  {
   "cell_type": "code",
   "execution_count": null,
   "id": "6f646466",
   "metadata": {},
   "outputs": [],
   "source": [
    "emp"
   ]
  },
  {
   "cell_type": "code",
   "execution_count": null,
   "id": "ce3795a8",
   "metadata": {},
   "outputs": [],
   "source": [
    "emp"
   ]
  },
  {
   "cell_type": "code",
   "execution_count": null,
   "id": "4b9a1a98",
   "metadata": {},
   "outputs": [],
   "source": [
    "emp[0]"
   ]
  },
  {
   "cell_type": "code",
   "execution_count": null,
   "id": "9046d252",
   "metadata": {},
   "outputs": [],
   "source": [
    "name='Tarun'"
   ]
  },
  {
   "cell_type": "code",
   "execution_count": null,
   "id": "111b33d9",
   "metadata": {},
   "outputs": [],
   "source": [
    "emp={'name':name}"
   ]
  },
  {
   "cell_type": "code",
   "execution_count": null,
   "id": "019015ae",
   "metadata": {},
   "outputs": [],
   "source": [
    "emp"
   ]
  },
  {
   "cell_type": "code",
   "execution_count": null,
   "id": "fee831ef",
   "metadata": {},
   "outputs": [],
   "source": [
    "name"
   ]
  },
  {
   "cell_type": "code",
   "execution_count": null,
   "id": "dcf2155e",
   "metadata": {},
   "outputs": [],
   "source": [
    "print(dir(list))"
   ]
  },
  {
   "cell_type": "code",
   "execution_count": null,
   "id": "2c90f52a",
   "metadata": {},
   "outputs": [],
   "source": [
    "# (10,20,30,40)"
   ]
  },
  {
   "cell_type": "markdown",
   "id": "90a980d1",
   "metadata": {},
   "source": [
    "# Set"
   ]
  },
  {
   "cell_type": "code",
   "execution_count": 63,
   "id": "e00359ec",
   "metadata": {},
   "outputs": [],
   "source": [
    "# - Anything inside the {} is a set.\n",
    "# - A set is a container type that can contain multiple elements.\n",
    "# - Each element in a set is seperated by a comma (,)\n",
    "# - A set can contain heterogenous elements\n",
    "# - A set does not allow the duplicate elements.\n",
    "# - A set is not a sequence type. It does not follow the indexing method.\n",
    "# - When we print a set we get the values in a random order"
   ]
  },
  {
   "cell_type": "code",
   "execution_count": 59,
   "id": "189b2229",
   "metadata": {},
   "outputs": [
    {
     "name": "stdout",
     "output_type": "stream",
     "text": [
      "{1, 2, 3, 4, 5, 6} <class 'set'>\n"
     ]
    }
   ],
   "source": [
    "s={1,2,3,4,5,6}\n",
    "print(s,type(s))"
   ]
  },
  {
   "cell_type": "code",
   "execution_count": 60,
   "id": "d3d31422",
   "metadata": {},
   "outputs": [
    {
     "name": "stdout",
     "output_type": "stream",
     "text": [
      "{1, 2, 3, 4, 5, 6} <class 'set'>\n"
     ]
    }
   ],
   "source": [
    "s={1,2,3,4,5,1,2,3,4,5,2,1,3,2,1,4,5,6}\n",
    "print(s,type(s))"
   ]
  },
  {
   "cell_type": "code",
   "execution_count": 62,
   "id": "d6f735e9",
   "metadata": {},
   "outputs": [
    {
     "name": "stdout",
     "output_type": "stream",
     "text": [
      "{False, True, 2.5, 10, 'Python'} <class 'set'>\n"
     ]
    }
   ],
   "source": [
    "s={True, False, 10, 'Python', 2.5}\n",
    "print(s,type(s))"
   ]
  },
  {
   "cell_type": "code",
   "execution_count": 64,
   "id": "8862c737",
   "metadata": {},
   "outputs": [
    {
     "ename": "TypeError",
     "evalue": "'set' object is not subscriptable",
     "output_type": "error",
     "traceback": [
      "\u001b[1;31m---------------------------------------------------------------------------\u001b[0m",
      "\u001b[1;31mTypeError\u001b[0m                                 Traceback (most recent call last)",
      "\u001b[1;32m~\\AppData\\Local\\Temp\\ipykernel_19260\\243613605.py\u001b[0m in \u001b[0;36m<module>\u001b[1;34m\u001b[0m\n\u001b[1;32m----> 1\u001b[1;33m \u001b[0ms\u001b[0m\u001b[1;33m[\u001b[0m\u001b[1;36m0\u001b[0m\u001b[1;33m]\u001b[0m\u001b[1;33m\u001b[0m\u001b[1;33m\u001b[0m\u001b[0m\n\u001b[0m",
      "\u001b[1;31mTypeError\u001b[0m: 'set' object is not subscriptable"
     ]
    }
   ],
   "source": [
    "s[0]"
   ]
  },
  {
   "cell_type": "markdown",
   "id": "bf0fa939",
   "metadata": {},
   "source": [
    "# Frozenset"
   ]
  },
  {
   "cell_type": "code",
   "execution_count": 66,
   "id": "5c8a7d01",
   "metadata": {},
   "outputs": [],
   "source": [
    "# - When we pass an iterable inside the frozenset() then it is a frozenset.\n",
    "# - A frozenset is a container type that can contain multiple elements.\n",
    "# - A frozenset can contain heterogenous elements.\n",
    "# - A frozenset does not allow duplicate elements.\n",
    "# - A frozenset is a no sequence type because it does not follow the indexing method.\n",
    "# - When we print a frozenset then we get the values in random order."
   ]
  },
  {
   "cell_type": "code",
   "execution_count": 67,
   "id": "95fcc1b9",
   "metadata": {},
   "outputs": [],
   "source": [
    "# Iterable- String, List, Tuple, Dictionary, Set, Frozenset"
   ]
  },
  {
   "cell_type": "code",
   "execution_count": 68,
   "id": "c83efd6f",
   "metadata": {},
   "outputs": [],
   "source": [
    "# Syntax- frozenset(iterable)"
   ]
  },
  {
   "cell_type": "code",
   "execution_count": 71,
   "id": "6cdd0d35",
   "metadata": {},
   "outputs": [
    {
     "name": "stdout",
     "output_type": "stream",
     "text": [
      "Python <class 'str'>\n",
      "6\n"
     ]
    }
   ],
   "source": [
    "a='Python'\n",
    "print(a,type(a))\n",
    "print(len(a))"
   ]
  },
  {
   "cell_type": "code",
   "execution_count": 72,
   "id": "89c1c9b3",
   "metadata": {},
   "outputs": [
    {
     "name": "stdout",
     "output_type": "stream",
     "text": [
      "frozenset({'h', 'P', 't', 'o', 'y', 'n'}) <class 'frozenset'>\n",
      "6\n"
     ]
    }
   ],
   "source": [
    "f=frozenset(a)\n",
    "print(f,type(f))\n",
    "print(len(f))"
   ]
  },
  {
   "cell_type": "code",
   "execution_count": 73,
   "id": "9dc9e03c",
   "metadata": {},
   "outputs": [
    {
     "name": "stdout",
     "output_type": "stream",
     "text": [
      "frozenset({True, 50, 'Python', (5+5j)}) <class 'frozenset'>\n"
     ]
    }
   ],
   "source": [
    "lst=[True, 'Python', 50, 5+5j]\n",
    "\n",
    "f=frozenset(lst)\n",
    "print(f,type(f))"
   ]
  },
  {
   "cell_type": "code",
   "execution_count": 74,
   "id": "02db4fb7",
   "metadata": {},
   "outputs": [
    {
     "name": "stdout",
     "output_type": "stream",
     "text": [
      "frozenset({1, 2, 3, 4, 5, 7, 8}) <class 'frozenset'>\n"
     ]
    }
   ],
   "source": [
    "lst=[1,2,3,5,4,7,8,5,4,2,4]\n",
    "\n",
    "f=frozenset(lst)\n",
    "print(f,type(f))"
   ]
  },
  {
   "cell_type": "markdown",
   "id": "4dda8a33",
   "metadata": {},
   "source": [
    "# Set vs Frozenset"
   ]
  },
  {
   "cell_type": "code",
   "execution_count": 75,
   "id": "91e3f8bc",
   "metadata": {},
   "outputs": [],
   "source": [
    "# Set is mutable whereas fozenset is immutable"
   ]
  },
  {
   "cell_type": "code",
   "execution_count": 79,
   "id": "9548a710",
   "metadata": {},
   "outputs": [
    {
     "name": "stdout",
     "output_type": "stream",
     "text": [
      "{40, 10, 20, 30} <class 'set'>\n",
      "{100, 40, 10, 20, 30}\n",
      "{100, 40, 20, 30}\n"
     ]
    }
   ],
   "source": [
    "s={10,20,30,40}\n",
    "print(s,type(s))\n",
    "\n",
    "s.add(100)\n",
    "print(s)\n",
    "\n",
    "s.remove(10)\n",
    "print(s)"
   ]
  },
  {
   "cell_type": "code",
   "execution_count": 80,
   "id": "95f4a6b6",
   "metadata": {},
   "outputs": [
    {
     "name": "stdout",
     "output_type": "stream",
     "text": [
      "frozenset({40, 10, 50, 20, 30}) <class 'frozenset'>\n"
     ]
    }
   ],
   "source": [
    "f=frozenset([10,20,30,40,50])\n",
    "print(f,type(f))"
   ]
  },
  {
   "cell_type": "code",
   "execution_count": 85,
   "id": "bb936f31",
   "metadata": {},
   "outputs": [],
   "source": [
    "# f[0]\n",
    "# f.add(100)\n",
    "# f.remove(10)"
   ]
  },
  {
   "cell_type": "markdown",
   "id": "a2960fa5",
   "metadata": {},
   "source": [
    "# Range"
   ]
  },
  {
   "cell_type": "code",
   "execution_count": 86,
   "id": "53c0ef81",
   "metadata": {},
   "outputs": [],
   "source": [
    "# range() returns a range object.\n",
    "# range() is used to create a sequence of integer values"
   ]
  },
  {
   "cell_type": "code",
   "execution_count": 92,
   "id": "c02ab499",
   "metadata": {},
   "outputs": [],
   "source": [
    "# Syntax- range(start,stop,step)\n",
    "# Note- Stop value is excluded\n",
    "# Note- Step is 1 by default"
   ]
  },
  {
   "cell_type": "code",
   "execution_count": 90,
   "id": "06b06b1f",
   "metadata": {},
   "outputs": [
    {
     "name": "stdout",
     "output_type": "stream",
     "text": [
      "range(1, 16) <class 'range'>\n"
     ]
    }
   ],
   "source": [
    "# Create a sequence of numbers from 1 to 15 - [1,2,3,4,5,6,......15]\n",
    "\n",
    "r=range(1,16,1)\n",
    "print(r,type(r))"
   ]
  },
  {
   "cell_type": "code",
   "execution_count": 91,
   "id": "f966242a",
   "metadata": {},
   "outputs": [
    {
     "data": {
      "text/plain": [
       "[1, 2, 3, 4, 5, 6, 7, 8, 9, 10, 11, 12, 13, 14, 15]"
      ]
     },
     "execution_count": 91,
     "metadata": {},
     "output_type": "execute_result"
    }
   ],
   "source": [
    "list(r)"
   ]
  },
  {
   "cell_type": "code",
   "execution_count": 95,
   "id": "e2e6f33b",
   "metadata": {},
   "outputs": [
    {
     "name": "stdout",
     "output_type": "stream",
     "text": [
      "[1, 2, 3, 4, 5, 6, 7, 8, 9, 10, 11, 12, 13, 14, 15]\n"
     ]
    }
   ],
   "source": [
    "nums=list(range(1,16))\n",
    "print(nums)"
   ]
  },
  {
   "cell_type": "code",
   "execution_count": 98,
   "id": "40ccc285",
   "metadata": {},
   "outputs": [
    {
     "data": {
      "text/plain": [
       "[2, 4, 6, 8, 10, 12, 14, 16, 18, 20]"
      ]
     },
     "execution_count": 98,
     "metadata": {},
     "output_type": "execute_result"
    }
   ],
   "source": [
    "# Create the sequence of even numbers from 2 to 20- [2,4,6,8......20]\n",
    "\n",
    "list(range(2,21,2))"
   ]
  },
  {
   "cell_type": "code",
   "execution_count": 100,
   "id": "7c27ec14",
   "metadata": {},
   "outputs": [
    {
     "data": {
      "text/plain": [
       "[10, 9, 8, 7, 6, 5, 4, 3, 2, 1]"
      ]
     },
     "execution_count": 100,
     "metadata": {},
     "output_type": "execute_result"
    }
   ],
   "source": [
    "# Create the sequence 10 to 1- [10,9,8,7......1] 0\n",
    "\n",
    "list(range(10,0,-1))"
   ]
  },
  {
   "cell_type": "code",
   "execution_count": 101,
   "id": "8f222c48",
   "metadata": {},
   "outputs": [
    {
     "data": {
      "text/plain": [
       "[10, 8, 6, 4, 2]"
      ]
     },
     "execution_count": 101,
     "metadata": {},
     "output_type": "execute_result"
    }
   ],
   "source": [
    "# Create the sequence- 10,8,6,4,2\n",
    "\n",
    "list(range(10,1,-2))"
   ]
  },
  {
   "cell_type": "code",
   "execution_count": 103,
   "id": "0b9a3bb4",
   "metadata": {},
   "outputs": [],
   "source": [
    "# range(stop value)\n",
    "# In the  above case we get the sequence from 0 to stop value-1"
   ]
  },
  {
   "cell_type": "code",
   "execution_count": 104,
   "id": "a5e9103b",
   "metadata": {},
   "outputs": [
    {
     "data": {
      "text/plain": [
       "[0, 1, 2, 3, 4]"
      ]
     },
     "execution_count": 104,
     "metadata": {},
     "output_type": "execute_result"
    }
   ],
   "source": [
    "list(range(5))"
   ]
  },
  {
   "cell_type": "code",
   "execution_count": 105,
   "id": "676081a2",
   "metadata": {},
   "outputs": [
    {
     "data": {
      "text/plain": [
       "[0, 1, 2, 3, 4, 5, 6, 7, 8, 9]"
      ]
     },
     "execution_count": 105,
     "metadata": {},
     "output_type": "execute_result"
    }
   ],
   "source": [
    "list(range(10))"
   ]
  },
  {
   "cell_type": "code",
   "execution_count": 106,
   "id": "5dbf79d8",
   "metadata": {},
   "outputs": [],
   "source": [
    "# range(stop)\n",
    "# range(start,stop)\n",
    "# range(start,stop,step)"
   ]
  },
  {
   "cell_type": "markdown",
   "id": "396492ed",
   "metadata": {},
   "source": [
    "# Typecasting"
   ]
  },
  {
   "cell_type": "code",
   "execution_count": 109,
   "id": "56d9be3d",
   "metadata": {},
   "outputs": [],
   "source": [
    "# - Converting the type of a value from one to other is known as typecasting.\n",
    "# - We are provided with a number of functions that facilitate typecasting"
   ]
  },
  {
   "cell_type": "code",
   "execution_count": 108,
   "id": "7b035c8e",
   "metadata": {},
   "outputs": [],
   "source": [
    "# 2.5 -> 2\n",
    "# float -> int"
   ]
  },
  {
   "cell_type": "markdown",
   "id": "357d5bdc",
   "metadata": {},
   "source": [
    "# int()"
   ]
  },
  {
   "cell_type": "code",
   "execution_count": 110,
   "id": "c8263a47",
   "metadata": {},
   "outputs": [],
   "source": [
    "# - It returns an int value.\n",
    "# - It typecasts to int"
   ]
  },
  {
   "cell_type": "code",
   "execution_count": 112,
   "id": "9b9f3851",
   "metadata": {},
   "outputs": [
    {
     "name": "stdout",
     "output_type": "stream",
     "text": [
      "2.5 <class 'float'>\n",
      "2 <class 'int'>\n"
     ]
    }
   ],
   "source": [
    "a=2.5\n",
    "print(a,type(a))\n",
    "\n",
    "b=int(a)\n",
    "print(b,type(b))"
   ]
  },
  {
   "cell_type": "code",
   "execution_count": 115,
   "id": "9179bed7",
   "metadata": {},
   "outputs": [
    {
     "name": "stdout",
     "output_type": "stream",
     "text": [
      "50 <class 'str'>\n",
      "50 <class 'int'>\n"
     ]
    }
   ],
   "source": [
    "a='50'\n",
    "print(a,type(a))\n",
    "\n",
    "b=int(a)\n",
    "print(b,type(b))"
   ]
  },
  {
   "cell_type": "code",
   "execution_count": 116,
   "id": "74d8c8fe",
   "metadata": {},
   "outputs": [
    {
     "name": "stdout",
     "output_type": "stream",
     "text": [
      "5030\n"
     ]
    }
   ],
   "source": [
    "a='50'\n",
    "b='30'\n",
    "\n",
    "print(a+b)"
   ]
  },
  {
   "cell_type": "code",
   "execution_count": 118,
   "id": "37e3f136",
   "metadata": {},
   "outputs": [
    {
     "name": "stdout",
     "output_type": "stream",
     "text": [
      "50 <class 'int'>\n",
      "30 <class 'int'>\n",
      "80\n"
     ]
    }
   ],
   "source": [
    "x=int(a)\n",
    "y=int(b)\n",
    "\n",
    "print(x,type(x))\n",
    "print(y,type(y))\n",
    "\n",
    "print(x+y)"
   ]
  },
  {
   "cell_type": "code",
   "execution_count": 121,
   "id": "d465f36d",
   "metadata": {},
   "outputs": [],
   "source": [
    "# When we pass a string to int() then that string should have digits only.\n",
    "# Otherwise we will get value error"
   ]
  },
  {
   "cell_type": "code",
   "execution_count": 120,
   "id": "25c58c02",
   "metadata": {},
   "outputs": [
    {
     "name": "stdout",
     "output_type": "stream",
     "text": [
      "abc <class 'str'>\n"
     ]
    },
    {
     "ename": "ValueError",
     "evalue": "invalid literal for int() with base 10: 'abc'",
     "output_type": "error",
     "traceback": [
      "\u001b[1;31m---------------------------------------------------------------------------\u001b[0m",
      "\u001b[1;31mValueError\u001b[0m                                Traceback (most recent call last)",
      "\u001b[1;32m~\\AppData\\Local\\Temp\\ipykernel_19260\\3146270601.py\u001b[0m in \u001b[0;36m<module>\u001b[1;34m\u001b[0m\n\u001b[0;32m      2\u001b[0m \u001b[0mprint\u001b[0m\u001b[1;33m(\u001b[0m\u001b[0ma\u001b[0m\u001b[1;33m,\u001b[0m\u001b[0mtype\u001b[0m\u001b[1;33m(\u001b[0m\u001b[0ma\u001b[0m\u001b[1;33m)\u001b[0m\u001b[1;33m)\u001b[0m\u001b[1;33m\u001b[0m\u001b[1;33m\u001b[0m\u001b[0m\n\u001b[0;32m      3\u001b[0m \u001b[1;33m\u001b[0m\u001b[0m\n\u001b[1;32m----> 4\u001b[1;33m \u001b[0mb\u001b[0m\u001b[1;33m=\u001b[0m\u001b[0mint\u001b[0m\u001b[1;33m(\u001b[0m\u001b[0ma\u001b[0m\u001b[1;33m)\u001b[0m\u001b[1;33m\u001b[0m\u001b[1;33m\u001b[0m\u001b[0m\n\u001b[0m\u001b[0;32m      5\u001b[0m \u001b[0mrpint\u001b[0m\u001b[1;33m(\u001b[0m\u001b[0mb\u001b[0m\u001b[1;33m)\u001b[0m\u001b[1;33m\u001b[0m\u001b[1;33m\u001b[0m\u001b[0m\n",
      "\u001b[1;31mValueError\u001b[0m: invalid literal for int() with base 10: 'abc'"
     ]
    }
   ],
   "source": [
    "a='abc'\n",
    "print(a,type(a))\n",
    "\n",
    "b=int(a)\n",
    "rpint(b)"
   ]
  },
  {
   "cell_type": "code",
   "execution_count": 125,
   "id": "95d43179",
   "metadata": {},
   "outputs": [
    {
     "name": "stdout",
     "output_type": "stream",
     "text": [
      "5@#$$5 <class 'str'>\n"
     ]
    },
    {
     "ename": "ValueError",
     "evalue": "invalid literal for int() with base 10: '5@#$$5'",
     "output_type": "error",
     "traceback": [
      "\u001b[1;31m---------------------------------------------------------------------------\u001b[0m",
      "\u001b[1;31mValueError\u001b[0m                                Traceback (most recent call last)",
      "\u001b[1;32m~\\AppData\\Local\\Temp\\ipykernel_19260\\1526352961.py\u001b[0m in \u001b[0;36m<module>\u001b[1;34m\u001b[0m\n\u001b[0;32m      2\u001b[0m \u001b[0mprint\u001b[0m\u001b[1;33m(\u001b[0m\u001b[0ma\u001b[0m\u001b[1;33m,\u001b[0m\u001b[0mtype\u001b[0m\u001b[1;33m(\u001b[0m\u001b[0ma\u001b[0m\u001b[1;33m)\u001b[0m\u001b[1;33m)\u001b[0m\u001b[1;33m\u001b[0m\u001b[1;33m\u001b[0m\u001b[0m\n\u001b[0;32m      3\u001b[0m \u001b[1;33m\u001b[0m\u001b[0m\n\u001b[1;32m----> 4\u001b[1;33m \u001b[0mb\u001b[0m\u001b[1;33m=\u001b[0m\u001b[0mint\u001b[0m\u001b[1;33m(\u001b[0m\u001b[0ma\u001b[0m\u001b[1;33m)\u001b[0m\u001b[1;33m\u001b[0m\u001b[1;33m\u001b[0m\u001b[0m\n\u001b[0m\u001b[0;32m      5\u001b[0m \u001b[0mprint\u001b[0m\u001b[1;33m(\u001b[0m\u001b[0mb\u001b[0m\u001b[1;33m)\u001b[0m\u001b[1;33m\u001b[0m\u001b[1;33m\u001b[0m\u001b[0m\n",
      "\u001b[1;31mValueError\u001b[0m: invalid literal for int() with base 10: '5@#$$5'"
     ]
    }
   ],
   "source": [
    "a='5@#$$5'\n",
    "print(a,type(a))\n",
    "\n",
    "b=int(a)\n",
    "print(b)"
   ]
  },
  {
   "cell_type": "code",
   "execution_count": 128,
   "id": "1ed92f2e",
   "metadata": {},
   "outputs": [
    {
     "name": "stdout",
     "output_type": "stream",
     "text": [
      "True <class 'bool'>\n",
      "1 <class 'int'>\n"
     ]
    }
   ],
   "source": [
    "a=True\n",
    "print(a,type(a))\n",
    "\n",
    "b=int(a)\n",
    "print(b,type(b))"
   ]
  },
  {
   "cell_type": "code",
   "execution_count": 130,
   "id": "630762fd",
   "metadata": {},
   "outputs": [
    {
     "name": "stdout",
     "output_type": "stream",
     "text": [
      "False <class 'bool'>\n",
      "0 <class 'int'>\n"
     ]
    }
   ],
   "source": [
    "a=False\n",
    "print(a,type(a))\n",
    "\n",
    "b=int(a)\n",
    "print(b,type(b))"
   ]
  },
  {
   "cell_type": "code",
   "execution_count": 132,
   "id": "393242ae",
   "metadata": {},
   "outputs": [
    {
     "name": "stdout",
     "output_type": "stream",
     "text": [
      "2\n",
      "1\n"
     ]
    }
   ],
   "source": [
    "print(True+True)\n",
    "print(True+False)"
   ]
  },
  {
   "cell_type": "markdown",
   "id": "14128103",
   "metadata": {},
   "source": [
    "# float()"
   ]
  },
  {
   "cell_type": "markdown",
   "id": "3d86bf12",
   "metadata": {},
   "source": [
    "- It returns a float value.\n",
    "- It typecasts to float."
   ]
  },
  {
   "cell_type": "code",
   "execution_count": 134,
   "id": "920d5d1b",
   "metadata": {},
   "outputs": [
    {
     "name": "stdout",
     "output_type": "stream",
     "text": [
      "5 <class 'int'>\n",
      "5.0 <class 'float'>\n"
     ]
    }
   ],
   "source": [
    "a=5\n",
    "print(a,type(a))\n",
    "\n",
    "b=float(a)\n",
    "print(b,type(b))"
   ]
  },
  {
   "cell_type": "code",
   "execution_count": 137,
   "id": "b58ba321",
   "metadata": {},
   "outputs": [
    {
     "name": "stdout",
     "output_type": "stream",
     "text": [
      "5 <class 'str'>\n",
      "5.0 <class 'float'>\n"
     ]
    }
   ],
   "source": [
    "a='5'\n",
    "print(a,type(a))\n",
    "\n",
    "b=float(a)\n",
    "print(b,type(b))"
   ]
  },
  {
   "cell_type": "code",
   "execution_count": 140,
   "id": "8170d2c6",
   "metadata": {},
   "outputs": [
    {
     "name": "stdout",
     "output_type": "stream",
     "text": [
      "5.5 <class 'str'>\n",
      "5.5 <class 'float'>\n"
     ]
    }
   ],
   "source": [
    "a='5.5'\n",
    "print(a,type(a))\n",
    "\n",
    "b=float(a)\n",
    "print(b,type(b))"
   ]
  },
  {
   "cell_type": "code",
   "execution_count": 145,
   "id": "5d9a7d95",
   "metadata": {},
   "outputs": [
    {
     "data": {
      "text/plain": [
       "5"
      ]
     },
     "execution_count": 145,
     "metadata": {},
     "output_type": "execute_result"
    }
   ],
   "source": [
    "int(float('5.5'))"
   ]
  },
  {
   "cell_type": "code",
   "execution_count": 148,
   "id": "66b8e5d7",
   "metadata": {},
   "outputs": [
    {
     "name": "stdout",
     "output_type": "stream",
     "text": [
      "True <class 'bool'>\n",
      "1.0 <class 'float'>\n"
     ]
    }
   ],
   "source": [
    "a=True\n",
    "print(a,type(a))\n",
    "\n",
    "b=float(a)\n",
    "print(b,type(b))"
   ]
  },
  {
   "cell_type": "code",
   "execution_count": 150,
   "id": "2dfd06bd",
   "metadata": {},
   "outputs": [
    {
     "name": "stdout",
     "output_type": "stream",
     "text": [
      "False <class 'bool'>\n",
      "0.0 <class 'float'>\n"
     ]
    }
   ],
   "source": [
    "a=False\n",
    "print(a,type(a))\n",
    "\n",
    "b=float(a)\n",
    "print(b,type(b))"
   ]
  },
  {
   "cell_type": "code",
   "execution_count": 154,
   "id": "7d8ee4c9",
   "metadata": {},
   "outputs": [
    {
     "name": "stdout",
     "output_type": "stream",
     "text": [
      "5.55.5\n",
      "11.0\n"
     ]
    }
   ],
   "source": [
    "print('5.5'*2)\n",
    "\n",
    "print(float('5.5')*2)"
   ]
  },
  {
   "cell_type": "markdown",
   "id": "9f2db12f",
   "metadata": {},
   "source": [
    "# complex()"
   ]
  },
  {
   "cell_type": "markdown",
   "id": "c82010c0",
   "metadata": {},
   "source": [
    "- It returns a complex value.\n",
    "- It typecasts to complex"
   ]
  },
  {
   "cell_type": "code",
   "execution_count": 155,
   "id": "c39e29a1",
   "metadata": {},
   "outputs": [
    {
     "name": "stdout",
     "output_type": "stream",
     "text": [
      "(5+6j) <class 'complex'>\n"
     ]
    }
   ],
   "source": [
    "a=5\n",
    "b=6\n",
    "c=complex(a,b)\n",
    "print(c,type(c))"
   ]
  },
  {
   "cell_type": "code",
   "execution_count": 156,
   "id": "61e9a928",
   "metadata": {},
   "outputs": [
    {
     "name": "stdout",
     "output_type": "stream",
     "text": [
      "(5+0j) <class 'complex'>\n"
     ]
    }
   ],
   "source": [
    "a=5\n",
    "c=complex(a)\n",
    "print(c,type(c))"
   ]
  },
  {
   "cell_type": "code",
   "execution_count": 157,
   "id": "762b5237",
   "metadata": {},
   "outputs": [
    {
     "name": "stdout",
     "output_type": "stream",
     "text": [
      "5j <class 'complex'>\n"
     ]
    }
   ],
   "source": [
    "a=0\n",
    "b=5\n",
    "c=complex(a,b)\n",
    "print(c,type(c))"
   ]
  },
  {
   "cell_type": "code",
   "execution_count": 159,
   "id": "3d9542d9",
   "metadata": {},
   "outputs": [
    {
     "name": "stdout",
     "output_type": "stream",
     "text": [
      "(5.5+2.6j) <class 'complex'>\n"
     ]
    }
   ],
   "source": [
    "c=complex(5.5,2.6)\n",
    "print(c,type(c))"
   ]
  },
  {
   "cell_type": "markdown",
   "id": "3dd7449b",
   "metadata": {},
   "source": [
    "# str()"
   ]
  },
  {
   "cell_type": "markdown",
   "id": "2e787860",
   "metadata": {},
   "source": [
    "- It returns a string value.\n",
    "- It typecasts to string."
   ]
  },
  {
   "cell_type": "code",
   "execution_count": 160,
   "id": "f4bad0d6",
   "metadata": {},
   "outputs": [],
   "source": [
    "# str(anything)"
   ]
  },
  {
   "cell_type": "code",
   "execution_count": 163,
   "id": "ecd503e2",
   "metadata": {},
   "outputs": [
    {
     "name": "stdout",
     "output_type": "stream",
     "text": [
      "5 <class 'int'>\n",
      "5 <class 'str'>\n"
     ]
    }
   ],
   "source": [
    "a=5\n",
    "print(a,type(a))\n",
    "\n",
    "b=str(a)\n",
    "print(b,type(b))"
   ]
  },
  {
   "cell_type": "code",
   "execution_count": 166,
   "id": "25ca7e03",
   "metadata": {},
   "outputs": [
    {
     "name": "stdout",
     "output_type": "stream",
     "text": [
      "5.5 <class 'float'>\n",
      "5.5 <class 'str'>\n"
     ]
    },
    {
     "data": {
      "text/plain": [
       "'5.5'"
      ]
     },
     "execution_count": 166,
     "metadata": {},
     "output_type": "execute_result"
    }
   ],
   "source": [
    "a=5.5\n",
    "print(a,type(a))\n",
    "\n",
    "b=str(a)\n",
    "print(b,type(b))\n",
    "b"
   ]
  },
  {
   "cell_type": "code",
   "execution_count": 170,
   "id": "9afbd682",
   "metadata": {},
   "outputs": [
    {
     "name": "stdout",
     "output_type": "stream",
     "text": [
      "True <class 'bool'>\n",
      "True <class 'str'>\n"
     ]
    }
   ],
   "source": [
    "a=True\n",
    "print(a,type(a))\n",
    "\n",
    "b=str(a)\n",
    "print(b,type(b))"
   ]
  },
  {
   "cell_type": "code",
   "execution_count": 173,
   "id": "97e5caf3",
   "metadata": {},
   "outputs": [
    {
     "name": "stdout",
     "output_type": "stream",
     "text": [
      "[10, 20, 30, 50] <class 'list'>\n",
      "[10, 20, 30, 50] <class 'str'>\n"
     ]
    },
    {
     "data": {
      "text/plain": [
       "'[10, 20, 30, 50]'"
      ]
     },
     "execution_count": 173,
     "metadata": {},
     "output_type": "execute_result"
    }
   ],
   "source": [
    "lst=[10,20,30,50]\n",
    "print(lst,type(lst))\n",
    "\n",
    "b=str(lst)\n",
    "print(b,type(b))\n",
    "b"
   ]
  },
  {
   "cell_type": "code",
   "execution_count": 174,
   "id": "4ce4404d",
   "metadata": {},
   "outputs": [
    {
     "data": {
      "text/plain": [
       "'@#@$##%#5'"
      ]
     },
     "execution_count": 174,
     "metadata": {},
     "output_type": "execute_result"
    }
   ],
   "source": [
    "'@#@$##%#5'"
   ]
  },
  {
   "cell_type": "code",
   "execution_count": 175,
   "id": "26ba0876",
   "metadata": {},
   "outputs": [],
   "source": [
    "# Arithmetic operator with boolean - \n",
    "# binary value, octal, hexadecimal value- "
   ]
  },
  {
   "cell_type": "code",
   "execution_count": 177,
   "id": "8ec16acd",
   "metadata": {},
   "outputs": [
    {
     "data": {
      "text/plain": [
       "149"
      ]
     },
     "execution_count": 177,
     "metadata": {},
     "output_type": "execute_result"
    }
   ],
   "source": [
    "0b10010101"
   ]
  },
  {
   "cell_type": "code",
   "execution_count": 178,
   "id": "9040e4c0",
   "metadata": {},
   "outputs": [
    {
     "data": {
      "text/plain": [
       "2748"
      ]
     },
     "execution_count": 178,
     "metadata": {},
     "output_type": "execute_result"
    }
   ],
   "source": [
    "0xABC"
   ]
  },
  {
   "cell_type": "code",
   "execution_count": 182,
   "id": "b527819f",
   "metadata": {},
   "outputs": [
    {
     "name": "stdout",
     "output_type": "stream",
     "text": [
      "(10+15j) <class 'complex'>\n"
     ]
    }
   ],
   "source": [
    "a=5\n",
    "b=10\n",
    "c=15\n",
    "d=complex(b,c)\n",
    "print(d,type(d))"
   ]
  },
  {
   "cell_type": "code",
   "execution_count": null,
   "id": "a9aabd45",
   "metadata": {},
   "outputs": [],
   "source": []
  }
 ],
 "metadata": {
  "kernelspec": {
   "display_name": "Python 3 (ipykernel)",
   "language": "python",
   "name": "python3"
  },
  "language_info": {
   "codemirror_mode": {
    "name": "ipython",
    "version": 3
   },
   "file_extension": ".py",
   "mimetype": "text/x-python",
   "name": "python",
   "nbconvert_exporter": "python",
   "pygments_lexer": "ipython3",
   "version": "3.9.13"
  }
 },
 "nbformat": 4,
 "nbformat_minor": 5
}
