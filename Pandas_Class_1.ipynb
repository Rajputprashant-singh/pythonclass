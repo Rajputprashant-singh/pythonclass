{
 "cells": [
  {
   "cell_type": "markdown",
   "id": "30066c34",
   "metadata": {},
   "source": [
    "# Pandas"
   ]
  },
  {
   "cell_type": "markdown",
   "id": "6773564e",
   "metadata": {},
   "source": [
    "- Pandas is a Python librray that is to manipulate the data as we do in MS Excel.\n",
    "- Pandas stands for Panel Data."
   ]
  },
  {
   "cell_type": "markdown",
   "id": "f61dcf1b",
   "metadata": {},
   "source": [
    "# How to import pandas"
   ]
  },
  {
   "cell_type": "code",
   "execution_count": 1,
   "id": "aee0ef4b",
   "metadata": {},
   "outputs": [],
   "source": [
    "import pandas as pd"
   ]
  },
  {
   "cell_type": "markdown",
   "id": "acd73907",
   "metadata": {},
   "source": [
    "# Version"
   ]
  },
  {
   "cell_type": "code",
   "execution_count": 2,
   "id": "e38ec165",
   "metadata": {},
   "outputs": [
    {
     "data": {
      "text/plain": [
       "'1.4.4'"
      ]
     },
     "execution_count": 2,
     "metadata": {},
     "output_type": "execute_result"
    }
   ],
   "source": [
    "pd.__version__"
   ]
  },
  {
   "cell_type": "markdown",
   "id": "a1d50236",
   "metadata": {},
   "source": [
    "# In Pandas we work upon two objects-\n",
    "- 1- Series\n",
    "- 2- Dataframe"
   ]
  },
  {
   "cell_type": "markdown",
   "id": "bead9dbf",
   "metadata": {},
   "source": [
    "# 1- Series"
   ]
  },
  {
   "cell_type": "markdown",
   "id": "c9ac2b20",
   "metadata": {},
   "source": [
    "- A series is like a 1-D array structure.\n",
    "- A series can be considered as a column from an excel table.\n",
    "- A column without a header is a Series."
   ]
  },
  {
   "cell_type": "markdown",
   "id": "9227de86",
   "metadata": {},
   "source": [
    "# How to create a Seires"
   ]
  },
  {
   "cell_type": "code",
   "execution_count": 3,
   "id": "ac61212a",
   "metadata": {},
   "outputs": [],
   "source": [
    "# pd.Series()"
   ]
  },
  {
   "cell_type": "markdown",
   "id": "981b4e73",
   "metadata": {},
   "source": [
    "# Creating a Series using a list or tuple."
   ]
  },
  {
   "cell_type": "code",
   "execution_count": 5,
   "id": "21e3685d",
   "metadata": {},
   "outputs": [],
   "source": [
    "lst=[10,20,30,40,50,60,70,80,90]\n",
    "s=pd.Series(lst)"
   ]
  },
  {
   "cell_type": "code",
   "execution_count": 6,
   "id": "5e540444",
   "metadata": {},
   "outputs": [
    {
     "data": {
      "text/plain": [
       "0    10\n",
       "1    20\n",
       "2    30\n",
       "3    40\n",
       "4    50\n",
       "5    60\n",
       "6    70\n",
       "7    80\n",
       "8    90\n",
       "dtype: int64"
      ]
     },
     "execution_count": 6,
     "metadata": {},
     "output_type": "execute_result"
    }
   ],
   "source": [
    "s"
   ]
  },
  {
   "cell_type": "markdown",
   "id": "6c2205bc",
   "metadata": {},
   "source": [
    "**A series contains two objects**\n",
    "- The first object is the index object.\n",
    "- The second object is the values."
   ]
  },
  {
   "cell_type": "code",
   "execution_count": 7,
   "id": "9bee1f56",
   "metadata": {},
   "outputs": [
    {
     "data": {
      "text/plain": [
       "0     Aravind\n",
       "1      Shweta\n",
       "2       Suraj\n",
       "3      Rajesh\n",
       "4       Priya\n",
       "5    Vaishali\n",
       "dtype: object"
      ]
     },
     "execution_count": 7,
     "metadata": {},
     "output_type": "execute_result"
    }
   ],
   "source": [
    "names=['Aravind','Shweta','Suraj','Rajesh','Priya','Vaishali']\n",
    "emp=pd.Series(names)\n",
    "emp"
   ]
  },
  {
   "cell_type": "code",
   "execution_count": 8,
   "id": "17fc7e03",
   "metadata": {},
   "outputs": [
    {
     "data": {
      "text/plain": [
       "0     Aravind\n",
       "1      Shweta\n",
       "2       Suraj\n",
       "3      Rajesh\n",
       "4       Priya\n",
       "5    Vaishali\n",
       "dtype: object"
      ]
     },
     "execution_count": 8,
     "metadata": {},
     "output_type": "execute_result"
    }
   ],
   "source": [
    "names=('Aravind','Shweta','Suraj','Rajesh','Priya','Vaishali')\n",
    "emp=pd.Series(names)\n",
    "emp"
   ]
  },
  {
   "cell_type": "markdown",
   "id": "7a2fa076",
   "metadata": {},
   "source": [
    "# Attributes on a Series"
   ]
  },
  {
   "cell_type": "markdown",
   "id": "21c5e999",
   "metadata": {},
   "source": [
    "### size\n",
    "- It returns the number of elements from a Series"
   ]
  },
  {
   "cell_type": "code",
   "execution_count": 9,
   "id": "5e78822b",
   "metadata": {},
   "outputs": [
    {
     "data": {
      "text/plain": [
       "6"
      ]
     },
     "execution_count": 9,
     "metadata": {},
     "output_type": "execute_result"
    }
   ],
   "source": [
    "emp.size"
   ]
  },
  {
   "cell_type": "code",
   "execution_count": 10,
   "id": "916cc3a5",
   "metadata": {},
   "outputs": [
    {
     "data": {
      "text/plain": [
       "6"
      ]
     },
     "execution_count": 10,
     "metadata": {},
     "output_type": "execute_result"
    }
   ],
   "source": [
    "len(emp)"
   ]
  },
  {
   "cell_type": "markdown",
   "id": "8ab725ec",
   "metadata": {},
   "source": [
    "### dtype\n",
    "- It returns the data type of the values that the Series contains."
   ]
  },
  {
   "cell_type": "code",
   "execution_count": 12,
   "id": "0df4af8c",
   "metadata": {},
   "outputs": [
    {
     "data": {
      "text/plain": [
       "dtype('int64')"
      ]
     },
     "execution_count": 12,
     "metadata": {},
     "output_type": "execute_result"
    }
   ],
   "source": [
    "s.dtype"
   ]
  },
  {
   "cell_type": "code",
   "execution_count": 13,
   "id": "ef5316d0",
   "metadata": {},
   "outputs": [
    {
     "data": {
      "text/plain": [
       "dtype('O')"
      ]
     },
     "execution_count": 13,
     "metadata": {},
     "output_type": "execute_result"
    }
   ],
   "source": [
    "emp.dtype"
   ]
  },
  {
   "cell_type": "markdown",
   "id": "d3d666d3",
   "metadata": {},
   "source": [
    "### ndim\n",
    "- It returns the dimension of the Series."
   ]
  },
  {
   "cell_type": "code",
   "execution_count": 14,
   "id": "f9a4a7e2",
   "metadata": {},
   "outputs": [
    {
     "data": {
      "text/plain": [
       "1"
      ]
     },
     "execution_count": 14,
     "metadata": {},
     "output_type": "execute_result"
    }
   ],
   "source": [
    "s.ndim"
   ]
  },
  {
   "cell_type": "code",
   "execution_count": 15,
   "id": "b413d9f3",
   "metadata": {},
   "outputs": [
    {
     "data": {
      "text/plain": [
       "1"
      ]
     },
     "execution_count": 15,
     "metadata": {},
     "output_type": "execute_result"
    }
   ],
   "source": [
    "emp.ndim"
   ]
  },
  {
   "cell_type": "markdown",
   "id": "e6f6d216",
   "metadata": {},
   "source": [
    "### shape\n",
    "- It returns the shape."
   ]
  },
  {
   "cell_type": "code",
   "execution_count": 16,
   "id": "d4e1fc88",
   "metadata": {},
   "outputs": [
    {
     "data": {
      "text/plain": [
       "(9,)"
      ]
     },
     "execution_count": 16,
     "metadata": {},
     "output_type": "execute_result"
    }
   ],
   "source": [
    "s.shape"
   ]
  },
  {
   "cell_type": "code",
   "execution_count": 17,
   "id": "428dcdbf",
   "metadata": {},
   "outputs": [
    {
     "data": {
      "text/plain": [
       "(6,)"
      ]
     },
     "execution_count": 17,
     "metadata": {},
     "output_type": "execute_result"
    }
   ],
   "source": [
    "emp.shape"
   ]
  },
  {
   "cell_type": "markdown",
   "id": "581de7f2",
   "metadata": {},
   "source": [
    "### index\n",
    "- It returns the index object that contains the indices of the series."
   ]
  },
  {
   "cell_type": "code",
   "execution_count": 18,
   "id": "742e9925",
   "metadata": {},
   "outputs": [
    {
     "data": {
      "text/plain": [
       "RangeIndex(start=0, stop=9, step=1)"
      ]
     },
     "execution_count": 18,
     "metadata": {},
     "output_type": "execute_result"
    }
   ],
   "source": [
    "s.index"
   ]
  },
  {
   "cell_type": "code",
   "execution_count": 19,
   "id": "a534a692",
   "metadata": {},
   "outputs": [
    {
     "data": {
      "text/plain": [
       "RangeIndex(start=0, stop=6, step=1)"
      ]
     },
     "execution_count": 19,
     "metadata": {},
     "output_type": "execute_result"
    }
   ],
   "source": [
    "emp.index"
   ]
  },
  {
   "cell_type": "markdown",
   "id": "c0623509",
   "metadata": {},
   "source": [
    "### values\n",
    "- It returns an array that contains the values from the series."
   ]
  },
  {
   "cell_type": "code",
   "execution_count": 21,
   "id": "cd66a4af",
   "metadata": {},
   "outputs": [
    {
     "data": {
      "text/plain": [
       "array([10, 20, 30, 40, 50, 60, 70, 80, 90], dtype=int64)"
      ]
     },
     "execution_count": 21,
     "metadata": {},
     "output_type": "execute_result"
    }
   ],
   "source": [
    "s.values"
   ]
  },
  {
   "cell_type": "code",
   "execution_count": 23,
   "id": "b0bcfd78",
   "metadata": {},
   "outputs": [
    {
     "data": {
      "text/plain": [
       "array(['Aravind', 'Shweta', 'Suraj', 'Rajesh', 'Priya', 'Vaishali'],\n",
       "      dtype=object)"
      ]
     },
     "execution_count": 23,
     "metadata": {},
     "output_type": "execute_result"
    }
   ],
   "source": [
    "emp.values"
   ]
  },
  {
   "cell_type": "markdown",
   "id": "0552943a",
   "metadata": {},
   "source": [
    "### name"
   ]
  },
  {
   "cell_type": "markdown",
   "id": "64f76d56",
   "metadata": {},
   "source": [
    "- It is used to name a Series."
   ]
  },
  {
   "cell_type": "code",
   "execution_count": 27,
   "id": "cb8ba0b2",
   "metadata": {},
   "outputs": [
    {
     "data": {
      "text/plain": [
       "0    10\n",
       "1    20\n",
       "2    30\n",
       "3    40\n",
       "4    50\n",
       "5    60\n",
       "6    70\n",
       "7    80\n",
       "8    90\n",
       "dtype: int64"
      ]
     },
     "execution_count": 27,
     "metadata": {},
     "output_type": "execute_result"
    }
   ],
   "source": [
    "s"
   ]
  },
  {
   "cell_type": "code",
   "execution_count": 28,
   "id": "9bb3adda",
   "metadata": {},
   "outputs": [],
   "source": [
    "s.name='Numbers'"
   ]
  },
  {
   "cell_type": "code",
   "execution_count": 29,
   "id": "d2c8fe04",
   "metadata": {},
   "outputs": [
    {
     "data": {
      "text/plain": [
       "0    10\n",
       "1    20\n",
       "2    30\n",
       "3    40\n",
       "4    50\n",
       "5    60\n",
       "6    70\n",
       "7    80\n",
       "8    90\n",
       "Name: Numbers, dtype: int64"
      ]
     },
     "execution_count": 29,
     "metadata": {},
     "output_type": "execute_result"
    }
   ],
   "source": [
    "s"
   ]
  },
  {
   "cell_type": "code",
   "execution_count": 30,
   "id": "1ffc8dc3",
   "metadata": {},
   "outputs": [
    {
     "data": {
      "text/plain": [
       "'Numbers'"
      ]
     },
     "execution_count": 30,
     "metadata": {},
     "output_type": "execute_result"
    }
   ],
   "source": [
    "s.name"
   ]
  },
  {
   "cell_type": "markdown",
   "id": "d6d3a08e",
   "metadata": {},
   "source": [
    "# Creating a Series using dictionary"
   ]
  },
  {
   "cell_type": "markdown",
   "id": "2f310a5e",
   "metadata": {},
   "source": [
    "- When we create a series using a dictionary then the keys from the dictionary become the index and the values from the dictionary become the values."
   ]
  },
  {
   "cell_type": "code",
   "execution_count": 24,
   "id": "5c557b5d",
   "metadata": {},
   "outputs": [
    {
     "data": {
      "text/plain": [
       "{'ID': 101, 'Name': 'Suresh', 'Age': 31, 'Company': 'TCS'}"
      ]
     },
     "execution_count": 24,
     "metadata": {},
     "output_type": "execute_result"
    }
   ],
   "source": [
    "info={'ID':101,'Name':'Suresh','Age':31,'Company':'TCS'}\n",
    "info"
   ]
  },
  {
   "cell_type": "code",
   "execution_count": 25,
   "id": "04615ab4",
   "metadata": {},
   "outputs": [
    {
     "data": {
      "text/plain": [
       "ID            101\n",
       "Name       Suresh\n",
       "Age            31\n",
       "Company       TCS\n",
       "dtype: object"
      ]
     },
     "execution_count": 25,
     "metadata": {},
     "output_type": "execute_result"
    }
   ],
   "source": [
    "info_ser=pd.Series(info)\n",
    "info_ser"
   ]
  },
  {
   "cell_type": "code",
   "execution_count": 26,
   "id": "042979db",
   "metadata": {},
   "outputs": [
    {
     "data": {
      "text/plain": [
       "Index(['ID', 'Name', 'Age', 'Company'], dtype='object')"
      ]
     },
     "execution_count": 26,
     "metadata": {},
     "output_type": "execute_result"
    }
   ],
   "source": [
    "info_ser.index"
   ]
  },
  {
   "cell_type": "markdown",
   "id": "7af59ed0",
   "metadata": {},
   "source": [
    "# Indexes of a Series"
   ]
  },
  {
   "cell_type": "markdown",
   "id": "d9e50158",
   "metadata": {},
   "source": [
    "- 1- Implicit indexes (Pandas Defined) 0 to len(ser)-1\n",
    "- 2- Explicit indexes (User Defined). These are also called as labels."
   ]
  },
  {
   "cell_type": "code",
   "execution_count": 32,
   "id": "9499a2ce",
   "metadata": {},
   "outputs": [
    {
     "data": {
      "text/plain": [
       "('Aravind', 'Shweta', 'Suraj', 'Rajesh', 'Priya', 'Vaishali')"
      ]
     },
     "execution_count": 32,
     "metadata": {},
     "output_type": "execute_result"
    }
   ],
   "source": [
    "names"
   ]
  },
  {
   "cell_type": "code",
   "execution_count": 34,
   "id": "7537be96",
   "metadata": {},
   "outputs": [
    {
     "data": {
      "text/plain": [
       "0     Aravind\n",
       "1      Shweta\n",
       "2       Suraj\n",
       "3      Rajesh\n",
       "4       Priya\n",
       "5    Vaishali\n",
       "dtype: object"
      ]
     },
     "execution_count": 34,
     "metadata": {},
     "output_type": "execute_result"
    }
   ],
   "source": [
    "s=pd.Series(names)\n",
    "s"
   ]
  },
  {
   "cell_type": "code",
   "execution_count": 35,
   "id": "091083c9",
   "metadata": {},
   "outputs": [
    {
     "data": {
      "text/plain": [
       "RangeIndex(start=0, stop=6, step=1)"
      ]
     },
     "execution_count": 35,
     "metadata": {},
     "output_type": "execute_result"
    }
   ],
   "source": [
    "s.index"
   ]
  },
  {
   "cell_type": "code",
   "execution_count": 36,
   "id": "ccce6368",
   "metadata": {},
   "outputs": [
    {
     "data": {
      "text/plain": [
       "ID            101\n",
       "Name       Suresh\n",
       "Age            31\n",
       "Company       TCS\n",
       "dtype: object"
      ]
     },
     "execution_count": 36,
     "metadata": {},
     "output_type": "execute_result"
    }
   ],
   "source": [
    "info_ser"
   ]
  },
  {
   "cell_type": "code",
   "execution_count": 41,
   "id": "93323d35",
   "metadata": {},
   "outputs": [
    {
     "data": {
      "text/plain": [
       "Index(['ID', 'Name', 'Age', 'Company'], dtype='object')"
      ]
     },
     "execution_count": 41,
     "metadata": {},
     "output_type": "execute_result"
    }
   ],
   "source": [
    "info_ser.index"
   ]
  },
  {
   "cell_type": "markdown",
   "id": "9e011d9a",
   "metadata": {},
   "source": [
    "# How to pass user defined indexes (labels)"
   ]
  },
  {
   "cell_type": "code",
   "execution_count": 39,
   "id": "216b6c74",
   "metadata": {},
   "outputs": [
    {
     "data": {
      "text/plain": [
       "('Aravind', 'Shweta', 'Suraj', 'Rajesh', 'Priya', 'Vaishali')"
      ]
     },
     "execution_count": 39,
     "metadata": {},
     "output_type": "execute_result"
    }
   ],
   "source": [
    "names"
   ]
  },
  {
   "cell_type": "code",
   "execution_count": 50,
   "id": "91f18a55",
   "metadata": {},
   "outputs": [
    {
     "data": {
      "text/plain": [
       "a     Aravind\n",
       "b      Shweta\n",
       "c       Suraj\n",
       "d      Rajesh\n",
       "e       Priya\n",
       "f    Vaishali\n",
       "dtype: object"
      ]
     },
     "execution_count": 50,
     "metadata": {},
     "output_type": "execute_result"
    }
   ],
   "source": [
    "s=pd.Series(names,index=list('abcdef'))\n",
    "s"
   ]
  },
  {
   "cell_type": "code",
   "execution_count": 47,
   "id": "7f71167e",
   "metadata": {},
   "outputs": [
    {
     "data": {
      "text/plain": [
       "Index(['a', 'b', 'c', 'd', 'e', 'f'], dtype='object')"
      ]
     },
     "execution_count": 47,
     "metadata": {},
     "output_type": "execute_result"
    }
   ],
   "source": [
    "s.index"
   ]
  },
  {
   "cell_type": "code",
   "execution_count": 44,
   "id": "960f83a7",
   "metadata": {},
   "outputs": [
    {
     "data": {
      "text/plain": [
       "['a', 'b', 'c', 'd', 'e', 'f']"
      ]
     },
     "execution_count": 44,
     "metadata": {},
     "output_type": "execute_result"
    }
   ],
   "source": [
    "list('abcdef')"
   ]
  },
  {
   "cell_type": "code",
   "execution_count": 53,
   "id": "47bb9de5",
   "metadata": {},
   "outputs": [],
   "source": [
    "import numpy as np"
   ]
  },
  {
   "cell_type": "code",
   "execution_count": 58,
   "id": "746213ad",
   "metadata": {},
   "outputs": [
    {
     "data": {
      "text/plain": [
       "0    1000\n",
       "1    2000\n",
       "2    3000\n",
       "3    4000\n",
       "4    5000\n",
       "dtype: int32"
      ]
     },
     "execution_count": 58,
     "metadata": {},
     "output_type": "execute_result"
    }
   ],
   "source": [
    "ser=pd.Series(np.array([1000,2000,3000,4000,5000]))\n",
    "ser"
   ]
  },
  {
   "cell_type": "code",
   "execution_count": 60,
   "id": "8ec33eef",
   "metadata": {},
   "outputs": [],
   "source": [
    "ser.index=['num_1','num_2','num_3','num_4','num_5']"
   ]
  },
  {
   "cell_type": "code",
   "execution_count": 61,
   "id": "9f36772f",
   "metadata": {},
   "outputs": [
    {
     "data": {
      "text/plain": [
       "num_1    1000\n",
       "num_2    2000\n",
       "num_3    3000\n",
       "num_4    4000\n",
       "num_5    5000\n",
       "dtype: int32"
      ]
     },
     "execution_count": 61,
     "metadata": {},
     "output_type": "execute_result"
    }
   ],
   "source": [
    "ser"
   ]
  },
  {
   "cell_type": "code",
   "execution_count": 62,
   "id": "f00307e0",
   "metadata": {},
   "outputs": [],
   "source": [
    "countries=['India','Russia','Vietnam','China','U.K.','Japan','Indonesia']\n",
    "capitals=['Delhi','Moscow','Hanoi','Beijing','London','Tokyo','Jakarta']"
   ]
  },
  {
   "cell_type": "code",
   "execution_count": 63,
   "id": "99355d63",
   "metadata": {},
   "outputs": [],
   "source": [
    "# Countries- indexes\n",
    "# capitals=values"
   ]
  },
  {
   "cell_type": "code",
   "execution_count": 66,
   "id": "910e2052",
   "metadata": {},
   "outputs": [
    {
     "data": {
      "text/plain": [
       "India          Delhi\n",
       "Russia        Moscow\n",
       "Vietnam        Hanoi\n",
       "China        Beijing\n",
       "U.K.          London\n",
       "Japan          Tokyo\n",
       "Indonesia    Jakarta\n",
       "dtype: object"
      ]
     },
     "execution_count": 66,
     "metadata": {},
     "output_type": "execute_result"
    }
   ],
   "source": [
    "cc=pd.Series(capitals,index=countries)\n",
    "cc"
   ]
  },
  {
   "cell_type": "markdown",
   "id": "dd076c80",
   "metadata": {},
   "source": [
    "# How to access an elements from a Series"
   ]
  },
  {
   "cell_type": "code",
   "execution_count": 68,
   "id": "3c0100d8",
   "metadata": {},
   "outputs": [
    {
     "data": {
      "text/plain": [
       "0     Aravind\n",
       "1      Shweta\n",
       "2       Suraj\n",
       "3      Rajesh\n",
       "4       Priya\n",
       "5    Vaishali\n",
       "dtype: object"
      ]
     },
     "execution_count": 68,
     "metadata": {},
     "output_type": "execute_result"
    }
   ],
   "source": [
    "s=pd.Series(names)\n",
    "s"
   ]
  },
  {
   "cell_type": "code",
   "execution_count": 69,
   "id": "cbb5aa92",
   "metadata": {},
   "outputs": [],
   "source": [
    "# s[index]"
   ]
  },
  {
   "cell_type": "code",
   "execution_count": 78,
   "id": "5d352b3d",
   "metadata": {},
   "outputs": [],
   "source": [
    "# s[5]"
   ]
  },
  {
   "cell_type": "markdown",
   "id": "4f03199f",
   "metadata": {},
   "source": [
    "# iloc and loc"
   ]
  },
  {
   "cell_type": "markdown",
   "id": "a86ea5b3",
   "metadata": {},
   "source": [
    "- iloc- It stands from index location.\n",
    "- iloc is used to fetch a value on the basis of implicit indexes.\n",
    "- loc- It stands from location.\n",
    "- los is used to fetch a value on the basis of explicit indexes (labels)."
   ]
  },
  {
   "cell_type": "code",
   "execution_count": 79,
   "id": "adbd92e4",
   "metadata": {},
   "outputs": [
    {
     "data": {
      "text/plain": [
       "0     Aravind\n",
       "1      Shweta\n",
       "2       Suraj\n",
       "3      Rajesh\n",
       "4       Priya\n",
       "5    Vaishali\n",
       "dtype: object"
      ]
     },
     "execution_count": 79,
     "metadata": {},
     "output_type": "execute_result"
    }
   ],
   "source": [
    "s"
   ]
  },
  {
   "cell_type": "code",
   "execution_count": 83,
   "id": "f750a22e",
   "metadata": {},
   "outputs": [
    {
     "data": {
      "text/plain": [
       "'Shweta'"
      ]
     },
     "execution_count": 83,
     "metadata": {},
     "output_type": "execute_result"
    }
   ],
   "source": [
    "s.iloc[1]"
   ]
  },
  {
   "cell_type": "code",
   "execution_count": 84,
   "id": "74032b1a",
   "metadata": {},
   "outputs": [
    {
     "data": {
      "text/plain": [
       "India          Delhi\n",
       "Russia        Moscow\n",
       "Vietnam        Hanoi\n",
       "China        Beijing\n",
       "U.K.          London\n",
       "Japan          Tokyo\n",
       "Indonesia    Jakarta\n",
       "dtype: object"
      ]
     },
     "execution_count": 84,
     "metadata": {},
     "output_type": "execute_result"
    }
   ],
   "source": [
    "cc"
   ]
  },
  {
   "cell_type": "code",
   "execution_count": 87,
   "id": "9a975e9c",
   "metadata": {},
   "outputs": [
    {
     "data": {
      "text/plain": [
       "'Tokyo'"
      ]
     },
     "execution_count": 87,
     "metadata": {},
     "output_type": "execute_result"
    }
   ],
   "source": [
    "cc.loc['Japan']"
   ]
  },
  {
   "cell_type": "code",
   "execution_count": 91,
   "id": "5c2b57c4",
   "metadata": {},
   "outputs": [
    {
     "data": {
      "text/plain": [
       "'Hanoi'"
      ]
     },
     "execution_count": 91,
     "metadata": {},
     "output_type": "execute_result"
    }
   ],
   "source": [
    "cc.iloc[2]"
   ]
  },
  {
   "cell_type": "markdown",
   "id": "704e1370",
   "metadata": {},
   "source": [
    "# Slicing"
   ]
  },
  {
   "cell_type": "code",
   "execution_count": 92,
   "id": "4df21ecd",
   "metadata": {},
   "outputs": [],
   "source": [
    "# s.iloc[start:stop:step] (implicit indexes)\n",
    "# s.loc[start:stop:step] (labels). Stop is included."
   ]
  },
  {
   "cell_type": "code",
   "execution_count": 102,
   "id": "85c3f2df",
   "metadata": {},
   "outputs": [
    {
     "data": {
      "text/plain": [
       "India          Delhi\n",
       "Russia        Moscow\n",
       "Vietnam        Hanoi\n",
       "China        Beijing\n",
       "U.K.          London\n",
       "Japan          Tokyo\n",
       "Indonesia    Jakarta\n",
       "dtype: object"
      ]
     },
     "execution_count": 102,
     "metadata": {},
     "output_type": "execute_result"
    }
   ],
   "source": [
    "cc"
   ]
  },
  {
   "cell_type": "code",
   "execution_count": 103,
   "id": "034536f0",
   "metadata": {},
   "outputs": [
    {
     "data": {
      "text/plain": [
       "Indonesia    Jakarta\n",
       "Japan          Tokyo\n",
       "U.K.          London\n",
       "China        Beijing\n",
       "Vietnam        Hanoi\n",
       "Russia        Moscow\n",
       "India          Delhi\n",
       "dtype: object"
      ]
     },
     "execution_count": 103,
     "metadata": {},
     "output_type": "execute_result"
    }
   ],
   "source": [
    "cc.iloc[::-1]"
   ]
  },
  {
   "cell_type": "code",
   "execution_count": 105,
   "id": "cf024abf",
   "metadata": {},
   "outputs": [],
   "source": [
    "# cc.loc[0:2]"
   ]
  },
  {
   "cell_type": "code",
   "execution_count": 108,
   "id": "5611f64e",
   "metadata": {},
   "outputs": [
    {
     "data": {
      "text/plain": [
       "India        Delhi\n",
       "Russia      Moscow\n",
       "Vietnam      Hanoi\n",
       "China      Beijing\n",
       "dtype: object"
      ]
     },
     "execution_count": 108,
     "metadata": {},
     "output_type": "execute_result"
    }
   ],
   "source": [
    "cc.loc['India':'China']"
   ]
  },
  {
   "cell_type": "code",
   "execution_count": 109,
   "id": "0316f81d",
   "metadata": {},
   "outputs": [
    {
     "data": {
      "text/plain": [
       "India      Delhi\n",
       "Vietnam    Hanoi\n",
       "dtype: object"
      ]
     },
     "execution_count": 109,
     "metadata": {},
     "output_type": "execute_result"
    }
   ],
   "source": [
    "cc.loc['India':'China':2]"
   ]
  },
  {
   "cell_type": "code",
   "execution_count": 113,
   "id": "e17a02b8",
   "metadata": {},
   "outputs": [
    {
     "data": {
      "text/plain": [
       "Indonesia    Jakarta\n",
       "Japan          Tokyo\n",
       "U.K.          London\n",
       "China        Beijing\n",
       "Vietnam        Hanoi\n",
       "Russia        Moscow\n",
       "India          Delhi\n",
       "dtype: object"
      ]
     },
     "execution_count": 113,
     "metadata": {},
     "output_type": "execute_result"
    }
   ],
   "source": [
    "cc.loc['Indonesia':'India':-1]"
   ]
  },
  {
   "cell_type": "code",
   "execution_count": 114,
   "id": "58875ff0",
   "metadata": {},
   "outputs": [
    {
     "data": {
      "text/plain": [
       "India          Delhi\n",
       "Russia        Moscow\n",
       "Vietnam        Hanoi\n",
       "China        Beijing\n",
       "U.K.          London\n",
       "Japan          Tokyo\n",
       "Indonesia    Jakarta\n",
       "dtype: object"
      ]
     },
     "execution_count": 114,
     "metadata": {},
     "output_type": "execute_result"
    }
   ],
   "source": [
    "cc"
   ]
  },
  {
   "cell_type": "code",
   "execution_count": 115,
   "id": "7e270799",
   "metadata": {},
   "outputs": [],
   "source": [
    "# Fetch Beijing"
   ]
  },
  {
   "cell_type": "code",
   "execution_count": 116,
   "id": "7a77eeb8",
   "metadata": {},
   "outputs": [
    {
     "data": {
      "text/plain": [
       "'Beijing'"
      ]
     },
     "execution_count": 116,
     "metadata": {},
     "output_type": "execute_result"
    }
   ],
   "source": [
    "cc.iloc[3]"
   ]
  },
  {
   "cell_type": "code",
   "execution_count": 117,
   "id": "1d8bb12b",
   "metadata": {},
   "outputs": [
    {
     "data": {
      "text/plain": [
       "'Beijing'"
      ]
     },
     "execution_count": 117,
     "metadata": {},
     "output_type": "execute_result"
    }
   ],
   "source": [
    "cc.loc['China']"
   ]
  },
  {
   "cell_type": "code",
   "execution_count": 118,
   "id": "b0f7d7e8",
   "metadata": {},
   "outputs": [
    {
     "data": {
      "text/plain": [
       "'Beijing'"
      ]
     },
     "execution_count": 118,
     "metadata": {},
     "output_type": "execute_result"
    }
   ],
   "source": [
    "cc.iloc[-4]"
   ]
  },
  {
   "cell_type": "code",
   "execution_count": 120,
   "id": "9eb95687",
   "metadata": {},
   "outputs": [
    {
     "data": {
      "text/plain": [
       "'Jakarta'"
      ]
     },
     "execution_count": 120,
     "metadata": {},
     "output_type": "execute_result"
    }
   ],
   "source": [
    "# Fetch Jakarta\n",
    "\n",
    "cc.iloc[-1]"
   ]
  },
  {
   "cell_type": "code",
   "execution_count": 121,
   "id": "77d18bb3",
   "metadata": {},
   "outputs": [
    {
     "data": {
      "text/plain": [
       "'Jakarta'"
      ]
     },
     "execution_count": 121,
     "metadata": {},
     "output_type": "execute_result"
    }
   ],
   "source": [
    "cc.iloc[6]"
   ]
  },
  {
   "cell_type": "code",
   "execution_count": 124,
   "id": "738fac3a",
   "metadata": {},
   "outputs": [
    {
     "data": {
      "text/plain": [
       "'Jakarta'"
      ]
     },
     "execution_count": 124,
     "metadata": {},
     "output_type": "execute_result"
    }
   ],
   "source": [
    "cc.iloc[len(cc)-1]"
   ]
  },
  {
   "cell_type": "code",
   "execution_count": 125,
   "id": "c49462d9",
   "metadata": {},
   "outputs": [
    {
     "data": {
      "text/plain": [
       "'Jakarta'"
      ]
     },
     "execution_count": 125,
     "metadata": {},
     "output_type": "execute_result"
    }
   ],
   "source": [
    "cc.loc['Indonesia']"
   ]
  },
  {
   "cell_type": "markdown",
   "id": "fb57a668",
   "metadata": {},
   "source": [
    "# Operations on a Series"
   ]
  },
  {
   "cell_type": "code",
   "execution_count": 126,
   "id": "49010207",
   "metadata": {},
   "outputs": [],
   "source": [
    "arr=np.random.randint(10,100,12)"
   ]
  },
  {
   "cell_type": "code",
   "execution_count": 128,
   "id": "443ed720",
   "metadata": {},
   "outputs": [
    {
     "data": {
      "text/plain": [
       "0     63\n",
       "1     59\n",
       "2     19\n",
       "3     69\n",
       "4     43\n",
       "5     40\n",
       "6     95\n",
       "7     94\n",
       "8     96\n",
       "9     44\n",
       "10    10\n",
       "11    85\n",
       "dtype: int32"
      ]
     },
     "execution_count": 128,
     "metadata": {},
     "output_type": "execute_result"
    }
   ],
   "source": [
    "num=pd.Series(arr)\n",
    "num"
   ]
  },
  {
   "cell_type": "code",
   "execution_count": 129,
   "id": "f82c0636",
   "metadata": {},
   "outputs": [
    {
     "data": {
      "text/plain": [
       "717"
      ]
     },
     "execution_count": 129,
     "metadata": {},
     "output_type": "execute_result"
    }
   ],
   "source": [
    "num.sum()"
   ]
  },
  {
   "cell_type": "code",
   "execution_count": 130,
   "id": "8f6be3ab",
   "metadata": {},
   "outputs": [
    {
     "data": {
      "text/plain": [
       "59.75"
      ]
     },
     "execution_count": 130,
     "metadata": {},
     "output_type": "execute_result"
    }
   ],
   "source": [
    "num.mean()"
   ]
  },
  {
   "cell_type": "code",
   "execution_count": 131,
   "id": "fc7f27dd",
   "metadata": {},
   "outputs": [
    {
     "data": {
      "text/plain": [
       "61.0"
      ]
     },
     "execution_count": 131,
     "metadata": {},
     "output_type": "execute_result"
    }
   ],
   "source": [
    "num.median()"
   ]
  },
  {
   "cell_type": "code",
   "execution_count": 132,
   "id": "4130d675",
   "metadata": {},
   "outputs": [
    {
     "data": {
      "text/plain": [
       "865.2954545454545"
      ]
     },
     "execution_count": 132,
     "metadata": {},
     "output_type": "execute_result"
    }
   ],
   "source": [
    "num.var()"
   ]
  },
  {
   "cell_type": "code",
   "execution_count": 133,
   "id": "b82496e8",
   "metadata": {},
   "outputs": [
    {
     "data": {
      "text/plain": [
       "29.415904788829028"
      ]
     },
     "execution_count": 133,
     "metadata": {},
     "output_type": "execute_result"
    }
   ],
   "source": [
    "num.std()"
   ]
  },
  {
   "cell_type": "code",
   "execution_count": 134,
   "id": "47de60c5",
   "metadata": {},
   "outputs": [
    {
     "data": {
      "text/plain": [
       "96"
      ]
     },
     "execution_count": 134,
     "metadata": {},
     "output_type": "execute_result"
    }
   ],
   "source": [
    "num.max()"
   ]
  },
  {
   "cell_type": "code",
   "execution_count": 135,
   "id": "6773f6f9",
   "metadata": {},
   "outputs": [
    {
     "data": {
      "text/plain": [
       "10"
      ]
     },
     "execution_count": 135,
     "metadata": {},
     "output_type": "execute_result"
    }
   ],
   "source": [
    "num.min()"
   ]
  },
  {
   "cell_type": "markdown",
   "id": "8e28cfa9",
   "metadata": {},
   "source": [
    "# Sorting a series"
   ]
  },
  {
   "cell_type": "code",
   "execution_count": 136,
   "id": "b2624cc3",
   "metadata": {},
   "outputs": [],
   "source": [
    "# ser.sort_values()"
   ]
  },
  {
   "cell_type": "code",
   "execution_count": 137,
   "id": "5c004d67",
   "metadata": {},
   "outputs": [
    {
     "data": {
      "text/plain": [
       "0     63\n",
       "1     59\n",
       "2     19\n",
       "3     69\n",
       "4     43\n",
       "5     40\n",
       "6     95\n",
       "7     94\n",
       "8     96\n",
       "9     44\n",
       "10    10\n",
       "11    85\n",
       "dtype: int32"
      ]
     },
     "execution_count": 137,
     "metadata": {},
     "output_type": "execute_result"
    }
   ],
   "source": [
    "num"
   ]
  },
  {
   "cell_type": "code",
   "execution_count": 140,
   "id": "d3f93750",
   "metadata": {},
   "outputs": [
    {
     "data": {
      "text/plain": [
       "0     10\n",
       "1     19\n",
       "2     40\n",
       "3     43\n",
       "4     44\n",
       "5     59\n",
       "6     63\n",
       "7     69\n",
       "8     85\n",
       "9     94\n",
       "10    95\n",
       "11    96\n",
       "dtype: int32"
      ]
     },
     "execution_count": 140,
     "metadata": {},
     "output_type": "execute_result"
    }
   ],
   "source": [
    "num.sort_values(ignore_index=True)"
   ]
  },
  {
   "cell_type": "code",
   "execution_count": 139,
   "id": "1689f65d",
   "metadata": {},
   "outputs": [
    {
     "data": {
      "text/plain": [
       "0     63\n",
       "1     59\n",
       "2     19\n",
       "3     69\n",
       "4     43\n",
       "5     40\n",
       "6     95\n",
       "7     94\n",
       "8     96\n",
       "9     44\n",
       "10    10\n",
       "11    85\n",
       "dtype: int32"
      ]
     },
     "execution_count": 139,
     "metadata": {},
     "output_type": "execute_result"
    }
   ],
   "source": [
    "num"
   ]
  },
  {
   "cell_type": "code",
   "execution_count": 141,
   "id": "fd6890eb",
   "metadata": {},
   "outputs": [
    {
     "data": {
      "text/plain": [
       "0     63\n",
       "1     59\n",
       "2     19\n",
       "3     69\n",
       "4     43\n",
       "5     40\n",
       "6     95\n",
       "7     94\n",
       "8     96\n",
       "9     44\n",
       "10    10\n",
       "11    85\n",
       "dtype: int32"
      ]
     },
     "execution_count": 141,
     "metadata": {},
     "output_type": "execute_result"
    }
   ],
   "source": [
    "num"
   ]
  },
  {
   "cell_type": "code",
   "execution_count": 146,
   "id": "1acc4d5a",
   "metadata": {},
   "outputs": [
    {
     "data": {
      "text/plain": [
       "0     96\n",
       "1     95\n",
       "2     94\n",
       "3     85\n",
       "4     69\n",
       "5     63\n",
       "6     59\n",
       "7     44\n",
       "8     43\n",
       "9     40\n",
       "10    19\n",
       "11    10\n",
       "dtype: int32"
      ]
     },
     "execution_count": 146,
     "metadata": {},
     "output_type": "execute_result"
    }
   ],
   "source": [
    "num.sort_values(ascending=False,ignore_index=True)"
   ]
  },
  {
   "cell_type": "markdown",
   "id": "91d4fb4d",
   "metadata": {},
   "source": [
    "# 2- Dataframe"
   ]
  },
  {
   "cell_type": "markdown",
   "id": "8e81384e",
   "metadata": {},
   "source": [
    "- It is like a 2-D array structure.\n",
    "- It can be considered as an excel table.\n",
    "- It is the collection of rows and columns."
   ]
  },
  {
   "cell_type": "markdown",
   "id": "9bf28c11",
   "metadata": {},
   "source": [
    "# How to create a dataframe"
   ]
  },
  {
   "cell_type": "code",
   "execution_count": 147,
   "id": "a4f279a4",
   "metadata": {},
   "outputs": [],
   "source": [
    "# pd.DataFrame()"
   ]
  },
  {
   "cell_type": "markdown",
   "id": "e2797835",
   "metadata": {},
   "source": [
    "# Using a 2-D list"
   ]
  },
  {
   "cell_type": "code",
   "execution_count": 150,
   "id": "050ef691",
   "metadata": {},
   "outputs": [],
   "source": [
    "names=['Aravind','Shweta','Suraj','Rajesh','Priya','Vaishali']\n",
    "ID=[101,102,103,104,105,106]\n",
    "city=['Delhi','Agra','Chandigarh','Pune','Hyderabd','Bangalore']"
   ]
  },
  {
   "cell_type": "code",
   "execution_count": 158,
   "id": "77c75e85",
   "metadata": {},
   "outputs": [
    {
     "data": {
      "text/plain": [
       "[['Aravind', 'Shweta', 'Suraj', 'Rajesh', 'Priya', 'Vaishali'],\n",
       " [101, 102, 103, 104, 105, 106],\n",
       " ['Delhi', 'Agra', 'Chandigarh', 'Pune', 'Hyderabd', 'Bangalore']]"
      ]
     },
     "execution_count": 158,
     "metadata": {},
     "output_type": "execute_result"
    }
   ],
   "source": [
    "lst=[names,ID,city]\n",
    "lst"
   ]
  },
  {
   "cell_type": "code",
   "execution_count": 159,
   "id": "d596c1b3",
   "metadata": {},
   "outputs": [
    {
     "data": {
      "text/html": [
       "<div>\n",
       "<style scoped>\n",
       "    .dataframe tbody tr th:only-of-type {\n",
       "        vertical-align: middle;\n",
       "    }\n",
       "\n",
       "    .dataframe tbody tr th {\n",
       "        vertical-align: top;\n",
       "    }\n",
       "\n",
       "    .dataframe thead th {\n",
       "        text-align: right;\n",
       "    }\n",
       "</style>\n",
       "<table border=\"1\" class=\"dataframe\">\n",
       "  <thead>\n",
       "    <tr style=\"text-align: right;\">\n",
       "      <th></th>\n",
       "      <th>0</th>\n",
       "      <th>1</th>\n",
       "      <th>2</th>\n",
       "      <th>3</th>\n",
       "      <th>4</th>\n",
       "      <th>5</th>\n",
       "    </tr>\n",
       "  </thead>\n",
       "  <tbody>\n",
       "    <tr>\n",
       "      <th>0</th>\n",
       "      <td>Aravind</td>\n",
       "      <td>Shweta</td>\n",
       "      <td>Suraj</td>\n",
       "      <td>Rajesh</td>\n",
       "      <td>Priya</td>\n",
       "      <td>Vaishali</td>\n",
       "    </tr>\n",
       "    <tr>\n",
       "      <th>1</th>\n",
       "      <td>101</td>\n",
       "      <td>102</td>\n",
       "      <td>103</td>\n",
       "      <td>104</td>\n",
       "      <td>105</td>\n",
       "      <td>106</td>\n",
       "    </tr>\n",
       "    <tr>\n",
       "      <th>2</th>\n",
       "      <td>Delhi</td>\n",
       "      <td>Agra</td>\n",
       "      <td>Chandigarh</td>\n",
       "      <td>Pune</td>\n",
       "      <td>Hyderabd</td>\n",
       "      <td>Bangalore</td>\n",
       "    </tr>\n",
       "  </tbody>\n",
       "</table>\n",
       "</div>"
      ],
      "text/plain": [
       "         0       1           2       3         4          5\n",
       "0  Aravind  Shweta       Suraj  Rajesh     Priya   Vaishali\n",
       "1      101     102         103     104       105        106\n",
       "2    Delhi    Agra  Chandigarh    Pune  Hyderabd  Bangalore"
      ]
     },
     "execution_count": 159,
     "metadata": {},
     "output_type": "execute_result"
    }
   ],
   "source": [
    "df=pd.DataFrame(lst)\n",
    "df"
   ]
  },
  {
   "cell_type": "code",
   "execution_count": 160,
   "id": "23dd15e0",
   "metadata": {},
   "outputs": [
    {
     "data": {
      "text/html": [
       "<div>\n",
       "<style scoped>\n",
       "    .dataframe tbody tr th:only-of-type {\n",
       "        vertical-align: middle;\n",
       "    }\n",
       "\n",
       "    .dataframe tbody tr th {\n",
       "        vertical-align: top;\n",
       "    }\n",
       "\n",
       "    .dataframe thead th {\n",
       "        text-align: right;\n",
       "    }\n",
       "</style>\n",
       "<table border=\"1\" class=\"dataframe\">\n",
       "  <thead>\n",
       "    <tr style=\"text-align: right;\">\n",
       "      <th></th>\n",
       "      <th>0</th>\n",
       "      <th>1</th>\n",
       "      <th>2</th>\n",
       "    </tr>\n",
       "  </thead>\n",
       "  <tbody>\n",
       "    <tr>\n",
       "      <th>0</th>\n",
       "      <td>Aravind</td>\n",
       "      <td>101</td>\n",
       "      <td>Delhi</td>\n",
       "    </tr>\n",
       "    <tr>\n",
       "      <th>1</th>\n",
       "      <td>Shweta</td>\n",
       "      <td>102</td>\n",
       "      <td>Agra</td>\n",
       "    </tr>\n",
       "    <tr>\n",
       "      <th>2</th>\n",
       "      <td>Suraj</td>\n",
       "      <td>103</td>\n",
       "      <td>Chandigarh</td>\n",
       "    </tr>\n",
       "    <tr>\n",
       "      <th>3</th>\n",
       "      <td>Rajesh</td>\n",
       "      <td>104</td>\n",
       "      <td>Pune</td>\n",
       "    </tr>\n",
       "    <tr>\n",
       "      <th>4</th>\n",
       "      <td>Priya</td>\n",
       "      <td>105</td>\n",
       "      <td>Hyderabd</td>\n",
       "    </tr>\n",
       "    <tr>\n",
       "      <th>5</th>\n",
       "      <td>Vaishali</td>\n",
       "      <td>106</td>\n",
       "      <td>Bangalore</td>\n",
       "    </tr>\n",
       "  </tbody>\n",
       "</table>\n",
       "</div>"
      ],
      "text/plain": [
       "          0    1           2\n",
       "0   Aravind  101       Delhi\n",
       "1    Shweta  102        Agra\n",
       "2     Suraj  103  Chandigarh\n",
       "3    Rajesh  104        Pune\n",
       "4     Priya  105    Hyderabd\n",
       "5  Vaishali  106   Bangalore"
      ]
     },
     "execution_count": 160,
     "metadata": {},
     "output_type": "execute_result"
    }
   ],
   "source": [
    "df=pd.DataFrame(lst).T\n",
    "df"
   ]
  },
  {
   "cell_type": "code",
   "execution_count": 162,
   "id": "1c6b5b2b",
   "metadata": {},
   "outputs": [],
   "source": [
    "df.columns=['Name','ID','City']"
   ]
  },
  {
   "cell_type": "code",
   "execution_count": 163,
   "id": "8b0a26cf",
   "metadata": {},
   "outputs": [
    {
     "data": {
      "text/html": [
       "<div>\n",
       "<style scoped>\n",
       "    .dataframe tbody tr th:only-of-type {\n",
       "        vertical-align: middle;\n",
       "    }\n",
       "\n",
       "    .dataframe tbody tr th {\n",
       "        vertical-align: top;\n",
       "    }\n",
       "\n",
       "    .dataframe thead th {\n",
       "        text-align: right;\n",
       "    }\n",
       "</style>\n",
       "<table border=\"1\" class=\"dataframe\">\n",
       "  <thead>\n",
       "    <tr style=\"text-align: right;\">\n",
       "      <th></th>\n",
       "      <th>Name</th>\n",
       "      <th>ID</th>\n",
       "      <th>City</th>\n",
       "    </tr>\n",
       "  </thead>\n",
       "  <tbody>\n",
       "    <tr>\n",
       "      <th>0</th>\n",
       "      <td>Aravind</td>\n",
       "      <td>101</td>\n",
       "      <td>Delhi</td>\n",
       "    </tr>\n",
       "    <tr>\n",
       "      <th>1</th>\n",
       "      <td>Shweta</td>\n",
       "      <td>102</td>\n",
       "      <td>Agra</td>\n",
       "    </tr>\n",
       "    <tr>\n",
       "      <th>2</th>\n",
       "      <td>Suraj</td>\n",
       "      <td>103</td>\n",
       "      <td>Chandigarh</td>\n",
       "    </tr>\n",
       "    <tr>\n",
       "      <th>3</th>\n",
       "      <td>Rajesh</td>\n",
       "      <td>104</td>\n",
       "      <td>Pune</td>\n",
       "    </tr>\n",
       "    <tr>\n",
       "      <th>4</th>\n",
       "      <td>Priya</td>\n",
       "      <td>105</td>\n",
       "      <td>Hyderabd</td>\n",
       "    </tr>\n",
       "    <tr>\n",
       "      <th>5</th>\n",
       "      <td>Vaishali</td>\n",
       "      <td>106</td>\n",
       "      <td>Bangalore</td>\n",
       "    </tr>\n",
       "  </tbody>\n",
       "</table>\n",
       "</div>"
      ],
      "text/plain": [
       "       Name   ID        City\n",
       "0   Aravind  101       Delhi\n",
       "1    Shweta  102        Agra\n",
       "2     Suraj  103  Chandigarh\n",
       "3    Rajesh  104        Pune\n",
       "4     Priya  105    Hyderabd\n",
       "5  Vaishali  106   Bangalore"
      ]
     },
     "execution_count": 163,
     "metadata": {},
     "output_type": "execute_result"
    }
   ],
   "source": [
    "df"
   ]
  },
  {
   "cell_type": "code",
   "execution_count": 165,
   "id": "2717ea36",
   "metadata": {},
   "outputs": [
    {
     "data": {
      "text/plain": [
       "[['Aravind', 101, 'Delhi'],\n",
       " ['Shweta', 102, 'Agra'],\n",
       " ['Suraj', 103, 'Chandigarh'],\n",
       " ['Rajesh', 104, 'Pune'],\n",
       " ['Priya', 105, 'Hyderabad'],\n",
       " ['Vaishali', 106, 'Bangalore']]"
      ]
     },
     "execution_count": 165,
     "metadata": {},
     "output_type": "execute_result"
    }
   ],
   "source": [
    "lst=[['Aravind',101,'Delhi'],['Shweta',102,'Agra'],['Suraj',103,'Chandigarh'],['Rajesh',104,'Pune'],['Priya',105,'Hyderabad'],['Vaishali',106,'Bangalore']]\n",
    "lst"
   ]
  },
  {
   "cell_type": "code",
   "execution_count": 167,
   "id": "2189781f",
   "metadata": {},
   "outputs": [
    {
     "data": {
      "text/html": [
       "<div>\n",
       "<style scoped>\n",
       "    .dataframe tbody tr th:only-of-type {\n",
       "        vertical-align: middle;\n",
       "    }\n",
       "\n",
       "    .dataframe tbody tr th {\n",
       "        vertical-align: top;\n",
       "    }\n",
       "\n",
       "    .dataframe thead th {\n",
       "        text-align: right;\n",
       "    }\n",
       "</style>\n",
       "<table border=\"1\" class=\"dataframe\">\n",
       "  <thead>\n",
       "    <tr style=\"text-align: right;\">\n",
       "      <th></th>\n",
       "      <th>Name</th>\n",
       "      <th>ID</th>\n",
       "      <th>City</th>\n",
       "    </tr>\n",
       "  </thead>\n",
       "  <tbody>\n",
       "    <tr>\n",
       "      <th>0</th>\n",
       "      <td>Aravind</td>\n",
       "      <td>101</td>\n",
       "      <td>Delhi</td>\n",
       "    </tr>\n",
       "    <tr>\n",
       "      <th>1</th>\n",
       "      <td>Shweta</td>\n",
       "      <td>102</td>\n",
       "      <td>Agra</td>\n",
       "    </tr>\n",
       "    <tr>\n",
       "      <th>2</th>\n",
       "      <td>Suraj</td>\n",
       "      <td>103</td>\n",
       "      <td>Chandigarh</td>\n",
       "    </tr>\n",
       "    <tr>\n",
       "      <th>3</th>\n",
       "      <td>Rajesh</td>\n",
       "      <td>104</td>\n",
       "      <td>Pune</td>\n",
       "    </tr>\n",
       "    <tr>\n",
       "      <th>4</th>\n",
       "      <td>Priya</td>\n",
       "      <td>105</td>\n",
       "      <td>Hyderabad</td>\n",
       "    </tr>\n",
       "    <tr>\n",
       "      <th>5</th>\n",
       "      <td>Vaishali</td>\n",
       "      <td>106</td>\n",
       "      <td>Bangalore</td>\n",
       "    </tr>\n",
       "  </tbody>\n",
       "</table>\n",
       "</div>"
      ],
      "text/plain": [
       "       Name   ID        City\n",
       "0   Aravind  101       Delhi\n",
       "1    Shweta  102        Agra\n",
       "2     Suraj  103  Chandigarh\n",
       "3    Rajesh  104        Pune\n",
       "4     Priya  105   Hyderabad\n",
       "5  Vaishali  106   Bangalore"
      ]
     },
     "execution_count": 167,
     "metadata": {},
     "output_type": "execute_result"
    }
   ],
   "source": [
    "pd.DataFrame(lst,columns=['Name','ID','City'])"
   ]
  },
  {
   "cell_type": "markdown",
   "id": "5ad0fafb",
   "metadata": {},
   "source": [
    "# Creating a dataframe using a dictionary"
   ]
  },
  {
   "cell_type": "markdown",
   "id": "07badc76",
   "metadata": {},
   "source": [
    "- When we create a dataframe using a dictionary then keys of the dictionary become the column names in the dataframe."
   ]
  },
  {
   "cell_type": "code",
   "execution_count": 174,
   "id": "e7754c8f",
   "metadata": {},
   "outputs": [],
   "source": [
    "emp={'Name':['Rajesh','Shubham','Pragya','Surendra','Aniket','Shweta'],\n",
    "    'ID':[101,102,103,104,105,106],\n",
    "    'City':['Pune','Chennai','Mumbai','Bangalore','Hyderabad','Noida']}"
   ]
  },
  {
   "cell_type": "code",
   "execution_count": 175,
   "id": "7c1b3aca",
   "metadata": {},
   "outputs": [
    {
     "data": {
      "text/plain": [
       "{'Name': ['Rajesh', 'Shubham', 'Pragya', 'Surendra', 'Aniket', 'Shweta'],\n",
       " 'ID': [101, 102, 103, 104, 105, 106],\n",
       " 'City': ['Pune', 'Chennai', 'Mumbai', 'Bangalore', 'Hyderabad', 'Noida']}"
      ]
     },
     "execution_count": 175,
     "metadata": {},
     "output_type": "execute_result"
    }
   ],
   "source": [
    "emp"
   ]
  },
  {
   "cell_type": "code",
   "execution_count": 176,
   "id": "12666045",
   "metadata": {},
   "outputs": [
    {
     "data": {
      "text/html": [
       "<div>\n",
       "<style scoped>\n",
       "    .dataframe tbody tr th:only-of-type {\n",
       "        vertical-align: middle;\n",
       "    }\n",
       "\n",
       "    .dataframe tbody tr th {\n",
       "        vertical-align: top;\n",
       "    }\n",
       "\n",
       "    .dataframe thead th {\n",
       "        text-align: right;\n",
       "    }\n",
       "</style>\n",
       "<table border=\"1\" class=\"dataframe\">\n",
       "  <thead>\n",
       "    <tr style=\"text-align: right;\">\n",
       "      <th></th>\n",
       "      <th>Name</th>\n",
       "      <th>ID</th>\n",
       "      <th>City</th>\n",
       "    </tr>\n",
       "  </thead>\n",
       "  <tbody>\n",
       "    <tr>\n",
       "      <th>0</th>\n",
       "      <td>Rajesh</td>\n",
       "      <td>101</td>\n",
       "      <td>Pune</td>\n",
       "    </tr>\n",
       "    <tr>\n",
       "      <th>1</th>\n",
       "      <td>Shubham</td>\n",
       "      <td>102</td>\n",
       "      <td>Chennai</td>\n",
       "    </tr>\n",
       "    <tr>\n",
       "      <th>2</th>\n",
       "      <td>Pragya</td>\n",
       "      <td>103</td>\n",
       "      <td>Mumbai</td>\n",
       "    </tr>\n",
       "    <tr>\n",
       "      <th>3</th>\n",
       "      <td>Surendra</td>\n",
       "      <td>104</td>\n",
       "      <td>Bangalore</td>\n",
       "    </tr>\n",
       "    <tr>\n",
       "      <th>4</th>\n",
       "      <td>Aniket</td>\n",
       "      <td>105</td>\n",
       "      <td>Hyderabad</td>\n",
       "    </tr>\n",
       "    <tr>\n",
       "      <th>5</th>\n",
       "      <td>Shweta</td>\n",
       "      <td>106</td>\n",
       "      <td>Noida</td>\n",
       "    </tr>\n",
       "  </tbody>\n",
       "</table>\n",
       "</div>"
      ],
      "text/plain": [
       "       Name   ID       City\n",
       "0    Rajesh  101       Pune\n",
       "1   Shubham  102    Chennai\n",
       "2    Pragya  103     Mumbai\n",
       "3  Surendra  104  Bangalore\n",
       "4    Aniket  105  Hyderabad\n",
       "5    Shweta  106      Noida"
      ]
     },
     "execution_count": 176,
     "metadata": {},
     "output_type": "execute_result"
    }
   ],
   "source": [
    "pd.DataFrame(emp)"
   ]
  },
  {
   "cell_type": "markdown",
   "id": "d94a9055",
   "metadata": {},
   "source": [
    "# Creating a Dataframe using series"
   ]
  },
  {
   "cell_type": "code",
   "execution_count": 178,
   "id": "eeb63e23",
   "metadata": {},
   "outputs": [],
   "source": [
    "ns=pd.Series(['Rajesh','Shubham','Pragya','Surendra','Aniket','Shweta'])\n",
    "ids=pd.Series([101,102,103,104,105,106])"
   ]
  },
  {
   "cell_type": "code",
   "execution_count": 179,
   "id": "ebb2088c",
   "metadata": {},
   "outputs": [
    {
     "data": {
      "text/plain": [
       "0      Rajesh\n",
       "1     Shubham\n",
       "2      Pragya\n",
       "3    Surendra\n",
       "4      Aniket\n",
       "5      Shweta\n",
       "dtype: object"
      ]
     },
     "execution_count": 179,
     "metadata": {},
     "output_type": "execute_result"
    }
   ],
   "source": [
    "ns"
   ]
  },
  {
   "cell_type": "code",
   "execution_count": 180,
   "id": "948e807f",
   "metadata": {},
   "outputs": [
    {
     "data": {
      "text/plain": [
       "0    101\n",
       "1    102\n",
       "2    103\n",
       "3    104\n",
       "4    105\n",
       "5    106\n",
       "dtype: int64"
      ]
     },
     "execution_count": 180,
     "metadata": {},
     "output_type": "execute_result"
    }
   ],
   "source": [
    "ids"
   ]
  },
  {
   "cell_type": "code",
   "execution_count": 183,
   "id": "2464f031",
   "metadata": {},
   "outputs": [
    {
     "data": {
      "text/html": [
       "<div>\n",
       "<style scoped>\n",
       "    .dataframe tbody tr th:only-of-type {\n",
       "        vertical-align: middle;\n",
       "    }\n",
       "\n",
       "    .dataframe tbody tr th {\n",
       "        vertical-align: top;\n",
       "    }\n",
       "\n",
       "    .dataframe thead th {\n",
       "        text-align: right;\n",
       "    }\n",
       "</style>\n",
       "<table border=\"1\" class=\"dataframe\">\n",
       "  <thead>\n",
       "    <tr style=\"text-align: right;\">\n",
       "      <th></th>\n",
       "      <th>0</th>\n",
       "      <th>1</th>\n",
       "    </tr>\n",
       "  </thead>\n",
       "  <tbody>\n",
       "    <tr>\n",
       "      <th>0</th>\n",
       "      <td>Rajesh</td>\n",
       "      <td>101</td>\n",
       "    </tr>\n",
       "    <tr>\n",
       "      <th>1</th>\n",
       "      <td>Shubham</td>\n",
       "      <td>102</td>\n",
       "    </tr>\n",
       "    <tr>\n",
       "      <th>2</th>\n",
       "      <td>Pragya</td>\n",
       "      <td>103</td>\n",
       "    </tr>\n",
       "    <tr>\n",
       "      <th>3</th>\n",
       "      <td>Surendra</td>\n",
       "      <td>104</td>\n",
       "    </tr>\n",
       "    <tr>\n",
       "      <th>4</th>\n",
       "      <td>Aniket</td>\n",
       "      <td>105</td>\n",
       "    </tr>\n",
       "    <tr>\n",
       "      <th>5</th>\n",
       "      <td>Shweta</td>\n",
       "      <td>106</td>\n",
       "    </tr>\n",
       "  </tbody>\n",
       "</table>\n",
       "</div>"
      ],
      "text/plain": [
       "          0    1\n",
       "0    Rajesh  101\n",
       "1   Shubham  102\n",
       "2    Pragya  103\n",
       "3  Surendra  104\n",
       "4    Aniket  105\n",
       "5    Shweta  106"
      ]
     },
     "execution_count": 183,
     "metadata": {},
     "output_type": "execute_result"
    }
   ],
   "source": [
    "pd.DataFrame([ns,ids]).T"
   ]
  },
  {
   "cell_type": "code",
   "execution_count": 185,
   "id": "fa5559e1",
   "metadata": {},
   "outputs": [],
   "source": [
    "ns.name='Emp_Name'"
   ]
  },
  {
   "cell_type": "code",
   "execution_count": 186,
   "id": "59f5a990",
   "metadata": {},
   "outputs": [
    {
     "data": {
      "text/plain": [
       "0      Rajesh\n",
       "1     Shubham\n",
       "2      Pragya\n",
       "3    Surendra\n",
       "4      Aniket\n",
       "5      Shweta\n",
       "Name: Emp_Name, dtype: object"
      ]
     },
     "execution_count": 186,
     "metadata": {},
     "output_type": "execute_result"
    }
   ],
   "source": [
    "ns"
   ]
  },
  {
   "cell_type": "code",
   "execution_count": 188,
   "id": "f22f8def",
   "metadata": {},
   "outputs": [],
   "source": [
    "ids.name='Code'"
   ]
  },
  {
   "cell_type": "code",
   "execution_count": 189,
   "id": "e1f3ea2f",
   "metadata": {},
   "outputs": [
    {
     "data": {
      "text/plain": [
       "0    101\n",
       "1    102\n",
       "2    103\n",
       "3    104\n",
       "4    105\n",
       "5    106\n",
       "Name: Code, dtype: int64"
      ]
     },
     "execution_count": 189,
     "metadata": {},
     "output_type": "execute_result"
    }
   ],
   "source": [
    "ids"
   ]
  },
  {
   "cell_type": "code",
   "execution_count": 193,
   "id": "8f924aa6",
   "metadata": {},
   "outputs": [
    {
     "data": {
      "text/html": [
       "<div>\n",
       "<style scoped>\n",
       "    .dataframe tbody tr th:only-of-type {\n",
       "        vertical-align: middle;\n",
       "    }\n",
       "\n",
       "    .dataframe tbody tr th {\n",
       "        vertical-align: top;\n",
       "    }\n",
       "\n",
       "    .dataframe thead th {\n",
       "        text-align: right;\n",
       "    }\n",
       "</style>\n",
       "<table border=\"1\" class=\"dataframe\">\n",
       "  <thead>\n",
       "    <tr style=\"text-align: right;\">\n",
       "      <th></th>\n",
       "      <th>0</th>\n",
       "      <th>1</th>\n",
       "      <th>2</th>\n",
       "      <th>3</th>\n",
       "      <th>4</th>\n",
       "      <th>5</th>\n",
       "    </tr>\n",
       "  </thead>\n",
       "  <tbody>\n",
       "    <tr>\n",
       "      <th>Emp_Name</th>\n",
       "      <td>Rajesh</td>\n",
       "      <td>Shubham</td>\n",
       "      <td>Pragya</td>\n",
       "      <td>Surendra</td>\n",
       "      <td>Aniket</td>\n",
       "      <td>Shweta</td>\n",
       "    </tr>\n",
       "    <tr>\n",
       "      <th>Code</th>\n",
       "      <td>101</td>\n",
       "      <td>102</td>\n",
       "      <td>103</td>\n",
       "      <td>104</td>\n",
       "      <td>105</td>\n",
       "      <td>106</td>\n",
       "    </tr>\n",
       "  </tbody>\n",
       "</table>\n",
       "</div>"
      ],
      "text/plain": [
       "               0        1       2         3       4       5\n",
       "Emp_Name  Rajesh  Shubham  Pragya  Surendra  Aniket  Shweta\n",
       "Code         101      102     103       104     105     106"
      ]
     },
     "execution_count": 193,
     "metadata": {},
     "output_type": "execute_result"
    }
   ],
   "source": [
    "pd.DataFrame([ns,ids])"
   ]
  },
  {
   "cell_type": "code",
   "execution_count": 192,
   "id": "280ac16d",
   "metadata": {},
   "outputs": [
    {
     "data": {
      "text/html": [
       "<div>\n",
       "<style scoped>\n",
       "    .dataframe tbody tr th:only-of-type {\n",
       "        vertical-align: middle;\n",
       "    }\n",
       "\n",
       "    .dataframe tbody tr th {\n",
       "        vertical-align: top;\n",
       "    }\n",
       "\n",
       "    .dataframe thead th {\n",
       "        text-align: right;\n",
       "    }\n",
       "</style>\n",
       "<table border=\"1\" class=\"dataframe\">\n",
       "  <thead>\n",
       "    <tr style=\"text-align: right;\">\n",
       "      <th></th>\n",
       "      <th>Emp_Name</th>\n",
       "      <th>Code</th>\n",
       "    </tr>\n",
       "  </thead>\n",
       "  <tbody>\n",
       "    <tr>\n",
       "      <th>0</th>\n",
       "      <td>Rajesh</td>\n",
       "      <td>101</td>\n",
       "    </tr>\n",
       "    <tr>\n",
       "      <th>1</th>\n",
       "      <td>Shubham</td>\n",
       "      <td>102</td>\n",
       "    </tr>\n",
       "    <tr>\n",
       "      <th>2</th>\n",
       "      <td>Pragya</td>\n",
       "      <td>103</td>\n",
       "    </tr>\n",
       "    <tr>\n",
       "      <th>3</th>\n",
       "      <td>Surendra</td>\n",
       "      <td>104</td>\n",
       "    </tr>\n",
       "    <tr>\n",
       "      <th>4</th>\n",
       "      <td>Aniket</td>\n",
       "      <td>105</td>\n",
       "    </tr>\n",
       "    <tr>\n",
       "      <th>5</th>\n",
       "      <td>Shweta</td>\n",
       "      <td>106</td>\n",
       "    </tr>\n",
       "  </tbody>\n",
       "</table>\n",
       "</div>"
      ],
      "text/plain": [
       "   Emp_Name Code\n",
       "0    Rajesh  101\n",
       "1   Shubham  102\n",
       "2    Pragya  103\n",
       "3  Surendra  104\n",
       "4    Aniket  105\n",
       "5    Shweta  106"
      ]
     },
     "execution_count": 192,
     "metadata": {},
     "output_type": "execute_result"
    }
   ],
   "source": [
    "emp_data=pd.DataFrame([ns,ids]).T\n",
    "emp_data"
   ]
  },
  {
   "cell_type": "code",
   "execution_count": 194,
   "id": "7e7b6556",
   "metadata": {},
   "outputs": [
    {
     "data": {
      "text/html": [
       "<div>\n",
       "<style scoped>\n",
       "    .dataframe tbody tr th:only-of-type {\n",
       "        vertical-align: middle;\n",
       "    }\n",
       "\n",
       "    .dataframe tbody tr th {\n",
       "        vertical-align: top;\n",
       "    }\n",
       "\n",
       "    .dataframe thead th {\n",
       "        text-align: right;\n",
       "    }\n",
       "</style>\n",
       "<table border=\"1\" class=\"dataframe\">\n",
       "  <thead>\n",
       "    <tr style=\"text-align: right;\">\n",
       "      <th></th>\n",
       "      <th>Emp_Name</th>\n",
       "    </tr>\n",
       "  </thead>\n",
       "  <tbody>\n",
       "    <tr>\n",
       "      <th>0</th>\n",
       "      <td>Rajesh</td>\n",
       "    </tr>\n",
       "    <tr>\n",
       "      <th>1</th>\n",
       "      <td>Shubham</td>\n",
       "    </tr>\n",
       "    <tr>\n",
       "      <th>2</th>\n",
       "      <td>Pragya</td>\n",
       "    </tr>\n",
       "    <tr>\n",
       "      <th>3</th>\n",
       "      <td>Surendra</td>\n",
       "    </tr>\n",
       "    <tr>\n",
       "      <th>4</th>\n",
       "      <td>Aniket</td>\n",
       "    </tr>\n",
       "    <tr>\n",
       "      <th>5</th>\n",
       "      <td>Shweta</td>\n",
       "    </tr>\n",
       "  </tbody>\n",
       "</table>\n",
       "</div>"
      ],
      "text/plain": [
       "   Emp_Name\n",
       "0    Rajesh\n",
       "1   Shubham\n",
       "2    Pragya\n",
       "3  Surendra\n",
       "4    Aniket\n",
       "5    Shweta"
      ]
     },
     "execution_count": 194,
     "metadata": {},
     "output_type": "execute_result"
    }
   ],
   "source": [
    "pd.DataFrame(ns)"
   ]
  },
  {
   "cell_type": "code",
   "execution_count": 195,
   "id": "d861d181",
   "metadata": {},
   "outputs": [],
   "source": [
    "# [ser_1,ser_2,ser_3,ser_4]"
   ]
  },
  {
   "cell_type": "code",
   "execution_count": 196,
   "id": "1b1b84a0",
   "metadata": {},
   "outputs": [
    {
     "data": {
      "text/plain": [
       "0      Rajesh\n",
       "1     Shubham\n",
       "2      Pragya\n",
       "3    Surendra\n",
       "4      Aniket\n",
       "5      Shweta\n",
       "Name: Emp_Name, dtype: object"
      ]
     },
     "execution_count": 196,
     "metadata": {},
     "output_type": "execute_result"
    }
   ],
   "source": [
    "ns"
   ]
  },
  {
   "cell_type": "code",
   "execution_count": 203,
   "id": "bd08a27c",
   "metadata": {},
   "outputs": [
    {
     "data": {
      "text/html": [
       "<div>\n",
       "<style scoped>\n",
       "    .dataframe tbody tr th:only-of-type {\n",
       "        vertical-align: middle;\n",
       "    }\n",
       "\n",
       "    .dataframe tbody tr th {\n",
       "        vertical-align: top;\n",
       "    }\n",
       "\n",
       "    .dataframe thead th {\n",
       "        text-align: right;\n",
       "    }\n",
       "</style>\n",
       "<table border=\"1\" class=\"dataframe\">\n",
       "  <thead>\n",
       "    <tr style=\"text-align: right;\">\n",
       "      <th></th>\n",
       "      <th>Emp_Name</th>\n",
       "      <th>Code</th>\n",
       "    </tr>\n",
       "  </thead>\n",
       "  <tbody>\n",
       "    <tr>\n",
       "      <th>0</th>\n",
       "      <td>Rajesh</td>\n",
       "      <td>101</td>\n",
       "    </tr>\n",
       "    <tr>\n",
       "      <th>1</th>\n",
       "      <td>Shubham</td>\n",
       "      <td>102</td>\n",
       "    </tr>\n",
       "    <tr>\n",
       "      <th>2</th>\n",
       "      <td>Pragya</td>\n",
       "      <td>103</td>\n",
       "    </tr>\n",
       "    <tr>\n",
       "      <th>3</th>\n",
       "      <td>Surendra</td>\n",
       "      <td>104</td>\n",
       "    </tr>\n",
       "    <tr>\n",
       "      <th>4</th>\n",
       "      <td>Aniket</td>\n",
       "      <td>105</td>\n",
       "    </tr>\n",
       "    <tr>\n",
       "      <th>5</th>\n",
       "      <td>Shweta</td>\n",
       "      <td>106</td>\n",
       "    </tr>\n",
       "  </tbody>\n",
       "</table>\n",
       "</div>"
      ],
      "text/plain": [
       "   Emp_Name Code\n",
       "0    Rajesh  101\n",
       "1   Shubham  102\n",
       "2    Pragya  103\n",
       "3  Surendra  104\n",
       "4    Aniket  105\n",
       "5    Shweta  106"
      ]
     },
     "execution_count": 203,
     "metadata": {},
     "output_type": "execute_result"
    }
   ],
   "source": [
    "pd.DataFrame([ns,ids]).T"
   ]
  },
  {
   "cell_type": "code",
   "execution_count": 204,
   "id": "5f4314b7",
   "metadata": {},
   "outputs": [
    {
     "data": {
      "text/plain": [
       "0     Aravind\n",
       "1      Shweta\n",
       "2       Suraj\n",
       "3      Rajesh\n",
       "4       Priya\n",
       "5    Vaishali\n",
       "dtype: object"
      ]
     },
     "execution_count": 204,
     "metadata": {},
     "output_type": "execute_result"
    }
   ],
   "source": [
    "s"
   ]
  },
  {
   "cell_type": "code",
   "execution_count": 206,
   "id": "bd314aab",
   "metadata": {},
   "outputs": [
    {
     "data": {
      "text/plain": [
       "0    100\n",
       "1    200\n",
       "2    300\n",
       "3    400\n",
       "4    500\n",
       "5    600\n",
       "dtype: int64"
      ]
     },
     "execution_count": 206,
     "metadata": {},
     "output_type": "execute_result"
    }
   ],
   "source": [
    "s2=pd.Series([100,200,300,400,500,600])\n",
    "s2"
   ]
  },
  {
   "cell_type": "code",
   "execution_count": 209,
   "id": "f177ef70",
   "metadata": {},
   "outputs": [
    {
     "data": {
      "text/html": [
       "<div>\n",
       "<style scoped>\n",
       "    .dataframe tbody tr th:only-of-type {\n",
       "        vertical-align: middle;\n",
       "    }\n",
       "\n",
       "    .dataframe tbody tr th {\n",
       "        vertical-align: top;\n",
       "    }\n",
       "\n",
       "    .dataframe thead th {\n",
       "        text-align: right;\n",
       "    }\n",
       "</style>\n",
       "<table border=\"1\" class=\"dataframe\">\n",
       "  <thead>\n",
       "    <tr style=\"text-align: right;\">\n",
       "      <th></th>\n",
       "      <th>0</th>\n",
       "      <th>1</th>\n",
       "    </tr>\n",
       "  </thead>\n",
       "  <tbody>\n",
       "    <tr>\n",
       "      <th>0</th>\n",
       "      <td>Aravind</td>\n",
       "      <td>100</td>\n",
       "    </tr>\n",
       "    <tr>\n",
       "      <th>1</th>\n",
       "      <td>Shweta</td>\n",
       "      <td>200</td>\n",
       "    </tr>\n",
       "    <tr>\n",
       "      <th>2</th>\n",
       "      <td>Suraj</td>\n",
       "      <td>300</td>\n",
       "    </tr>\n",
       "    <tr>\n",
       "      <th>3</th>\n",
       "      <td>Rajesh</td>\n",
       "      <td>400</td>\n",
       "    </tr>\n",
       "    <tr>\n",
       "      <th>4</th>\n",
       "      <td>Priya</td>\n",
       "      <td>500</td>\n",
       "    </tr>\n",
       "    <tr>\n",
       "      <th>5</th>\n",
       "      <td>Vaishali</td>\n",
       "      <td>600</td>\n",
       "    </tr>\n",
       "  </tbody>\n",
       "</table>\n",
       "</div>"
      ],
      "text/plain": [
       "          0    1\n",
       "0   Aravind  100\n",
       "1    Shweta  200\n",
       "2     Suraj  300\n",
       "3    Rajesh  400\n",
       "4     Priya  500\n",
       "5  Vaishali  600"
      ]
     },
     "execution_count": 209,
     "metadata": {},
     "output_type": "execute_result"
    }
   ],
   "source": [
    "sdf=pd.DataFrame([s,s2]).T\n",
    "sdf"
   ]
  },
  {
   "cell_type": "code",
   "execution_count": 210,
   "id": "46f3f455",
   "metadata": {},
   "outputs": [],
   "source": [
    "sdf.columns=['Name','Code']"
   ]
  },
  {
   "cell_type": "code",
   "execution_count": 211,
   "id": "87bf6f57",
   "metadata": {},
   "outputs": [
    {
     "data": {
      "text/html": [
       "<div>\n",
       "<style scoped>\n",
       "    .dataframe tbody tr th:only-of-type {\n",
       "        vertical-align: middle;\n",
       "    }\n",
       "\n",
       "    .dataframe tbody tr th {\n",
       "        vertical-align: top;\n",
       "    }\n",
       "\n",
       "    .dataframe thead th {\n",
       "        text-align: right;\n",
       "    }\n",
       "</style>\n",
       "<table border=\"1\" class=\"dataframe\">\n",
       "  <thead>\n",
       "    <tr style=\"text-align: right;\">\n",
       "      <th></th>\n",
       "      <th>Name</th>\n",
       "      <th>Code</th>\n",
       "    </tr>\n",
       "  </thead>\n",
       "  <tbody>\n",
       "    <tr>\n",
       "      <th>0</th>\n",
       "      <td>Aravind</td>\n",
       "      <td>100</td>\n",
       "    </tr>\n",
       "    <tr>\n",
       "      <th>1</th>\n",
       "      <td>Shweta</td>\n",
       "      <td>200</td>\n",
       "    </tr>\n",
       "    <tr>\n",
       "      <th>2</th>\n",
       "      <td>Suraj</td>\n",
       "      <td>300</td>\n",
       "    </tr>\n",
       "    <tr>\n",
       "      <th>3</th>\n",
       "      <td>Rajesh</td>\n",
       "      <td>400</td>\n",
       "    </tr>\n",
       "    <tr>\n",
       "      <th>4</th>\n",
       "      <td>Priya</td>\n",
       "      <td>500</td>\n",
       "    </tr>\n",
       "    <tr>\n",
       "      <th>5</th>\n",
       "      <td>Vaishali</td>\n",
       "      <td>600</td>\n",
       "    </tr>\n",
       "  </tbody>\n",
       "</table>\n",
       "</div>"
      ],
      "text/plain": [
       "       Name Code\n",
       "0   Aravind  100\n",
       "1    Shweta  200\n",
       "2     Suraj  300\n",
       "3    Rajesh  400\n",
       "4     Priya  500\n",
       "5  Vaishali  600"
      ]
     },
     "execution_count": 211,
     "metadata": {},
     "output_type": "execute_result"
    }
   ],
   "source": [
    "sdf"
   ]
  },
  {
   "cell_type": "code",
   "execution_count": 212,
   "id": "6999525c",
   "metadata": {},
   "outputs": [
    {
     "data": {
      "text/plain": [
       "0     Aravind\n",
       "1      Shweta\n",
       "2       Suraj\n",
       "3      Rajesh\n",
       "4       Priya\n",
       "5    Vaishali\n",
       "dtype: object"
      ]
     },
     "execution_count": 212,
     "metadata": {},
     "output_type": "execute_result"
    }
   ],
   "source": [
    "s"
   ]
  },
  {
   "cell_type": "code",
   "execution_count": 213,
   "id": "0264ca5c",
   "metadata": {},
   "outputs": [],
   "source": [
    "s.name='Student_Name'"
   ]
  },
  {
   "cell_type": "code",
   "execution_count": 214,
   "id": "9cab48e8",
   "metadata": {},
   "outputs": [
    {
     "data": {
      "text/plain": [
       "0     Aravind\n",
       "1      Shweta\n",
       "2       Suraj\n",
       "3      Rajesh\n",
       "4       Priya\n",
       "5    Vaishali\n",
       "Name: Student_Name, dtype: object"
      ]
     },
     "execution_count": 214,
     "metadata": {},
     "output_type": "execute_result"
    }
   ],
   "source": [
    "s"
   ]
  },
  {
   "cell_type": "code",
   "execution_count": 215,
   "id": "157f046c",
   "metadata": {},
   "outputs": [
    {
     "data": {
      "text/plain": [
       "0    100\n",
       "1    200\n",
       "2    300\n",
       "3    400\n",
       "4    500\n",
       "5    600\n",
       "dtype: int64"
      ]
     },
     "execution_count": 215,
     "metadata": {},
     "output_type": "execute_result"
    }
   ],
   "source": [
    "s2"
   ]
  },
  {
   "cell_type": "code",
   "execution_count": 216,
   "id": "a3d52842",
   "metadata": {},
   "outputs": [],
   "source": [
    "s2.name='Roll_No'"
   ]
  },
  {
   "cell_type": "code",
   "execution_count": 217,
   "id": "dd91be9b",
   "metadata": {},
   "outputs": [
    {
     "data": {
      "text/plain": [
       "0    100\n",
       "1    200\n",
       "2    300\n",
       "3    400\n",
       "4    500\n",
       "5    600\n",
       "Name: Roll_No, dtype: int64"
      ]
     },
     "execution_count": 217,
     "metadata": {},
     "output_type": "execute_result"
    }
   ],
   "source": [
    "s2"
   ]
  },
  {
   "cell_type": "code",
   "execution_count": 219,
   "id": "b7bd69d3",
   "metadata": {},
   "outputs": [
    {
     "data": {
      "text/html": [
       "<div>\n",
       "<style scoped>\n",
       "    .dataframe tbody tr th:only-of-type {\n",
       "        vertical-align: middle;\n",
       "    }\n",
       "\n",
       "    .dataframe tbody tr th {\n",
       "        vertical-align: top;\n",
       "    }\n",
       "\n",
       "    .dataframe thead th {\n",
       "        text-align: right;\n",
       "    }\n",
       "</style>\n",
       "<table border=\"1\" class=\"dataframe\">\n",
       "  <thead>\n",
       "    <tr style=\"text-align: right;\">\n",
       "      <th></th>\n",
       "      <th>Student_Name</th>\n",
       "      <th>Roll_No</th>\n",
       "    </tr>\n",
       "  </thead>\n",
       "  <tbody>\n",
       "    <tr>\n",
       "      <th>0</th>\n",
       "      <td>Aravind</td>\n",
       "      <td>100</td>\n",
       "    </tr>\n",
       "    <tr>\n",
       "      <th>1</th>\n",
       "      <td>Shweta</td>\n",
       "      <td>200</td>\n",
       "    </tr>\n",
       "    <tr>\n",
       "      <th>2</th>\n",
       "      <td>Suraj</td>\n",
       "      <td>300</td>\n",
       "    </tr>\n",
       "    <tr>\n",
       "      <th>3</th>\n",
       "      <td>Rajesh</td>\n",
       "      <td>400</td>\n",
       "    </tr>\n",
       "    <tr>\n",
       "      <th>4</th>\n",
       "      <td>Priya</td>\n",
       "      <td>500</td>\n",
       "    </tr>\n",
       "    <tr>\n",
       "      <th>5</th>\n",
       "      <td>Vaishali</td>\n",
       "      <td>600</td>\n",
       "    </tr>\n",
       "  </tbody>\n",
       "</table>\n",
       "</div>"
      ],
      "text/plain": [
       "  Student_Name Roll_No\n",
       "0      Aravind     100\n",
       "1       Shweta     200\n",
       "2        Suraj     300\n",
       "3       Rajesh     400\n",
       "4        Priya     500\n",
       "5     Vaishali     600"
      ]
     },
     "execution_count": 219,
     "metadata": {},
     "output_type": "execute_result"
    }
   ],
   "source": [
    "pd.DataFrame([s,s2]).T"
   ]
  },
  {
   "cell_type": "code",
   "execution_count": 221,
   "id": "468b92e9",
   "metadata": {},
   "outputs": [
    {
     "data": {
      "text/html": [
       "<div>\n",
       "<style scoped>\n",
       "    .dataframe tbody tr th:only-of-type {\n",
       "        vertical-align: middle;\n",
       "    }\n",
       "\n",
       "    .dataframe tbody tr th {\n",
       "        vertical-align: top;\n",
       "    }\n",
       "\n",
       "    .dataframe thead th {\n",
       "        text-align: right;\n",
       "    }\n",
       "</style>\n",
       "<table border=\"1\" class=\"dataframe\">\n",
       "  <thead>\n",
       "    <tr style=\"text-align: right;\">\n",
       "      <th></th>\n",
       "      <th>Emp_Name</th>\n",
       "    </tr>\n",
       "  </thead>\n",
       "  <tbody>\n",
       "    <tr>\n",
       "      <th>0</th>\n",
       "      <td>Rajesh</td>\n",
       "    </tr>\n",
       "    <tr>\n",
       "      <th>1</th>\n",
       "      <td>Shubham</td>\n",
       "    </tr>\n",
       "    <tr>\n",
       "      <th>2</th>\n",
       "      <td>Pragya</td>\n",
       "    </tr>\n",
       "    <tr>\n",
       "      <th>3</th>\n",
       "      <td>Surendra</td>\n",
       "    </tr>\n",
       "    <tr>\n",
       "      <th>4</th>\n",
       "      <td>Aniket</td>\n",
       "    </tr>\n",
       "    <tr>\n",
       "      <th>5</th>\n",
       "      <td>Shweta</td>\n",
       "    </tr>\n",
       "  </tbody>\n",
       "</table>\n",
       "</div>"
      ],
      "text/plain": [
       "   Emp_Name\n",
       "0    Rajesh\n",
       "1   Shubham\n",
       "2    Pragya\n",
       "3  Surendra\n",
       "4    Aniket\n",
       "5    Shweta"
      ]
     },
     "execution_count": 221,
     "metadata": {},
     "output_type": "execute_result"
    }
   ],
   "source": [
    "d=pd.DataFrame(ns)\n",
    "d"
   ]
  },
  {
   "cell_type": "code",
   "execution_count": 222,
   "id": "fca46584",
   "metadata": {},
   "outputs": [
    {
     "data": {
      "text/plain": [
       "0      Rajesh\n",
       "1     Shubham\n",
       "2      Pragya\n",
       "3    Surendra\n",
       "4      Aniket\n",
       "5      Shweta\n",
       "Name: Emp_Name, dtype: object"
      ]
     },
     "execution_count": 222,
     "metadata": {},
     "output_type": "execute_result"
    }
   ],
   "source": [
    "ns"
   ]
  },
  {
   "cell_type": "code",
   "execution_count": 223,
   "id": "20e3953d",
   "metadata": {},
   "outputs": [
    {
     "data": {
      "text/plain": [
       "pandas.core.frame.DataFrame"
      ]
     },
     "execution_count": 223,
     "metadata": {},
     "output_type": "execute_result"
    }
   ],
   "source": [
    "type(d)"
   ]
  },
  {
   "cell_type": "code",
   "execution_count": 224,
   "id": "0c031423",
   "metadata": {},
   "outputs": [
    {
     "data": {
      "text/plain": [
       "pandas.core.series.Series"
      ]
     },
     "execution_count": 224,
     "metadata": {},
     "output_type": "execute_result"
    }
   ],
   "source": [
    "type(ns)"
   ]
  },
  {
   "cell_type": "code",
   "execution_count": 225,
   "id": "37e0ca98",
   "metadata": {},
   "outputs": [],
   "source": [
    "# 6 classes"
   ]
  },
  {
   "cell_type": "code",
   "execution_count": null,
   "id": "cf857b1e",
   "metadata": {},
   "outputs": [],
   "source": []
  }
 ],
 "metadata": {
  "kernelspec": {
   "display_name": "Python 3 (ipykernel)",
   "language": "python",
   "name": "python3"
  },
  "language_info": {
   "codemirror_mode": {
    "name": "ipython",
    "version": 3
   },
   "file_extension": ".py",
   "mimetype": "text/x-python",
   "name": "python",
   "nbconvert_exporter": "python",
   "pygments_lexer": "ipython3",
   "version": "3.9.13"
  }
 },
 "nbformat": 4,
 "nbformat_minor": 5
}
