{
 "cells": [
  {
   "cell_type": "code",
   "execution_count": 1,
   "id": "10747166",
   "metadata": {},
   "outputs": [],
   "source": [
    "import numpy as np"
   ]
  },
  {
   "cell_type": "code",
   "execution_count": 3,
   "id": "35081bb1",
   "metadata": {},
   "outputs": [
    {
     "data": {
      "text/plain": [
       "array([[10, 20, 30],\n",
       "       [40, 50, 60],\n",
       "       [70, 80, 90]])"
      ]
     },
     "execution_count": 3,
     "metadata": {},
     "output_type": "execute_result"
    }
   ],
   "source": [
    "arr=np.array([10,20,30,40,50,60,70,80,90]).reshape(3,3)\n",
    "arr"
   ]
  },
  {
   "cell_type": "markdown",
   "id": "da953021",
   "metadata": {},
   "source": [
    "# Slicing of a 2-D array"
   ]
  },
  {
   "cell_type": "code",
   "execution_count": 4,
   "id": "848b591c",
   "metadata": {},
   "outputs": [],
   "source": [
    "# arr[row_slicing]\n",
    "# arr[start:stop:step]\n",
    "\n",
    "# arr[row_slicing,col_slicing]\n",
    "# arr[start:stop:step,start:stop:step]"
   ]
  },
  {
   "cell_type": "code",
   "execution_count": 5,
   "id": "dc73b7fd",
   "metadata": {},
   "outputs": [
    {
     "data": {
      "text/plain": [
       "array([[10, 20, 30],\n",
       "       [40, 50, 60],\n",
       "       [70, 80, 90]])"
      ]
     },
     "execution_count": 5,
     "metadata": {},
     "output_type": "execute_result"
    }
   ],
   "source": [
    "arr"
   ]
  },
  {
   "cell_type": "code",
   "execution_count": 10,
   "id": "f907137e",
   "metadata": {},
   "outputs": [
    {
     "data": {
      "text/plain": [
       "array([[10, 20, 30],\n",
       "       [40, 50, 60]])"
      ]
     },
     "execution_count": 10,
     "metadata": {},
     "output_type": "execute_result"
    }
   ],
   "source": [
    "# Get the first two rows from the above array\n",
    "\n",
    "arr[0:2]"
   ]
  },
  {
   "cell_type": "code",
   "execution_count": 11,
   "id": "6550ce9a",
   "metadata": {},
   "outputs": [
    {
     "data": {
      "text/plain": [
       "array([[70, 80, 90],\n",
       "       [40, 50, 60],\n",
       "       [10, 20, 30]])"
      ]
     },
     "execution_count": 11,
     "metadata": {},
     "output_type": "execute_result"
    }
   ],
   "source": [
    "# Reverse the rows\n",
    "arr[::-1]"
   ]
  },
  {
   "cell_type": "code",
   "execution_count": 12,
   "id": "5e1eeac7",
   "metadata": {},
   "outputs": [
    {
     "data": {
      "text/plain": [
       "array([[10, 20, 30],\n",
       "       [70, 80, 90]])"
      ]
     },
     "execution_count": 12,
     "metadata": {},
     "output_type": "execute_result"
    }
   ],
   "source": [
    "# Alternate rows\n",
    "arr[::2]"
   ]
  },
  {
   "cell_type": "code",
   "execution_count": 13,
   "id": "9c6d0cd1",
   "metadata": {},
   "outputs": [
    {
     "data": {
      "text/plain": [
       "array([[10, 20, 30],\n",
       "       [40, 50, 60],\n",
       "       [70, 80, 90]])"
      ]
     },
     "execution_count": 13,
     "metadata": {},
     "output_type": "execute_result"
    }
   ],
   "source": [
    "arr"
   ]
  },
  {
   "cell_type": "code",
   "execution_count": 15,
   "id": "77d1ef6e",
   "metadata": {},
   "outputs": [
    {
     "data": {
      "text/plain": [
       "array([10, 40, 70])"
      ]
     },
     "execution_count": 15,
     "metadata": {},
     "output_type": "execute_result"
    }
   ],
   "source": [
    "# Fetch the first column\n",
    "\n",
    "arr[::,0]"
   ]
  },
  {
   "cell_type": "code",
   "execution_count": 27,
   "id": "ee624b99",
   "metadata": {},
   "outputs": [
    {
     "data": {
      "text/plain": [
       "array([[10],\n",
       "       [40],\n",
       "       [70]])"
      ]
     },
     "execution_count": 27,
     "metadata": {},
     "output_type": "execute_result"
    }
   ],
   "source": [
    "arr[::,[0]]"
   ]
  },
  {
   "cell_type": "code",
   "execution_count": 20,
   "id": "b8927f04",
   "metadata": {},
   "outputs": [
    {
     "data": {
      "text/plain": [
       "array([[10],\n",
       "       [40],\n",
       "       [70]])"
      ]
     },
     "execution_count": 20,
     "metadata": {},
     "output_type": "execute_result"
    }
   ],
   "source": [
    "arr[::,0:1]"
   ]
  },
  {
   "cell_type": "code",
   "execution_count": 21,
   "id": "4df76a9c",
   "metadata": {},
   "outputs": [
    {
     "data": {
      "text/plain": [
       "array([[10, 20, 30],\n",
       "       [40, 50, 60],\n",
       "       [70, 80, 90]])"
      ]
     },
     "execution_count": 21,
     "metadata": {},
     "output_type": "execute_result"
    }
   ],
   "source": [
    "arr"
   ]
  },
  {
   "cell_type": "code",
   "execution_count": 23,
   "id": "bcc467f4",
   "metadata": {},
   "outputs": [
    {
     "data": {
      "text/plain": [
       "array([[10, 20],\n",
       "       [40, 50],\n",
       "       [70, 80]])"
      ]
     },
     "execution_count": 23,
     "metadata": {},
     "output_type": "execute_result"
    }
   ],
   "source": [
    "# Fetch the first two columns\n",
    "\n",
    "arr[::,0:2]"
   ]
  },
  {
   "cell_type": "code",
   "execution_count": 25,
   "id": "6c83abd2",
   "metadata": {},
   "outputs": [
    {
     "data": {
      "text/plain": [
       "array([[30, 20, 10],\n",
       "       [60, 50, 40],\n",
       "       [90, 80, 70]])"
      ]
     },
     "execution_count": 25,
     "metadata": {},
     "output_type": "execute_result"
    }
   ],
   "source": [
    "# Reverse the columns\n",
    "arr[::,::-1]"
   ]
  },
  {
   "cell_type": "code",
   "execution_count": 29,
   "id": "35110e11",
   "metadata": {},
   "outputs": [
    {
     "data": {
      "text/plain": [
       "array([[10, 20, 30],\n",
       "       [40, 50, 60],\n",
       "       [70, 80, 90]])"
      ]
     },
     "execution_count": 29,
     "metadata": {},
     "output_type": "execute_result"
    }
   ],
   "source": [
    "arr"
   ]
  },
  {
   "cell_type": "code",
   "execution_count": 30,
   "id": "2a102a2b",
   "metadata": {},
   "outputs": [
    {
     "data": {
      "text/plain": [
       "array([[90, 80, 70],\n",
       "       [60, 50, 40],\n",
       "       [30, 20, 10]])"
      ]
     },
     "execution_count": 30,
     "metadata": {},
     "output_type": "execute_result"
    }
   ],
   "source": [
    "# Reverse the rows and the columns both\n",
    "\n",
    "arr[::-1,::-1]"
   ]
  },
  {
   "cell_type": "code",
   "execution_count": 31,
   "id": "7fbed2bb",
   "metadata": {},
   "outputs": [
    {
     "data": {
      "text/plain": [
       "array([[10, 20, 30],\n",
       "       [40, 50, 60],\n",
       "       [70, 80, 90]])"
      ]
     },
     "execution_count": 31,
     "metadata": {},
     "output_type": "execute_result"
    }
   ],
   "source": [
    "arr"
   ]
  },
  {
   "cell_type": "code",
   "execution_count": 33,
   "id": "6a91bd14",
   "metadata": {},
   "outputs": [
    {
     "data": {
      "text/plain": [
       "array([[30, 20, 10],\n",
       "       [60, 50, 40],\n",
       "       [90, 80, 70]])"
      ]
     },
     "execution_count": 33,
     "metadata": {},
     "output_type": "execute_result"
    }
   ],
   "source": [
    "arr[::,::-1]"
   ]
  },
  {
   "cell_type": "code",
   "execution_count": 35,
   "id": "b3b4e58f",
   "metadata": {},
   "outputs": [],
   "source": [
    "# Fetch the principle diagonal from right to left"
   ]
  },
  {
   "cell_type": "code",
   "execution_count": 34,
   "id": "0d7d78ad",
   "metadata": {},
   "outputs": [
    {
     "data": {
      "text/plain": [
       "array([30, 50, 70])"
      ]
     },
     "execution_count": 34,
     "metadata": {},
     "output_type": "execute_result"
    }
   ],
   "source": [
    "np.diagonal(arr[::,::-1])"
   ]
  },
  {
   "cell_type": "code",
   "execution_count": 37,
   "id": "df37a8c3",
   "metadata": {},
   "outputs": [],
   "source": [
    "# Fetch the principle diagonal from right to left in reverse order\n",
    "# [70,50,30]"
   ]
  },
  {
   "cell_type": "code",
   "execution_count": 40,
   "id": "91dfbeb8",
   "metadata": {},
   "outputs": [
    {
     "data": {
      "text/plain": [
       "array([70, 50, 30])"
      ]
     },
     "execution_count": 40,
     "metadata": {},
     "output_type": "execute_result"
    }
   ],
   "source": [
    "np.diagonal(arr[::,::-1])[::-1]"
   ]
  },
  {
   "cell_type": "code",
   "execution_count": 41,
   "id": "fd7cda43",
   "metadata": {},
   "outputs": [
    {
     "data": {
      "text/plain": [
       "array([[10, 20, 30],\n",
       "       [40, 50, 60],\n",
       "       [70, 80, 90]])"
      ]
     },
     "execution_count": 41,
     "metadata": {},
     "output_type": "execute_result"
    }
   ],
   "source": [
    "arr"
   ]
  },
  {
   "cell_type": "code",
   "execution_count": 43,
   "id": "01dbb42e",
   "metadata": {},
   "outputs": [
    {
     "data": {
      "text/plain": [
       "array([[30],\n",
       "       [60],\n",
       "       [90]])"
      ]
     },
     "execution_count": 43,
     "metadata": {},
     "output_type": "execute_result"
    }
   ],
   "source": [
    "# Fetch the last column\n",
    "\n",
    "arr[::,[-1]]"
   ]
  },
  {
   "cell_type": "code",
   "execution_count": 45,
   "id": "ab60bc39",
   "metadata": {},
   "outputs": [
    {
     "data": {
      "text/plain": [
       "array([[30],\n",
       "       [60],\n",
       "       [90]])"
      ]
     },
     "execution_count": 45,
     "metadata": {},
     "output_type": "execute_result"
    }
   ],
   "source": [
    "arr[::,-1:-2:-1]"
   ]
  },
  {
   "cell_type": "code",
   "execution_count": 46,
   "id": "e3be33e2",
   "metadata": {},
   "outputs": [
    {
     "data": {
      "text/plain": [
       "array([[10, 20, 30],\n",
       "       [40, 50, 60],\n",
       "       [70, 80, 90]])"
      ]
     },
     "execution_count": 46,
     "metadata": {},
     "output_type": "execute_result"
    }
   ],
   "source": [
    "arr"
   ]
  },
  {
   "cell_type": "code",
   "execution_count": 47,
   "id": "848966aa",
   "metadata": {},
   "outputs": [],
   "source": [
    "# [[10,20],\n",
    "# [40,50]]"
   ]
  },
  {
   "cell_type": "code",
   "execution_count": 49,
   "id": "8106a2c4",
   "metadata": {},
   "outputs": [
    {
     "data": {
      "text/plain": [
       "array([[10, 20],\n",
       "       [40, 50]])"
      ]
     },
     "execution_count": 49,
     "metadata": {},
     "output_type": "execute_result"
    }
   ],
   "source": [
    "arr[0:2,0:2]"
   ]
  },
  {
   "cell_type": "code",
   "execution_count": 51,
   "id": "05aac6b0",
   "metadata": {},
   "outputs": [],
   "source": [
    "# [[40,60],\n",
    "# [70,90]]"
   ]
  },
  {
   "cell_type": "code",
   "execution_count": 54,
   "id": "b2d4a2ab",
   "metadata": {},
   "outputs": [
    {
     "data": {
      "text/plain": [
       "array([[40, 60],\n",
       "       [70, 90]])"
      ]
     },
     "execution_count": 54,
     "metadata": {},
     "output_type": "execute_result"
    }
   ],
   "source": [
    "arr[1:3,::2]"
   ]
  },
  {
   "cell_type": "code",
   "execution_count": 55,
   "id": "2a9295f4",
   "metadata": {},
   "outputs": [
    {
     "data": {
      "text/plain": [
       "array([[10, 20, 30],\n",
       "       [40, 50, 60],\n",
       "       [70, 80, 90]])"
      ]
     },
     "execution_count": 55,
     "metadata": {},
     "output_type": "execute_result"
    }
   ],
   "source": [
    "arr"
   ]
  },
  {
   "cell_type": "code",
   "execution_count": 56,
   "id": "bd6b6675",
   "metadata": {},
   "outputs": [],
   "source": [
    "# [[10,30],\n",
    "# [70,90]]"
   ]
  },
  {
   "cell_type": "code",
   "execution_count": 58,
   "id": "149501ae",
   "metadata": {},
   "outputs": [
    {
     "data": {
      "text/plain": [
       "array([[10, 30],\n",
       "       [70, 90]])"
      ]
     },
     "execution_count": 58,
     "metadata": {},
     "output_type": "execute_result"
    }
   ],
   "source": [
    "arr[::2,::2]"
   ]
  },
  {
   "cell_type": "code",
   "execution_count": 64,
   "id": "241c1e35",
   "metadata": {},
   "outputs": [
    {
     "data": {
      "text/plain": [
       "array([[10, 20, 30],\n",
       "       [40, 50, 60],\n",
       "       [70, 80, 90]])"
      ]
     },
     "execution_count": 64,
     "metadata": {},
     "output_type": "execute_result"
    }
   ],
   "source": [
    "arr"
   ]
  },
  {
   "cell_type": "code",
   "execution_count": 65,
   "id": "f8371a5a",
   "metadata": {},
   "outputs": [],
   "source": [
    "# [60,40]"
   ]
  },
  {
   "cell_type": "code",
   "execution_count": 75,
   "id": "22cc6779",
   "metadata": {},
   "outputs": [
    {
     "data": {
      "text/plain": [
       "array([60, 40])"
      ]
     },
     "execution_count": 75,
     "metadata": {},
     "output_type": "execute_result"
    }
   ],
   "source": [
    "arr[1,::-2]"
   ]
  },
  {
   "cell_type": "markdown",
   "id": "863675d7",
   "metadata": {},
   "source": [
    "# Indexing and slicing of a 3-D array"
   ]
  },
  {
   "cell_type": "markdown",
   "id": "1baf7a4b",
   "metadata": {},
   "source": [
    "# indexing"
   ]
  },
  {
   "cell_type": "code",
   "execution_count": 76,
   "id": "6d970657",
   "metadata": {},
   "outputs": [],
   "source": [
    "# arr[array_index]\n",
    "# arr[array_index,row_index]\n",
    "# arr[array_index,row_index,col_index]"
   ]
  },
  {
   "cell_type": "code",
   "execution_count": 84,
   "id": "d2cd22bf",
   "metadata": {},
   "outputs": [],
   "source": [
    "arr=np.random.randint(10,100,60).reshape(3,4,5)"
   ]
  },
  {
   "cell_type": "code",
   "execution_count": 85,
   "id": "a4621ed0",
   "metadata": {},
   "outputs": [
    {
     "data": {
      "text/plain": [
       "array([[[73, 41, 23, 79, 42],\n",
       "        [14, 23, 97, 88, 82],\n",
       "        [21, 39, 49, 69, 19],\n",
       "        [34, 53, 56, 68, 99]],\n",
       "\n",
       "       [[69, 13, 67, 58, 75],\n",
       "        [60, 65, 72, 24, 20],\n",
       "        [32, 32, 46, 77, 31],\n",
       "        [82, 45, 52, 64, 38]],\n",
       "\n",
       "       [[23, 19, 15, 94, 43],\n",
       "        [56, 93, 69, 52, 24],\n",
       "        [98, 40, 85, 12, 28],\n",
       "        [43, 26, 38, 29, 13]]])"
      ]
     },
     "execution_count": 85,
     "metadata": {},
     "output_type": "execute_result"
    }
   ],
   "source": [
    "arr"
   ]
  },
  {
   "cell_type": "code",
   "execution_count": 83,
   "id": "1017484f",
   "metadata": {},
   "outputs": [
    {
     "data": {
      "text/plain": [
       "5"
      ]
     },
     "execution_count": 83,
     "metadata": {},
     "output_type": "execute_result"
    }
   ],
   "source": [
    "arr.ndim"
   ]
  },
  {
   "cell_type": "code",
   "execution_count": 86,
   "id": "835e4046",
   "metadata": {},
   "outputs": [
    {
     "data": {
      "text/plain": [
       "array([[73, 41, 23, 79, 42],\n",
       "       [14, 23, 97, 88, 82],\n",
       "       [21, 39, 49, 69, 19],\n",
       "       [34, 53, 56, 68, 99]])"
      ]
     },
     "execution_count": 86,
     "metadata": {},
     "output_type": "execute_result"
    }
   ],
   "source": [
    "# Fetch the first array\n",
    "arr[0]"
   ]
  },
  {
   "cell_type": "code",
   "execution_count": 91,
   "id": "28c744e9",
   "metadata": {},
   "outputs": [
    {
     "data": {
      "text/plain": [
       "array([[73, 41, 23, 79, 42],\n",
       "       [14, 23, 97, 88, 82],\n",
       "       [21, 39, 49, 69, 19],\n",
       "       [34, 53, 56, 68, 99]])"
      ]
     },
     "execution_count": 91,
     "metadata": {},
     "output_type": "execute_result"
    }
   ],
   "source": [
    "arr[-3]"
   ]
  },
  {
   "cell_type": "code",
   "execution_count": 94,
   "id": "f9ac9339",
   "metadata": {},
   "outputs": [
    {
     "data": {
      "text/plain": [
       "array([[73, 41, 23, 79, 42],\n",
       "       [14, 23, 97, 88, 82],\n",
       "       [21, 39, 49, 69, 19],\n",
       "       [34, 53, 56, 68, 99]])"
      ]
     },
     "execution_count": 94,
     "metadata": {},
     "output_type": "execute_result"
    }
   ],
   "source": [
    "arr[-len(arr)]"
   ]
  },
  {
   "cell_type": "code",
   "execution_count": 88,
   "id": "319e34e3",
   "metadata": {},
   "outputs": [
    {
     "data": {
      "text/plain": [
       "array([[23, 19, 15, 94, 43],\n",
       "       [56, 93, 69, 52, 24],\n",
       "       [98, 40, 85, 12, 28],\n",
       "       [43, 26, 38, 29, 13]])"
      ]
     },
     "execution_count": 88,
     "metadata": {},
     "output_type": "execute_result"
    }
   ],
   "source": [
    "# Get the last array\n",
    "arr[2]"
   ]
  },
  {
   "cell_type": "code",
   "execution_count": 89,
   "id": "2d1bfc50",
   "metadata": {},
   "outputs": [
    {
     "data": {
      "text/plain": [
       "array([[23, 19, 15, 94, 43],\n",
       "       [56, 93, 69, 52, 24],\n",
       "       [98, 40, 85, 12, 28],\n",
       "       [43, 26, 38, 29, 13]])"
      ]
     },
     "execution_count": 89,
     "metadata": {},
     "output_type": "execute_result"
    }
   ],
   "source": [
    "arr[-1]"
   ]
  },
  {
   "cell_type": "code",
   "execution_count": 96,
   "id": "68511e51",
   "metadata": {},
   "outputs": [
    {
     "data": {
      "text/plain": [
       "array([[23, 19, 15, 94, 43],\n",
       "       [56, 93, 69, 52, 24],\n",
       "       [98, 40, 85, 12, 28],\n",
       "       [43, 26, 38, 29, 13]])"
      ]
     },
     "execution_count": 96,
     "metadata": {},
     "output_type": "execute_result"
    }
   ],
   "source": [
    "arr[len(arr)-1]"
   ]
  },
  {
   "cell_type": "code",
   "execution_count": 97,
   "id": "a06e25fa",
   "metadata": {},
   "outputs": [
    {
     "data": {
      "text/plain": [
       "array([[[73, 41, 23, 79, 42],\n",
       "        [14, 23, 97, 88, 82],\n",
       "        [21, 39, 49, 69, 19],\n",
       "        [34, 53, 56, 68, 99]],\n",
       "\n",
       "       [[69, 13, 67, 58, 75],\n",
       "        [60, 65, 72, 24, 20],\n",
       "        [32, 32, 46, 77, 31],\n",
       "        [82, 45, 52, 64, 38]],\n",
       "\n",
       "       [[23, 19, 15, 94, 43],\n",
       "        [56, 93, 69, 52, 24],\n",
       "        [98, 40, 85, 12, 28],\n",
       "        [43, 26, 38, 29, 13]]])"
      ]
     },
     "execution_count": 97,
     "metadata": {},
     "output_type": "execute_result"
    }
   ],
   "source": [
    "arr"
   ]
  },
  {
   "cell_type": "code",
   "execution_count": 98,
   "id": "aa83dfc3",
   "metadata": {},
   "outputs": [],
   "source": [
    "# Fetch the first row from the first array"
   ]
  },
  {
   "cell_type": "code",
   "execution_count": 100,
   "id": "3d16ee6f",
   "metadata": {},
   "outputs": [
    {
     "data": {
      "text/plain": [
       "array([73, 41, 23, 79, 42])"
      ]
     },
     "execution_count": 100,
     "metadata": {},
     "output_type": "execute_result"
    }
   ],
   "source": [
    "arr[0,0]"
   ]
  },
  {
   "cell_type": "code",
   "execution_count": 101,
   "id": "ae375455",
   "metadata": {},
   "outputs": [],
   "source": [
    "# Fetch the last row from the second array"
   ]
  },
  {
   "cell_type": "code",
   "execution_count": 106,
   "id": "b7fe5e74",
   "metadata": {},
   "outputs": [
    {
     "data": {
      "text/plain": [
       "array([82, 45, 52, 64, 38])"
      ]
     },
     "execution_count": 106,
     "metadata": {},
     "output_type": "execute_result"
    }
   ],
   "source": [
    "arr[1,-1]"
   ]
  },
  {
   "cell_type": "code",
   "execution_count": 107,
   "id": "c24aaf86",
   "metadata": {},
   "outputs": [],
   "source": [
    "# Fetch  from the third array"
   ]
  },
  {
   "cell_type": "code",
   "execution_count": 113,
   "id": "4c1ef49f",
   "metadata": {},
   "outputs": [
    {
     "data": {
      "text/plain": [
       "52"
      ]
     },
     "execution_count": 113,
     "metadata": {},
     "output_type": "execute_result"
    }
   ],
   "source": [
    "arr[-1,1,3]"
   ]
  },
  {
   "cell_type": "code",
   "execution_count": 114,
   "id": "cd0703ab",
   "metadata": {},
   "outputs": [],
   "source": [
    "# Fetch 46 from the second array"
   ]
  },
  {
   "cell_type": "code",
   "execution_count": 117,
   "id": "d5efc1b2",
   "metadata": {},
   "outputs": [
    {
     "data": {
      "text/plain": [
       "46"
      ]
     },
     "execution_count": 117,
     "metadata": {},
     "output_type": "execute_result"
    }
   ],
   "source": [
    "arr[1,2,2]"
   ]
  },
  {
   "cell_type": "code",
   "execution_count": 126,
   "id": "e97c598f",
   "metadata": {},
   "outputs": [
    {
     "data": {
      "text/plain": [
       "75"
      ]
     },
     "execution_count": 126,
     "metadata": {},
     "output_type": "execute_result"
    }
   ],
   "source": [
    "arr[1][0][-1]"
   ]
  },
  {
   "cell_type": "code",
   "execution_count": 133,
   "id": "d1350a60",
   "metadata": {},
   "outputs": [
    {
     "data": {
      "text/plain": [
       "(3, 4, 5)"
      ]
     },
     "execution_count": 133,
     "metadata": {},
     "output_type": "execute_result"
    }
   ],
   "source": [
    "arr.shape"
   ]
  },
  {
   "cell_type": "code",
   "execution_count": null,
   "id": "fc05a1c7",
   "metadata": {},
   "outputs": [],
   "source": []
  },
  {
   "cell_type": "markdown",
   "id": "cb68e953",
   "metadata": {},
   "source": [
    "# Slicing"
   ]
  },
  {
   "cell_type": "code",
   "execution_count": 134,
   "id": "054c74d7",
   "metadata": {},
   "outputs": [],
   "source": [
    "# arr[array_slicing]\n",
    "# arr[start:stop:step]\n",
    "\n",
    "# arr[array_slicing,row_slicing]\n",
    "# arr[start:stop:step,start:stop:step]\n",
    "\n",
    "# arr[array_slicing,row_slicing,col_slicing]\n",
    "# arr[start:stop:step,start:stop:step,start:stop:step]"
   ]
  },
  {
   "cell_type": "code",
   "execution_count": 135,
   "id": "f69d9dc8",
   "metadata": {},
   "outputs": [
    {
     "data": {
      "text/plain": [
       "array([[[73, 41, 23, 79, 42],\n",
       "        [14, 23, 97, 88, 82],\n",
       "        [21, 39, 49, 69, 19],\n",
       "        [34, 53, 56, 68, 99]],\n",
       "\n",
       "       [[69, 13, 67, 58, 75],\n",
       "        [60, 65, 72, 24, 20],\n",
       "        [32, 32, 46, 77, 31],\n",
       "        [82, 45, 52, 64, 38]],\n",
       "\n",
       "       [[23, 19, 15, 94, 43],\n",
       "        [56, 93, 69, 52, 24],\n",
       "        [98, 40, 85, 12, 28],\n",
       "        [43, 26, 38, 29, 13]]])"
      ]
     },
     "execution_count": 135,
     "metadata": {},
     "output_type": "execute_result"
    }
   ],
   "source": [
    "arr"
   ]
  },
  {
   "cell_type": "code",
   "execution_count": 136,
   "id": "26d2cc4d",
   "metadata": {},
   "outputs": [],
   "source": [
    "# Fetch the first two arrays"
   ]
  },
  {
   "cell_type": "code",
   "execution_count": 137,
   "id": "119c6732",
   "metadata": {},
   "outputs": [
    {
     "data": {
      "text/plain": [
       "array([[[73, 41, 23, 79, 42],\n",
       "        [14, 23, 97, 88, 82],\n",
       "        [21, 39, 49, 69, 19],\n",
       "        [34, 53, 56, 68, 99]],\n",
       "\n",
       "       [[69, 13, 67, 58, 75],\n",
       "        [60, 65, 72, 24, 20],\n",
       "        [32, 32, 46, 77, 31],\n",
       "        [82, 45, 52, 64, 38]]])"
      ]
     },
     "execution_count": 137,
     "metadata": {},
     "output_type": "execute_result"
    }
   ],
   "source": [
    "arr[0:2]"
   ]
  },
  {
   "cell_type": "code",
   "execution_count": 138,
   "id": "ee0500d1",
   "metadata": {},
   "outputs": [],
   "source": [
    "# Reverse the arrays"
   ]
  },
  {
   "cell_type": "code",
   "execution_count": 139,
   "id": "f5170048",
   "metadata": {},
   "outputs": [
    {
     "data": {
      "text/plain": [
       "array([[[23, 19, 15, 94, 43],\n",
       "        [56, 93, 69, 52, 24],\n",
       "        [98, 40, 85, 12, 28],\n",
       "        [43, 26, 38, 29, 13]],\n",
       "\n",
       "       [[69, 13, 67, 58, 75],\n",
       "        [60, 65, 72, 24, 20],\n",
       "        [32, 32, 46, 77, 31],\n",
       "        [82, 45, 52, 64, 38]],\n",
       "\n",
       "       [[73, 41, 23, 79, 42],\n",
       "        [14, 23, 97, 88, 82],\n",
       "        [21, 39, 49, 69, 19],\n",
       "        [34, 53, 56, 68, 99]]])"
      ]
     },
     "execution_count": 139,
     "metadata": {},
     "output_type": "execute_result"
    }
   ],
   "source": [
    "arr[::-1]"
   ]
  },
  {
   "cell_type": "code",
   "execution_count": 140,
   "id": "811631b2",
   "metadata": {},
   "outputs": [],
   "source": [
    "# Alternate arrays"
   ]
  },
  {
   "cell_type": "code",
   "execution_count": 141,
   "id": "0b5252c6",
   "metadata": {},
   "outputs": [
    {
     "data": {
      "text/plain": [
       "array([[[73, 41, 23, 79, 42],\n",
       "        [14, 23, 97, 88, 82],\n",
       "        [21, 39, 49, 69, 19],\n",
       "        [34, 53, 56, 68, 99]],\n",
       "\n",
       "       [[23, 19, 15, 94, 43],\n",
       "        [56, 93, 69, 52, 24],\n",
       "        [98, 40, 85, 12, 28],\n",
       "        [43, 26, 38, 29, 13]]])"
      ]
     },
     "execution_count": 141,
     "metadata": {},
     "output_type": "execute_result"
    }
   ],
   "source": [
    "arr[::2]"
   ]
  },
  {
   "cell_type": "code",
   "execution_count": 142,
   "id": "e4164865",
   "metadata": {},
   "outputs": [
    {
     "data": {
      "text/plain": [
       "array([[[73, 41, 23, 79, 42],\n",
       "        [14, 23, 97, 88, 82],\n",
       "        [21, 39, 49, 69, 19],\n",
       "        [34, 53, 56, 68, 99]],\n",
       "\n",
       "       [[69, 13, 67, 58, 75],\n",
       "        [60, 65, 72, 24, 20],\n",
       "        [32, 32, 46, 77, 31],\n",
       "        [82, 45, 52, 64, 38]],\n",
       "\n",
       "       [[23, 19, 15, 94, 43],\n",
       "        [56, 93, 69, 52, 24],\n",
       "        [98, 40, 85, 12, 28],\n",
       "        [43, 26, 38, 29, 13]]])"
      ]
     },
     "execution_count": 142,
     "metadata": {},
     "output_type": "execute_result"
    }
   ],
   "source": [
    "arr"
   ]
  },
  {
   "cell_type": "code",
   "execution_count": 143,
   "id": "ec9b2e56",
   "metadata": {},
   "outputs": [],
   "source": [
    "# Fetch the first two rows from the first array"
   ]
  },
  {
   "cell_type": "code",
   "execution_count": 146,
   "id": "ec5a183f",
   "metadata": {},
   "outputs": [
    {
     "data": {
      "text/plain": [
       "array([[73, 41, 23, 79, 42],\n",
       "       [14, 23, 97, 88, 82]])"
      ]
     },
     "execution_count": 146,
     "metadata": {},
     "output_type": "execute_result"
    }
   ],
   "source": [
    "arr[0,0:2]"
   ]
  },
  {
   "cell_type": "code",
   "execution_count": 147,
   "id": "fb9623f4",
   "metadata": {},
   "outputs": [],
   "source": [
    "# First row from all the arrays"
   ]
  },
  {
   "cell_type": "code",
   "execution_count": 150,
   "id": "13f8e0da",
   "metadata": {},
   "outputs": [
    {
     "data": {
      "text/plain": [
       "array([[[73, 41, 23, 79, 42]],\n",
       "\n",
       "       [[69, 13, 67, 58, 75]],\n",
       "\n",
       "       [[23, 19, 15, 94, 43]]])"
      ]
     },
     "execution_count": 150,
     "metadata": {},
     "output_type": "execute_result"
    }
   ],
   "source": [
    "arr[::,[0]]"
   ]
  },
  {
   "cell_type": "code",
   "execution_count": 151,
   "id": "3d7d935b",
   "metadata": {},
   "outputs": [],
   "source": [
    "# First column from all the arrays"
   ]
  },
  {
   "cell_type": "code",
   "execution_count": 155,
   "id": "b0d16967",
   "metadata": {},
   "outputs": [
    {
     "data": {
      "text/plain": [
       "array([[[73],\n",
       "        [14],\n",
       "        [21],\n",
       "        [34]],\n",
       "\n",
       "       [[69],\n",
       "        [60],\n",
       "        [32],\n",
       "        [82]],\n",
       "\n",
       "       [[23],\n",
       "        [56],\n",
       "        [98],\n",
       "        [43]]])"
      ]
     },
     "execution_count": 155,
     "metadata": {},
     "output_type": "execute_result"
    }
   ],
   "source": [
    "arr[::,::,[0]]"
   ]
  },
  {
   "cell_type": "code",
   "execution_count": 157,
   "id": "114db517",
   "metadata": {},
   "outputs": [
    {
     "data": {
      "text/plain": [
       "array([[[73, 41, 23, 79, 42],\n",
       "        [14, 23, 97, 88, 82],\n",
       "        [21, 39, 49, 69, 19],\n",
       "        [34, 53, 56, 68, 99]],\n",
       "\n",
       "       [[69, 13, 67, 58, 75],\n",
       "        [60, 65, 72, 24, 20],\n",
       "        [32, 32, 46, 77, 31],\n",
       "        [82, 45, 52, 64, 38]],\n",
       "\n",
       "       [[23, 19, 15, 94, 43],\n",
       "        [56, 93, 69, 52, 24],\n",
       "        [98, 40, 85, 12, 28],\n",
       "        [43, 26, 38, 29, 13]]])"
      ]
     },
     "execution_count": 157,
     "metadata": {},
     "output_type": "execute_result"
    }
   ],
   "source": [
    "arr"
   ]
  },
  {
   "cell_type": "code",
   "execution_count": 156,
   "id": "bfdca658",
   "metadata": {},
   "outputs": [],
   "source": [
    "# Get the last two columns from the first two arrays"
   ]
  },
  {
   "cell_type": "code",
   "execution_count": 161,
   "id": "8101d383",
   "metadata": {},
   "outputs": [
    {
     "data": {
      "text/plain": [
       "array([[[79, 42],\n",
       "        [88, 82],\n",
       "        [69, 19],\n",
       "        [68, 99]],\n",
       "\n",
       "       [[58, 75],\n",
       "        [24, 20],\n",
       "        [77, 31],\n",
       "        [64, 38]]])"
      ]
     },
     "execution_count": 161,
     "metadata": {},
     "output_type": "execute_result"
    }
   ],
   "source": [
    "arr[0:2,::,3:]"
   ]
  },
  {
   "cell_type": "code",
   "execution_count": 162,
   "id": "2b986401",
   "metadata": {},
   "outputs": [
    {
     "data": {
      "text/plain": [
       "array([[[73, 41, 23, 79, 42],\n",
       "        [14, 23, 97, 88, 82],\n",
       "        [21, 39, 49, 69, 19],\n",
       "        [34, 53, 56, 68, 99]],\n",
       "\n",
       "       [[69, 13, 67, 58, 75],\n",
       "        [60, 65, 72, 24, 20],\n",
       "        [32, 32, 46, 77, 31],\n",
       "        [82, 45, 52, 64, 38]],\n",
       "\n",
       "       [[23, 19, 15, 94, 43],\n",
       "        [56, 93, 69, 52, 24],\n",
       "        [98, 40, 85, 12, 28],\n",
       "        [43, 26, 38, 29, 13]]])"
      ]
     },
     "execution_count": 162,
     "metadata": {},
     "output_type": "execute_result"
    }
   ],
   "source": [
    "arr"
   ]
  },
  {
   "cell_type": "code",
   "execution_count": 167,
   "id": "0cf353db",
   "metadata": {},
   "outputs": [],
   "source": [
    "# [[[23,82],\n",
    "#  [53,99]],\n",
    " \n",
    "#  [[65,20],\n",
    "#  [45,38]],\n",
    " \n",
    "#  [[93,24],\n",
    "#  [26,13]]]"
   ]
  },
  {
   "cell_type": "code",
   "execution_count": 166,
   "id": "9d9cc377",
   "metadata": {},
   "outputs": [
    {
     "data": {
      "text/plain": [
       "array([[[23, 82],\n",
       "        [53, 99]],\n",
       "\n",
       "       [[65, 20],\n",
       "        [45, 38]],\n",
       "\n",
       "       [[93, 24],\n",
       "        [26, 13]]])"
      ]
     },
     "execution_count": 166,
     "metadata": {},
     "output_type": "execute_result"
    }
   ],
   "source": [
    "arr[::,1::2,1::3]"
   ]
  },
  {
   "cell_type": "code",
   "execution_count": 168,
   "id": "4c689a81",
   "metadata": {},
   "outputs": [
    {
     "data": {
      "text/plain": [
       "array([[[73, 41, 23, 79, 42],\n",
       "        [14, 23, 97, 88, 82],\n",
       "        [21, 39, 49, 69, 19],\n",
       "        [34, 53, 56, 68, 99]],\n",
       "\n",
       "       [[69, 13, 67, 58, 75],\n",
       "        [60, 65, 72, 24, 20],\n",
       "        [32, 32, 46, 77, 31],\n",
       "        [82, 45, 52, 64, 38]],\n",
       "\n",
       "       [[23, 19, 15, 94, 43],\n",
       "        [56, 93, 69, 52, 24],\n",
       "        [98, 40, 85, 12, 28],\n",
       "        [43, 26, 38, 29, 13]]])"
      ]
     },
     "execution_count": 168,
     "metadata": {},
     "output_type": "execute_result"
    }
   ],
   "source": [
    "arr"
   ]
  },
  {
   "cell_type": "code",
   "execution_count": 177,
   "id": "6d1b103a",
   "metadata": {},
   "outputs": [
    {
     "data": {
      "text/plain": [
       "array([[[73],\n",
       "        [14],\n",
       "        [21],\n",
       "        [34]]])"
      ]
     },
     "execution_count": 177,
     "metadata": {},
     "output_type": "execute_result"
    }
   ],
   "source": [
    "arr[0:1,::,0:1]"
   ]
  },
  {
   "cell_type": "markdown",
   "id": "898e8080",
   "metadata": {},
   "source": [
    "# Array of random values"
   ]
  },
  {
   "cell_type": "markdown",
   "id": "8eeaba70",
   "metadata": {},
   "source": [
    "- In numpy we have random module that is used to create arrays of random values."
   ]
  },
  {
   "cell_type": "markdown",
   "id": "37fd35b2",
   "metadata": {},
   "source": [
    "# random.random()"
   ]
  },
  {
   "cell_type": "markdown",
   "id": "a88b9ff6",
   "metadata": {},
   "source": [
    "- It generates specified number of random values.\n",
    "- The random value is always between 0 and 1"
   ]
  },
  {
   "cell_type": "code",
   "execution_count": 178,
   "id": "651f00a0",
   "metadata": {},
   "outputs": [],
   "source": [
    "# np.random.random(number of values)"
   ]
  },
  {
   "cell_type": "code",
   "execution_count": 182,
   "id": "fc0ee970",
   "metadata": {},
   "outputs": [
    {
     "data": {
      "text/plain": [
       "array([0.96026713, 0.05212885, 0.83046037, 0.05885026, 0.03486997,\n",
       "       0.55553045, 0.79845162, 0.01514959, 0.67670289, 0.88371862,\n",
       "       0.10677787, 0.58418785, 0.09869156, 0.19667819, 0.42049122,\n",
       "       0.17328013, 0.70216845, 0.99089232, 0.00568414, 0.67512048])"
      ]
     },
     "execution_count": 182,
     "metadata": {},
     "output_type": "execute_result"
    }
   ],
   "source": [
    "np.random.random(20)"
   ]
  },
  {
   "cell_type": "code",
   "execution_count": 183,
   "id": "d500e9f9",
   "metadata": {},
   "outputs": [],
   "source": [
    "# Create a 3*3 matrix of random values"
   ]
  },
  {
   "cell_type": "code",
   "execution_count": 186,
   "id": "a66dd6ce",
   "metadata": {},
   "outputs": [
    {
     "data": {
      "text/plain": [
       "array([[0.79136126, 0.29307826, 0.69657399],\n",
       "       [0.41057176, 0.20004087, 0.67834765],\n",
       "       [0.26758662, 0.96842662, 0.96807001]])"
      ]
     },
     "execution_count": 186,
     "metadata": {},
     "output_type": "execute_result"
    }
   ],
   "source": [
    "np.random.random(9).reshape(3,3)"
   ]
  },
  {
   "cell_type": "markdown",
   "id": "e4c8aa61",
   "metadata": {},
   "source": [
    "# random.rand()"
   ]
  },
  {
   "cell_type": "markdown",
   "id": "a76df07c",
   "metadata": {},
   "source": [
    "- It returns an array of the random values of the given shape.\n",
    "- The random values are between 0 and 1"
   ]
  },
  {
   "cell_type": "code",
   "execution_count": 189,
   "id": "a2e4f542",
   "metadata": {},
   "outputs": [],
   "source": [
    "# np.random.rand(rows,cols)"
   ]
  },
  {
   "cell_type": "code",
   "execution_count": 187,
   "id": "ab4d0b86",
   "metadata": {},
   "outputs": [],
   "source": [
    "# Create a 3*3 matrix of random values"
   ]
  },
  {
   "cell_type": "code",
   "execution_count": 188,
   "id": "9834da71",
   "metadata": {},
   "outputs": [
    {
     "data": {
      "text/plain": [
       "array([[0.71001035, 0.49927675, 0.20732186],\n",
       "       [0.97164288, 0.6579455 , 0.12465609],\n",
       "       [0.87146622, 0.49259565, 0.36266828]])"
      ]
     },
     "execution_count": 188,
     "metadata": {},
     "output_type": "execute_result"
    }
   ],
   "source": [
    "np.random.rand(3,3)"
   ]
  },
  {
   "cell_type": "code",
   "execution_count": 190,
   "id": "c5d5157d",
   "metadata": {},
   "outputs": [],
   "source": [
    "# Create a 5*6 matrix of random values"
   ]
  },
  {
   "cell_type": "code",
   "execution_count": 202,
   "id": "5fac8ef8",
   "metadata": {},
   "outputs": [
    {
     "name": "stdout",
     "output_type": "stream",
     "text": [
      "[[0.57480593 0.08142984 0.21788712 0.1770129  0.1963806  0.28144167]\n",
      " [0.03125799 0.15343245 0.37122609 0.21563423 0.65621778 0.74816415]\n",
      " [0.80941844 0.39527775 0.93023321 0.62811314 0.2248006  0.69223621]\n",
      " [0.52541537 0.76646524 0.26576658 0.489979   0.2678287  0.53788803]\n",
      " [0.13186133 0.0091547  0.83687093 0.10398259 0.89107908 0.76587718]]\n"
     ]
    }
   ],
   "source": [
    "print(np.random.random(30).reshape(5,6))"
   ]
  },
  {
   "cell_type": "code",
   "execution_count": 205,
   "id": "b325c3ab",
   "metadata": {},
   "outputs": [
    {
     "name": "stdout",
     "output_type": "stream",
     "text": [
      "[[0.65599368 0.98870009 0.52704899 0.69873379 0.24922587 0.73410323]\n",
      " [0.00694001 0.08471945 0.35032749 0.87524608 0.35284468 0.39080793]\n",
      " [0.08352907 0.6396506  0.99374416 0.32908675 0.68310465 0.24611154]\n",
      " [0.15353878 0.65039867 0.32401101 0.26207097 0.41061662 0.14697748]\n",
      " [0.39407572 0.51393446 0.37805532 0.46181128 0.38030167 0.80479014]]\n"
     ]
    }
   ],
   "source": [
    "print(np.random.rand(5,6))"
   ]
  },
  {
   "cell_type": "code",
   "execution_count": 207,
   "id": "7ccdb5f2",
   "metadata": {},
   "outputs": [
    {
     "name": "stdout",
     "output_type": "stream",
     "text": [
      "[[0.40567909 0.00835369 0.18470733 0.05661304 0.57680471 0.7837248 ]\n",
      " [0.08701426 0.58793775 0.60697103 0.29494202 0.69656167 0.51176833]\n",
      " [0.12587971 0.46787351 0.18575603 0.27754715 0.59833747 0.76576756]\n",
      " [0.23326132 0.93578341 0.70446849 0.50471349 0.20177347 0.91166469]\n",
      " [0.77488056 0.21845422 0.39010963 0.51967215 0.19232255 0.82426271]]\n"
     ]
    }
   ],
   "source": [
    "r=np.random.rand(5,6)\n",
    "print(r)"
   ]
  },
  {
   "cell_type": "markdown",
   "id": "adde1a16",
   "metadata": {},
   "source": [
    "# random.randint()"
   ]
  },
  {
   "cell_type": "markdown",
   "id": "be553b2e",
   "metadata": {},
   "source": [
    "- It returns an array of random integer values between a range."
   ]
  },
  {
   "cell_type": "code",
   "execution_count": 209,
   "id": "48f97159",
   "metadata": {},
   "outputs": [],
   "source": [
    "# np.random.randint(start,stop,number of values)\n",
    "# Stop is excluded"
   ]
  },
  {
   "cell_type": "code",
   "execution_count": 210,
   "id": "571deb54",
   "metadata": {},
   "outputs": [],
   "source": [
    "# Generate 10 random integer numbers between 10 and 50"
   ]
  },
  {
   "cell_type": "code",
   "execution_count": 218,
   "id": "8ab0b4ad",
   "metadata": {},
   "outputs": [
    {
     "data": {
      "text/plain": [
       "array([24, 41, 33, 29, 47, 38, 49, 28, 27, 43])"
      ]
     },
     "execution_count": 218,
     "metadata": {},
     "output_type": "execute_result"
    }
   ],
   "source": [
    "np.random.randint(10,51,10)"
   ]
  },
  {
   "cell_type": "code",
   "execution_count": 219,
   "id": "4ed9bb70",
   "metadata": {},
   "outputs": [],
   "source": [
    "# Generate 20 random integer numbers between 1 and 5"
   ]
  },
  {
   "cell_type": "code",
   "execution_count": 246,
   "id": "94ae8b6a",
   "metadata": {},
   "outputs": [
    {
     "data": {
      "text/plain": [
       "array([3, 2, 3, 4, 3, 3, 2, 2, 2, 5, 3, 4, 1, 5, 5, 1, 5, 5, 1, 1])"
      ]
     },
     "execution_count": 246,
     "metadata": {},
     "output_type": "execute_result"
    }
   ],
   "source": [
    "np.random.randint(1,6,20)"
   ]
  },
  {
   "cell_type": "code",
   "execution_count": 226,
   "id": "009210c7",
   "metadata": {},
   "outputs": [],
   "source": [
    "# Create a 5*4 matrix of random integer numbers between 10 and 100"
   ]
  },
  {
   "cell_type": "code",
   "execution_count": 243,
   "id": "2b954faa",
   "metadata": {},
   "outputs": [
    {
     "data": {
      "text/plain": [
       "array([[47, 20, 60, 58],\n",
       "       [82, 28, 51, 72],\n",
       "       [98, 92, 45, 58],\n",
       "       [64, 48, 93, 46],\n",
       "       [16, 23, 58, 62]])"
      ]
     },
     "execution_count": 243,
     "metadata": {},
     "output_type": "execute_result"
    }
   ],
   "source": [
    "x=np.random.randint(10,101,20).reshape(5,4)\n",
    "x"
   ]
  },
  {
   "cell_type": "markdown",
   "id": "a2685282",
   "metadata": {},
   "source": [
    "# random.seed(random state)"
   ]
  },
  {
   "cell_type": "markdown",
   "id": "ada3aca5",
   "metadata": {},
   "source": [
    "- It is used to set the random state.\n",
    "- Random state is an int number in the range 0 to 2**32-1"
   ]
  },
  {
   "cell_type": "code",
   "execution_count": 299,
   "id": "ee7826a1",
   "metadata": {},
   "outputs": [
    {
     "data": {
      "text/plain": [
       "array([15, 40, 50, 43, 54])"
      ]
     },
     "execution_count": 299,
     "metadata": {},
     "output_type": "execute_result"
    }
   ],
   "source": [
    "np.random.seed(36)\n",
    "arr=np.random.randint(10,100,5)\n",
    "arr"
   ]
  },
  {
   "cell_type": "code",
   "execution_count": 297,
   "id": "546c9a71",
   "metadata": {},
   "outputs": [
    {
     "data": {
      "text/plain": [
       "array([47, 76, 50, 20, 12, 12, 31, 16, 20, 42, 71, 57, 29, 99, 66, 25, 38,\n",
       "       56, 16, 46])"
      ]
     },
     "execution_count": 297,
     "metadata": {},
     "output_type": "execute_result"
    }
   ],
   "source": [
    "np.random.seed(550)\n",
    "arr=np.random.randint(10,100,20)\n",
    "arr"
   ]
  },
  {
   "cell_type": "code",
   "execution_count": 275,
   "id": "ac3fbe7f",
   "metadata": {},
   "outputs": [],
   "source": [
    "# array([47, 76, 50, 20, 12, 12, 31, 16, 20, 42])"
   ]
  },
  {
   "cell_type": "code",
   "execution_count": 293,
   "id": "b28031d5",
   "metadata": {},
   "outputs": [],
   "source": [
    "np.random.seed(5)"
   ]
  },
  {
   "cell_type": "code",
   "execution_count": 303,
   "id": "27c5eae6",
   "metadata": {},
   "outputs": [
    {
     "data": {
      "text/plain": [
       "array([40, 55, 31, 23, 47])"
      ]
     },
     "execution_count": 303,
     "metadata": {},
     "output_type": "execute_result"
    }
   ],
   "source": [
    "np.random.randint(10,100,5)"
   ]
  },
  {
   "cell_type": "code",
   "execution_count": 285,
   "id": "cb20a176",
   "metadata": {},
   "outputs": [],
   "source": [
    "# array([88, 71, 26, 83, 18])"
   ]
  },
  {
   "cell_type": "code",
   "execution_count": 304,
   "id": "fa92158d",
   "metadata": {},
   "outputs": [
    {
     "data": {
      "text/plain": [
       "4294967295"
      ]
     },
     "execution_count": 304,
     "metadata": {},
     "output_type": "execute_result"
    }
   ],
   "source": [
    "2**32-1"
   ]
  },
  {
   "cell_type": "code",
   "execution_count": 310,
   "id": "ed63a319",
   "metadata": {},
   "outputs": [
    {
     "data": {
      "text/plain": [
       "array([0.09763203, 0.91238285, 0.7890353 , 0.7800036 , 0.01793967])"
      ]
     },
     "execution_count": 310,
     "metadata": {},
     "output_type": "execute_result"
    }
   ],
   "source": [
    "np.random.seed(4294967295)\n",
    "np.random.random(5)"
   ]
  },
  {
   "cell_type": "code",
   "execution_count": 336,
   "id": "127b62c1",
   "metadata": {},
   "outputs": [
    {
     "data": {
      "text/plain": [
       "array([88, 71, 26, 83, 18])"
      ]
     },
     "execution_count": 336,
     "metadata": {},
     "output_type": "execute_result"
    }
   ],
   "source": [
    "np.random.seed(5)\n",
    "x=np.random.randint(10,100,5)\n",
    "x"
   ]
  },
  {
   "cell_type": "code",
   "execution_count": 334,
   "id": "2eb70f36",
   "metadata": {},
   "outputs": [
    {
     "data": {
      "text/plain": [
       "array([64, 66, 32, 75, 32])"
      ]
     },
     "execution_count": 334,
     "metadata": {},
     "output_type": "execute_result"
    }
   ],
   "source": [
    "np.random.seed(9)\n",
    "x=np.random.randint(10,100,5)\n",
    "x"
   ]
  },
  {
   "cell_type": "code",
   "execution_count": 370,
   "id": "b8b58f8a",
   "metadata": {},
   "outputs": [
    {
     "name": "stdout",
     "output_type": "stream",
     "text": [
      "[482 448 738 601 156]\n",
      "[4 3 2 2 3]\n"
     ]
    }
   ],
   "source": [
    "np.random.seed(9)\n",
    "print(np.random.randint(100,1000,5))\n",
    "print(np.random.randint(1,5,5))"
   ]
  },
  {
   "cell_type": "code",
   "execution_count": 373,
   "id": "f3fa35bd",
   "metadata": {},
   "outputs": [
    {
     "data": {
      "text/plain": [
       "array([996, 338, 287, 572, 577])"
      ]
     },
     "execution_count": 373,
     "metadata": {},
     "output_type": "execute_result"
    }
   ],
   "source": [
    "np.random.randint(100,1000,5)"
   ]
  },
  {
   "cell_type": "code",
   "execution_count": 375,
   "id": "6a6f6582",
   "metadata": {},
   "outputs": [],
   "source": [
    "# Pandas- 4 classes\n",
    "# Matplotlib- 2 classes\n",
    "# Seaborn- 1 classes"
   ]
  },
  {
   "cell_type": "code",
   "execution_count": 376,
   "id": "ceae09d9",
   "metadata": {},
   "outputs": [],
   "source": [
    "# Decorators\n",
    "# Case studies"
   ]
  },
  {
   "cell_type": "code",
   "execution_count": null,
   "id": "0eec24e0",
   "metadata": {},
   "outputs": [],
   "source": []
  }
 ],
 "metadata": {
  "kernelspec": {
   "display_name": "Python 3 (ipykernel)",
   "language": "python",
   "name": "python3"
  },
  "language_info": {
   "codemirror_mode": {
    "name": "ipython",
    "version": 3
   },
   "file_extension": ".py",
   "mimetype": "text/x-python",
   "name": "python",
   "nbconvert_exporter": "python",
   "pygments_lexer": "ipython3",
   "version": "3.9.13"
  }
 },
 "nbformat": 4,
 "nbformat_minor": 5
}
