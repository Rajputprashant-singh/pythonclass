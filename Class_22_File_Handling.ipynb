{
 "cells": [
  {
   "cell_type": "code",
   "execution_count": 1,
   "id": "dcc3f9cf",
   "metadata": {},
   "outputs": [],
   "source": [
    "import march"
   ]
  },
  {
   "cell_type": "code",
   "execution_count": 2,
   "id": "e1189c1c",
   "metadata": {},
   "outputs": [
    {
     "data": {
      "text/plain": [
       "'I am Pooja'"
      ]
     },
     "execution_count": 2,
     "metadata": {},
     "output_type": "execute_result"
    }
   ],
   "source": [
    "march.pooja()"
   ]
  },
  {
   "cell_type": "code",
   "execution_count": 5,
   "id": "361dad5f",
   "metadata": {},
   "outputs": [
    {
     "name": "stdout",
     "output_type": "stream",
     "text": [
      "Hello\n"
     ]
    }
   ],
   "source": [
    "%run test.py"
   ]
  },
  {
   "cell_type": "markdown",
   "id": "61f4756c",
   "metadata": {},
   "source": [
    "# File Handling"
   ]
  },
  {
   "cell_type": "markdown",
   "id": "6ff1eb02",
   "metadata": {},
   "source": [
    "# File"
   ]
  },
  {
   "cell_type": "markdown",
   "id": "f728d222",
   "metadata": {},
   "source": [
    "- It is a disk space where we keep the code that we want to reuse.\n",
    "- It is a container that holds some data."
   ]
  },
  {
   "cell_type": "markdown",
   "id": "9638ea9b",
   "metadata": {},
   "source": [
    "# Types of files in Python"
   ]
  },
  {
   "cell_type": "markdown",
   "id": "d9aaf4f4",
   "metadata": {},
   "source": [
    "# 1- Text files\n",
    "- .py file\n",
    "- .txt\n",
    "- .pdf\n",
    "- .csv"
   ]
  },
  {
   "cell_type": "markdown",
   "id": "d4e31393",
   "metadata": {},
   "source": [
    "# 2- Binary files\n",
    "- Any file other than text file is a binary file in Python\n",
    "- Image file\n",
    "- Audio file\n",
    "- Video file\n",
    "- .dat\n",
    "- .bin"
   ]
  },
  {
   "cell_type": "markdown",
   "id": "e757e3ab",
   "metadata": {},
   "source": [
    "# File Operations"
   ]
  },
  {
   "cell_type": "markdown",
   "id": "2694030a",
   "metadata": {},
   "source": [
    "- CRUD operations we perform on the files\n",
    "- C- Create\n",
    "- R- Read\n",
    "- U- Update\n",
    "- D- Delete"
   ]
  },
  {
   "cell_type": "markdown",
   "id": "7542973f",
   "metadata": {},
   "source": [
    "# Text files in detail"
   ]
  },
  {
   "cell_type": "markdown",
   "id": "9cad90d8",
   "metadata": {},
   "source": [
    "- In Python a file has to be opened first to perform any operation."
   ]
  },
  {
   "cell_type": "markdown",
   "id": "3984a72b",
   "metadata": {},
   "source": [
    "# Operations on a file in Python"
   ]
  },
  {
   "cell_type": "markdown",
   "id": "bd1f8222",
   "metadata": {},
   "source": [
    "- Open a file\n",
    "- Read from the file\n",
    "- Write to file\n",
    "- Close the file\n",
    "- Delete the file"
   ]
  },
  {
   "cell_type": "markdown",
   "id": "e23261d7",
   "metadata": {},
   "source": [
    "# Functions that we use to perform operations on a file"
   ]
  },
  {
   "cell_type": "markdown",
   "id": "c57e9b19",
   "metadata": {},
   "source": [
    "# How to open a file\n",
    "- open() is used to open a file"
   ]
  },
  {
   "cell_type": "code",
   "execution_count": 8,
   "id": "db9b776e",
   "metadata": {},
   "outputs": [],
   "source": [
    "# file_object=open('file_name.txt','mode')"
   ]
  },
  {
   "cell_type": "markdown",
   "id": "97a6c11b",
   "metadata": {},
   "source": [
    "# How to close a file\n",
    "- close() is used to close a file.\n",
    "- In Python a file has to be closed once the operations ar finished."
   ]
  },
  {
   "cell_type": "code",
   "execution_count": 9,
   "id": "ec2cb553",
   "metadata": {},
   "outputs": [],
   "source": [
    "# file_object.close()"
   ]
  },
  {
   "cell_type": "markdown",
   "id": "633c65f2",
   "metadata": {},
   "source": [
    "# read()\n",
    "- It reads the data from the file and returns a string.\n",
    "- It reads the data from the cursor's current position to the end of the file.\n",
    "- After read() the cursor's position is at the end of the file."
   ]
  },
  {
   "cell_type": "markdown",
   "id": "17aa28ac",
   "metadata": {},
   "source": [
    "# write()\n",
    "- It is used to write the data to a file"
   ]
  },
  {
   "cell_type": "markdown",
   "id": "0d4af590",
   "metadata": {},
   "source": [
    "# seek()\n",
    "- It is used to move the cursor's position to a particular index"
   ]
  },
  {
   "cell_type": "markdown",
   "id": "c4aea5d6",
   "metadata": {},
   "source": [
    "# tell()\n",
    "- It returns the index where the cursor is positioned currently"
   ]
  },
  {
   "cell_type": "markdown",
   "id": "301ab6d1",
   "metadata": {},
   "source": [
    "# Modes on a text file"
   ]
  },
  {
   "cell_type": "markdown",
   "id": "24b9ed3b",
   "metadata": {},
   "source": [
    "### 1- read mode- 'r'"
   ]
  },
  {
   "cell_type": "markdown",
   "id": "9742a7a2",
   "metadata": {},
   "source": [
    "- If the file already exists then it opens the file in read mode and places the cursor at the beginning of the file.\n",
    "- If the file does not exist then it raises file not found error.\n",
    "- We can read the data from the file but we can not write into the file.\n",
    "- The default mode is read mode."
   ]
  },
  {
   "cell_type": "code",
   "execution_count": 11,
   "id": "1b515c31",
   "metadata": {},
   "outputs": [
    {
     "name": "stdout",
     "output_type": "stream",
     "text": [
      " Volume in drive C is OS\n",
      " Volume Serial Number is DC45-AD44\n",
      "\n",
      " Directory of C:\\Users\\Dell\\OneDrive\\Desktop\\Data Science\\Learn Bay Classes\\Python 10th March Batch\n",
      "\n",
      "04/13/2023  08:32 AM    <DIR>          .\n",
      "03/29/2023  10:06 PM    <DIR>          ..\n",
      "04/13/2023  08:01 AM    <DIR>          .ipynb_checkpoints\n",
      "04/13/2023  08:03 AM    <DIR>          __pycache__\n",
      "03/24/2023  10:00 AM             3,625 Assignent_1.ipynb\n",
      "03/13/2023  09:41 AM            14,015 Class_1_Introduction.ipynb\n",
      "03/28/2023  10:06 AM            32,651 Class_10_Loop.ipynb\n",
      "03/29/2023  10:04 AM            27,617 Class_11_Loop_2.ipynb\n",
      "03/30/2023  12:24 PM            33,543 Class_12_Transfer_Statements_and_List.ipynb\n",
      "03/31/2023  10:02 AM            44,291 Class_13_List_Methods.ipynb\n",
      "04/03/2023  09:58 AM            52,931 Class_14_List_Methods_2.ipynb\n",
      "04/04/2023  11:13 AM            49,861 Class_15_Tuple.ipynb\n",
      "04/06/2023  08:04 AM            40,232 Class_16_Dictionary.ipynb\n",
      "04/06/2023  09:43 AM            58,072 Class_17_Dictionary_Methods.ipynb\n",
      "04/07/2023  10:06 AM            25,372 Class_18_Functions.ipynb\n",
      "04/10/2023  09:53 AM            54,430 Class_19_Functions_2.ipynb\n",
      "03/15/2023  08:47 AM            25,288 Class_2_Introduction.ipynb\n",
      "04/11/2023  09:47 AM            20,021 Class_20_Function_3.ipynb\n",
      "04/12/2023  09:50 AM            51,288 Class_21_Modules.ipynb\n",
      "04/13/2023  08:31 AM             8,458 Class_22_File_Handling.ipynb\n",
      "03/15/2023  10:02 AM            40,513 Class_3_Datatypes.ipynb\n",
      "03/17/2023  10:05 AM            41,128 Class_4_Typecasting.ipynb\n",
      "03/20/2023  11:59 AM            29,379 Class_5_Operators.ipynb\n",
      "03/21/2023  10:01 AM            43,803 Class_6_Operators_2.ipynb\n",
      "03/23/2023  09:54 AM            24,783 Class_7_String.ipynb\n",
      "03/24/2023  09:55 AM            31,800 Class_8_String_Methods.ipynb\n",
      "03/27/2023  10:02 AM            32,169 Class_9_Conditional_Statements.ipynb\n",
      "04/13/2023  08:32 AM                41 intro.txt\n",
      "04/13/2023  08:03 AM               304 march.py\n",
      "04/13/2023  08:05 AM                14 test.py\n",
      "04/12/2023  09:11 AM             2,978 Untitled.ipynb\n",
      "              27 File(s)        788,607 bytes\n",
      "               4 Dir(s)  177,009,373,184 bytes free\n"
     ]
    }
   ],
   "source": [
    "ls"
   ]
  },
  {
   "cell_type": "code",
   "execution_count": 15,
   "id": "f47408c5",
   "metadata": {},
   "outputs": [
    {
     "name": "stdout",
     "output_type": "stream",
     "text": [
      "0\n",
      "Hello everyone!\n",
      "This is March 10th batch.\n",
      "41\n"
     ]
    }
   ],
   "source": [
    "f=open('intro.txt','r')\n",
    "print(f.tell())\n",
    "print(f.read())\n",
    "print(f.tell())\n",
    "f.close()"
   ]
  },
  {
   "cell_type": "code",
   "execution_count": 16,
   "id": "de5266c3",
   "metadata": {},
   "outputs": [
    {
     "ename": "ValueError",
     "evalue": "I/O operation on closed file.",
     "output_type": "error",
     "traceback": [
      "\u001b[1;31m---------------------------------------------------------------------------\u001b[0m",
      "\u001b[1;31mValueError\u001b[0m                                Traceback (most recent call last)",
      "\u001b[1;32m~\\AppData\\Local\\Temp\\ipykernel_23200\\3059900045.py\u001b[0m in \u001b[0;36m<module>\u001b[1;34m\u001b[0m\n\u001b[1;32m----> 1\u001b[1;33m \u001b[0mf\u001b[0m\u001b[1;33m.\u001b[0m\u001b[0mread\u001b[0m\u001b[1;33m(\u001b[0m\u001b[1;33m)\u001b[0m\u001b[1;33m\u001b[0m\u001b[1;33m\u001b[0m\u001b[0m\n\u001b[0m",
      "\u001b[1;31mValueError\u001b[0m: I/O operation on closed file."
     ]
    }
   ],
   "source": [
    "f.read()"
   ]
  },
  {
   "cell_type": "code",
   "execution_count": 17,
   "id": "6aaa8c4e",
   "metadata": {},
   "outputs": [
    {
     "ename": "FileNotFoundError",
     "evalue": "[Errno 2] No such file or directory: 'abc.txt'",
     "output_type": "error",
     "traceback": [
      "\u001b[1;31m---------------------------------------------------------------------------\u001b[0m",
      "\u001b[1;31mFileNotFoundError\u001b[0m                         Traceback (most recent call last)",
      "\u001b[1;32m~\\AppData\\Local\\Temp\\ipykernel_23200\\3797688907.py\u001b[0m in \u001b[0;36m<module>\u001b[1;34m\u001b[0m\n\u001b[1;32m----> 1\u001b[1;33m \u001b[0mf\u001b[0m\u001b[1;33m=\u001b[0m\u001b[0mopen\u001b[0m\u001b[1;33m(\u001b[0m\u001b[1;34m'abc.txt'\u001b[0m\u001b[1;33m,\u001b[0m\u001b[1;34m'r'\u001b[0m\u001b[1;33m)\u001b[0m\u001b[1;33m\u001b[0m\u001b[1;33m\u001b[0m\u001b[0m\n\u001b[0m\u001b[0;32m      2\u001b[0m \u001b[0mprint\u001b[0m\u001b[1;33m(\u001b[0m\u001b[0mf\u001b[0m\u001b[1;33m.\u001b[0m\u001b[0mtell\u001b[0m\u001b[1;33m(\u001b[0m\u001b[1;33m)\u001b[0m\u001b[1;33m)\u001b[0m\u001b[1;33m\u001b[0m\u001b[1;33m\u001b[0m\u001b[0m\n",
      "\u001b[1;31mFileNotFoundError\u001b[0m: [Errno 2] No such file or directory: 'abc.txt'"
     ]
    }
   ],
   "source": [
    "f=open('abc.txt','r')\n",
    "print(f.tell())"
   ]
  },
  {
   "cell_type": "code",
   "execution_count": 19,
   "id": "83cd9e45",
   "metadata": {},
   "outputs": [
    {
     "name": "stdout",
     "output_type": "stream",
     "text": [
      "0\n"
     ]
    },
    {
     "ename": "UnsupportedOperation",
     "evalue": "not writable",
     "output_type": "error",
     "traceback": [
      "\u001b[1;31m---------------------------------------------------------------------------\u001b[0m",
      "\u001b[1;31mUnsupportedOperation\u001b[0m                      Traceback (most recent call last)",
      "\u001b[1;32m~\\AppData\\Local\\Temp\\ipykernel_23200\\2967718429.py\u001b[0m in \u001b[0;36m<module>\u001b[1;34m\u001b[0m\n\u001b[0;32m      1\u001b[0m \u001b[0mf\u001b[0m\u001b[1;33m=\u001b[0m\u001b[0mopen\u001b[0m\u001b[1;33m(\u001b[0m\u001b[1;34m'intro.txt'\u001b[0m\u001b[1;33m,\u001b[0m\u001b[1;34m'r'\u001b[0m\u001b[1;33m)\u001b[0m\u001b[1;33m\u001b[0m\u001b[1;33m\u001b[0m\u001b[0m\n\u001b[0;32m      2\u001b[0m \u001b[0mprint\u001b[0m\u001b[1;33m(\u001b[0m\u001b[0mf\u001b[0m\u001b[1;33m.\u001b[0m\u001b[0mtell\u001b[0m\u001b[1;33m(\u001b[0m\u001b[1;33m)\u001b[0m\u001b[1;33m)\u001b[0m\u001b[1;33m\u001b[0m\u001b[1;33m\u001b[0m\u001b[0m\n\u001b[1;32m----> 3\u001b[1;33m \u001b[0mf\u001b[0m\u001b[1;33m.\u001b[0m\u001b[0mwrite\u001b[0m\u001b[1;33m(\u001b[0m\u001b[1;34m'Hello'\u001b[0m\u001b[1;33m)\u001b[0m\u001b[1;33m\u001b[0m\u001b[1;33m\u001b[0m\u001b[0m\n\u001b[0m",
      "\u001b[1;31mUnsupportedOperation\u001b[0m: not writable"
     ]
    }
   ],
   "source": [
    "f=open('intro.txt','r')\n",
    "print(f.tell())\n",
    "f.write('Hello')"
   ]
  },
  {
   "cell_type": "code",
   "execution_count": 21,
   "id": "f30fec13",
   "metadata": {},
   "outputs": [
    {
     "name": "stdout",
     "output_type": "stream",
     "text": [
      "0\n",
      "Hello everyone!\n",
      "This is March 10th batch.\n"
     ]
    }
   ],
   "source": [
    "f=open('intro.txt')\n",
    "print(f.tell())\n",
    "print(f.read())"
   ]
  },
  {
   "cell_type": "code",
   "execution_count": 30,
   "id": "510e6ef3",
   "metadata": {},
   "outputs": [
    {
     "name": "stdout",
     "output_type": "stream",
     "text": [
      "0\n",
      "10\n",
      "yone!\n",
      "This is March 10th batch.\n"
     ]
    }
   ],
   "source": [
    "f=open('intro.txt')\n",
    "print(f.tell())\n",
    "f.seek(10)\n",
    "print(f.tell())\n",
    "print(f.read())"
   ]
  },
  {
   "cell_type": "markdown",
   "id": "1b21fad6",
   "metadata": {},
   "source": [
    "### 2- write mode - 'w'"
   ]
  },
  {
   "cell_type": "markdown",
   "id": "92073058",
   "metadata": {},
   "source": [
    "- If the file already exists then it opens the file in write mode and erases the previous data.\n",
    "- If the file does not exist then it creates the file with the given name and extension and opens it in write mode.\n",
    "- In write mode we are allowed to write into the file but we are not allowed to read from the file."
   ]
  },
  {
   "cell_type": "code",
   "execution_count": 49,
   "id": "7faafb80",
   "metadata": {},
   "outputs": [
    {
     "name": "stdout",
     "output_type": "stream",
     "text": [
      "18\n",
      "0\n"
     ]
    },
    {
     "ename": "UnsupportedOperation",
     "evalue": "not readable",
     "output_type": "error",
     "traceback": [
      "\u001b[1;31m---------------------------------------------------------------------------\u001b[0m",
      "\u001b[1;31mUnsupportedOperation\u001b[0m                      Traceback (most recent call last)",
      "\u001b[1;32m~\\AppData\\Local\\Temp\\ipykernel_23200\\2562344169.py\u001b[0m in \u001b[0;36m<module>\u001b[1;34m\u001b[0m\n\u001b[0;32m      4\u001b[0m \u001b[0mf\u001b[0m\u001b[1;33m.\u001b[0m\u001b[0mseek\u001b[0m\u001b[1;33m(\u001b[0m\u001b[1;36m0\u001b[0m\u001b[1;33m)\u001b[0m\u001b[1;33m\u001b[0m\u001b[1;33m\u001b[0m\u001b[0m\n\u001b[0;32m      5\u001b[0m \u001b[0mprint\u001b[0m\u001b[1;33m(\u001b[0m\u001b[0mf\u001b[0m\u001b[1;33m.\u001b[0m\u001b[0mtell\u001b[0m\u001b[1;33m(\u001b[0m\u001b[1;33m)\u001b[0m\u001b[1;33m)\u001b[0m\u001b[1;33m\u001b[0m\u001b[1;33m\u001b[0m\u001b[0m\n\u001b[1;32m----> 6\u001b[1;33m \u001b[0mprint\u001b[0m\u001b[1;33m(\u001b[0m\u001b[0mf\u001b[0m\u001b[1;33m.\u001b[0m\u001b[0mread\u001b[0m\u001b[1;33m(\u001b[0m\u001b[1;33m)\u001b[0m\u001b[1;33m)\u001b[0m\u001b[1;33m\u001b[0m\u001b[1;33m\u001b[0m\u001b[0m\n\u001b[0m\u001b[0;32m      7\u001b[0m \u001b[0mf\u001b[0m\u001b[1;33m.\u001b[0m\u001b[0mclose\u001b[0m\u001b[1;33m(\u001b[0m\u001b[1;33m)\u001b[0m\u001b[1;33m\u001b[0m\u001b[1;33m\u001b[0m\u001b[0m\n",
      "\u001b[1;31mUnsupportedOperation\u001b[0m: not readable"
     ]
    }
   ],
   "source": [
    "f=open('intro.txt','w')\n",
    "f.write('Hello how are you?')\n",
    "print(f.tell())\n",
    "f.seek(0)\n",
    "print(f.tell())\n",
    "print(f.read())\n",
    "f.close()"
   ]
  },
  {
   "cell_type": "code",
   "execution_count": 48,
   "id": "42b650ef",
   "metadata": {},
   "outputs": [],
   "source": [
    "f=open('abcd.txt','w')\n",
    "f.write('This is our first file')\n",
    "f.close()"
   ]
  },
  {
   "cell_type": "code",
   "execution_count": 46,
   "id": "ce23d263",
   "metadata": {},
   "outputs": [
    {
     "name": "stdout",
     "output_type": "stream",
     "text": [
      " Volume in drive C is OS\n",
      " Volume Serial Number is DC45-AD44\n",
      "\n",
      " Directory of C:\\Users\\Dell\\OneDrive\\Desktop\\Data Science\\Learn Bay Classes\\Python 10th March Batch\n",
      "\n",
      "04/13/2023  08:58 AM    <DIR>          .\n",
      "03/29/2023  10:06 PM    <DIR>          ..\n",
      "04/13/2023  08:01 AM    <DIR>          .ipynb_checkpoints\n",
      "04/13/2023  08:03 AM    <DIR>          __pycache__\n",
      "04/13/2023  08:58 AM                 0 abcd.txt\n",
      "03/24/2023  10:00 AM             3,625 Assignent_1.ipynb\n",
      "03/13/2023  09:41 AM            14,015 Class_1_Introduction.ipynb\n",
      "03/28/2023  10:06 AM            32,651 Class_10_Loop.ipynb\n",
      "03/29/2023  10:04 AM            27,617 Class_11_Loop_2.ipynb\n",
      "03/30/2023  12:24 PM            33,543 Class_12_Transfer_Statements_and_List.ipynb\n",
      "03/31/2023  10:02 AM            44,291 Class_13_List_Methods.ipynb\n",
      "04/03/2023  09:58 AM            52,931 Class_14_List_Methods_2.ipynb\n",
      "04/04/2023  11:13 AM            49,861 Class_15_Tuple.ipynb\n",
      "04/06/2023  08:04 AM            40,232 Class_16_Dictionary.ipynb\n",
      "04/06/2023  09:43 AM            58,072 Class_17_Dictionary_Methods.ipynb\n",
      "04/07/2023  10:06 AM            25,372 Class_18_Functions.ipynb\n",
      "04/10/2023  09:53 AM            54,430 Class_19_Functions_2.ipynb\n",
      "03/15/2023  08:47 AM            25,288 Class_2_Introduction.ipynb\n",
      "04/11/2023  09:47 AM            20,021 Class_20_Function_3.ipynb\n",
      "04/12/2023  09:50 AM            51,288 Class_21_Modules.ipynb\n",
      "04/13/2023  08:57 AM            14,591 Class_22_File_Handling.ipynb\n",
      "03/15/2023  10:02 AM            40,513 Class_3_Datatypes.ipynb\n",
      "03/17/2023  10:05 AM            41,128 Class_4_Typecasting.ipynb\n",
      "03/20/2023  11:59 AM            29,379 Class_5_Operators.ipynb\n",
      "03/21/2023  10:01 AM            43,803 Class_6_Operators_2.ipynb\n",
      "03/23/2023  09:54 AM            24,783 Class_7_String.ipynb\n",
      "03/24/2023  09:55 AM            31,800 Class_8_String_Methods.ipynb\n",
      "03/27/2023  10:02 AM            32,169 Class_9_Conditional_Statements.ipynb\n",
      "04/13/2023  08:57 AM                18 intro.txt\n",
      "04/13/2023  08:03 AM               304 march.py\n",
      "04/13/2023  08:05 AM                14 test.py\n",
      "04/12/2023  09:11 AM             2,978 Untitled.ipynb\n",
      "              28 File(s)        794,717 bytes\n",
      "               4 Dir(s)  175,706,525,696 bytes free\n"
     ]
    }
   ],
   "source": [
    "ls"
   ]
  },
  {
   "cell_type": "markdown",
   "id": "c4f458f0",
   "metadata": {},
   "source": [
    "### 3- append mode - 'a'"
   ]
  },
  {
   "cell_type": "markdown",
   "id": "b557bd48",
   "metadata": {},
   "source": [
    "- If the file already exists then it opens the file in append mode and places the cursor at the end of the file.\n",
    "- If the file does not exist then it creates the file with the given name and extension.\n",
    "- In append mode we are allowed to write to the file but we are not allowed to read from the file.\n",
    "- Whatevr we write it appends at the end of the file.\n",
    "- seek() is not applicable."
   ]
  },
  {
   "cell_type": "code",
   "execution_count": 52,
   "id": "142b796d",
   "metadata": {},
   "outputs": [
    {
     "name": "stdout",
     "output_type": "stream",
     "text": [
      "43\n"
     ]
    },
    {
     "ename": "UnsupportedOperation",
     "evalue": "not readable",
     "output_type": "error",
     "traceback": [
      "\u001b[1;31m---------------------------------------------------------------------------\u001b[0m",
      "\u001b[1;31mUnsupportedOperation\u001b[0m                      Traceback (most recent call last)",
      "\u001b[1;32m~\\AppData\\Local\\Temp\\ipykernel_23200\\2734725077.py\u001b[0m in \u001b[0;36m<module>\u001b[1;34m\u001b[0m\n\u001b[0;32m      3\u001b[0m \u001b[0mf\u001b[0m\u001b[1;33m.\u001b[0m\u001b[0mwrite\u001b[0m\u001b[1;33m(\u001b[0m\u001b[1;34m'We are in append mode'\u001b[0m\u001b[1;33m)\u001b[0m\u001b[1;33m\u001b[0m\u001b[1;33m\u001b[0m\u001b[0m\n\u001b[0;32m      4\u001b[0m \u001b[0mf\u001b[0m\u001b[1;33m.\u001b[0m\u001b[0mseek\u001b[0m\u001b[1;33m(\u001b[0m\u001b[1;36m0\u001b[0m\u001b[1;33m)\u001b[0m\u001b[1;33m\u001b[0m\u001b[1;33m\u001b[0m\u001b[0m\n\u001b[1;32m----> 5\u001b[1;33m \u001b[0mprint\u001b[0m\u001b[1;33m(\u001b[0m\u001b[0mf\u001b[0m\u001b[1;33m.\u001b[0m\u001b[0mread\u001b[0m\u001b[1;33m(\u001b[0m\u001b[1;33m)\u001b[0m\u001b[1;33m)\u001b[0m\u001b[1;33m\u001b[0m\u001b[1;33m\u001b[0m\u001b[0m\n\u001b[0m\u001b[0;32m      6\u001b[0m \u001b[0mf\u001b[0m\u001b[1;33m.\u001b[0m\u001b[0mclose\u001b[0m\u001b[1;33m(\u001b[0m\u001b[1;33m)\u001b[0m\u001b[1;33m\u001b[0m\u001b[1;33m\u001b[0m\u001b[0m\n",
      "\u001b[1;31mUnsupportedOperation\u001b[0m: not readable"
     ]
    }
   ],
   "source": [
    "f=open('abcd.txt','a')\n",
    "print(f.tell())\n",
    "f.write('We are in append mode')\n",
    "f.seek(0)\n",
    "print(f.read())\n",
    "f.close()"
   ]
  },
  {
   "cell_type": "code",
   "execution_count": 55,
   "id": "9257d1d8",
   "metadata": {},
   "outputs": [
    {
     "name": "stdout",
     "output_type": "stream",
     "text": [
      "44\n",
      "12\n"
     ]
    }
   ],
   "source": [
    "f=open('abcd.txt','a')\n",
    "print(f.tell())\n",
    "f.seek(12)\n",
    "print(f.tell())\n",
    "f.write('Python class')\n",
    "f.close()"
   ]
  },
  {
   "cell_type": "code",
   "execution_count": 58,
   "id": "72c69a33",
   "metadata": {},
   "outputs": [],
   "source": [
    "f=open('data.txt','a')\n",
    "f.write('We have created this file in append mode')\n",
    "f.close()"
   ]
  },
  {
   "cell_type": "code",
   "execution_count": 57,
   "id": "2758d30a",
   "metadata": {},
   "outputs": [
    {
     "name": "stdout",
     "output_type": "stream",
     "text": [
      " Volume in drive C is OS\n",
      " Volume Serial Number is DC45-AD44\n",
      "\n",
      " Directory of C:\\Users\\Dell\\OneDrive\\Desktop\\Data Science\\Learn Bay Classes\\Python 10th March Batch\n",
      "\n",
      "04/13/2023  09:12 AM    <DIR>          .\n",
      "03/29/2023  10:06 PM    <DIR>          ..\n",
      "04/13/2023  08:01 AM    <DIR>          .ipynb_checkpoints\n",
      "04/13/2023  08:03 AM    <DIR>          __pycache__\n",
      "04/13/2023  09:11 AM                56 abcd.txt\n",
      "03/24/2023  10:00 AM             3,625 Assignent_1.ipynb\n",
      "03/13/2023  09:41 AM            14,015 Class_1_Introduction.ipynb\n",
      "03/28/2023  10:06 AM            32,651 Class_10_Loop.ipynb\n",
      "03/29/2023  10:04 AM            27,617 Class_11_Loop_2.ipynb\n",
      "03/30/2023  12:24 PM            33,543 Class_12_Transfer_Statements_and_List.ipynb\n",
      "03/31/2023  10:02 AM            44,291 Class_13_List_Methods.ipynb\n",
      "04/03/2023  09:58 AM            52,931 Class_14_List_Methods_2.ipynb\n",
      "04/04/2023  11:13 AM            49,861 Class_15_Tuple.ipynb\n",
      "04/06/2023  08:04 AM            40,232 Class_16_Dictionary.ipynb\n",
      "04/06/2023  09:43 AM            58,072 Class_17_Dictionary_Methods.ipynb\n",
      "04/07/2023  10:06 AM            25,372 Class_18_Functions.ipynb\n",
      "04/10/2023  09:53 AM            54,430 Class_19_Functions_2.ipynb\n",
      "03/15/2023  08:47 AM            25,288 Class_2_Introduction.ipynb\n",
      "04/11/2023  09:47 AM            20,021 Class_20_Function_3.ipynb\n",
      "04/12/2023  09:50 AM            51,288 Class_21_Modules.ipynb\n",
      "04/13/2023  09:11 AM            22,235 Class_22_File_Handling.ipynb\n",
      "03/15/2023  10:02 AM            40,513 Class_3_Datatypes.ipynb\n",
      "03/17/2023  10:05 AM            41,128 Class_4_Typecasting.ipynb\n",
      "03/20/2023  11:59 AM            29,379 Class_5_Operators.ipynb\n",
      "03/21/2023  10:01 AM            43,803 Class_6_Operators_2.ipynb\n",
      "03/23/2023  09:54 AM            24,783 Class_7_String.ipynb\n",
      "03/24/2023  09:55 AM            31,800 Class_8_String_Methods.ipynb\n",
      "03/27/2023  10:02 AM            32,169 Class_9_Conditional_Statements.ipynb\n",
      "04/13/2023  09:12 AM                 0 data.txt\n",
      "04/13/2023  09:05 AM                18 intro.txt\n",
      "04/13/2023  08:03 AM               304 march.py\n",
      "04/13/2023  08:05 AM                14 test.py\n",
      "04/12/2023  09:11 AM             2,978 Untitled.ipynb\n",
      "              29 File(s)        802,417 bytes\n",
      "               4 Dir(s)  175,931,277,312 bytes free\n"
     ]
    }
   ],
   "source": [
    "ls"
   ]
  },
  {
   "cell_type": "markdown",
   "id": "db944314",
   "metadata": {},
   "source": [
    "### 4- read and write - 'r+'"
   ]
  },
  {
   "cell_type": "markdown",
   "id": "bab74c9a",
   "metadata": {},
   "source": [
    "- If the file already exists then it opens the file in read mode and places the cursor at the beginning of the file.\n",
    "- If the file does not exist then it raises file not found error.\n",
    "- We are allowed to read from the file as well as write into the file.\n",
    "- seek() is applicable while writing and reading.\n",
    "- **Note-** It overwrite the previous data."
   ]
  },
  {
   "cell_type": "code",
   "execution_count": 62,
   "id": "96350f70",
   "metadata": {},
   "outputs": [
    {
     "name": "stdout",
     "output_type": "stream",
     "text": [
      "0\n",
      "We have created this file in append mode\n",
      "40\n"
     ]
    }
   ],
   "source": [
    "f=open('data.txt','r+')\n",
    "print(f.tell())\n",
    "print(f.read())\n",
    "print(f.tell())\n",
    "f.close()"
   ]
  },
  {
   "cell_type": "code",
   "execution_count": 78,
   "id": "11486db0",
   "metadata": {},
   "outputs": [
    {
     "name": "stdout",
     "output_type": "stream",
     "text": [
      "0\n"
     ]
    }
   ],
   "source": [
    "f=open('data.txt','r+')\n",
    "print(f.tell())\n",
    "f.write('Python class')\n",
    "f.close()"
   ]
  },
  {
   "cell_type": "code",
   "execution_count": 107,
   "id": "893436a7",
   "metadata": {},
   "outputs": [
    {
     "name": "stdout",
     "output_type": "stream",
     "text": [
      "0\n",
      "HelloShubhame you?Hello PythonHello PythonJavaJavaJavaJavaJavaJavaJavaJavaJavaJavaJavaJavaJavaJavaJava\n",
      "102\n",
      "HelloShubhame you?Hello PythonHello PythonJavaJavaJavaJavaJavaJavaJavaJavaJavaJavaJavaJavaJavaJavaJavaJava\n"
     ]
    }
   ],
   "source": [
    "f=open('intro.txt','r+')\n",
    "print(f.tell())\n",
    "print(f.read())\n",
    "print(f.tell())\n",
    "f.write('Java')\n",
    "f.seek(0)\n",
    "print(f.read())\n",
    "f.close()"
   ]
  },
  {
   "cell_type": "code",
   "execution_count": 77,
   "id": "ce8e7b4c",
   "metadata": {},
   "outputs": [
    {
     "ename": "FileNotFoundError",
     "evalue": "[Errno 2] No such file or directory: 'xyz.txt'",
     "output_type": "error",
     "traceback": [
      "\u001b[1;31m---------------------------------------------------------------------------\u001b[0m",
      "\u001b[1;31mFileNotFoundError\u001b[0m                         Traceback (most recent call last)",
      "\u001b[1;32m~\\AppData\\Local\\Temp\\ipykernel_23200\\1638275818.py\u001b[0m in \u001b[0;36m<module>\u001b[1;34m\u001b[0m\n\u001b[1;32m----> 1\u001b[1;33m \u001b[0mf\u001b[0m\u001b[1;33m=\u001b[0m\u001b[0mopen\u001b[0m\u001b[1;33m(\u001b[0m\u001b[1;34m'xyz.txt'\u001b[0m\u001b[1;33m,\u001b[0m\u001b[1;34m'r+'\u001b[0m\u001b[1;33m)\u001b[0m\u001b[1;33m\u001b[0m\u001b[1;33m\u001b[0m\u001b[0m\n\u001b[0m",
      "\u001b[1;31mFileNotFoundError\u001b[0m: [Errno 2] No such file or directory: 'xyz.txt'"
     ]
    }
   ],
   "source": [
    "f=open('xyz.txt','r+')"
   ]
  },
  {
   "cell_type": "code",
   "execution_count": 88,
   "id": "913f9311",
   "metadata": {},
   "outputs": [
    {
     "name": "stdout",
     "output_type": "stream",
     "text": [
      "Hello how are you?Hello PythonHello PythonJava\n",
      "5\n",
      "HelloShubhame you?Hello PythonHello PythonJava\n"
     ]
    }
   ],
   "source": [
    "f=open('intro.txt','r+')\n",
    "print(f.read())\n",
    "f.seek(5)\n",
    "print(f.tell())\n",
    "f.write('Shubham')\n",
    "f.seek(0)\n",
    "print(f.read())\n",
    "f.close()"
   ]
  },
  {
   "cell_type": "code",
   "execution_count": null,
   "id": "eaccb463",
   "metadata": {},
   "outputs": [],
   "source": []
  }
 ],
 "metadata": {
  "kernelspec": {
   "display_name": "Python 3 (ipykernel)",
   "language": "python",
   "name": "python3"
  },
  "language_info": {
   "codemirror_mode": {
    "name": "ipython",
    "version": 3
   },
   "file_extension": ".py",
   "mimetype": "text/x-python",
   "name": "python",
   "nbconvert_exporter": "python",
   "pygments_lexer": "ipython3",
   "version": "3.9.13"
  }
 },
 "nbformat": 4,
 "nbformat_minor": 5
}
