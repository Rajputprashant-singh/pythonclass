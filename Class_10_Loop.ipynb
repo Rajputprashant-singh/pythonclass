{
 "cells": [
  {
   "cell_type": "markdown",
   "id": "3fc139ae",
   "metadata": {},
   "source": [
    "# Nested if....else statement"
   ]
  },
  {
   "cell_type": "markdown",
   "id": "b3492264",
   "metadata": {},
   "source": [
    "When we have an if statement with in another if statement then it is known as nested if statement."
   ]
  },
  {
   "cell_type": "code",
   "execution_count": null,
   "id": "ca882750",
   "metadata": {},
   "outputs": [],
   "source": [
    "if condition:\n",
    "    code_1\n",
    "    if condition:\n",
    "        code_2\n",
    "        if condition:\n",
    "            code_3\n",
    "        else:\n",
    "            code_4\n",
    "    else:\n",
    "        code_5\n",
    "else:\n",
    "    code_6"
   ]
  },
  {
   "cell_type": "code",
   "execution_count": 1,
   "id": "27f2ac16",
   "metadata": {},
   "outputs": [],
   "source": [
    "# If a student scores 90 or more than 90 marks in all the three subjects (Maths, English and Science) then it should say well done.\n",
    "# If the students scores < 90 marks in any subject then it should say try again."
   ]
  },
  {
   "cell_type": "code",
   "execution_count": 5,
   "id": "ef86746f",
   "metadata": {},
   "outputs": [
    {
     "name": "stdout",
     "output_type": "stream",
     "text": [
      "Enter the marks in Maths- 50\n",
      "Enter the marks in English- 50\n",
      "Enter the marks in Science- 50\n",
      "Try again in Maths\n"
     ]
    }
   ],
   "source": [
    "\n",
    "math=int(input('Enter the marks in Maths- '))\n",
    "eng=int(input('Enter the marks in English- '))\n",
    "sci=int(input('Enter the marks in Science- '))\n",
    "\n",
    "if math>=90:\n",
    "    if eng>=90:\n",
    "        if sci>=90:\n",
    "            print('Well done')\n",
    "        else:\n",
    "            print('Try again in Science')\n",
    "    else:\n",
    "        print('Try again in English')\n",
    "else:\n",
    "    print('Try again in Maths')"
   ]
  },
  {
   "cell_type": "code",
   "execution_count": 6,
   "id": "78f60225",
   "metadata": {},
   "outputs": [],
   "source": [
    "# math=int(input('Enter the marks in Maths- '))\n",
    "# eng=int(input('Enter the marks in English- '))\n",
    "# sci=int(input('Enter the marks in Science- '))\n",
    "\n",
    "# mm=100\n",
    "# # Calculate the percentage\n",
    "# First division if the percentage is 60 or more than 60\n",
    "# Second division if the percentage is between 45 and 59\n",
    "# Third division if the percentage is between 33 and 44\n",
    "# Fail if the percentage is less than 33"
   ]
  },
  {
   "cell_type": "code",
   "execution_count": 14,
   "id": "8451ca3c",
   "metadata": {},
   "outputs": [
    {
     "name": "stdout",
     "output_type": "stream",
     "text": [
      "Consonant\n"
     ]
    }
   ],
   "source": [
    "# Take an alphabet from the user and check whether it is a vowel or consonant\n",
    "vowels='AEIOUaeiou'\n",
    "\n",
    "a='z'\n",
    "if a.isalpha():\n",
    "    if a in vowels:\n",
    "        print('Vowel')\n",
    "    else:\n",
    "        print('Consonant')\n",
    "else:\n",
    "    print('The character is not an alphabet')"
   ]
  },
  {
   "cell_type": "code",
   "execution_count": 12,
   "id": "9f1fa514",
   "metadata": {},
   "outputs": [
    {
     "data": {
      "text/plain": [
       "True"
      ]
     },
     "execution_count": 12,
     "metadata": {},
     "output_type": "execute_result"
    }
   ],
   "source": [
    "'i'.isalpha()"
   ]
  },
  {
   "cell_type": "markdown",
   "id": "5d3bebbf",
   "metadata": {},
   "source": [
    "# Number System"
   ]
  },
  {
   "cell_type": "code",
   "execution_count": 17,
   "id": "0e4fb67d",
   "metadata": {},
   "outputs": [],
   "source": [
    "# Decimal- 0-9 - Base=10\n",
    "# Binary- 0,1 - Base=2\n",
    "# Octal- 0-7 - Base=8\n",
    "# Hexadecimal- 0-15 - Base= 16\n",
    "\n",
    "# Hexadecimal- 0-9\n",
    "# 10- A\n",
    "# 11- B\n",
    "# 12- C\n",
    "# 13- D\n",
    "# 14- E\n",
    "# 15- F\n",
    "\n",
    "# 0b- Binary representation\n",
    "# 0o- Octal representation\n",
    "# 0x- Hexadecimal  representation"
   ]
  },
  {
   "cell_type": "code",
   "execution_count": 16,
   "id": "4ea01a14",
   "metadata": {},
   "outputs": [],
   "source": [
    "# decimal- int()\n",
    "# Binary- bin()\n",
    "# Octal- oct()\n",
    "# hexadecimal- hex()"
   ]
  },
  {
   "cell_type": "code",
   "execution_count": 18,
   "id": "085a44ee",
   "metadata": {},
   "outputs": [
    {
     "data": {
      "text/plain": [
       "40"
      ]
     },
     "execution_count": 18,
     "metadata": {},
     "output_type": "execute_result"
    }
   ],
   "source": [
    "a=50 #(Octal value)\n",
    "# Convert it into int\n",
    "\n",
    "int(0o50)"
   ]
  },
  {
   "cell_type": "code",
   "execution_count": 25,
   "id": "8dc851ea",
   "metadata": {},
   "outputs": [
    {
     "data": {
      "text/plain": [
       "341"
      ]
     },
     "execution_count": 25,
     "metadata": {},
     "output_type": "execute_result"
    }
   ],
   "source": [
    "a=0b101010101 # binary\n",
    "# Convert to decimal\n",
    "int(a)"
   ]
  },
  {
   "cell_type": "code",
   "execution_count": 26,
   "id": "69eb63bc",
   "metadata": {},
   "outputs": [
    {
     "data": {
      "text/plain": [
       "'0o525'"
      ]
     },
     "execution_count": 26,
     "metadata": {},
     "output_type": "execute_result"
    }
   ],
   "source": [
    "# Convert the above binary to octal\n",
    "oct(a)"
   ]
  },
  {
   "cell_type": "code",
   "execution_count": 27,
   "id": "febc61c6",
   "metadata": {},
   "outputs": [
    {
     "data": {
      "text/plain": [
       "'0x155'"
      ]
     },
     "execution_count": 27,
     "metadata": {},
     "output_type": "execute_result"
    }
   ],
   "source": [
    "hex(a)"
   ]
  },
  {
   "cell_type": "code",
   "execution_count": 33,
   "id": "f5cbd38b",
   "metadata": {},
   "outputs": [
    {
     "data": {
      "text/plain": [
       "15"
      ]
     },
     "execution_count": 33,
     "metadata": {},
     "output_type": "execute_result"
    }
   ],
   "source": [
    "int(0xF)"
   ]
  },
  {
   "cell_type": "code",
   "execution_count": 38,
   "id": "a7ecf741",
   "metadata": {},
   "outputs": [
    {
     "data": {
      "text/plain": [
       "198063242953717080404"
      ]
     },
     "execution_count": 38,
     "metadata": {},
     "output_type": "execute_result"
    }
   ],
   "source": [
    "int(0xabcadfe1516326154)"
   ]
  },
  {
   "cell_type": "code",
   "execution_count": 36,
   "id": "de285a4f",
   "metadata": {},
   "outputs": [
    {
     "data": {
      "text/plain": [
       "65"
      ]
     },
     "execution_count": 36,
     "metadata": {},
     "output_type": "execute_result"
    }
   ],
   "source": [
    "ord('A')"
   ]
  },
  {
   "cell_type": "markdown",
   "id": "a296b46b",
   "metadata": {},
   "source": [
    "# Operator Precedence"
   ]
  },
  {
   "cell_type": "code",
   "execution_count": 39,
   "id": "1bc04342",
   "metadata": {},
   "outputs": [
    {
     "data": {
      "text/plain": [
       "82.5"
      ]
     },
     "execution_count": 39,
     "metadata": {},
     "output_type": "execute_result"
    }
   ],
   "source": [
    "50 and 60+20*9/2**3"
   ]
  },
  {
   "cell_type": "code",
   "execution_count": null,
   "id": "adc5eb1d",
   "metadata": {},
   "outputs": [],
   "source": [
    "()\tParentheses\n",
    "**\tExponent\n",
    "+x, -x, ~x\tUnary plus, Unary minus, Bitwise NOT\n",
    "*, /, //, %\tMultiplication, Division, Floor division, Modulus\n",
    "+, -\tAddition, Subtraction\n",
    "<<, >>\tBitwise shift operators\n",
    "&\tBitwise AND\n",
    "^\tBitwise XOR\n",
    "|\tBitwise OR\n",
    "==, !=, >, >=, <, <=, is, is not, in, not in\tComparisons, Identity, Membership operators\n",
    "not\tLogical NOT\n",
    "and\tLogical AND\n",
    "or\tLogical OR"
   ]
  },
  {
   "cell_type": "code",
   "execution_count": 53,
   "id": "5c9e7be0",
   "metadata": {},
   "outputs": [
    {
     "data": {
      "text/plain": [
       "20"
      ]
     },
     "execution_count": 53,
     "metadata": {},
     "output_type": "execute_result"
    }
   ],
   "source": [
    "10+(10*32)//2**5&20+(~(-10))<<2\n"
   ]
  },
  {
   "cell_type": "code",
   "execution_count": 47,
   "id": "6c670694",
   "metadata": {},
   "outputs": [
    {
     "data": {
      "text/plain": [
       "20"
      ]
     },
     "execution_count": 47,
     "metadata": {},
     "output_type": "execute_result"
    }
   ],
   "source": [
    "(10+320//2**5&20+(9)<<2)\n",
    "\n",
    "(10+320//32&20+9<<2)\n",
    "\n",
    "(10+10&20+9<<2)\n",
    "\n",
    "20&29<<2\n",
    "\n",
    "20&116"
   ]
  },
  {
   "cell_type": "code",
   "execution_count": 45,
   "id": "cd073322",
   "metadata": {},
   "outputs": [
    {
     "data": {
      "text/plain": [
       "9"
      ]
     },
     "execution_count": 45,
     "metadata": {},
     "output_type": "execute_result"
    }
   ],
   "source": [
    "~-10 # ~num=-(num+1)"
   ]
  },
  {
   "cell_type": "code",
   "execution_count": 46,
   "id": "bf3e8a6c",
   "metadata": {},
   "outputs": [
    {
     "data": {
      "text/plain": [
       "116"
      ]
     },
     "execution_count": 46,
     "metadata": {},
     "output_type": "execute_result"
    }
   ],
   "source": [
    "29<<2"
   ]
  },
  {
   "cell_type": "code",
   "execution_count": 48,
   "id": "22f0a722",
   "metadata": {},
   "outputs": [
    {
     "data": {
      "text/plain": [
       "20"
      ]
     },
     "execution_count": 48,
     "metadata": {},
     "output_type": "execute_result"
    }
   ],
   "source": [
    "20&116"
   ]
  },
  {
   "cell_type": "code",
   "execution_count": 50,
   "id": "2c1b62b6",
   "metadata": {},
   "outputs": [
    {
     "data": {
      "text/plain": [
       "('0b10100', '0b1110100')"
      ]
     },
     "execution_count": 50,
     "metadata": {},
     "output_type": "execute_result"
    }
   ],
   "source": [
    "bin(20),bin(116)"
   ]
  },
  {
   "cell_type": "code",
   "execution_count": 51,
   "id": "0ec70561",
   "metadata": {},
   "outputs": [],
   "source": [
    "# 0010100\n",
    "# 1110100\n",
    "# 0010100"
   ]
  },
  {
   "cell_type": "code",
   "execution_count": 52,
   "id": "ca40c07d",
   "metadata": {},
   "outputs": [
    {
     "data": {
      "text/plain": [
       "20"
      ]
     },
     "execution_count": 52,
     "metadata": {},
     "output_type": "execute_result"
    }
   ],
   "source": [
    "int(0b10100)"
   ]
  },
  {
   "cell_type": "markdown",
   "id": "57e39af6",
   "metadata": {},
   "source": [
    "# Loop\n",
    "- Loop is a concept that we use to execute a of code repeteadly. "
   ]
  },
  {
   "cell_type": "code",
   "execution_count": 55,
   "id": "f65f2898",
   "metadata": {},
   "outputs": [
    {
     "name": "stdout",
     "output_type": "stream",
     "text": [
      "Hello\n",
      "Hello\n",
      "Hello\n",
      "Hello\n",
      "Hello\n"
     ]
    }
   ],
   "source": [
    "# Print Hello 5 times\n",
    "print('Hello')\n",
    "print('Hello')\n",
    "print('Hello')\n",
    "print('Hello')\n",
    "print('Hello')"
   ]
  },
  {
   "cell_type": "code",
   "execution_count": 58,
   "id": "80633c79",
   "metadata": {},
   "outputs": [
    {
     "name": "stdout",
     "output_type": "stream",
     "text": [
      "Hello\n",
      "Hello\n",
      "Hello\n",
      "Hello\n",
      "Hello\n",
      "\n"
     ]
    }
   ],
   "source": [
    "print('Hello\\n'*5)"
   ]
  },
  {
   "cell_type": "code",
   "execution_count": 65,
   "id": "029587cb",
   "metadata": {},
   "outputs": [
    {
     "name": "stdout",
     "output_type": "stream",
     "text": [
      "P\n",
      "y\n",
      "t\n",
      "h\n",
      "o\n",
      "n\n"
     ]
    }
   ],
   "source": [
    "my_str='Python'\n",
    "\n",
    "print(my_str[0])\n",
    "print(my_str[1])\n",
    "print(my_str[2])\n",
    "print(my_str[3])\n",
    "print(my_str[4])\n",
    "print(my_str[5])"
   ]
  },
  {
   "cell_type": "markdown",
   "id": "26169888",
   "metadata": {},
   "source": [
    "# Types"
   ]
  },
  {
   "cell_type": "markdown",
   "id": "2a3837e0",
   "metadata": {},
   "source": [
    "- for loop\n",
    "- while loop"
   ]
  },
  {
   "cell_type": "markdown",
   "id": "33336444",
   "metadata": {},
   "source": [
    "# for loop\n",
    "- It is always applied on an iterable."
   ]
  },
  {
   "cell_type": "code",
   "execution_count": null,
   "id": "a8c59f2f",
   "metadata": {},
   "outputs": [],
   "source": [
    "for variable in iterable:\n",
    "    code_1\n",
    "    code_2\n",
    "code_3"
   ]
  },
  {
   "cell_type": "code",
   "execution_count": 66,
   "id": "fd49e8c0",
   "metadata": {},
   "outputs": [],
   "source": [
    "# Iterables- String, List, Tuple, Dictionary, Set, Frozenset, Range"
   ]
  },
  {
   "cell_type": "code",
   "execution_count": 68,
   "id": "97ef06ec",
   "metadata": {},
   "outputs": [],
   "source": [
    "for i in iterable:\n",
    "    code\n",
    "# # i will point out each element of the iterable one by one."
   ]
  },
  {
   "cell_type": "code",
   "execution_count": 70,
   "id": "51140228",
   "metadata": {},
   "outputs": [
    {
     "name": "stdout",
     "output_type": "stream",
     "text": [
      "P\n",
      "y\n",
      "t\n",
      "h\n",
      "o\n",
      "n\n",
      " \n",
      "c\n",
      "l\n",
      "a\n",
      "s\n",
      "s\n"
     ]
    }
   ],
   "source": [
    "my_str='Python class'\n",
    "\n",
    "for i in my_str:\n",
    "    print(i)"
   ]
  },
  {
   "cell_type": "code",
   "execution_count": 74,
   "id": "46ffd244",
   "metadata": {},
   "outputs": [
    {
     "name": "stdout",
     "output_type": "stream",
     "text": [
      "10\n",
      "20\n",
      "30\n",
      "40\n",
      "50\n",
      "60\n"
     ]
    }
   ],
   "source": [
    "lst=[10,20,30,40,50,60]\n",
    "\n",
    "for x in lst:\n",
    "    print(x)"
   ]
  },
  {
   "cell_type": "markdown",
   "id": "40e866a4",
   "metadata": {},
   "source": [
    "# Iteration"
   ]
  },
  {
   "cell_type": "markdown",
   "id": "38325353",
   "metadata": {},
   "source": [
    "- Traversing upon the elements of an iterable from the beginning to the end is known as iteration.\n",
    "- The number of iterations are equal to the number of elements in the iterable."
   ]
  },
  {
   "cell_type": "code",
   "execution_count": 75,
   "id": "895c340b",
   "metadata": {},
   "outputs": [
    {
     "name": "stdout",
     "output_type": "stream",
     "text": [
      "True\n",
      "Python\n",
      "{1, 2, 3}\n",
      "50\n",
      "(10+20j)\n"
     ]
    }
   ],
   "source": [
    "t=(True, 'Python', {1,2,3}, 50, 10+20j)\n",
    "\n",
    "for i in t:\n",
    "    print(i)"
   ]
  },
  {
   "cell_type": "code",
   "execution_count": 76,
   "id": "6893ef84",
   "metadata": {},
   "outputs": [
    {
     "name": "stdout",
     "output_type": "stream",
     "text": [
      "{1: 100, 2: 200, 3: 300, 4: 400} <class 'dict'>\n"
     ]
    }
   ],
   "source": [
    "\n",
    "\n",
    "\n",
    "\n",
    "\n",
    "d={1:100,2:200,3:300,4:400}\n",
    "print(d,type(d))"
   ]
  },
  {
   "cell_type": "code",
   "execution_count": 77,
   "id": "03e676db",
   "metadata": {},
   "outputs": [
    {
     "name": "stdout",
     "output_type": "stream",
     "text": [
      "1\n",
      "2\n",
      "3\n",
      "4\n"
     ]
    }
   ],
   "source": [
    "for i in d:\n",
    "    print(i)"
   ]
  },
  {
   "cell_type": "code",
   "execution_count": 79,
   "id": "c1b28961",
   "metadata": {},
   "outputs": [
    {
     "name": "stdout",
     "output_type": "stream",
     "text": [
      "100\n",
      "200\n",
      "300\n",
      "400\n"
     ]
    }
   ],
   "source": [
    "\n",
    "for i in d.values():\n",
    "    print(i)"
   ]
  },
  {
   "cell_type": "code",
   "execution_count": 81,
   "id": "cbeac218",
   "metadata": {},
   "outputs": [
    {
     "name": "stdout",
     "output_type": "stream",
     "text": [
      "{'name': 'Raghvendra', 'age': 26, 'city': 'Mumbai', 'company': 'TCS'} <class 'dict'>\n"
     ]
    }
   ],
   "source": [
    "emp={'name':'Raghvendra','age':26,'city':'Mumbai','company':'TCS'}\n",
    "print(emp,type(emp))"
   ]
  },
  {
   "cell_type": "code",
   "execution_count": 82,
   "id": "069d57c0",
   "metadata": {},
   "outputs": [
    {
     "name": "stdout",
     "output_type": "stream",
     "text": [
      "name\n",
      "age\n",
      "city\n",
      "company\n"
     ]
    }
   ],
   "source": [
    "for i in emp:\n",
    "    print(i)"
   ]
  },
  {
   "cell_type": "code",
   "execution_count": 83,
   "id": "91a50c11",
   "metadata": {},
   "outputs": [
    {
     "name": "stdout",
     "output_type": "stream",
     "text": [
      "Raghvendra\n",
      "26\n",
      "Mumbai\n",
      "TCS\n"
     ]
    }
   ],
   "source": [
    "for i in emp.values():\n",
    "    print(i)"
   ]
  },
  {
   "cell_type": "code",
   "execution_count": 87,
   "id": "7aee6846",
   "metadata": {},
   "outputs": [
    {
     "name": "stdout",
     "output_type": "stream",
     "text": [
      "('name', 'Raghvendra')\n",
      "('age', 26)\n",
      "('city', 'Mumbai')\n",
      "('company', 'TCS')\n"
     ]
    }
   ],
   "source": [
    "for i in emp.items():\n",
    "    print(i)"
   ]
  },
  {
   "cell_type": "code",
   "execution_count": 86,
   "id": "77d7fc84",
   "metadata": {},
   "outputs": [
    {
     "name": "stdout",
     "output_type": "stream",
     "text": [
      "{50, 20, 40, 10, 30}\n",
      "50\n",
      "20\n",
      "40\n",
      "10\n",
      "30\n"
     ]
    }
   ],
   "source": [
    "s={10,20,30,40,50}\n",
    "print(s)\n",
    "for i in s:\n",
    "    print(i)"
   ]
  },
  {
   "cell_type": "code",
   "execution_count": 89,
   "id": "f2059362",
   "metadata": {},
   "outputs": [
    {
     "name": "stdout",
     "output_type": "stream",
     "text": [
      "frozenset({1, 2, 3, 4, 5, 6})\n",
      "1\n",
      "2\n",
      "3\n",
      "4\n",
      "5\n",
      "6\n"
     ]
    }
   ],
   "source": [
    "f=frozenset([1,2,3,4,5,6])\n",
    "print(f)\n",
    "for i in f:\n",
    "    print(i)"
   ]
  },
  {
   "cell_type": "code",
   "execution_count": 91,
   "id": "f409c5c3",
   "metadata": {},
   "outputs": [
    {
     "name": "stdout",
     "output_type": "stream",
     "text": [
      "1\n",
      "2\n",
      "3\n",
      "4\n"
     ]
    }
   ],
   "source": [
    "for i in range(1,5):\n",
    "    print(i)"
   ]
  },
  {
   "cell_type": "code",
   "execution_count": 92,
   "id": "93174fc3",
   "metadata": {},
   "outputs": [
    {
     "name": "stdout",
     "output_type": "stream",
     "text": [
      "0\n",
      "1\n",
      "2\n",
      "3\n",
      "4\n",
      "5\n",
      "6\n",
      "7\n",
      "8\n",
      "9\n"
     ]
    }
   ],
   "source": [
    "for i in range(10):\n",
    "    print(i)"
   ]
  },
  {
   "cell_type": "code",
   "execution_count": 95,
   "id": "758b7eff",
   "metadata": {},
   "outputs": [
    {
     "ename": "TypeError",
     "evalue": "'complex' object is not iterable",
     "output_type": "error",
     "traceback": [
      "\u001b[1;31m---------------------------------------------------------------------------\u001b[0m",
      "\u001b[1;31mTypeError\u001b[0m                                 Traceback (most recent call last)",
      "\u001b[1;32m~\\AppData\\Local\\Temp\\ipykernel_580\\472501201.py\u001b[0m in \u001b[0;36m<module>\u001b[1;34m\u001b[0m\n\u001b[1;32m----> 1\u001b[1;33m \u001b[1;32mfor\u001b[0m \u001b[0mi\u001b[0m \u001b[1;32min\u001b[0m \u001b[1;36m10.5\u001b[0m\u001b[1;33m+\u001b[0m\u001b[1;36m2j\u001b[0m\u001b[1;33m:\u001b[0m\u001b[1;33m\u001b[0m\u001b[1;33m\u001b[0m\u001b[0m\n\u001b[0m\u001b[0;32m      2\u001b[0m     \u001b[0mprint\u001b[0m\u001b[1;33m(\u001b[0m\u001b[0mi\u001b[0m\u001b[1;33m)\u001b[0m\u001b[1;33m\u001b[0m\u001b[1;33m\u001b[0m\u001b[0m\n",
      "\u001b[1;31mTypeError\u001b[0m: 'complex' object is not iterable"
     ]
    }
   ],
   "source": [
    "for i in 10.5+2j:\n",
    "    print(i)"
   ]
  },
  {
   "cell_type": "code",
   "execution_count": 98,
   "id": "970d58ab",
   "metadata": {},
   "outputs": [
    {
     "name": "stdout",
     "output_type": "stream",
     "text": [
      "Hello\n",
      "Hello\n",
      "Hello\n",
      "Hello\n",
      "Hello\n",
      "Thanks\n"
     ]
    }
   ],
   "source": [
    "for i in range(5):\n",
    "    print('Hello')\n",
    "print('Thanks')"
   ]
  },
  {
   "cell_type": "code",
   "execution_count": 104,
   "id": "c4a11227",
   "metadata": {},
   "outputs": [
    {
     "name": "stdout",
     "output_type": "stream",
     "text": [
      "Hello\n",
      "I am from HBD\n",
      "\n",
      "Hello\n",
      "I am from HBD\n",
      "\n"
     ]
    }
   ],
   "source": [
    "for i in range(2):\n",
    "    print('Hello')\n",
    "    print('I am from HBD')\n",
    "    print()"
   ]
  },
  {
   "cell_type": "code",
   "execution_count": 108,
   "id": "5c3acb77",
   "metadata": {},
   "outputs": [
    {
     "name": "stdout",
     "output_type": "stream",
     "text": [
      "10\n",
      "30\n",
      "60\n",
      "100\n",
      "150\n",
      "210\n",
      "280\n",
      "360\n",
      "450\n",
      "550\n"
     ]
    }
   ],
   "source": [
    "# Add all the elements from the following list\n",
    "\n",
    "lst=[10,20,30,40,50,60,70,80,90,100]\n",
    "s=0\n",
    "for i in lst:\n",
    "    s=s+i\n",
    "    print(s)"
   ]
  },
  {
   "cell_type": "code",
   "execution_count": 109,
   "id": "8710bbc8",
   "metadata": {},
   "outputs": [],
   "source": [
    "# s=0\n",
    "# i=10\n",
    "# s=0+10=10\n",
    "\n",
    "# s=10\n",
    "# i=20\n",
    "# s=10+20=30\n",
    "\n",
    "# s=30\n",
    "# i=30\n",
    "# s=30+30=60\n",
    "\n",
    "# s=60\n",
    "# i=40\n",
    "# s=60+40=100"
   ]
  },
  {
   "cell_type": "code",
   "execution_count": 110,
   "id": "4b9d3b07",
   "metadata": {},
   "outputs": [
    {
     "name": "stdout",
     "output_type": "stream",
     "text": [
      "550\n"
     ]
    }
   ],
   "source": [
    "# Add all the elements from the following list\n",
    "\n",
    "lst=[10,20,30,40,50,60,70,80,90,100]\n",
    "s=0\n",
    "for i in lst:\n",
    "    s=s+i\n",
    "print(s)"
   ]
  },
  {
   "cell_type": "code",
   "execution_count": 111,
   "id": "85606d6b",
   "metadata": {},
   "outputs": [],
   "source": [
    "my_str='Python' # [0,1,2,3,4,5]\n",
    "\n",
    "# Print all the indexes of the above string"
   ]
  },
  {
   "cell_type": "code",
   "execution_count": 114,
   "id": "a19b4267",
   "metadata": {},
   "outputs": [
    {
     "name": "stdout",
     "output_type": "stream",
     "text": [
      "0\n",
      "1\n",
      "2\n",
      "3\n",
      "4\n",
      "5\n"
     ]
    }
   ],
   "source": [
    "for i in range(6):\n",
    "    print(i)"
   ]
  },
  {
   "cell_type": "code",
   "execution_count": 113,
   "id": "4c7e6a37",
   "metadata": {},
   "outputs": [
    {
     "data": {
      "text/plain": [
       "6"
      ]
     },
     "execution_count": 113,
     "metadata": {},
     "output_type": "execute_result"
    }
   ],
   "source": [
    "len(my_str)"
   ]
  },
  {
   "cell_type": "code",
   "execution_count": 118,
   "id": "a40b022f",
   "metadata": {},
   "outputs": [
    {
     "name": "stdout",
     "output_type": "stream",
     "text": [
      "0 P\n",
      "1 y\n",
      "2 t\n",
      "3 h\n",
      "4 o\n",
      "5 n\n"
     ]
    }
   ],
   "source": [
    "for i in range(len(my_str)):\n",
    "    print(i,my_str[i])"
   ]
  },
  {
   "cell_type": "code",
   "execution_count": 116,
   "id": "a254b6c8",
   "metadata": {},
   "outputs": [
    {
     "data": {
      "text/plain": [
       "'P'"
      ]
     },
     "execution_count": 116,
     "metadata": {},
     "output_type": "execute_result"
    }
   ],
   "source": [
    "my_str[0]"
   ]
  },
  {
   "cell_type": "code",
   "execution_count": 146,
   "id": "e9c044a0",
   "metadata": {},
   "outputs": [
    {
     "name": "stdout",
     "output_type": "stream",
     "text": [
      "5 n\n",
      "4 o\n",
      "3 h\n",
      "2 t\n",
      "1 y\n",
      "0 P\n"
     ]
    }
   ],
   "source": [
    "my_str='Python' # [5,4,3,2,1,0]\n",
    "\n",
    "# Reverse the above string using loop\n",
    "\n",
    "for i in range(5,-1,-1):\n",
    "    print(i,my_str[i])"
   ]
  },
  {
   "cell_type": "code",
   "execution_count": 6,
   "id": "5aa77770",
   "metadata": {},
   "outputs": [
    {
     "name": "stdout",
     "output_type": "stream",
     "text": [
      "5 n\n",
      "4 o\n",
      "3 h\n",
      "2 t\n",
      "1 y\n",
      "0 P\n"
     ]
    }
   ],
   "source": [
    "my_str='Python' # [5,4,3,2,1,0]\n",
    "for i in range(len(my_str)-1,-1,-1):\n",
    "    print(i,my_str[i])"
   ]
  },
  {
   "cell_type": "code",
   "execution_count": 135,
   "id": "d222ca1f",
   "metadata": {},
   "outputs": [
    {
     "name": "stdout",
     "output_type": "stream",
     "text": [
      "-1 n\n",
      "-2 o\n",
      "-3 h\n",
      "-4 t\n",
      "-5 y\n",
      "-6 P\n"
     ]
    }
   ],
   "source": [
    "my_str='Python' # [-1,-2,-3,-4,-5,-6]\n",
    "\n",
    "# Reverse the above string using loop\n",
    "for i in range(-1,-7,-1):\n",
    "    print(i,my_str[i])"
   ]
  },
  {
   "cell_type": "code",
   "execution_count": 143,
   "id": "c6069950",
   "metadata": {},
   "outputs": [
    {
     "name": "stdout",
     "output_type": "stream",
     "text": [
      "-1 n\n",
      "-2 o\n",
      "-3 h\n",
      "-4 t\n",
      "-5 y\n",
      "-6 P\n"
     ]
    }
   ],
   "source": [
    "for i in range(-1,-len(my_str)-1,-1):\n",
    "    print(i,my_str[i])"
   ]
  },
  {
   "cell_type": "code",
   "execution_count": 144,
   "id": "3042a798",
   "metadata": {},
   "outputs": [
    {
     "data": {
      "text/plain": [
       "-7"
      ]
     },
     "execution_count": 144,
     "metadata": {},
     "output_type": "execute_result"
    }
   ],
   "source": [
    "-(len(my_str)+1)"
   ]
  },
  {
   "cell_type": "code",
   "execution_count": 151,
   "id": "49fb71be",
   "metadata": {},
   "outputs": [
    {
     "name": "stdout",
     "output_type": "stream",
     "text": [
      "10\n",
      "30\n",
      "50\n",
      "70\n"
     ]
    }
   ],
   "source": [
    "lst=[10,20,30,40,50,60,70,80]\n",
    "\n",
    "# Print every alternate element of the list using loop\n",
    "\n",
    "for i in range(0,len(lst),2):\n",
    "    print(lst[i])"
   ]
  },
  {
   "cell_type": "code",
   "execution_count": 154,
   "id": "d43fe0a2",
   "metadata": {},
   "outputs": [
    {
     "name": "stdout",
     "output_type": "stream",
     "text": [
      "80\n",
      "60\n",
      "40\n",
      "20\n"
     ]
    }
   ],
   "source": [
    "lst=[10,20,30,40,50,60,70,80]\n",
    "\n",
    "# Print every alternate element in reverse order of the list using loop\n",
    "# Output- [80,60,40,20]\n",
    "\n",
    "for i in range(len(lst)-1,-1,-2):\n",
    "    print(lst[i])"
   ]
  },
  {
   "cell_type": "code",
   "execution_count": 157,
   "id": "770a25b1",
   "metadata": {},
   "outputs": [
    {
     "name": "stdout",
     "output_type": "stream",
     "text": [
      "2\n"
     ]
    }
   ],
   "source": [
    "my_str='Peter Piper picked a pack of pickeled peppers'\n",
    "\n",
    "# Count all the P\n",
    "c=0\n",
    "\n",
    "for i in my_str:\n",
    "    if i=='P':\n",
    "        c+=1 # c=c+1\n",
    "print(c)"
   ]
  },
  {
   "cell_type": "code",
   "execution_count": 161,
   "id": "9043f14c",
   "metadata": {},
   "outputs": [
    {
     "name": "stdout",
     "output_type": "stream",
     "text": [
      "7\n"
     ]
    }
   ],
   "source": [
    "my_str='Peter Piper picked a pack of pickeled peppers'\n",
    "\n",
    "# Count all the p\n",
    "\n",
    "c=0\n",
    "\n",
    "for i in my_str:\n",
    "    if i=='p':\n",
    "        c+=1\n",
    "print(c)"
   ]
  },
  {
   "cell_type": "code",
   "execution_count": 1,
   "id": "fd3a713b",
   "metadata": {},
   "outputs": [
    {
     "name": "stdout",
     "output_type": "stream",
     "text": [
      "1\n"
     ]
    }
   ],
   "source": [
    "my_str='Peter Piper picked a pack of pickeled peppers'\n",
    "\n",
    "# Count all the p and P\n",
    "c=0\n",
    "for i in my_str:\n",
    "    if i=='p' or i=='P':\n",
    "        c=1\n",
    "print(c)"
   ]
  },
  {
   "cell_type": "code",
   "execution_count": 168,
   "id": "8ab1850e",
   "metadata": {},
   "outputs": [
    {
     "name": "stdout",
     "output_type": "stream",
     "text": [
      "0\n",
      "6\n"
     ]
    }
   ],
   "source": [
    "my_str='Peter Piper picked a pack of pickeled peppers'\n",
    "\n",
    "# Get the indexes of all the P's\n",
    "\n",
    "for i in range(len(my_str)):\n",
    "    if my_str[i]=='P':\n",
    "        print(i)"
   ]
  },
  {
   "cell_type": "code",
   "execution_count": 175,
   "id": "c07cd1fa",
   "metadata": {},
   "outputs": [
    {
     "name": "stdout",
     "output_type": "stream",
     "text": [
      "0\n",
      "1\n",
      "2\n",
      "3\n",
      "4\n",
      "5\n",
      "6\n",
      "7\n",
      "8\n",
      "9\n",
      "10\n",
      "11\n",
      "12\n",
      "13\n",
      "14\n",
      "15\n",
      "16\n",
      "17\n",
      "18\n",
      "19\n",
      "20\n",
      "21\n",
      "22\n",
      "23\n",
      "24\n",
      "25\n",
      "26\n",
      "27\n",
      "28\n",
      "29\n",
      "30\n",
      "31\n",
      "32\n",
      "33\n",
      "34\n",
      "35\n",
      "36\n",
      "37\n",
      "38\n",
      "39\n",
      "40\n",
      "41\n",
      "42\n",
      "43\n",
      "44\n"
     ]
    }
   ],
   "source": [
    "my_str='Peter Piper picked a pack of pickeled peppers'\n",
    "\n",
    "# Get the indexes of all the P and p\n",
    "\n",
    "for i in range(len(my_str)):\n",
    "    print(i)"
   ]
  },
  {
   "cell_type": "code",
   "execution_count": 187,
   "id": "050a451e",
   "metadata": {},
   "outputs": [
    {
     "name": "stdout",
     "output_type": "stream",
     "text": [
      "0\n",
      "6\n",
      "8\n",
      "12\n",
      "21\n",
      "29\n",
      "38\n",
      "40\n",
      "41\n"
     ]
    }
   ],
   "source": [
    "for char in range(len(my_str)):\n",
    "    if my_str[i]=='P' or my_str[i]=='p':\n",
    "        print(i)"
   ]
  },
  {
   "cell_type": "code",
   "execution_count": 177,
   "id": "222cbae3",
   "metadata": {},
   "outputs": [
    {
     "data": {
      "text/plain": [
       "45"
      ]
     },
     "execution_count": 177,
     "metadata": {},
     "output_type": "execute_result"
    }
   ],
   "source": [
    "len(my_str)"
   ]
  },
  {
   "cell_type": "code",
   "execution_count": 180,
   "id": "da7d9f8d",
   "metadata": {},
   "outputs": [
    {
     "data": {
      "text/plain": [
       "'s'"
      ]
     },
     "execution_count": 180,
     "metadata": {},
     "output_type": "execute_result"
    }
   ],
   "source": [
    "my_str[44]"
   ]
  },
  {
   "cell_type": "code",
   "execution_count": 188,
   "id": "a0cc566e",
   "metadata": {},
   "outputs": [],
   "source": [
    "# Loop\n",
    "# While loop"
   ]
  },
  {
   "cell_type": "code",
   "execution_count": 189,
   "id": "3a62ad0a",
   "metadata": {},
   "outputs": [],
   "source": [
    "# w3schools.com"
   ]
  },
  {
   "cell_type": "code",
   "execution_count": 1,
   "id": "28adf58e",
   "metadata": {},
   "outputs": [],
   "source": [
    "# Maths=int(input('Enter the marks in Maths- '))\n",
    "# Eng=int(input('Enter the marks in English- '))\n",
    "# Sci=int(input('Enter the marks in Science - '))\n",
    "\n",
    "# if Maths>=90:\n",
    "#     if Eng>=90:\n",
    "#         if Sci>=90:\n",
    "#             print('Well Done')\n",
    "#         else:\n",
    "#             print('Try again in Science')\n",
    "#     else:\n",
    "#         print('Try again in English')\n",
    "# else:\n",
    "#     print('Try again in Maths')\n"
   ]
  },
  {
   "cell_type": "code",
   "execution_count": null,
   "id": "3896305b",
   "metadata": {},
   "outputs": [],
   "source": []
  }
 ],
 "metadata": {
  "kernelspec": {
   "display_name": "Python 3 (ipykernel)",
   "language": "python",
   "name": "python3"
  },
  "language_info": {
   "codemirror_mode": {
    "name": "ipython",
    "version": 3
   },
   "file_extension": ".py",
   "mimetype": "text/x-python",
   "name": "python",
   "nbconvert_exporter": "python",
   "pygments_lexer": "ipython3",
   "version": "3.9.13"
  }
 },
 "nbformat": 4,
 "nbformat_minor": 5
}
