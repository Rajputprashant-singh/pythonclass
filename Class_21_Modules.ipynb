{
 "cells": [
  {
   "cell_type": "code",
   "execution_count": 3,
   "id": "7dd76f6c",
   "metadata": {},
   "outputs": [],
   "source": [
    "def add(x,y):\n",
    "    return x+y"
   ]
  },
  {
   "cell_type": "code",
   "execution_count": 4,
   "id": "fe614112",
   "metadata": {},
   "outputs": [
    {
     "data": {
      "text/plain": [
       "7"
      ]
     },
     "execution_count": 4,
     "metadata": {},
     "output_type": "execute_result"
    }
   ],
   "source": [
    "add(2,5)"
   ]
  },
  {
   "cell_type": "markdown",
   "id": "b7fea94b",
   "metadata": {},
   "source": [
    "# Module"
   ]
  },
  {
   "cell_type": "markdown",
   "id": "bdfbf612",
   "metadata": {},
   "source": [
    "- A module is a collection of functions.\n",
    "- Once we put the functions in a module we can use them in any program.\n",
    "- We have to import a module to use that module.\n",
    "- . (dot) operator is used to access any function available in a module."
   ]
  },
  {
   "cell_type": "markdown",
   "id": "a15c46b8",
   "metadata": {},
   "source": [
    "# Types of module"
   ]
  },
  {
   "cell_type": "markdown",
   "id": "0db4d9a1",
   "metadata": {},
   "source": [
    "- 1- Inbuilt modules\n",
    "- 2- User defined modules"
   ]
  },
  {
   "cell_type": "markdown",
   "id": "dddd4663",
   "metadata": {},
   "source": [
    "# 1 -Inbuilt modules"
   ]
  },
  {
   "cell_type": "markdown",
   "id": "02676026",
   "metadata": {},
   "source": [
    "- The modules that are predefined in Python are known as inbuilt modules.\n",
    "- **Examples-** math, sys, random, functools, os, builtins, etc."
   ]
  },
  {
   "cell_type": "markdown",
   "id": "7e0f62d0",
   "metadata": {},
   "source": [
    "# Library"
   ]
  },
  {
   "cell_type": "markdown",
   "id": "3bc1a3a2",
   "metadata": {},
   "source": [
    "- A library is a collection of functions, classes and different modules."
   ]
  },
  {
   "cell_type": "markdown",
   "id": "a7b73de8",
   "metadata": {},
   "source": [
    "# How to import a module"
   ]
  },
  {
   "cell_type": "code",
   "execution_count": 5,
   "id": "c3c6a246",
   "metadata": {},
   "outputs": [],
   "source": [
    "# import module_name"
   ]
  },
  {
   "cell_type": "code",
   "execution_count": 6,
   "id": "9fd670e4",
   "metadata": {},
   "outputs": [],
   "source": [
    "import math"
   ]
  },
  {
   "cell_type": "code",
   "execution_count": 7,
   "id": "74f77231",
   "metadata": {},
   "outputs": [
    {
     "name": "stdout",
     "output_type": "stream",
     "text": [
      "['__doc__', '__loader__', '__name__', '__package__', '__spec__', 'acos', 'acosh', 'asin', 'asinh', 'atan', 'atan2', 'atanh', 'ceil', 'comb', 'copysign', 'cos', 'cosh', 'degrees', 'dist', 'e', 'erf', 'erfc', 'exp', 'expm1', 'fabs', 'factorial', 'floor', 'fmod', 'frexp', 'fsum', 'gamma', 'gcd', 'hypot', 'inf', 'isclose', 'isfinite', 'isinf', 'isnan', 'isqrt', 'lcm', 'ldexp', 'lgamma', 'log', 'log10', 'log1p', 'log2', 'modf', 'nan', 'nextafter', 'perm', 'pi', 'pow', 'prod', 'radians', 'remainder', 'sin', 'sinh', 'sqrt', 'tan', 'tanh', 'tau', 'trunc', 'ulp']\n"
     ]
    }
   ],
   "source": [
    "print(dir(math))"
   ]
  },
  {
   "cell_type": "markdown",
   "id": "3727e486",
   "metadata": {},
   "source": [
    "# How to access a function from a module"
   ]
  },
  {
   "cell_type": "code",
   "execution_count": 8,
   "id": "ddaecd77",
   "metadata": {},
   "outputs": [],
   "source": [
    "# module_name.function_name"
   ]
  },
  {
   "cell_type": "code",
   "execution_count": 9,
   "id": "a8347d17",
   "metadata": {},
   "outputs": [
    {
     "data": {
      "text/plain": [
       "3.1622776601683795"
      ]
     },
     "execution_count": 9,
     "metadata": {},
     "output_type": "execute_result"
    }
   ],
   "source": [
    "math.sqrt(10)"
   ]
  },
  {
   "cell_type": "code",
   "execution_count": 10,
   "id": "ca0dab28",
   "metadata": {},
   "outputs": [
    {
     "ename": "NameError",
     "evalue": "name 'sqrt' is not defined",
     "output_type": "error",
     "traceback": [
      "\u001b[1;31m---------------------------------------------------------------------------\u001b[0m",
      "\u001b[1;31mNameError\u001b[0m                                 Traceback (most recent call last)",
      "\u001b[1;32m~\\AppData\\Local\\Temp\\ipykernel_32196\\2412773077.py\u001b[0m in \u001b[0;36m<module>\u001b[1;34m\u001b[0m\n\u001b[1;32m----> 1\u001b[1;33m \u001b[0msqrt\u001b[0m\u001b[1;33m(\u001b[0m\u001b[1;36m121\u001b[0m\u001b[1;33m)\u001b[0m\u001b[1;33m\u001b[0m\u001b[1;33m\u001b[0m\u001b[0m\n\u001b[0m",
      "\u001b[1;31mNameError\u001b[0m: name 'sqrt' is not defined"
     ]
    }
   ],
   "source": [
    "sqrt(121)"
   ]
  },
  {
   "cell_type": "markdown",
   "id": "b2d0231e",
   "metadata": {},
   "source": [
    "# Different ways of importing a module"
   ]
  },
  {
   "cell_type": "markdown",
   "id": "4c7a0ab7",
   "metadata": {},
   "source": [
    "# 1- Importing the whole module"
   ]
  },
  {
   "cell_type": "code",
   "execution_count": 11,
   "id": "8d9a3270",
   "metadata": {},
   "outputs": [],
   "source": [
    "# import module_name"
   ]
  },
  {
   "cell_type": "code",
   "execution_count": 1,
   "id": "ebeabdeb",
   "metadata": {},
   "outputs": [
    {
     "name": "stdout",
     "output_type": "stream",
     "text": [
      "['In', 'Out', '_', '__', '___', '__builtin__', '__builtins__', '__doc__', '__loader__', '__name__', '__package__', '__spec__', '_dh', '_i', '_i1', '_ih', '_ii', '_iii', '_oh', 'exit', 'get_ipython', 'quit']\n"
     ]
    }
   ],
   "source": [
    "print(dir())"
   ]
  },
  {
   "cell_type": "code",
   "execution_count": 1,
   "id": "a63514c2",
   "metadata": {},
   "outputs": [],
   "source": [
    "import math"
   ]
  },
  {
   "cell_type": "code",
   "execution_count": 2,
   "id": "4d9b6579",
   "metadata": {},
   "outputs": [
    {
     "name": "stdout",
     "output_type": "stream",
     "text": [
      "['In', 'Out', '_', '__', '___', '__builtin__', '__builtins__', '__doc__', '__loader__', '__name__', '__package__', '__spec__', '_dh', '_i', '_i1', '_i2', '_ih', '_ii', '_iii', '_oh', 'exit', 'get_ipython', 'math', 'quit']\n"
     ]
    }
   ],
   "source": [
    "print(dir())"
   ]
  },
  {
   "cell_type": "code",
   "execution_count": 7,
   "id": "0a36a955",
   "metadata": {},
   "outputs": [
    {
     "data": {
      "text/plain": [
       "100.0"
      ]
     },
     "execution_count": 7,
     "metadata": {},
     "output_type": "execute_result"
    }
   ],
   "source": [
    "math.pow(10,2)"
   ]
  },
  {
   "cell_type": "code",
   "execution_count": 3,
   "id": "65647f37",
   "metadata": {},
   "outputs": [
    {
     "name": "stdout",
     "output_type": "stream",
     "text": [
      "['__doc__', '__loader__', '__name__', '__package__', '__spec__', 'acos', 'acosh', 'asin', 'asinh', 'atan', 'atan2', 'atanh', 'ceil', 'comb', 'copysign', 'cos', 'cosh', 'degrees', 'dist', 'e', 'erf', 'erfc', 'exp', 'expm1', 'fabs', 'factorial', 'floor', 'fmod', 'frexp', 'fsum', 'gamma', 'gcd', 'hypot', 'inf', 'isclose', 'isfinite', 'isinf', 'isnan', 'isqrt', 'lcm', 'ldexp', 'lgamma', 'log', 'log10', 'log1p', 'log2', 'modf', 'nan', 'nextafter', 'perm', 'pi', 'pow', 'prod', 'radians', 'remainder', 'sin', 'sinh', 'sqrt', 'tan', 'tanh', 'tau', 'trunc', 'ulp']\n"
     ]
    }
   ],
   "source": [
    "print(dir(math))"
   ]
  },
  {
   "cell_type": "markdown",
   "id": "d6d046aa",
   "metadata": {},
   "source": [
    "# 2- Importing a particular function from a module"
   ]
  },
  {
   "cell_type": "code",
   "execution_count": 4,
   "id": "1bd84743",
   "metadata": {},
   "outputs": [],
   "source": [
    "# from module_name import function name"
   ]
  },
  {
   "cell_type": "code",
   "execution_count": 1,
   "id": "273df46d",
   "metadata": {},
   "outputs": [
    {
     "name": "stdout",
     "output_type": "stream",
     "text": [
      "['In', 'Out', '_', '__', '___', '__builtin__', '__builtins__', '__doc__', '__loader__', '__name__', '__package__', '__spec__', '_dh', '_i', '_i1', '_ih', '_ii', '_iii', '_oh', 'exit', 'get_ipython', 'quit']\n"
     ]
    }
   ],
   "source": [
    "print(dir())"
   ]
  },
  {
   "cell_type": "code",
   "execution_count": 3,
   "id": "6b179082",
   "metadata": {},
   "outputs": [],
   "source": [
    "from math import sqrt"
   ]
  },
  {
   "cell_type": "code",
   "execution_count": 4,
   "id": "bf1f5ac8",
   "metadata": {},
   "outputs": [
    {
     "name": "stdout",
     "output_type": "stream",
     "text": [
      "['In', 'Out', '_', '__', '___', '__builtin__', '__builtins__', '__doc__', '__loader__', '__name__', '__package__', '__spec__', '_dh', '_i', '_i1', '_i2', '_i3', '_i4', '_ih', '_ii', '_iii', '_oh', 'exit', 'get_ipython', 'quit', 'sqrt']\n"
     ]
    }
   ],
   "source": [
    "print(dir())"
   ]
  },
  {
   "cell_type": "code",
   "execution_count": 5,
   "id": "64f89500",
   "metadata": {},
   "outputs": [
    {
     "ename": "NameError",
     "evalue": "name 'math' is not defined",
     "output_type": "error",
     "traceback": [
      "\u001b[1;31m---------------------------------------------------------------------------\u001b[0m",
      "\u001b[1;31mNameError\u001b[0m                                 Traceback (most recent call last)",
      "\u001b[1;32m~\\AppData\\Local\\Temp\\ipykernel_22024\\3795674530.py\u001b[0m in \u001b[0;36m<module>\u001b[1;34m\u001b[0m\n\u001b[1;32m----> 1\u001b[1;33m \u001b[0mmath\u001b[0m\u001b[1;33m.\u001b[0m\u001b[0msqrt\u001b[0m\u001b[1;33m(\u001b[0m\u001b[1;36m16\u001b[0m\u001b[1;33m)\u001b[0m\u001b[1;33m\u001b[0m\u001b[1;33m\u001b[0m\u001b[0m\n\u001b[0m",
      "\u001b[1;31mNameError\u001b[0m: name 'math' is not defined"
     ]
    }
   ],
   "source": [
    "math.sqrt(16)"
   ]
  },
  {
   "cell_type": "code",
   "execution_count": 6,
   "id": "7b9945eb",
   "metadata": {},
   "outputs": [
    {
     "data": {
      "text/plain": [
       "4.0"
      ]
     },
     "execution_count": 6,
     "metadata": {},
     "output_type": "execute_result"
    }
   ],
   "source": [
    "sqrt(16)"
   ]
  },
  {
   "cell_type": "markdown",
   "id": "eea3baab",
   "metadata": {},
   "source": [
    "# 3- Importing multiple functions from a module"
   ]
  },
  {
   "cell_type": "code",
   "execution_count": 1,
   "id": "3051e9ff",
   "metadata": {},
   "outputs": [],
   "source": [
    "# from module_name import function_name_1,function_name_2.......function_n"
   ]
  },
  {
   "cell_type": "code",
   "execution_count": 2,
   "id": "873171a6",
   "metadata": {},
   "outputs": [
    {
     "name": "stdout",
     "output_type": "stream",
     "text": [
      "['In', 'Out', '_', '__', '___', '__builtin__', '__builtins__', '__doc__', '__loader__', '__name__', '__package__', '__spec__', '_dh', '_i', '_i1', '_i2', '_ih', '_ii', '_iii', '_oh', 'exit', 'get_ipython', 'quit']\n"
     ]
    }
   ],
   "source": [
    "print(dir())"
   ]
  },
  {
   "cell_type": "code",
   "execution_count": 3,
   "id": "69086774",
   "metadata": {},
   "outputs": [],
   "source": [
    "from math import sqrt,factorial,pow"
   ]
  },
  {
   "cell_type": "code",
   "execution_count": 4,
   "id": "81705f53",
   "metadata": {},
   "outputs": [
    {
     "name": "stdout",
     "output_type": "stream",
     "text": [
      "['In', 'Out', '_', '__', '___', '__builtin__', '__builtins__', '__doc__', '__loader__', '__name__', '__package__', '__spec__', '_dh', '_i', '_i1', '_i2', '_i3', '_i4', '_ih', '_ii', '_iii', '_oh', 'exit', 'factorial', 'get_ipython', 'pow', 'quit', 'sqrt']\n"
     ]
    }
   ],
   "source": [
    "print(dir())"
   ]
  },
  {
   "cell_type": "code",
   "execution_count": 5,
   "id": "88157a94",
   "metadata": {},
   "outputs": [
    {
     "ename": "NameError",
     "evalue": "name 'math' is not defined",
     "output_type": "error",
     "traceback": [
      "\u001b[1;31m---------------------------------------------------------------------------\u001b[0m",
      "\u001b[1;31mNameError\u001b[0m                                 Traceback (most recent call last)",
      "\u001b[1;32m~\\AppData\\Local\\Temp\\ipykernel_22856\\1051040989.py\u001b[0m in \u001b[0;36m<module>\u001b[1;34m\u001b[0m\n\u001b[1;32m----> 1\u001b[1;33m \u001b[0mmath\u001b[0m\u001b[1;33m.\u001b[0m\u001b[0msqrt\u001b[0m\u001b[1;33m(\u001b[0m\u001b[1;36m46\u001b[0m\u001b[1;33m)\u001b[0m\u001b[1;33m\u001b[0m\u001b[1;33m\u001b[0m\u001b[0m\n\u001b[0m",
      "\u001b[1;31mNameError\u001b[0m: name 'math' is not defined"
     ]
    }
   ],
   "source": [
    "math.sqrt(46)"
   ]
  },
  {
   "cell_type": "code",
   "execution_count": 6,
   "id": "980f8cdb",
   "metadata": {},
   "outputs": [
    {
     "data": {
      "text/plain": [
       "120"
      ]
     },
     "execution_count": 6,
     "metadata": {},
     "output_type": "execute_result"
    }
   ],
   "source": [
    "factorial(5)"
   ]
  },
  {
   "cell_type": "code",
   "execution_count": 7,
   "id": "cd80b5b8",
   "metadata": {},
   "outputs": [
    {
     "data": {
      "text/plain": [
       "32.0"
      ]
     },
     "execution_count": 7,
     "metadata": {},
     "output_type": "execute_result"
    }
   ],
   "source": [
    "pow(2,5)"
   ]
  },
  {
   "cell_type": "code",
   "execution_count": 8,
   "id": "dbbdedf9",
   "metadata": {},
   "outputs": [
    {
     "data": {
      "text/plain": [
       "7.0"
      ]
     },
     "execution_count": 8,
     "metadata": {},
     "output_type": "execute_result"
    }
   ],
   "source": [
    "sqrt(49)"
   ]
  },
  {
   "cell_type": "markdown",
   "id": "2d8a12a7",
   "metadata": {},
   "source": [
    "# Importing all the functions from a module"
   ]
  },
  {
   "cell_type": "code",
   "execution_count": 9,
   "id": "4d61ffb2",
   "metadata": {},
   "outputs": [],
   "source": [
    "# from module_name import *"
   ]
  },
  {
   "cell_type": "code",
   "execution_count": 1,
   "id": "a382023b",
   "metadata": {},
   "outputs": [
    {
     "name": "stdout",
     "output_type": "stream",
     "text": [
      "['In', 'Out', '_', '__', '___', '__builtin__', '__builtins__', '__doc__', '__loader__', '__name__', '__package__', '__spec__', '_dh', '_i', '_i1', '_ih', '_ii', '_iii', '_oh', 'exit', 'get_ipython', 'quit']\n"
     ]
    }
   ],
   "source": [
    "print(dir())"
   ]
  },
  {
   "cell_type": "code",
   "execution_count": 2,
   "id": "74f2a2e0",
   "metadata": {},
   "outputs": [],
   "source": [
    "from math import *"
   ]
  },
  {
   "cell_type": "code",
   "execution_count": 3,
   "id": "10a010a8",
   "metadata": {},
   "outputs": [
    {
     "name": "stdout",
     "output_type": "stream",
     "text": [
      "['In', 'Out', '_', '__', '___', '__builtin__', '__builtins__', '__doc__', '__loader__', '__name__', '__package__', '__spec__', '_dh', '_i', '_i1', '_i2', '_i3', '_ih', '_ii', '_iii', '_oh', 'acos', 'acosh', 'asin', 'asinh', 'atan', 'atan2', 'atanh', 'ceil', 'comb', 'copysign', 'cos', 'cosh', 'degrees', 'dist', 'e', 'erf', 'erfc', 'exit', 'exp', 'expm1', 'fabs', 'factorial', 'floor', 'fmod', 'frexp', 'fsum', 'gamma', 'gcd', 'get_ipython', 'hypot', 'inf', 'isclose', 'isfinite', 'isinf', 'isnan', 'isqrt', 'lcm', 'ldexp', 'lgamma', 'log', 'log10', 'log1p', 'log2', 'modf', 'nan', 'nextafter', 'perm', 'pi', 'pow', 'prod', 'quit', 'radians', 'remainder', 'sin', 'sinh', 'sqrt', 'tan', 'tanh', 'tau', 'trunc', 'ulp']\n"
     ]
    }
   ],
   "source": [
    "print(dir())"
   ]
  },
  {
   "cell_type": "code",
   "execution_count": 5,
   "id": "35cc9c0c",
   "metadata": {},
   "outputs": [],
   "source": [
    "from sys import *\n",
    "from numpy import *\n",
    "from pandas import *"
   ]
  },
  {
   "cell_type": "code",
   "execution_count": 6,
   "id": "600dfa39",
   "metadata": {},
   "outputs": [
    {
     "name": "stdout",
     "output_type": "stream",
     "text": [
      "['ALLOW_THREADS', 'AxisError', 'BUFSIZE', 'BooleanDtype', 'Bytes0', 'CLIP', 'Categorical', 'CategoricalDtype', 'CategoricalIndex', 'ComplexWarning', 'DataFrame', 'DataSource', 'DateOffset', 'Datetime64', 'DatetimeIndex', 'DatetimeTZDtype', 'ERR_CALL', 'ERR_DEFAULT', 'ERR_IGNORE', 'ERR_LOG', 'ERR_PRINT', 'ERR_RAISE', 'ERR_WARN', 'ExcelFile', 'ExcelWriter', 'FLOATING_POINT_SUPPORT', 'FPE_DIVIDEBYZERO', 'FPE_INVALID', 'FPE_OVERFLOW', 'FPE_UNDERFLOW', 'False_', 'Flags', 'Float32Dtype', 'Float64Dtype', 'Grouper', 'HDFStore', 'In', 'Index', 'IndexSlice', 'Inf', 'Infinity', 'Int16Dtype', 'Int32Dtype', 'Int64Dtype', 'Int8Dtype', 'Interval', 'IntervalDtype', 'IntervalIndex', 'MAXDIMS', 'MAY_SHARE_BOUNDS', 'MAY_SHARE_EXACT', 'MachAr', 'ModuleDeprecationWarning', 'MultiIndex', 'NA', 'NAN', 'NINF', 'NZERO', 'NaN', 'NaT', 'NamedAgg', 'Out', 'PINF', 'PZERO', 'Period', 'PeriodDtype', 'PeriodIndex', 'RAISE', 'RangeIndex', 'RankWarning', 'SHIFT_DIVIDEBYZERO', 'SHIFT_INVALID', 'SHIFT_OVERFLOW', 'SHIFT_UNDERFLOW', 'ScalarType', 'Series', 'SparseDtype', 'Str0', 'StringDtype', 'Timedelta', 'TimedeltaIndex', 'Timestamp', 'TooHardError', 'True_', 'UFUNC_BUFSIZE_DEFAULT', 'UFUNC_PYVALS_NAME', 'UInt16Dtype', 'UInt32Dtype', 'UInt64Dtype', 'UInt8Dtype', 'Uint64', 'VisibleDeprecationWarning', 'WRAP', '_', '_UFUNC_API', '__', '___', '__builtin__', '__builtins__', '__doc__', '__loader__', '__name__', '__package__', '__spec__', '__version__', '_add_newdoc_ufunc', '_dh', '_i', '_i1', '_i2', '_i3', '_i4', '_i5', '_i6', '_ih', '_ii', '_iii', '_oh', 'absolute', 'acos', 'acosh', 'add', 'add_docstring', 'add_newdoc', 'add_newdoc_ufunc', 'addaudithook', 'alen', 'all', 'allclose', 'alltrue', 'amax', 'amin', 'angle', 'any', 'api', 'api_version', 'append', 'apply_along_axis', 'apply_over_axes', 'arange', 'arccos', 'arccosh', 'arcsin', 'arcsinh', 'arctan', 'arctan2', 'arctanh', 'argmax', 'argmin', 'argpartition', 'argsort', 'argv', 'argwhere', 'around', 'array', 'array2string', 'array_equal', 'array_equiv', 'array_repr', 'array_split', 'array_str', 'arrays', 'asanyarray', 'asarray', 'asarray_chkfinite', 'ascontiguousarray', 'asfarray', 'asfortranarray', 'asin', 'asinh', 'asmatrix', 'asscalar', 'atan', 'atan2', 'atanh', 'atleast_1d', 'atleast_2d', 'atleast_3d', 'audit', 'average', 'bartlett', 'base_exec_prefix', 'base_prefix', 'base_repr', 'bdate_range', 'binary_repr', 'bincount', 'bitwise_and', 'bitwise_not', 'bitwise_or', 'bitwise_xor', 'blackman', 'block', 'bmat', 'bool8', 'bool_', 'breakpointhook', 'broadcast', 'broadcast_arrays', 'broadcast_shapes', 'broadcast_to', 'builtin_module_names', 'busday_count', 'busday_offset', 'busdaycalendar', 'byte', 'byte_bounds', 'byteorder', 'bytes0', 'bytes_', 'c_', 'call_tracing', 'can_cast', 'cast', 'cbrt', 'cdouble', 'ceil', 'cfloat', 'char', 'character', 'chararray', 'choose', 'clip', 'clongdouble', 'clongfloat', 'column_stack', 'comb', 'common_type', 'compare_chararrays', 'complex128', 'complex64', 'complex_', 'complexfloating', 'compress', 'concat', 'concatenate', 'conj', 'conjugate', 'convolve', 'copy', 'copyright', 'copysign', 'copyto', 'corrcoef', 'correlate', 'cos', 'cosh', 'count_nonzero', 'cov', 'cross', 'crosstab', 'csingle', 'ctypeslib', 'cumprod', 'cumproduct', 'cumsum', 'cut', 'date_range', 'datetime64', 'datetime_as_string', 'datetime_data', 'deg2rad', 'degrees', 'delete', 'deprecate', 'deprecate_with_doc', 'describe_option', 'diag', 'diag_indices', 'diag_indices_from', 'diagflat', 'diagonal', 'diff', 'digitize', 'disp', 'displayhook', 'dist', 'divide', 'divmod', 'dllhandle', 'dont_write_bytecode', 'dot', 'double', 'dsplit', 'dstack', 'dtype', 'e', 'ediff1d', 'einsum', 'einsum_path', 'emath', 'empty', 'empty_like', 'equal', 'erf', 'erfc', 'errors', 'errstate', 'euler_gamma', 'eval', 'exc_info', 'excepthook', 'exec_prefix', 'executable', 'exit', 'exp', 'exp2', 'expand_dims', 'expm1', 'extract', 'eye', 'fabs', 'factorial', 'factorize', 'fastCopyAndTranspose', 'fft', 'fill_diagonal', 'find_common_type', 'finfo', 'fix', 'flags', 'flatiter', 'flatnonzero', 'flexible', 'flip', 'fliplr', 'flipud', 'float16', 'float32', 'float64', 'float_', 'float_info', 'float_power', 'float_repr_style', 'floating', 'floor', 'floor_divide', 'fmax', 'fmin', 'fmod', 'format_float_positional', 'format_float_scientific', 'format_parser', 'frexp', 'frombuffer', 'fromfile', 'fromfunction', 'fromiter', 'frompyfunc', 'fromregex', 'fromstring', 'fsum', 'full', 'full_like', 'gamma', 'gcd', 'generic', 'genfromtxt', 'geomspace', 'get_array_wrap', 'get_asyncgen_hooks', 'get_coroutine_origin_tracking_depth', 'get_dummies', 'get_include', 'get_ipython', 'get_option', 'get_printoptions', 'getallocatedblocks', 'getbufsize', 'getdefaultencoding', 'geterr', 'geterrcall', 'geterrobj', 'getfilesystemencodeerrors', 'getfilesystemencoding', 'getprofile', 'getrecursionlimit', 'getrefcount', 'getsizeof', 'getswitchinterval', 'gettrace', 'getwindowsversion', 'gradient', 'greater', 'greater_equal', 'half', 'hamming', 'hanning', 'hash_info', 'heaviside', 'hexversion', 'histogram', 'histogram2d', 'histogram_bin_edges', 'histogramdd', 'hsplit', 'hstack', 'hypot', 'i0', 'identity', 'iinfo', 'imag', 'implementation', 'in1d', 'index_exp', 'indices', 'inexact', 'inf', 'infer_freq', 'info', 'infty', 'inner', 'insert', 'int0', 'int16', 'int32', 'int64', 'int8', 'int_', 'int_info', 'intc', 'integer', 'intern', 'interp', 'intersect1d', 'interval_range', 'intp', 'invert', 'io', 'is_busday', 'is_finalizing', 'isclose', 'iscomplex', 'iscomplexobj', 'isfinite', 'isfortran', 'isin', 'isinf', 'isna', 'isnan', 'isnat', 'isneginf', 'isnull', 'isposinf', 'isqrt', 'isreal', 'isrealobj', 'isscalar', 'issctype', 'issubclass_', 'issubdtype', 'issubsctype', 'iterable', 'ix_', 'json_normalize', 'kaiser', 'kron', 'last_traceback', 'last_type', 'last_value', 'lcm', 'ldexp', 'left_shift', 'less', 'less_equal', 'lexsort', 'lgamma', 'linalg', 'linspace', 'little_endian', 'load', 'loads', 'loadtxt', 'log', 'log10', 'log1p', 'log2', 'logaddexp', 'logaddexp2', 'logical_and', 'logical_not', 'logical_or', 'logical_xor', 'logspace', 'longcomplex', 'longdouble', 'longfloat', 'longlong', 'lookfor', 'lreshape', 'ma', 'mafromtxt', 'mask_indices', 'mat', 'math', 'matmul', 'matrix', 'maximum', 'maximum_sctype', 'maxsize', 'maxunicode', 'may_share_memory', 'mean', 'median', 'melt', 'memmap', 'merge', 'merge_asof', 'merge_ordered', 'meshgrid', 'meta_path', 'mgrid', 'min_scalar_type', 'minimum', 'mintypecode', 'mod', 'modf', 'modules', 'moveaxis', 'msort', 'multiply', 'nan', 'nan_to_num', 'nanargmax', 'nanargmin', 'nancumprod', 'nancumsum', 'nanmax', 'nanmean', 'nanmedian', 'nanmin', 'nanpercentile', 'nanprod', 'nanquantile', 'nanstd', 'nansum', 'nanvar', 'nbytes', 'ndarray', 'ndenumerate', 'ndfromtxt', 'ndim', 'ndindex', 'nditer', 'negative', 'nested_iters', 'newaxis', 'nextafter', 'nonzero', 'not_equal', 'notna', 'notnull', 'number', 'obj2sctype', 'object0', 'object_', 'offsets', 'ogrid', 'ones', 'ones_like', 'option_context', 'options', 'outer', 'packbits', 'pad', 'partition', 'path', 'path_hooks', 'path_importer_cache', 'percentile', 'period_range', 'perm', 'pi', 'piecewise', 'pivot', 'pivot_table', 'place', 'platform', 'platlibdir', 'plotting', 'poly', 'poly1d', 'polyadd', 'polyder', 'polydiv', 'polyfit', 'polyint', 'polymul', 'polysub', 'polyval', 'positive', 'pow', 'power', 'prefix', 'printoptions', 'prod', 'product', 'promote_types', 'ps1', 'ps2', 'ps3', 'ptp', 'put', 'put_along_axis', 'putmask', 'pycache_prefix', 'qcut', 'quantile', 'quit', 'r_', 'rad2deg', 'radians', 'random', 'ravel', 'ravel_multi_index', 'read_clipboard', 'read_csv', 'read_excel', 'read_feather', 'read_fwf', 'read_gbq', 'read_hdf', 'read_html', 'read_json', 'read_orc', 'read_parquet', 'read_pickle', 'read_sas', 'read_spss', 'read_sql', 'read_sql_query', 'read_sql_table', 'read_stata', 'read_table', 'read_xml', 'real', 'real_if_close', 'rec', 'recarray', 'recfromcsv', 'recfromtxt', 'reciprocal', 'record', 'remainder', 'repeat', 'require', 'reset_option', 'reshape', 'resize', 'result_type', 'right_shift', 'rint', 'roll', 'rollaxis', 'roots', 'rot90', 'round_', 'row_stack', 's_', 'safe_eval', 'save', 'savetxt', 'savez', 'savez_compressed', 'sctype2char', 'sctypeDict', 'sctypes', 'searchsorted', 'select', 'set_asyncgen_hooks', 'set_coroutine_origin_tracking_depth', 'set_eng_float_format', 'set_numeric_ops', 'set_option', 'set_printoptions', 'set_string_function', 'setbufsize', 'setdiff1d', 'seterr', 'seterrcall', 'seterrobj', 'setprofile', 'setrecursionlimit', 'setswitchinterval', 'settrace', 'setxor1d', 'shape', 'shares_memory', 'short', 'show_config', 'show_versions', 'sign', 'signbit', 'signedinteger', 'sin', 'sinc', 'single', 'singlecomplex', 'sinh', 'size', 'sometrue', 'sort', 'sort_complex', 'source', 'spacing', 'split', 'sqrt', 'square', 'squeeze', 'stack', 'std', 'stderr', 'stdin', 'stdout', 'str0', 'str_', 'string_', 'subtract', 'sum', 'swapaxes', 'take', 'take_along_axis', 'tan', 'tanh', 'tau', 'tensordot', 'test', 'testing', 'thread_info', 'tile', 'timedelta64', 'timedelta_range', 'to_datetime', 'to_numeric', 'to_pickle', 'to_timedelta', 'trace', 'tracemalloc_domain', 'transpose', 'trapz', 'tri', 'tril', 'tril_indices', 'tril_indices_from', 'trim_zeros', 'triu', 'triu_indices', 'triu_indices_from', 'true_divide', 'trunc', 'tseries', 'typecodes', 'typename', 'ubyte', 'ufunc', 'uint', 'uint0', 'uint16', 'uint32', 'uint64', 'uint8', 'uintc', 'uintp', 'ulonglong', 'ulp', 'unicode_', 'union1d', 'unique', 'unpackbits', 'unraisablehook', 'unravel_index', 'unsignedinteger', 'unwrap', 'ushort', 'value_counts', 'vander', 'var', 'vdot', 'vectorize', 'version', 'version_info', 'void', 'void0', 'vsplit', 'vstack', 'warnoptions', 'where', 'who', 'wide_to_long', 'winver', 'zeros', 'zeros_like']\n"
     ]
    }
   ],
   "source": [
    "print(dir())"
   ]
  },
  {
   "cell_type": "code",
   "execution_count": 1,
   "id": "0dcdebfe",
   "metadata": {},
   "outputs": [],
   "source": [
    "import math"
   ]
  },
  {
   "cell_type": "code",
   "execution_count": 2,
   "id": "96cc8a73",
   "metadata": {},
   "outputs": [
    {
     "name": "stdout",
     "output_type": "stream",
     "text": [
      "['In', 'Out', '_', '__', '___', '__builtin__', '__builtins__', '__doc__', '__loader__', '__name__', '__package__', '__spec__', '_dh', '_i', '_i1', '_i2', '_ih', '_ii', '_iii', '_oh', 'exit', 'get_ipython', 'math', 'quit']\n"
     ]
    }
   ],
   "source": [
    "print(dir())"
   ]
  },
  {
   "cell_type": "code",
   "execution_count": 3,
   "id": "4bc9159c",
   "metadata": {},
   "outputs": [
    {
     "data": {
      "text/plain": [
       "3"
      ]
     },
     "execution_count": 3,
     "metadata": {},
     "output_type": "execute_result"
    }
   ],
   "source": [
    "math.ceil(2.5)"
   ]
  },
  {
   "cell_type": "code",
   "execution_count": 1,
   "id": "caf0cf70",
   "metadata": {},
   "outputs": [],
   "source": [
    "from math import *"
   ]
  },
  {
   "cell_type": "code",
   "execution_count": 2,
   "id": "41841c09",
   "metadata": {},
   "outputs": [
    {
     "name": "stdout",
     "output_type": "stream",
     "text": [
      "['In', 'Out', '_', '__', '___', '__builtin__', '__builtins__', '__doc__', '__loader__', '__name__', '__package__', '__spec__', '_dh', '_i', '_i1', '_i2', '_ih', '_ii', '_iii', '_oh', 'acos', 'acosh', 'asin', 'asinh', 'atan', 'atan2', 'atanh', 'ceil', 'comb', 'copysign', 'cos', 'cosh', 'degrees', 'dist', 'e', 'erf', 'erfc', 'exit', 'exp', 'expm1', 'fabs', 'factorial', 'floor', 'fmod', 'frexp', 'fsum', 'gamma', 'gcd', 'get_ipython', 'hypot', 'inf', 'isclose', 'isfinite', 'isinf', 'isnan', 'isqrt', 'lcm', 'ldexp', 'lgamma', 'log', 'log10', 'log1p', 'log2', 'modf', 'nan', 'nextafter', 'perm', 'pi', 'pow', 'prod', 'quit', 'radians', 'remainder', 'sin', 'sinh', 'sqrt', 'tan', 'tanh', 'tau', 'trunc', 'ulp']\n"
     ]
    }
   ],
   "source": [
    "print(dir())"
   ]
  },
  {
   "cell_type": "markdown",
   "id": "558e0a38",
   "metadata": {},
   "source": [
    "# Renaming a module (Module aliasing)"
   ]
  },
  {
   "cell_type": "code",
   "execution_count": 1,
   "id": "ffb76094",
   "metadata": {},
   "outputs": [],
   "source": [
    "# import module_name as name"
   ]
  },
  {
   "cell_type": "code",
   "execution_count": 2,
   "id": "3223b8d4",
   "metadata": {},
   "outputs": [],
   "source": [
    "import math as mt"
   ]
  },
  {
   "cell_type": "code",
   "execution_count": 3,
   "id": "7da07cf5",
   "metadata": {},
   "outputs": [
    {
     "name": "stdout",
     "output_type": "stream",
     "text": [
      "['In', 'Out', '_', '__', '___', '__builtin__', '__builtins__', '__doc__', '__loader__', '__name__', '__package__', '__spec__', '_dh', '_i', '_i1', '_i2', '_i3', '_ih', '_ii', '_iii', '_oh', 'exit', 'get_ipython', 'mt', 'quit']\n"
     ]
    }
   ],
   "source": [
    "print(dir())"
   ]
  },
  {
   "cell_type": "code",
   "execution_count": 4,
   "id": "df00c90e",
   "metadata": {},
   "outputs": [
    {
     "data": {
      "text/plain": [
       "2.23606797749979"
      ]
     },
     "execution_count": 4,
     "metadata": {},
     "output_type": "execute_result"
    }
   ],
   "source": [
    "mt.sqrt(5)"
   ]
  },
  {
   "cell_type": "code",
   "execution_count": 5,
   "id": "4e4319fb",
   "metadata": {},
   "outputs": [
    {
     "ename": "NameError",
     "evalue": "name 'math' is not defined",
     "output_type": "error",
     "traceback": [
      "\u001b[1;31m---------------------------------------------------------------------------\u001b[0m",
      "\u001b[1;31mNameError\u001b[0m                                 Traceback (most recent call last)",
      "\u001b[1;32m~\\AppData\\Local\\Temp\\ipykernel_25876\\3727747678.py\u001b[0m in \u001b[0;36m<module>\u001b[1;34m\u001b[0m\n\u001b[1;32m----> 1\u001b[1;33m \u001b[0mmath\u001b[0m\u001b[1;33m.\u001b[0m\u001b[0msqrt\u001b[0m\u001b[1;33m(\u001b[0m\u001b[1;36m6\u001b[0m\u001b[1;33m)\u001b[0m\u001b[1;33m\u001b[0m\u001b[1;33m\u001b[0m\u001b[0m\n\u001b[0m",
      "\u001b[1;31mNameError\u001b[0m: name 'math' is not defined"
     ]
    }
   ],
   "source": [
    "math.sqrt(6)"
   ]
  },
  {
   "cell_type": "code",
   "execution_count": 6,
   "id": "b2312129",
   "metadata": {},
   "outputs": [],
   "source": [
    "import numpy as np\n",
    "import pandas as pd"
   ]
  },
  {
   "cell_type": "code",
   "execution_count": 7,
   "id": "51591494",
   "metadata": {},
   "outputs": [
    {
     "name": "stdout",
     "output_type": "stream",
     "text": [
      "['In', 'Out', '_', '_4', '__', '___', '__builtin__', '__builtins__', '__doc__', '__loader__', '__name__', '__package__', '__spec__', '_dh', '_i', '_i1', '_i2', '_i3', '_i4', '_i5', '_i6', '_i7', '_ih', '_ii', '_iii', '_oh', 'exit', 'get_ipython', 'mt', 'np', 'pd', 'quit']\n"
     ]
    }
   ],
   "source": [
    "print(dir())"
   ]
  },
  {
   "cell_type": "code",
   "execution_count": 10,
   "id": "d121c386",
   "metadata": {},
   "outputs": [],
   "source": [
    "# print(dir(np))"
   ]
  },
  {
   "cell_type": "code",
   "execution_count": 11,
   "id": "dc8c3a48",
   "metadata": {},
   "outputs": [],
   "source": [
    "# print(dir(pd))"
   ]
  },
  {
   "cell_type": "code",
   "execution_count": 12,
   "id": "d95e049e",
   "metadata": {},
   "outputs": [
    {
     "data": {
      "text/plain": [
       "array([1, 2, 3])"
      ]
     },
     "execution_count": 12,
     "metadata": {},
     "output_type": "execute_result"
    }
   ],
   "source": [
    "np.array([1,2,3])"
   ]
  },
  {
   "cell_type": "markdown",
   "id": "4e8b7a4c",
   "metadata": {},
   "source": [
    "# import "
   ]
  },
  {
   "cell_type": "markdown",
   "id": "712ce86e",
   "metadata": {},
   "source": [
    "- It searches for the module in the folders available in the current path and makes it available in global namesapce."
   ]
  },
  {
   "cell_type": "markdown",
   "id": "ed283c9d",
   "metadata": {},
   "source": [
    "# Bultin namespace"
   ]
  },
  {
   "cell_type": "code",
   "execution_count": 13,
   "id": "814e1c13",
   "metadata": {},
   "outputs": [
    {
     "name": "stdout",
     "output_type": "stream",
     "text": [
      "['ArithmeticError', 'AssertionError', 'AttributeError', 'BaseException', 'BlockingIOError', 'BrokenPipeError', 'BufferError', 'BytesWarning', 'ChildProcessError', 'ConnectionAbortedError', 'ConnectionError', 'ConnectionRefusedError', 'ConnectionResetError', 'DeprecationWarning', 'EOFError', 'Ellipsis', 'EnvironmentError', 'Exception', 'False', 'FileExistsError', 'FileNotFoundError', 'FloatingPointError', 'FutureWarning', 'GeneratorExit', 'IOError', 'ImportError', 'ImportWarning', 'IndentationError', 'IndexError', 'InterruptedError', 'IsADirectoryError', 'KeyError', 'KeyboardInterrupt', 'LookupError', 'MemoryError', 'ModuleNotFoundError', 'NameError', 'None', 'NotADirectoryError', 'NotImplemented', 'NotImplementedError', 'OSError', 'OverflowError', 'PendingDeprecationWarning', 'PermissionError', 'ProcessLookupError', 'RecursionError', 'ReferenceError', 'ResourceWarning', 'RuntimeError', 'RuntimeWarning', 'StopAsyncIteration', 'StopIteration', 'SyntaxError', 'SyntaxWarning', 'SystemError', 'SystemExit', 'TabError', 'TimeoutError', 'True', 'TypeError', 'UnboundLocalError', 'UnicodeDecodeError', 'UnicodeEncodeError', 'UnicodeError', 'UnicodeTranslateError', 'UnicodeWarning', 'UserWarning', 'ValueError', 'Warning', 'WindowsError', 'ZeroDivisionError', '__IPYTHON__', '__build_class__', '__debug__', '__doc__', '__import__', '__loader__', '__name__', '__package__', '__spec__', 'abs', 'all', 'any', 'ascii', 'bin', 'bool', 'breakpoint', 'bytearray', 'bytes', 'callable', 'chr', 'classmethod', 'compile', 'complex', 'copyright', 'credits', 'delattr', 'dict', 'dir', 'display', 'divmod', 'enumerate', 'eval', 'exec', 'execfile', 'filter', 'float', 'format', 'frozenset', 'get_ipython', 'getattr', 'globals', 'hasattr', 'hash', 'help', 'hex', 'id', 'input', 'int', 'isinstance', 'issubclass', 'iter', 'len', 'license', 'list', 'locals', 'map', 'max', 'memoryview', 'min', 'next', 'object', 'oct', 'open', 'ord', 'pow', 'print', 'property', 'range', 'repr', 'reversed', 'round', 'runfile', 'set', 'setattr', 'slice', 'sorted', 'staticmethod', 'str', 'sum', 'super', 'tuple', 'type', 'vars', 'zip']\n"
     ]
    }
   ],
   "source": [
    "print(dir(__builtins__))"
   ]
  },
  {
   "cell_type": "code",
   "execution_count": 14,
   "id": "2db61e67",
   "metadata": {},
   "outputs": [
    {
     "data": {
      "text/plain": [
       "5"
      ]
     },
     "execution_count": 14,
     "metadata": {},
     "output_type": "execute_result"
    }
   ],
   "source": [
    "int('5')"
   ]
  },
  {
   "cell_type": "markdown",
   "id": "051eaa3d",
   "metadata": {},
   "source": [
    "# Global namespace"
   ]
  },
  {
   "cell_type": "code",
   "execution_count": 15,
   "id": "f4dae118",
   "metadata": {},
   "outputs": [
    {
     "name": "stdout",
     "output_type": "stream",
     "text": [
      "['In', 'Out', '_', '_12', '_14', '_4', '__', '___', '__builtin__', '__builtins__', '__doc__', '__loader__', '__name__', '__package__', '__spec__', '_dh', '_i', '_i1', '_i10', '_i11', '_i12', '_i13', '_i14', '_i15', '_i2', '_i3', '_i4', '_i5', '_i6', '_i7', '_i8', '_i9', '_ih', '_ii', '_iii', '_oh', 'exit', 'get_ipython', 'mt', 'np', 'pd', 'quit']\n"
     ]
    }
   ],
   "source": [
    "print(dir())"
   ]
  },
  {
   "cell_type": "code",
   "execution_count": 16,
   "id": "b3aeedbd",
   "metadata": {},
   "outputs": [],
   "source": [
    "import sys"
   ]
  },
  {
   "cell_type": "code",
   "execution_count": 17,
   "id": "2811a069",
   "metadata": {},
   "outputs": [
    {
     "data": {
      "text/plain": [
       "['C:\\\\Users\\\\Dell\\\\OneDrive\\\\Desktop\\\\Data Science\\\\Learn Bay Classes\\\\Python 10th March Batch',\n",
       " 'C:\\\\Users\\\\Dell\\\\anaconda3\\\\python39.zip',\n",
       " 'C:\\\\Users\\\\Dell\\\\anaconda3\\\\DLLs',\n",
       " 'C:\\\\Users\\\\Dell\\\\anaconda3\\\\lib',\n",
       " 'C:\\\\Users\\\\Dell\\\\anaconda3',\n",
       " '',\n",
       " 'C:\\\\Users\\\\Dell\\\\anaconda3\\\\lib\\\\site-packages',\n",
       " 'C:\\\\Users\\\\Dell\\\\anaconda3\\\\lib\\\\site-packages\\\\win32',\n",
       " 'C:\\\\Users\\\\Dell\\\\anaconda3\\\\lib\\\\site-packages\\\\win32\\\\lib',\n",
       " 'C:\\\\Users\\\\Dell\\\\anaconda3\\\\lib\\\\site-packages\\\\Pythonwin',\n",
       " 'C:\\\\Users\\\\Dell\\\\anaconda3\\\\lib\\\\site-packages\\\\IPython\\\\extensions',\n",
       " 'C:\\\\Users\\\\Dell\\\\.ipython']"
      ]
     },
     "execution_count": 17,
     "metadata": {},
     "output_type": "execute_result"
    }
   ],
   "source": [
    "sys.path"
   ]
  },
  {
   "cell_type": "markdown",
   "id": "698afe7a",
   "metadata": {},
   "source": [
    "# List of all inbuilt modules and libraries"
   ]
  },
  {
   "cell_type": "code",
   "execution_count": 19,
   "id": "0fd5db97",
   "metadata": {},
   "outputs": [],
   "source": [
    "# pip list"
   ]
  },
  {
   "cell_type": "markdown",
   "id": "192fc66a",
   "metadata": {},
   "source": [
    "# How to create a user defined module "
   ]
  },
  {
   "cell_type": "markdown",
   "id": "c2029348",
   "metadata": {},
   "source": [
    "- A user defined module is .py file that contains the function definitions"
   ]
  },
  {
   "cell_type": "code",
   "execution_count": 20,
   "id": "64ecb75e",
   "metadata": {},
   "outputs": [
    {
     "name": "stdout",
     "output_type": "stream",
     "text": [
      " Volume in drive C is OS\n",
      " Volume Serial Number is DC45-AD44\n",
      "\n",
      " Directory of C:\\Users\\Dell\\OneDrive\\Desktop\\Data Science\\Learn Bay Classes\\Python 10th March Batch\n",
      "\n",
      "04/12/2023  09:07 AM    <DIR>          .\n",
      "03/29/2023  10:06 PM    <DIR>          ..\n",
      "04/12/2023  08:05 AM    <DIR>          .ipynb_checkpoints\n",
      "03/24/2023  10:00 AM             3,625 Assignent_1.ipynb\n",
      "03/13/2023  09:41 AM            14,015 Class_1_Introduction.ipynb\n",
      "03/28/2023  10:06 AM            32,651 Class_10_Loop.ipynb\n",
      "03/29/2023  10:04 AM            27,617 Class_11_Loop_2.ipynb\n",
      "03/30/2023  12:24 PM            33,543 Class_12_Transfer_Statements_and_List.ipynb\n",
      "03/31/2023  10:02 AM            44,291 Class_13_List_Methods.ipynb\n",
      "04/03/2023  09:58 AM            52,931 Class_14_List_Methods_2.ipynb\n",
      "04/04/2023  11:13 AM            49,861 Class_15_Tuple.ipynb\n",
      "04/06/2023  08:04 AM            40,232 Class_16_Dictionary.ipynb\n",
      "04/06/2023  09:43 AM            58,072 Class_17_Dictionary_Methods.ipynb\n",
      "04/07/2023  10:06 AM            25,372 Class_18_Functions.ipynb\n",
      "04/10/2023  09:53 AM            54,430 Class_19_Functions_2.ipynb\n",
      "03/15/2023  08:47 AM            25,288 Class_2_Introduction.ipynb\n",
      "04/11/2023  09:47 AM            20,021 Class_20_Function_3.ipynb\n",
      "04/12/2023  09:04 AM            37,785 Class_21_Modules.ipynb\n",
      "03/15/2023  10:02 AM            40,513 Class_3_Datatypes.ipynb\n",
      "03/17/2023  10:05 AM            41,128 Class_4_Typecasting.ipynb\n",
      "03/20/2023  11:59 AM            29,379 Class_5_Operators.ipynb\n",
      "03/21/2023  10:01 AM            43,803 Class_6_Operators_2.ipynb\n",
      "03/23/2023  09:54 AM            24,783 Class_7_String.ipynb\n",
      "03/24/2023  09:55 AM            31,800 Class_8_String_Methods.ipynb\n",
      "03/27/2023  10:02 AM            32,169 Class_9_Conditional_Statements.ipynb\n",
      "04/12/2023  09:07 AM               184 march.py\n",
      "04/12/2023  08:07 AM             1,519 Untitled.ipynb\n",
      "              24 File(s)        765,012 bytes\n",
      "               3 Dir(s)  179,304,271,872 bytes free\n"
     ]
    }
   ],
   "source": [
    "ls"
   ]
  },
  {
   "cell_type": "code",
   "execution_count": 1,
   "id": "3c92967d",
   "metadata": {},
   "outputs": [
    {
     "name": "stdout",
     "output_type": "stream",
     "text": [
      "['In', 'Out', '_', '__', '___', '__builtin__', '__builtins__', '__doc__', '__loader__', '__name__', '__package__', '__spec__', '_dh', '_i', '_i1', '_ih', '_ii', '_iii', '_oh', 'exit', 'get_ipython', 'quit']\n"
     ]
    }
   ],
   "source": [
    "print(dir())"
   ]
  },
  {
   "cell_type": "code",
   "execution_count": 2,
   "id": "298efd11",
   "metadata": {},
   "outputs": [],
   "source": [
    "import march"
   ]
  },
  {
   "cell_type": "code",
   "execution_count": 3,
   "id": "f8009c10",
   "metadata": {},
   "outputs": [
    {
     "name": "stdout",
     "output_type": "stream",
     "text": [
      "['In', 'Out', '_', '__', '___', '__builtin__', '__builtins__', '__doc__', '__loader__', '__name__', '__package__', '__spec__', '_dh', '_i', '_i1', '_i2', '_i3', '_ih', '_ii', '_iii', '_oh', 'exit', 'get_ipython', 'march', 'quit']\n"
     ]
    }
   ],
   "source": [
    "print(dir())"
   ]
  },
  {
   "cell_type": "code",
   "execution_count": 4,
   "id": "d839d638",
   "metadata": {},
   "outputs": [
    {
     "name": "stdout",
     "output_type": "stream",
     "text": [
      "['__builtins__', '__cached__', '__doc__', '__file__', '__loader__', '__name__', '__package__', '__spec__', 'add', 'even_or_odd', 'mult', 'my_power']\n"
     ]
    }
   ],
   "source": [
    "print(dir(march))"
   ]
  },
  {
   "cell_type": "code",
   "execution_count": 6,
   "id": "ac45a7c8",
   "metadata": {},
   "outputs": [
    {
     "data": {
      "text/plain": [
       "16"
      ]
     },
     "execution_count": 6,
     "metadata": {},
     "output_type": "execute_result"
    }
   ],
   "source": [
    "march.my_power(4,2)"
   ]
  },
  {
   "cell_type": "code",
   "execution_count": 7,
   "id": "6ac45200",
   "metadata": {},
   "outputs": [
    {
     "data": {
      "text/plain": [
       "40"
      ]
     },
     "execution_count": 7,
     "metadata": {},
     "output_type": "execute_result"
    }
   ],
   "source": [
    "march.add(10,30)"
   ]
  },
  {
   "cell_type": "markdown",
   "id": "30d6422a",
   "metadata": {},
   "source": [
    "# How to import a module available in a different directory (folder)"
   ]
  },
  {
   "cell_type": "code",
   "execution_count": 8,
   "id": "54bf9b69",
   "metadata": {},
   "outputs": [
    {
     "ename": "ModuleNotFoundError",
     "evalue": "No module named 'data'",
     "output_type": "error",
     "traceback": [
      "\u001b[1;31m---------------------------------------------------------------------------\u001b[0m",
      "\u001b[1;31mModuleNotFoundError\u001b[0m                       Traceback (most recent call last)",
      "\u001b[1;32m~\\AppData\\Local\\Temp\\ipykernel_27800\\2810118139.py\u001b[0m in \u001b[0;36m<module>\u001b[1;34m\u001b[0m\n\u001b[1;32m----> 1\u001b[1;33m \u001b[1;32mimport\u001b[0m \u001b[0mdata\u001b[0m\u001b[1;33m\u001b[0m\u001b[1;33m\u001b[0m\u001b[0m\n\u001b[0m",
      "\u001b[1;31mModuleNotFoundError\u001b[0m: No module named 'data'"
     ]
    }
   ],
   "source": [
    "import data"
   ]
  },
  {
   "cell_type": "code",
   "execution_count": 10,
   "id": "555e73a7",
   "metadata": {},
   "outputs": [],
   "source": [
    "import sys"
   ]
  },
  {
   "cell_type": "code",
   "execution_count": 11,
   "id": "1947fd21",
   "metadata": {},
   "outputs": [
    {
     "data": {
      "text/plain": [
       "['C:\\\\Users\\\\Dell\\\\OneDrive\\\\Desktop\\\\Data Science\\\\Learn Bay Classes\\\\Python 10th March Batch',\n",
       " 'C:\\\\Users\\\\Dell\\\\anaconda3\\\\python39.zip',\n",
       " 'C:\\\\Users\\\\Dell\\\\anaconda3\\\\DLLs',\n",
       " 'C:\\\\Users\\\\Dell\\\\anaconda3\\\\lib',\n",
       " 'C:\\\\Users\\\\Dell\\\\anaconda3',\n",
       " '',\n",
       " 'C:\\\\Users\\\\Dell\\\\anaconda3\\\\lib\\\\site-packages',\n",
       " 'C:\\\\Users\\\\Dell\\\\anaconda3\\\\lib\\\\site-packages\\\\win32',\n",
       " 'C:\\\\Users\\\\Dell\\\\anaconda3\\\\lib\\\\site-packages\\\\win32\\\\lib',\n",
       " 'C:\\\\Users\\\\Dell\\\\anaconda3\\\\lib\\\\site-packages\\\\Pythonwin',\n",
       " 'C:\\\\Users\\\\Dell\\\\anaconda3\\\\lib\\\\site-packages\\\\IPython\\\\extensions',\n",
       " 'C:\\\\Users\\\\Dell\\\\.ipython']"
      ]
     },
     "execution_count": 11,
     "metadata": {},
     "output_type": "execute_result"
    }
   ],
   "source": [
    "sys.path"
   ]
  },
  {
   "cell_type": "code",
   "execution_count": 13,
   "id": "5c466c35",
   "metadata": {},
   "outputs": [],
   "source": [
    "sys.path.append(r\"C:\\Users\\Dell\\OneDrive\\Desktop\")"
   ]
  },
  {
   "cell_type": "code",
   "execution_count": 14,
   "id": "49f59831",
   "metadata": {},
   "outputs": [
    {
     "data": {
      "text/plain": [
       "['C:\\\\Users\\\\Dell\\\\OneDrive\\\\Desktop\\\\Data Science\\\\Learn Bay Classes\\\\Python 10th March Batch',\n",
       " 'C:\\\\Users\\\\Dell\\\\anaconda3\\\\python39.zip',\n",
       " 'C:\\\\Users\\\\Dell\\\\anaconda3\\\\DLLs',\n",
       " 'C:\\\\Users\\\\Dell\\\\anaconda3\\\\lib',\n",
       " 'C:\\\\Users\\\\Dell\\\\anaconda3',\n",
       " '',\n",
       " 'C:\\\\Users\\\\Dell\\\\anaconda3\\\\lib\\\\site-packages',\n",
       " 'C:\\\\Users\\\\Dell\\\\anaconda3\\\\lib\\\\site-packages\\\\win32',\n",
       " 'C:\\\\Users\\\\Dell\\\\anaconda3\\\\lib\\\\site-packages\\\\win32\\\\lib',\n",
       " 'C:\\\\Users\\\\Dell\\\\anaconda3\\\\lib\\\\site-packages\\\\Pythonwin',\n",
       " 'C:\\\\Users\\\\Dell\\\\anaconda3\\\\lib\\\\site-packages\\\\IPython\\\\extensions',\n",
       " 'C:\\\\Users\\\\Dell\\\\.ipython',\n",
       " 'C:\\\\Users\\\\Dell\\\\OneDrive\\\\Desktop']"
      ]
     },
     "execution_count": 14,
     "metadata": {},
     "output_type": "execute_result"
    }
   ],
   "source": [
    "sys.path"
   ]
  },
  {
   "cell_type": "code",
   "execution_count": 15,
   "id": "12fbd55c",
   "metadata": {},
   "outputs": [],
   "source": [
    "import data"
   ]
  },
  {
   "cell_type": "code",
   "execution_count": 16,
   "id": "040e6a45",
   "metadata": {},
   "outputs": [
    {
     "name": "stdout",
     "output_type": "stream",
     "text": [
      "['In', 'Out', '_', '_11', '_14', '_5', '_6', '_7', '__', '___', '__builtin__', '__builtins__', '__doc__', '__loader__', '__name__', '__package__', '__spec__', '_dh', '_i', '_i1', '_i10', '_i11', '_i12', '_i13', '_i14', '_i15', '_i16', '_i2', '_i3', '_i4', '_i5', '_i6', '_i7', '_i8', '_i9', '_ih', '_ii', '_iii', '_oh', 'data', 'exit', 'get_ipython', 'march', 'quit', 'sys']\n"
     ]
    }
   ],
   "source": [
    "print(dir())"
   ]
  },
  {
   "cell_type": "code",
   "execution_count": 17,
   "id": "ff433d97",
   "metadata": {},
   "outputs": [
    {
     "data": {
      "text/plain": [
       "'We are from March 10th batch'"
      ]
     },
     "execution_count": 17,
     "metadata": {},
     "output_type": "execute_result"
    }
   ],
   "source": [
    "data.introduction()"
   ]
  },
  {
   "cell_type": "code",
   "execution_count": 18,
   "id": "37a6becf",
   "metadata": {},
   "outputs": [
    {
     "data": {
      "text/plain": [
       "25"
      ]
     },
     "execution_count": 18,
     "metadata": {},
     "output_type": "execute_result"
    }
   ],
   "source": [
    "data.square(5)"
   ]
  },
  {
   "cell_type": "markdown",
   "id": "9ba726c0",
   "metadata": {},
   "source": [
    "# Note-"
   ]
  },
  {
   "cell_type": "markdown",
   "id": "a1f42da9",
   "metadata": {},
   "source": [
    "- We should not have any free executable code in a module.\n",
    "- If we have any free executable code in a module then that code we keep inside an if block"
   ]
  },
  {
   "cell_type": "code",
   "execution_count": 5,
   "id": "86716b2d",
   "metadata": {},
   "outputs": [],
   "source": [
    "if __name__=='__main__':\n",
    "    free executable code"
   ]
  },
  {
   "cell_type": "code",
   "execution_count": 1,
   "id": "b98691b8",
   "metadata": {},
   "outputs": [
    {
     "name": "stdout",
     "output_type": "stream",
     "text": [
      "Hello everyone\n"
     ]
    }
   ],
   "source": [
    "import march"
   ]
  },
  {
   "cell_type": "code",
   "execution_count": 3,
   "id": "ade17c9e",
   "metadata": {},
   "outputs": [
    {
     "data": {
      "text/plain": [
       "6"
      ]
     },
     "execution_count": 3,
     "metadata": {},
     "output_type": "execute_result"
    }
   ],
   "source": [
    "march.add(2,4)"
   ]
  },
  {
   "cell_type": "code",
   "execution_count": 1,
   "id": "90ebcba3",
   "metadata": {},
   "outputs": [
    {
     "name": "stdout",
     "output_type": "stream",
     "text": [
      "Hello everyone\n"
     ]
    }
   ],
   "source": [
    "import march"
   ]
  },
  {
   "cell_type": "code",
   "execution_count": 1,
   "id": "66b67eef",
   "metadata": {},
   "outputs": [],
   "source": [
    "import march"
   ]
  },
  {
   "cell_type": "code",
   "execution_count": 2,
   "id": "9a4e28db",
   "metadata": {},
   "outputs": [
    {
     "name": "stdout",
     "output_type": "stream",
     "text": [
      "Hello everyone\n"
     ]
    }
   ],
   "source": [
    "%run march.py"
   ]
  },
  {
   "cell_type": "code",
   "execution_count": 3,
   "id": "b36390bb",
   "metadata": {},
   "outputs": [
    {
     "name": "stdout",
     "output_type": "stream",
     "text": [
      "Hello everyone\n",
      "__main__\n"
     ]
    }
   ],
   "source": [
    "%run march.py"
   ]
  },
  {
   "cell_type": "code",
   "execution_count": 1,
   "id": "ba032844",
   "metadata": {},
   "outputs": [],
   "source": [
    "import march as mh"
   ]
  },
  {
   "cell_type": "code",
   "execution_count": 2,
   "id": "373ace27",
   "metadata": {},
   "outputs": [
    {
     "data": {
      "text/plain": [
       "'march'"
      ]
     },
     "execution_count": 2,
     "metadata": {},
     "output_type": "execute_result"
    }
   ],
   "source": [
    "mh.__name__"
   ]
  },
  {
   "cell_type": "code",
   "execution_count": 3,
   "id": "8477f02a",
   "metadata": {},
   "outputs": [
    {
     "name": "stdout",
     "output_type": "stream",
     "text": [
      "['__builtins__', '__cached__', '__doc__', '__file__', '__loader__', '__name__', '__package__', '__spec__', 'add', 'even_or_odd', 'mult', 'my_power']\n"
     ]
    }
   ],
   "source": [
    "print(dir(mh))"
   ]
  },
  {
   "cell_type": "code",
   "execution_count": null,
   "id": "a489f8b3",
   "metadata": {},
   "outputs": [],
   "source": [
    "srikant.py"
   ]
  },
  {
   "cell_type": "code",
   "execution_count": 4,
   "id": "2640b24a",
   "metadata": {},
   "outputs": [],
   "source": [
    "__name__='__main__'"
   ]
  },
  {
   "cell_type": "code",
   "execution_count": null,
   "id": "0eace556",
   "metadata": {},
   "outputs": [],
   "source": [
    "import srikant"
   ]
  },
  {
   "cell_type": "code",
   "execution_count": null,
   "id": "f12261a6",
   "metadata": {},
   "outputs": [],
   "source": [
    "__name__='srikant'"
   ]
  }
 ],
 "metadata": {
  "kernelspec": {
   "display_name": "Python 3 (ipykernel)",
   "language": "python",
   "name": "python3"
  },
  "language_info": {
   "codemirror_mode": {
    "name": "ipython",
    "version": 3
   },
   "file_extension": ".py",
   "mimetype": "text/x-python",
   "name": "python",
   "nbconvert_exporter": "python",
   "pygments_lexer": "ipython3",
   "version": "3.9.13"
  }
 },
 "nbformat": 4,
 "nbformat_minor": 5
}
