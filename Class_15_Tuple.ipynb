{
 "cells": [
  {
   "cell_type": "markdown",
   "id": "0d38f4ff",
   "metadata": {},
   "source": [
    "# Case_2\n",
    "- By using tuple()"
   ]
  },
  {
   "cell_type": "code",
   "execution_count": 1,
   "id": "58276a26",
   "metadata": {},
   "outputs": [],
   "source": [
    "# tuple(iterale)- It returns a tuple"
   ]
  },
  {
   "cell_type": "code",
   "execution_count": 2,
   "id": "671e6ec1",
   "metadata": {},
   "outputs": [],
   "source": [
    "# Iterables- String, List, Tuple, Dictionary, Set, Frozenset, Range"
   ]
  },
  {
   "cell_type": "code",
   "execution_count": 6,
   "id": "d0d2c6c2",
   "metadata": {},
   "outputs": [
    {
     "name": "stdout",
     "output_type": "stream",
     "text": [
      "Hello <class 'str'>\n",
      "5\n",
      "('H', 'e', 'l', 'l', 'o') <class 'tuple'>\n",
      "5\n"
     ]
    }
   ],
   "source": [
    "a='Hello'\n",
    "print(a,type(a))\n",
    "print(len(a))\n",
    "\n",
    "t=tuple(a)\n",
    "print(t,type(t))\n",
    "print(len(t))"
   ]
  },
  {
   "cell_type": "code",
   "execution_count": 9,
   "id": "2839ee5c",
   "metadata": {},
   "outputs": [
    {
     "name": "stdout",
     "output_type": "stream",
     "text": [
      "[True, 'Python', 'Learnbay', (1, 2, 3, 4, 5), {1: 100, 2: 200}, None] <class 'list'>\n",
      "(True, 'Python', 'Learnbay', (1, 2, 3, 4, 5), {1: 100, 2: 200}, None) <class 'tuple'>\n"
     ]
    }
   ],
   "source": [
    "lst=[True, 'Python', 'Learnbay',(1,2,3,4,5), {1:100,2:200}, None]\n",
    "print(lst,type(lst))\n",
    "\n",
    "t=tuple(lst)\n",
    "print(t,type(t))"
   ]
  },
  {
   "cell_type": "code",
   "execution_count": 12,
   "id": "192b50e9",
   "metadata": {},
   "outputs": [
    {
     "name": "stdout",
     "output_type": "stream",
     "text": [
      "{1: 100, 2: 200, 3: 300, 4: 400} <class 'dict'>\n",
      "(1, 2, 3, 4) <class 'tuple'>\n",
      "(100, 200, 300, 400) <class 'tuple'>\n"
     ]
    }
   ],
   "source": [
    "d={1:100,2:200,3:300,4:400}\n",
    "print(d,type(d))\n",
    "\n",
    "t=tuple(d)\n",
    "print(t,type(t))\n",
    "\n",
    "t=tuple(d.values())\n",
    "print(t,type(t))"
   ]
  },
  {
   "cell_type": "code",
   "execution_count": 14,
   "id": "274b8299",
   "metadata": {},
   "outputs": [
    {
     "name": "stdout",
     "output_type": "stream",
     "text": [
      "{50, 20, 40, 10, 30} <class 'set'>\n",
      "(50, 20, 40, 10, 30) <class 'tuple'>\n"
     ]
    }
   ],
   "source": [
    "s={10,20,30,40,50}\n",
    "print(s,type(s))\n",
    "\n",
    "t=tuple(s)\n",
    "print(t,type(t))"
   ]
  },
  {
   "cell_type": "code",
   "execution_count": 16,
   "id": "3979ac81",
   "metadata": {},
   "outputs": [
    {
     "name": "stdout",
     "output_type": "stream",
     "text": [
      "frozenset({50, 20, 40, 10, 60, 30}) <class 'frozenset'>\n",
      "(50, 20, 40, 10, 60, 30) <class 'tuple'>\n"
     ]
    }
   ],
   "source": [
    "f=frozenset({10,20,30,40,50,60})\n",
    "print(f,type(f))\n",
    "\n",
    "t=tuple(f)\n",
    "print(t,type(t))"
   ]
  },
  {
   "cell_type": "code",
   "execution_count": 18,
   "id": "63d57d76",
   "metadata": {},
   "outputs": [
    {
     "name": "stdout",
     "output_type": "stream",
     "text": [
      "range(0, 5) <class 'range'>\n",
      "(0, 1, 2, 3, 4) <class 'tuple'>\n"
     ]
    }
   ],
   "source": [
    "r=range(5)\n",
    "print(r,type(r))\n",
    "\n",
    "t=tuple(r)\n",
    "print(t,type(t))"
   ]
  },
  {
   "cell_type": "code",
   "execution_count": 19,
   "id": "05eafbf6",
   "metadata": {},
   "outputs": [
    {
     "name": "stdout",
     "output_type": "stream",
     "text": [
      "(1, 2, 3, 4, 5, 6, 7, 8, 9, 10) <class 'tuple'>\n"
     ]
    }
   ],
   "source": [
    "t=tuple(range(1,11))\n",
    "print(t,type(t))"
   ]
  },
  {
   "cell_type": "markdown",
   "id": "bb52db9a",
   "metadata": {},
   "source": [
    "# Case-3\n",
    "- By taking the input from the user"
   ]
  },
  {
   "cell_type": "code",
   "execution_count": 20,
   "id": "b968be5a",
   "metadata": {},
   "outputs": [
    {
     "name": "stdout",
     "output_type": "stream",
     "text": [
      "Enter a tuple- (1,2,3,4,5)\n",
      "(1,2,3,4,5) <class 'str'>\n"
     ]
    }
   ],
   "source": [
    "t=input('Enter a tuple- ')\n",
    "print(t,type(t))"
   ]
  },
  {
   "cell_type": "code",
   "execution_count": 21,
   "id": "bd104cd5",
   "metadata": {},
   "outputs": [
    {
     "data": {
      "text/plain": [
       "11"
      ]
     },
     "execution_count": 21,
     "metadata": {},
     "output_type": "execute_result"
    }
   ],
   "source": [
    "len(t)"
   ]
  },
  {
   "cell_type": "code",
   "execution_count": 22,
   "id": "916ce4db",
   "metadata": {},
   "outputs": [
    {
     "data": {
      "text/plain": [
       "'(1,2,3,4,5)'"
      ]
     },
     "execution_count": 22,
     "metadata": {},
     "output_type": "execute_result"
    }
   ],
   "source": [
    "t"
   ]
  },
  {
   "cell_type": "code",
   "execution_count": 23,
   "id": "7d59ab7c",
   "metadata": {},
   "outputs": [
    {
     "name": "stdout",
     "output_type": "stream",
     "text": [
      "Enter a tuple- 12345\n",
      "('1', '2', '3', '4', '5') <class 'tuple'>\n"
     ]
    }
   ],
   "source": [
    "t=tuple(input('Enter a tuple- '))\n",
    "print(t,type(t))"
   ]
  },
  {
   "cell_type": "code",
   "execution_count": 24,
   "id": "6df94628",
   "metadata": {},
   "outputs": [
    {
     "name": "stdout",
     "output_type": "stream",
     "text": [
      "Enter a tuple- Hello\n",
      "('H', 'e', 'l', 'l', 'o') <class 'tuple'>\n"
     ]
    }
   ],
   "source": [
    "t=tuple(input('Enter a tuple- '))\n",
    "print(t,type(t))"
   ]
  },
  {
   "cell_type": "markdown",
   "id": "8ce29be8",
   "metadata": {},
   "source": [
    "# eval()\n",
    "- It evaluates the type of the value passed to the eval().\n",
    "- Inside the quotations whatever value we pass it evaluates the type of that."
   ]
  },
  {
   "cell_type": "code",
   "execution_count": 26,
   "id": "64535936",
   "metadata": {},
   "outputs": [
    {
     "name": "stdout",
     "output_type": "stream",
     "text": [
      "Enter a tuple- (\"Hello\",\"Python\")\n",
      "('Hello', 'Python') <class 'tuple'>\n"
     ]
    }
   ],
   "source": [
    "# Output- ('Hello' 'Python')\n",
    "\n",
    "t=eval(input('Enter a tuple- '))\n",
    "print(t,type(t))"
   ]
  },
  {
   "cell_type": "code",
   "execution_count": 27,
   "id": "dfa49b5f",
   "metadata": {},
   "outputs": [
    {
     "name": "stdout",
     "output_type": "stream",
     "text": [
      "Enter a tuple- (10,20,30,40,50)\n",
      "(10, 20, 30, 40, 50) <class 'tuple'>\n"
     ]
    }
   ],
   "source": [
    "t=eval(input('Enter a tuple- '))\n",
    "print(t,type(t))"
   ]
  },
  {
   "cell_type": "code",
   "execution_count": 1,
   "id": "1d0455ef",
   "metadata": {},
   "outputs": [
    {
     "name": "stdout",
     "output_type": "stream",
     "text": [
      "Enter a tuple- 123455\n"
     ]
    },
    {
     "data": {
      "text/plain": [
       "'123455'"
      ]
     },
     "execution_count": 1,
     "metadata": {},
     "output_type": "execute_result"
    }
   ],
   "source": [
    "t=input('Enter a tuple- ')\n",
    "t"
   ]
  },
  {
   "cell_type": "code",
   "execution_count": 34,
   "id": "6aed5524",
   "metadata": {},
   "outputs": [
    {
     "name": "stdout",
     "output_type": "stream",
     "text": [
      "<class 'tuple'>\n"
     ]
    }
   ],
   "source": [
    "a=eval('(10,20,30,40,50)')\n",
    "print(type(a))"
   ]
  },
  {
   "cell_type": "code",
   "execution_count": 31,
   "id": "bba51bb0",
   "metadata": {},
   "outputs": [
    {
     "name": "stdout",
     "output_type": "stream",
     "text": [
      "<class 'tuple'>\n"
     ]
    }
   ],
   "source": [
    "a=eval('(10,20,30,40,50)')\n",
    "print(type(a))"
   ]
  },
  {
   "cell_type": "code",
   "execution_count": 36,
   "id": "7c073f98",
   "metadata": {},
   "outputs": [
    {
     "name": "stdout",
     "output_type": "stream",
     "text": [
      "<class 'tuple'>\n"
     ]
    }
   ],
   "source": [
    "a=(1,2,3,4,5)\n",
    "print(type(a))"
   ]
  },
  {
   "cell_type": "code",
   "execution_count": 41,
   "id": "839774a9",
   "metadata": {},
   "outputs": [
    {
     "name": "stdout",
     "output_type": "stream",
     "text": [
      "<class 'tuple'>\n"
     ]
    }
   ],
   "source": [
    "a=eval('(1,2)')\n",
    "print(type(a))"
   ]
  },
  {
   "cell_type": "code",
   "execution_count": 49,
   "id": "ca989913",
   "metadata": {},
   "outputs": [
    {
     "data": {
      "text/plain": [
       "(1, 2, 3)"
      ]
     },
     "execution_count": 49,
     "metadata": {},
     "output_type": "execute_result"
    }
   ],
   "source": [
    "eval('(1,2,3)')"
   ]
  },
  {
   "cell_type": "markdown",
   "id": "0411f1ae",
   "metadata": {},
   "source": [
    "# Creating a tuple of single element"
   ]
  },
  {
   "cell_type": "code",
   "execution_count": 50,
   "id": "5b65a70c",
   "metadata": {},
   "outputs": [],
   "source": [
    "# - When we pass a single element inside the () then it is not a tuple but the element itself.\n",
    "# - To convert it into a tuple we have put comma after the element."
   ]
  },
  {
   "cell_type": "code",
   "execution_count": 51,
   "id": "fc38601d",
   "metadata": {},
   "outputs": [
    {
     "name": "stdout",
     "output_type": "stream",
     "text": [
      "<class 'int'>\n"
     ]
    }
   ],
   "source": [
    "a=(5)\n",
    "print(type(a))"
   ]
  },
  {
   "cell_type": "code",
   "execution_count": 52,
   "id": "0e75c4fc",
   "metadata": {},
   "outputs": [
    {
     "name": "stdout",
     "output_type": "stream",
     "text": [
      "<class 'float'>\n"
     ]
    }
   ],
   "source": [
    "a=(5.5)\n",
    "print(type(a))"
   ]
  },
  {
   "cell_type": "code",
   "execution_count": 53,
   "id": "f74eafdb",
   "metadata": {},
   "outputs": [
    {
     "name": "stdout",
     "output_type": "stream",
     "text": [
      "<class 'str'>\n"
     ]
    }
   ],
   "source": [
    "a=('Hello')\n",
    "print(type(a))"
   ]
  },
  {
   "cell_type": "code",
   "execution_count": 56,
   "id": "bcab6b96",
   "metadata": {},
   "outputs": [
    {
     "name": "stdout",
     "output_type": "stream",
     "text": [
      "<class 'tuple'>\n",
      "1\n"
     ]
    }
   ],
   "source": [
    "a=(5,)\n",
    "print(type(a))\n",
    "print(len(a))"
   ]
  },
  {
   "cell_type": "code",
   "execution_count": 58,
   "id": "614c3ad5",
   "metadata": {},
   "outputs": [
    {
     "name": "stdout",
     "output_type": "stream",
     "text": [
      "<class 'tuple'>\n"
     ]
    }
   ],
   "source": [
    "a=(5.5,)\n",
    "print(type(a))"
   ]
  },
  {
   "cell_type": "code",
   "execution_count": 60,
   "id": "f70a2b42",
   "metadata": {},
   "outputs": [
    {
     "name": "stdout",
     "output_type": "stream",
     "text": [
      "<class 'tuple'>\n"
     ]
    }
   ],
   "source": [
    "a=('Hello',)\n",
    "print(type(a))"
   ]
  },
  {
   "cell_type": "markdown",
   "id": "d658d15b",
   "metadata": {},
   "source": [
    "# We can create a tuple without using ()"
   ]
  },
  {
   "cell_type": "markdown",
   "id": "da1121c9",
   "metadata": {},
   "source": [
    "- When we assign multiple values to a single variable then Python by default stores them in a tuple."
   ]
  },
  {
   "cell_type": "code",
   "execution_count": 63,
   "id": "a7721634",
   "metadata": {},
   "outputs": [
    {
     "name": "stdout",
     "output_type": "stream",
     "text": [
      "(10, 20, 30, 40, 50) <class 'tuple'>\n"
     ]
    }
   ],
   "source": [
    "a=10,20,30,40,50\n",
    "print(a,type(a))"
   ]
  },
  {
   "cell_type": "markdown",
   "id": "0e3d0d5f",
   "metadata": {},
   "source": [
    "# Packing and Unpacking"
   ]
  },
  {
   "cell_type": "markdown",
   "id": "167cf483",
   "metadata": {},
   "source": [
    "# Packing"
   ]
  },
  {
   "cell_type": "markdown",
   "id": "962688b9",
   "metadata": {},
   "source": [
    "- Assigning multiple values to a single variable is known as packing.\n",
    "- In Python tuple supports packing"
   ]
  },
  {
   "cell_type": "code",
   "execution_count": 64,
   "id": "1699507c",
   "metadata": {},
   "outputs": [
    {
     "name": "stdout",
     "output_type": "stream",
     "text": [
      "('Surendra', 25, 'Pune', 55000) <class 'tuple'>\n"
     ]
    }
   ],
   "source": [
    "emp_details='Surendra',25,'Pune',55000\n",
    "print(emp_details,type(emp_details))"
   ]
  },
  {
   "cell_type": "code",
   "execution_count": 67,
   "id": "6e0f09da",
   "metadata": {},
   "outputs": [],
   "source": [
    "# emp_details[1]"
   ]
  },
  {
   "cell_type": "markdown",
   "id": "9fdb502a",
   "metadata": {},
   "source": [
    "# Unpacking"
   ]
  },
  {
   "cell_type": "code",
   "execution_count": 68,
   "id": "237369f0",
   "metadata": {},
   "outputs": [],
   "source": [
    "# Assigning values to multiple variables from a single variable is known as unpacking"
   ]
  },
  {
   "cell_type": "code",
   "execution_count": 70,
   "id": "a848989e",
   "metadata": {},
   "outputs": [],
   "source": [
    "name,age,city,sal=emp_details"
   ]
  },
  {
   "cell_type": "code",
   "execution_count": 71,
   "id": "f58f2c48",
   "metadata": {},
   "outputs": [
    {
     "data": {
      "text/plain": [
       "'Surendra'"
      ]
     },
     "execution_count": 71,
     "metadata": {},
     "output_type": "execute_result"
    }
   ],
   "source": [
    "name"
   ]
  },
  {
   "cell_type": "code",
   "execution_count": 72,
   "id": "a9906268",
   "metadata": {},
   "outputs": [
    {
     "data": {
      "text/plain": [
       "25"
      ]
     },
     "execution_count": 72,
     "metadata": {},
     "output_type": "execute_result"
    }
   ],
   "source": [
    "age"
   ]
  },
  {
   "cell_type": "code",
   "execution_count": 73,
   "id": "af4c0c9e",
   "metadata": {},
   "outputs": [
    {
     "data": {
      "text/plain": [
       "'Pune'"
      ]
     },
     "execution_count": 73,
     "metadata": {},
     "output_type": "execute_result"
    }
   ],
   "source": [
    "city"
   ]
  },
  {
   "cell_type": "code",
   "execution_count": 74,
   "id": "064e715d",
   "metadata": {},
   "outputs": [
    {
     "data": {
      "text/plain": [
       "55000"
      ]
     },
     "execution_count": 74,
     "metadata": {},
     "output_type": "execute_result"
    }
   ],
   "source": [
    "sal"
   ]
  },
  {
   "cell_type": "code",
   "execution_count": 75,
   "id": "94c8928e",
   "metadata": {},
   "outputs": [
    {
     "data": {
      "text/plain": [
       "('Surendra', 25, 'Pune', 55000)"
      ]
     },
     "execution_count": 75,
     "metadata": {},
     "output_type": "execute_result"
    }
   ],
   "source": [
    "emp_details"
   ]
  },
  {
   "cell_type": "code",
   "execution_count": 76,
   "id": "325aad7c",
   "metadata": {},
   "outputs": [
    {
     "ename": "ValueError",
     "evalue": "too many values to unpack (expected 3)",
     "output_type": "error",
     "traceback": [
      "\u001b[1;31m---------------------------------------------------------------------------\u001b[0m",
      "\u001b[1;31mValueError\u001b[0m                                Traceback (most recent call last)",
      "\u001b[1;32m~\\AppData\\Local\\Temp\\ipykernel_23880\\742368723.py\u001b[0m in \u001b[0;36m<module>\u001b[1;34m\u001b[0m\n\u001b[1;32m----> 1\u001b[1;33m \u001b[0ma\u001b[0m\u001b[1;33m,\u001b[0m\u001b[0mb\u001b[0m\u001b[1;33m,\u001b[0m\u001b[0mc\u001b[0m\u001b[1;33m=\u001b[0m\u001b[0memp_details\u001b[0m\u001b[1;33m\u001b[0m\u001b[1;33m\u001b[0m\u001b[0m\n\u001b[0m",
      "\u001b[1;31mValueError\u001b[0m: too many values to unpack (expected 3)"
     ]
    }
   ],
   "source": [
    "a,b,c=emp_details"
   ]
  },
  {
   "cell_type": "code",
   "execution_count": 77,
   "id": "0595c7a4",
   "metadata": {},
   "outputs": [
    {
     "ename": "ValueError",
     "evalue": "not enough values to unpack (expected 5, got 4)",
     "output_type": "error",
     "traceback": [
      "\u001b[1;31m---------------------------------------------------------------------------\u001b[0m",
      "\u001b[1;31mValueError\u001b[0m                                Traceback (most recent call last)",
      "\u001b[1;32m~\\AppData\\Local\\Temp\\ipykernel_23880\\190561736.py\u001b[0m in \u001b[0;36m<module>\u001b[1;34m\u001b[0m\n\u001b[1;32m----> 1\u001b[1;33m \u001b[0ma\u001b[0m\u001b[1;33m,\u001b[0m\u001b[0mb\u001b[0m\u001b[1;33m,\u001b[0m\u001b[0mc\u001b[0m\u001b[1;33m,\u001b[0m\u001b[0md\u001b[0m\u001b[1;33m,\u001b[0m\u001b[0me\u001b[0m\u001b[1;33m=\u001b[0m\u001b[0memp_details\u001b[0m\u001b[1;33m\u001b[0m\u001b[1;33m\u001b[0m\u001b[0m\n\u001b[0m",
      "\u001b[1;31mValueError\u001b[0m: not enough values to unpack (expected 5, got 4)"
     ]
    }
   ],
   "source": [
    "a,b,c,d,e=emp_details"
   ]
  },
  {
   "cell_type": "code",
   "execution_count": 78,
   "id": "8ba116f5",
   "metadata": {},
   "outputs": [],
   "source": [
    "a,b,c,d=emp_details"
   ]
  },
  {
   "cell_type": "code",
   "execution_count": 79,
   "id": "930641d8",
   "metadata": {},
   "outputs": [
    {
     "data": {
      "text/plain": [
       "('Surendra', 25, 'Pune', 55000)"
      ]
     },
     "execution_count": 79,
     "metadata": {},
     "output_type": "execute_result"
    }
   ],
   "source": [
    "emp_details"
   ]
  },
  {
   "cell_type": "code",
   "execution_count": 80,
   "id": "cfa764fe",
   "metadata": {},
   "outputs": [
    {
     "data": {
      "text/plain": [
       "'Surendra'"
      ]
     },
     "execution_count": 80,
     "metadata": {},
     "output_type": "execute_result"
    }
   ],
   "source": [
    "a"
   ]
  },
  {
   "cell_type": "code",
   "execution_count": 81,
   "id": "a953be3d",
   "metadata": {},
   "outputs": [
    {
     "data": {
      "text/plain": [
       "25"
      ]
     },
     "execution_count": 81,
     "metadata": {},
     "output_type": "execute_result"
    }
   ],
   "source": [
    "b"
   ]
  },
  {
   "cell_type": "code",
   "execution_count": 82,
   "id": "3f56c73c",
   "metadata": {},
   "outputs": [
    {
     "data": {
      "text/plain": [
       "'Pune'"
      ]
     },
     "execution_count": 82,
     "metadata": {},
     "output_type": "execute_result"
    }
   ],
   "source": [
    "c"
   ]
  },
  {
   "cell_type": "code",
   "execution_count": 83,
   "id": "940250b7",
   "metadata": {},
   "outputs": [
    {
     "data": {
      "text/plain": [
       "55000"
      ]
     },
     "execution_count": 83,
     "metadata": {},
     "output_type": "execute_result"
    }
   ],
   "source": [
    "d"
   ]
  },
  {
   "cell_type": "code",
   "execution_count": 84,
   "id": "9a84e686",
   "metadata": {},
   "outputs": [
    {
     "name": "stdout",
     "output_type": "stream",
     "text": [
      "5 <class 'int'>\n"
     ]
    }
   ],
   "source": [
    "a=5\n",
    "print(a,type(a))"
   ]
  },
  {
   "cell_type": "code",
   "execution_count": 85,
   "id": "5372e95f",
   "metadata": {},
   "outputs": [
    {
     "name": "stdout",
     "output_type": "stream",
     "text": [
      "(5, 5) <class 'tuple'>\n"
     ]
    }
   ],
   "source": [
    "a=5,5\n",
    "print(a,type(a))"
   ]
  },
  {
   "cell_type": "code",
   "execution_count": 87,
   "id": "796820be",
   "metadata": {},
   "outputs": [
    {
     "name": "stdout",
     "output_type": "stream",
     "text": [
      "(5,) <class 'tuple'>\n"
     ]
    }
   ],
   "source": [
    "a=5,\n",
    "print(a,type(a))"
   ]
  },
  {
   "cell_type": "code",
   "execution_count": 88,
   "id": "b577fa24",
   "metadata": {},
   "outputs": [],
   "source": [
    "lst=[10,20,30,40]"
   ]
  },
  {
   "cell_type": "code",
   "execution_count": 89,
   "id": "72cdd17e",
   "metadata": {},
   "outputs": [],
   "source": [
    "a=lst[0]\n",
    "b=lst[1]\n",
    "c=lst[2]\n",
    "d=lst[3]"
   ]
  },
  {
   "cell_type": "code",
   "execution_count": 91,
   "id": "349ba7b0",
   "metadata": {},
   "outputs": [
    {
     "data": {
      "text/plain": [
       "10"
      ]
     },
     "execution_count": 91,
     "metadata": {},
     "output_type": "execute_result"
    }
   ],
   "source": [
    "a"
   ]
  },
  {
   "cell_type": "code",
   "execution_count": 92,
   "id": "3f8c1e81",
   "metadata": {},
   "outputs": [
    {
     "data": {
      "text/plain": [
       "20"
      ]
     },
     "execution_count": 92,
     "metadata": {},
     "output_type": "execute_result"
    }
   ],
   "source": [
    "b"
   ]
  },
  {
   "cell_type": "code",
   "execution_count": 93,
   "id": "f14608f7",
   "metadata": {},
   "outputs": [
    {
     "data": {
      "text/plain": [
       "30"
      ]
     },
     "execution_count": 93,
     "metadata": {},
     "output_type": "execute_result"
    }
   ],
   "source": [
    "c"
   ]
  },
  {
   "cell_type": "code",
   "execution_count": 94,
   "id": "8f550c3d",
   "metadata": {},
   "outputs": [
    {
     "data": {
      "text/plain": [
       "40"
      ]
     },
     "execution_count": 94,
     "metadata": {},
     "output_type": "execute_result"
    }
   ],
   "source": [
    "d"
   ]
  },
  {
   "cell_type": "code",
   "execution_count": 95,
   "id": "31a8e596",
   "metadata": {},
   "outputs": [],
   "source": [
    "a,b,c,d=[10,20,30,40]"
   ]
  },
  {
   "cell_type": "code",
   "execution_count": 96,
   "id": "7ed40bdc",
   "metadata": {},
   "outputs": [
    {
     "data": {
      "text/plain": [
       "10"
      ]
     },
     "execution_count": 96,
     "metadata": {},
     "output_type": "execute_result"
    }
   ],
   "source": [
    "a"
   ]
  },
  {
   "cell_type": "code",
   "execution_count": 97,
   "id": "82daf6ef",
   "metadata": {},
   "outputs": [
    {
     "data": {
      "text/plain": [
       "20"
      ]
     },
     "execution_count": 97,
     "metadata": {},
     "output_type": "execute_result"
    }
   ],
   "source": [
    "b"
   ]
  },
  {
   "cell_type": "code",
   "execution_count": 98,
   "id": "4e3069f4",
   "metadata": {},
   "outputs": [
    {
     "data": {
      "text/plain": [
       "30"
      ]
     },
     "execution_count": 98,
     "metadata": {},
     "output_type": "execute_result"
    }
   ],
   "source": [
    "c"
   ]
  },
  {
   "cell_type": "code",
   "execution_count": 99,
   "id": "a1246011",
   "metadata": {},
   "outputs": [
    {
     "data": {
      "text/plain": [
       "40"
      ]
     },
     "execution_count": 99,
     "metadata": {},
     "output_type": "execute_result"
    }
   ],
   "source": [
    "d"
   ]
  },
  {
   "cell_type": "markdown",
   "id": "e01086ea",
   "metadata": {},
   "source": [
    "# Creating a tuple using loop"
   ]
  },
  {
   "cell_type": "code",
   "execution_count": 113,
   "id": "53d55022",
   "metadata": {},
   "outputs": [
    {
     "name": "stdout",
     "output_type": "stream",
     "text": [
      "(2,) 1881253817984\n",
      "(2, 4) 1881264166336\n",
      "(2, 4, 6) 1881256478912\n",
      "(2, 4, 6, 8) 1881265103632\n",
      "(2, 4, 6, 8, 10) 1881219496592\n",
      "(2, 4, 6, 8, 10, 12) 1881265068736\n",
      "(2, 4, 6, 8, 10, 12, 14) 1881263479104\n",
      "(2, 4, 6, 8, 10, 12, 14, 16) 1881220923168\n",
      "(2, 4, 6, 8, 10, 12, 14, 16, 18) 1881220922944\n",
      "(2, 4, 6, 8, 10, 12, 14, 16, 18, 20) 1881259230016\n"
     ]
    }
   ],
   "source": [
    "# Create a tuple of even numbers from 2 to 20\n",
    "\n",
    "t=()\n",
    "# print(t)\n",
    "\n",
    "for i in range(2,21,2):\n",
    "    t=t+(i,)\n",
    "    print(t,id(t))\n",
    "    \n",
    "# print(t)"
   ]
  },
  {
   "cell_type": "code",
   "execution_count": 105,
   "id": "32ce5d3d",
   "metadata": {},
   "outputs": [
    {
     "data": {
      "text/plain": [
       "(5, 6, 2, 2)"
      ]
     },
     "execution_count": 105,
     "metadata": {},
     "output_type": "execute_result"
    }
   ],
   "source": [
    "t=(5,6)\n",
    "t=t+(2,2)\n",
    "t"
   ]
  },
  {
   "cell_type": "code",
   "execution_count": 108,
   "id": "b05a2445",
   "metadata": {},
   "outputs": [
    {
     "data": {
      "text/plain": [
       "(5, 6, 2)"
      ]
     },
     "execution_count": 108,
     "metadata": {},
     "output_type": "execute_result"
    }
   ],
   "source": [
    "t=(5,6)\n",
    "t=t+(2,)\n",
    "t"
   ]
  },
  {
   "cell_type": "markdown",
   "id": "e5b5fcbc",
   "metadata": {},
   "source": [
    "# Tuple Methods"
   ]
  },
  {
   "cell_type": "code",
   "execution_count": 114,
   "id": "4f2056b0",
   "metadata": {},
   "outputs": [
    {
     "name": "stdout",
     "output_type": "stream",
     "text": [
      "['__add__', '__class__', '__class_getitem__', '__contains__', '__delattr__', '__dir__', '__doc__', '__eq__', '__format__', '__ge__', '__getattribute__', '__getitem__', '__getnewargs__', '__gt__', '__hash__', '__init__', '__init_subclass__', '__iter__', '__le__', '__len__', '__lt__', '__mul__', '__ne__', '__new__', '__reduce__', '__reduce_ex__', '__repr__', '__rmul__', '__setattr__', '__sizeof__', '__str__', '__subclasshook__', 'count', 'index']\n"
     ]
    }
   ],
   "source": [
    "print(dir(tuple))"
   ]
  },
  {
   "cell_type": "code",
   "execution_count": 115,
   "id": "aadef669",
   "metadata": {},
   "outputs": [],
   "source": [
    "# 'count', 'index'"
   ]
  },
  {
   "cell_type": "markdown",
   "id": "4987014c",
   "metadata": {},
   "source": [
    "# count\n",
    "- It counts the number of occurences of an element inside a tuple."
   ]
  },
  {
   "cell_type": "code",
   "execution_count": 121,
   "id": "80f564a3",
   "metadata": {},
   "outputs": [
    {
     "name": "stdout",
     "output_type": "stream",
     "text": [
      "2\n",
      "2\n",
      "2\n",
      "1\n",
      "0\n"
     ]
    }
   ],
   "source": [
    "t=(10,20,30,50,10,60,20,40,50,30,80)\n",
    "\n",
    "print(t.count(10))\n",
    "print(t.count(50))\n",
    "print(t.count(30))\n",
    "print(t.count(60))\n",
    "print(t.count(100))"
   ]
  },
  {
   "cell_type": "markdown",
   "id": "954d810d",
   "metadata": {},
   "source": [
    "# index\n",
    "- It returns the index of the first occurence from left to right.\n",
    "- If the element is not found then it throws value error."
   ]
  },
  {
   "cell_type": "code",
   "execution_count": 124,
   "id": "98937c05",
   "metadata": {},
   "outputs": [],
   "source": [
    "# t.index(element)\n",
    "# t.index(element,start_index)\n",
    "# t.index(element,start_index,stop_index)"
   ]
  },
  {
   "cell_type": "code",
   "execution_count": 2,
   "id": "6b0158c2",
   "metadata": {},
   "outputs": [
    {
     "name": "stdout",
     "output_type": "stream",
     "text": [
      "1\n",
      "6\n",
      "9\n"
     ]
    },
    {
     "ename": "ValueError",
     "evalue": "tuple.index(x): x not in tuple",
     "output_type": "error",
     "traceback": [
      "\u001b[1;31m---------------------------------------------------------------------------\u001b[0m",
      "\u001b[1;31mValueError\u001b[0m                                Traceback (most recent call last)",
      "\u001b[1;32m~\\AppData\\Local\\Temp\\ipykernel_21880\\1646274070.py\u001b[0m in \u001b[0;36m<module>\u001b[1;34m\u001b[0m\n\u001b[0;32m      4\u001b[0m \u001b[0mprint\u001b[0m\u001b[1;33m(\u001b[0m\u001b[0mt\u001b[0m\u001b[1;33m.\u001b[0m\u001b[0mindex\u001b[0m\u001b[1;33m(\u001b[0m\u001b[1;36m20\u001b[0m\u001b[1;33m,\u001b[0m\u001b[1;36m2\u001b[0m\u001b[1;33m)\u001b[0m\u001b[1;33m)\u001b[0m\u001b[1;33m\u001b[0m\u001b[1;33m\u001b[0m\u001b[0m\n\u001b[0;32m      5\u001b[0m \u001b[0mprint\u001b[0m\u001b[1;33m(\u001b[0m\u001b[0mt\u001b[0m\u001b[1;33m.\u001b[0m\u001b[0mindex\u001b[0m\u001b[1;33m(\u001b[0m\u001b[1;36m30\u001b[0m\u001b[1;33m,\u001b[0m\u001b[1;36m4\u001b[0m\u001b[1;33m,\u001b[0m\u001b[1;36m15\u001b[0m\u001b[1;33m)\u001b[0m\u001b[1;33m)\u001b[0m\u001b[1;33m\u001b[0m\u001b[1;33m\u001b[0m\u001b[0m\n\u001b[1;32m----> 6\u001b[1;33m \u001b[0mprint\u001b[0m\u001b[1;33m(\u001b[0m\u001b[0mt\u001b[0m\u001b[1;33m.\u001b[0m\u001b[0mindex\u001b[0m\u001b[1;33m(\u001b[0m\u001b[1;36m90\u001b[0m\u001b[1;33m)\u001b[0m\u001b[1;33m)\u001b[0m\u001b[1;33m\u001b[0m\u001b[1;33m\u001b[0m\u001b[0m\n\u001b[0m",
      "\u001b[1;31mValueError\u001b[0m: tuple.index(x): x not in tuple"
     ]
    }
   ],
   "source": [
    "t=(10,20,30,50,10,60,20,40,50,30,80)\n",
    "\n",
    "print(t.index(20))\n",
    "print(t.index(20,2))\n",
    "0\n",
    "print(t.index(90))"
   ]
  },
  {
   "cell_type": "markdown",
   "id": "e0eb8127",
   "metadata": {},
   "source": [
    "# Dictionary"
   ]
  },
  {
   "cell_type": "markdown",
   "id": "881ff255",
   "metadata": {},
   "source": [
    "- A dictionary is a collection of key:value pairs kept inside the {}\n",
    "- Each key:value pair is known as an element or item of a dictionary.\n",
    "- Keys should not be duplicated  whereas values can be duplicated.\n",
    "- If we have duplicate keys then the key is updated with the latest value."
   ]
  },
  {
   "cell_type": "code",
   "execution_count": 128,
   "id": "91dde608",
   "metadata": {},
   "outputs": [
    {
     "name": "stdout",
     "output_type": "stream",
     "text": [
      "{1: 100, 2: 200, 3: 300, 4: 400} <class 'dict'>\n"
     ]
    }
   ],
   "source": [
    "d={1:100,2:200,3:300,4:400}\n",
    "print(d,type(d))"
   ]
  },
  {
   "cell_type": "code",
   "execution_count": 130,
   "id": "49b69074",
   "metadata": {},
   "outputs": [
    {
     "name": "stdout",
     "output_type": "stream",
     "text": [
      "{1: 400, 2: None, 3: 300}\n"
     ]
    }
   ],
   "source": [
    "d={1:100,2:200,3:300,1:400,2:None}\n",
    "print(d)"
   ]
  },
  {
   "cell_type": "code",
   "execution_count": 131,
   "id": "aa931da2",
   "metadata": {},
   "outputs": [
    {
     "name": "stdout",
     "output_type": "stream",
     "text": [
      "{1: 100, 2: 100, 3: 100, 4: 100} <class 'dict'>\n"
     ]
    }
   ],
   "source": [
    "d={1:100,2:100,3:100,4:100}\n",
    "print(d,type(d))"
   ]
  },
  {
   "cell_type": "markdown",
   "id": "0452e9c2",
   "metadata": {},
   "source": [
    "- A dictionary is a container that can contain multiple elements.\n",
    "- A doctionary is not an ordered collection of data because it does not follow the indexing  method.\n",
    "- In a dictionary values are mapped to keys and we can access any value by using the key.\n",
    "- It is also called no sequence because indexing is not applicable.\n",
    "- On a dictionary we can apply length operation.\n",
    "- **Note-** Concatenation, Repetition , Indexing and slicing are not applicable."
   ]
  },
  {
   "cell_type": "code",
   "execution_count": 133,
   "id": "10559125",
   "metadata": {},
   "outputs": [
    {
     "name": "stdout",
     "output_type": "stream",
     "text": [
      "{'Name': 'Pooja', 'Age': 22, 'ID': 101, 'City': 'Dehradun', 'Company': 'Infosys'}\n"
     ]
    }
   ],
   "source": [
    "emp={'Name':'Pooja','Age':22,'ID':101,'City':'Dehradun','Company':'Infosys'}\n",
    "print(emp)"
   ]
  },
  {
   "cell_type": "code",
   "execution_count": 134,
   "id": "7aa39277",
   "metadata": {},
   "outputs": [
    {
     "ename": "KeyError",
     "evalue": "0",
     "output_type": "error",
     "traceback": [
      "\u001b[1;31m---------------------------------------------------------------------------\u001b[0m",
      "\u001b[1;31mKeyError\u001b[0m                                  Traceback (most recent call last)",
      "\u001b[1;32m~\\AppData\\Local\\Temp\\ipykernel_23880\\1005988157.py\u001b[0m in \u001b[0;36m<module>\u001b[1;34m\u001b[0m\n\u001b[1;32m----> 1\u001b[1;33m \u001b[0memp\u001b[0m\u001b[1;33m[\u001b[0m\u001b[1;36m0\u001b[0m\u001b[1;33m]\u001b[0m\u001b[1;33m\u001b[0m\u001b[1;33m\u001b[0m\u001b[0m\n\u001b[0m",
      "\u001b[1;31mKeyError\u001b[0m: 0"
     ]
    }
   ],
   "source": [
    "emp[0]"
   ]
  },
  {
   "cell_type": "markdown",
   "id": "b700fa08",
   "metadata": {},
   "source": [
    "# How to access a value on the basis of keys"
   ]
  },
  {
   "cell_type": "code",
   "execution_count": 136,
   "id": "ad5f3e0c",
   "metadata": {},
   "outputs": [],
   "source": [
    "# d[key]\n",
    "# - For any invalid key it raises key error"
   ]
  },
  {
   "cell_type": "code",
   "execution_count": 137,
   "id": "6132529f",
   "metadata": {},
   "outputs": [
    {
     "name": "stdout",
     "output_type": "stream",
     "text": [
      "{'Name': 'Pooja', 'Age': 22, 'ID': 101, 'City': 'Dehradun', 'Company': 'Infosys'}\n"
     ]
    }
   ],
   "source": [
    "emp={'Name':'Pooja','Age':22,'ID':101,'City':'Dehradun','Company':'Infosys'}\n",
    "print(emp)"
   ]
  },
  {
   "cell_type": "code",
   "execution_count": 140,
   "id": "b4fccadc",
   "metadata": {},
   "outputs": [
    {
     "name": "stdout",
     "output_type": "stream",
     "text": [
      "Pooja\n"
     ]
    }
   ],
   "source": [
    "print(emp['Name'])"
   ]
  },
  {
   "cell_type": "code",
   "execution_count": 141,
   "id": "70fa7245",
   "metadata": {},
   "outputs": [
    {
     "data": {
      "text/plain": [
       "'Dehradun'"
      ]
     },
     "execution_count": 141,
     "metadata": {},
     "output_type": "execute_result"
    }
   ],
   "source": [
    "emp['City']"
   ]
  },
  {
   "cell_type": "code",
   "execution_count": 144,
   "id": "20e58bf9",
   "metadata": {},
   "outputs": [
    {
     "data": {
      "text/plain": [
       "22"
      ]
     },
     "execution_count": 144,
     "metadata": {},
     "output_type": "execute_result"
    }
   ],
   "source": [
    "emp['Age']"
   ]
  },
  {
   "cell_type": "code",
   "execution_count": 145,
   "id": "5249ce68",
   "metadata": {},
   "outputs": [
    {
     "data": {
      "text/plain": [
       "'Infosys'"
      ]
     },
     "execution_count": 145,
     "metadata": {},
     "output_type": "execute_result"
    }
   ],
   "source": [
    "emp['Company']"
   ]
  },
  {
   "cell_type": "code",
   "execution_count": 146,
   "id": "3a5cdb66",
   "metadata": {},
   "outputs": [
    {
     "ename": "TypeError",
     "evalue": "unsupported operand type(s) for +: 'dict' and 'dict'",
     "output_type": "error",
     "traceback": [
      "\u001b[1;31m---------------------------------------------------------------------------\u001b[0m",
      "\u001b[1;31mTypeError\u001b[0m                                 Traceback (most recent call last)",
      "\u001b[1;32m~\\AppData\\Local\\Temp\\ipykernel_23880\\3753803016.py\u001b[0m in \u001b[0;36m<module>\u001b[1;34m\u001b[0m\n\u001b[1;32m----> 1\u001b[1;33m \u001b[1;33m{\u001b[0m\u001b[1;36m1\u001b[0m\u001b[1;33m:\u001b[0m\u001b[1;36m100\u001b[0m\u001b[1;33m,\u001b[0m\u001b[1;36m2\u001b[0m\u001b[1;33m:\u001b[0m\u001b[1;36m200\u001b[0m\u001b[1;33m}\u001b[0m\u001b[1;33m+\u001b[0m\u001b[1;33m{\u001b[0m\u001b[1;36m3\u001b[0m\u001b[1;33m:\u001b[0m\u001b[1;36m300\u001b[0m\u001b[1;33m,\u001b[0m\u001b[1;36m4\u001b[0m\u001b[1;33m:\u001b[0m\u001b[1;36m400\u001b[0m\u001b[1;33m}\u001b[0m\u001b[1;33m\u001b[0m\u001b[1;33m\u001b[0m\u001b[0m\n\u001b[0m",
      "\u001b[1;31mTypeError\u001b[0m: unsupported operand type(s) for +: 'dict' and 'dict'"
     ]
    }
   ],
   "source": [
    "{1:100,2:200}+{3:300,4:400}"
   ]
  },
  {
   "cell_type": "code",
   "execution_count": 147,
   "id": "737bd4db",
   "metadata": {},
   "outputs": [
    {
     "ename": "TypeError",
     "evalue": "unsupported operand type(s) for *: 'dict' and 'int'",
     "output_type": "error",
     "traceback": [
      "\u001b[1;31m---------------------------------------------------------------------------\u001b[0m",
      "\u001b[1;31mTypeError\u001b[0m                                 Traceback (most recent call last)",
      "\u001b[1;32m~\\AppData\\Local\\Temp\\ipykernel_23880\\38241111.py\u001b[0m in \u001b[0;36m<module>\u001b[1;34m\u001b[0m\n\u001b[1;32m----> 1\u001b[1;33m \u001b[1;33m{\u001b[0m\u001b[1;36m1\u001b[0m\u001b[1;33m:\u001b[0m\u001b[1;36m100\u001b[0m\u001b[1;33m,\u001b[0m\u001b[1;36m2\u001b[0m\u001b[1;33m:\u001b[0m\u001b[1;36m200\u001b[0m\u001b[1;33m}\u001b[0m\u001b[1;33m*\u001b[0m\u001b[1;36m3\u001b[0m\u001b[1;33m\u001b[0m\u001b[1;33m\u001b[0m\u001b[0m\n\u001b[0m",
      "\u001b[1;31mTypeError\u001b[0m: unsupported operand type(s) for *: 'dict' and 'int'"
     ]
    }
   ],
   "source": [
    "{1:100,2:200}*3"
   ]
  },
  {
   "cell_type": "code",
   "execution_count": 148,
   "id": "ab8ff313",
   "metadata": {},
   "outputs": [
    {
     "data": {
      "text/plain": [
       "{'Name': 'Pooja',\n",
       " 'Age': 22,\n",
       " 'ID': 101,\n",
       " 'City': 'Dehradun',\n",
       " 'Company': 'Infosys'}"
      ]
     },
     "execution_count": 148,
     "metadata": {},
     "output_type": "execute_result"
    }
   ],
   "source": [
    "emp"
   ]
  },
  {
   "cell_type": "code",
   "execution_count": 149,
   "id": "24931a58",
   "metadata": {},
   "outputs": [
    {
     "data": {
      "text/plain": [
       "5"
      ]
     },
     "execution_count": 149,
     "metadata": {},
     "output_type": "execute_result"
    }
   ],
   "source": [
    "len(emp)"
   ]
  },
  {
   "cell_type": "markdown",
   "id": "7b670216",
   "metadata": {},
   "source": [
    "# How to create a dictionary"
   ]
  },
  {
   "cell_type": "markdown",
   "id": "22f5263d",
   "metadata": {},
   "source": [
    "# Case_1\n",
    "- When we already know the elements"
   ]
  },
  {
   "cell_type": "code",
   "execution_count": 151,
   "id": "ad82db4f",
   "metadata": {},
   "outputs": [
    {
     "name": "stdout",
     "output_type": "stream",
     "text": [
      "{'Name': 'Surendra', 'ID': None, 'City': 'Pune', 'Company': 'TCS'} <class 'dict'>\n"
     ]
    }
   ],
   "source": [
    "emp={'Name':'Surendra','ID':None,'City':'Pune','Company':'TCS'}\n",
    "print(emp,type(emp))"
   ]
  },
  {
   "cell_type": "markdown",
   "id": "77845802",
   "metadata": {},
   "source": [
    "# Case_2\n",
    "- Using dict()"
   ]
  },
  {
   "cell_type": "code",
   "execution_count": 152,
   "id": "06143c17",
   "metadata": {},
   "outputs": [],
   "source": [
    "# dict(iterable)"
   ]
  },
  {
   "cell_type": "markdown",
   "id": "9b04504f",
   "metadata": {},
   "source": [
    "- The iterable that we pass inside the dict() should have one more iterable inside it.\n",
    "- The inner iterable should have two elements. The first element becomes the key and the second element becomes the value in the dictionary."
   ]
  },
  {
   "cell_type": "code",
   "execution_count": 153,
   "id": "ced22d85",
   "metadata": {},
   "outputs": [],
   "source": [
    "# list of lists\n",
    "# list of tuples\n",
    "# tuple of llists\n",
    "# tuple of tuples"
   ]
  },
  {
   "cell_type": "code",
   "execution_count": 164,
   "id": "0eb37e5d",
   "metadata": {},
   "outputs": [
    {
     "name": "stdout",
     "output_type": "stream",
     "text": [
      "{'Name': 'Sairam', 'Age': 22}\n",
      "{'Name': 'Sairam', 'Age': 22}\n"
     ]
    }
   ],
   "source": [
    "# {'Name':'Sairam','Age':22}\n",
    "\n",
    "print(dict([['Name','Sairam'],['Age',22]]))\n",
    "print(dict([('Name','Sairam'),('Age',22)]))"
   ]
  },
  {
   "cell_type": "code",
   "execution_count": 159,
   "id": "6c254691",
   "metadata": {},
   "outputs": [],
   "source": [
    "# dict(['abc'])"
   ]
  },
  {
   "cell_type": "code",
   "execution_count": 170,
   "id": "3ee90586",
   "metadata": {},
   "outputs": [
    {
     "data": {
      "text/plain": [
       "{'Name': 'Sairam', 'Age': 22}"
      ]
     },
     "execution_count": 170,
     "metadata": {},
     "output_type": "execute_result"
    }
   ],
   "source": [
    "# {'Name':'Sairam'}\n",
    "\n",
    "dict((['Name','Sairam'],('Age',22)))"
   ]
  },
  {
   "cell_type": "code",
   "execution_count": 175,
   "id": "7ceae702",
   "metadata": {},
   "outputs": [
    {
     "data": {
      "text/plain": [
       "{'Name': 'Sairam', 'Age': 22}"
      ]
     },
     "execution_count": 175,
     "metadata": {},
     "output_type": "execute_result"
    }
   ],
   "source": [
    "dict((('Name','Sairam'),('Age',22)))"
   ]
  },
  {
   "cell_type": "markdown",
   "id": "d9957a3e",
   "metadata": {},
   "source": [
    "# By using enumerate() inside the dict()"
   ]
  },
  {
   "cell_type": "markdown",
   "id": "b3b7d8ce",
   "metadata": {},
   "source": [
    "# enumerate()\n",
    "- It takes an iterable as an argument.\n",
    "- It returns an enumerate object.\n",
    "- To fetch the values from an enumerate object we can pass it to the list(), tuple() or dict().\n",
    "- It maps the elements of the iterable one by one from 0 to len(iterable)-1."
   ]
  },
  {
   "cell_type": "code",
   "execution_count": 179,
   "id": "3dcb55da",
   "metadata": {},
   "outputs": [
    {
     "name": "stdout",
     "output_type": "stream",
     "text": [
      "<enumerate object at 0x000001B60392C540>\n",
      "[(0, 'P'), (1, 'y'), (2, 't'), (3, 'h'), (4, 'o'), (5, 'n')]\n"
     ]
    }
   ],
   "source": [
    "a='Python'\n",
    "e=enumerate(a)\n",
    "print(e)\n",
    "print(list(e))\n"
   ]
  },
  {
   "cell_type": "code",
   "execution_count": 180,
   "id": "084fc917",
   "metadata": {},
   "outputs": [
    {
     "name": "stdout",
     "output_type": "stream",
     "text": [
      "<enumerate object at 0x000001B60398DD00>\n",
      "((0, 'P'), (1, 'y'), (2, 't'), (3, 'h'), (4, 'o'), (5, 'n'))\n"
     ]
    }
   ],
   "source": [
    "a='Python'\n",
    "e=enumerate(a)\n",
    "print(e)\n",
    "\n",
    "print(tuple(e))"
   ]
  },
  {
   "cell_type": "code",
   "execution_count": 181,
   "id": "06a6d396",
   "metadata": {},
   "outputs": [
    {
     "name": "stdout",
     "output_type": "stream",
     "text": [
      "1881256025344\n"
     ]
    }
   ],
   "source": [
    "print(id(e))"
   ]
  },
  {
   "cell_type": "code",
   "execution_count": 183,
   "id": "cb8b7c40",
   "metadata": {},
   "outputs": [
    {
     "data": {
      "text/plain": [
       "1881256025344"
      ]
     },
     "execution_count": 183,
     "metadata": {},
     "output_type": "execute_result"
    }
   ],
   "source": [
    "int(0x000001B60398DD00)"
   ]
  },
  {
   "cell_type": "code",
   "execution_count": 185,
   "id": "014e375e",
   "metadata": {},
   "outputs": [
    {
     "name": "stdout",
     "output_type": "stream",
     "text": [
      "<enumerate object at 0x000001B603991840>\n"
     ]
    },
    {
     "data": {
      "text/plain": [
       "{0: 'P', 1: 'y', 2: 't', 3: 'h', 4: 'o', 5: 'n'}"
      ]
     },
     "execution_count": 185,
     "metadata": {},
     "output_type": "execute_result"
    }
   ],
   "source": [
    "a='Python'\n",
    "e=enumerate(a)\n",
    "print(e)\n",
    "\n",
    "dict(e)"
   ]
  },
  {
   "cell_type": "code",
   "execution_count": 188,
   "id": "558018c4",
   "metadata": {},
   "outputs": [
    {
     "data": {
      "text/plain": [
       "{0: True, 1: 'Python', 2: 10, 3: (1, 2, 3, 4, 5), 4: False, 5: None}"
      ]
     },
     "execution_count": 188,
     "metadata": {},
     "output_type": "execute_result"
    }
   ],
   "source": [
    "# Create a dictionary where the indexes of the list are the keys and the elements of the list are the values\n",
    "# Output- {0:True, 1:'Python',2:10,3:(1,2,3),4:False,5:None}\n",
    "\n",
    "lst=[True, 'Python', 10, (1,2,3,4,5), False, None]\n",
    "\n",
    "dict(enumerate(lst))"
   ]
  },
  {
   "cell_type": "markdown",
   "id": "68d79801",
   "metadata": {},
   "source": [
    "# zip()"
   ]
  },
  {
   "cell_type": "markdown",
   "id": "f2e78c3e",
   "metadata": {},
   "source": [
    "- It takes two or more iterables as arguments.\n",
    "- It maps the all the elements of all the iterables one by one sequence and returns a zip object.\n",
    "- To fetch the values we can pass the zip object to list(), tuple(), dict()\n",
    "- **Note-** While creating a dictionary the zip() should have only two iterables. "
   ]
  },
  {
   "cell_type": "code",
   "execution_count": 191,
   "id": "cb2b1944",
   "metadata": {},
   "outputs": [
    {
     "data": {
      "text/plain": [
       "[('a', 10), ('b', 20), ('c', 30), ('d', 40), ('e', 50)]"
      ]
     },
     "execution_count": 191,
     "metadata": {},
     "output_type": "execute_result"
    }
   ],
   "source": [
    "a='abcde'\n",
    "lst=[10,20,30,40,50]\n",
    "\n",
    "z=zip(a,lst)\n",
    "z\n",
    "list(z)"
   ]
  },
  {
   "cell_type": "code",
   "execution_count": 192,
   "id": "953c57c7",
   "metadata": {},
   "outputs": [
    {
     "data": {
      "text/plain": [
       "(('a', 10), ('b', 20), ('c', 30), ('d', 40), ('e', 50))"
      ]
     },
     "execution_count": 192,
     "metadata": {},
     "output_type": "execute_result"
    }
   ],
   "source": [
    "a='abcde'\n",
    "lst=[10,20,30,40,50]\n",
    "\n",
    "z=zip(a,lst)\n",
    "z\n",
    "tuple(z)"
   ]
  },
  {
   "cell_type": "code",
   "execution_count": 193,
   "id": "7b93279f",
   "metadata": {},
   "outputs": [
    {
     "data": {
      "text/plain": [
       "{'a': 10, 'b': 20, 'c': 30, 'd': 40, 'e': 50}"
      ]
     },
     "execution_count": 193,
     "metadata": {},
     "output_type": "execute_result"
    }
   ],
   "source": [
    "a='abcde'\n",
    "lst=[10,20,30,40,50]\n",
    "\n",
    "z=zip(a,lst)\n",
    "z\n",
    "dict(z)"
   ]
  },
  {
   "cell_type": "code",
   "execution_count": 194,
   "id": "ca6697e3",
   "metadata": {},
   "outputs": [
    {
     "data": {
      "text/plain": [
       "[('a', 10), ('b', 20), ('c', 30), ('d', 40)]"
      ]
     },
     "execution_count": 194,
     "metadata": {},
     "output_type": "execute_result"
    }
   ],
   "source": [
    "a='abcde'\n",
    "lst=[10,20,30,40]\n",
    "\n",
    "z=zip(a,lst)\n",
    "z\n",
    "list(z)"
   ]
  },
  {
   "cell_type": "code",
   "execution_count": 195,
   "id": "85c41812",
   "metadata": {},
   "outputs": [
    {
     "data": {
      "text/plain": [
       "[('a', 10), ('b', 20)]"
      ]
     },
     "execution_count": 195,
     "metadata": {},
     "output_type": "execute_result"
    }
   ],
   "source": [
    "a='ab'\n",
    "lst=[10,20,30,40,50]\n",
    "\n",
    "z=zip(a,lst)\n",
    "z\n",
    "list(z)"
   ]
  },
  {
   "cell_type": "code",
   "execution_count": 199,
   "id": "290fb022",
   "metadata": {},
   "outputs": [
    {
     "data": {
      "text/plain": [
       "[('a', 10, 1000, 'Pragya'),\n",
       " ('b', 20, 2000, 'Sairam'),\n",
       " ('c', 30, 3000, 'Surendra'),\n",
       " ('d', 40, 4000, 'Priya')]"
      ]
     },
     "execution_count": 199,
     "metadata": {},
     "output_type": "execute_result"
    }
   ],
   "source": [
    "a='abcd'\n",
    "b=[10,20,30,40]\n",
    "c=(1000,2000,3000,4000)\n",
    "d=['Pragya','Sairam','Surendra','Priya']\n",
    "list(zip(a,b,c,d))"
   ]
  },
  {
   "cell_type": "code",
   "execution_count": 200,
   "id": "a5471bca",
   "metadata": {},
   "outputs": [
    {
     "data": {
      "text/plain": [
       "(('a', 10, 1000, 'Pragya'),\n",
       " ('b', 20, 2000, 'Sairam'),\n",
       " ('c', 30, 3000, 'Surendra'),\n",
       " ('d', 40, 4000, 'Priya'))"
      ]
     },
     "execution_count": 200,
     "metadata": {},
     "output_type": "execute_result"
    }
   ],
   "source": [
    "a='abcd'\n",
    "b=[10,20,30,40]\n",
    "c=(1000,2000,3000,4000)\n",
    "d=['Pragya','Sairam','Surendra','Priya']\n",
    "tuple(zip(a,b,c,d))"
   ]
  },
  {
   "cell_type": "code",
   "execution_count": 202,
   "id": "1f240fc7",
   "metadata": {},
   "outputs": [
    {
     "data": {
      "text/plain": [
       "{'a': 'Pragya', 'b': 'Sairam', 'c': 'Surendra', 'd': 'Priya'}"
      ]
     },
     "execution_count": 202,
     "metadata": {},
     "output_type": "execute_result"
    }
   ],
   "source": [
    "a='abcd'\n",
    "d=['Pragya','Sairam','Surendra','Priya']\n",
    "dict(zip(a,d))"
   ]
  },
  {
   "cell_type": "code",
   "execution_count": 207,
   "id": "a3130120",
   "metadata": {},
   "outputs": [
    {
     "name": "stdout",
     "output_type": "stream",
     "text": [
      "{'India': 'Delhi', 'China': 'Beijing', 'Vietnam': 'Hanoi', 'Indonesia': 'Jakarta', 'UK': 'London'}\n"
     ]
    }
   ],
   "source": [
    "# Create a dictionary where countries are the keys and their capitals are the values\n",
    "\n",
    "countries=['India','China','Vietnam','Indonesia','UK']\n",
    "capitals=[\"Delhi\",'Beijing','Hanoi','Jakarta','London']\n",
    "\n",
    "d=dict(zip(countries,capitals))\n",
    "print(d)"
   ]
  },
  {
   "cell_type": "code",
   "execution_count": 211,
   "id": "6457546e",
   "metadata": {},
   "outputs": [
    {
     "data": {
      "text/plain": [
       "{1: 'Tejasvi', 2: 'Vishnu', 3: 'Santosh', 4: 'Aniket'}"
      ]
     },
     "execution_count": 211,
     "metadata": {},
     "output_type": "execute_result"
    }
   ],
   "source": [
    "names=[\"Tejasvi\",'Vishnu','Santosh','Aniket']\n",
    "ranks=[1,2,3,4]\n",
    "\n",
    "# Rank should be the keys and names should be the values\n",
    "\n",
    "dict(zip(ranks,names))"
   ]
  },
  {
   "cell_type": "markdown",
   "id": "1d56b6c9",
   "metadata": {},
   "source": [
    "# By taking the input from the user"
   ]
  },
  {
   "cell_type": "code",
   "execution_count": null,
   "id": "a55c7e4f",
   "metadata": {},
   "outputs": [],
   "source": []
  }
 ],
 "metadata": {
  "kernelspec": {
   "display_name": "Python 3 (ipykernel)",
   "language": "python",
   "name": "python3"
  },
  "language_info": {
   "codemirror_mode": {
    "name": "ipython",
    "version": 3
   },
   "file_extension": ".py",
   "mimetype": "text/x-python",
   "name": "python",
   "nbconvert_exporter": "python",
   "pygments_lexer": "ipython3",
   "version": "3.9.13"
  }
 },
 "nbformat": 4,
 "nbformat_minor": 5
}
