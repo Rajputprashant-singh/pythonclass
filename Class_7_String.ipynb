{
 "cells": [
  {
   "cell_type": "markdown",
   "id": "88f4d901",
   "metadata": {},
   "source": [
    "# Slicing of a string"
   ]
  },
  {
   "cell_type": "markdown",
   "id": "db0f18ba",
   "metadata": {},
   "source": [
    "- Fetching a substring from a string is known as slicing."
   ]
  },
  {
   "cell_type": "code",
   "execution_count": 1,
   "id": "ac456e4e",
   "metadata": {},
   "outputs": [],
   "source": [
    "# Syntax- my_str[start_index:stop_index:step_size]\n",
    "# stop_index is excluded\n",
    "# Stepsize is 1 by default"
   ]
  },
  {
   "cell_type": "code",
   "execution_count": 4,
   "id": "1e811496",
   "metadata": {},
   "outputs": [
    {
     "name": "stdout",
     "output_type": "stream",
     "text": [
      "Pyt\n",
      "Pyt\n",
      "Pto\n",
      "hty\n",
      ".nohtyP\n",
      ".nohtyP\n"
     ]
    }
   ],
   "source": [
    "my_str='Python.'\n",
    "\n",
    "# Fetch Pyt from the above string\n",
    "print(my_str[0:3:1]) #[0,1,2]\n",
    "print(my_str[0:3])\n",
    "\n",
    "# Fetch Pto\n",
    "print(my_str[0:5:2]) #[0,2,4]\n",
    "\n",
    "# Fetch hty [3,2,1]\n",
    "\n",
    "print(my_str[3:0:-1]) #[3,2,1]\n",
    "\n",
    "# Reverse the string [-1,-2,-3,-4,-5,-6]-7\n",
    "\n",
    "print(my_str[-1:-8:-1])\n",
    "print(my_str[-1:-(len(my_str)+1):-1])"
   ]
  },
  {
   "cell_type": "markdown",
   "id": "ac3516cc",
   "metadata": {},
   "source": [
    "# When the step is +ive"
   ]
  },
  {
   "cell_type": "code",
   "execution_count": 22,
   "id": "279dd213",
   "metadata": {},
   "outputs": [],
   "source": [
    "# The strat is 0 by default\n",
    "# The stop is the len(my_str) by default"
   ]
  },
  {
   "cell_type": "code",
   "execution_count": 30,
   "id": "df2fe6cf",
   "metadata": {},
   "outputs": [
    {
     "name": "stdout",
     "output_type": "stream",
     "text": [
      "Python\n",
      "Python\n",
      "Pythonclass\n",
      "Pythonclass\n",
      "Pythonclass\n",
      "Pythonclass\n"
     ]
    }
   ],
   "source": [
    "my_str='Pythonclass'\n",
    "\n",
    "# Python\n",
    "print(my_str[0:6:1])\n",
    "print(my_str[0:6])\n",
    "print(my_str[0:len(my_str)])\n",
    "print(my_str[:len(my_str)])\n",
    "print(my_str[0::])\n",
    "print(my_str[::]) # my_str[0:len(my_str):1]"
   ]
  },
  {
   "cell_type": "code",
   "execution_count": 36,
   "id": "f1c3e770",
   "metadata": {},
   "outputs": [
    {
     "name": "stdout",
     "output_type": "stream",
     "text": [
      "Ptocas\n",
      "Ptocas\n"
     ]
    }
   ],
   "source": [
    "my_str='Pythonclass'\n",
    "\n",
    "# Get the every alternate chracter from the above string\n",
    "# Output- Ptocas\n",
    "\n",
    "print(my_str[0:len(my_str):2])\n",
    "print(my_str[::2])"
   ]
  },
  {
   "cell_type": "markdown",
   "id": "2c3ede40",
   "metadata": {},
   "source": [
    "# When the step is -ive "
   ]
  },
  {
   "cell_type": "code",
   "execution_count": 37,
   "id": "e0da0070",
   "metadata": {},
   "outputs": [],
   "source": [
    "# The start is -1 by default\n",
    "# The stop is -len(my_str)-1 by default"
   ]
  },
  {
   "cell_type": "code",
   "execution_count": 63,
   "id": "a301782d",
   "metadata": {},
   "outputs": [
    {
     "name": "stdout",
     "output_type": "stream",
     "text": [
      "P\n",
      "nohtyP\n",
      "nohtyP\n",
      "nohtyP\n",
      "nohtyP\n",
      "nohtyP\n",
      "Python\n"
     ]
    }
   ],
   "source": [
    "my_str='Python' # Negative indexes- [-1,-2,-3,-4,-5,-6]-7\n",
    "print(my_str[-6])\n",
    "print(my_str[-1:-7:-1])\n",
    "print(my_str[-1:-len(my_str)-1:-1])\n",
    "print(my_str[:-len(my_str)-1:-1])\n",
    "print(my_str[-1::-1])\n",
    "print(my_str[::-1])\n",
    "\n",
    "# Get every alternate element in the reverse direction\n",
    "# Output- nhy [-1,-3,-5]\n",
    "\n",
    "print(my_str[::1])"
   ]
  },
  {
   "cell_type": "code",
   "execution_count": 43,
   "id": "6f702a86",
   "metadata": {},
   "outputs": [
    {
     "data": {
      "text/plain": [
       "-7"
      ]
     },
     "execution_count": 43,
     "metadata": {},
     "output_type": "execute_result"
    }
   ],
   "source": [
    "-len(my_str)-1"
   ]
  },
  {
   "cell_type": "code",
   "execution_count": 70,
   "id": "5320413a",
   "metadata": {},
   "outputs": [
    {
     "name": "stdout",
     "output_type": "stream",
     "text": [
      "ello P\n",
      "loP\n",
      "Hello\n",
      "Hello Python\n",
      "Hello Python\n"
     ]
    }
   ],
   "source": [
    "my_str='Hello Python'\n",
    "# my_str[start:stop:step]\n",
    "print(my_str[1:7:]) # index- [1,2,3,4,5,6]\n",
    "print(my_str[2:7:2]) # index- [2,4,6]\n",
    "print(my_str[:5]) # index- [0,1,2,3,4]\n",
    "print(my_str[0:len(my_str)])\n",
    "print(my_str[::])"
   ]
  },
  {
   "cell_type": "code",
   "execution_count": 82,
   "id": "f1204d1a",
   "metadata": {},
   "outputs": [
    {
     "name": "stdout",
     "output_type": "stream",
     "text": [
      "nohtyP \n",
      "nohtyP olle\n",
      "nohtyP olleH\n",
      "nohtyP olleH\n",
      "nohtyP olleH\n"
     ]
    }
   ],
   "source": [
    "my_str='Hello Python' #Negative indexes- [-1,-2,-3,-4,-5,-6,-7,-8,-9,-10,-11,-12]\n",
    "\n",
    "print(my_str[-1:-8:-1]) #[-1,-2,-3,-4,-5,-6-7]\n",
    "print(my_str[-1:-12:-1]) # [-1,-11]\n",
    "print(my_str[-1:-13:-1])\n",
    "print(my_str[-1:-len(my_str)-1:-1])\n",
    "print(my_str[::-1])"
   ]
  },
  {
   "cell_type": "code",
   "execution_count": 78,
   "id": "2bfd51e6",
   "metadata": {},
   "outputs": [
    {
     "data": {
      "text/plain": [
       "-13"
      ]
     },
     "execution_count": 78,
     "metadata": {},
     "output_type": "execute_result"
    }
   ],
   "source": [
    "-len(my_str)-1"
   ]
  },
  {
   "cell_type": "code",
   "execution_count": 3,
   "id": "2d3ce386",
   "metadata": {},
   "outputs": [
    {
     "name": "stdout",
     "output_type": "stream",
     "text": [
      "nohty\n",
      "\n",
      "nohtyP\n"
     ]
    }
   ],
   "source": [
    "my_str='Python'\n",
    "print(my_str[5:0:-1]) #[5,4,3,2,1]\n",
    "print(my_str[5:-1:-1])\n",
    "print(my_str[::-1])\n",
    "# print(my_str[::])"
   ]
  },
  {
   "cell_type": "code",
   "execution_count": 104,
   "id": "24d9a533",
   "metadata": {},
   "outputs": [
    {
     "name": "stdout",
     "output_type": "stream",
     "text": [
      "Hlo\n",
      "5\n",
      "Hlo\n",
      "Hlo\n"
     ]
    }
   ],
   "source": [
    "my_str='Hello'\n",
    "# Output- Hlo- [0,2,4]\n",
    "print(my_str[0:5:2])\n",
    "print(len(my_str))\n",
    "print(my_str[0:len(my_str):2])\n",
    "print(my_str[::2])"
   ]
  },
  {
   "cell_type": "code",
   "execution_count": 110,
   "id": "f051c14d",
   "metadata": {},
   "outputs": [
    {
     "name": "stdout",
     "output_type": "stream",
     "text": [
      "olleH\n",
      "olH\n",
      "olH\n"
     ]
    }
   ],
   "source": [
    "my_str='Hello' # Negative indexes- [-1,-2,-3,-4,-5]\n",
    "\n",
    "print(my_str[-1:-6:-1])\n",
    "print(my_str[-1:-len(my_str)-1:-2]) #[-1,-3,-5]\n",
    "print(my_str[::-2])"
   ]
  },
  {
   "cell_type": "code",
   "execution_count": 107,
   "id": "04a2b24b",
   "metadata": {},
   "outputs": [
    {
     "data": {
      "text/plain": [
       "-6"
      ]
     },
     "execution_count": 107,
     "metadata": {},
     "output_type": "execute_result"
    }
   ],
   "source": [
    "-len(my_str)-1"
   ]
  },
  {
   "cell_type": "markdown",
   "id": "41364e20",
   "metadata": {},
   "source": [
    "# String methods"
   ]
  },
  {
   "cell_type": "code",
   "execution_count": 112,
   "id": "547fbcc6",
   "metadata": {},
   "outputs": [
    {
     "name": "stdout",
     "output_type": "stream",
     "text": [
      "<class 'str'>\n"
     ]
    }
   ],
   "source": [
    "my_str='Python'\n",
    "print(type(my_str))"
   ]
  },
  {
   "cell_type": "code",
   "execution_count": 113,
   "id": "f38ecac8",
   "metadata": {},
   "outputs": [
    {
     "name": "stdout",
     "output_type": "stream",
     "text": [
      "['__add__', '__class__', '__contains__', '__delattr__', '__dir__', '__doc__', '__eq__', '__format__', '__ge__', '__getattribute__', '__getitem__', '__getnewargs__', '__gt__', '__hash__', '__init__', '__init_subclass__', '__iter__', '__le__', '__len__', '__lt__', '__mod__', '__mul__', '__ne__', '__new__', '__reduce__', '__reduce_ex__', '__repr__', '__rmod__', '__rmul__', '__setattr__', '__sizeof__', '__str__', '__subclasshook__', 'capitalize', 'casefold', 'center', 'count', 'encode', 'endswith', 'expandtabs', 'find', 'format', 'format_map', 'index', 'isalnum', 'isalpha', 'isascii', 'isdecimal', 'isdigit', 'isidentifier', 'islower', 'isnumeric', 'isprintable', 'isspace', 'istitle', 'isupper', 'join', 'ljust', 'lower', 'lstrip', 'maketrans', 'partition', 'removeprefix', 'removesuffix', 'replace', 'rfind', 'rindex', 'rjust', 'rpartition', 'rsplit', 'rstrip', 'split', 'splitlines', 'startswith', 'strip', 'swapcase', 'title', 'translate', 'upper', 'zfill']\n"
     ]
    }
   ],
   "source": [
    "print(dir(my_str))"
   ]
  },
  {
   "cell_type": "markdown",
   "id": "61ec747c",
   "metadata": {},
   "source": [
    "- In Python a class has been defined for any kind of value (object).\n",
    "- When we define a variable then it becomes the object of a particular class.\n",
    "- In a class several methods are defined that we can apply on that particular object"
   ]
  },
  {
   "cell_type": "code",
   "execution_count": 114,
   "id": "082f45b4",
   "metadata": {},
   "outputs": [],
   "source": [
    "# on a string object we can apply the methods defined in str class.\n",
    "# on a list object we can apply the methods defined in list class.\n",
    "# and so on"
   ]
  },
  {
   "cell_type": "markdown",
   "id": "5b1986df",
   "metadata": {},
   "source": [
    "- **Note-** If we apply any method on the object that is not available in its class then we get attribute eror"
   ]
  },
  {
   "cell_type": "code",
   "execution_count": 115,
   "id": "5f7bcc84",
   "metadata": {},
   "outputs": [
    {
     "name": "stdout",
     "output_type": "stream",
     "text": [
      "['__add__', '__class__', '__class_getitem__', '__contains__', '__delattr__', '__delitem__', '__dir__', '__doc__', '__eq__', '__format__', '__ge__', '__getattribute__', '__getitem__', '__gt__', '__hash__', '__iadd__', '__imul__', '__init__', '__init_subclass__', '__iter__', '__le__', '__len__', '__lt__', '__mul__', '__ne__', '__new__', '__reduce__', '__reduce_ex__', '__repr__', '__reversed__', '__rmul__', '__setattr__', '__setitem__', '__sizeof__', '__str__', '__subclasshook__', 'append', 'clear', 'copy', 'count', 'extend', 'index', 'insert', 'pop', 'remove', 'reverse', 'sort']\n"
     ]
    }
   ],
   "source": [
    "print(dir(list))"
   ]
  },
  {
   "cell_type": "code",
   "execution_count": 116,
   "id": "df04d2db",
   "metadata": {},
   "outputs": [
    {
     "name": "stdout",
     "output_type": "stream",
     "text": [
      "['__class__', '__class_getitem__', '__contains__', '__delattr__', '__delitem__', '__dir__', '__doc__', '__eq__', '__format__', '__ge__', '__getattribute__', '__getitem__', '__gt__', '__hash__', '__init__', '__init_subclass__', '__ior__', '__iter__', '__le__', '__len__', '__lt__', '__ne__', '__new__', '__or__', '__reduce__', '__reduce_ex__', '__repr__', '__reversed__', '__ror__', '__setattr__', '__setitem__', '__sizeof__', '__str__', '__subclasshook__', 'clear', 'copy', 'fromkeys', 'get', 'items', 'keys', 'pop', 'popitem', 'setdefault', 'update', 'values']\n"
     ]
    }
   ],
   "source": [
    "print(dir(dict))"
   ]
  },
  {
   "cell_type": "code",
   "execution_count": 117,
   "id": "0ecd7617",
   "metadata": {},
   "outputs": [
    {
     "ename": "AttributeError",
     "evalue": "'str' object has no attribute 'values'",
     "output_type": "error",
     "traceback": [
      "\u001b[1;31m---------------------------------------------------------------------------\u001b[0m",
      "\u001b[1;31mAttributeError\u001b[0m                            Traceback (most recent call last)",
      "\u001b[1;32m~\\AppData\\Local\\Temp\\ipykernel_20888\\2198508265.py\u001b[0m in \u001b[0;36m<module>\u001b[1;34m\u001b[0m\n\u001b[0;32m      1\u001b[0m \u001b[0mmy_str\u001b[0m\u001b[1;33m=\u001b[0m\u001b[1;34m'Python'\u001b[0m\u001b[1;33m\u001b[0m\u001b[1;33m\u001b[0m\u001b[0m\n\u001b[1;32m----> 2\u001b[1;33m \u001b[0mmy_str\u001b[0m\u001b[1;33m.\u001b[0m\u001b[0mvalues\u001b[0m\u001b[1;33m(\u001b[0m\u001b[1;33m)\u001b[0m\u001b[1;33m\u001b[0m\u001b[1;33m\u001b[0m\u001b[0m\n\u001b[0m",
      "\u001b[1;31mAttributeError\u001b[0m: 'str' object has no attribute 'values'"
     ]
    }
   ],
   "source": [
    "my_str='Python'\n",
    "my_str.values()"
   ]
  },
  {
   "cell_type": "markdown",
   "id": "a4e4fa72",
   "metadata": {},
   "source": [
    "# capitalize()"
   ]
  },
  {
   "cell_type": "markdown",
   "id": "09f700c0",
   "metadata": {},
   "source": [
    "- It converts the first letter into upper case in a sentence.\n",
    "- It returns a new object. It does not make the changes in the existing object."
   ]
  },
  {
   "cell_type": "code",
   "execution_count": 125,
   "id": "52a9ceea",
   "metadata": {},
   "outputs": [
    {
     "name": "stdout",
     "output_type": "stream",
     "text": [
      "this is python class\n",
      "This is python class\n",
      "this is python class\n"
     ]
    }
   ],
   "source": [
    "my_str='this is python class'\n",
    "print(my_str)\n",
    "print(my_str.capitalize())\n",
    "print(my_str)"
   ]
  },
  {
   "cell_type": "code",
   "execution_count": 126,
   "id": "21ef398e",
   "metadata": {},
   "outputs": [
    {
     "name": "stdout",
     "output_type": "stream",
     "text": [
      "This is python class\n"
     ]
    }
   ],
   "source": [
    "x=my_str.capitalize()\n",
    "print(x)"
   ]
  },
  {
   "cell_type": "code",
   "execution_count": 127,
   "id": "5b407679",
   "metadata": {},
   "outputs": [
    {
     "data": {
      "text/plain": [
       "'This is python class'"
      ]
     },
     "execution_count": 127,
     "metadata": {},
     "output_type": "execute_result"
    }
   ],
   "source": [
    "x"
   ]
  },
  {
   "cell_type": "code",
   "execution_count": 130,
   "id": "e7295037",
   "metadata": {},
   "outputs": [],
   "source": [
    "# my_str.capitalize('a')"
   ]
  },
  {
   "cell_type": "markdown",
   "id": "ba5ba72d",
   "metadata": {},
   "source": [
    "# title()"
   ]
  },
  {
   "cell_type": "markdown",
   "id": "195e0123",
   "metadata": {},
   "source": [
    "- It converts the first letter of each word into uppercase in a sentence.\n",
    "- It returns a new object and it does not make the changex in the existing object."
   ]
  },
  {
   "cell_type": "code",
   "execution_count": 135,
   "id": "32ddbaae",
   "metadata": {},
   "outputs": [
    {
     "name": "stdout",
     "output_type": "stream",
     "text": [
      "this is python class\n",
      "This Is Python Class\n"
     ]
    },
    {
     "data": {
      "text/plain": [
       "'this is python class'"
      ]
     },
     "execution_count": 135,
     "metadata": {},
     "output_type": "execute_result"
    }
   ],
   "source": [
    "my_str='this is python class'\n",
    "print(my_str)\n",
    "\n",
    "print(my_str.title())\n",
    "my_str"
   ]
  },
  {
   "cell_type": "markdown",
   "id": "f5f2853d",
   "metadata": {},
   "source": [
    "# upper()"
   ]
  },
  {
   "cell_type": "markdown",
   "id": "e992e2d3",
   "metadata": {},
   "source": [
    "- It converts all the alphabets in a string into uppercase.\n",
    "- It returns a new object."
   ]
  },
  {
   "cell_type": "code",
   "execution_count": 138,
   "id": "f1a50f52",
   "metadata": {},
   "outputs": [
    {
     "name": "stdout",
     "output_type": "stream",
     "text": [
      "python\n",
      "PYTHON\n",
      "python\n"
     ]
    }
   ],
   "source": [
    "my_str='python'\n",
    "print(my_str)\n",
    "print(my_str.upper())\n",
    "print(my_str)"
   ]
  },
  {
   "cell_type": "code",
   "execution_count": 139,
   "id": "4557143e",
   "metadata": {},
   "outputs": [
    {
     "name": "stdout",
     "output_type": "stream",
     "text": [
      "PYTHON\n"
     ]
    }
   ],
   "source": [
    "x=my_str.upper()\n",
    "print(x)"
   ]
  },
  {
   "cell_type": "code",
   "execution_count": 141,
   "id": "44c1d56a",
   "metadata": {},
   "outputs": [
    {
     "name": "stdout",
     "output_type": "stream",
     "text": [
      "Python1234\n",
      "PYTHON1234\n"
     ]
    }
   ],
   "source": [
    "my_str='Python1234'\n",
    "print(my_str)\n",
    "\n",
    "print(my_str.upper())"
   ]
  },
  {
   "cell_type": "code",
   "execution_count": 143,
   "id": "0ea652a2",
   "metadata": {},
   "outputs": [
    {
     "name": "stdout",
     "output_type": "stream",
     "text": [
      "PythOn\n",
      "PYTHON\n"
     ]
    }
   ],
   "source": [
    "my_str='PythOn'\n",
    "print(my_str)\n",
    "\n",
    "print(my_str.upper())"
   ]
  },
  {
   "cell_type": "code",
   "execution_count": 145,
   "id": "f527bbbb",
   "metadata": {},
   "outputs": [
    {
     "name": "stdout",
     "output_type": "stream",
     "text": [
      "PYTHON\n",
      "PYTHON\n"
     ]
    }
   ],
   "source": [
    "my_str='PYTHON'\n",
    "print(my_str)\n",
    "\n",
    "print(my_str.upper())"
   ]
  },
  {
   "cell_type": "markdown",
   "id": "35bf7d3e",
   "metadata": {},
   "source": [
    "# lower()"
   ]
  },
  {
   "cell_type": "markdown",
   "id": "20f91c35",
   "metadata": {},
   "source": [
    "- It converts all the alphabets in the string into lower case.\n",
    "- It returns a new object."
   ]
  },
  {
   "cell_type": "code",
   "execution_count": 147,
   "id": "0d687b44",
   "metadata": {},
   "outputs": [
    {
     "name": "stdout",
     "output_type": "stream",
     "text": [
      "PYTHON CLASS\n",
      "python class\n"
     ]
    }
   ],
   "source": [
    "my_str='PYTHON CLASS'\n",
    "print(my_str)\n",
    "\n",
    "print(my_str.lower())"
   ]
  },
  {
   "cell_type": "code",
   "execution_count": 149,
   "id": "456eb1ab",
   "metadata": {},
   "outputs": [
    {
     "name": "stdout",
     "output_type": "stream",
     "text": [
      "PYTHON class\n",
      "python class\n"
     ]
    }
   ],
   "source": [
    "my_str='PYTHON class'\n",
    "print(my_str)\n",
    "\n",
    "print(my_str.lower())"
   ]
  },
  {
   "cell_type": "code",
   "execution_count": 152,
   "id": "abe23fd2",
   "metadata": {},
   "outputs": [
    {
     "name": "stdout",
     "output_type": "stream",
     "text": [
      "PYTHON 121324!#@$#%$%^%^&CLASS\n",
      "python 121324!#@$#%$%^%^&class\n",
      "PYTHON 121324!#@$#%$%^%^&CLASS\n"
     ]
    }
   ],
   "source": [
    "my_str='PYTHON 121324!#@$#%$%^%^&CLASS'\n",
    "print(my_str)\n",
    "\n",
    "print(my_str.lower())\n",
    "\n",
    "print(my_str)"
   ]
  },
  {
   "cell_type": "markdown",
   "id": "f4703c54",
   "metadata": {},
   "source": [
    "# swapcase()"
   ]
  },
  {
   "cell_type": "markdown",
   "id": "3f7eaa8e",
   "metadata": {},
   "source": [
    "- It converts the uppercase letters into lowercase and vice versa.\n",
    "- It retutrns a new object."
   ]
  },
  {
   "cell_type": "code",
   "execution_count": 155,
   "id": "0722214a",
   "metadata": {},
   "outputs": [
    {
     "name": "stdout",
     "output_type": "stream",
     "text": [
      "PYThon\n",
      "pytHON\n",
      "PYThon\n"
     ]
    }
   ],
   "source": [
    "my_str='PYThon'\n",
    "print(my_str)\n",
    "\n",
    "print(my_str.swapcase())\n",
    "\n",
    "print(my_str)"
   ]
  },
  {
   "cell_type": "code",
   "execution_count": 157,
   "id": "4b0c1b46",
   "metadata": {},
   "outputs": [
    {
     "name": "stdout",
     "output_type": "stream",
     "text": [
      "PYTHON!@!#@#@1324354\n",
      "python!@!#@#@1324354\n"
     ]
    }
   ],
   "source": [
    "my_str='PYTHON!@!#@#@1324354'\n",
    "print(my_str)\n",
    "\n",
    "print(my_str.swapcase())"
   ]
  },
  {
   "cell_type": "markdown",
   "id": "a9dc92bd",
   "metadata": {},
   "source": [
    "# casefold()"
   ]
  },
  {
   "cell_type": "markdown",
   "id": "bdbcce54",
   "metadata": {},
   "source": [
    "- It converts the uppercase letters into lowecase."
   ]
  },
  {
   "cell_type": "code",
   "execution_count": 160,
   "id": "48ed37f0",
   "metadata": {},
   "outputs": [
    {
     "name": "stdout",
     "output_type": "stream",
     "text": [
      "PYTHON\n",
      "python\n"
     ]
    }
   ],
   "source": [
    "my_str='PYTHON'\n",
    "print(my_str)\n",
    "\n",
    "print(my_str.casefold())"
   ]
  },
  {
   "cell_type": "code",
   "execution_count": 161,
   "id": "813e7571",
   "metadata": {},
   "outputs": [
    {
     "name": "stdout",
     "output_type": "stream",
     "text": [
      "PYTHON\n",
      "python\n"
     ]
    }
   ],
   "source": [
    "my_str='PYTHON'\n",
    "print(my_str)\n",
    "\n",
    "print(my_str.lower())"
   ]
  },
  {
   "cell_type": "markdown",
   "id": "1d15484c",
   "metadata": {},
   "source": [
    "# casefold() vs lower()"
   ]
  },
  {
   "cell_type": "markdown",
   "id": "db1f3622",
   "metadata": {},
   "source": [
    "- lower() can convert only the ASCII characters.\n",
    "- casefold() can convert the ASCII and the non- ASCII charcters both."
   ]
  },
  {
   "cell_type": "code",
   "execution_count": 162,
   "id": "3b20940e",
   "metadata": {},
   "outputs": [],
   "source": [
    "# ASCII- American Standard Code for Information interchange"
   ]
  },
  {
   "cell_type": "code",
   "execution_count": 163,
   "id": "518bc200",
   "metadata": {},
   "outputs": [],
   "source": [
    "# ord()- It returns the ASCII value of a chracter\n",
    "# A-Z -> 65 to 90\n",
    "# a-z -> 97 to 122"
   ]
  },
  {
   "cell_type": "code",
   "execution_count": 169,
   "id": "ad9f1244",
   "metadata": {},
   "outputs": [
    {
     "data": {
      "text/plain": [
       "48"
      ]
     },
     "execution_count": 169,
     "metadata": {},
     "output_type": "execute_result"
    }
   ],
   "source": [
    "ord('0')"
   ]
  },
  {
   "cell_type": "code",
   "execution_count": 172,
   "id": "1871f2c3",
   "metadata": {},
   "outputs": [
    {
     "name": "stdout",
     "output_type": "stream",
     "text": [
      "AẞCD\n",
      "aßcd\n",
      "asscd\n"
     ]
    }
   ],
   "source": [
    "my_str='AẞCD'\n",
    "print(my_str)\n",
    "\n",
    "print(my_str.lower())\n",
    "print(my_str.casefold())"
   ]
  },
  {
   "cell_type": "code",
   "execution_count": 173,
   "id": "d9e9aa8c",
   "metadata": {},
   "outputs": [
    {
     "data": {
      "text/plain": [
       "98"
      ]
     },
     "execution_count": 173,
     "metadata": {},
     "output_type": "execute_result"
    }
   ],
   "source": [
    "ord('b')"
   ]
  },
  {
   "cell_type": "code",
   "execution_count": 183,
   "id": "a4a2a003",
   "metadata": {},
   "outputs": [
    {
     "data": {
      "text/plain": [
       "45"
      ]
     },
     "execution_count": 183,
     "metadata": {},
     "output_type": "execute_result"
    }
   ],
   "source": [
    "ord('-')"
   ]
  },
  {
   "cell_type": "code",
   "execution_count": 187,
   "id": "e2e15e45",
   "metadata": {},
   "outputs": [
    {
     "data": {
      "text/plain": [
       "'3.9.13 (main, Aug 25 2022, 23:51:50) [MSC v.1916 64 bit (AMD64)]'"
      ]
     },
     "execution_count": 187,
     "metadata": {},
     "output_type": "execute_result"
    }
   ],
   "source": [
    "import sys\n",
    "sys.version"
   ]
  },
  {
   "cell_type": "code",
   "execution_count": 188,
   "id": "8cd915e0",
   "metadata": {},
   "outputs": [
    {
     "name": "stdout",
     "output_type": "stream",
     "text": [
      "AβCD\n",
      "aβcd\n",
      "aβcd\n"
     ]
    }
   ],
   "source": [
    "my_str='AβCD'\n",
    "print(my_str)\n",
    "print(my_str.lower())\n",
    "print(my_str.casefold())\n"
   ]
  },
  {
   "cell_type": "code",
   "execution_count": null,
   "id": "21e25c55",
   "metadata": {},
   "outputs": [],
   "source": []
  },
  {
   "cell_type": "code",
   "execution_count": null,
   "id": "0e1f50d5",
   "metadata": {},
   "outputs": [],
   "source": []
  }
 ],
 "metadata": {
  "kernelspec": {
   "display_name": "Python 3 (ipykernel)",
   "language": "python",
   "name": "python3"
  },
  "language_info": {
   "codemirror_mode": {
    "name": "ipython",
    "version": 3
   },
   "file_extension": ".py",
   "mimetype": "text/x-python",
   "name": "python",
   "nbconvert_exporter": "python",
   "pygments_lexer": "ipython3",
   "version": "3.9.13"
  }
 },
 "nbformat": 4,
 "nbformat_minor": 5
}
