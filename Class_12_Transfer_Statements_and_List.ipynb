{
 "cells": [
  {
   "cell_type": "markdown",
   "id": "dc5c0ba9",
   "metadata": {},
   "source": [
    "# Nested loop\n",
    "- A loop within another loop is known as nested loop.\n",
    "- Inner loop completes all its iterations for iteration of th outer loop."
   ]
  },
  {
   "cell_type": "code",
   "execution_count": null,
   "id": "98df732f",
   "metadata": {},
   "outputs": [],
   "source": [
    "for loop: # Outer loop\n",
    "    for loop: # Inner loop\n",
    "        code\n",
    "        code"
   ]
  },
  {
   "cell_type": "code",
   "execution_count": 4,
   "id": "8ba12889",
   "metadata": {},
   "outputs": [
    {
     "name": "stdout",
     "output_type": "stream",
     "text": [
      "Hello\n",
      "Hello\n",
      "Hello\n",
      "Hello\n",
      "Hello\n",
      "Hello\n"
     ]
    }
   ],
   "source": [
    "for i in range(3):\n",
    "    for j in range(2):\n",
    "        print('Hello')"
   ]
  },
  {
   "cell_type": "code",
   "execution_count": 5,
   "id": "c02586be",
   "metadata": {},
   "outputs": [],
   "source": [
    "# i=0\n",
    "# j=0, j=1\n",
    "\n",
    "# i=1\n",
    "# j=0, j=1\n",
    "\n",
    "# i=2\n",
    "# j=0, j=1"
   ]
  },
  {
   "cell_type": "code",
   "execution_count": 1,
   "id": "e1c8f4c1",
   "metadata": {},
   "outputs": [
    {
     "name": "stdout",
     "output_type": "stream",
     "text": [
      "0\n",
      "1\n",
      "2\n"
     ]
    }
   ],
   "source": [
    "for i in range(3):\n",
    "    print(i)"
   ]
  },
  {
   "cell_type": "code",
   "execution_count": 2,
   "id": "da06d2c7",
   "metadata": {},
   "outputs": [
    {
     "name": "stdout",
     "output_type": "stream",
     "text": [
      "0\n",
      "1\n"
     ]
    }
   ],
   "source": [
    "for j in range(2):\n",
    "    print(j)"
   ]
  },
  {
   "cell_type": "code",
   "execution_count": 9,
   "id": "aeb4225f",
   "metadata": {},
   "outputs": [
    {
     "name": "stdout",
     "output_type": "stream",
     "text": [
      "i-> 0\n",
      "j-> 0\n",
      "\n",
      "i-> 0\n",
      "j-> 1\n",
      "\n",
      "i-> 1\n",
      "j-> 0\n",
      "\n",
      "i-> 1\n",
      "j-> 1\n",
      "\n",
      "i-> 2\n",
      "j-> 0\n",
      "\n",
      "i-> 2\n",
      "j-> 1\n",
      "\n"
     ]
    }
   ],
   "source": [
    "for i in range(3):\n",
    "    for j in range(2):\n",
    "        print('i->',i)\n",
    "        print('j->',j)\n",
    "        print()"
   ]
  },
  {
   "cell_type": "code",
   "execution_count": 14,
   "id": "820582b1",
   "metadata": {},
   "outputs": [
    {
     "name": "stdout",
     "output_type": "stream",
     "text": [
      "T\n",
      "h\n",
      "i\n",
      "s\n",
      "i\n",
      "s\n",
      "P\n",
      "y\n",
      "t\n",
      "h\n",
      "o\n",
      "n\n",
      "c\n",
      "l\n",
      "a\n",
      "s\n",
      "s\n"
     ]
    }
   ],
   "source": [
    "lst=['This','is','Python','class']\n",
    "\n",
    "# Output- Each character should be printed seperately\n",
    "\n",
    "for i in lst:\n",
    "    for j in i:\n",
    "        print(j)"
   ]
  },
  {
   "cell_type": "code",
   "execution_count": 19,
   "id": "1ca2afbf",
   "metadata": {},
   "outputs": [
    {
     "name": "stdout",
     "output_type": "stream",
     "text": [
      "T\n",
      "h\n",
      "i\n",
      "s\n",
      "i\n",
      "s\n",
      "P\n",
      "y\n",
      "t\n",
      "h\n",
      "o\n",
      "n\n",
      "c\n",
      "l\n",
      "a\n",
      "s\n",
      "s\n"
     ]
    }
   ],
   "source": [
    "i='This'\n",
    "for j in i:\n",
    "    print(j)\n",
    "    \n",
    "i='is'\n",
    "for j in i:\n",
    "    print(j)\n",
    "    \n",
    "i='Python'\n",
    "for j in i:\n",
    "    print(j)\n",
    "    \n",
    "i='class'\n",
    "for j in i:\n",
    "    print(j)"
   ]
  },
  {
   "cell_type": "code",
   "execution_count": 21,
   "id": "b5776ee8",
   "metadata": {},
   "outputs": [
    {
     "name": "stdout",
     "output_type": "stream",
     "text": [
      "4\n",
      "8\n"
     ]
    }
   ],
   "source": [
    "i_c=0\n",
    "j_c=0\n",
    "for i in range(4):\n",
    "    i_c+=1\n",
    "    for j in range(2):\n",
    "        j_c+=1\n",
    "print(i_c)\n",
    "print(j_c)"
   ]
  },
  {
   "cell_type": "markdown",
   "id": "a1c8e823",
   "metadata": {},
   "source": [
    "# Transfer Statements"
   ]
  },
  {
   "cell_type": "markdown",
   "id": "9d040d3c",
   "metadata": {},
   "source": [
    "# break, continue"
   ]
  },
  {
   "cell_type": "markdown",
   "id": "1d792c34",
   "metadata": {},
   "source": [
    "# break"
   ]
  },
  {
   "cell_type": "markdown",
   "id": "d3ba8ea1",
   "metadata": {},
   "source": [
    "- It is used to break or terminate a loop (for or while).\n",
    "- As soon as break statement gets encountered the control comes out of the loop."
   ]
  },
  {
   "cell_type": "code",
   "execution_count": 22,
   "id": "d2aec9bf",
   "metadata": {},
   "outputs": [],
   "source": [
    "# for loop:\n",
    "#     break"
   ]
  },
  {
   "cell_type": "code",
   "execution_count": 24,
   "id": "86770440",
   "metadata": {},
   "outputs": [
    {
     "name": "stdout",
     "output_type": "stream",
     "text": [
      "0\n",
      "Hello\n",
      "Out of the loop\n"
     ]
    }
   ],
   "source": [
    "for i in range(3):\n",
    "    print(i)\n",
    "    print('Hello')\n",
    "    break\n",
    "print('Out of the loop')"
   ]
  },
  {
   "cell_type": "code",
   "execution_count": 25,
   "id": "9380a00f",
   "metadata": {},
   "outputs": [],
   "source": [
    "# for loop:\n",
    "#     for loop:\n",
    "#         break\n",
    "#     break"
   ]
  },
  {
   "cell_type": "code",
   "execution_count": 28,
   "id": "d62dd3c2",
   "metadata": {},
   "outputs": [
    {
     "name": "stdout",
     "output_type": "stream",
     "text": [
      "Python\n",
      "Python\n",
      "Python\n",
      "Python\n"
     ]
    }
   ],
   "source": [
    "for i in range(4):\n",
    "    for j in range(3):\n",
    "        print('Python')\n",
    "        break"
   ]
  },
  {
   "cell_type": "code",
   "execution_count": 27,
   "id": "dd456b0c",
   "metadata": {},
   "outputs": [],
   "source": [
    "# i=0\n",
    "# j=0- Python\n",
    "\n",
    "# i=1\n",
    "# j=0- Python\n",
    "\n",
    "# i=2\n",
    "# j=0- Python\n",
    "\n",
    "# i=3\n",
    "# j=0- Python"
   ]
  },
  {
   "cell_type": "code",
   "execution_count": 31,
   "id": "037a39c0",
   "metadata": {
    "scrolled": true
   },
   "outputs": [
    {
     "name": "stdout",
     "output_type": "stream",
     "text": [
      "0\n",
      "0\n",
      "Python\n",
      "1\n",
      "Python\n",
      "2\n",
      "Python\n"
     ]
    }
   ],
   "source": [
    "for i in range(4):\n",
    "    print(i)\n",
    "    for j in range(3):\n",
    "        print(j)\n",
    "        print('Python')\n",
    "    break"
   ]
  },
  {
   "cell_type": "code",
   "execution_count": null,
   "id": "c3751882",
   "metadata": {},
   "outputs": [],
   "source": [
    "i=0\n",
    "j=0- Python\n",
    "j=1- Python\n",
    "j=2- Python"
   ]
  },
  {
   "cell_type": "code",
   "execution_count": 32,
   "id": "bc0f1ffe",
   "metadata": {},
   "outputs": [
    {
     "name": "stdout",
     "output_type": "stream",
     "text": [
      "Python\n"
     ]
    }
   ],
   "source": [
    "for i in range(4):\n",
    "    for j in range(3):\n",
    "        print('Python')\n",
    "        break\n",
    "    break"
   ]
  },
  {
   "cell_type": "code",
   "execution_count": 35,
   "id": "717e4054",
   "metadata": {},
   "outputs": [],
   "source": [
    "for i in range(4):\n",
    "    break\n",
    "    for j in range(3):\n",
    "        print('Python')"
   ]
  },
  {
   "cell_type": "code",
   "execution_count": null,
   "id": "46ba5f81",
   "metadata": {},
   "outputs": [],
   "source": [
    "i=0\n",
    "j=0- Python"
   ]
  },
  {
   "cell_type": "code",
   "execution_count": 37,
   "id": "1fc96545",
   "metadata": {},
   "outputs": [
    {
     "name": "stdout",
     "output_type": "stream",
     "text": [
      "101\n",
      "102\n",
      "103\n",
      "104\n"
     ]
    }
   ],
   "source": [
    "lst=[101,102,103,104,None,105,106,107,108]\n",
    "\n",
    "for i in lst:\n",
    "    if i==None:\n",
    "        break\n",
    "    else:\n",
    "        print(i)"
   ]
  },
  {
   "cell_type": "code",
   "execution_count": 38,
   "id": "5e12877e",
   "metadata": {},
   "outputs": [
    {
     "ename": "SyntaxError",
     "evalue": "'break' outside loop (1782947824.py, line 2)",
     "output_type": "error",
     "traceback": [
      "\u001b[1;36m  File \u001b[1;32m\"C:\\Users\\Dell\\AppData\\Local\\Temp\\ipykernel_22888\\1782947824.py\"\u001b[1;36m, line \u001b[1;32m2\u001b[0m\n\u001b[1;33m    break\u001b[0m\n\u001b[1;37m    ^\u001b[0m\n\u001b[1;31mSyntaxError\u001b[0m\u001b[1;31m:\u001b[0m 'break' outside loop\n"
     ]
    }
   ],
   "source": [
    "if i==None:\n",
    "    break\n",
    "else:\n",
    "    print(i)"
   ]
  },
  {
   "cell_type": "code",
   "execution_count": 39,
   "id": "359426d2",
   "metadata": {},
   "outputs": [
    {
     "ename": "SyntaxError",
     "evalue": "'break' outside loop (668683560.py, line 1)",
     "output_type": "error",
     "traceback": [
      "\u001b[1;36m  File \u001b[1;32m\"C:\\Users\\Dell\\AppData\\Local\\Temp\\ipykernel_22888\\668683560.py\"\u001b[1;36m, line \u001b[1;32m1\u001b[0m\n\u001b[1;33m    break\u001b[0m\n\u001b[1;37m    ^\u001b[0m\n\u001b[1;31mSyntaxError\u001b[0m\u001b[1;31m:\u001b[0m 'break' outside loop\n"
     ]
    }
   ],
   "source": [
    "break"
   ]
  },
  {
   "cell_type": "markdown",
   "id": "484f40f9",
   "metadata": {},
   "source": [
    "# continue"
   ]
  },
  {
   "cell_type": "markdown",
   "id": "899fa242",
   "metadata": {},
   "source": [
    "- It is used to skip the current iteration of the loop.\n",
    "- It does not terminate the loop. It only skips the current iteration.\n",
    "- As soon as continue statement get exeuted the control goes to the next  iteration."
   ]
  },
  {
   "cell_type": "code",
   "execution_count": 49,
   "id": "b85f70bf",
   "metadata": {},
   "outputs": [
    {
     "name": "stdout",
     "output_type": "stream",
     "text": [
      "101\n",
      "102\n",
      "Skip the iteration\n",
      "105\n",
      "106\n",
      "107\n",
      "108\n"
     ]
    }
   ],
   "source": [
    "lst=[101,102,None,105,106,107,108]\n",
    "\n",
    "# Print all the codes except None\n",
    "\n",
    "for i in lst:\n",
    "    if i==None:\n",
    "        print('Skip the iteration')\n",
    "        continue\n",
    "        print('Hello')\n",
    "        print('Thanks')\n",
    "    else:\n",
    "        print(i)"
   ]
  },
  {
   "cell_type": "code",
   "execution_count": 51,
   "id": "276c6300",
   "metadata": {},
   "outputs": [],
   "source": [
    "for i in range(3):\n",
    "    continue\n",
    "    for j in range(2):\n",
    "        print('Python')\n",
    "        continue"
   ]
  },
  {
   "cell_type": "markdown",
   "id": "de6ca9f6",
   "metadata": {},
   "source": [
    "# List"
   ]
  },
  {
   "cell_type": "code",
   "execution_count": 56,
   "id": "cabd5612",
   "metadata": {},
   "outputs": [],
   "source": [
    "# Anything inside the [] is a list.\n",
    "# A list is a container type that can contain multiple elements.\n",
    "# A list can contain heterogenous (different type) elements.\n",
    "# A list can contain duplicate elements too."
   ]
  },
  {
   "cell_type": "code",
   "execution_count": 53,
   "id": "e0866efe",
   "metadata": {},
   "outputs": [
    {
     "name": "stdout",
     "output_type": "stream",
     "text": [
      "[1, 2, 3, 4, 5] <class 'list'>\n"
     ]
    }
   ],
   "source": [
    "lst=[1,2,3,4,5]\n",
    "print(lst,type(lst))"
   ]
  },
  {
   "cell_type": "code",
   "execution_count": 55,
   "id": "4de1150b",
   "metadata": {},
   "outputs": [
    {
     "name": "stdout",
     "output_type": "stream",
     "text": [
      "['Python', True, None, False, (11, 12, 15), {1, 2, 3}, (10+20j), 2.5, 50] <class 'list'>\n"
     ]
    }
   ],
   "source": [
    "lst=['Python',True,None, False, (11,12,15),{1,2,3},10+20j, 2.5, 50]\n",
    "print(lst,type(lst))"
   ]
  },
  {
   "cell_type": "code",
   "execution_count": 57,
   "id": "66faa643",
   "metadata": {},
   "outputs": [
    {
     "name": "stdout",
     "output_type": "stream",
     "text": [
      "['Python', 'Python', 'Python', 50, 50, 10, 10, 10, 10, 'Python'] <class 'list'>\n"
     ]
    }
   ],
   "source": [
    "lst=['Python','Python','Python',50,50, 10,10,10,10, 'Python']\n",
    "print(lst,type(lst))"
   ]
  },
  {
   "cell_type": "markdown",
   "id": "54cbe46e",
   "metadata": {},
   "source": [
    "# Operations on a list"
   ]
  },
  {
   "cell_type": "code",
   "execution_count": 58,
   "id": "6f805010",
   "metadata": {},
   "outputs": [],
   "source": [
    "# Concatenation\n",
    "# Repetition\n",
    "# Length\n",
    "# Indexing and slicing"
   ]
  },
  {
   "cell_type": "markdown",
   "id": "30e8e27e",
   "metadata": {},
   "source": [
    "# Concatenation"
   ]
  },
  {
   "cell_type": "code",
   "execution_count": 59,
   "id": "a4216c34",
   "metadata": {},
   "outputs": [],
   "source": [
    "# - Joining two or more lists together is known as concatenation.\n",
    "# - + operator is used to concatenate two lists.\n",
    "# - **Note-** Only a list can be concatenated with another list."
   ]
  },
  {
   "cell_type": "code",
   "execution_count": 60,
   "id": "3473de2a",
   "metadata": {},
   "outputs": [
    {
     "data": {
      "text/plain": [
       "[10, 20, 30, 5, 5, 5]"
      ]
     },
     "execution_count": 60,
     "metadata": {},
     "output_type": "execute_result"
    }
   ],
   "source": [
    "lst=[10,20,30]\n",
    "lst2=[5,5,5]\n",
    "\n",
    "lst+lst2"
   ]
  },
  {
   "cell_type": "code",
   "execution_count": 61,
   "id": "4abc5db4",
   "metadata": {},
   "outputs": [
    {
     "data": {
      "text/plain": [
       "[10, 20, 30]"
      ]
     },
     "execution_count": 61,
     "metadata": {},
     "output_type": "execute_result"
    }
   ],
   "source": [
    "lst"
   ]
  },
  {
   "cell_type": "code",
   "execution_count": 62,
   "id": "738149fd",
   "metadata": {},
   "outputs": [
    {
     "data": {
      "text/plain": [
       "[5, 5, 5]"
      ]
     },
     "execution_count": 62,
     "metadata": {},
     "output_type": "execute_result"
    }
   ],
   "source": [
    "lst2"
   ]
  },
  {
   "cell_type": "code",
   "execution_count": 63,
   "id": "8b48a853",
   "metadata": {},
   "outputs": [],
   "source": [
    "lst=[10,20,30]\n",
    "lst2=[5,5,5]\n",
    "\n",
    "lst=lst+lst2"
   ]
  },
  {
   "cell_type": "code",
   "execution_count": 64,
   "id": "5377512f",
   "metadata": {},
   "outputs": [
    {
     "data": {
      "text/plain": [
       "[10, 20, 30, 5, 5, 5]"
      ]
     },
     "execution_count": 64,
     "metadata": {},
     "output_type": "execute_result"
    }
   ],
   "source": [
    "lst"
   ]
  },
  {
   "cell_type": "code",
   "execution_count": 65,
   "id": "a2d519b3",
   "metadata": {},
   "outputs": [
    {
     "ename": "TypeError",
     "evalue": "can only concatenate list (not \"str\") to list",
     "output_type": "error",
     "traceback": [
      "\u001b[1;31m---------------------------------------------------------------------------\u001b[0m",
      "\u001b[1;31mTypeError\u001b[0m                                 Traceback (most recent call last)",
      "\u001b[1;32m~\\AppData\\Local\\Temp\\ipykernel_22888\\3933868034.py\u001b[0m in \u001b[0;36m<module>\u001b[1;34m\u001b[0m\n\u001b[0;32m      2\u001b[0m \u001b[1;31m# Concatenate 'class' to the above list\u001b[0m\u001b[1;33m\u001b[0m\u001b[1;33m\u001b[0m\u001b[0m\n\u001b[0;32m      3\u001b[0m \u001b[1;33m\u001b[0m\u001b[0m\n\u001b[1;32m----> 4\u001b[1;33m \u001b[0mlst\u001b[0m\u001b[1;33m+\u001b[0m\u001b[1;34m'class'\u001b[0m\u001b[1;33m\u001b[0m\u001b[1;33m\u001b[0m\u001b[0m\n\u001b[0m",
      "\u001b[1;31mTypeError\u001b[0m: can only concatenate list (not \"str\") to list"
     ]
    }
   ],
   "source": [
    "lst=['This','is','Python']\n",
    "# Concatenate 'class' to the above list\n",
    "\n",
    "lst+'class'"
   ]
  },
  {
   "cell_type": "code",
   "execution_count": 69,
   "id": "ad47942a",
   "metadata": {},
   "outputs": [
    {
     "name": "stdout",
     "output_type": "stream",
     "text": [
      "['This', 'is', 'Python', 'class']\n"
     ]
    }
   ],
   "source": [
    "lst=['This','is','Python']\n",
    "# Concatenate 'class' to the above list\n",
    "\n",
    "lst=lst+['class']\n",
    "print(lst)"
   ]
  },
  {
   "cell_type": "code",
   "execution_count": 68,
   "id": "ed2b217c",
   "metadata": {},
   "outputs": [
    {
     "data": {
      "text/plain": [
       "['This', 'is', 'Python']"
      ]
     },
     "execution_count": 68,
     "metadata": {},
     "output_type": "execute_result"
    }
   ],
   "source": [
    "lst"
   ]
  },
  {
   "cell_type": "code",
   "execution_count": 66,
   "id": "bf293a5c",
   "metadata": {},
   "outputs": [
    {
     "data": {
      "text/plain": [
       "['c', 'l', 'a', 's', 's']"
      ]
     },
     "execution_count": 66,
     "metadata": {},
     "output_type": "execute_result"
    }
   ],
   "source": [
    "list('class')"
   ]
  },
  {
   "cell_type": "code",
   "execution_count": 73,
   "id": "f4462f8b",
   "metadata": {},
   "outputs": [],
   "source": [
    "lst=[10,20,30,40]\n",
    "\n",
    "# Concatenate 50 to the above list\n",
    "\n",
    "lst=lst+[50]"
   ]
  },
  {
   "cell_type": "code",
   "execution_count": 74,
   "id": "340ca590",
   "metadata": {},
   "outputs": [
    {
     "data": {
      "text/plain": [
       "[10, 20, 30, 40, 50]"
      ]
     },
     "execution_count": 74,
     "metadata": {},
     "output_type": "execute_result"
    }
   ],
   "source": [
    "lst"
   ]
  },
  {
   "cell_type": "code",
   "execution_count": 76,
   "id": "877e7f39",
   "metadata": {},
   "outputs": [
    {
     "name": "stdout",
     "output_type": "stream",
     "text": [
      "['class', 'Python', 'is', 'This']\n"
     ]
    }
   ],
   "source": [
    "my_str='This is Python class'\n",
    "# Output- ['class','Python','is','This']\n",
    "\n",
    "# Approach- Convert to list and reverse the list\n",
    "\n",
    "lst=[]\n",
    "t=''\n",
    "\n",
    "for i in my_str:\n",
    "    if i!=' ':\n",
    "        t+=i\n",
    "    else:\n",
    "        lst=[t]+lst\n",
    "        t=''\n",
    "lst=[t]+lst\n",
    "print(lst)"
   ]
  },
  {
   "cell_type": "code",
   "execution_count": 78,
   "id": "39f24141",
   "metadata": {},
   "outputs": [],
   "source": [
    "# lst=[]\n",
    "# t='This'\n",
    "# lst=[t]+lst\n",
    "\n",
    "# lst=['This']\n",
    "\n",
    "# t='is'\n",
    "# lst=[t]+lst\n",
    "# ['is']+['This']"
   ]
  },
  {
   "cell_type": "markdown",
   "id": "d3a9a95a",
   "metadata": {},
   "source": [
    "# Repetition"
   ]
  },
  {
   "cell_type": "code",
   "execution_count": 79,
   "id": "f5399e23",
   "metadata": {},
   "outputs": [],
   "source": [
    "# * operator is used to perform the repetition operation on a list."
   ]
  },
  {
   "cell_type": "code",
   "execution_count": 80,
   "id": "44e16521",
   "metadata": {},
   "outputs": [],
   "source": [
    "# lst*number of repetitions"
   ]
  },
  {
   "cell_type": "code",
   "execution_count": 85,
   "id": "6f07cd92",
   "metadata": {},
   "outputs": [
    {
     "name": "stdout",
     "output_type": "stream",
     "text": [
      "['Python', 'Python', 'Python', 'Python', 'Python', 'Python', 'Python', 'Python', 'Python', 'Python', 'Python', 'Python', 'Python', 'Python', 'Python', 'Python', 'Python', 'Python', 'Python', 'Python', 'Python', 'Python', 'Python', 'Python', 'Python', 'Python', 'Python', 'Python', 'Python', 'Python', 'Python', 'Python', 'Python', 'Python', 'Python', 'Python', 'Python', 'Python', 'Python', 'Python', 'Python', 'Python', 'Python', 'Python', 'Python', 'Python', 'Python', 'Python', 'Python', 'Python']\n"
     ]
    }
   ],
   "source": [
    "lst=['Python']\n",
    "print(lst*50)"
   ]
  },
  {
   "cell_type": "markdown",
   "id": "cf86694d",
   "metadata": {},
   "source": [
    "# Lngth\n",
    "- The number of elements in a list is the length of the list."
   ]
  },
  {
   "cell_type": "code",
   "execution_count": 86,
   "id": "5f775f4a",
   "metadata": {},
   "outputs": [],
   "source": [
    "# len(lst)"
   ]
  },
  {
   "cell_type": "code",
   "execution_count": 88,
   "id": "7b6a3558",
   "metadata": {},
   "outputs": [
    {
     "name": "stdout",
     "output_type": "stream",
     "text": [
      "7\n"
     ]
    }
   ],
   "source": [
    "lst=[10,10,30,40,'Python','Hello',78]\n",
    "print(len(lst))"
   ]
  },
  {
   "cell_type": "code",
   "execution_count": 89,
   "id": "2c5a61c4",
   "metadata": {},
   "outputs": [
    {
     "name": "stdout",
     "output_type": "stream",
     "text": [
      "['Python', 'Python', 'Python', 'Python', 'Python', 'Python', 'Python', 'Python', 'Python', 'Python', 'Python', 'Python', 'Python', 'Python', 'Python', 'Python', 'Python', 'Python', 'Python', 'Python', 'Python', 'Python', 'Python', 'Python', 'Python', 'Python', 'Python', 'Python', 'Python', 'Python', 'Python', 'Python', 'Python', 'Python', 'Python', 'Python', 'Python', 'Python', 'Python', 'Python', 'Python', 'Python', 'Python', 'Python', 'Python', 'Python', 'Python', 'Python', 'Python', 'Python']\n"
     ]
    }
   ],
   "source": [
    "lst=['Python', 'Python', 'Python', 'Python', 'Python', 'Python', 'Python', 'Python', 'Python', 'Python', 'Python', 'Python', 'Python', 'Python', 'Python', 'Python', 'Python', 'Python', 'Python', 'Python', 'Python', 'Python', 'Python', 'Python', 'Python', 'Python', 'Python', 'Python', 'Python', 'Python', 'Python', 'Python', 'Python', 'Python', 'Python', 'Python', 'Python', 'Python', 'Python', 'Python', 'Python', 'Python', 'Python', 'Python', 'Python', 'Python', 'Python', 'Python', 'Python', 'Python']\n",
    "print(lst)"
   ]
  },
  {
   "cell_type": "code",
   "execution_count": 90,
   "id": "16c088f0",
   "metadata": {},
   "outputs": [
    {
     "name": "stdout",
     "output_type": "stream",
     "text": [
      "50\n"
     ]
    }
   ],
   "source": [
    "print(len(lst))"
   ]
  },
  {
   "cell_type": "markdown",
   "id": "7179fd45",
   "metadata": {},
   "source": [
    "# Indexing"
   ]
  },
  {
   "cell_type": "markdown",
   "id": "16b0c239",
   "metadata": {},
   "source": [
    "- A list is an ordered collection of data because each element in the list is stored at a particular index.\n",
    "- A list is also known as sequence type because it follows indexing method.\n",
    "- It follows +ive and -ive indexing both."
   ]
  },
  {
   "cell_type": "code",
   "execution_count": 91,
   "id": "286ab3ad",
   "metadata": {},
   "outputs": [
    {
     "data": {
      "text/plain": [
       "{10, 20, 30, 40, 50}"
      ]
     },
     "execution_count": 91,
     "metadata": {},
     "output_type": "execute_result"
    }
   ],
   "source": [
    "s={10,20,30,40,50}\n",
    "s"
   ]
  },
  {
   "cell_type": "code",
   "execution_count": 92,
   "id": "d28fe769",
   "metadata": {},
   "outputs": [
    {
     "ename": "TypeError",
     "evalue": "'set' object is not subscriptable",
     "output_type": "error",
     "traceback": [
      "\u001b[1;31m---------------------------------------------------------------------------\u001b[0m",
      "\u001b[1;31mTypeError\u001b[0m                                 Traceback (most recent call last)",
      "\u001b[1;32m~\\AppData\\Local\\Temp\\ipykernel_22888\\243613605.py\u001b[0m in \u001b[0;36m<module>\u001b[1;34m\u001b[0m\n\u001b[1;32m----> 1\u001b[1;33m \u001b[0ms\u001b[0m\u001b[1;33m[\u001b[0m\u001b[1;36m0\u001b[0m\u001b[1;33m]\u001b[0m\u001b[1;33m\u001b[0m\u001b[1;33m\u001b[0m\u001b[0m\n\u001b[0m",
      "\u001b[1;31mTypeError\u001b[0m: 'set' object is not subscriptable"
     ]
    }
   ],
   "source": [
    "s[0]"
   ]
  },
  {
   "cell_type": "code",
   "execution_count": 94,
   "id": "e034c35b",
   "metadata": {},
   "outputs": [
    {
     "ename": "TypeError",
     "evalue": "'set' object is not subscriptable",
     "output_type": "error",
     "traceback": [
      "\u001b[1;31m---------------------------------------------------------------------------\u001b[0m",
      "\u001b[1;31mTypeError\u001b[0m                                 Traceback (most recent call last)",
      "\u001b[1;32m~\\AppData\\Local\\Temp\\ipykernel_22888\\2542452953.py\u001b[0m in \u001b[0;36m<module>\u001b[1;34m\u001b[0m\n\u001b[0;32m      1\u001b[0m \u001b[1;32mfor\u001b[0m \u001b[0mi\u001b[0m \u001b[1;32min\u001b[0m \u001b[0mrange\u001b[0m\u001b[1;33m(\u001b[0m\u001b[0mlen\u001b[0m\u001b[1;33m(\u001b[0m\u001b[0ms\u001b[0m\u001b[1;33m)\u001b[0m\u001b[1;33m)\u001b[0m\u001b[1;33m:\u001b[0m\u001b[1;33m\u001b[0m\u001b[1;33m\u001b[0m\u001b[0m\n\u001b[1;32m----> 2\u001b[1;33m     \u001b[0mprint\u001b[0m\u001b[1;33m(\u001b[0m\u001b[0ms\u001b[0m\u001b[1;33m[\u001b[0m\u001b[0mi\u001b[0m\u001b[1;33m]\u001b[0m\u001b[1;33m)\u001b[0m\u001b[1;33m\u001b[0m\u001b[1;33m\u001b[0m\u001b[0m\n\u001b[0m",
      "\u001b[1;31mTypeError\u001b[0m: 'set' object is not subscriptable"
     ]
    }
   ],
   "source": [
    "for i in range(len(s)):\n",
    "    print(s[i])"
   ]
  },
  {
   "cell_type": "markdown",
   "id": "9fcb6e51",
   "metadata": {},
   "source": [
    "# +ive indexing"
   ]
  },
  {
   "cell_type": "markdown",
   "id": "fe8d5c83",
   "metadata": {},
   "source": [
    "- It starts from left to right.\n",
    "- It starts from 0 by default.\n",
    "- The index of the last element len(lst)-1"
   ]
  },
  {
   "cell_type": "markdown",
   "id": "da21f547",
   "metadata": {},
   "source": [
    "# -ive indexing"
   ]
  },
  {
   "cell_type": "markdown",
   "id": "4d83cfe8",
   "metadata": {},
   "source": [
    "- It is from right to left.\n",
    "- Iy starts from -1 by default.\n",
    "- The index of the last element is -len(lst)"
   ]
  },
  {
   "cell_type": "code",
   "execution_count": 104,
   "id": "92cdd339",
   "metadata": {},
   "outputs": [
    {
     "name": "stdout",
     "output_type": "stream",
     "text": [
      "This\n",
      "This\n",
      "This\n",
      "class\n",
      "class\n",
      "class\n"
     ]
    }
   ],
   "source": [
    "lst=['This','is','Python','class']\n",
    "\n",
    "# Fetch the first element from the above list.\n",
    "\n",
    "print(lst[0])\n",
    "print(lst[-4])\n",
    "print(lst[-len(lst)])\n",
    "\n",
    "# Fetch the last element from the above list.\n",
    "\n",
    "\n",
    "\n",
    "print(lst[-1])\n",
    "print(lst[3])\n",
    "print(lst[len(lst)-1])"
   ]
  },
  {
   "cell_type": "code",
   "execution_count": 98,
   "id": "ed93a6f9",
   "metadata": {},
   "outputs": [
    {
     "data": {
      "text/plain": [
       "-4"
      ]
     },
     "execution_count": 98,
     "metadata": {},
     "output_type": "execute_result"
    }
   ],
   "source": [
    "-len(lst)"
   ]
  },
  {
   "cell_type": "code",
   "execution_count": 103,
   "id": "b6b32fae",
   "metadata": {},
   "outputs": [
    {
     "data": {
      "text/plain": [
       "3"
      ]
     },
     "execution_count": 103,
     "metadata": {},
     "output_type": "execute_result"
    }
   ],
   "source": [
    "len(lst)-1"
   ]
  },
  {
   "cell_type": "code",
   "execution_count": 107,
   "id": "d8b80eb7",
   "metadata": {},
   "outputs": [
    {
     "data": {
      "text/plain": [
       "200"
      ]
     },
     "execution_count": 107,
     "metadata": {},
     "output_type": "execute_result"
    }
   ],
   "source": [
    "lst=[10,20,30,[100,200,300,400],40,50,60]\n",
    "\n",
    "# Fetch 200 from the above list\n",
    "\n",
    "lst[3][1]"
   ]
  },
  {
   "cell_type": "code",
   "execution_count": 128,
   "id": "7a04c44c",
   "metadata": {},
   "outputs": [
    {
     "name": "stdout",
     "output_type": "stream",
     "text": [
      "7\n",
      "300\n"
     ]
    }
   ],
   "source": [
    "lst=[10,20,30,[100,[200,300],400],40,50,60]\n",
    "print(len(lst))\n",
    "\n",
    "# Fetch 300 from the above list\n",
    "\n",
    "print(lst[3][1][1])"
   ]
  },
  {
   "cell_type": "code",
   "execution_count": 133,
   "id": "af61141a",
   "metadata": {},
   "outputs": [
    {
     "data": {
      "text/plain": [
       "300"
      ]
     },
     "execution_count": 133,
     "metadata": {},
     "output_type": "execute_result"
    }
   ],
   "source": [
    "lst[-4][-2][-1]"
   ]
  },
  {
   "cell_type": "code",
   "execution_count": 119,
   "id": "09649371",
   "metadata": {},
   "outputs": [
    {
     "ename": "IndexError",
     "evalue": "list index out of range",
     "output_type": "error",
     "traceback": [
      "\u001b[1;31m---------------------------------------------------------------------------\u001b[0m",
      "\u001b[1;31mIndexError\u001b[0m                                Traceback (most recent call last)",
      "\u001b[1;32m~\\AppData\\Local\\Temp\\ipykernel_22888\\1629920518.py\u001b[0m in \u001b[0;36m<module>\u001b[1;34m\u001b[0m\n\u001b[0;32m      1\u001b[0m \u001b[0mlst\u001b[0m\u001b[1;33m=\u001b[0m\u001b[1;33m[\u001b[0m\u001b[1;36m10\u001b[0m\u001b[1;33m,\u001b[0m\u001b[1;36m20\u001b[0m\u001b[1;33m,\u001b[0m\u001b[1;36m30\u001b[0m\u001b[1;33m,\u001b[0m\u001b[1;36m40\u001b[0m\u001b[1;33m,\u001b[0m\u001b[1;36m50\u001b[0m\u001b[1;33m]\u001b[0m\u001b[1;33m\u001b[0m\u001b[1;33m\u001b[0m\u001b[0m\n\u001b[0;32m      2\u001b[0m \u001b[1;33m\u001b[0m\u001b[0m\n\u001b[1;32m----> 3\u001b[1;33m \u001b[0mprint\u001b[0m\u001b[1;33m(\u001b[0m\u001b[0mlst\u001b[0m\u001b[1;33m[\u001b[0m\u001b[0mlen\u001b[0m\u001b[1;33m(\u001b[0m\u001b[0mlst\u001b[0m\u001b[1;33m)\u001b[0m\u001b[1;33m]\u001b[0m\u001b[1;33m)\u001b[0m\u001b[1;33m\u001b[0m\u001b[1;33m\u001b[0m\u001b[0m\n\u001b[0m",
      "\u001b[1;31mIndexError\u001b[0m: list index out of range"
     ]
    }
   ],
   "source": [
    "lst=[10,20,30,40,50]\n",
    "\n",
    "print(lst[len(lst)])"
   ]
  },
  {
   "cell_type": "code",
   "execution_count": 120,
   "id": "b899e8bf",
   "metadata": {},
   "outputs": [
    {
     "data": {
      "text/plain": [
       "5"
      ]
     },
     "execution_count": 120,
     "metadata": {},
     "output_type": "execute_result"
    }
   ],
   "source": [
    "len(lst)"
   ]
  },
  {
   "cell_type": "code",
   "execution_count": 121,
   "id": "33cde790",
   "metadata": {},
   "outputs": [
    {
     "ename": "IndexError",
     "evalue": "list index out of range",
     "output_type": "error",
     "traceback": [
      "\u001b[1;31m---------------------------------------------------------------------------\u001b[0m",
      "\u001b[1;31mIndexError\u001b[0m                                Traceback (most recent call last)",
      "\u001b[1;32m~\\AppData\\Local\\Temp\\ipykernel_22888\\370352303.py\u001b[0m in \u001b[0;36m<module>\u001b[1;34m\u001b[0m\n\u001b[1;32m----> 1\u001b[1;33m \u001b[0mlst\u001b[0m\u001b[1;33m[\u001b[0m\u001b[1;36m5\u001b[0m\u001b[1;33m]\u001b[0m\u001b[1;33m\u001b[0m\u001b[1;33m\u001b[0m\u001b[0m\n\u001b[0m",
      "\u001b[1;31mIndexError\u001b[0m: list index out of range"
     ]
    }
   ],
   "source": [
    "lst[5]"
   ]
  },
  {
   "cell_type": "code",
   "execution_count": 122,
   "id": "2d6933f9",
   "metadata": {},
   "outputs": [
    {
     "data": {
      "text/plain": [
       "4"
      ]
     },
     "execution_count": 122,
     "metadata": {},
     "output_type": "execute_result"
    }
   ],
   "source": [
    "len(lst)-1"
   ]
  },
  {
   "cell_type": "code",
   "execution_count": 123,
   "id": "3adc6878",
   "metadata": {},
   "outputs": [
    {
     "data": {
      "text/plain": [
       "50"
      ]
     },
     "execution_count": 123,
     "metadata": {},
     "output_type": "execute_result"
    }
   ],
   "source": [
    "lst[4]"
   ]
  },
  {
   "cell_type": "code",
   "execution_count": 126,
   "id": "b442e799",
   "metadata": {},
   "outputs": [
    {
     "data": {
      "text/plain": [
       "50"
      ]
     },
     "execution_count": 126,
     "metadata": {},
     "output_type": "execute_result"
    }
   ],
   "source": [
    "lst[len(lst)-1]"
   ]
  },
  {
   "cell_type": "code",
   "execution_count": 134,
   "id": "8d396490",
   "metadata": {},
   "outputs": [],
   "source": [
    "# [[[[[1215]5,1,5,1,5,5],5,5,6,7,8,9],6,4,7,9]]"
   ]
  },
  {
   "cell_type": "code",
   "execution_count": 136,
   "id": "34fdaaa5",
   "metadata": {},
   "outputs": [],
   "source": [
    "# 2-D list\n",
    "# 3-D list\n",
    "\n",
    "# or\n",
    "# Array (Numpy)"
   ]
  },
  {
   "cell_type": "code",
   "execution_count": 137,
   "id": "71fc63ab",
   "metadata": {},
   "outputs": [],
   "source": [
    "a=10\n",
    "b=20\n",
    "c=a/b"
   ]
  },
  {
   "cell_type": "code",
   "execution_count": null,
   "id": "b9dd4cea",
   "metadata": {},
   "outputs": [],
   "source": []
  }
 ],
 "metadata": {
  "kernelspec": {
   "display_name": "Python 3 (ipykernel)",
   "language": "python",
   "name": "python3"
  },
  "language_info": {
   "codemirror_mode": {
    "name": "ipython",
    "version": 3
   },
   "file_extension": ".py",
   "mimetype": "text/x-python",
   "name": "python",
   "nbconvert_exporter": "python",
   "pygments_lexer": "ipython3",
   "version": "3.9.13"
  }
 },
 "nbformat": 4,
 "nbformat_minor": 5
}
