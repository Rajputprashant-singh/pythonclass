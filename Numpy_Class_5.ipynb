{
 "cells": [
  {
   "cell_type": "code",
   "execution_count": 1,
   "id": "b7acee0a",
   "metadata": {},
   "outputs": [],
   "source": [
    "import numpy as np"
   ]
  },
  {
   "cell_type": "markdown",
   "id": "8501f247",
   "metadata": {},
   "source": [
    "# np.where()"
   ]
  },
  {
   "cell_type": "markdown",
   "id": "0f763755",
   "metadata": {},
   "source": [
    "# Case_1\n",
    "- np.where(condition)\n",
    "- It returns the indxes of the elements where the condition is True.\n",
    "- To fetch the elements we pass np.where() as the index to the array object."
   ]
  },
  {
   "cell_type": "code",
   "execution_count": 2,
   "id": "3608d14b",
   "metadata": {},
   "outputs": [],
   "source": [
    "arr=np.random.randint(10,100,12).reshape(3,4)"
   ]
  },
  {
   "cell_type": "code",
   "execution_count": 3,
   "id": "3b05908a",
   "metadata": {},
   "outputs": [
    {
     "data": {
      "text/plain": [
       "array([[73, 64, 74, 80],\n",
       "       [45, 75, 12, 74],\n",
       "       [32, 87, 74, 39]])"
      ]
     },
     "execution_count": 3,
     "metadata": {},
     "output_type": "execute_result"
    }
   ],
   "source": [
    "arr"
   ]
  },
  {
   "cell_type": "code",
   "execution_count": 4,
   "id": "2e67b127",
   "metadata": {},
   "outputs": [
    {
     "data": {
      "text/plain": [
       "(array([0, 0, 0, 0, 1, 1, 2, 2], dtype=int64),\n",
       " array([0, 1, 2, 3, 1, 3, 1, 2], dtype=int64))"
      ]
     },
     "execution_count": 4,
     "metadata": {},
     "output_type": "execute_result"
    }
   ],
   "source": [
    "np.where(arr>50)"
   ]
  },
  {
   "cell_type": "code",
   "execution_count": 6,
   "id": "f01f858d",
   "metadata": {},
   "outputs": [
    {
     "data": {
      "text/plain": [
       "array([73, 64, 74, 80, 75, 74, 87, 74])"
      ]
     },
     "execution_count": 6,
     "metadata": {},
     "output_type": "execute_result"
    }
   ],
   "source": [
    "arr[np.where(arr>50)]"
   ]
  },
  {
   "cell_type": "code",
   "execution_count": 8,
   "id": "a20e2f6c",
   "metadata": {},
   "outputs": [
    {
     "data": {
      "text/plain": [
       "array([64, 74, 80, 12, 74, 32, 74])"
      ]
     },
     "execution_count": 8,
     "metadata": {},
     "output_type": "execute_result"
    }
   ],
   "source": [
    "arr[np.where(arr%2==0)]"
   ]
  },
  {
   "cell_type": "code",
   "execution_count": 13,
   "id": "73faf6b5",
   "metadata": {},
   "outputs": [
    {
     "data": {
      "text/plain": [
       "array([73, 64, 74, 80, 75, 12, 74, 87, 74])"
      ]
     },
     "execution_count": 13,
     "metadata": {},
     "output_type": "execute_result"
    }
   ],
   "source": [
    "arr[np.where((arr>50)|(arr<30))]"
   ]
  },
  {
   "cell_type": "code",
   "execution_count": 12,
   "id": "bef6fa8b",
   "metadata": {},
   "outputs": [],
   "source": [
    "# Logical operators- and, or not\n",
    "# Bitwise operators- &, |, ~ (Numpy supported)"
   ]
  },
  {
   "cell_type": "markdown",
   "id": "d907e943",
   "metadata": {},
   "source": [
    "# Case_2\n",
    "- np.where(condition,x,y)"
   ]
  },
  {
   "cell_type": "markdown",
   "id": "ea56f544",
   "metadata": {},
   "source": [
    "- If the contition is True then x is the result. \n",
    "- If the condition is False then y is the result."
   ]
  },
  {
   "cell_type": "code",
   "execution_count": 14,
   "id": "1aee7024",
   "metadata": {},
   "outputs": [
    {
     "data": {
      "text/plain": [
       "array([[73, 64, 74, 80],\n",
       "       [45, 75, 12, 74],\n",
       "       [32, 87, 74, 39]])"
      ]
     },
     "execution_count": 14,
     "metadata": {},
     "output_type": "execute_result"
    }
   ],
   "source": [
    "arr"
   ]
  },
  {
   "cell_type": "code",
   "execution_count": 15,
   "id": "62bf1a63",
   "metadata": {},
   "outputs": [],
   "source": [
    "# All the numbers greater than 60 should be 1\n",
    "# All the numbers less than 60 should be 0"
   ]
  },
  {
   "cell_type": "code",
   "execution_count": 16,
   "id": "0c60895f",
   "metadata": {},
   "outputs": [
    {
     "data": {
      "text/plain": [
       "array([[1, 1, 1, 1],\n",
       "       [0, 1, 0, 1],\n",
       "       [0, 1, 1, 0]])"
      ]
     },
     "execution_count": 16,
     "metadata": {},
     "output_type": "execute_result"
    }
   ],
   "source": [
    "np.where(arr>60,1,0)"
   ]
  },
  {
   "cell_type": "markdown",
   "id": "6044a4d3",
   "metadata": {},
   "source": [
    "# Case_3\n",
    "- np.where(condition,x,arr)"
   ]
  },
  {
   "cell_type": "markdown",
   "id": "1a25b4db",
   "metadata": {},
   "source": [
    "- If the condition is True then x is the result.\n",
    "- If the condition is False then the value remains as it is."
   ]
  },
  {
   "cell_type": "code",
   "execution_count": 17,
   "id": "e5827505",
   "metadata": {},
   "outputs": [
    {
     "data": {
      "text/plain": [
       "array([[73, 64, 74, 80],\n",
       "       [45, 75, 12, 74],\n",
       "       [32, 87, 74, 39]])"
      ]
     },
     "execution_count": 17,
     "metadata": {},
     "output_type": "execute_result"
    }
   ],
   "source": [
    "arr"
   ]
  },
  {
   "cell_type": "code",
   "execution_count": 18,
   "id": "885c8ef7",
   "metadata": {},
   "outputs": [],
   "source": [
    "# All the numbers greater than 60 should be 1\n",
    "# All the numbers less than 60 should remain as they are."
   ]
  },
  {
   "cell_type": "code",
   "execution_count": 19,
   "id": "9026a3a0",
   "metadata": {},
   "outputs": [
    {
     "data": {
      "text/plain": [
       "array([[ 1,  1,  1,  1],\n",
       "       [45,  1, 12,  1],\n",
       "       [32,  1,  1, 39]])"
      ]
     },
     "execution_count": 19,
     "metadata": {},
     "output_type": "execute_result"
    }
   ],
   "source": [
    "np.where(arr>60,1,arr)"
   ]
  },
  {
   "cell_type": "markdown",
   "id": "2f72a5da",
   "metadata": {},
   "source": [
    "# Capping the values"
   ]
  },
  {
   "cell_type": "code",
   "execution_count": 23,
   "id": "76eb74e7",
   "metadata": {},
   "outputs": [
    {
     "data": {
      "text/plain": [
       "array([[19, 25, 74, 38, 99],\n",
       "       [39, 18, 83, 10, 50],\n",
       "       [46, 26, 21, 64, 98]])"
      ]
     },
     "execution_count": 23,
     "metadata": {},
     "output_type": "execute_result"
    }
   ],
   "source": [
    "np.random.seed(10)\n",
    "arr=np.random.randint(10,100,15).reshape(3,5)\n",
    "arr"
   ]
  },
  {
   "cell_type": "code",
   "execution_count": 24,
   "id": "fb22017e",
   "metadata": {},
   "outputs": [],
   "source": [
    "# Cap the values of the above array between 40 and 70\n",
    "# Any value less than 30 -> 30\n",
    "# Any value greater than 80 -> 80"
   ]
  },
  {
   "cell_type": "code",
   "execution_count": 26,
   "id": "181e97e4",
   "metadata": {},
   "outputs": [
    {
     "data": {
      "text/plain": [
       "array([[19, 25, 74, 38, 80],\n",
       "       [39, 18, 80, 10, 50],\n",
       "       [46, 26, 21, 64, 80]])"
      ]
     },
     "execution_count": 26,
     "metadata": {},
     "output_type": "execute_result"
    }
   ],
   "source": [
    "arr2=np.where(arr>80,80,arr)\n",
    "arr2"
   ]
  },
  {
   "cell_type": "code",
   "execution_count": 29,
   "id": "7df67647",
   "metadata": {},
   "outputs": [
    {
     "data": {
      "text/plain": [
       "array([[30, 30, 74, 38, 80],\n",
       "       [39, 30, 80, 30, 50],\n",
       "       [46, 30, 30, 64, 80]])"
      ]
     },
     "execution_count": 29,
     "metadata": {},
     "output_type": "execute_result"
    }
   ],
   "source": [
    "np.where(arr2<30,30,arr2)"
   ]
  },
  {
   "cell_type": "code",
   "execution_count": 30,
   "id": "3da20050",
   "metadata": {},
   "outputs": [
    {
     "data": {
      "text/plain": [
       "array([[19, 25, 74, 38, 99],\n",
       "       [39, 18, 83, 10, 50],\n",
       "       [46, 26, 21, 64, 98]])"
      ]
     },
     "execution_count": 30,
     "metadata": {},
     "output_type": "execute_result"
    }
   ],
   "source": [
    "arr"
   ]
  },
  {
   "cell_type": "code",
   "execution_count": 31,
   "id": "03e7e5e0",
   "metadata": {},
   "outputs": [
    {
     "data": {
      "text/plain": [
       "array([[30, 30, 74, 38, 80],\n",
       "       [39, 30, 80, 30, 50],\n",
       "       [46, 30, 30, 64, 80]])"
      ]
     },
     "execution_count": 31,
     "metadata": {},
     "output_type": "execute_result"
    }
   ],
   "source": [
    "np.where(arr<30,30,np.where(arr>80,80,arr))"
   ]
  },
  {
   "cell_type": "code",
   "execution_count": 32,
   "id": "1fc966bf",
   "metadata": {},
   "outputs": [],
   "source": [
    "import seaborn as sns"
   ]
  },
  {
   "cell_type": "code",
   "execution_count": 33,
   "id": "ec06413c",
   "metadata": {},
   "outputs": [
    {
     "data": {
      "text/html": [
       "<div>\n",
       "<style scoped>\n",
       "    .dataframe tbody tr th:only-of-type {\n",
       "        vertical-align: middle;\n",
       "    }\n",
       "\n",
       "    .dataframe tbody tr th {\n",
       "        vertical-align: top;\n",
       "    }\n",
       "\n",
       "    .dataframe thead th {\n",
       "        text-align: right;\n",
       "    }\n",
       "</style>\n",
       "<table border=\"1\" class=\"dataframe\">\n",
       "  <thead>\n",
       "    <tr style=\"text-align: right;\">\n",
       "      <th></th>\n",
       "      <th>survived</th>\n",
       "      <th>pclass</th>\n",
       "      <th>sex</th>\n",
       "      <th>age</th>\n",
       "      <th>sibsp</th>\n",
       "      <th>parch</th>\n",
       "      <th>fare</th>\n",
       "      <th>embarked</th>\n",
       "      <th>class</th>\n",
       "      <th>who</th>\n",
       "      <th>adult_male</th>\n",
       "      <th>deck</th>\n",
       "      <th>embark_town</th>\n",
       "      <th>alive</th>\n",
       "      <th>alone</th>\n",
       "    </tr>\n",
       "  </thead>\n",
       "  <tbody>\n",
       "    <tr>\n",
       "      <th>0</th>\n",
       "      <td>0</td>\n",
       "      <td>3</td>\n",
       "      <td>male</td>\n",
       "      <td>22.0</td>\n",
       "      <td>1</td>\n",
       "      <td>0</td>\n",
       "      <td>7.2500</td>\n",
       "      <td>S</td>\n",
       "      <td>Third</td>\n",
       "      <td>man</td>\n",
       "      <td>True</td>\n",
       "      <td>NaN</td>\n",
       "      <td>Southampton</td>\n",
       "      <td>no</td>\n",
       "      <td>False</td>\n",
       "    </tr>\n",
       "    <tr>\n",
       "      <th>1</th>\n",
       "      <td>1</td>\n",
       "      <td>1</td>\n",
       "      <td>female</td>\n",
       "      <td>38.0</td>\n",
       "      <td>1</td>\n",
       "      <td>0</td>\n",
       "      <td>71.2833</td>\n",
       "      <td>C</td>\n",
       "      <td>First</td>\n",
       "      <td>woman</td>\n",
       "      <td>False</td>\n",
       "      <td>C</td>\n",
       "      <td>Cherbourg</td>\n",
       "      <td>yes</td>\n",
       "      <td>False</td>\n",
       "    </tr>\n",
       "    <tr>\n",
       "      <th>2</th>\n",
       "      <td>1</td>\n",
       "      <td>3</td>\n",
       "      <td>female</td>\n",
       "      <td>26.0</td>\n",
       "      <td>0</td>\n",
       "      <td>0</td>\n",
       "      <td>7.9250</td>\n",
       "      <td>S</td>\n",
       "      <td>Third</td>\n",
       "      <td>woman</td>\n",
       "      <td>False</td>\n",
       "      <td>NaN</td>\n",
       "      <td>Southampton</td>\n",
       "      <td>yes</td>\n",
       "      <td>True</td>\n",
       "    </tr>\n",
       "    <tr>\n",
       "      <th>3</th>\n",
       "      <td>1</td>\n",
       "      <td>1</td>\n",
       "      <td>female</td>\n",
       "      <td>35.0</td>\n",
       "      <td>1</td>\n",
       "      <td>0</td>\n",
       "      <td>53.1000</td>\n",
       "      <td>S</td>\n",
       "      <td>First</td>\n",
       "      <td>woman</td>\n",
       "      <td>False</td>\n",
       "      <td>C</td>\n",
       "      <td>Southampton</td>\n",
       "      <td>yes</td>\n",
       "      <td>False</td>\n",
       "    </tr>\n",
       "    <tr>\n",
       "      <th>4</th>\n",
       "      <td>0</td>\n",
       "      <td>3</td>\n",
       "      <td>male</td>\n",
       "      <td>35.0</td>\n",
       "      <td>0</td>\n",
       "      <td>0</td>\n",
       "      <td>8.0500</td>\n",
       "      <td>S</td>\n",
       "      <td>Third</td>\n",
       "      <td>man</td>\n",
       "      <td>True</td>\n",
       "      <td>NaN</td>\n",
       "      <td>Southampton</td>\n",
       "      <td>no</td>\n",
       "      <td>True</td>\n",
       "    </tr>\n",
       "  </tbody>\n",
       "</table>\n",
       "</div>"
      ],
      "text/plain": [
       "   survived  pclass     sex   age  sibsp  parch     fare embarked  class  \\\n",
       "0         0       3    male  22.0      1      0   7.2500        S  Third   \n",
       "1         1       1  female  38.0      1      0  71.2833        C  First   \n",
       "2         1       3  female  26.0      0      0   7.9250        S  Third   \n",
       "3         1       1  female  35.0      1      0  53.1000        S  First   \n",
       "4         0       3    male  35.0      0      0   8.0500        S  Third   \n",
       "\n",
       "     who  adult_male deck  embark_town alive  alone  \n",
       "0    man        True  NaN  Southampton    no  False  \n",
       "1  woman       False    C    Cherbourg   yes  False  \n",
       "2  woman       False  NaN  Southampton   yes   True  \n",
       "3  woman       False    C  Southampton   yes  False  \n",
       "4    man        True  NaN  Southampton    no   True  "
      ]
     },
     "execution_count": 33,
     "metadata": {},
     "output_type": "execute_result"
    }
   ],
   "source": [
    "ti=sns.load_dataset('titanic')\n",
    "ti.head()"
   ]
  },
  {
   "cell_type": "code",
   "execution_count": 34,
   "id": "929a07c5",
   "metadata": {},
   "outputs": [
    {
     "data": {
      "text/plain": [
       "<AxesSubplot:ylabel='age'>"
      ]
     },
     "execution_count": 34,
     "metadata": {},
     "output_type": "execute_result"
    },
    {
     "data": {
      "image/png": "[encoded data removed]",
      "text/plain": [
       "<Figure size 640x480 with 1 Axes>"
      ]
     },
     "metadata": {},
     "output_type": "display_data"
    }
   ],
   "source": [
    "sns.boxplot(y='age',data=ti)"
   ]
  },
  {
   "cell_type": "code",
   "execution_count": 35,
   "id": "15780fbf",
   "metadata": {},
   "outputs": [
    {
     "data": {
      "text/plain": [
       "count    714.000000\n",
       "mean      29.699118\n",
       "std       14.526497\n",
       "min        0.420000\n",
       "25%       20.125000\n",
       "50%       28.000000\n",
       "75%       38.000000\n",
       "max       80.000000\n",
       "Name: age, dtype: float64"
      ]
     },
     "execution_count": 35,
     "metadata": {},
     "output_type": "execute_result"
    }
   ],
   "source": [
    "ti.age.describe()"
   ]
  },
  {
   "cell_type": "code",
   "execution_count": 39,
   "id": "d4e23849",
   "metadata": {},
   "outputs": [],
   "source": [
    "ti.age.fillna(ti.age.mean(),inplace=True)"
   ]
  },
  {
   "cell_type": "code",
   "execution_count": 40,
   "id": "3bcfcf98",
   "metadata": {},
   "outputs": [],
   "source": [
    "# Cap the values between 5 and 60"
   ]
  },
  {
   "cell_type": "code",
   "execution_count": 42,
   "id": "e6a8cbde",
   "metadata": {},
   "outputs": [],
   "source": [
    "ti['New_age']=np.where(ti.age>60,60,np.where(ti.age<5,5,ti.age))"
   ]
  },
  {
   "cell_type": "code",
   "execution_count": 43,
   "id": "999a42b0",
   "metadata": {},
   "outputs": [
    {
     "data": {
      "text/html": [
       "<div>\n",
       "<style scoped>\n",
       "    .dataframe tbody tr th:only-of-type {\n",
       "        vertical-align: middle;\n",
       "    }\n",
       "\n",
       "    .dataframe tbody tr th {\n",
       "        vertical-align: top;\n",
       "    }\n",
       "\n",
       "    .dataframe thead th {\n",
       "        text-align: right;\n",
       "    }\n",
       "</style>\n",
       "<table border=\"1\" class=\"dataframe\">\n",
       "  <thead>\n",
       "    <tr style=\"text-align: right;\">\n",
       "      <th></th>\n",
       "      <th>survived</th>\n",
       "      <th>pclass</th>\n",
       "      <th>sex</th>\n",
       "      <th>age</th>\n",
       "      <th>sibsp</th>\n",
       "      <th>parch</th>\n",
       "      <th>fare</th>\n",
       "      <th>embarked</th>\n",
       "      <th>class</th>\n",
       "      <th>who</th>\n",
       "      <th>adult_male</th>\n",
       "      <th>deck</th>\n",
       "      <th>embark_town</th>\n",
       "      <th>alive</th>\n",
       "      <th>alone</th>\n",
       "      <th>New_age</th>\n",
       "    </tr>\n",
       "  </thead>\n",
       "  <tbody>\n",
       "    <tr>\n",
       "      <th>0</th>\n",
       "      <td>0</td>\n",
       "      <td>3</td>\n",
       "      <td>male</td>\n",
       "      <td>22.0</td>\n",
       "      <td>1</td>\n",
       "      <td>0</td>\n",
       "      <td>7.2500</td>\n",
       "      <td>S</td>\n",
       "      <td>Third</td>\n",
       "      <td>man</td>\n",
       "      <td>True</td>\n",
       "      <td>NaN</td>\n",
       "      <td>Southampton</td>\n",
       "      <td>no</td>\n",
       "      <td>False</td>\n",
       "      <td>22.0</td>\n",
       "    </tr>\n",
       "    <tr>\n",
       "      <th>1</th>\n",
       "      <td>1</td>\n",
       "      <td>1</td>\n",
       "      <td>female</td>\n",
       "      <td>38.0</td>\n",
       "      <td>1</td>\n",
       "      <td>0</td>\n",
       "      <td>71.2833</td>\n",
       "      <td>C</td>\n",
       "      <td>First</td>\n",
       "      <td>woman</td>\n",
       "      <td>False</td>\n",
       "      <td>C</td>\n",
       "      <td>Cherbourg</td>\n",
       "      <td>yes</td>\n",
       "      <td>False</td>\n",
       "      <td>38.0</td>\n",
       "    </tr>\n",
       "    <tr>\n",
       "      <th>2</th>\n",
       "      <td>1</td>\n",
       "      <td>3</td>\n",
       "      <td>female</td>\n",
       "      <td>26.0</td>\n",
       "      <td>0</td>\n",
       "      <td>0</td>\n",
       "      <td>7.9250</td>\n",
       "      <td>S</td>\n",
       "      <td>Third</td>\n",
       "      <td>woman</td>\n",
       "      <td>False</td>\n",
       "      <td>NaN</td>\n",
       "      <td>Southampton</td>\n",
       "      <td>yes</td>\n",
       "      <td>True</td>\n",
       "      <td>26.0</td>\n",
       "    </tr>\n",
       "    <tr>\n",
       "      <th>3</th>\n",
       "      <td>1</td>\n",
       "      <td>1</td>\n",
       "      <td>female</td>\n",
       "      <td>35.0</td>\n",
       "      <td>1</td>\n",
       "      <td>0</td>\n",
       "      <td>53.1000</td>\n",
       "      <td>S</td>\n",
       "      <td>First</td>\n",
       "      <td>woman</td>\n",
       "      <td>False</td>\n",
       "      <td>C</td>\n",
       "      <td>Southampton</td>\n",
       "      <td>yes</td>\n",
       "      <td>False</td>\n",
       "      <td>35.0</td>\n",
       "    </tr>\n",
       "    <tr>\n",
       "      <th>4</th>\n",
       "      <td>0</td>\n",
       "      <td>3</td>\n",
       "      <td>male</td>\n",
       "      <td>35.0</td>\n",
       "      <td>0</td>\n",
       "      <td>0</td>\n",
       "      <td>8.0500</td>\n",
       "      <td>S</td>\n",
       "      <td>Third</td>\n",
       "      <td>man</td>\n",
       "      <td>True</td>\n",
       "      <td>NaN</td>\n",
       "      <td>Southampton</td>\n",
       "      <td>no</td>\n",
       "      <td>True</td>\n",
       "      <td>35.0</td>\n",
       "    </tr>\n",
       "  </tbody>\n",
       "</table>\n",
       "</div>"
      ],
      "text/plain": [
       "   survived  pclass     sex   age  sibsp  parch     fare embarked  class  \\\n",
       "0         0       3    male  22.0      1      0   7.2500        S  Third   \n",
       "1         1       1  female  38.0      1      0  71.2833        C  First   \n",
       "2         1       3  female  26.0      0      0   7.9250        S  Third   \n",
       "3         1       1  female  35.0      1      0  53.1000        S  First   \n",
       "4         0       3    male  35.0      0      0   8.0500        S  Third   \n",
       "\n",
       "     who  adult_male deck  embark_town alive  alone  New_age  \n",
       "0    man        True  NaN  Southampton    no  False     22.0  \n",
       "1  woman       False    C    Cherbourg   yes  False     38.0  \n",
       "2  woman       False  NaN  Southampton   yes   True     26.0  \n",
       "3  woman       False    C  Southampton   yes  False     35.0  \n",
       "4    man        True  NaN  Southampton    no   True     35.0  "
      ]
     },
     "execution_count": 43,
     "metadata": {},
     "output_type": "execute_result"
    }
   ],
   "source": [
    "ti.head()"
   ]
  },
  {
   "cell_type": "code",
   "execution_count": 44,
   "id": "78f5ba0d",
   "metadata": {},
   "outputs": [
    {
     "data": {
      "text/plain": [
       "<AxesSubplot:ylabel='New_age'>"
      ]
     },
     "execution_count": 44,
     "metadata": {},
     "output_type": "execute_result"
    },
    {
     "data": {
      "image/png": "[encoded data removed]",
      "text/plain": [
       "<Figure size 640x480 with 1 Axes>"
      ]
     },
     "metadata": {},
     "output_type": "display_data"
    }
   ],
   "source": [
    "sns.boxplot(y='New_age',data=ti)"
   ]
  },
  {
   "cell_type": "code",
   "execution_count": 46,
   "id": "a39bf277",
   "metadata": {},
   "outputs": [
    {
     "data": {
      "text/plain": [
       "count    891.000000\n",
       "mean      29.673674\n",
       "std       12.330167\n",
       "min        5.000000\n",
       "25%       22.000000\n",
       "50%       29.699118\n",
       "75%       35.000000\n",
       "max       60.000000\n",
       "Name: New_age, dtype: float64"
      ]
     },
     "execution_count": 46,
     "metadata": {},
     "output_type": "execute_result"
    }
   ],
   "source": [
    "ti.New_age.describe()"
   ]
  },
  {
   "cell_type": "markdown",
   "id": "b4c55113",
   "metadata": {},
   "source": [
    "# np.clip()"
   ]
  },
  {
   "cell_type": "markdown",
   "id": "21a314fc",
   "metadata": {},
   "source": [
    "- It is used to cap the values."
   ]
  },
  {
   "cell_type": "code",
   "execution_count": 53,
   "id": "9d7f6e07",
   "metadata": {},
   "outputs": [],
   "source": [
    "# np.clip(arr,lower_limit,upper_limit)"
   ]
  },
  {
   "cell_type": "code",
   "execution_count": 48,
   "id": "c9a2dbbe",
   "metadata": {},
   "outputs": [
    {
     "data": {
      "text/plain": [
       "array([[19, 25, 74, 38, 99],\n",
       "       [39, 18, 83, 10, 50],\n",
       "       [46, 26, 21, 64, 98]])"
      ]
     },
     "execution_count": 48,
     "metadata": {},
     "output_type": "execute_result"
    }
   ],
   "source": [
    "arr"
   ]
  },
  {
   "cell_type": "code",
   "execution_count": 49,
   "id": "8b62164c",
   "metadata": {},
   "outputs": [],
   "source": [
    "# Cap the values between 30 and 70"
   ]
  },
  {
   "cell_type": "code",
   "execution_count": 52,
   "id": "99c2f7f1",
   "metadata": {},
   "outputs": [
    {
     "data": {
      "text/plain": [
       "array([[30, 30, 70, 38, 70],\n",
       "       [39, 30, 70, 30, 50],\n",
       "       [46, 30, 30, 64, 70]])"
      ]
     },
     "execution_count": 52,
     "metadata": {},
     "output_type": "execute_result"
    }
   ],
   "source": [
    "np.clip(arr,30,70)"
   ]
  },
  {
   "cell_type": "markdown",
   "id": "e3369f0f",
   "metadata": {},
   "source": [
    "# Conditional statements on arrays"
   ]
  },
  {
   "cell_type": "code",
   "execution_count": 54,
   "id": "3fb30877",
   "metadata": {},
   "outputs": [
    {
     "data": {
      "text/plain": [
       "array([[19, 25, 74, 38, 99],\n",
       "       [39, 18, 83, 10, 50],\n",
       "       [46, 26, 21, 64, 98]])"
      ]
     },
     "execution_count": 54,
     "metadata": {},
     "output_type": "execute_result"
    }
   ],
   "source": [
    "arr"
   ]
  },
  {
   "cell_type": "code",
   "execution_count": 56,
   "id": "d53ef069",
   "metadata": {},
   "outputs": [],
   "source": [
    "# condition- Boolean array\n",
    "# arr[condition]- Values"
   ]
  },
  {
   "cell_type": "code",
   "execution_count": 57,
   "id": "32a8e587",
   "metadata": {},
   "outputs": [
    {
     "data": {
      "text/plain": [
       "array([[False, False,  True, False,  True],\n",
       "       [False, False,  True, False, False],\n",
       "       [False, False, False,  True,  True]])"
      ]
     },
     "execution_count": 57,
     "metadata": {},
     "output_type": "execute_result"
    }
   ],
   "source": [
    "arr>60"
   ]
  },
  {
   "cell_type": "code",
   "execution_count": 59,
   "id": "cfe837cd",
   "metadata": {},
   "outputs": [
    {
     "data": {
      "text/plain": [
       "array([74, 99, 83, 64, 98])"
      ]
     },
     "execution_count": 59,
     "metadata": {},
     "output_type": "execute_result"
    }
   ],
   "source": [
    "arr[arr>60]"
   ]
  },
  {
   "cell_type": "code",
   "execution_count": 60,
   "id": "4b222ce6",
   "metadata": {},
   "outputs": [
    {
     "data": {
      "text/plain": [
       "array([[19, 25, 74, 38, 99],\n",
       "       [39, 18, 83, 10, 50],\n",
       "       [46, 26, 21, 64, 98]])"
      ]
     },
     "execution_count": 60,
     "metadata": {},
     "output_type": "execute_result"
    }
   ],
   "source": [
    "arr"
   ]
  },
  {
   "cell_type": "code",
   "execution_count": 63,
   "id": "e0837b31",
   "metadata": {},
   "outputs": [
    {
     "data": {
      "text/plain": [
       "array([[False, False, False, False, False],\n",
       "       [False, False, False,  True,  True],\n",
       "       [False, False, False, False, False]])"
      ]
     },
     "execution_count": 63,
     "metadata": {},
     "output_type": "execute_result"
    }
   ],
   "source": [
    "# Fetch the values that are divisible by 2 and 5 both\n",
    "\n",
    "(arr%5==0)&(arr%2==0)"
   ]
  },
  {
   "cell_type": "code",
   "execution_count": 64,
   "id": "ec57e6c9",
   "metadata": {},
   "outputs": [
    {
     "data": {
      "text/plain": [
       "array([10, 50])"
      ]
     },
     "execution_count": 64,
     "metadata": {},
     "output_type": "execute_result"
    }
   ],
   "source": [
    "arr[(arr%5==0)&(arr%2==0)]"
   ]
  },
  {
   "cell_type": "markdown",
   "id": "0292af08",
   "metadata": {},
   "source": [
    "# Array is mutable"
   ]
  },
  {
   "cell_type": "code",
   "execution_count": 65,
   "id": "8386d7cf",
   "metadata": {},
   "outputs": [
    {
     "data": {
      "text/plain": [
       "array([[19, 25, 74, 38, 99],\n",
       "       [39, 18, 83, 10, 50],\n",
       "       [46, 26, 21, 64, 98]])"
      ]
     },
     "execution_count": 65,
     "metadata": {},
     "output_type": "execute_result"
    }
   ],
   "source": [
    "arr"
   ]
  },
  {
   "cell_type": "code",
   "execution_count": 66,
   "id": "a1132e95",
   "metadata": {},
   "outputs": [],
   "source": [
    "# 19 -> 1000"
   ]
  },
  {
   "cell_type": "code",
   "execution_count": 68,
   "id": "1d0a1ef6",
   "metadata": {},
   "outputs": [],
   "source": [
    "arr[0,0]=1000"
   ]
  },
  {
   "cell_type": "code",
   "execution_count": 69,
   "id": "fb0b1413",
   "metadata": {},
   "outputs": [
    {
     "data": {
      "text/plain": [
       "array([[1000,   25,   74,   38,   99],\n",
       "       [  39,   18,   83,   10,   50],\n",
       "       [  46,   26,   21,   64,   98]])"
      ]
     },
     "execution_count": 69,
     "metadata": {},
     "output_type": "execute_result"
    }
   ],
   "source": [
    "arr"
   ]
  },
  {
   "cell_type": "code",
   "execution_count": 72,
   "id": "f680970f",
   "metadata": {},
   "outputs": [],
   "source": [
    "arr[arr>70]=0"
   ]
  },
  {
   "cell_type": "code",
   "execution_count": 73,
   "id": "2b5cf60f",
   "metadata": {},
   "outputs": [
    {
     "data": {
      "text/plain": [
       "array([[ 0, 25,  0, 38,  0],\n",
       "       [39, 18,  0, 10, 50],\n",
       "       [46, 26, 21, 64,  0]])"
      ]
     },
     "execution_count": 73,
     "metadata": {},
     "output_type": "execute_result"
    }
   ],
   "source": [
    "arr"
   ]
  },
  {
   "cell_type": "markdown",
   "id": "941bba3f",
   "metadata": {},
   "source": [
    "# Array concatenation"
   ]
  },
  {
   "cell_type": "markdown",
   "id": "cba704d9",
   "metadata": {},
   "source": [
    "- 1- Vertical concatenation\n",
    "- 2- Horizontal concatenation"
   ]
  },
  {
   "cell_type": "code",
   "execution_count": 80,
   "id": "51f24a4f",
   "metadata": {},
   "outputs": [],
   "source": [
    "# np.concatenate((x,y),axis=0/1)"
   ]
  },
  {
   "cell_type": "code",
   "execution_count": 74,
   "id": "09872f75",
   "metadata": {},
   "outputs": [
    {
     "data": {
      "text/plain": [
       "array([[1, 2, 3],\n",
       "       [4, 5, 6],\n",
       "       [7, 8, 9]])"
      ]
     },
     "execution_count": 74,
     "metadata": {},
     "output_type": "execute_result"
    }
   ],
   "source": [
    "x=np.arange(1,10).reshape(3,3)\n",
    "x"
   ]
  },
  {
   "cell_type": "code",
   "execution_count": 76,
   "id": "d70c1537",
   "metadata": {},
   "outputs": [
    {
     "data": {
      "text/plain": [
       "(3, 3)"
      ]
     },
     "execution_count": 76,
     "metadata": {},
     "output_type": "execute_result"
    }
   ],
   "source": [
    "x.shape"
   ]
  },
  {
   "cell_type": "code",
   "execution_count": 78,
   "id": "c1d6ab49",
   "metadata": {},
   "outputs": [
    {
     "data": {
      "text/plain": [
       "array([[10, 20, 30]])"
      ]
     },
     "execution_count": 78,
     "metadata": {},
     "output_type": "execute_result"
    }
   ],
   "source": [
    "y=np.array([10,20,30]).reshape(1,3)\n",
    "y"
   ]
  },
  {
   "cell_type": "code",
   "execution_count": 79,
   "id": "39c1b9d5",
   "metadata": {},
   "outputs": [
    {
     "data": {
      "text/plain": [
       "(1, 3)"
      ]
     },
     "execution_count": 79,
     "metadata": {},
     "output_type": "execute_result"
    }
   ],
   "source": [
    "y.shape"
   ]
  },
  {
   "cell_type": "code",
   "execution_count": 81,
   "id": "846fecd5",
   "metadata": {},
   "outputs": [
    {
     "data": {
      "text/plain": [
       "array([[ 1,  2,  3],\n",
       "       [ 4,  5,  6],\n",
       "       [ 7,  8,  9],\n",
       "       [10, 20, 30]])"
      ]
     },
     "execution_count": 81,
     "metadata": {},
     "output_type": "execute_result"
    }
   ],
   "source": [
    "np.concatenate((x,y),axis=0)"
   ]
  },
  {
   "cell_type": "code",
   "execution_count": 82,
   "id": "4adc802e",
   "metadata": {},
   "outputs": [
    {
     "data": {
      "text/plain": [
       "array([[ 1,  2,  3],\n",
       "       [ 4,  5,  6],\n",
       "       [ 7,  8,  9],\n",
       "       [10, 20, 30]])"
      ]
     },
     "execution_count": 82,
     "metadata": {},
     "output_type": "execute_result"
    }
   ],
   "source": [
    "np.concatenate((x,y))"
   ]
  },
  {
   "cell_type": "code",
   "execution_count": 84,
   "id": "1c10b3b1",
   "metadata": {},
   "outputs": [],
   "source": [
    "# np.concatenate((x,y),axis=1)"
   ]
  },
  {
   "cell_type": "code",
   "execution_count": 85,
   "id": "8261a111",
   "metadata": {},
   "outputs": [
    {
     "data": {
      "text/plain": [
       "array([[1, 2, 3],\n",
       "       [4, 5, 6],\n",
       "       [7, 8, 9]])"
      ]
     },
     "execution_count": 85,
     "metadata": {},
     "output_type": "execute_result"
    }
   ],
   "source": [
    "x"
   ]
  },
  {
   "cell_type": "code",
   "execution_count": 86,
   "id": "77212d9f",
   "metadata": {},
   "outputs": [
    {
     "data": {
      "text/plain": [
       "array([[10],\n",
       "       [20],\n",
       "       [30]])"
      ]
     },
     "execution_count": 86,
     "metadata": {},
     "output_type": "execute_result"
    }
   ],
   "source": [
    "y=np.array([10,20,30]).reshape(3,1)\n",
    "y"
   ]
  },
  {
   "cell_type": "code",
   "execution_count": 87,
   "id": "9e0c47d7",
   "metadata": {},
   "outputs": [
    {
     "data": {
      "text/plain": [
       "array([[1, 2, 3],\n",
       "       [4, 5, 6],\n",
       "       [7, 8, 9]])"
      ]
     },
     "execution_count": 87,
     "metadata": {},
     "output_type": "execute_result"
    }
   ],
   "source": [
    "x"
   ]
  },
  {
   "cell_type": "code",
   "execution_count": 92,
   "id": "2685baed",
   "metadata": {},
   "outputs": [
    {
     "data": {
      "text/plain": [
       "array([[ 1,  2,  3, 10],\n",
       "       [ 4,  5,  6, 20],\n",
       "       [ 7,  8,  9, 30]])"
      ]
     },
     "execution_count": 92,
     "metadata": {},
     "output_type": "execute_result"
    }
   ],
   "source": [
    "np.concatenate((x,y),axis=1)"
   ]
  },
  {
   "cell_type": "code",
   "execution_count": 93,
   "id": "58a744b9",
   "metadata": {},
   "outputs": [
    {
     "data": {
      "text/plain": [
       "array([[1, 2, 3],\n",
       "       [4, 5, 6],\n",
       "       [7, 8, 9]])"
      ]
     },
     "execution_count": 93,
     "metadata": {},
     "output_type": "execute_result"
    }
   ],
   "source": [
    "x"
   ]
  },
  {
   "cell_type": "code",
   "execution_count": 94,
   "id": "ca94f77f",
   "metadata": {},
   "outputs": [
    {
     "data": {
      "text/plain": [
       "array([[10, 20, 30],\n",
       "       [40, 50, 60],\n",
       "       [70, 80, 90]])"
      ]
     },
     "execution_count": 94,
     "metadata": {},
     "output_type": "execute_result"
    }
   ],
   "source": [
    "y=np.array([10,20,30,40,50,60,70,80,90]).reshape(3,3)\n",
    "y"
   ]
  },
  {
   "cell_type": "code",
   "execution_count": 95,
   "id": "2eb80e54",
   "metadata": {},
   "outputs": [
    {
     "data": {
      "text/plain": [
       "array([[1, 2, 3],\n",
       "       [4, 5, 6],\n",
       "       [7, 8, 9]])"
      ]
     },
     "execution_count": 95,
     "metadata": {},
     "output_type": "execute_result"
    }
   ],
   "source": [
    "x"
   ]
  },
  {
   "cell_type": "code",
   "execution_count": 97,
   "id": "b7dfc228",
   "metadata": {},
   "outputs": [
    {
     "data": {
      "text/plain": [
       "array([[ 1,  2,  3],\n",
       "       [ 4,  5,  6],\n",
       "       [ 7,  8,  9],\n",
       "       [10, 20, 30],\n",
       "       [40, 50, 60],\n",
       "       [70, 80, 90]])"
      ]
     },
     "execution_count": 97,
     "metadata": {},
     "output_type": "execute_result"
    }
   ],
   "source": [
    "np.concatenate((x,y),axis=0)"
   ]
  },
  {
   "cell_type": "code",
   "execution_count": 98,
   "id": "c01561cf",
   "metadata": {},
   "outputs": [
    {
     "data": {
      "text/plain": [
       "array([[ 1,  2,  3, 10, 20, 30],\n",
       "       [ 4,  5,  6, 40, 50, 60],\n",
       "       [ 7,  8,  9, 70, 80, 90]])"
      ]
     },
     "execution_count": 98,
     "metadata": {},
     "output_type": "execute_result"
    }
   ],
   "source": [
    "np.concatenate((x,y),axis=1)"
   ]
  },
  {
   "cell_type": "markdown",
   "id": "174638aa",
   "metadata": {},
   "source": [
    "# Array sorting"
   ]
  },
  {
   "cell_type": "code",
   "execution_count": 108,
   "id": "790fccf2",
   "metadata": {},
   "outputs": [],
   "source": [
    "# np.sort(arr)\n",
    "# arr.sort()"
   ]
  },
  {
   "cell_type": "code",
   "execution_count": 102,
   "id": "3db210a6",
   "metadata": {},
   "outputs": [],
   "source": [
    "r=arr.ravel()"
   ]
  },
  {
   "cell_type": "code",
   "execution_count": 103,
   "id": "a13636e4",
   "metadata": {},
   "outputs": [
    {
     "data": {
      "text/plain": [
       "array([ 0, 25,  0, 38,  0, 39, 18,  0, 10, 50, 46, 26, 21, 64,  0])"
      ]
     },
     "execution_count": 103,
     "metadata": {},
     "output_type": "execute_result"
    }
   ],
   "source": [
    "r"
   ]
  },
  {
   "cell_type": "code",
   "execution_count": 105,
   "id": "c657945b",
   "metadata": {},
   "outputs": [
    {
     "data": {
      "text/plain": [
       "array([ 0,  0,  0,  0,  0, 10, 18, 21, 25, 26, 38, 39, 46, 50, 64])"
      ]
     },
     "execution_count": 105,
     "metadata": {},
     "output_type": "execute_result"
    }
   ],
   "source": [
    "np.sort(r)"
   ]
  },
  {
   "cell_type": "code",
   "execution_count": 106,
   "id": "5f211a2d",
   "metadata": {},
   "outputs": [
    {
     "data": {
      "text/plain": [
       "array([ 0, 25,  0, 38,  0, 39, 18,  0, 10, 50, 46, 26, 21, 64,  0])"
      ]
     },
     "execution_count": 106,
     "metadata": {},
     "output_type": "execute_result"
    }
   ],
   "source": [
    "r"
   ]
  },
  {
   "cell_type": "code",
   "execution_count": 111,
   "id": "0aab86c5",
   "metadata": {},
   "outputs": [
    {
     "data": {
      "text/plain": [
       "array([64, 50, 46, 39, 38, 26, 25, 21, 18, 10,  0,  0,  0,  0,  0])"
      ]
     },
     "execution_count": 111,
     "metadata": {},
     "output_type": "execute_result"
    }
   ],
   "source": [
    "np.sort(r)[::-1]"
   ]
  },
  {
   "cell_type": "code",
   "execution_count": 113,
   "id": "626e995a",
   "metadata": {},
   "outputs": [],
   "source": [
    "arr=np.random.randint(10,100,12).reshape(3,4)"
   ]
  },
  {
   "cell_type": "code",
   "execution_count": 114,
   "id": "22cd137c",
   "metadata": {},
   "outputs": [
    {
     "data": {
      "text/plain": [
       "array([[72, 43, 82, 88],\n",
       "       [59, 61, 64, 87],\n",
       "       [79, 23, 35, 23]])"
      ]
     },
     "execution_count": 114,
     "metadata": {},
     "output_type": "execute_result"
    }
   ],
   "source": [
    "arr"
   ]
  },
  {
   "cell_type": "code",
   "execution_count": 115,
   "id": "2282222c",
   "metadata": {},
   "outputs": [
    {
     "data": {
      "text/plain": [
       "array([[59, 23, 35, 23],\n",
       "       [72, 43, 64, 87],\n",
       "       [79, 61, 82, 88]])"
      ]
     },
     "execution_count": 115,
     "metadata": {},
     "output_type": "execute_result"
    }
   ],
   "source": [
    "np.sort(arr,axis=0)"
   ]
  },
  {
   "cell_type": "code",
   "execution_count": 117,
   "id": "690feb3b",
   "metadata": {},
   "outputs": [
    {
     "data": {
      "text/plain": [
       "array([[43, 72, 82, 88],\n",
       "       [59, 61, 64, 87],\n",
       "       [23, 23, 35, 79]])"
      ]
     },
     "execution_count": 117,
     "metadata": {},
     "output_type": "execute_result"
    }
   ],
   "source": [
    "np.sort(arr,axis=1)"
   ]
  },
  {
   "cell_type": "markdown",
   "id": "7bb5be35",
   "metadata": {},
   "source": [
    "# Decsending order"
   ]
  },
  {
   "cell_type": "code",
   "execution_count": 119,
   "id": "835b7e90",
   "metadata": {},
   "outputs": [
    {
     "data": {
      "text/plain": [
       "array([[79, 61, 82, 88],\n",
       "       [72, 43, 64, 87],\n",
       "       [59, 23, 35, 23]])"
      ]
     },
     "execution_count": 119,
     "metadata": {},
     "output_type": "execute_result"
    }
   ],
   "source": [
    "np.sort(arr,axis=0)[::-1]"
   ]
  },
  {
   "cell_type": "code",
   "execution_count": 121,
   "id": "e44d9449",
   "metadata": {},
   "outputs": [
    {
     "data": {
      "text/plain": [
       "array([[88, 82, 72, 43],\n",
       "       [87, 64, 61, 59],\n",
       "       [79, 35, 23, 23]])"
      ]
     },
     "execution_count": 121,
     "metadata": {},
     "output_type": "execute_result"
    }
   ],
   "source": [
    "np.sort(arr,axis=1)[::,::-1]"
   ]
  },
  {
   "cell_type": "code",
   "execution_count": 124,
   "id": "86eb9ce1",
   "metadata": {},
   "outputs": [
    {
     "data": {
      "text/plain": [
       "array([[43, 72, 82, 88],\n",
       "       [59, 61, 64, 87],\n",
       "       [23, 23, 35, 79]])"
      ]
     },
     "execution_count": 124,
     "metadata": {},
     "output_type": "execute_result"
    }
   ],
   "source": [
    "x=np.sort(arr,axis=1)\n",
    "x"
   ]
  },
  {
   "cell_type": "code",
   "execution_count": 128,
   "id": "20e33723",
   "metadata": {},
   "outputs": [
    {
     "data": {
      "text/plain": [
       "array([[88, 82, 72, 43],\n",
       "       [87, 64, 61, 59],\n",
       "       [79, 35, 23, 23]])"
      ]
     },
     "execution_count": 128,
     "metadata": {},
     "output_type": "execute_result"
    }
   ],
   "source": [
    "x[::,::-1]"
   ]
  },
  {
   "cell_type": "code",
   "execution_count": 129,
   "id": "3e18d6a9",
   "metadata": {},
   "outputs": [
    {
     "data": {
      "text/plain": [
       "array([[72, 43, 82, 88],\n",
       "       [59, 61, 64, 87],\n",
       "       [79, 23, 35, 23]])"
      ]
     },
     "execution_count": 129,
     "metadata": {},
     "output_type": "execute_result"
    }
   ],
   "source": [
    "arr"
   ]
  },
  {
   "cell_type": "code",
   "execution_count": 133,
   "id": "c1550526",
   "metadata": {},
   "outputs": [
    {
     "data": {
      "text/plain": [
       "array(['10', '20', 'a', '(10+20j)', 'G'], dtype='<U64')"
      ]
     },
     "execution_count": 133,
     "metadata": {},
     "output_type": "execute_result"
    }
   ],
   "source": [
    "h=np.array([10,20,'a',10+20j,'G'])\n",
    "h"
   ]
  },
  {
   "cell_type": "code",
   "execution_count": 136,
   "id": "40381b24",
   "metadata": {},
   "outputs": [
    {
     "data": {
      "text/plain": [
       "array(['(10+20j)', '10', '20', 'G', 'a'], dtype='<U64')"
      ]
     },
     "execution_count": 136,
     "metadata": {},
     "output_type": "execute_result"
    }
   ],
   "source": [
    "np.sort(h)"
   ]
  },
  {
   "cell_type": "code",
   "execution_count": 135,
   "id": "9aae9f5b",
   "metadata": {},
   "outputs": [
    {
     "data": {
      "text/plain": [
       "array(['a', 'G', '20', '10', '(10+20j)'], dtype='<U64')"
      ]
     },
     "execution_count": 135,
     "metadata": {},
     "output_type": "execute_result"
    }
   ],
   "source": [
    "np.sort(h)[::-1]"
   ]
  },
  {
   "cell_type": "markdown",
   "id": "24e073c5",
   "metadata": {},
   "source": [
    "# ravel()"
   ]
  },
  {
   "cell_type": "markdown",
   "id": "d99f1fea",
   "metadata": {},
   "source": [
    "- It converts an ndarray into 1-D array.\n",
    "- Itb returns  a new array."
   ]
  },
  {
   "cell_type": "code",
   "execution_count": 137,
   "id": "fb304d0e",
   "metadata": {},
   "outputs": [
    {
     "data": {
      "text/plain": [
       "array([[72, 43, 82, 88],\n",
       "       [59, 61, 64, 87],\n",
       "       [79, 23, 35, 23]])"
      ]
     },
     "execution_count": 137,
     "metadata": {},
     "output_type": "execute_result"
    }
   ],
   "source": [
    "arr"
   ]
  },
  {
   "cell_type": "code",
   "execution_count": 138,
   "id": "1b4353cd",
   "metadata": {},
   "outputs": [
    {
     "data": {
      "text/plain": [
       "array([72, 43, 82, 88, 59, 61, 64, 87, 79, 23, 35, 23])"
      ]
     },
     "execution_count": 138,
     "metadata": {},
     "output_type": "execute_result"
    }
   ],
   "source": [
    "arr.ravel()"
   ]
  },
  {
   "cell_type": "code",
   "execution_count": 139,
   "id": "0d70d79b",
   "metadata": {},
   "outputs": [
    {
     "data": {
      "text/plain": [
       "array([[72, 43, 82, 88],\n",
       "       [59, 61, 64, 87],\n",
       "       [79, 23, 35, 23]])"
      ]
     },
     "execution_count": 139,
     "metadata": {},
     "output_type": "execute_result"
    }
   ],
   "source": [
    "arr"
   ]
  },
  {
   "cell_type": "code",
   "execution_count": 140,
   "id": "87f940fc",
   "metadata": {},
   "outputs": [],
   "source": [
    "z=np.random.randint(10,100,36).reshape(3,4,3)"
   ]
  },
  {
   "cell_type": "code",
   "execution_count": 141,
   "id": "f16aeb9c",
   "metadata": {},
   "outputs": [
    {
     "data": {
      "text/plain": [
       "array([[[96, 40, 40],\n",
       "        [99, 22, 75],\n",
       "        [41, 67, 46],\n",
       "        [37, 28, 87]],\n",
       "\n",
       "       [[32, 33, 21],\n",
       "        [38, 84, 98],\n",
       "        [19, 25, 28],\n",
       "        [90, 81, 98]],\n",
       "\n",
       "       [[21, 27, 56],\n",
       "        [17, 85, 38],\n",
       "        [43, 94, 98],\n",
       "        [54, 15, 14]]])"
      ]
     },
     "execution_count": 141,
     "metadata": {},
     "output_type": "execute_result"
    }
   ],
   "source": [
    "z"
   ]
  },
  {
   "cell_type": "code",
   "execution_count": 142,
   "id": "604e96d7",
   "metadata": {},
   "outputs": [
    {
     "data": {
      "text/plain": [
       "array([96, 40, 40, 99, 22, 75, 41, 67, 46, 37, 28, 87, 32, 33, 21, 38, 84,\n",
       "       98, 19, 25, 28, 90, 81, 98, 21, 27, 56, 17, 85, 38, 43, 94, 98, 54,\n",
       "       15, 14])"
      ]
     },
     "execution_count": 142,
     "metadata": {},
     "output_type": "execute_result"
    }
   ],
   "source": [
    "z.ravel()"
   ]
  },
  {
   "cell_type": "code",
   "execution_count": 143,
   "id": "2422730a",
   "metadata": {},
   "outputs": [
    {
     "data": {
      "text/plain": [
       "array([[[96, 40, 40],\n",
       "        [99, 22, 75],\n",
       "        [41, 67, 46],\n",
       "        [37, 28, 87]],\n",
       "\n",
       "       [[32, 33, 21],\n",
       "        [38, 84, 98],\n",
       "        [19, 25, 28],\n",
       "        [90, 81, 98]],\n",
       "\n",
       "       [[21, 27, 56],\n",
       "        [17, 85, 38],\n",
       "        [43, 94, 98],\n",
       "        [54, 15, 14]]])"
      ]
     },
     "execution_count": 143,
     "metadata": {},
     "output_type": "execute_result"
    }
   ],
   "source": [
    "z"
   ]
  },
  {
   "cell_type": "markdown",
   "id": "607a8cf1",
   "metadata": {},
   "source": [
    "# Arithmetic Operations"
   ]
  },
  {
   "cell_type": "code",
   "execution_count": 144,
   "id": "b7ffc6af",
   "metadata": {},
   "outputs": [
    {
     "data": {
      "text/plain": [
       "array([[72, 43, 82, 88],\n",
       "       [59, 61, 64, 87],\n",
       "       [79, 23, 35, 23]])"
      ]
     },
     "execution_count": 144,
     "metadata": {},
     "output_type": "execute_result"
    }
   ],
   "source": [
    "arr"
   ]
  },
  {
   "cell_type": "code",
   "execution_count": 146,
   "id": "4f458cb7",
   "metadata": {},
   "outputs": [
    {
     "data": {
      "text/plain": [
       "array([[74.8, 45.8, 84.8, 90.8],\n",
       "       [61.8, 63.8, 66.8, 89.8],\n",
       "       [81.8, 25.8, 37.8, 25.8]])"
      ]
     },
     "execution_count": 146,
     "metadata": {},
     "output_type": "execute_result"
    }
   ],
   "source": [
    "arr+2.8"
   ]
  },
  {
   "cell_type": "code",
   "execution_count": 148,
   "id": "e071872b",
   "metadata": {},
   "outputs": [
    {
     "data": {
      "text/plain": [
       "array([[14.4,  8.6, 16.4, 17.6],\n",
       "       [11.8, 12.2, 12.8, 17.4],\n",
       "       [15.8,  4.6,  7. ,  4.6]])"
      ]
     },
     "execution_count": 148,
     "metadata": {},
     "output_type": "execute_result"
    }
   ],
   "source": [
    "arr/5"
   ]
  },
  {
   "cell_type": "code",
   "execution_count": 149,
   "id": "afbf68d5",
   "metadata": {},
   "outputs": [
    {
     "data": {
      "text/plain": [
       "array([[144,  86, 164, 176],\n",
       "       [118, 122, 128, 174],\n",
       "       [158,  46,  70,  46]])"
      ]
     },
     "execution_count": 149,
     "metadata": {},
     "output_type": "execute_result"
    }
   ],
   "source": [
    "arr*2"
   ]
  },
  {
   "cell_type": "code",
   "execution_count": 150,
   "id": "433ea149",
   "metadata": {},
   "outputs": [
    {
     "data": {
      "text/plain": [
       "array([[0, 1, 1, 1],\n",
       "       [2, 1, 1, 0],\n",
       "       [1, 2, 2, 2]], dtype=int32)"
      ]
     },
     "execution_count": 150,
     "metadata": {},
     "output_type": "execute_result"
    }
   ],
   "source": [
    "arr%3"
   ]
  },
  {
   "cell_type": "code",
   "execution_count": 152,
   "id": "e18ff320",
   "metadata": {},
   "outputs": [
    {
     "data": {
      "text/plain": [
       "array([[5184, 1849, 6724, 7744],\n",
       "       [3481, 3721, 4096, 7569],\n",
       "       [6241,  529, 1225,  529]], dtype=int32)"
      ]
     },
     "execution_count": 152,
     "metadata": {},
     "output_type": "execute_result"
    }
   ],
   "source": [
    "arr**2"
   ]
  },
  {
   "cell_type": "code",
   "execution_count": 153,
   "id": "05d4b73c",
   "metadata": {},
   "outputs": [
    {
     "data": {
      "text/plain": [
       "array([[43, 72, 82, 88],\n",
       "       [59, 61, 64, 87],\n",
       "       [23, 23, 35, 79]])"
      ]
     },
     "execution_count": 153,
     "metadata": {},
     "output_type": "execute_result"
    }
   ],
   "source": [
    "x"
   ]
  },
  {
   "cell_type": "code",
   "execution_count": 155,
   "id": "760a4dc1",
   "metadata": {},
   "outputs": [
    {
     "data": {
      "text/plain": [
       "array([[72, 43, 82, 88],\n",
       "       [59, 61, 64, 87],\n",
       "       [79, 23, 35, 23]])"
      ]
     },
     "execution_count": 155,
     "metadata": {},
     "output_type": "execute_result"
    }
   ],
   "source": [
    "arr"
   ]
  },
  {
   "cell_type": "code",
   "execution_count": 160,
   "id": "12d21e5d",
   "metadata": {},
   "outputs": [
    {
     "data": {
      "text/plain": [
       "array([[360, 215, 410, 440],\n",
       "       [295, 305, 320, 435]])"
      ]
     },
     "execution_count": 160,
     "metadata": {},
     "output_type": "execute_result"
    }
   ],
   "source": [
    "arr[0:2]*5"
   ]
  },
  {
   "cell_type": "code",
   "execution_count": 168,
   "id": "d2c1ae3c",
   "metadata": {},
   "outputs": [
    {
     "data": {
      "text/plain": [
       "array([[72, 43, 82, 88],\n",
       "       [59, 61, 64, 87],\n",
       "       [79, 23, 35, 23]])"
      ]
     },
     "execution_count": 168,
     "metadata": {},
     "output_type": "execute_result"
    }
   ],
   "source": [
    "arr"
   ]
  },
  {
   "cell_type": "code",
   "execution_count": 173,
   "id": "af8f16fc",
   "metadata": {},
   "outputs": [
    {
     "data": {
      "text/plain": [
       "array([[36, 21],\n",
       "       [29, 30]], dtype=int32)"
      ]
     },
     "execution_count": 173,
     "metadata": {},
     "output_type": "execute_result"
    }
   ],
   "source": [
    "arr[0:2,0:2]//2"
   ]
  },
  {
   "cell_type": "code",
   "execution_count": 163,
   "id": "a656d8bf",
   "metadata": {},
   "outputs": [
    {
     "data": {
      "text/plain": [
       "array([[72, 43, 82, 88],\n",
       "       [59, 61, 64, 87],\n",
       "       [79, 23, 35, 23]])"
      ]
     },
     "execution_count": 163,
     "metadata": {},
     "output_type": "execute_result"
    }
   ],
   "source": [
    "arr"
   ]
  },
  {
   "cell_type": "code",
   "execution_count": 164,
   "id": "c3e76596",
   "metadata": {},
   "outputs": [
    {
     "data": {
      "text/plain": [
       "array([[43, 72, 82, 88],\n",
       "       [59, 61, 64, 87],\n",
       "       [23, 23, 35, 79]])"
      ]
     },
     "execution_count": 164,
     "metadata": {},
     "output_type": "execute_result"
    }
   ],
   "source": [
    "x"
   ]
  },
  {
   "cell_type": "code",
   "execution_count": 165,
   "id": "294ff24d",
   "metadata": {},
   "outputs": [
    {
     "data": {
      "text/plain": [
       "array([[115, 115, 164, 176],\n",
       "       [118, 122, 128, 174],\n",
       "       [102,  46,  70, 102]])"
      ]
     },
     "execution_count": 165,
     "metadata": {},
     "output_type": "execute_result"
    }
   ],
   "source": [
    "arr+x"
   ]
  },
  {
   "cell_type": "code",
   "execution_count": 166,
   "id": "f8da35f2",
   "metadata": {},
   "outputs": [
    {
     "data": {
      "text/plain": [
       "115"
      ]
     },
     "execution_count": 166,
     "metadata": {},
     "output_type": "execute_result"
    }
   ],
   "source": [
    "72+43"
   ]
  },
  {
   "cell_type": "code",
   "execution_count": 167,
   "id": "010748c9",
   "metadata": {},
   "outputs": [
    {
     "data": {
      "text/plain": [
       "array([[3096, 3096, 6724, 7744],\n",
       "       [3481, 3721, 4096, 7569],\n",
       "       [1817,  529, 1225, 1817]])"
      ]
     },
     "execution_count": 167,
     "metadata": {},
     "output_type": "execute_result"
    }
   ],
   "source": [
    "arr*x"
   ]
  },
  {
   "cell_type": "code",
   "execution_count": 174,
   "id": "6559c4ae",
   "metadata": {},
   "outputs": [
    {
     "data": {
      "text/plain": [
       "array([[1.6744186 , 0.59722222, 1.        , 1.        ],\n",
       "       [1.        , 1.        , 1.        , 1.        ],\n",
       "       [3.43478261, 1.        , 1.        , 0.29113924]])"
      ]
     },
     "execution_count": 174,
     "metadata": {},
     "output_type": "execute_result"
    }
   ],
   "source": [
    "arr/x"
   ]
  },
  {
   "cell_type": "markdown",
   "id": "273dcdf7",
   "metadata": {},
   "source": [
    "# Array Broadcasting"
   ]
  },
  {
   "cell_type": "markdown",
   "id": "72fd44d7",
   "metadata": {},
   "source": [
    "- When we perform some array to array operation on the arrays of different shape then to make the operation possible NumPy adds dummy rows or dummy columns to match the shape of both the arrys.\n",
    "- This is known as array broacasting."
   ]
  },
  {
   "cell_type": "markdown",
   "id": "5ddda363",
   "metadata": {},
   "source": [
    "- At least one dimension should be the same and other dimesnion should be 1 in either of the arrays."
   ]
  },
  {
   "cell_type": "code",
   "execution_count": 176,
   "id": "ab7f3dc8",
   "metadata": {},
   "outputs": [
    {
     "data": {
      "text/plain": [
       "array([[1, 2, 3],\n",
       "       [4, 5, 6],\n",
       "       [7, 8, 9]])"
      ]
     },
     "execution_count": 176,
     "metadata": {},
     "output_type": "execute_result"
    }
   ],
   "source": [
    "x=np.arange(1,10).reshape(3,3)\n",
    "x"
   ]
  },
  {
   "cell_type": "code",
   "execution_count": 181,
   "id": "56f3f34e",
   "metadata": {},
   "outputs": [
    {
     "data": {
      "text/plain": [
       "array([[10, 20, 30]])"
      ]
     },
     "execution_count": 181,
     "metadata": {},
     "output_type": "execute_result"
    }
   ],
   "source": [
    "y=np.array([10,20,30]).reshape(1,3)\n",
    "y"
   ]
  },
  {
   "cell_type": "code",
   "execution_count": 182,
   "id": "3c3f505c",
   "metadata": {},
   "outputs": [
    {
     "data": {
      "text/plain": [
       "(3, 3)"
      ]
     },
     "execution_count": 182,
     "metadata": {},
     "output_type": "execute_result"
    }
   ],
   "source": [
    "x.shape"
   ]
  },
  {
   "cell_type": "code",
   "execution_count": 183,
   "id": "4bc2f449",
   "metadata": {},
   "outputs": [
    {
     "data": {
      "text/plain": [
       "(1, 3)"
      ]
     },
     "execution_count": 183,
     "metadata": {},
     "output_type": "execute_result"
    }
   ],
   "source": [
    "y.shape"
   ]
  },
  {
   "cell_type": "code",
   "execution_count": 184,
   "id": "441234a8",
   "metadata": {},
   "outputs": [
    {
     "data": {
      "text/plain": [
       "array([[1, 2, 3],\n",
       "       [4, 5, 6],\n",
       "       [7, 8, 9]])"
      ]
     },
     "execution_count": 184,
     "metadata": {},
     "output_type": "execute_result"
    }
   ],
   "source": [
    "x"
   ]
  },
  {
   "cell_type": "code",
   "execution_count": 185,
   "id": "690f63f8",
   "metadata": {},
   "outputs": [
    {
     "data": {
      "text/plain": [
       "array([[10, 20, 30]])"
      ]
     },
     "execution_count": 185,
     "metadata": {},
     "output_type": "execute_result"
    }
   ],
   "source": [
    "y"
   ]
  },
  {
   "cell_type": "code",
   "execution_count": 186,
   "id": "540b462c",
   "metadata": {},
   "outputs": [
    {
     "data": {
      "text/plain": [
       "array([[11, 22, 33],\n",
       "       [14, 25, 36],\n",
       "       [17, 28, 39]])"
      ]
     },
     "execution_count": 186,
     "metadata": {},
     "output_type": "execute_result"
    }
   ],
   "source": [
    "x+y"
   ]
  },
  {
   "cell_type": "code",
   "execution_count": 187,
   "id": "15e59108",
   "metadata": {},
   "outputs": [
    {
     "data": {
      "text/plain": [
       "array([[10],\n",
       "       [20],\n",
       "       [30]])"
      ]
     },
     "execution_count": 187,
     "metadata": {},
     "output_type": "execute_result"
    }
   ],
   "source": [
    "y=np.array([10,20,30]).reshape(3,1)\n",
    "y"
   ]
  },
  {
   "cell_type": "code",
   "execution_count": 188,
   "id": "a2faf827",
   "metadata": {},
   "outputs": [
    {
     "data": {
      "text/plain": [
       "array([[1, 2, 3],\n",
       "       [4, 5, 6],\n",
       "       [7, 8, 9]])"
      ]
     },
     "execution_count": 188,
     "metadata": {},
     "output_type": "execute_result"
    }
   ],
   "source": [
    "x"
   ]
  },
  {
   "cell_type": "code",
   "execution_count": 190,
   "id": "1ea28056",
   "metadata": {},
   "outputs": [
    {
     "data": {
      "text/plain": [
       "(3, 3)"
      ]
     },
     "execution_count": 190,
     "metadata": {},
     "output_type": "execute_result"
    }
   ],
   "source": [
    "x.shape"
   ]
  },
  {
   "cell_type": "code",
   "execution_count": 191,
   "id": "3b6711f9",
   "metadata": {},
   "outputs": [
    {
     "data": {
      "text/plain": [
       "(3, 1)"
      ]
     },
     "execution_count": 191,
     "metadata": {},
     "output_type": "execute_result"
    }
   ],
   "source": [
    "y.shape"
   ]
  },
  {
   "cell_type": "code",
   "execution_count": 192,
   "id": "8094dfb8",
   "metadata": {},
   "outputs": [
    {
     "data": {
      "text/plain": [
       "array([[11, 12, 13],\n",
       "       [24, 25, 26],\n",
       "       [37, 38, 39]])"
      ]
     },
     "execution_count": 192,
     "metadata": {},
     "output_type": "execute_result"
    }
   ],
   "source": [
    "x+y"
   ]
  },
  {
   "cell_type": "code",
   "execution_count": 193,
   "id": "5e2fb6e9",
   "metadata": {},
   "outputs": [
    {
     "data": {
      "text/plain": [
       "array([[1, 2, 3],\n",
       "       [4, 5, 6],\n",
       "       [7, 8, 9]])"
      ]
     },
     "execution_count": 193,
     "metadata": {},
     "output_type": "execute_result"
    }
   ],
   "source": [
    "x"
   ]
  },
  {
   "cell_type": "code",
   "execution_count": 194,
   "id": "ba2791be",
   "metadata": {},
   "outputs": [
    {
     "data": {
      "text/plain": [
       "array([[10, 20]])"
      ]
     },
     "execution_count": 194,
     "metadata": {},
     "output_type": "execute_result"
    }
   ],
   "source": [
    "y=np.array([10,20]).reshape(1,2)\n",
    "yx"
   ]
  },
  {
   "cell_type": "code",
   "execution_count": 196,
   "id": "c8a1e273",
   "metadata": {},
   "outputs": [
    {
     "data": {
      "text/plain": [
       "(3, 3)"
      ]
     },
     "execution_count": 196,
     "metadata": {},
     "output_type": "execute_result"
    }
   ],
   "source": [
    "x.shape"
   ]
  },
  {
   "cell_type": "code",
   "execution_count": 197,
   "id": "849f86e4",
   "metadata": {},
   "outputs": [
    {
     "data": {
      "text/plain": [
       "(1, 2)"
      ]
     },
     "execution_count": 197,
     "metadata": {},
     "output_type": "execute_result"
    }
   ],
   "source": [
    "y.shape"
   ]
  },
  {
   "cell_type": "code",
   "execution_count": 198,
   "id": "7bb3b096",
   "metadata": {},
   "outputs": [
    {
     "ename": "ValueError",
     "evalue": "operands could not be broadcast together with shapes (3,3) (1,2) ",
     "output_type": "error",
     "traceback": [
      "\u001b[1;31m---------------------------------------------------------------------------\u001b[0m",
      "\u001b[1;31mValueError\u001b[0m                                Traceback (most recent call last)",
      "\u001b[1;32m~\\AppData\\Local\\Temp\\ipykernel_9168\\1525011898.py\u001b[0m in \u001b[0;36m<module>\u001b[1;34m\u001b[0m\n\u001b[1;32m----> 1\u001b[1;33m \u001b[0mx\u001b[0m\u001b[1;33m+\u001b[0m\u001b[0my\u001b[0m\u001b[1;33m\u001b[0m\u001b[1;33m\u001b[0m\u001b[0m\n\u001b[0m",
      "\u001b[1;31mValueError\u001b[0m: operands could not be broadcast together with shapes (3,3) (1,2) "
     ]
    }
   ],
   "source": [
    "x+y"
   ]
  },
  {
   "cell_type": "code",
   "execution_count": 199,
   "id": "5aa481a2",
   "metadata": {},
   "outputs": [
    {
     "data": {
      "text/plain": [
       "array([[1, 2, 3],\n",
       "       [4, 5, 6],\n",
       "       [7, 8, 9]])"
      ]
     },
     "execution_count": 199,
     "metadata": {},
     "output_type": "execute_result"
    }
   ],
   "source": [
    "x"
   ]
  },
  {
   "cell_type": "code",
   "execution_count": 200,
   "id": "cf5a13f9",
   "metadata": {},
   "outputs": [
    {
     "data": {
      "text/plain": [
       "array([[10, 20, 30],\n",
       "       [50, 50, 50]])"
      ]
     },
     "execution_count": 200,
     "metadata": {},
     "output_type": "execute_result"
    }
   ],
   "source": [
    "y=np.array([[10,20,30],[50,50,50]])\n",
    "y"
   ]
  },
  {
   "cell_type": "code",
   "execution_count": 201,
   "id": "305b25b3",
   "metadata": {},
   "outputs": [
    {
     "data": {
      "text/plain": [
       "(3, 3)"
      ]
     },
     "execution_count": 201,
     "metadata": {},
     "output_type": "execute_result"
    }
   ],
   "source": [
    "x.shape"
   ]
  },
  {
   "cell_type": "code",
   "execution_count": 203,
   "id": "64980641",
   "metadata": {},
   "outputs": [
    {
     "data": {
      "text/plain": [
       "(2, 3)"
      ]
     },
     "execution_count": 203,
     "metadata": {},
     "output_type": "execute_result"
    }
   ],
   "source": [
    "y.shape"
   ]
  },
  {
   "cell_type": "code",
   "execution_count": 204,
   "id": "0b0cf7b8",
   "metadata": {},
   "outputs": [
    {
     "ename": "ValueError",
     "evalue": "operands could not be broadcast together with shapes (3,3) (2,3) ",
     "output_type": "error",
     "traceback": [
      "\u001b[1;31m---------------------------------------------------------------------------\u001b[0m",
      "\u001b[1;31mValueError\u001b[0m                                Traceback (most recent call last)",
      "\u001b[1;32m~\\AppData\\Local\\Temp\\ipykernel_9168\\1525011898.py\u001b[0m in \u001b[0;36m<module>\u001b[1;34m\u001b[0m\n\u001b[1;32m----> 1\u001b[1;33m \u001b[0mx\u001b[0m\u001b[1;33m+\u001b[0m\u001b[0my\u001b[0m\u001b[1;33m\u001b[0m\u001b[1;33m\u001b[0m\u001b[0m\n\u001b[0m",
      "\u001b[1;31mValueError\u001b[0m: operands could not be broadcast together with shapes (3,3) (2,3) "
     ]
    }
   ],
   "source": [
    "x+y"
   ]
  },
  {
   "cell_type": "code",
   "execution_count": 205,
   "id": "3125acf4",
   "metadata": {},
   "outputs": [
    {
     "data": {
      "text/plain": [
       "array([[1, 2, 3],\n",
       "       [4, 5, 6],\n",
       "       [7, 8, 9]])"
      ]
     },
     "execution_count": 205,
     "metadata": {},
     "output_type": "execute_result"
    }
   ],
   "source": [
    "x"
   ]
  },
  {
   "cell_type": "code",
   "execution_count": 206,
   "id": "a18e9969",
   "metadata": {},
   "outputs": [],
   "source": [
    "y=np.array([10])"
   ]
  },
  {
   "cell_type": "code",
   "execution_count": 207,
   "id": "53c9954e",
   "metadata": {},
   "outputs": [
    {
     "data": {
      "text/plain": [
       "array([10])"
      ]
     },
     "execution_count": 207,
     "metadata": {},
     "output_type": "execute_result"
    }
   ],
   "source": [
    "y"
   ]
  },
  {
   "cell_type": "code",
   "execution_count": 208,
   "id": "a998e6ad",
   "metadata": {},
   "outputs": [
    {
     "data": {
      "text/plain": [
       "array([[ 7,  8,  9],\n",
       "       [10, 11, 12],\n",
       "       [13, 14, 15]])"
      ]
     },
     "execution_count": 208,
     "metadata": {},
     "output_type": "execute_result"
    }
   ],
   "source": [
    "x+6"
   ]
  },
  {
   "cell_type": "markdown",
   "id": "374c3cd2",
   "metadata": {},
   "source": [
    "# Iterating over arrays"
   ]
  },
  {
   "cell_type": "code",
   "execution_count": 209,
   "id": "4d907909",
   "metadata": {},
   "outputs": [
    {
     "data": {
      "text/plain": [
       "array([10, 20, 30, 40, 50, 60])"
      ]
     },
     "execution_count": 209,
     "metadata": {},
     "output_type": "execute_result"
    }
   ],
   "source": [
    "y=np.array([10,20,30,40,50,60])\n",
    "y"
   ]
  },
  {
   "cell_type": "code",
   "execution_count": 210,
   "id": "6295213a",
   "metadata": {},
   "outputs": [
    {
     "name": "stdout",
     "output_type": "stream",
     "text": [
      "10\n",
      "20\n",
      "30\n",
      "40\n",
      "50\n",
      "60\n"
     ]
    }
   ],
   "source": [
    "for i in y:\n",
    "    print(i)"
   ]
  },
  {
   "cell_type": "code",
   "execution_count": 212,
   "id": "cf91790e",
   "metadata": {},
   "outputs": [
    {
     "name": "stdout",
     "output_type": "stream",
     "text": [
      "0 10\n",
      "1 20\n",
      "2 30\n",
      "3 40\n",
      "4 50\n",
      "5 60\n"
     ]
    }
   ],
   "source": [
    "for i in range(len(y)):\n",
    "    print(i,y[i])"
   ]
  },
  {
   "cell_type": "code",
   "execution_count": 214,
   "id": "93d67e86",
   "metadata": {},
   "outputs": [
    {
     "data": {
      "text/plain": [
       "array([[72, 43, 82, 88],\n",
       "       [59, 61, 64, 87],\n",
       "       [79, 23, 35, 23]])"
      ]
     },
     "execution_count": 214,
     "metadata": {},
     "output_type": "execute_result"
    }
   ],
   "source": [
    "arr"
   ]
  },
  {
   "cell_type": "code",
   "execution_count": 218,
   "id": "5962cb42",
   "metadata": {},
   "outputs": [
    {
     "name": "stdout",
     "output_type": "stream",
     "text": [
      "[72 43 82 88]\n",
      "******************************\n",
      "\n",
      "[59 61 64 87]\n",
      "******************************\n",
      "\n",
      "[79 23 35 23]\n",
      "******************************\n",
      "\n"
     ]
    }
   ],
   "source": [
    "for i in arr:\n",
    "    print(i)\n",
    "    print('*'*30)\n",
    "    print()"
   ]
  },
  {
   "cell_type": "code",
   "execution_count": 219,
   "id": "0eb9277e",
   "metadata": {},
   "outputs": [
    {
     "name": "stdout",
     "output_type": "stream",
     "text": [
      "[72 43 82 88]\n"
     ]
    }
   ],
   "source": [
    "for i in arr:\n",
    "    print(i)\n",
    "    break"
   ]
  },
  {
   "cell_type": "code",
   "execution_count": 222,
   "id": "0d7555b6",
   "metadata": {},
   "outputs": [
    {
     "name": "stdout",
     "output_type": "stream",
     "text": [
      "72\n",
      "43\n",
      "82\n",
      "88\n"
     ]
    }
   ],
   "source": [
    "for j in i:\n",
    "    print(j)"
   ]
  },
  {
   "cell_type": "code",
   "execution_count": 223,
   "id": "9200b018",
   "metadata": {},
   "outputs": [
    {
     "name": "stdout",
     "output_type": "stream",
     "text": [
      "72\n",
      "43\n",
      "82\n",
      "88\n",
      "59\n",
      "61\n",
      "64\n",
      "87\n",
      "79\n",
      "23\n",
      "35\n",
      "23\n"
     ]
    }
   ],
   "source": [
    "for i in arr:\n",
    "    for j in i:\n",
    "        print(j)"
   ]
  },
  {
   "cell_type": "code",
   "execution_count": 226,
   "id": "bacde922",
   "metadata": {},
   "outputs": [
    {
     "data": {
      "text/plain": [
       "array([[72, 43, 82, 88],\n",
       "       [59, 61, 64, 87],\n",
       "       [79, 23, 35, 23]])"
      ]
     },
     "execution_count": 226,
     "metadata": {},
     "output_type": "execute_result"
    }
   ],
   "source": [
    "arr"
   ]
  },
  {
   "cell_type": "code",
   "execution_count": 225,
   "id": "abe2bd81",
   "metadata": {},
   "outputs": [
    {
     "data": {
      "text/plain": [
       "array([72, 43, 82, 88, 59, 61, 64, 87, 79, 23, 35, 23])"
      ]
     },
     "execution_count": 225,
     "metadata": {},
     "output_type": "execute_result"
    }
   ],
   "source": [
    "arr.ravel()"
   ]
  },
  {
   "cell_type": "code",
   "execution_count": 227,
   "id": "df6435a3",
   "metadata": {},
   "outputs": [
    {
     "name": "stdout",
     "output_type": "stream",
     "text": [
      "72\n",
      "43\n",
      "82\n",
      "88\n",
      "59\n",
      "61\n",
      "64\n",
      "87\n",
      "79\n",
      "23\n",
      "35\n",
      "23\n"
     ]
    }
   ],
   "source": [
    "for i in arr.ravel():\n",
    "    print(i)"
   ]
  },
  {
   "cell_type": "code",
   "execution_count": 228,
   "id": "b76ac7ad",
   "metadata": {},
   "outputs": [
    {
     "data": {
      "text/plain": [
       "array([[72, 43, 82, 88],\n",
       "       [59, 61, 64, 87],\n",
       "       [79, 23, 35, 23]])"
      ]
     },
     "execution_count": 228,
     "metadata": {},
     "output_type": "execute_result"
    }
   ],
   "source": [
    "arr"
   ]
  },
  {
   "cell_type": "markdown",
   "id": "983a22b8",
   "metadata": {},
   "source": [
    "# np.nditer()"
   ]
  },
  {
   "cell_type": "markdown",
   "id": "5f58ab32",
   "metadata": {},
   "source": [
    "- It retrurns an iterator object."
   ]
  },
  {
   "cell_type": "code",
   "execution_count": 229,
   "id": "52ebadfc",
   "metadata": {},
   "outputs": [
    {
     "data": {
      "text/plain": [
       "array([[72, 43, 82, 88],\n",
       "       [59, 61, 64, 87],\n",
       "       [79, 23, 35, 23]])"
      ]
     },
     "execution_count": 229,
     "metadata": {},
     "output_type": "execute_result"
    }
   ],
   "source": [
    "arr"
   ]
  },
  {
   "cell_type": "code",
   "execution_count": 233,
   "id": "16dc5506",
   "metadata": {},
   "outputs": [
    {
     "name": "stdout",
     "output_type": "stream",
     "text": [
      "72\n",
      "59\n",
      "79\n",
      "43\n",
      "61\n",
      "23\n",
      "82\n",
      "64\n",
      "35\n",
      "88\n",
      "87\n",
      "23\n"
     ]
    }
   ],
   "source": [
    "for i in np.nditer(arr,order='F'):\n",
    "    print(i)"
   ]
  },
  {
   "cell_type": "code",
   "execution_count": 234,
   "id": "d2ec247e",
   "metadata": {},
   "outputs": [],
   "source": [
    "# C- Order from C language\n",
    "# F- Order from Fortran language"
   ]
  },
  {
   "cell_type": "markdown",
   "id": "9b5dda82",
   "metadata": {},
   "source": [
    "# Determinant of the array"
   ]
  },
  {
   "cell_type": "code",
   "execution_count": 235,
   "id": "76b1cc28",
   "metadata": {},
   "outputs": [
    {
     "data": {
      "text/plain": [
       "array([[72, 43, 82, 88],\n",
       "       [59, 61, 64, 87],\n",
       "       [79, 23, 35, 23]])"
      ]
     },
     "execution_count": 235,
     "metadata": {},
     "output_type": "execute_result"
    }
   ],
   "source": [
    "arr"
   ]
  },
  {
   "cell_type": "code",
   "execution_count": 236,
   "id": "52e329ff",
   "metadata": {},
   "outputs": [],
   "source": [
    "arr=np.random.randint(10,100,25).reshape(5,5)"
   ]
  },
  {
   "cell_type": "code",
   "execution_count": 237,
   "id": "e8cdc538",
   "metadata": {},
   "outputs": [
    {
     "data": {
      "text/plain": [
       "array([[81, 98, 98, 60, 64],\n",
       "       [44, 25, 87, 98, 25],\n",
       "       [16, 95, 32, 21, 22],\n",
       "       [72, 67, 89, 52, 67],\n",
       "       [60, 55, 50, 99, 83]])"
      ]
     },
     "execution_count": 237,
     "metadata": {},
     "output_type": "execute_result"
    }
   ],
   "source": [
    "arr"
   ]
  },
  {
   "cell_type": "code",
   "execution_count": 238,
   "id": "c0c41051",
   "metadata": {},
   "outputs": [
    {
     "data": {
      "text/plain": [
       "358894762.00000024"
      ]
     },
     "execution_count": 238,
     "metadata": {},
     "output_type": "execute_result"
    }
   ],
   "source": [
    "np.linalg.det(arr)"
   ]
  },
  {
   "cell_type": "code",
   "execution_count": 242,
   "id": "d2c10299",
   "metadata": {},
   "outputs": [
    {
     "name": "stdout",
     "output_type": "stream",
     "text": [
      "['LinAlgError', '__all__', '__builtins__', '__cached__', '__doc__', '__file__', '__loader__', '__name__', '__package__', '__path__', '__spec__', '_umath_linalg', 'cholesky', 'cond', 'det', 'eig', 'eigh', 'eigvals', 'eigvalsh', 'inv', 'lapack_lite', 'linalg', 'lstsq', 'matrix_power', 'matrix_rank', 'multi_dot', 'norm', 'pinv', 'qr', 'slogdet', 'solve', 'svd', 'tensorinv', 'tensorsolve', 'test']\n"
     ]
    }
   ],
   "source": [
    "print(dir(np.linalg))"
   ]
  },
  {
   "cell_type": "code",
   "execution_count": 243,
   "id": "118e7600",
   "metadata": {},
   "outputs": [
    {
     "data": {
      "text/plain": [
       "5"
      ]
     },
     "execution_count": 243,
     "metadata": {},
     "output_type": "execute_result"
    }
   ],
   "source": [
    "np.linalg.matrix_rank(arr)"
   ]
  },
  {
   "cell_type": "code",
   "execution_count": 244,
   "id": "a8d7e8e8",
   "metadata": {},
   "outputs": [
    {
     "name": "stdout",
     "output_type": "stream",
     "text": [
      "Help on function matrix_rank in module numpy.linalg:\n",
      "\n",
      "matrix_rank(M, tol=None, hermitian=False)\n",
      "    Return matrix rank of array using SVD method\n",
      "    \n",
      "    Rank of the array is the number of singular values of the array that are\n",
      "    greater than `tol`.\n",
      "    \n",
      "    .. versionchanged:: 1.14\n",
      "       Can now operate on stacks of matrices\n",
      "    \n",
      "    Parameters\n",
      "    ----------\n",
      "    M : {(M,), (..., M, N)} array_like\n",
      "        Input vector or stack of matrices.\n",
      "    tol : (...) array_like, float, optional\n",
      "        Threshold below which SVD values are considered zero. If `tol` is\n",
      "        None, and ``S`` is an array with singular values for `M`, and\n",
      "        ``eps`` is the epsilon value for datatype of ``S``, then `tol` is\n",
      "        set to ``S.max() * max(M.shape) * eps``.\n",
      "    \n",
      "        .. versionchanged:: 1.14\n",
      "           Broadcasted against the stack of matrices\n",
      "    hermitian : bool, optional\n",
      "        If True, `M` is assumed to be Hermitian (symmetric if real-valued),\n",
      "        enabling a more efficient method for finding singular values.\n",
      "        Defaults to False.\n",
      "    \n",
      "        .. versionadded:: 1.14\n",
      "    \n",
      "    Returns\n",
      "    -------\n",
      "    rank : (...) array_like\n",
      "        Rank of M.\n",
      "    \n",
      "    Notes\n",
      "    -----\n",
      "    The default threshold to detect rank deficiency is a test on the magnitude\n",
      "    of the singular values of `M`.  By default, we identify singular values less\n",
      "    than ``S.max() * max(M.shape) * eps`` as indicating rank deficiency (with\n",
      "    the symbols defined above). This is the algorithm MATLAB uses [1].  It also\n",
      "    appears in *Numerical recipes* in the discussion of SVD solutions for linear\n",
      "    least squares [2].\n",
      "    \n",
      "    This default threshold is designed to detect rank deficiency accounting for\n",
      "    the numerical errors of the SVD computation.  Imagine that there is a column\n",
      "    in `M` that is an exact (in floating point) linear combination of other\n",
      "    columns in `M`. Computing the SVD on `M` will not produce a singular value\n",
      "    exactly equal to 0 in general: any difference of the smallest SVD value from\n",
      "    0 will be caused by numerical imprecision in the calculation of the SVD.\n",
      "    Our threshold for small SVD values takes this numerical imprecision into\n",
      "    account, and the default threshold will detect such numerical rank\n",
      "    deficiency.  The threshold may declare a matrix `M` rank deficient even if\n",
      "    the linear combination of some columns of `M` is not exactly equal to\n",
      "    another column of `M` but only numerically very close to another column of\n",
      "    `M`.\n",
      "    \n",
      "    We chose our default threshold because it is in wide use.  Other thresholds\n",
      "    are possible.  For example, elsewhere in the 2007 edition of *Numerical\n",
      "    recipes* there is an alternative threshold of ``S.max() *\n",
      "    np.finfo(M.dtype).eps / 2. * np.sqrt(m + n + 1.)``. The authors describe\n",
      "    this threshold as being based on \"expected roundoff error\" (p 71).\n",
      "    \n",
      "    The thresholds above deal with floating point roundoff error in the\n",
      "    calculation of the SVD.  However, you may have more information about the\n",
      "    sources of error in `M` that would make you consider other tolerance values\n",
      "    to detect *effective* rank deficiency.  The most useful measure of the\n",
      "    tolerance depends on the operations you intend to use on your matrix.  For\n",
      "    example, if your data come from uncertain measurements with uncertainties\n",
      "    greater than floating point epsilon, choosing a tolerance near that\n",
      "    uncertainty may be preferable.  The tolerance may be absolute if the\n",
      "    uncertainties are absolute rather than relative.\n",
      "    \n",
      "    References\n",
      "    ----------\n",
      "    .. [1] MATLAB reference documention, \"Rank\"\n",
      "           https://www.mathworks.com/help/techdoc/ref/rank.html\n",
      "    .. [2] W. H. Press, S. A. Teukolsky, W. T. Vetterling and B. P. Flannery,\n",
      "           \"Numerical Recipes (3rd edition)\", Cambridge University Press, 2007,\n",
      "           page 795.\n",
      "    \n",
      "    Examples\n",
      "    --------\n",
      "    >>> from numpy.linalg import matrix_rank\n",
      "    >>> matrix_rank(np.eye(4)) # Full rank matrix\n",
      "    4\n",
      "    >>> I=np.eye(4); I[-1,-1] = 0. # rank deficient matrix\n",
      "    >>> matrix_rank(I)\n",
      "    3\n",
      "    >>> matrix_rank(np.ones((4,))) # 1 dimension - rank 1 unless all 0\n",
      "    1\n",
      "    >>> matrix_rank(np.zeros((4,)))\n",
      "    0\n",
      "\n"
     ]
    }
   ],
   "source": [
    "help(np.linalg.matrix_rank)"
   ]
  },
  {
   "cell_type": "code",
   "execution_count": null,
   "id": "a6b542bf",
   "metadata": {},
   "outputs": [],
   "source": []
  }
 ],
 "metadata": {
  "kernelspec": {
   "display_name": "Python 3 (ipykernel)",
   "language": "python",
   "name": "python3"
  },
  "language_info": {
   "codemirror_mode": {
    "name": "ipython",
    "version": 3
   },
   "file_extension": ".py",
   "mimetype": "text/x-python",
   "name": "python",
   "nbconvert_exporter": "python",
   "pygments_lexer": "ipython3",
   "version": "3.9.13"
  }
 },
 "nbformat": 4,
 "nbformat_minor": 5
}
