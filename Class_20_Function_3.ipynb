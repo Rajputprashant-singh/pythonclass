{
 "cells": [
  {
   "cell_type": "markdown",
   "id": "8f32c1eb",
   "metadata": {},
   "source": [
    "# map()"
   ]
  },
  {
   "cell_type": "markdown",
   "id": "b5008210",
   "metadata": {},
   "source": [
    "- It takes two arguments where the first argument is a function and the second argument is an iterable.\n",
    "- The function that we pass inside the map() should always have 1 argument only.\n",
    "- It performs specified operation on each element of the iterable and returns a map object.\n",
    "- To fetch the values from the map object we can typecast it to list or tuple."
   ]
  },
  {
   "cell_type": "code",
   "execution_count": 1,
   "id": "c8da3787",
   "metadata": {},
   "outputs": [],
   "source": [
    "# map(function,iterable)\n",
    "# map(lambda argument:operation, iterable)"
   ]
  },
  {
   "cell_type": "code",
   "execution_count": 5,
   "id": "aa2d510a",
   "metadata": {},
   "outputs": [
    {
     "name": "stdout",
     "output_type": "stream",
     "text": [
      "[5, 10, 15, 20, 25, 30, 35, 40, 45, 50]\n"
     ]
    }
   ],
   "source": [
    "# Multiple each element of the following list by 5\n",
    "\n",
    "lst=[1,2,3,4,5,6,7,8,9,10]\n",
    "\n",
    "res=[]\n",
    "\n",
    "for i in lst:\n",
    "    res.append(i*5)\n",
    "print(res)"
   ]
  },
  {
   "cell_type": "code",
   "execution_count": 8,
   "id": "1295dce5",
   "metadata": {},
   "outputs": [
    {
     "name": "stdout",
     "output_type": "stream",
     "text": [
      "[5, 10, 15, 20, 25, 30, 35, 40, 45, 50]\n"
     ]
    }
   ],
   "source": [
    "lst=[1,2,3,4,5,6,7,8,9,10]\n",
    "\n",
    "res=list(map(lambda x:x*5,lst))\n",
    "print(res)"
   ]
  },
  {
   "cell_type": "code",
   "execution_count": 12,
   "id": "562b4a39",
   "metadata": {},
   "outputs": [
    {
     "data": {
      "text/plain": [
       "[10000, 40000, 90000, 160000]"
      ]
     },
     "execution_count": 12,
     "metadata": {},
     "output_type": "execute_result"
    }
   ],
   "source": [
    "d={1:100,2:200,3:300,4:400}\n",
    "# All the keys should be squared\n",
    "\n",
    "list(map(lambda x:x**2,d.values()))"
   ]
  },
  {
   "cell_type": "code",
   "execution_count": 22,
   "id": "30a4d8c7",
   "metadata": {},
   "outputs": [
    {
     "data": {
      "text/plain": [
       "[1, 0, 9, 0, 25, 0, 49, 0, 81, 0]"
      ]
     },
     "execution_count": 22,
     "metadata": {},
     "output_type": "execute_result"
    }
   ],
   "source": [
    "# Cretae a new list that has the squares of the odd numbers from the following list\n",
    "\n",
    "lst=[1,2,3,4,5,6,7,8,9,10]\n",
    "\n",
    "list(map(lambda x:x**2 if x%2!=0 else 0,lst))"
   ]
  },
  {
   "cell_type": "code",
   "execution_count": 31,
   "id": "d5c9f188",
   "metadata": {},
   "outputs": [
    {
     "data": {
      "text/plain": [
       "[1, 9, 25, 49, 81]"
      ]
     },
     "execution_count": 31,
     "metadata": {},
     "output_type": "execute_result"
    }
   ],
   "source": [
    "lst=[1,2,3,4,5,6,7,8,9,10]\n",
    "\n",
    "odd=list(filter(lambda x:x%2!=0,lst))\n",
    "odd\n",
    "list(map(lambda x:x**2,odd))"
   ]
  },
  {
   "cell_type": "code",
   "execution_count": 19,
   "id": "f3125541",
   "metadata": {},
   "outputs": [
    {
     "data": {
      "text/plain": [
       "[1, 9, 25, 49, 81]"
      ]
     },
     "execution_count": 19,
     "metadata": {},
     "output_type": "execute_result"
    }
   ],
   "source": [
    "list(map(lambda x:x**2,filter(lambda x:x%2!=0,lst)))"
   ]
  },
  {
   "cell_type": "markdown",
   "id": "b89828a1",
   "metadata": {},
   "source": [
    "# reduce()"
   ]
  },
  {
   "cell_type": "markdown",
   "id": "2c21c7a9",
   "metadata": {},
   "source": [
    "- It is available in the functools module in Python.\n",
    "- It is used to perform aggregation operation on the values of an iterable.\n",
    "- Aggregation- Sum, Mutiplication, Division, Max, Min\n",
    "- It takes two arguments where the first argument is a function and the second argument is an iterable.\n",
    "- The function that we pass inside the reduce() should always have two arguments.\n",
    "- It always returns a single value.\n",
    "- To use reduce() we have to import it from the functools module."
   ]
  },
  {
   "cell_type": "code",
   "execution_count": 32,
   "id": "33a5045c",
   "metadata": {},
   "outputs": [],
   "source": [
    "# from module_name import function_name"
   ]
  },
  {
   "cell_type": "code",
   "execution_count": 33,
   "id": "66e4ba58",
   "metadata": {},
   "outputs": [],
   "source": [
    "from functools import reduce"
   ]
  },
  {
   "cell_type": "code",
   "execution_count": 34,
   "id": "6a611ebb",
   "metadata": {},
   "outputs": [
    {
     "name": "stdout",
     "output_type": "stream",
     "text": [
      "55\n"
     ]
    }
   ],
   "source": [
    "lst=[1,2,3,4,5,6,7,8,9,10]\n",
    "\n",
    "s=0\n",
    "\n",
    "for i in lst:\n",
    "    s+=i\n",
    "print(s)"
   ]
  },
  {
   "cell_type": "code",
   "execution_count": 36,
   "id": "a8858c92",
   "metadata": {},
   "outputs": [],
   "source": [
    "# reduce(function,iterable)\n",
    "# reduce(lambda x,y:operation,iterable)"
   ]
  },
  {
   "cell_type": "code",
   "execution_count": 45,
   "id": "dc28413a",
   "metadata": {},
   "outputs": [
    {
     "data": {
      "text/plain": [
       "55"
      ]
     },
     "execution_count": 45,
     "metadata": {},
     "output_type": "execute_result"
    }
   ],
   "source": [
    "lst=[1,2,3,4,5,6,7,8,9,10]\n",
    "\n",
    "reduce(lambda x,y:x+y,lst)"
   ]
  },
  {
   "cell_type": "code",
   "execution_count": 46,
   "id": "ad51ea8a",
   "metadata": {},
   "outputs": [],
   "source": [
    "# x=1\n",
    "# y=2\n",
    "\n",
    "# x=(2+1)\n",
    "# y=3\n",
    "\n",
    "# x=(3+3)\n",
    "# y=4"
   ]
  },
  {
   "cell_type": "code",
   "execution_count": 48,
   "id": "3e8b12f9",
   "metadata": {},
   "outputs": [
    {
     "data": {
      "text/plain": [
       "55"
      ]
     },
     "execution_count": 48,
     "metadata": {},
     "output_type": "execute_result"
    }
   ],
   "source": [
    "((((((((1+2)+3)+4)+5)+6)+7)+8)+9)+10"
   ]
  },
  {
   "cell_type": "code",
   "execution_count": 50,
   "id": "bd761aa5",
   "metadata": {},
   "outputs": [
    {
     "ename": "TypeError",
     "evalue": "<lambda>() missing 1 required positional argument: 'y'",
     "output_type": "error",
     "traceback": [
      "\u001b[1;31m---------------------------------------------------------------------------\u001b[0m",
      "\u001b[1;31mTypeError\u001b[0m                                 Traceback (most recent call last)",
      "\u001b[1;32m~\\AppData\\Local\\Temp\\ipykernel_17752\\3968599766.py\u001b[0m in \u001b[0;36m<module>\u001b[1;34m\u001b[0m\n\u001b[1;32m----> 1\u001b[1;33m \u001b[0mlist\u001b[0m\u001b[1;33m(\u001b[0m\u001b[0mmap\u001b[0m\u001b[1;33m(\u001b[0m\u001b[1;32mlambda\u001b[0m \u001b[0mx\u001b[0m\u001b[1;33m,\u001b[0m\u001b[0my\u001b[0m\u001b[1;33m:\u001b[0m\u001b[0mx\u001b[0m\u001b[1;33m+\u001b[0m\u001b[0my\u001b[0m\u001b[1;33m,\u001b[0m\u001b[0mlst\u001b[0m\u001b[1;33m)\u001b[0m\u001b[1;33m)\u001b[0m\u001b[1;33m\u001b[0m\u001b[1;33m\u001b[0m\u001b[0m\n\u001b[0m",
      "\u001b[1;31mTypeError\u001b[0m: <lambda>() missing 1 required positional argument: 'y'"
     ]
    }
   ],
   "source": [
    "list(map(lambda x,y:x+y,lst))"
   ]
  },
  {
   "cell_type": "code",
   "execution_count": 51,
   "id": "e94c39e0",
   "metadata": {},
   "outputs": [],
   "source": [
    "# lambda(x,y):\n",
    "#     operation"
   ]
  },
  {
   "cell_type": "code",
   "execution_count": 52,
   "id": "814bc899",
   "metadata": {},
   "outputs": [],
   "source": [
    "# map(lambda(1))"
   ]
  },
  {
   "cell_type": "code",
   "execution_count": 57,
   "id": "f693de99",
   "metadata": {},
   "outputs": [
    {
     "data": {
      "text/plain": [
       "9"
      ]
     },
     "execution_count": 57,
     "metadata": {},
     "output_type": "execute_result"
    }
   ],
   "source": [
    "lst=[2,3,1,5,7,3,6,4,8,2,1,6,9]\n",
    "\n",
    "reduce(lambda x,y:x if x>y else y,lst)"
   ]
  },
  {
   "cell_type": "code",
   "execution_count": null,
   "id": "12587375",
   "metadata": {},
   "outputs": [],
   "source": [
    "x=2\n",
    "y=3\n",
    "\n",
    "x>y (2>3)F\n",
    "x=3\n",
    "y=1\n",
    "\n",
    "x>y (3>1)T\n",
    "x=3\n",
    "y=5"
   ]
  },
  {
   "cell_type": "markdown",
   "id": "7b147260",
   "metadata": {},
   "source": [
    "# map vs reduce"
   ]
  },
  {
   "cell_type": "markdown",
   "id": "3ae1032b",
   "metadata": {},
   "source": [
    "- map() will perform the element on each element of the iterable seperately.\n",
    "- reduce() performs the aggregation on all elements. (Not one by one seperately)"
   ]
  },
  {
   "cell_type": "markdown",
   "id": "8f4319d1",
   "metadata": {},
   "source": [
    "# Recursive function"
   ]
  },
  {
   "cell_type": "markdown",
   "id": "3cd2632c",
   "metadata": {},
   "source": [
    "- When the funtion calls itself then it is known as recursice function.\n",
    "- Once the process is intiated it will exceute the code infinite times if we don't terminate the process"
   ]
  },
  {
   "cell_type": "code",
   "execution_count": 58,
   "id": "07823866",
   "metadata": {},
   "outputs": [],
   "source": [
    "# def recurve():\n",
    "#     code \n",
    "#     code\n",
    "#     recurve()"
   ]
  },
  {
   "cell_type": "code",
   "execution_count": 12,
   "id": "d9d7fb7f",
   "metadata": {},
   "outputs": [],
   "source": [
    "def greet():\n",
    "    print('Good morning!')\n",
    "    return\n",
    "    greet()"
   ]
  },
  {
   "cell_type": "code",
   "execution_count": 13,
   "id": "0c44805f",
   "metadata": {},
   "outputs": [
    {
     "name": "stdout",
     "output_type": "stream",
     "text": [
      "Good morning!\n"
     ]
    }
   ],
   "source": [
    "greet()"
   ]
  },
  {
   "cell_type": "code",
   "execution_count": 1,
   "id": "620aa847",
   "metadata": {},
   "outputs": [],
   "source": [
    "# conditions"
   ]
  },
  {
   "cell_type": "code",
   "execution_count": 7,
   "id": "288454a8",
   "metadata": {},
   "outputs": [],
   "source": [
    "def password(pas):\n",
    "\n",
    "    face_pass= 'ABC@123'\n",
    "    \n",
    "    if pas==face_pass:\n",
    "        print('You have succesully logged in')\n",
    "    else:\n",
    "        print('Incorrect password')\n",
    "        x=input('Enter your password again- ')\n",
    "        password(x)"
   ]
  },
  {
   "cell_type": "code",
   "execution_count": 8,
   "id": "91cf5743",
   "metadata": {},
   "outputs": [
    {
     "name": "stdout",
     "output_type": "stream",
     "text": [
      "Enter your password- 456\n",
      "Incorrect password\n",
      "Enter your password again- 123\n",
      "Incorrect password\n",
      "Enter your password again- njbshbdhs\n",
      "Incorrect password\n",
      "Enter your password again- ABC@123\n",
      "You have succesully logged in\n"
     ]
    }
   ],
   "source": [
    "pas=input('Enter your password- ')\n",
    "\n",
    "password(pas)"
   ]
  },
  {
   "cell_type": "markdown",
   "id": "d6fd06eb",
   "metadata": {},
   "source": [
    "# Function properties"
   ]
  },
  {
   "cell_type": "markdown",
   "id": "1d1a9bd7",
   "metadata": {},
   "source": [
    "- Function aliasing\n",
    "- A function can be passed as an argument to another function.\n",
    "- A function can be definition can bewritten in another function (nested function)\n",
    "- A function can be called inside another function.\n",
    "- A function may return another function."
   ]
  },
  {
   "cell_type": "markdown",
   "id": "1a14bf2b",
   "metadata": {},
   "source": [
    "# Function aliasing"
   ]
  },
  {
   "cell_type": "markdown",
   "id": "98a31163",
   "metadata": {},
   "source": [
    "- Assignning a function to a variable is known as function aliasing.\n",
    "- Giving some other name to an existing function is known as function aliasing"
   ]
  },
  {
   "cell_type": "code",
   "execution_count": 14,
   "id": "9200a6ad",
   "metadata": {},
   "outputs": [],
   "source": [
    "# name=function_name"
   ]
  },
  {
   "cell_type": "code",
   "execution_count": 15,
   "id": "a77a9b6f",
   "metadata": {},
   "outputs": [],
   "source": [
    "def add(x,y):\n",
    "    return x+y"
   ]
  },
  {
   "cell_type": "code",
   "execution_count": 16,
   "id": "e4fb22e1",
   "metadata": {},
   "outputs": [],
   "source": [
    "x=add # function aliasing"
   ]
  },
  {
   "cell_type": "code",
   "execution_count": 17,
   "id": "b5585a5b",
   "metadata": {},
   "outputs": [
    {
     "name": "stdout",
     "output_type": "stream",
     "text": [
      "<function add at 0x0000026D846E63A0> <class 'function'>\n"
     ]
    }
   ],
   "source": [
    "print(add,type(add))"
   ]
  },
  {
   "cell_type": "code",
   "execution_count": 18,
   "id": "37881129",
   "metadata": {},
   "outputs": [
    {
     "name": "stdout",
     "output_type": "stream",
     "text": [
      "<function add at 0x0000026D846E63A0> <class 'function'>\n"
     ]
    }
   ],
   "source": [
    "print(x,type(x))"
   ]
  },
  {
   "cell_type": "code",
   "execution_count": 19,
   "id": "9407b6bc",
   "metadata": {},
   "outputs": [
    {
     "data": {
      "text/plain": [
       "6"
      ]
     },
     "execution_count": 19,
     "metadata": {},
     "output_type": "execute_result"
    }
   ],
   "source": [
    "add(2,4)"
   ]
  },
  {
   "cell_type": "code",
   "execution_count": 20,
   "id": "b459c10c",
   "metadata": {},
   "outputs": [
    {
     "data": {
      "text/plain": [
       "6"
      ]
     },
     "execution_count": 20,
     "metadata": {},
     "output_type": "execute_result"
    }
   ],
   "source": [
    "x(2,4)"
   ]
  },
  {
   "cell_type": "code",
   "execution_count": 22,
   "id": "c139edd6",
   "metadata": {},
   "outputs": [
    {
     "data": {
      "text/plain": [
       "10"
      ]
     },
     "execution_count": 22,
     "metadata": {},
     "output_type": "execute_result"
    }
   ],
   "source": [
    "x=add(5,5) # funnction call\n",
    "x"
   ]
  },
  {
   "cell_type": "code",
   "execution_count": 28,
   "id": "c8ebff31",
   "metadata": {},
   "outputs": [
    {
     "name": "stdout",
     "output_type": "stream",
     "text": [
      "<function <lambda> at 0x0000026D84AD4B80>\n"
     ]
    }
   ],
   "source": [
    "lambda x,y:x+y \n",
    "print(lambda x,y:x+y )"
   ]
  },
  {
   "cell_type": "code",
   "execution_count": 29,
   "id": "14ab559f",
   "metadata": {},
   "outputs": [
    {
     "name": "stdout",
     "output_type": "stream",
     "text": [
      "<function <lambda> at 0x0000026D846E6790>\n"
     ]
    }
   ],
   "source": [
    "x=lambda x,y:x+y \n",
    "print(x)"
   ]
  },
  {
   "cell_type": "code",
   "execution_count": 30,
   "id": "3bc93592",
   "metadata": {},
   "outputs": [
    {
     "data": {
      "text/plain": [
       "6"
      ]
     },
     "execution_count": 30,
     "metadata": {},
     "output_type": "execute_result"
    }
   ],
   "source": [
    "x(2,4)"
   ]
  },
  {
   "cell_type": "markdown",
   "id": "5439a9eb",
   "metadata": {},
   "source": [
    "# A function can be passed as an argument to another function"
   ]
  },
  {
   "cell_type": "code",
   "execution_count": 31,
   "id": "0e49c8bd",
   "metadata": {},
   "outputs": [],
   "source": [
    "# Create a function add that takes two arguments and retuuns the sum of two arguments.\n",
    "# Create another function square that takes 3 arguments. The first argument is a function and the other two arguments are numbers.\n",
    "# Square function should return the sqaure of the sum of the two numbers"
   ]
  },
  {
   "cell_type": "code",
   "execution_count": 32,
   "id": "ced314a7",
   "metadata": {},
   "outputs": [],
   "source": [
    "def add(x,y):\n",
    "    return x+y"
   ]
  },
  {
   "cell_type": "code",
   "execution_count": 41,
   "id": "05048c21",
   "metadata": {},
   "outputs": [],
   "source": [
    "def square(f,x,y):\n",
    "    print(f)\n",
    "    print(x)\n",
    "    print(y)\n",
    "    \n",
    "    s=f(x,y)\n",
    "    print(s)\n",
    "    return s**2"
   ]
  },
  {
   "cell_type": "code",
   "execution_count": 36,
   "id": "ef961de9",
   "metadata": {},
   "outputs": [
    {
     "data": {
      "text/plain": [
       "3"
      ]
     },
     "execution_count": 36,
     "metadata": {},
     "output_type": "execute_result"
    }
   ],
   "source": [
    "add(1,2)"
   ]
  },
  {
   "cell_type": "code",
   "execution_count": 38,
   "id": "fe73a83e",
   "metadata": {},
   "outputs": [
    {
     "name": "stdout",
     "output_type": "stream",
     "text": [
      "<function add at 0x0000026D84AD4CA0>\n"
     ]
    }
   ],
   "source": [
    "print(add)"
   ]
  },
  {
   "cell_type": "code",
   "execution_count": 42,
   "id": "c3e67677",
   "metadata": {},
   "outputs": [
    {
     "name": "stdout",
     "output_type": "stream",
     "text": [
      "<function add at 0x0000026D84AD4CA0>\n",
      "10\n",
      "20\n",
      "30\n"
     ]
    },
    {
     "data": {
      "text/plain": [
       "900"
      ]
     },
     "execution_count": 42,
     "metadata": {},
     "output_type": "execute_result"
    }
   ],
   "source": [
    "square(add,10,20)"
   ]
  },
  {
   "cell_type": "code",
   "execution_count": 43,
   "id": "9a881c2e",
   "metadata": {},
   "outputs": [],
   "source": [
    "def add(x,y):\n",
    "    return x+y"
   ]
  },
  {
   "cell_type": "code",
   "execution_count": 44,
   "id": "ff176a70",
   "metadata": {},
   "outputs": [],
   "source": [
    "def square(f,x,y):\n",
    "    return f(x,y)**2"
   ]
  },
  {
   "cell_type": "code",
   "execution_count": 46,
   "id": "645e37e8",
   "metadata": {},
   "outputs": [
    {
     "name": "stdout",
     "output_type": "stream",
     "text": [
      "121\n"
     ]
    }
   ],
   "source": [
    "x=square(add,5,6)\n",
    "print(x)"
   ]
  },
  {
   "cell_type": "code",
   "execution_count": 47,
   "id": "77f7a664",
   "metadata": {},
   "outputs": [],
   "source": [
    "def Purvi(j,k):\n",
    "    return j+k"
   ]
  },
  {
   "cell_type": "code",
   "execution_count": 58,
   "id": "54654194",
   "metadata": {},
   "outputs": [],
   "source": [
    "def Surendra(a,b,c):\n",
    "    return a(b,c)**2 # Purvi(5,2)"
   ]
  },
  {
   "cell_type": "code",
   "execution_count": 60,
   "id": "f4b410cc",
   "metadata": {},
   "outputs": [
    {
     "name": "stdout",
     "output_type": "stream",
     "text": [
      "121\n"
     ]
    }
   ],
   "source": [
    "res=Surendra(Purvi,6,5)\n",
    "print(res)"
   ]
  },
  {
   "cell_type": "markdown",
   "id": "41e257e5",
   "metadata": {},
   "source": [
    "# A function may return another function"
   ]
  },
  {
   "cell_type": "code",
   "execution_count": 61,
   "id": "90a385d3",
   "metadata": {},
   "outputs": [],
   "source": [
    "def outer():\n",
    "    def inner():\n",
    "        return 'Hello I am the inner function'\n",
    "    return inner"
   ]
  },
  {
   "cell_type": "code",
   "execution_count": 62,
   "id": "3a3a8fcf",
   "metadata": {},
   "outputs": [],
   "source": [
    "# Function decorators"
   ]
  },
  {
   "cell_type": "markdown",
   "id": "f6f47018",
   "metadata": {},
   "source": [
    "# Modules"
   ]
  },
  {
   "cell_type": "code",
   "execution_count": null,
   "id": "16e4cb43",
   "metadata": {},
   "outputs": [],
   "source": []
  }
 ],
 "metadata": {
  "kernelspec": {
   "display_name": "Python 3 (ipykernel)",
   "language": "python",
   "name": "python3"
  },
  "language_info": {
   "codemirror_mode": {
    "name": "ipython",
    "version": 3
   },
   "file_extension": ".py",
   "mimetype": "text/x-python",
   "name": "python",
   "nbconvert_exporter": "python",
   "pygments_lexer": "ipython3",
   "version": "3.9.13"
  }
 },
 "nbformat": 4,
 "nbformat_minor": 5
}
