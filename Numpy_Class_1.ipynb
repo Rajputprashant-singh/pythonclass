{
 "cells": [
  {
   "cell_type": "code",
   "execution_count": 1,
   "id": "6ca11284",
   "metadata": {},
   "outputs": [],
   "source": [
    "import re"
   ]
  },
  {
   "cell_type": "markdown",
   "id": "a8380a98",
   "metadata": {},
   "source": [
    "# split()\n",
    "- It splits the string from the pattern that we pass.\n",
    "- It returns a list."
   ]
  },
  {
   "cell_type": "code",
   "execution_count": 5,
   "id": "69a9c6e5",
   "metadata": {},
   "outputs": [],
   "source": [
    "# Syntax- re.split(pattern,string)"
   ]
  },
  {
   "cell_type": "code",
   "execution_count": 4,
   "id": "a34f0116",
   "metadata": {},
   "outputs": [
    {
     "data": {
      "text/plain": [
       "['Hello', 'good', 'morning']"
      ]
     },
     "execution_count": 4,
     "metadata": {},
     "output_type": "execute_result"
    }
   ],
   "source": [
    "text='Hello1good5morning'\n",
    "\n",
    "re.split('\\d',text)"
   ]
  },
  {
   "cell_type": "markdown",
   "id": "0340f31a",
   "metadata": {},
   "source": [
    "# fullmatch()\n",
    "- It matches the complete pattern in a string."
   ]
  },
  {
   "cell_type": "code",
   "execution_count": 7,
   "id": "7aa60462",
   "metadata": {},
   "outputs": [],
   "source": [
    "# Syntax-re.fullmatch(pattern,string)"
   ]
  },
  {
   "cell_type": "code",
   "execution_count": 8,
   "id": "ce3d5461",
   "metadata": {},
   "outputs": [
    {
     "data": {
      "text/plain": [
       "<re.Match object; span=(0, 10), match='Ashish@123'>"
      ]
     },
     "execution_count": 8,
     "metadata": {},
     "output_type": "execute_result"
    }
   ],
   "source": [
    "username='Ashish@123'\n",
    "pat=r'Ashish@123'\n",
    "\n",
    "re.fullmatch(pat,username)"
   ]
  },
  {
   "cell_type": "code",
   "execution_count": 11,
   "id": "8d0c78a5",
   "metadata": {},
   "outputs": [
    {
     "name": "stdout",
     "output_type": "stream",
     "text": [
      "None\n"
     ]
    }
   ],
   "source": [
    "username='12431432sdgsefhtwuAshish@123'\n",
    "pat=r'Ashish@123'\n",
    "\n",
    "print(re.fullmatch(pat,username))"
   ]
  },
  {
   "cell_type": "code",
   "execution_count": 15,
   "id": "14aeefe7",
   "metadata": {},
   "outputs": [
    {
     "name": "stdout",
     "output_type": "stream",
     "text": [
      "None\n"
     ]
    }
   ],
   "source": [
    "username='Ashish@123315235asdrwet'\n",
    "pat=r'Ashish@123'\n",
    "\n",
    "print(re.fullmatch(pat,username))"
   ]
  },
  {
   "cell_type": "markdown",
   "id": "06044548",
   "metadata": {},
   "source": [
    "# compile()"
   ]
  },
  {
   "cell_type": "markdown",
   "id": "b16ed66f",
   "metadata": {},
   "source": [
    "- It is used to create a regex pattern.\n",
    "- It returns a re.Pattern object.\n",
    "- We can call any regex function on re.Pattern object."
   ]
  },
  {
   "cell_type": "code",
   "execution_count": 16,
   "id": "48f07b33",
   "metadata": {},
   "outputs": [
    {
     "name": "stdout",
     "output_type": "stream",
     "text": [
      "<re.Match object; span=(8, 14), match='Python'>\n"
     ]
    }
   ],
   "source": [
    "text='This is Python class.'\n",
    "\n",
    "pat='Python'\n",
    "\n",
    "x=re.finditer(pat,text)\n",
    "for i in x:\n",
    "    print(i)"
   ]
  },
  {
   "cell_type": "code",
   "execution_count": 21,
   "id": "0a305914",
   "metadata": {},
   "outputs": [
    {
     "name": "stdout",
     "output_type": "stream",
     "text": [
      "re.compile('Python') <class 're.Pattern'>\n"
     ]
    }
   ],
   "source": [
    "text='This is Python class.'\n",
    "\n",
    "pat=re.compile('Python')\n",
    "print(pat,type(pat))"
   ]
  },
  {
   "cell_type": "code",
   "execution_count": 22,
   "id": "80c156a5",
   "metadata": {},
   "outputs": [
    {
     "name": "stdout",
     "output_type": "stream",
     "text": [
      "None\n",
      "<re.Match object; span=(8, 14), match='Python'>\n"
     ]
    }
   ],
   "source": [
    "print(pat.match(text))\n",
    "print(pat.search(text))"
   ]
  },
  {
   "cell_type": "code",
   "execution_count": 25,
   "id": "912e36e0",
   "metadata": {},
   "outputs": [
    {
     "name": "stdout",
     "output_type": "stream",
     "text": [
      "<re.Match object; span=(8, 14), match='Python'>\n"
     ]
    }
   ],
   "source": [
    "for i in pat.finditer(text):\n",
    "    print(i)"
   ]
  },
  {
   "cell_type": "code",
   "execution_count": 27,
   "id": "c41f9c3b",
   "metadata": {},
   "outputs": [
    {
     "data": {
      "text/plain": [
       "['Python', 'Python']"
      ]
     },
     "execution_count": 27,
     "metadata": {},
     "output_type": "execute_result"
    }
   ],
   "source": [
    "text='This is Python class. I am learning Python.'\n",
    "\n",
    "re.findall('Python',text)"
   ]
  },
  {
   "cell_type": "code",
   "execution_count": 28,
   "id": "24724b02",
   "metadata": {},
   "outputs": [],
   "source": [
    "pat=re.compile('Python')"
   ]
  },
  {
   "cell_type": "code",
   "execution_count": 29,
   "id": "20fe638c",
   "metadata": {},
   "outputs": [
    {
     "data": {
      "text/plain": [
       "['Python', 'Python']"
      ]
     },
     "execution_count": 29,
     "metadata": {},
     "output_type": "execute_result"
    }
   ],
   "source": [
    "pat.findall(text)"
   ]
  },
  {
   "cell_type": "markdown",
   "id": "9b00201b",
   "metadata": {},
   "source": [
    "# Numpy"
   ]
  },
  {
   "cell_type": "markdown",
   "id": "866ec3b5",
   "metadata": {},
   "source": [
    "- Numpy is a Python librray. We call it as Python librray because it supports Python syntax.\n",
    "- Numpy stands for Numerical Python.\n",
    "- Numpy is used to perform advanced numerical computations on large datasets.\n",
    "- By using Numpy we can perform complex operations with less lines of code.\n",
    "- Numpy provides a very useful data structure known as array."
   ]
  },
  {
   "cell_type": "markdown",
   "id": "2cb596cd",
   "metadata": {},
   "source": [
    "# How to import Numpy"
   ]
  },
  {
   "cell_type": "code",
   "execution_count": 3,
   "id": "c03b904c",
   "metadata": {},
   "outputs": [],
   "source": [
    "import numpy as np"
   ]
  },
  {
   "cell_type": "code",
   "execution_count": 2,
   "id": "15204f66",
   "metadata": {},
   "outputs": [
    {
     "name": "stdout",
     "output_type": "stream",
     "text": [
      "['In', 'Out', '_', '__', '___', '__builtin__', '__builtins__', '__doc__', '__loader__', '__name__', '__package__', '__spec__', '_dh', '_i', '_i1', '_i2', '_ih', '_ii', '_iii', '_oh', 'exit', 'get_ipython', 'np', 'quit']\n"
     ]
    }
   ],
   "source": [
    "print(dir())"
   ]
  },
  {
   "cell_type": "code",
   "execution_count": 3,
   "id": "38fc5d14",
   "metadata": {},
   "outputs": [
    {
     "data": {
      "text/plain": [
       "array([ 1,  2,  3, 45])"
      ]
     },
     "execution_count": 3,
     "metadata": {},
     "output_type": "execute_result"
    }
   ],
   "source": [
    "np.array([1,2,3,45])"
   ]
  },
  {
   "cell_type": "markdown",
   "id": "88f9e804",
   "metadata": {},
   "source": [
    "# Version"
   ]
  },
  {
   "cell_type": "code",
   "execution_count": 4,
   "id": "0e4f34bd",
   "metadata": {},
   "outputs": [
    {
     "data": {
      "text/plain": [
       "'1.21.5'"
      ]
     },
     "execution_count": 4,
     "metadata": {},
     "output_type": "execute_result"
    }
   ],
   "source": [
    "np.__version__"
   ]
  },
  {
   "cell_type": "markdown",
   "id": "e1aa9fbe",
   "metadata": {},
   "source": [
    "# How to install numpy"
   ]
  },
  {
   "cell_type": "code",
   "execution_count": 5,
   "id": "701141a6",
   "metadata": {},
   "outputs": [
    {
     "name": "stdout",
     "output_type": "stream",
     "text": [
      "Requirement already satisfied: numpy in c:\\users\\dell\\anaconda3\\lib\\site-packages (1.21.5)\n",
      "Note: you may need to restart the kernel to use updated packages.\n"
     ]
    }
   ],
   "source": [
    "pip install numpy"
   ]
  },
  {
   "cell_type": "markdown",
   "id": "7c6ef6c9",
   "metadata": {},
   "source": [
    "# How to update numpy"
   ]
  },
  {
   "cell_type": "code",
   "execution_count": 1,
   "id": "3dd5876a",
   "metadata": {},
   "outputs": [],
   "source": [
    "# conda update numpy"
   ]
  },
  {
   "cell_type": "markdown",
   "id": "97575bed",
   "metadata": {},
   "source": [
    "# Array"
   ]
  },
  {
   "cell_type": "markdown",
   "id": "3afbce5c",
   "metadata": {},
   "source": [
    "- An array is the collection of homogenous (same type) elements."
   ]
  },
  {
   "cell_type": "markdown",
   "id": "9d10e915",
   "metadata": {},
   "source": [
    "# How to create an array"
   ]
  },
  {
   "cell_type": "code",
   "execution_count": 4,
   "id": "7e6ed717",
   "metadata": {},
   "outputs": [],
   "source": [
    "# np.array()"
   ]
  },
  {
   "cell_type": "code",
   "execution_count": 5,
   "id": "6b2e5ee5",
   "metadata": {},
   "outputs": [
    {
     "data": {
      "text/plain": [
       "array([10, 20, 30, 40, 50, 60])"
      ]
     },
     "execution_count": 5,
     "metadata": {},
     "output_type": "execute_result"
    }
   ],
   "source": [
    "lst=[10,20,30,40,50,60]\n",
    "arr=np.array(lst)\n",
    "arr"
   ]
  },
  {
   "cell_type": "code",
   "execution_count": 6,
   "id": "68447893",
   "metadata": {},
   "outputs": [
    {
     "data": {
      "text/plain": [
       "numpy.ndarray"
      ]
     },
     "execution_count": 6,
     "metadata": {},
     "output_type": "execute_result"
    }
   ],
   "source": [
    "type(arr)"
   ]
  },
  {
   "cell_type": "code",
   "execution_count": 7,
   "id": "f270704e",
   "metadata": {},
   "outputs": [
    {
     "data": {
      "text/plain": [
       "array([10, 20, 30, 40, 50, 60])"
      ]
     },
     "execution_count": 7,
     "metadata": {},
     "output_type": "execute_result"
    }
   ],
   "source": [
    "lst=(10,20,30,40,50,60)\n",
    "arr=np.array(lst)\n",
    "arr"
   ]
  },
  {
   "cell_type": "markdown",
   "id": "3892b9fe",
   "metadata": {},
   "source": [
    "# List vs array\n",
    "- With arrays we can easily perform some operation rather than a list.\n",
    "- Arrays are faster than list."
   ]
  },
  {
   "cell_type": "code",
   "execution_count": 8,
   "id": "15710d0b",
   "metadata": {},
   "outputs": [
    {
     "name": "stdout",
     "output_type": "stream",
     "text": [
      "[10, 20, 30, 40, 50, 60] <class 'list'>\n"
     ]
    }
   ],
   "source": [
    "# Multiple each element of the following list by 5\n",
    "\n",
    "lst=[10,20,30,40,50,60]\n",
    "print(lst,type(lst))"
   ]
  },
  {
   "cell_type": "code",
   "execution_count": 10,
   "id": "5fa8c61f",
   "metadata": {},
   "outputs": [
    {
     "name": "stdout",
     "output_type": "stream",
     "text": [
      "[10, 20, 30, 40, 50, 60, 10, 20, 30, 40, 50, 60, 10, 20, 30, 40, 50, 60, 10, 20, 30, 40, 50, 60, 10, 20, 30, 40, 50, 60]\n"
     ]
    }
   ],
   "source": [
    "print(lst*5)"
   ]
  },
  {
   "cell_type": "code",
   "execution_count": 11,
   "id": "57588197",
   "metadata": {},
   "outputs": [
    {
     "name": "stdout",
     "output_type": "stream",
     "text": [
      "[50, 100, 150, 200, 250, 300]\n"
     ]
    }
   ],
   "source": [
    "for i in range(len(lst)):\n",
    "    lst[i]*=5 # lst[i]=lst[i]*5\n",
    "print(lst)"
   ]
  },
  {
   "cell_type": "code",
   "execution_count": 13,
   "id": "3b99bc53",
   "metadata": {},
   "outputs": [
    {
     "data": {
      "text/plain": [
       "array([10, 20, 30, 40, 50, 60])"
      ]
     },
     "execution_count": 13,
     "metadata": {},
     "output_type": "execute_result"
    }
   ],
   "source": [
    "# Multiple each element of the following arr by 5\n",
    "\n",
    "lst=[10,20,30,40,50,60]\n",
    "arr=np.array(lst)\n",
    "arr"
   ]
  },
  {
   "cell_type": "code",
   "execution_count": 14,
   "id": "631fe9e4",
   "metadata": {},
   "outputs": [
    {
     "data": {
      "text/plain": [
       "array([ 50, 100, 150, 200, 250, 300])"
      ]
     },
     "execution_count": 14,
     "metadata": {},
     "output_type": "execute_result"
    }
   ],
   "source": [
    "arr*5"
   ]
  },
  {
   "cell_type": "markdown",
   "id": "40ae8c81",
   "metadata": {},
   "source": [
    "# Arrays are faster than list"
   ]
  },
  {
   "cell_type": "code",
   "execution_count": 19,
   "id": "9e4daffa",
   "metadata": {},
   "outputs": [],
   "source": [
    "import time"
   ]
  },
  {
   "cell_type": "code",
   "execution_count": 21,
   "id": "a710e8e3",
   "metadata": {},
   "outputs": [
    {
     "name": "stdout",
     "output_type": "stream",
     "text": [
      "0.20740628242492676\n"
     ]
    }
   ],
   "source": [
    "st=time.time()\n",
    "\n",
    "lst=[i for i in range(1000000)]\n",
    "\n",
    "for i in range(len(lst)):\n",
    "    lst[i]=lst[i]*5\n",
    "    \n",
    "tt=time.time()-st\n",
    "print(tt)"
   ]
  },
  {
   "cell_type": "code",
   "execution_count": 25,
   "id": "d9e382e6",
   "metadata": {},
   "outputs": [
    {
     "name": "stdout",
     "output_type": "stream",
     "text": [
      "0.004565000534057617\n"
     ]
    }
   ],
   "source": [
    "st=time.time()\n",
    "arr=np.arange(1000000)\n",
    "arr=arr*5\n",
    "# arr\n",
    "tt=time.time()-st\n",
    "print(tt)"
   ]
  },
  {
   "cell_type": "markdown",
   "id": "a83218a9",
   "metadata": {},
   "source": [
    "# Why arrays are faster than a list"
   ]
  },
  {
   "cell_type": "markdown",
   "id": "26d1ceb1",
   "metadata": {},
   "source": [
    "- On list we have to use loop to perform some operation.\n",
    "- Loop makes the process slow.\n",
    "- Arrays use vectorised operations by using array broadcasting and this process is much faster than loop."
   ]
  },
  {
   "cell_type": "markdown",
   "id": "dbaefdb7",
   "metadata": {},
   "source": [
    "- A list is a collection of heterogenous elements.\n",
    "- A list has to store a lot of information for each element seperately becasue each element behaves differently in a list.\n",
    "- This is the reason that makes the process slow.\n",
    "- An array is the collection of homogenous elements. It does not store extra information for each element seperately."
   ]
  },
  {
   "cell_type": "code",
   "execution_count": 26,
   "id": "2fa386b3",
   "metadata": {},
   "outputs": [
    {
     "name": "stdout",
     "output_type": "stream",
     "text": [
      "True <class 'bool'>\n"
     ]
    }
   ],
   "source": [
    "a=True\n",
    "print(a,type(a))"
   ]
  },
  {
   "cell_type": "code",
   "execution_count": 27,
   "id": "960dab67",
   "metadata": {},
   "outputs": [
    {
     "name": "stdout",
     "output_type": "stream",
     "text": [
      "['__abs__', '__add__', '__and__', '__bool__', '__ceil__', '__class__', '__delattr__', '__dir__', '__divmod__', '__doc__', '__eq__', '__float__', '__floor__', '__floordiv__', '__format__', '__ge__', '__getattribute__', '__getnewargs__', '__gt__', '__hash__', '__index__', '__init__', '__init_subclass__', '__int__', '__invert__', '__le__', '__lshift__', '__lt__', '__mod__', '__mul__', '__ne__', '__neg__', '__new__', '__or__', '__pos__', '__pow__', '__radd__', '__rand__', '__rdivmod__', '__reduce__', '__reduce_ex__', '__repr__', '__rfloordiv__', '__rlshift__', '__rmod__', '__rmul__', '__ror__', '__round__', '__rpow__', '__rrshift__', '__rshift__', '__rsub__', '__rtruediv__', '__rxor__', '__setattr__', '__sizeof__', '__str__', '__sub__', '__subclasshook__', '__truediv__', '__trunc__', '__xor__', 'as_integer_ratio', 'bit_length', 'conjugate', 'denominator', 'from_bytes', 'imag', 'numerator', 'real', 'to_bytes']\n"
     ]
    }
   ],
   "source": [
    "print(dir(bool))"
   ]
  },
  {
   "cell_type": "code",
   "execution_count": 31,
   "id": "33cb6c02",
   "metadata": {},
   "outputs": [],
   "source": [
    "lst=[10]"
   ]
  },
  {
   "cell_type": "code",
   "execution_count": 30,
   "id": "915390d7",
   "metadata": {},
   "outputs": [
    {
     "name": "stdout",
     "output_type": "stream",
     "text": [
      "2084697282112\n"
     ]
    }
   ],
   "source": [
    "print(id(lst))"
   ]
  },
  {
   "cell_type": "code",
   "execution_count": 32,
   "id": "2321e173",
   "metadata": {},
   "outputs": [
    {
     "name": "stdout",
     "output_type": "stream",
     "text": [
      "2084616956496\n"
     ]
    }
   ],
   "source": [
    "print(id(lst[0]))"
   ]
  },
  {
   "cell_type": "code",
   "execution_count": 33,
   "id": "6b42fda6",
   "metadata": {},
   "outputs": [
    {
     "name": "stdout",
     "output_type": "stream",
     "text": [
      "['__abs__', '__add__', '__and__', '__bool__', '__ceil__', '__class__', '__delattr__', '__dir__', '__divmod__', '__doc__', '__eq__', '__float__', '__floor__', '__floordiv__', '__format__', '__ge__', '__getattribute__', '__getnewargs__', '__gt__', '__hash__', '__index__', '__init__', '__init_subclass__', '__int__', '__invert__', '__le__', '__lshift__', '__lt__', '__mod__', '__mul__', '__ne__', '__neg__', '__new__', '__or__', '__pos__', '__pow__', '__radd__', '__rand__', '__rdivmod__', '__reduce__', '__reduce_ex__', '__repr__', '__rfloordiv__', '__rlshift__', '__rmod__', '__rmul__', '__ror__', '__round__', '__rpow__', '__rrshift__', '__rshift__', '__rsub__', '__rtruediv__', '__rxor__', '__setattr__', '__sizeof__', '__str__', '__sub__', '__subclasshook__', '__truediv__', '__trunc__', '__xor__', 'as_integer_ratio', 'bit_length', 'conjugate', 'denominator', 'from_bytes', 'imag', 'numerator', 'real', 'to_bytes']\n"
     ]
    }
   ],
   "source": [
    "print(dir(lst[0]))"
   ]
  },
  {
   "cell_type": "markdown",
   "id": "0c522f4f",
   "metadata": {},
   "source": [
    "# Array upcasting\n",
    "- When we pass heterogenous elements to an array then it converts them to one type and this process is known as array upcasting."
   ]
  },
  {
   "cell_type": "code",
   "execution_count": 34,
   "id": "d4dc8594",
   "metadata": {},
   "outputs": [],
   "source": [
    "# int -> float -> complex -> string -> object"
   ]
  },
  {
   "cell_type": "code",
   "execution_count": 35,
   "id": "1c9166c9",
   "metadata": {},
   "outputs": [
    {
     "data": {
      "text/plain": [
       "array([10, 20, 30, 40, 50])"
      ]
     },
     "execution_count": 35,
     "metadata": {},
     "output_type": "execute_result"
    }
   ],
   "source": [
    "arr=np.array([10,20,30,40,50])\n",
    "arr"
   ]
  },
  {
   "cell_type": "code",
   "execution_count": 36,
   "id": "a915f262",
   "metadata": {},
   "outputs": [
    {
     "data": {
      "text/plain": [
       "dtype('int32')"
      ]
     },
     "execution_count": 36,
     "metadata": {},
     "output_type": "execute_result"
    }
   ],
   "source": [
    "arr.dtype"
   ]
  },
  {
   "cell_type": "code",
   "execution_count": 37,
   "id": "06c22dd4",
   "metadata": {},
   "outputs": [
    {
     "data": {
      "text/plain": [
       "array([10. , 20.5, 30. , 40. , 50. ])"
      ]
     },
     "execution_count": 37,
     "metadata": {},
     "output_type": "execute_result"
    }
   ],
   "source": [
    "arr=np.array([10,20.5,30,40,50])\n",
    "arr"
   ]
  },
  {
   "cell_type": "code",
   "execution_count": 38,
   "id": "f36da9ef",
   "metadata": {},
   "outputs": [
    {
     "data": {
      "text/plain": [
       "dtype('float64')"
      ]
     },
     "execution_count": 38,
     "metadata": {},
     "output_type": "execute_result"
    }
   ],
   "source": [
    "arr.dtype"
   ]
  },
  {
   "cell_type": "code",
   "execution_count": 39,
   "id": "a52db31b",
   "metadata": {},
   "outputs": [
    {
     "data": {
      "text/plain": [
       "array([10.+0.j, 20.+5.j, 30.+0.j, 40.+0.j, 50.+0.j])"
      ]
     },
     "execution_count": 39,
     "metadata": {},
     "output_type": "execute_result"
    }
   ],
   "source": [
    "arr=np.array([10,20+5j,30,40,50])\n",
    "arr"
   ]
  },
  {
   "cell_type": "code",
   "execution_count": 40,
   "id": "9b95fce0",
   "metadata": {},
   "outputs": [
    {
     "data": {
      "text/plain": [
       "dtype('complex128')"
      ]
     },
     "execution_count": 40,
     "metadata": {},
     "output_type": "execute_result"
    }
   ],
   "source": [
    "arr.dtype"
   ]
  },
  {
   "cell_type": "code",
   "execution_count": 41,
   "id": "c8a0c2ba",
   "metadata": {},
   "outputs": [
    {
     "data": {
      "text/plain": [
       "array([10.5+0.j, 20. +0.j, 30. +6.j, 40. +0.j, 50. +0.j])"
      ]
     },
     "execution_count": 41,
     "metadata": {},
     "output_type": "execute_result"
    }
   ],
   "source": [
    "arr=np.array([10.5,20,30+6j,40,50])\n",
    "arr"
   ]
  },
  {
   "cell_type": "code",
   "execution_count": 42,
   "id": "969c1ab1",
   "metadata": {},
   "outputs": [
    {
     "data": {
      "text/plain": [
       "dtype('complex128')"
      ]
     },
     "execution_count": 42,
     "metadata": {},
     "output_type": "execute_result"
    }
   ],
   "source": [
    "arr.dtype"
   ]
  },
  {
   "cell_type": "code",
   "execution_count": 43,
   "id": "0be6e9df",
   "metadata": {},
   "outputs": [
    {
     "data": {
      "text/plain": [
       "array(['10', '20', '30', '40', '50'], dtype='<U11')"
      ]
     },
     "execution_count": 43,
     "metadata": {},
     "output_type": "execute_result"
    }
   ],
   "source": [
    "arr=np.array([10,20,30,40,'50'])\n",
    "arr"
   ]
  },
  {
   "cell_type": "code",
   "execution_count": 44,
   "id": "c90ca2bd",
   "metadata": {},
   "outputs": [
    {
     "data": {
      "text/plain": [
       "array(['10', '20.5', '30', '40', '50'], dtype='<U32')"
      ]
     },
     "execution_count": 44,
     "metadata": {},
     "output_type": "execute_result"
    }
   ],
   "source": [
    "arr=np.array([10,20.5,30,40,'50'])\n",
    "arr"
   ]
  },
  {
   "cell_type": "code",
   "execution_count": 45,
   "id": "3c6dd6bb",
   "metadata": {},
   "outputs": [
    {
     "data": {
      "text/plain": [
       "array(['10.5', '(20+4j)', '30', '40', '50'], dtype='<U64')"
      ]
     },
     "execution_count": 45,
     "metadata": {},
     "output_type": "execute_result"
    }
   ],
   "source": [
    "arr=np.array([10.5,20+4j,30,40,'50'])\n",
    "arr"
   ]
  },
  {
   "cell_type": "code",
   "execution_count": 58,
   "id": "b8516880",
   "metadata": {},
   "outputs": [
    {
     "name": "stdout",
     "output_type": "stream",
     "text": [
      "[10 list([20, 30]) 40 '50']\n"
     ]
    }
   ],
   "source": [
    "arr=np.array([10,[20,30],40,'50'],dtype='object')\n",
    "print(arr)"
   ]
  },
  {
   "cell_type": "code",
   "execution_count": 51,
   "id": "4e87c861",
   "metadata": {},
   "outputs": [
    {
     "data": {
      "text/plain": [
       "dtype('O')"
      ]
     },
     "execution_count": 51,
     "metadata": {},
     "output_type": "execute_result"
    }
   ],
   "source": [
    "arr.dtype"
   ]
  },
  {
   "cell_type": "code",
   "execution_count": 56,
   "id": "988bc303",
   "metadata": {},
   "outputs": [
    {
     "name": "stdout",
     "output_type": "stream",
     "text": [
      "[10 20 30 40 '50' True None]\n",
      "object\n"
     ]
    }
   ],
   "source": [
    "arr=np.array([10,20,30,40,'50', True,None])\n",
    "print(arr)\n",
    "print(arr.dtype)"
   ]
  },
  {
   "cell_type": "code",
   "execution_count": 53,
   "id": "89a6142a",
   "metadata": {},
   "outputs": [
    {
     "name": "stdout",
     "output_type": "stream",
     "text": [
      "[10, 20, 30, 40]\n"
     ]
    }
   ],
   "source": [
    "print([10,20,30,40])"
   ]
  },
  {
   "cell_type": "markdown",
   "id": "64714693",
   "metadata": {},
   "source": [
    "# Attributes on arrays"
   ]
  },
  {
   "cell_type": "markdown",
   "id": "23166f3f",
   "metadata": {},
   "source": [
    "### dtype\n",
    "- It returns the type of the elements an array contains."
   ]
  },
  {
   "cell_type": "code",
   "execution_count": 65,
   "id": "1d52085b",
   "metadata": {},
   "outputs": [
    {
     "data": {
      "text/plain": [
       "array([ 10,  20, -30,  40,  50])"
      ]
     },
     "execution_count": 65,
     "metadata": {},
     "output_type": "execute_result"
    }
   ],
   "source": [
    "arr=np.array([10,20,-30,40,50])\n",
    "arr"
   ]
  },
  {
   "cell_type": "code",
   "execution_count": 66,
   "id": "9da2af63",
   "metadata": {},
   "outputs": [
    {
     "data": {
      "text/plain": [
       "dtype('int32')"
      ]
     },
     "execution_count": 66,
     "metadata": {},
     "output_type": "execute_result"
    }
   ],
   "source": [
    "arr.dtype"
   ]
  },
  {
   "cell_type": "code",
   "execution_count": 63,
   "id": "bf654d2b",
   "metadata": {},
   "outputs": [
    {
     "data": {
      "text/plain": [
       "array([ 10.5, -20. ,  30. ,  40. ,  50. ])"
      ]
     },
     "execution_count": 63,
     "metadata": {},
     "output_type": "execute_result"
    }
   ],
   "source": [
    "arr=np.array([10.50,-20,30,40,50])\n",
    "arr"
   ]
  },
  {
   "cell_type": "code",
   "execution_count": 64,
   "id": "46db48e7",
   "metadata": {},
   "outputs": [
    {
     "data": {
      "text/plain": [
       "dtype('float64')"
      ]
     },
     "execution_count": 64,
     "metadata": {},
     "output_type": "execute_result"
    }
   ],
   "source": [
    "arr.dtype"
   ]
  },
  {
   "cell_type": "markdown",
   "id": "57b46d08",
   "metadata": {},
   "source": [
    "### size\n",
    "- It returns the number of elements an array contains."
   ]
  },
  {
   "cell_type": "code",
   "execution_count": 67,
   "id": "b5f97f7a",
   "metadata": {},
   "outputs": [
    {
     "data": {
      "text/plain": [
       "array([ 10,  20, -30,  40,  50])"
      ]
     },
     "execution_count": 67,
     "metadata": {},
     "output_type": "execute_result"
    }
   ],
   "source": [
    "arr"
   ]
  },
  {
   "cell_type": "code",
   "execution_count": 73,
   "id": "eeea37c4",
   "metadata": {},
   "outputs": [
    {
     "name": "stdout",
     "output_type": "stream",
     "text": [
      "5\n",
      "5\n"
     ]
    }
   ],
   "source": [
    "print(arr.size)\n",
    "print(len(arr))"
   ]
  },
  {
   "cell_type": "markdown",
   "id": "f042aa7f",
   "metadata": {},
   "source": [
    "### shape\n",
    "- It returns a tuple.\n",
    "- If the tuple has single element then it represents the number of elements.\n",
    "- If the tuple has two elements then the first element represents the number of rows and the second element represents the number of columns."
   ]
  },
  {
   "cell_type": "code",
   "execution_count": 74,
   "id": "01ba9e6d",
   "metadata": {},
   "outputs": [
    {
     "data": {
      "text/plain": [
       "array([ 10,  20, -30,  40,  50])"
      ]
     },
     "execution_count": 74,
     "metadata": {},
     "output_type": "execute_result"
    }
   ],
   "source": [
    "arr"
   ]
  },
  {
   "cell_type": "code",
   "execution_count": 76,
   "id": "a4897e89",
   "metadata": {},
   "outputs": [
    {
     "data": {
      "text/plain": [
       "(5,)"
      ]
     },
     "execution_count": 76,
     "metadata": {},
     "output_type": "execute_result"
    }
   ],
   "source": [
    "arr.shape"
   ]
  },
  {
   "cell_type": "code",
   "execution_count": 77,
   "id": "6dcc5269",
   "metadata": {},
   "outputs": [
    {
     "data": {
      "text/plain": [
       "array([[2, 4, 6],\n",
       "       [8, 2, 4]])"
      ]
     },
     "execution_count": 77,
     "metadata": {},
     "output_type": "execute_result"
    }
   ],
   "source": [
    "arr=np.array([[2,4,6],[8,2,4]])\n",
    "arr"
   ]
  },
  {
   "cell_type": "code",
   "execution_count": 78,
   "id": "b24c4d29",
   "metadata": {},
   "outputs": [
    {
     "data": {
      "text/plain": [
       "(2, 3)"
      ]
     },
     "execution_count": 78,
     "metadata": {},
     "output_type": "execute_result"
    }
   ],
   "source": [
    "arr.shape"
   ]
  },
  {
   "cell_type": "markdown",
   "id": "977b39c4",
   "metadata": {},
   "source": [
    "### ndim\n",
    "- It returns the dimension of the array."
   ]
  },
  {
   "cell_type": "code",
   "execution_count": 79,
   "id": "a6582669",
   "metadata": {},
   "outputs": [
    {
     "data": {
      "text/plain": [
       "array([ 10,  20,  30, 540, 560])"
      ]
     },
     "execution_count": 79,
     "metadata": {},
     "output_type": "execute_result"
    }
   ],
   "source": [
    "arr=np.array([10,20,30,540,560])\n",
    "arr"
   ]
  },
  {
   "cell_type": "code",
   "execution_count": 80,
   "id": "6124f2a9",
   "metadata": {},
   "outputs": [
    {
     "data": {
      "text/plain": [
       "1"
      ]
     },
     "execution_count": 80,
     "metadata": {},
     "output_type": "execute_result"
    }
   ],
   "source": [
    "arr.ndim"
   ]
  },
  {
   "cell_type": "code",
   "execution_count": 81,
   "id": "c68e747d",
   "metadata": {},
   "outputs": [
    {
     "data": {
      "text/plain": [
       "array([[2, 4, 6],\n",
       "       [8, 2, 4]])"
      ]
     },
     "execution_count": 81,
     "metadata": {},
     "output_type": "execute_result"
    }
   ],
   "source": [
    "arr=np.array([[2,4,6],[8,2,4]])\n",
    "arr"
   ]
  },
  {
   "cell_type": "code",
   "execution_count": 85,
   "id": "32b3dad7",
   "metadata": {},
   "outputs": [
    {
     "data": {
      "text/plain": [
       "2"
      ]
     },
     "execution_count": 85,
     "metadata": {},
     "output_type": "execute_result"
    }
   ],
   "source": [
    "arr.ndim"
   ]
  },
  {
   "cell_type": "code",
   "execution_count": 83,
   "id": "a840639c",
   "metadata": {},
   "outputs": [],
   "source": [
    "# Methods vs attributes"
   ]
  },
  {
   "cell_type": "code",
   "execution_count": 93,
   "id": "bb1c2360",
   "metadata": {},
   "outputs": [],
   "source": [
    "class Shrikant:\n",
    "    def __init__(self):\n",
    "        self.name='Shrikant'\n",
    "        self.age=25\n",
    "        self.salary=55000\n",
    "        \n",
    "    def intro(self):\n",
    "        return 'I am Shrikant'"
   ]
  },
  {
   "cell_type": "code",
   "execution_count": 94,
   "id": "863928d0",
   "metadata": {},
   "outputs": [],
   "source": [
    "s=Shrikant()"
   ]
  },
  {
   "cell_type": "code",
   "execution_count": 95,
   "id": "319d4ed9",
   "metadata": {},
   "outputs": [
    {
     "data": {
      "text/plain": [
       "'Shrikant'"
      ]
     },
     "execution_count": 95,
     "metadata": {},
     "output_type": "execute_result"
    }
   ],
   "source": [
    "s.name"
   ]
  },
  {
   "cell_type": "code",
   "execution_count": 96,
   "id": "31d80fdc",
   "metadata": {},
   "outputs": [
    {
     "data": {
      "text/plain": [
       "25"
      ]
     },
     "execution_count": 96,
     "metadata": {},
     "output_type": "execute_result"
    }
   ],
   "source": [
    "s.age"
   ]
  },
  {
   "cell_type": "code",
   "execution_count": 97,
   "id": "0b2f546f",
   "metadata": {},
   "outputs": [
    {
     "data": {
      "text/plain": [
       "55000"
      ]
     },
     "execution_count": 97,
     "metadata": {},
     "output_type": "execute_result"
    }
   ],
   "source": [
    "s.salary"
   ]
  },
  {
   "cell_type": "code",
   "execution_count": 98,
   "id": "ef08050b",
   "metadata": {},
   "outputs": [
    {
     "data": {
      "text/plain": [
       "'I am Shrikant'"
      ]
     },
     "execution_count": 98,
     "metadata": {},
     "output_type": "execute_result"
    }
   ],
   "source": [
    "s.intro()"
   ]
  },
  {
   "cell_type": "markdown",
   "id": "17114915",
   "metadata": {},
   "source": [
    "# Creating different types of arrays"
   ]
  },
  {
   "cell_type": "markdown",
   "id": "870df1fb",
   "metadata": {},
   "source": [
    "# np.arange()"
   ]
  },
  {
   "cell_type": "markdown",
   "id": "a6470773",
   "metadata": {},
   "source": [
    "- It creates an array of numbers."
   ]
  },
  {
   "cell_type": "code",
   "execution_count": 104,
   "id": "5cfd7dc2",
   "metadata": {},
   "outputs": [],
   "source": [
    "# Syntax- np.arange(start,stop,step)\n",
    "# Stop value is excluded\n",
    "# Step is 1 by default"
   ]
  },
  {
   "cell_type": "code",
   "execution_count": 101,
   "id": "4c73c477",
   "metadata": {},
   "outputs": [
    {
     "data": {
      "text/plain": [
       "[1, 2, 3, 4, 5, 6, 7, 8, 9, 10]"
      ]
     },
     "execution_count": 101,
     "metadata": {},
     "output_type": "execute_result"
    }
   ],
   "source": [
    "# Create an array that has the numbers from 1 to 10\n",
    "\n",
    "lst=[i for i in range(1,11)]\n",
    "lst"
   ]
  },
  {
   "cell_type": "code",
   "execution_count": 102,
   "id": "81afa5f6",
   "metadata": {},
   "outputs": [
    {
     "data": {
      "text/plain": [
       "array([ 1,  2,  3,  4,  5,  6,  7,  8,  9, 10])"
      ]
     },
     "execution_count": 102,
     "metadata": {},
     "output_type": "execute_result"
    }
   ],
   "source": [
    "np.array(lst)"
   ]
  },
  {
   "cell_type": "code",
   "execution_count": 103,
   "id": "eed54be3",
   "metadata": {},
   "outputs": [
    {
     "data": {
      "text/plain": [
       "array([ 1,  2,  3,  4,  5,  6,  7,  8,  9, 10])"
      ]
     },
     "execution_count": 103,
     "metadata": {},
     "output_type": "execute_result"
    }
   ],
   "source": [
    "np.arange(1,11)"
   ]
  },
  {
   "cell_type": "code",
   "execution_count": 105,
   "id": "d9eba06b",
   "metadata": {},
   "outputs": [
    {
     "data": {
      "text/plain": [
       "array([0, 1, 2, 3, 4])"
      ]
     },
     "execution_count": 105,
     "metadata": {},
     "output_type": "execute_result"
    }
   ],
   "source": [
    "arr=np.arange(5)\n",
    "arr"
   ]
  },
  {
   "cell_type": "code",
   "execution_count": null,
   "id": "ce37ee4e",
   "metadata": {},
   "outputs": [],
   "source": []
  },
  {
   "cell_type": "code",
   "execution_count": 107,
   "id": "42f0ee5f",
   "metadata": {},
   "outputs": [
    {
     "data": {
      "text/plain": [
       "array([ 2,  4,  6,  8, 10, 12, 14, 16, 18, 20])"
      ]
     },
     "execution_count": 107,
     "metadata": {},
     "output_type": "execute_result"
    }
   ],
   "source": [
    "# Create an array of even numbers from 2 to 20\n",
    "\n",
    "x=np.arange(2,21,2)\n",
    "x"
   ]
  },
  {
   "cell_type": "markdown",
   "id": "2bb184fd",
   "metadata": {},
   "source": [
    "# np.linspace()"
   ]
  },
  {
   "cell_type": "markdown",
   "id": "82d6e51a",
   "metadata": {},
   "source": [
    "- It is used to create an array of equally spaced values within a range of values."
   ]
  },
  {
   "cell_type": "code",
   "execution_count": 108,
   "id": "2380e0be",
   "metadata": {},
   "outputs": [],
   "source": [
    "# Syntax- np.linspace(start,stop,number of values)\n",
    "# Start and stop both are inclusive"
   ]
  },
  {
   "cell_type": "code",
   "execution_count": 109,
   "id": "7668cb2f",
   "metadata": {},
   "outputs": [
    {
     "data": {
      "text/plain": [
       "array([1. , 1.5, 2. , 2.5, 3. ])"
      ]
     },
     "execution_count": 109,
     "metadata": {},
     "output_type": "execute_result"
    }
   ],
   "source": [
    "# Create an array of 5 equally space values between 1 and 3\n",
    "\n",
    "np.linspace(1,3,5)"
   ]
  },
  {
   "cell_type": "code",
   "execution_count": 110,
   "id": "c3f0657d",
   "metadata": {},
   "outputs": [
    {
     "data": {
      "text/plain": [
       "array([1.        , 1.04081633, 1.08163265, 1.12244898, 1.16326531,\n",
       "       1.20408163, 1.24489796, 1.28571429, 1.32653061, 1.36734694,\n",
       "       1.40816327, 1.44897959, 1.48979592, 1.53061224, 1.57142857,\n",
       "       1.6122449 , 1.65306122, 1.69387755, 1.73469388, 1.7755102 ,\n",
       "       1.81632653, 1.85714286, 1.89795918, 1.93877551, 1.97959184,\n",
       "       2.02040816, 2.06122449, 2.10204082, 2.14285714, 2.18367347,\n",
       "       2.2244898 , 2.26530612, 2.30612245, 2.34693878, 2.3877551 ,\n",
       "       2.42857143, 2.46938776, 2.51020408, 2.55102041, 2.59183673,\n",
       "       2.63265306, 2.67346939, 2.71428571, 2.75510204, 2.79591837,\n",
       "       2.83673469, 2.87755102, 2.91836735, 2.95918367, 3.        ])"
      ]
     },
     "execution_count": 110,
     "metadata": {},
     "output_type": "execute_result"
    }
   ],
   "source": [
    "np.linspace(1,3,50)"
   ]
  },
  {
   "cell_type": "code",
   "execution_count": 111,
   "id": "ecbc8195",
   "metadata": {},
   "outputs": [
    {
     "data": {
      "text/plain": [
       "array([15.        , 16.07142857, 17.14285714, 18.21428571, 19.28571429,\n",
       "       20.35714286, 21.42857143, 22.5       , 23.57142857, 24.64285714,\n",
       "       25.71428571, 26.78571429, 27.85714286, 28.92857143, 30.        ])"
      ]
     },
     "execution_count": 111,
     "metadata": {},
     "output_type": "execute_result"
    }
   ],
   "source": [
    "# Create an array of 15 equally space values between 15 and 30\n",
    "\n",
    "np.linspace(15,30,15)"
   ]
  },
  {
   "cell_type": "markdown",
   "id": "b7a23f93",
   "metadata": {},
   "source": [
    "# np.zeros()"
   ]
  },
  {
   "cell_type": "markdown",
   "id": "8314c6fb",
   "metadata": {},
   "source": [
    "- It returns an array of the given shape where all the elements in the array are 0."
   ]
  },
  {
   "cell_type": "code",
   "execution_count": 112,
   "id": "e39ae4dc",
   "metadata": {},
   "outputs": [],
   "source": [
    "# np.zeros((rows,cols))"
   ]
  },
  {
   "cell_type": "code",
   "execution_count": 114,
   "id": "3f2cc8f2",
   "metadata": {},
   "outputs": [
    {
     "data": {
      "text/plain": [
       "array([[0., 0., 0.],\n",
       "       [0., 0., 0.],\n",
       "       [0., 0., 0.]])"
      ]
     },
     "execution_count": 114,
     "metadata": {},
     "output_type": "execute_result"
    }
   ],
   "source": [
    "# Create a 3*3 matrix that has all the elements as 0\n",
    "\n",
    "z=np.zeros((3,3))\n",
    "z"
   ]
  },
  {
   "cell_type": "code",
   "execution_count": 115,
   "id": "2281d9cb",
   "metadata": {},
   "outputs": [
    {
     "data": {
      "text/plain": [
       "dtype('float64')"
      ]
     },
     "execution_count": 115,
     "metadata": {},
     "output_type": "execute_result"
    }
   ],
   "source": [
    "z.dtype"
   ]
  },
  {
   "cell_type": "code",
   "execution_count": 116,
   "id": "d1a5b4fb",
   "metadata": {},
   "outputs": [
    {
     "data": {
      "text/plain": [
       "array([[0, 0, 0],\n",
       "       [0, 0, 0],\n",
       "       [0, 0, 0]])"
      ]
     },
     "execution_count": 116,
     "metadata": {},
     "output_type": "execute_result"
    }
   ],
   "source": [
    "# Create a 3*3 matrix that has all the elements as 0\n",
    "\n",
    "z=np.zeros((3,3),dtype=int)\n",
    "z"
   ]
  },
  {
   "cell_type": "code",
   "execution_count": 117,
   "id": "857db76a",
   "metadata": {},
   "outputs": [
    {
     "data": {
      "text/plain": [
       "dtype('int32')"
      ]
     },
     "execution_count": 117,
     "metadata": {},
     "output_type": "execute_result"
    }
   ],
   "source": [
    "z.dtype"
   ]
  },
  {
   "cell_type": "code",
   "execution_count": 122,
   "id": "652ec158",
   "metadata": {},
   "outputs": [
    {
     "data": {
      "text/plain": [
       "array([[0, 0, 0, 0, 0, 0, 0],\n",
       "       [0, 0, 0, 0, 0, 0, 0],\n",
       "       [0, 0, 0, 0, 0, 0, 0],\n",
       "       [0, 0, 0, 0, 0, 0, 0],\n",
       "       [0, 0, 0, 0, 0, 0, 0]])"
      ]
     },
     "execution_count": 122,
     "metadata": {},
     "output_type": "execute_result"
    }
   ],
   "source": [
    "# Create a 5*7 matrix that has all the elements as 0\n",
    "\n",
    "z=np.zeros((5,7),dtype=int)\n",
    "z"
   ]
  },
  {
   "cell_type": "markdown",
   "id": "d9be0b09",
   "metadata": {},
   "source": [
    "# np.ones()"
   ]
  },
  {
   "cell_type": "markdown",
   "id": "a2e485a4",
   "metadata": {},
   "source": [
    "- It returns an array of the given shape where all the elements are 1's."
   ]
  },
  {
   "cell_type": "code",
   "execution_count": 124,
   "id": "f4d7e7ea",
   "metadata": {},
   "outputs": [],
   "source": [
    "# np.ones((rows,cols))"
   ]
  },
  {
   "cell_type": "code",
   "execution_count": 126,
   "id": "540c0c1c",
   "metadata": {},
   "outputs": [
    {
     "data": {
      "text/plain": [
       "array([[1., 1., 1., 1.],\n",
       "       [1., 1., 1., 1.],\n",
       "       [1., 1., 1., 1.],\n",
       "       [1., 1., 1., 1.]])"
      ]
     },
     "execution_count": 126,
     "metadata": {},
     "output_type": "execute_result"
    }
   ],
   "source": [
    "# Create a 4*4 matrix where all the elements are 1.\n",
    "\n",
    "x=np.ones((4,4))\n",
    "x"
   ]
  },
  {
   "cell_type": "code",
   "execution_count": 127,
   "id": "8d783667",
   "metadata": {},
   "outputs": [
    {
     "data": {
      "text/plain": [
       "dtype('float64')"
      ]
     },
     "execution_count": 127,
     "metadata": {},
     "output_type": "execute_result"
    }
   ],
   "source": [
    "x.dtype"
   ]
  },
  {
   "cell_type": "code",
   "execution_count": 128,
   "id": "2d9d837c",
   "metadata": {},
   "outputs": [
    {
     "data": {
      "text/plain": [
       "array([[1, 1, 1, 1],\n",
       "       [1, 1, 1, 1],\n",
       "       [1, 1, 1, 1],\n",
       "       [1, 1, 1, 1]])"
      ]
     },
     "execution_count": 128,
     "metadata": {},
     "output_type": "execute_result"
    }
   ],
   "source": [
    "x=np.ones((4,4),dtype=int)\n",
    "x"
   ]
  },
  {
   "cell_type": "code",
   "execution_count": 129,
   "id": "22b36e94",
   "metadata": {},
   "outputs": [
    {
     "data": {
      "text/plain": [
       "dtype('int32')"
      ]
     },
     "execution_count": 129,
     "metadata": {},
     "output_type": "execute_result"
    }
   ],
   "source": [
    "x.dtype"
   ]
  },
  {
   "cell_type": "code",
   "execution_count": 130,
   "id": "e29c743f",
   "metadata": {},
   "outputs": [
    {
     "data": {
      "text/plain": [
       "16"
      ]
     },
     "execution_count": 130,
     "metadata": {},
     "output_type": "execute_result"
    }
   ],
   "source": [
    "x.size"
   ]
  },
  {
   "cell_type": "code",
   "execution_count": null,
   "id": "c4d4bfb4",
   "metadata": {},
   "outputs": [],
   "source": []
  }
 ],
 "metadata": {
  "kernelspec": {
   "display_name": "Python 3 (ipykernel)",
   "language": "python",
   "name": "python3"
  },
  "language_info": {
   "codemirror_mode": {
    "name": "ipython",
    "version": 3
   },
   "file_extension": ".py",
   "mimetype": "text/x-python",
   "name": "python",
   "nbconvert_exporter": "python",
   "pygments_lexer": "ipython3",
   "version": "3.9.13"
  }
 },
 "nbformat": 4,
 "nbformat_minor": 5
}
