{
 "cells": [
  {
   "cell_type": "code",
   "execution_count": 12,
   "id": "3d5bba82",
   "metadata": {},
   "outputs": [],
   "source": [
    "# Types of programming languages\n",
    "# Translator\n",
    "# Compiled and Interpreted lanaguages\n",
    "# How a Python program gets executed\n",
    "# Variable and Constant"
   ]
  },
  {
   "cell_type": "markdown",
   "id": "f3ec8240",
   "metadata": {},
   "source": [
    "# Types of programming languages"
   ]
  },
  {
   "cell_type": "markdown",
   "id": "2b88335e",
   "metadata": {},
   "source": [
    "- 1- Hilgh level language\n",
    "- 2- Low level language"
   ]
  },
  {
   "cell_type": "markdown",
   "id": "a5b8fd2c",
   "metadata": {},
   "source": [
    "# High level language"
   ]
  },
  {
   "cell_type": "markdown",
   "id": "71cfa9b9",
   "metadata": {},
   "source": [
    "- It is a human friendly computer language.\n",
    "- The code is written in simple language like English.\n",
    "- It is easy to read, learn and understand.\n",
    "- **Examples-** C, C++, Python, Java, PHP, R etc."
   ]
  },
  {
   "cell_type": "markdown",
   "id": "9daa881f",
   "metadata": {},
   "source": [
    "# Low level language"
   ]
  },
  {
   "cell_type": "markdown",
   "id": "2c625842",
   "metadata": {},
   "source": [
    "- It is machine friendly.\n",
    "- The code is writting using binary digits also known as bits (0,1)\n",
    "- It is almost impossible to learn and understand for a human being.\n",
    "- **Example-** Machine language is a low level language. It is also known as Binary language\n",
    "- 0 and 1 are just signals"
   ]
  },
  {
   "cell_type": "code",
   "execution_count": 2,
   "id": "45b878a2",
   "metadata": {},
   "outputs": [],
   "source": [
    "# 10010010100100\n",
    "# 10010010010010\n",
    "# 10010111100101\n",
    "# 10010010011111"
   ]
  },
  {
   "cell_type": "markdown",
   "id": "420532a5",
   "metadata": {},
   "source": [
    "# Translator"
   ]
  },
  {
   "cell_type": "markdown",
   "id": "72c1c0b9",
   "metadata": {},
   "source": [
    "- A translator is a software that converts the high level language code into machine code and vice versa."
   ]
  },
  {
   "cell_type": "markdown",
   "id": "fcd79bd1",
   "metadata": {},
   "source": [
    "# Types of translators"
   ]
  },
  {
   "cell_type": "markdown",
   "id": "fac15b1a",
   "metadata": {},
   "source": [
    "- 1- Compiler\n",
    "- 2- Interpreter"
   ]
  },
  {
   "cell_type": "markdown",
   "id": "92e44d5d",
   "metadata": {},
   "source": [
    "# Compiler"
   ]
  },
  {
   "cell_type": "markdown",
   "id": "e32e332b",
   "metadata": {},
   "source": [
    "- The compiler reads the whole high level language code first and then it converts the whole code into machine code at once."
   ]
  },
  {
   "cell_type": "markdown",
   "id": "552c66c8",
   "metadata": {},
   "source": [
    "# Interpreter"
   ]
  },
  {
   "cell_type": "markdown",
   "id": "383a0b18",
   "metadata": {},
   "source": [
    "- It reads the high level language  code line by line and converts into machine code line by line.\n",
    "- It reads and converts one line at a time."
   ]
  },
  {
   "cell_type": "markdown",
   "id": "98bf0bbb",
   "metadata": {},
   "source": [
    "# Compiled vs Interpreted languages"
   ]
  },
  {
   "cell_type": "markdown",
   "id": "eca75211",
   "metadata": {},
   "source": [
    "- The languages that use compiler as the translator are known as the compiled languages.\n",
    "- C, C++, Java, VB etc."
   ]
  },
  {
   "cell_type": "markdown",
   "id": "e11676b4",
   "metadata": {},
   "source": [
    "- The languages that use interpreter as the translator are known as interpreted languages.\n",
    "- Python, R, Ruby, PHP etc."
   ]
  },
  {
   "cell_type": "markdown",
   "id": "9ec32279",
   "metadata": {},
   "source": [
    "# Whether Python is interpreted or compiled?"
   ]
  },
  {
   "cell_type": "markdown",
   "id": "cdb7f5d9",
   "metadata": {},
   "source": [
    "# How a Python program gets executed"
   ]
  },
  {
   "cell_type": "code",
   "execution_count": 3,
   "id": "076368dc",
   "metadata": {},
   "outputs": [
    {
     "name": "stdout",
     "output_type": "stream",
     "text": [
      "30\n"
     ]
    }
   ],
   "source": [
    "a=10\n",
    "b=20\n",
    "c=a+b\n",
    "print(c)"
   ]
  },
  {
   "cell_type": "markdown",
   "id": "4354f4af",
   "metadata": {},
   "source": [
    "# Source Code"
   ]
  },
  {
   "cell_type": "markdown",
   "id": "de930acc",
   "metadata": {},
   "source": [
    "- The code that we write as a developer is known as source code.\n",
    "- The extension of the Python source code is .py"
   ]
  },
  {
   "cell_type": "markdown",
   "id": "adc059f5",
   "metadata": {},
   "source": [
    "# Intermediate Code"
   ]
  },
  {
   "cell_type": "markdown",
   "id": "18c3eb7b",
   "metadata": {},
   "source": [
    "- As soon as we run the Python source code, compiler comes into picture.\n",
    "- The compiler converts the source code  into intermediate code.\n",
    "- The intermediate code in Python is known as Bytecode\n",
    "- The extension of Python Bytecode file is .pyc\n",
    "- If compiler catches any error in source code then Bytecode is not generated. In this case the whole program is not executed and we don't get any output."
   ]
  },
  {
   "cell_type": "markdown",
   "id": "152dad5d",
   "metadata": {},
   "source": [
    "# Machine Code"
   ]
  },
  {
   "cell_type": "markdown",
   "id": "60e7755d",
   "metadata": {},
   "source": [
    "- As soon as compiler generates the Bytecode the interpreter comes into picture.\n",
    "- The interpreter reads and converts the Bytecode into machine code line by line.\n",
    "- As soon as interpreter catches any error then it stops execution.\n",
    "- In this case the program is partially executed. Until the interpreter catches any error, it generates the output."
   ]
  },
  {
   "cell_type": "markdown",
   "id": "77fc34b4",
   "metadata": {},
   "source": [
    "# Types of errors"
   ]
  },
  {
   "cell_type": "markdown",
   "id": "ffd90637",
   "metadata": {},
   "source": [
    "- 1- Compile time error\n",
    "- 2- Run time error"
   ]
  },
  {
   "cell_type": "markdown",
   "id": "d47ae62e",
   "metadata": {},
   "source": [
    "# Compile time errors"
   ]
  },
  {
   "cell_type": "markdown",
   "id": "85ca5f51",
   "metadata": {},
   "source": [
    "- The errors that are caught by the compiler at the time of compilation are known as compile time errors."
   ]
  },
  {
   "cell_type": "markdown",
   "id": "c846b43b",
   "metadata": {},
   "source": [
    "### Examples"
   ]
  },
  {
   "cell_type": "markdown",
   "id": "e32e5a7c",
   "metadata": {},
   "source": [
    "- Syntax error\n",
    "- Indentation error"
   ]
  },
  {
   "cell_type": "markdown",
   "id": "5cf72fa5",
   "metadata": {},
   "source": [
    "# Run time errors"
   ]
  },
  {
   "cell_type": "markdown",
   "id": "96988157",
   "metadata": {},
   "source": [
    "- The errors that are caught by the interpreter at the run time are known as run time errors."
   ]
  },
  {
   "cell_type": "markdown",
   "id": "42c6abf7",
   "metadata": {},
   "source": [
    "### Examples"
   ]
  },
  {
   "cell_type": "markdown",
   "id": "c8275839",
   "metadata": {},
   "source": [
    "- 1- Name error\n",
    "- 2- Type error\n",
    "- 3- Value error\n",
    "- 4- Index error\n",
    "- 5- File not found error\n",
    "- 6- Stop Iteration\n",
    "- 7- Key error\n",
    "- etc."
   ]
  },
  {
   "cell_type": "code",
   "execution_count": null,
   "id": "9e3dd9a8",
   "metadata": {},
   "outputs": [],
   "source": [
    "\n",
    "\n",
    "\n",
    "Syntax error\n"
   ]
  },
  {
   "cell_type": "code",
   "execution_count": null,
   "id": "97172c10",
   "metadata": {},
   "outputs": [],
   "source": [
    "\n",
    "\n",
    "\n",
    "Name error\n",
    "\n"
   ]
  },
  {
   "cell_type": "code",
   "execution_count": null,
   "id": "d786fb9f",
   "metadata": {},
   "outputs": [],
   "source": [
    "\n",
    "\n",
    "\n",
    "Name error\n",
    "\n",
    "Syntax error\n",
    "\n"
   ]
  },
  {
   "cell_type": "code",
   "execution_count": 7,
   "id": "0ed1f146",
   "metadata": {},
   "outputs": [
    {
     "ename": "SyntaxError",
     "evalue": "unexpected EOF while parsing (1691340000.py, line 5)",
     "output_type": "error",
     "traceback": [
      "\u001b[1;36m  File \u001b[1;32m\"C:\\Users\\Dell\\AppData\\Local\\Temp\\ipykernel_38716\\1691340000.py\"\u001b[1;36m, line \u001b[1;32m5\u001b[0m\n\u001b[1;33m    print(c\u001b[0m\n\u001b[1;37m           ^\u001b[0m\n\u001b[1;31mSyntaxError\u001b[0m\u001b[1;31m:\u001b[0m unexpected EOF while parsing\n"
     ]
    }
   ],
   "source": [
    "print('Hello')\n",
    "a=10\n",
    "b=20\n",
    "c=a+b\n",
    "print(c"
   ]
  },
  {
   "cell_type": "code",
   "execution_count": 8,
   "id": "1d7bcbd9",
   "metadata": {},
   "outputs": [
    {
     "name": "stdout",
     "output_type": "stream",
     "text": [
      "Hello\n",
      "30\n"
     ]
    },
    {
     "ename": "NameError",
     "evalue": "name 'd' is not defined",
     "output_type": "error",
     "traceback": [
      "\u001b[1;31m---------------------------------------------------------------------------\u001b[0m",
      "\u001b[1;31mNameError\u001b[0m                                 Traceback (most recent call last)",
      "\u001b[1;32m~\\AppData\\Local\\Temp\\ipykernel_38716\\3012182132.py\u001b[0m in \u001b[0;36m<module>\u001b[1;34m\u001b[0m\n\u001b[0;32m      4\u001b[0m \u001b[0mc\u001b[0m\u001b[1;33m=\u001b[0m\u001b[0ma\u001b[0m\u001b[1;33m+\u001b[0m\u001b[0mb\u001b[0m\u001b[1;33m\u001b[0m\u001b[1;33m\u001b[0m\u001b[0m\n\u001b[0;32m      5\u001b[0m \u001b[0mprint\u001b[0m\u001b[1;33m(\u001b[0m\u001b[0mc\u001b[0m\u001b[1;33m)\u001b[0m\u001b[1;33m\u001b[0m\u001b[1;33m\u001b[0m\u001b[0m\n\u001b[1;32m----> 6\u001b[1;33m \u001b[0mprint\u001b[0m\u001b[1;33m(\u001b[0m\u001b[0md\u001b[0m\u001b[1;33m)\u001b[0m \u001b[1;31m# Name error\u001b[0m\u001b[1;33m\u001b[0m\u001b[1;33m\u001b[0m\u001b[0m\n\u001b[0m\u001b[0;32m      7\u001b[0m \u001b[0mprint\u001b[0m\u001b[1;33m(\u001b[0m\u001b[1;34m'Hello Python'\u001b[0m\u001b[1;33m)\u001b[0m\u001b[1;33m\u001b[0m\u001b[1;33m\u001b[0m\u001b[0m\n\u001b[0;32m      8\u001b[0m \u001b[0mprint\u001b[0m\u001b[1;33m(\u001b[0m\u001b[1;34m'Thanks'\u001b[0m\u001b[1;33m)\u001b[0m\u001b[1;33m\u001b[0m\u001b[1;33m\u001b[0m\u001b[0m\n",
      "\u001b[1;31mNameError\u001b[0m: name 'd' is not defined"
     ]
    }
   ],
   "source": [
    "print('Hello')\n",
    "a=10\n",
    "b=20\n",
    "c=a+b\n",
    "print(c)\n",
    "print(d) # Name error\n",
    "print('Hello Python')\n",
    "print('Thanks')"
   ]
  },
  {
   "cell_type": "code",
   "execution_count": 9,
   "id": "7945b0f1",
   "metadata": {},
   "outputs": [
    {
     "ename": "SyntaxError",
     "evalue": "unexpected EOF while parsing (4092832761.py, line 8)",
     "output_type": "error",
     "traceback": [
      "\u001b[1;36m  File \u001b[1;32m\"C:\\Users\\Dell\\AppData\\Local\\Temp\\ipykernel_38716\\4092832761.py\"\u001b[1;36m, line \u001b[1;32m8\u001b[0m\n\u001b[1;33m    print('Thanks'\u001b[0m\n\u001b[1;37m                  ^\u001b[0m\n\u001b[1;31mSyntaxError\u001b[0m\u001b[1;31m:\u001b[0m unexpected EOF while parsing\n"
     ]
    }
   ],
   "source": [
    "print('Hello')\n",
    "a=10\n",
    "b=20\n",
    "c=a+b\n",
    "print(c)\n",
    "print(d) # Name error\n",
    "print('Hello Python')\n",
    "print('Thanks'"
   ]
  },
  {
   "cell_type": "code",
   "execution_count": 10,
   "id": "5a4ebc06",
   "metadata": {},
   "outputs": [],
   "source": [
    "# Python has been developed in C language\n",
    "# ABC language- Interpreted"
   ]
  },
  {
   "cell_type": "code",
   "execution_count": 11,
   "id": "21fa2dac",
   "metadata": {},
   "outputs": [],
   "source": [
    "# Compiled languages- better performance\n",
    "# Interpreted languages- lower performnace- Easy syntax"
   ]
  },
  {
   "cell_type": "markdown",
   "id": "b8d6c88a",
   "metadata": {},
   "source": [
    "# Variable and constant"
   ]
  },
  {
   "cell_type": "markdown",
   "id": "4e5f56e3",
   "metadata": {},
   "source": [
    "# Variable (name)"
   ]
  },
  {
   "cell_type": "markdown",
   "id": "44423793",
   "metadata": {},
   "source": [
    "- A variable is a container that contains some value."
   ]
  },
  {
   "cell_type": "markdown",
   "id": "95aef4f3",
   "metadata": {},
   "source": [
    "# Constant (value)"
   ]
  },
  {
   "cell_type": "markdown",
   "id": "73727333",
   "metadata": {},
   "source": [
    "- The value that a variable holds is a constant"
   ]
  },
  {
   "cell_type": "code",
   "execution_count": 13,
   "id": "633ff08e",
   "metadata": {},
   "outputs": [],
   "source": [
    "a=10\n",
    "# a- variable\n",
    "# 10- constant (value)"
   ]
  },
  {
   "cell_type": "code",
   "execution_count": 14,
   "id": "b42ca5bb",
   "metadata": {},
   "outputs": [],
   "source": [
    "age=25\n",
    "# age- variable\n",
    "# 25- value (constant)"
   ]
  },
  {
   "cell_type": "markdown",
   "id": "184a05fc",
   "metadata": {},
   "source": [
    "# Datatypes"
   ]
  },
  {
   "cell_type": "markdown",
   "id": "6f47a5d6",
   "metadata": {},
   "source": [
    "- A datatype is a type identifier of the value that a variable holds.\n",
    "- Different kind of values will have different behaviour so it is important to know the type of a value."
   ]
  },
  {
   "cell_type": "code",
   "execution_count": 16,
   "id": "03bc4e4f",
   "metadata": {},
   "outputs": [],
   "source": [
    "# type()- It gives the type of the value that a variable holds"
   ]
  },
  {
   "cell_type": "code",
   "execution_count": 15,
   "id": "43d3676b",
   "metadata": {},
   "outputs": [],
   "source": [
    "# Basis datatypes\n",
    "# Derived datatypes"
   ]
  },
  {
   "cell_type": "markdown",
   "id": "2a9de3a3",
   "metadata": {},
   "source": [
    "# Basic Datatypes"
   ]
  },
  {
   "cell_type": "markdown",
   "id": "94ce91c9",
   "metadata": {},
   "source": [
    "# integer- int"
   ]
  },
  {
   "cell_type": "code",
   "execution_count": 17,
   "id": "d6d5c6ad",
   "metadata": {},
   "outputs": [],
   "source": [
    "# Any number whether it is +ive, -ive or 0 without a decimal point is an int value."
   ]
  },
  {
   "cell_type": "code",
   "execution_count": 19,
   "id": "5e6a1eb5",
   "metadata": {},
   "outputs": [
    {
     "name": "stdout",
     "output_type": "stream",
     "text": [
      "10\n",
      "<class 'int'>\n"
     ]
    }
   ],
   "source": [
    "a=10\n",
    "print(a)\n",
    "print(type(a))"
   ]
  },
  {
   "cell_type": "code",
   "execution_count": 20,
   "id": "1cf36731",
   "metadata": {},
   "outputs": [
    {
     "name": "stdout",
     "output_type": "stream",
     "text": [
      "10 <class 'int'>\n"
     ]
    }
   ],
   "source": [
    "a=10\n",
    "print(a,type(a))"
   ]
  },
  {
   "cell_type": "code",
   "execution_count": 21,
   "id": "36cbbcc2",
   "metadata": {},
   "outputs": [
    {
     "name": "stdout",
     "output_type": "stream",
     "text": [
      "-5 <class 'int'>\n"
     ]
    }
   ],
   "source": [
    "a=-5\n",
    "print(a,type(a))"
   ]
  },
  {
   "cell_type": "code",
   "execution_count": 22,
   "id": "c8ef4424",
   "metadata": {},
   "outputs": [
    {
     "name": "stdout",
     "output_type": "stream",
     "text": [
      "0 <class 'int'>\n"
     ]
    }
   ],
   "source": [
    "a=0\n",
    "print(a,type(a))"
   ]
  },
  {
   "cell_type": "markdown",
   "id": "5e4fc683",
   "metadata": {},
   "source": [
    "# float"
   ]
  },
  {
   "cell_type": "code",
   "execution_count": 23,
   "id": "463ba491",
   "metadata": {},
   "outputs": [],
   "source": [
    "# - Any number whetehr +ive, -ive or 0 with a decimal point is a float value"
   ]
  },
  {
   "cell_type": "code",
   "execution_count": 24,
   "id": "e8939267",
   "metadata": {},
   "outputs": [
    {
     "name": "stdout",
     "output_type": "stream",
     "text": [
      "2.5 <class 'float'>\n"
     ]
    }
   ],
   "source": [
    "a=2.5\n",
    "print(a,type(a))"
   ]
  },
  {
   "cell_type": "code",
   "execution_count": 25,
   "id": "1c1db357",
   "metadata": {},
   "outputs": [
    {
     "name": "stdout",
     "output_type": "stream",
     "text": [
      "-3.6 <class 'float'>\n"
     ]
    }
   ],
   "source": [
    "a=-3.6\n",
    "print(a,type(a))"
   ]
  },
  {
   "cell_type": "code",
   "execution_count": 26,
   "id": "5a574b5d",
   "metadata": {},
   "outputs": [
    {
     "name": "stdout",
     "output_type": "stream",
     "text": [
      "0.0 <class 'float'>\n"
     ]
    }
   ],
   "source": [
    "a=0.0\n",
    "print(a,type(a))"
   ]
  },
  {
   "cell_type": "markdown",
   "id": "018d3ff5",
   "metadata": {},
   "source": [
    "# complex"
   ]
  },
  {
   "cell_type": "code",
   "execution_count": 27,
   "id": "ef01ca7e",
   "metadata": {},
   "outputs": [],
   "source": [
    "# - Any number in the form of a+bj is a complex value.\n",
    "# - Where a is a real number and bj is an imaginary number."
   ]
  },
  {
   "cell_type": "code",
   "execution_count": 32,
   "id": "0c7d971f",
   "metadata": {},
   "outputs": [
    {
     "name": "stdout",
     "output_type": "stream",
     "text": [
      "(5+2j) <class 'complex'>\n",
      "5.385164807134504\n"
     ]
    }
   ],
   "source": [
    "a=5+2j\n",
    "print(a,type(a))\n",
    "\n",
    "print(abs(a))"
   ]
  },
  {
   "cell_type": "code",
   "execution_count": 33,
   "id": "86b72785",
   "metadata": {},
   "outputs": [
    {
     "name": "stdout",
     "output_type": "stream",
     "text": [
      "(2.5+3.2j) <class 'complex'>\n"
     ]
    }
   ],
   "source": [
    "a=2.5+3.2j\n",
    "print(a,type(a))"
   ]
  },
  {
   "cell_type": "code",
   "execution_count": 34,
   "id": "a5c92709",
   "metadata": {},
   "outputs": [
    {
     "name": "stdout",
     "output_type": "stream",
     "text": [
      "5j <class 'complex'>\n"
     ]
    }
   ],
   "source": [
    "a=5j\n",
    "print(a,type(a))"
   ]
  },
  {
   "cell_type": "code",
   "execution_count": 35,
   "id": "5d6b105e",
   "metadata": {},
   "outputs": [
    {
     "ename": "SyntaxError",
     "evalue": "invalid syntax (4281827626.py, line 1)",
     "output_type": "error",
     "traceback": [
      "\u001b[1;36m  File \u001b[1;32m\"C:\\Users\\Dell\\AppData\\Local\\Temp\\ipykernel_38716\\4281827626.py\"\u001b[1;36m, line \u001b[1;32m1\u001b[0m\n\u001b[1;33m    a=5+2i\u001b[0m\n\u001b[1;37m         ^\u001b[0m\n\u001b[1;31mSyntaxError\u001b[0m\u001b[1;31m:\u001b[0m invalid syntax\n"
     ]
    }
   ],
   "source": [
    "a=5+2i\n",
    "print(a)"
   ]
  },
  {
   "cell_type": "code",
   "execution_count": 36,
   "id": "5fcbcc9e",
   "metadata": {},
   "outputs": [
    {
     "name": "stdout",
     "output_type": "stream",
     "text": [
      "11.661903789690601\n"
     ]
    }
   ],
   "source": [
    "a=10+6j\n",
    "print(abs(a))"
   ]
  },
  {
   "cell_type": "code",
   "execution_count": 37,
   "id": "efd88b5d",
   "metadata": {},
   "outputs": [
    {
     "name": "stdout",
     "output_type": "stream",
     "text": [
      "(-5+2j) <class 'complex'>\n"
     ]
    }
   ],
   "source": [
    "a=-5+2j\n",
    "print(a,type(a))"
   ]
  },
  {
   "cell_type": "markdown",
   "id": "a27ad0c8",
   "metadata": {},
   "source": [
    "# string- str"
   ]
  },
  {
   "cell_type": "code",
   "execution_count": 38,
   "id": "6356c106",
   "metadata": {},
   "outputs": [],
   "source": [
    "# Anything inside the ' ', \" \",''' ''', \"\"\" \"\"\" is a string value"
   ]
  },
  {
   "cell_type": "code",
   "execution_count": 39,
   "id": "68e82027",
   "metadata": {},
   "outputs": [
    {
     "name": "stdout",
     "output_type": "stream",
     "text": [
      "5 <class 'str'>\n"
     ]
    }
   ],
   "source": [
    "a='5'\n",
    "print(a,type(a))"
   ]
  },
  {
   "cell_type": "code",
   "execution_count": 43,
   "id": "60b14408",
   "metadata": {},
   "outputs": [
    {
     "name": "stdout",
     "output_type": "stream",
     "text": [
      "Python <class 'str'>\n"
     ]
    }
   ],
   "source": [
    "a='Python'\n",
    "print(a,type(a))"
   ]
  },
  {
   "cell_type": "code",
   "execution_count": 41,
   "id": "bb479c93",
   "metadata": {},
   "outputs": [
    {
     "name": "stdout",
     "output_type": "stream",
     "text": [
      "Python <class 'str'>\n"
     ]
    }
   ],
   "source": [
    "a=\"Python\"\n",
    "print(a,type(a))"
   ]
  },
  {
   "cell_type": "code",
   "execution_count": 46,
   "id": "5c844a2e",
   "metadata": {},
   "outputs": [
    {
     "name": "stdout",
     "output_type": "stream",
     "text": [
      "Python's Librraies\n"
     ]
    }
   ],
   "source": [
    "# Output- Python's Libraries\n",
    "\n",
    "a=\"Python's Librraies\"\n",
    "print(a)"
   ]
  },
  {
   "cell_type": "code",
   "execution_count": 48,
   "id": "eb566adf",
   "metadata": {},
   "outputs": [
    {
     "name": "stdout",
     "output_type": "stream",
     "text": [
      "2.5 <class 'str'>\n"
     ]
    }
   ],
   "source": [
    "a='2.5'\n",
    "print(a,type(a))"
   ]
  },
  {
   "cell_type": "code",
   "execution_count": 50,
   "id": "a725c181",
   "metadata": {},
   "outputs": [
    {
     "name": "stdout",
     "output_type": "stream",
     "text": [
      "We are learning \"Data Scinece\" from Learnbay\n"
     ]
    }
   ],
   "source": [
    "# Output- We are learning \"Data Science\" from Learnbay\n",
    "\n",
    "a='We are learning \"Data Scinece\" from Learnbay'\n",
    "print(a)"
   ]
  },
  {
   "cell_type": "code",
   "execution_count": 53,
   "id": "a00990b4",
   "metadata": {},
   "outputs": [
    {
     "name": "stdout",
     "output_type": "stream",
     "text": [
      "Hello world!\n",
      "This is Python class\n"
     ]
    }
   ],
   "source": [
    "a='''Hello world!\n",
    "This is Python class'''\n",
    "\n",
    "print(a)"
   ]
  },
  {
   "cell_type": "code",
   "execution_count": 54,
   "id": "861209f0",
   "metadata": {},
   "outputs": [
    {
     "name": "stdout",
     "output_type": "stream",
     "text": [
      "Hello world!\n",
      "This is Python class\n"
     ]
    }
   ],
   "source": [
    "a=\"\"\"Hello world!\n",
    "This is Python class\"\"\"\n",
    "print(a)"
   ]
  },
  {
   "cell_type": "code",
   "execution_count": 55,
   "id": "abd92061",
   "metadata": {},
   "outputs": [],
   "source": [
    "# Hello world!\n",
    "# This is \"Python class\""
   ]
  },
  {
   "cell_type": "code",
   "execution_count": 57,
   "id": "5949eab3",
   "metadata": {},
   "outputs": [
    {
     "name": "stdout",
     "output_type": "stream",
     "text": [
      "Hello world!\n",
      "This is \"Python class\"\n"
     ]
    }
   ],
   "source": [
    "a='''Hello world!\n",
    "This is \"Python class\"'''\n",
    "print(a)"
   ]
  },
  {
   "cell_type": "code",
   "execution_count": 58,
   "id": "1a4faa1f",
   "metadata": {},
   "outputs": [],
   "source": [
    "# 'Hello world!\n",
    "# This is Python class'"
   ]
  },
  {
   "cell_type": "code",
   "execution_count": 60,
   "id": "47c054d7",
   "metadata": {},
   "outputs": [
    {
     "name": "stdout",
     "output_type": "stream",
     "text": [
      "'Hello world!\n",
      "This is Python class'\n"
     ]
    }
   ],
   "source": [
    "a=\"\"\"'Hello world!\n",
    "This is Python class'\"\"\"\n",
    "print(a)"
   ]
  },
  {
   "cell_type": "markdown",
   "id": "f7c3178c",
   "metadata": {},
   "source": [
    "# Boolean- bool"
   ]
  },
  {
   "cell_type": "code",
   "execution_count": 61,
   "id": "826e1395",
   "metadata": {},
   "outputs": [],
   "source": [
    "# True and False are the boolean values"
   ]
  },
  {
   "cell_type": "code",
   "execution_count": 62,
   "id": "487a3d66",
   "metadata": {},
   "outputs": [
    {
     "name": "stdout",
     "output_type": "stream",
     "text": [
      "True <class 'bool'>\n"
     ]
    }
   ],
   "source": [
    "a=True\n",
    "print(a,type(a))"
   ]
  },
  {
   "cell_type": "code",
   "execution_count": 63,
   "id": "7def9e57",
   "metadata": {},
   "outputs": [
    {
     "name": "stdout",
     "output_type": "stream",
     "text": [
      "False <class 'bool'>\n"
     ]
    }
   ],
   "source": [
    "a=False\n",
    "print(a,type(a))"
   ]
  },
  {
   "cell_type": "code",
   "execution_count": 3,
   "id": "66bb88e5",
   "metadata": {},
   "outputs": [
    {
     "data": {
      "text/plain": [
       "20"
      ]
     },
     "execution_count": 3,
     "metadata": {},
     "output_type": "execute_result"
    }
   ],
   "source": [
    "(10+(10*32)//2**5&20+(~(-10))<<2)"
   ]
  },
  {
   "cell_type": "code",
   "execution_count": 9,
   "id": "bef68169",
   "metadata": {},
   "outputs": [
    {
     "data": {
      "text/plain": [
       "'0b11101'"
      ]
     },
     "execution_count": 9,
     "metadata": {},
     "output_type": "execute_result"
    }
   ],
   "source": [
    "bin(29)"
   ]
  },
  {
   "cell_type": "code",
   "execution_count": null,
   "id": "57861b5b",
   "metadata": {},
   "outputs": [],
   "source": [
    "00000000000000000000000000011101\n",
    "00000000000000000000000001110100"
   ]
  },
  {
   "cell_type": "code",
   "execution_count": 10,
   "id": "a4cbde1b",
   "metadata": {},
   "outputs": [
    {
     "data": {
      "text/plain": [
       "116"
      ]
     },
     "execution_count": 10,
     "metadata": {},
     "output_type": "execute_result"
    }
   ],
   "source": [
    "0b1110100"
   ]
  },
  {
   "cell_type": "code",
   "execution_count": null,
   "id": "cca355d9",
   "metadata": {},
   "outputs": [],
   "source": [
    "0b1110100"
   ]
  }
 ],
 "metadata": {
  "kernelspec": {
   "display_name": "Python 3 (ipykernel)",
   "language": "python",
   "name": "python3"
  },
  "language_info": {
   "codemirror_mode": {
    "name": "ipython",
    "version": 3
   },
   "file_extension": ".py",
   "mimetype": "text/x-python",
   "name": "python",
   "nbconvert_exporter": "python",
   "pygments_lexer": "ipython3",
   "version": "3.9.13"
  }
 },
 "nbformat": 4,
 "nbformat_minor": 5
}
