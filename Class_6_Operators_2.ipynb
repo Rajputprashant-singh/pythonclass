{
 "cells": [
  {
   "cell_type": "markdown",
   "id": "3642416b",
   "metadata": {},
   "source": [
    "# Bitwise Operators"
   ]
  },
  {
   "cell_type": "markdown",
   "id": "cd7a77ee",
   "metadata": {},
   "source": [
    "- Bitwise operators are used to perform the bitwise operations.\n",
    "- A bit is a binary digit (0,1)\n",
    "- Bitwise operators can be applied on int values only because only integer can be converted into bits."
   ]
  },
  {
   "cell_type": "markdown",
   "id": "8dd8afc4",
   "metadata": {},
   "source": [
    "# Steps for the bitwise operations"
   ]
  },
  {
   "cell_type": "markdown",
   "id": "ae0d5ca4",
   "metadata": {},
   "source": [
    "- 1- Convert the numbers into bits.\n",
    "- 2- Perform the operation bit by bit.\n",
    "- 3- Convert the result into its decimal equavalent."
   ]
  },
  {
   "cell_type": "code",
   "execution_count": 5,
   "id": "1a9825f7",
   "metadata": {},
   "outputs": [],
   "source": [
    "# bin()- It converts an int value into binary digits (bits)"
   ]
  },
  {
   "cell_type": "code",
   "execution_count": 1,
   "id": "0c6df19a",
   "metadata": {},
   "outputs": [],
   "source": [
    "# & bitwise and\n",
    "# | bitwise or\n",
    "# ~ bitwise not\n",
    "# ^ bitwise xor\n",
    "# << bitwise leftshift \n",
    "# >> bitwise rightshift"
   ]
  },
  {
   "cell_type": "markdown",
   "id": "516c40f7",
   "metadata": {},
   "source": [
    "# & bitwise and"
   ]
  },
  {
   "cell_type": "code",
   "execution_count": 2,
   "id": "2687ce24",
   "metadata": {},
   "outputs": [],
   "source": [
    "# 1- True\n",
    "# 0- False"
   ]
  },
  {
   "cell_type": "code",
   "execution_count": 3,
   "id": "5313a697",
   "metadata": {},
   "outputs": [],
   "source": [
    "# - & looks for 0. As soon as it gets 0, it returns 0 else it returns 1.\n",
    "# - 1 & 1 is 1 else 0"
   ]
  },
  {
   "cell_type": "code",
   "execution_count": 15,
   "id": "959ef746",
   "metadata": {},
   "outputs": [
    {
     "name": "stdout",
     "output_type": "stream",
     "text": [
      "1\n",
      "0\n",
      "0\n",
      "0\n"
     ]
    }
   ],
   "source": [
    "print(1 & 1)\n",
    "print(1 & 0)\n",
    "print(0 & 1)\n",
    "print(0 & 0)"
   ]
  },
  {
   "cell_type": "code",
   "execution_count": 4,
   "id": "9bec3c7b",
   "metadata": {},
   "outputs": [
    {
     "data": {
      "text/plain": [
       "8"
      ]
     },
     "execution_count": 4,
     "metadata": {},
     "output_type": "execute_result"
    }
   ],
   "source": [
    "25 & 72"
   ]
  },
  {
   "cell_type": "code",
   "execution_count": 6,
   "id": "75559f23",
   "metadata": {},
   "outputs": [
    {
     "data": {
      "text/plain": [
       "'0b11001'"
      ]
     },
     "execution_count": 6,
     "metadata": {},
     "output_type": "execute_result"
    }
   ],
   "source": [
    "bin(25)"
   ]
  },
  {
   "cell_type": "code",
   "execution_count": 9,
   "id": "9e5c4e8c",
   "metadata": {},
   "outputs": [
    {
     "data": {
      "text/plain": [
       "'0b1001000'"
      ]
     },
     "execution_count": 9,
     "metadata": {},
     "output_type": "execute_result"
    }
   ],
   "source": [
    "bin(72)"
   ]
  },
  {
   "cell_type": "code",
   "execution_count": 17,
   "id": "e5ed053b",
   "metadata": {},
   "outputs": [],
   "source": [
    "# 0011001\n",
    "# 1001000\n",
    "# 0001000"
   ]
  },
  {
   "cell_type": "code",
   "execution_count": 16,
   "id": "158c0f98",
   "metadata": {},
   "outputs": [
    {
     "data": {
      "text/plain": [
       "8"
      ]
     },
     "execution_count": 16,
     "metadata": {},
     "output_type": "execute_result"
    }
   ],
   "source": [
    "int(0b0001000)"
   ]
  },
  {
   "cell_type": "code",
   "execution_count": 19,
   "id": "3b7803dd",
   "metadata": {},
   "outputs": [
    {
     "data": {
      "text/plain": [
       "53"
      ]
     },
     "execution_count": 19,
     "metadata": {},
     "output_type": "execute_result"
    }
   ],
   "source": [
    "55 & 61"
   ]
  },
  {
   "cell_type": "code",
   "execution_count": 20,
   "id": "515105bb",
   "metadata": {},
   "outputs": [
    {
     "data": {
      "text/plain": [
       "'0b110111'"
      ]
     },
     "execution_count": 20,
     "metadata": {},
     "output_type": "execute_result"
    }
   ],
   "source": [
    "bin(55)"
   ]
  },
  {
   "cell_type": "code",
   "execution_count": 21,
   "id": "61904397",
   "metadata": {},
   "outputs": [
    {
     "data": {
      "text/plain": [
       "'0b111101'"
      ]
     },
     "execution_count": 21,
     "metadata": {},
     "output_type": "execute_result"
    }
   ],
   "source": [
    "bin(61)"
   ]
  },
  {
   "cell_type": "code",
   "execution_count": 22,
   "id": "07649f38",
   "metadata": {},
   "outputs": [],
   "source": [
    "# 110111\n",
    "# 111101\n",
    "# 110101"
   ]
  },
  {
   "cell_type": "code",
   "execution_count": 25,
   "id": "238317c0",
   "metadata": {},
   "outputs": [
    {
     "data": {
      "text/plain": [
       "53"
      ]
     },
     "execution_count": 25,
     "metadata": {},
     "output_type": "execute_result"
    }
   ],
   "source": [
    "int(0b110101)"
   ]
  },
  {
   "cell_type": "code",
   "execution_count": 26,
   "id": "da756c1c",
   "metadata": {},
   "outputs": [
    {
     "data": {
      "text/plain": [
       "'0b11001'"
      ]
     },
     "execution_count": 26,
     "metadata": {},
     "output_type": "execute_result"
    }
   ],
   "source": [
    "bin(25)"
   ]
  },
  {
   "cell_type": "code",
   "execution_count": 27,
   "id": "885c84a8",
   "metadata": {},
   "outputs": [
    {
     "data": {
      "text/plain": [
       "'0b101101'"
      ]
     },
     "execution_count": 27,
     "metadata": {},
     "output_type": "execute_result"
    }
   ],
   "source": [
    "bin(45)"
   ]
  },
  {
   "cell_type": "code",
   "execution_count": 29,
   "id": "4961974d",
   "metadata": {},
   "outputs": [],
   "source": [
    "# bin(2.5)"
   ]
  },
  {
   "cell_type": "code",
   "execution_count": 30,
   "id": "8122b61a",
   "metadata": {},
   "outputs": [
    {
     "data": {
      "text/plain": [
       "-60"
      ]
     },
     "execution_count": 30,
     "metadata": {},
     "output_type": "execute_result"
    }
   ],
   "source": [
    "-36 & -27"
   ]
  },
  {
   "cell_type": "markdown",
   "id": "c6a63c4b",
   "metadata": {},
   "source": [
    "# | bitwise or"
   ]
  },
  {
   "cell_type": "code",
   "execution_count": 31,
   "id": "28a6900c",
   "metadata": {},
   "outputs": [],
   "source": [
    "# - It looks for 1. As soon as it gets 1, it returns 1 else 0.\n",
    "# - 0 | 0 is 0 else 1"
   ]
  },
  {
   "cell_type": "code",
   "execution_count": 35,
   "id": "a6348ae4",
   "metadata": {},
   "outputs": [
    {
     "name": "stdout",
     "output_type": "stream",
     "text": [
      "1\n",
      "1\n",
      "1\n",
      "0\n"
     ]
    }
   ],
   "source": [
    "print(1 | 1)\n",
    "print(1 | 0)\n",
    "print(0 | 1)\n",
    "print(0 | 0)"
   ]
  },
  {
   "cell_type": "code",
   "execution_count": 36,
   "id": "e89befff",
   "metadata": {},
   "outputs": [
    {
     "data": {
      "text/plain": [
       "127"
      ]
     },
     "execution_count": 36,
     "metadata": {},
     "output_type": "execute_result"
    }
   ],
   "source": [
    "126 | 75"
   ]
  },
  {
   "cell_type": "code",
   "execution_count": 37,
   "id": "d643338e",
   "metadata": {},
   "outputs": [
    {
     "data": {
      "text/plain": [
       "'0b1111110'"
      ]
     },
     "execution_count": 37,
     "metadata": {},
     "output_type": "execute_result"
    }
   ],
   "source": [
    "bin(126)"
   ]
  },
  {
   "cell_type": "code",
   "execution_count": 38,
   "id": "3392f76e",
   "metadata": {},
   "outputs": [
    {
     "data": {
      "text/plain": [
       "'0b1001011'"
      ]
     },
     "execution_count": 38,
     "metadata": {},
     "output_type": "execute_result"
    }
   ],
   "source": [
    "bin(75)"
   ]
  },
  {
   "cell_type": "code",
   "execution_count": 39,
   "id": "99f53b49",
   "metadata": {},
   "outputs": [],
   "source": [
    "# 1111110\n",
    "# 1001011\n",
    "# 1111111"
   ]
  },
  {
   "cell_type": "code",
   "execution_count": 40,
   "id": "90ab8eb3",
   "metadata": {},
   "outputs": [
    {
     "data": {
      "text/plain": [
       "127"
      ]
     },
     "execution_count": 40,
     "metadata": {},
     "output_type": "execute_result"
    }
   ],
   "source": [
    "0b1111111"
   ]
  },
  {
   "cell_type": "code",
   "execution_count": 41,
   "id": "87517752",
   "metadata": {},
   "outputs": [],
   "source": [
    "# 100100101\n",
    "# 000100101\n",
    "# 100100101"
   ]
  },
  {
   "cell_type": "code",
   "execution_count": 42,
   "id": "0045a0a1",
   "metadata": {},
   "outputs": [
    {
     "data": {
      "text/plain": [
       "293"
      ]
     },
     "execution_count": 42,
     "metadata": {},
     "output_type": "execute_result"
    }
   ],
   "source": [
    "0b100100101"
   ]
  },
  {
   "cell_type": "markdown",
   "id": "f98f1017",
   "metadata": {},
   "source": [
    "# ~ bitwise not"
   ]
  },
  {
   "cell_type": "markdown",
   "id": "c4ba4160",
   "metadata": {},
   "source": [
    "- It is applied on single operand (value)"
   ]
  },
  {
   "cell_type": "code",
   "execution_count": 44,
   "id": "ba20773d",
   "metadata": {},
   "outputs": [],
   "source": [
    "# ~ num= -(num+1)"
   ]
  },
  {
   "cell_type": "code",
   "execution_count": 45,
   "id": "5c219ffd",
   "metadata": {},
   "outputs": [
    {
     "data": {
      "text/plain": [
       "-6"
      ]
     },
     "execution_count": 45,
     "metadata": {},
     "output_type": "execute_result"
    }
   ],
   "source": [
    "~5"
   ]
  },
  {
   "cell_type": "code",
   "execution_count": 46,
   "id": "70129a0e",
   "metadata": {},
   "outputs": [],
   "source": [
    "# ~5= -(5+1)\n",
    "# -(6)\n",
    "# -6"
   ]
  },
  {
   "cell_type": "code",
   "execution_count": 47,
   "id": "0d6c61cc",
   "metadata": {},
   "outputs": [
    {
     "data": {
      "text/plain": [
       "44"
      ]
     },
     "execution_count": 47,
     "metadata": {},
     "output_type": "execute_result"
    }
   ],
   "source": [
    "~-45"
   ]
  },
  {
   "cell_type": "code",
   "execution_count": 48,
   "id": "373b412c",
   "metadata": {},
   "outputs": [],
   "source": [
    "# ~-45= -(-45+1)\n",
    "# -(-44)\n",
    "# 44"
   ]
  },
  {
   "cell_type": "markdown",
   "id": "2d0da71f",
   "metadata": {},
   "source": [
    "# ^ bitwise xor"
   ]
  },
  {
   "cell_type": "markdown",
   "id": "d17eca57",
   "metadata": {},
   "source": [
    "- The same digits give 0 and the opposite digits give 1"
   ]
  },
  {
   "cell_type": "code",
   "execution_count": 52,
   "id": "dd13ca52",
   "metadata": {},
   "outputs": [
    {
     "name": "stdout",
     "output_type": "stream",
     "text": [
      "0\n",
      "1\n",
      "1\n",
      "0\n"
     ]
    }
   ],
   "source": [
    "print(1 ^ 1)\n",
    "print(1 ^ 0)\n",
    "print(0 ^ 1)\n",
    "print(0 ^ 0)"
   ]
  },
  {
   "cell_type": "code",
   "execution_count": 53,
   "id": "77dde11e",
   "metadata": {},
   "outputs": [
    {
     "data": {
      "text/plain": [
       "135"
      ]
     },
     "execution_count": 53,
     "metadata": {},
     "output_type": "execute_result"
    }
   ],
   "source": [
    "22 ^ 145"
   ]
  },
  {
   "cell_type": "code",
   "execution_count": 54,
   "id": "5b94f0f7",
   "metadata": {},
   "outputs": [
    {
     "data": {
      "text/plain": [
       "'0b10110'"
      ]
     },
     "execution_count": 54,
     "metadata": {},
     "output_type": "execute_result"
    }
   ],
   "source": [
    "bin(22)"
   ]
  },
  {
   "cell_type": "code",
   "execution_count": 55,
   "id": "bc220e32",
   "metadata": {},
   "outputs": [
    {
     "data": {
      "text/plain": [
       "'0b10010001'"
      ]
     },
     "execution_count": 55,
     "metadata": {},
     "output_type": "execute_result"
    }
   ],
   "source": [
    "bin(145)"
   ]
  },
  {
   "cell_type": "code",
   "execution_count": 56,
   "id": "dc068696",
   "metadata": {},
   "outputs": [],
   "source": [
    "# 00010110\n",
    "# 10010001\n",
    "# 10000111"
   ]
  },
  {
   "cell_type": "code",
   "execution_count": 57,
   "id": "be4b8551",
   "metadata": {},
   "outputs": [
    {
     "data": {
      "text/plain": [
       "135"
      ]
     },
     "execution_count": 57,
     "metadata": {},
     "output_type": "execute_result"
    }
   ],
   "source": [
    "0b10000111"
   ]
  },
  {
   "cell_type": "code",
   "execution_count": 58,
   "id": "ac1caea0",
   "metadata": {},
   "outputs": [
    {
     "data": {
      "text/plain": [
       "0"
      ]
     },
     "execution_count": 58,
     "metadata": {},
     "output_type": "execute_result"
    }
   ],
   "source": [
    "0 ^ 0"
   ]
  },
  {
   "cell_type": "markdown",
   "id": "cfac68d4",
   "metadata": {},
   "source": [
    "# << bitwise leftshift"
   ]
  },
  {
   "cell_type": "code",
   "execution_count": 61,
   "id": "9ae28053",
   "metadata": {},
   "outputs": [],
   "source": [
    "# 8 bit system\n",
    "# 32 bit system\n",
    "# 64 bit system"
   ]
  },
  {
   "cell_type": "code",
   "execution_count": 62,
   "id": "a6926078",
   "metadata": {},
   "outputs": [],
   "source": [
    "# 32 bit system- It takes 32 bits to represent a value.\n",
    "# It can store an address upto 32 bits at a time"
   ]
  },
  {
   "cell_type": "code",
   "execution_count": 63,
   "id": "848ef08d",
   "metadata": {},
   "outputs": [
    {
     "data": {
      "text/plain": [
       "'0b1000'"
      ]
     },
     "execution_count": 63,
     "metadata": {},
     "output_type": "execute_result"
    }
   ],
   "source": [
    "bin(8)"
   ]
  },
  {
   "cell_type": "code",
   "execution_count": 64,
   "id": "c152c9ce",
   "metadata": {},
   "outputs": [],
   "source": [
    "# num<< no. of bits"
   ]
  },
  {
   "cell_type": "markdown",
   "id": "901526a0",
   "metadata": {},
   "source": [
    "# Steps"
   ]
  },
  {
   "cell_type": "code",
   "execution_count": null,
   "id": "f0e34adf",
   "metadata": {},
   "outputs": [],
   "source": []
  },
  {
   "cell_type": "markdown",
   "id": "38fd311b",
   "metadata": {},
   "source": [
    "- Convert the number into binary digits.\n",
    "- Express the binary digits into a 32 bit system.\n",
    "- Remove the specified number of bits from the left and add the same number of 0's to the right.\n",
    "- Convert the result into decimal equavalent."
   ]
  },
  {
   "cell_type": "code",
   "execution_count": 65,
   "id": "ee2de663",
   "metadata": {},
   "outputs": [],
   "source": [
    "# 00000000000000000000000000001000"
   ]
  },
  {
   "cell_type": "code",
   "execution_count": 66,
   "id": "f598b6ed",
   "metadata": {},
   "outputs": [
    {
     "data": {
      "text/plain": [
       "720"
      ]
     },
     "execution_count": 66,
     "metadata": {},
     "output_type": "execute_result"
    }
   ],
   "source": [
    "45<<4"
   ]
  },
  {
   "cell_type": "code",
   "execution_count": 67,
   "id": "ffcae917",
   "metadata": {},
   "outputs": [
    {
     "data": {
      "text/plain": [
       "'0b101101'"
      ]
     },
     "execution_count": 67,
     "metadata": {},
     "output_type": "execute_result"
    }
   ],
   "source": [
    "bin(45)"
   ]
  },
  {
   "cell_type": "code",
   "execution_count": 1,
   "id": "83c5a850",
   "metadata": {},
   "outputs": [
    {
     "ename": "SyntaxError",
     "evalue": "leading zeros in decimal integer literals are not permitted; use an 0o prefix for octal integers (3070744468.py, line 1)",
     "output_type": "error",
     "traceback": [
      "\u001b[1;36m  File \u001b[1;32m\"C:\\Users\\Purvi\\AppData\\Local\\Temp\\ipykernel_12936\\3070744468.py\"\u001b[1;36m, line \u001b[1;32m1\u001b[0m\n\u001b[1;33m    0000000000000000000000000000101101\u001b[0m\n\u001b[1;37m                                     ^\u001b[0m\n\u001b[1;31mSyntaxError\u001b[0m\u001b[1;31m:\u001b[0m leading zeros in decimal integer literals are not permitted; use an 0o prefix for octal integers\n"
     ]
    }
   ],
   "source": [
    "0000000000000000000000000000101101\n",
    "0000000000000000000000001011010000"
   ]
  },
  {
   "cell_type": "code",
   "execution_count": 68,
   "id": "3d8a932a",
   "metadata": {},
   "outputs": [
    {
     "data": {
      "text/plain": [
       "720"
      ]
     },
     "execution_count": 68,
     "metadata": {},
     "output_type": "execute_result"
    }
   ],
   "source": [
    "0b1011010000"
   ]
  },
  {
   "cell_type": "code",
   "execution_count": 69,
   "id": "3e24bc8d",
   "metadata": {},
   "outputs": [
    {
     "data": {
      "text/plain": [
       "1536"
      ]
     },
     "execution_count": 69,
     "metadata": {},
     "output_type": "execute_result"
    }
   ],
   "source": [
    "24<<6"
   ]
  },
  {
   "cell_type": "code",
   "execution_count": 70,
   "id": "8ca0cfe0",
   "metadata": {},
   "outputs": [
    {
     "data": {
      "text/plain": [
       "'0b11000'"
      ]
     },
     "execution_count": 70,
     "metadata": {},
     "output_type": "execute_result"
    }
   ],
   "source": [
    "bin(24)"
   ]
  },
  {
   "cell_type": "code",
   "execution_count": 71,
   "id": "3eb361c9",
   "metadata": {},
   "outputs": [
    {
     "data": {
      "text/plain": [
       "1536"
      ]
     },
     "execution_count": 71,
     "metadata": {},
     "output_type": "execute_result"
    }
   ],
   "source": [
    "000000000000000000000000011000\n",
    "000000000000000000011000000000"
   ]
  },
  {
   "cell_type": "code",
   "execution_count": 72,
   "id": "bc3f6aa2",
   "metadata": {},
   "outputs": [
    {
     "data": {
      "text/plain": [
       "1536"
      ]
     },
     "execution_count": 72,
     "metadata": {},
     "output_type": "execute_result"
    }
   ],
   "source": [
    "0b11000000000"
   ]
  },
  {
   "cell_type": "markdown",
   "id": "bd14e12a",
   "metadata": {},
   "source": [
    "# Formula for leftshift"
   ]
  },
  {
   "cell_type": "code",
   "execution_count": 79,
   "id": "9eb37051",
   "metadata": {},
   "outputs": [
    {
     "data": {
      "text/plain": [
       "'0b10010000110111110101010110100011100011'"
      ]
     },
     "execution_count": 79,
     "metadata": {},
     "output_type": "execute_result"
    }
   ],
   "source": [
    "bin(155555555555)"
   ]
  },
  {
   "cell_type": "code",
   "execution_count": 76,
   "id": "8625f969",
   "metadata": {},
   "outputs": [
    {
     "data": {
      "text/plain": [
       "33"
      ]
     },
     "execution_count": 76,
     "metadata": {},
     "output_type": "execute_result"
    }
   ],
   "source": [
    "'0b1011100101101111110010011100011'.__len__()"
   ]
  },
  {
   "cell_type": "code",
   "execution_count": 80,
   "id": "c0f03111",
   "metadata": {},
   "outputs": [
    {
     "data": {
      "text/plain": [
       "622222222220"
      ]
     },
     "execution_count": 80,
     "metadata": {},
     "output_type": "execute_result"
    }
   ],
   "source": [
    "155555555555<<2"
   ]
  },
  {
   "cell_type": "code",
   "execution_count": null,
   "id": "5221f2dc",
   "metadata": {},
   "outputs": [],
   "source": [
    "1011100101101111110010011100011\n",
    "1110010110111111001001110001100"
   ]
  },
  {
   "cell_type": "code",
   "execution_count": 78,
   "id": "1badd893",
   "metadata": {},
   "outputs": [
    {
     "data": {
      "text/plain": [
       "1927254924"
      ]
     },
     "execution_count": 78,
     "metadata": {},
     "output_type": "execute_result"
    }
   ],
   "source": [
    "0b1110010110111111001001110001100"
   ]
  },
  {
   "cell_type": "code",
   "execution_count": 83,
   "id": "32a72573",
   "metadata": {},
   "outputs": [],
   "source": [
    "# num*2**number of bits"
   ]
  },
  {
   "cell_type": "code",
   "execution_count": 84,
   "id": "467168b8",
   "metadata": {},
   "outputs": [
    {
     "data": {
      "text/plain": [
       "400"
      ]
     },
     "execution_count": 84,
     "metadata": {},
     "output_type": "execute_result"
    }
   ],
   "source": [
    "25<<4"
   ]
  },
  {
   "cell_type": "code",
   "execution_count": 85,
   "id": "a85f3f3b",
   "metadata": {},
   "outputs": [
    {
     "data": {
      "text/plain": [
       "400"
      ]
     },
     "execution_count": 85,
     "metadata": {},
     "output_type": "execute_result"
    }
   ],
   "source": [
    "25*2**4"
   ]
  },
  {
   "cell_type": "code",
   "execution_count": 86,
   "id": "972578d0",
   "metadata": {},
   "outputs": [
    {
     "data": {
      "text/plain": [
       "1536"
      ]
     },
     "execution_count": 86,
     "metadata": {},
     "output_type": "execute_result"
    }
   ],
   "source": [
    "24<<6"
   ]
  },
  {
   "cell_type": "code",
   "execution_count": 87,
   "id": "9309497d",
   "metadata": {},
   "outputs": [
    {
     "data": {
      "text/plain": [
       "1536"
      ]
     },
     "execution_count": 87,
     "metadata": {},
     "output_type": "execute_result"
    }
   ],
   "source": [
    "24*2**6"
   ]
  },
  {
   "cell_type": "markdown",
   "id": "d2658340",
   "metadata": {},
   "source": [
    "# >> bitwise rightshift"
   ]
  },
  {
   "cell_type": "markdown",
   "id": "3f3f0629",
   "metadata": {},
   "source": [
    "- Convert the number into binary digits.\n",
    "- Express the binary digits into a 32 bit system.\n",
    "- Remove the specified number of bits from the right side and add the same number of 0's to the left.\n",
    "- Convert the result into decimal equavalent."
   ]
  },
  {
   "cell_type": "code",
   "execution_count": 106,
   "id": "fa2b5164",
   "metadata": {},
   "outputs": [
    {
     "data": {
      "text/plain": [
       "11"
      ]
     },
     "execution_count": 106,
     "metadata": {},
     "output_type": "execute_result"
    }
   ],
   "source": [
    "45>>2"
   ]
  },
  {
   "cell_type": "code",
   "execution_count": 89,
   "id": "c0bb82a0",
   "metadata": {},
   "outputs": [
    {
     "data": {
      "text/plain": [
       "'0b101101'"
      ]
     },
     "execution_count": 89,
     "metadata": {},
     "output_type": "execute_result"
    }
   ],
   "source": [
    "bin(45)"
   ]
  },
  {
   "cell_type": "code",
   "execution_count": null,
   "id": "c9ed3c0f",
   "metadata": {},
   "outputs": [],
   "source": [
    "000000000000000000000000101101\n",
    "000000000000000000000000001011"
   ]
  },
  {
   "cell_type": "code",
   "execution_count": 90,
   "id": "de9581b0",
   "metadata": {},
   "outputs": [
    {
     "data": {
      "text/plain": [
       "11"
      ]
     },
     "execution_count": 90,
     "metadata": {},
     "output_type": "execute_result"
    }
   ],
   "source": [
    "0b1011"
   ]
  },
  {
   "cell_type": "code",
   "execution_count": 91,
   "id": "6990ff3e",
   "metadata": {},
   "outputs": [
    {
     "data": {
      "text/plain": [
       "23"
      ]
     },
     "execution_count": 91,
     "metadata": {},
     "output_type": "execute_result"
    }
   ],
   "source": [
    "1478>>6"
   ]
  },
  {
   "cell_type": "code",
   "execution_count": 92,
   "id": "b9a90e90",
   "metadata": {},
   "outputs": [
    {
     "data": {
      "text/plain": [
       "'0b10111000110'"
      ]
     },
     "execution_count": 92,
     "metadata": {},
     "output_type": "execute_result"
    }
   ],
   "source": [
    "bin(1478)"
   ]
  },
  {
   "cell_type": "code",
   "execution_count": 93,
   "id": "3545024f",
   "metadata": {},
   "outputs": [
    {
     "data": {
      "text/plain": [
       "23"
      ]
     },
     "execution_count": 93,
     "metadata": {},
     "output_type": "execute_result"
    }
   ],
   "source": [
    "10111000110\n",
    "0b10111"
   ]
  },
  {
   "cell_type": "markdown",
   "id": "e4fbf543",
   "metadata": {},
   "source": [
    "# Formula for rightshift"
   ]
  },
  {
   "cell_type": "code",
   "execution_count": 94,
   "id": "a586d3a0",
   "metadata": {},
   "outputs": [],
   "source": [
    "# number//2**number of bits"
   ]
  },
  {
   "cell_type": "code",
   "execution_count": 95,
   "id": "955b29cf",
   "metadata": {},
   "outputs": [
    {
     "data": {
      "text/plain": [
       "11"
      ]
     },
     "execution_count": 95,
     "metadata": {},
     "output_type": "execute_result"
    }
   ],
   "source": [
    "45>>2"
   ]
  },
  {
   "cell_type": "code",
   "execution_count": 96,
   "id": "4dfcd9fe",
   "metadata": {},
   "outputs": [
    {
     "data": {
      "text/plain": [
       "11"
      ]
     },
     "execution_count": 96,
     "metadata": {},
     "output_type": "execute_result"
    }
   ],
   "source": [
    "45//2**2"
   ]
  },
  {
   "cell_type": "code",
   "execution_count": 97,
   "id": "3107824c",
   "metadata": {},
   "outputs": [
    {
     "data": {
      "text/plain": [
       "23"
      ]
     },
     "execution_count": 97,
     "metadata": {},
     "output_type": "execute_result"
    }
   ],
   "source": [
    "1478>>6"
   ]
  },
  {
   "cell_type": "code",
   "execution_count": 98,
   "id": "cd14224d",
   "metadata": {},
   "outputs": [
    {
     "data": {
      "text/plain": [
       "23"
      ]
     },
     "execution_count": 98,
     "metadata": {},
     "output_type": "execute_result"
    }
   ],
   "source": [
    "1478//2**6"
   ]
  },
  {
   "cell_type": "code",
   "execution_count": 104,
   "id": "318e274b",
   "metadata": {},
   "outputs": [
    {
     "data": {
      "text/plain": [
       "0"
      ]
     },
     "execution_count": 104,
     "metadata": {},
     "output_type": "execute_result"
    }
   ],
   "source": []
  },
  {
   "cell_type": "code",
   "execution_count": 102,
   "id": "c4b63bdf",
   "metadata": {},
   "outputs": [
    {
     "data": {
      "text/plain": [
       "64"
      ]
     },
     "execution_count": 102,
     "metadata": {},
     "output_type": "execute_result"
    }
   ],
   "source": [
    "2**6"
   ]
  },
  {
   "cell_type": "code",
   "execution_count": 103,
   "id": "9fb75d2b",
   "metadata": {},
   "outputs": [
    {
     "data": {
      "text/plain": [
       "64"
      ]
     },
     "execution_count": 103,
     "metadata": {},
     "output_type": "execute_result"
    }
   ],
   "source": [
    "2*2*2*2*2*2"
   ]
  },
  {
   "cell_type": "code",
   "execution_count": 105,
   "id": "6f094336",
   "metadata": {},
   "outputs": [
    {
     "data": {
      "text/plain": [
       "0"
      ]
     },
     "execution_count": 105,
     "metadata": {},
     "output_type": "execute_result"
    }
   ],
   "source": [
    "3>>12"
   ]
  },
  {
   "cell_type": "markdown",
   "id": "833b3917",
   "metadata": {},
   "source": [
    "# Compound Operators"
   ]
  },
  {
   "cell_type": "code",
   "execution_count": 107,
   "id": "18e53577",
   "metadata": {},
   "outputs": [],
   "source": [
    "# +=\n",
    "# -=\n",
    "# *=\n",
    "# /=\n",
    "# //=\n",
    "# %=\n",
    "# **=\n",
    "# <<=\n",
    "# >>="
   ]
  },
  {
   "cell_type": "code",
   "execution_count": 117,
   "id": "6037b2d1",
   "metadata": {},
   "outputs": [
    {
     "name": "stdout",
     "output_type": "stream",
     "text": [
      "7\n"
     ]
    }
   ],
   "source": [
    "a=5\n",
    "a=a+2 # a+=2\n",
    "print(a)"
   ]
  },
  {
   "cell_type": "code",
   "execution_count": 118,
   "id": "9ca62b7c",
   "metadata": {},
   "outputs": [
    {
     "name": "stdout",
     "output_type": "stream",
     "text": [
      "7\n"
     ]
    }
   ],
   "source": [
    "a=5\n",
    "a+=2 # a=a+2\n",
    "print(a)"
   ]
  },
  {
   "cell_type": "code",
   "execution_count": 119,
   "id": "a4853571",
   "metadata": {},
   "outputs": [
    {
     "name": "stdout",
     "output_type": "stream",
     "text": [
      "15\n"
     ]
    }
   ],
   "source": [
    "a=3\n",
    "a=a*5\n",
    "print(a)"
   ]
  },
  {
   "cell_type": "code",
   "execution_count": 120,
   "id": "1a5fc099",
   "metadata": {},
   "outputs": [
    {
     "name": "stdout",
     "output_type": "stream",
     "text": [
      "15\n"
     ]
    }
   ],
   "source": [
    "a=3\n",
    "a*=5 # a=a*5\n",
    "print(a)"
   ]
  },
  {
   "cell_type": "code",
   "execution_count": 121,
   "id": "7690f9fb",
   "metadata": {},
   "outputs": [
    {
     "name": "stdout",
     "output_type": "stream",
     "text": [
      "17\n"
     ]
    }
   ],
   "source": [
    "a=22\n",
    "a=a-5\n",
    "print(a)"
   ]
  },
  {
   "cell_type": "code",
   "execution_count": 123,
   "id": "4e6bc238",
   "metadata": {},
   "outputs": [
    {
     "name": "stdout",
     "output_type": "stream",
     "text": [
      "17\n"
     ]
    }
   ],
   "source": [
    "a=22\n",
    "a-=5 # a=a-5\n",
    "print(a)"
   ]
  },
  {
   "cell_type": "code",
   "execution_count": 124,
   "id": "23caf841",
   "metadata": {},
   "outputs": [
    {
     "name": "stdout",
     "output_type": "stream",
     "text": [
      "9\n"
     ]
    }
   ],
   "source": [
    "a=3\n",
    "a=a**2\n",
    "print(a)"
   ]
  },
  {
   "cell_type": "code",
   "execution_count": 126,
   "id": "c8e8dcbe",
   "metadata": {},
   "outputs": [
    {
     "name": "stdout",
     "output_type": "stream",
     "text": [
      "9\n"
     ]
    }
   ],
   "source": [
    "a=3\n",
    "a**=2 # a=a**2\n",
    "print(a)"
   ]
  },
  {
   "cell_type": "code",
   "execution_count": 131,
   "id": "9223a326",
   "metadata": {},
   "outputs": [
    {
     "name": "stdout",
     "output_type": "stream",
     "text": [
      "1\n",
      "1\n"
     ]
    }
   ],
   "source": [
    "a=5\n",
    "b=2\n",
    "a=a%b\n",
    "print(a)\n",
    "\n",
    "a=5\n",
    "b=2\n",
    "a%=b # a=a%b\n",
    "print(a)"
   ]
  },
  {
   "cell_type": "code",
   "execution_count": 135,
   "id": "d4a9a6fb",
   "metadata": {},
   "outputs": [
    {
     "name": "stdout",
     "output_type": "stream",
     "text": [
      "1.6666666666666667\n",
      "1.6666666666666667\n"
     ]
    }
   ],
   "source": [
    "a=5\n",
    "b=3\n",
    "a=a/b\n",
    "print(a)\n",
    "\n",
    "a=5\n",
    "b=3\n",
    "a/=b # a=a/b\n",
    "print(a)"
   ]
  },
  {
   "cell_type": "markdown",
   "id": "210c1484",
   "metadata": {},
   "source": [
    "# Ternary operator"
   ]
  },
  {
   "cell_type": "markdown",
   "id": "cac79bb0",
   "metadata": {},
   "source": [
    "- It is called as ternary operator because it uses 3 operands.\n",
    "- It is used to generate a result on the basis of a condition"
   ]
  },
  {
   "cell_type": "code",
   "execution_count": 136,
   "id": "7537b095",
   "metadata": {},
   "outputs": [],
   "source": [
    "# Syntax- expression_1 if condition else expression_2"
   ]
  },
  {
   "cell_type": "code",
   "execution_count": 137,
   "id": "38403b86",
   "metadata": {},
   "outputs": [],
   "source": [
    "# - When the if condition is True then expression 1 is the result.\n",
    "# - When the if condition is False then expression 2 is the result."
   ]
  },
  {
   "cell_type": "code",
   "execution_count": 149,
   "id": "f4f7a896",
   "metadata": {},
   "outputs": [
    {
     "name": "stdout",
     "output_type": "stream",
     "text": [
      "Even\n"
     ]
    }
   ],
   "source": [
    "# Take a number and check whether it is even or odd.\n",
    "\n",
    "a=50\n",
    "\n",
    "print('Even') if a%2==0 else print('Odd')"
   ]
  },
  {
   "cell_type": "code",
   "execution_count": 147,
   "id": "bdacdb77",
   "metadata": {},
   "outputs": [
    {
     "data": {
      "text/plain": [
       "True"
      ]
     },
     "execution_count": 147,
     "metadata": {},
     "output_type": "execute_result"
    }
   ],
   "source": [
    "a=50\n",
    "a%2==0"
   ]
  },
  {
   "cell_type": "code",
   "execution_count": 150,
   "id": "2b5ee334",
   "metadata": {},
   "outputs": [],
   "source": [
    "# expression_1 if condition_1 else expression_2 if condition_2 else expression_3"
   ]
  },
  {
   "cell_type": "code",
   "execution_count": 151,
   "id": "6ac73aa8",
   "metadata": {},
   "outputs": [],
   "source": [
    "# When the condition_1 is True then expression_1 is the result.\n",
    "# When the consition_1 is False then condition_2 is checked and if condition_2 is True then expression_2 is the result.\n",
    "# When both the conditions are False then expression_3 is the result."
   ]
  },
  {
   "cell_type": "code",
   "execution_count": 160,
   "id": "a5e8b28a",
   "metadata": {},
   "outputs": [
    {
     "name": "stdout",
     "output_type": "stream",
     "text": [
      "200\n"
     ]
    }
   ],
   "source": [
    "a=5\n",
    "b=30\n",
    "c=200\n",
    "# Find the maximum number\n",
    "\n",
    "print(a) if a>b and a>c else print(b) if b>a and b>c else print(c)"
   ]
  },
  {
   "cell_type": "code",
   "execution_count": 157,
   "id": "35af46b7",
   "metadata": {},
   "outputs": [
    {
     "data": {
      "text/plain": [
       "False"
      ]
     },
     "execution_count": 157,
     "metadata": {},
     "output_type": "execute_result"
    }
   ],
   "source": [
    "30>5 and 30>2"
   ]
  },
  {
   "cell_type": "code",
   "execution_count": 158,
   "id": "8a272e77",
   "metadata": {},
   "outputs": [
    {
     "data": {
      "text/plain": [
       "True"
      ]
     },
     "execution_count": 158,
     "metadata": {},
     "output_type": "execute_result"
    }
   ],
   "source": [
    "True and True"
   ]
  },
  {
   "cell_type": "code",
   "execution_count": 163,
   "id": "4977ec2b",
   "metadata": {},
   "outputs": [
    {
     "name": "stdout",
     "output_type": "stream",
     "text": [
      "Enter a number- 0\n",
      "Enter a number- 0\n",
      "Enter a number- 5\n",
      "5\n"
     ]
    }
   ],
   "source": [
    "a=int(input('Enter a number- '))\n",
    "b=int(input('Enter a number- '))\n",
    "c=int(input('Enter a number- '))\n",
    "# Find the maximum number\n",
    "\n",
    "print(a) if a>b and a>c else print(b) if b>a and b>c else print(c)"
   ]
  },
  {
   "cell_type": "code",
   "execution_count": null,
   "id": "cfd265b2",
   "metadata": {},
   "outputs": [],
   "source": [
    "# Introduction to Python\n",
    "# Datatypes\n",
    "# Typecasting\n",
    "# Operators\n",
    "# String\n",
    "# Conditional statements\n",
    "# Loops\n",
    "# List\n",
    "# Tuple\n",
    "# Dictionary\n",
    "# Functions\n",
    "# Modules\n",
    "# File handling\n",
    "# Iterators and Generators\n",
    "# Exception handling\n",
    "# Regex\n",
    "# Numpy\n",
    "# Pandas\n",
    "# Matplotlib\n",
    "# Seaborn"
   ]
  },
  {
   "cell_type": "markdown",
   "id": "d3753d73",
   "metadata": {},
   "source": [
    "# String"
   ]
  },
  {
   "cell_type": "code",
   "execution_count": 164,
   "id": "74d1e26b",
   "metadata": {},
   "outputs": [],
   "source": [
    "# Anything inside the ' ', \" \", ''' ''', \"\"\" \"\"\" is a string"
   ]
  },
  {
   "cell_type": "code",
   "execution_count": 165,
   "id": "fa6a9d6b",
   "metadata": {},
   "outputs": [
    {
     "name": "stdout",
     "output_type": "stream",
     "text": [
      "Hello <class 'str'>\n"
     ]
    }
   ],
   "source": [
    "a='Hello'\n",
    "print(a,type(a))"
   ]
  },
  {
   "cell_type": "code",
   "execution_count": 167,
   "id": "c3a98065",
   "metadata": {},
   "outputs": [
    {
     "name": "stdout",
     "output_type": "stream",
     "text": [
      "Hello <class 'str'>\n"
     ]
    }
   ],
   "source": [
    "my_str=\"Hello\"\n",
    "print(my_str,type(my_str))"
   ]
  },
  {
   "cell_type": "code",
   "execution_count": 168,
   "id": "1cc811b5",
   "metadata": {},
   "outputs": [
    {
     "name": "stdout",
     "output_type": "stream",
     "text": [
      "Eevryone's life is important <class 'str'>\n"
     ]
    }
   ],
   "source": [
    "# Eevryone's life is important\n",
    "\n",
    "my_str=\"Eevryone's life is important\"\n",
    "print(my_str,type(my_str))"
   ]
  },
  {
   "cell_type": "code",
   "execution_count": 171,
   "id": "1fb70238",
   "metadata": {},
   "outputs": [
    {
     "name": "stdout",
     "output_type": "stream",
     "text": [
      "\"Python class\" <class 'str'>\n"
     ]
    }
   ],
   "source": [
    "# Output- \"Python class\"\n",
    "\n",
    "my_str='\"Python class\"'\n",
    "print(my_str,type(my_str))"
   ]
  },
  {
   "cell_type": "code",
   "execution_count": 172,
   "id": "e81c0f09",
   "metadata": {},
   "outputs": [
    {
     "name": "stdout",
     "output_type": "stream",
     "text": [
      "Hello everyone!\n",
      "Welcome to Python class <class 'str'>\n"
     ]
    }
   ],
   "source": [
    "my_str='''Hello everyone!\n",
    "Welcome to Python class'''\n",
    "\n",
    "print(my_str,type(my_str))"
   ]
  },
  {
   "cell_type": "code",
   "execution_count": 173,
   "id": "5963e634",
   "metadata": {},
   "outputs": [
    {
     "name": "stdout",
     "output_type": "stream",
     "text": [
      "Hello everyone\n",
      "Welcome to Python class <class 'str'>\n"
     ]
    }
   ],
   "source": [
    "my_str='Hello everyone\\nWelcome to Python class'\n",
    "\n",
    "print(my_str,type(my_str))"
   ]
  },
  {
   "cell_type": "markdown",
   "id": "8e9d23ef",
   "metadata": {},
   "source": [
    "# Operations on a string"
   ]
  },
  {
   "cell_type": "code",
   "execution_count": 174,
   "id": "3586b9d3",
   "metadata": {},
   "outputs": [],
   "source": [
    "# Length\n",
    "# Concatenation\n",
    "# Repetition\n",
    "# Indexing and Slicing"
   ]
  },
  {
   "cell_type": "markdown",
   "id": "6877aca1",
   "metadata": {},
   "source": [
    "# Length of a string"
   ]
  },
  {
   "cell_type": "markdown",
   "id": "1ea0c89c",
   "metadata": {},
   "source": [
    "- The number of elements (characters) is the length of the string."
   ]
  },
  {
   "cell_type": "code",
   "execution_count": 175,
   "id": "522dee70",
   "metadata": {},
   "outputs": [],
   "source": [
    "# len() returns the length of the string\n",
    "# len(my_str)"
   ]
  },
  {
   "cell_type": "code",
   "execution_count": 176,
   "id": "e6f86b03",
   "metadata": {},
   "outputs": [
    {
     "name": "stdout",
     "output_type": "stream",
     "text": [
      "6\n"
     ]
    }
   ],
   "source": [
    "my_str='Python'\n",
    "print(len(my_str))"
   ]
  },
  {
   "cell_type": "code",
   "execution_count": 177,
   "id": "dd7e04f0",
   "metadata": {},
   "outputs": [
    {
     "name": "stdout",
     "output_type": "stream",
     "text": [
      "12\n"
     ]
    }
   ],
   "source": [
    "my_str='Python class'\n",
    "print(len(my_str))"
   ]
  },
  {
   "cell_type": "markdown",
   "id": "5dc10617",
   "metadata": {},
   "source": [
    "# Concatenation"
   ]
  },
  {
   "cell_type": "code",
   "execution_count": 178,
   "id": "2d46a838",
   "metadata": {},
   "outputs": [],
   "source": [
    "# Jpoining two or more strings together is known as concatenation of the strings\n",
    "# + operator is used to concatenate two strings"
   ]
  },
  {
   "cell_type": "code",
   "execution_count": 180,
   "id": "63cb6c32",
   "metadata": {},
   "outputs": [
    {
     "name": "stdout",
     "output_type": "stream",
     "text": [
      "HelloPython\n"
     ]
    }
   ],
   "source": [
    "my_str='Hello'\n",
    "my_str_2='Python'\n",
    "print(my_str+my_str_2)"
   ]
  },
  {
   "cell_type": "code",
   "execution_count": 182,
   "id": "85f80d30",
   "metadata": {},
   "outputs": [
    {
     "name": "stdout",
     "output_type": "stream",
     "text": [
      "Hello Python\n"
     ]
    }
   ],
   "source": [
    "# Output= Python class\n",
    "a='Hello'\n",
    "b='Python'\n",
    "print(a+' '+b)"
   ]
  },
  {
   "cell_type": "code",
   "execution_count": 190,
   "id": "a59736ee",
   "metadata": {},
   "outputs": [
    {
     "name": "stdout",
     "output_type": "stream",
     "text": [
      "10+50\n"
     ]
    }
   ],
   "source": [
    "print('10'+'+'+'50')"
   ]
  },
  {
   "cell_type": "markdown",
   "id": "356bc7b7",
   "metadata": {},
   "source": [
    "# Repetition"
   ]
  },
  {
   "cell_type": "code",
   "execution_count": 184,
   "id": "005d1f82",
   "metadata": {},
   "outputs": [],
   "source": [
    "# * operator is used to repeat a string\n",
    "\n",
    "# Syntax- my_str* the number of repetition"
   ]
  },
  {
   "cell_type": "code",
   "execution_count": 192,
   "id": "ed068b10",
   "metadata": {},
   "outputs": [
    {
     "name": "stdout",
     "output_type": "stream",
     "text": [
      "abc abc abc abc abc abc \n"
     ]
    }
   ],
   "source": [
    "# Repeat the following string 6 times\n",
    "my_str='abc '\n",
    "print(my_str*6)"
   ]
  },
  {
   "cell_type": "code",
   "execution_count": 202,
   "id": "e9b36c68",
   "metadata": {},
   "outputs": [
    {
     "data": {
      "text/plain": [
       "'Python Python Python Python Python Python Python Python Python Python Python Python Python Python Python Python Python Python Python Python Python Python Python Python Python Python Python Python Python Python Python Python Python Python Python Python Python Python Python Python Python Python Python Python Python Python Python Python Python Python Python Python Python Python Python Python Python Python Python Python Python Python Python Python Python Python Python Python Python Python Python Python Python Python Python Python Python Python Python Python Python Python Python Python Python Python Python Python Python Python Python Python Python Python Python Python Python Python Python Python '"
      ]
     },
     "execution_count": 202,
     "metadata": {},
     "output_type": "execute_result"
    }
   ],
   "source": [
    "'Python '*100"
   ]
  },
  {
   "cell_type": "markdown",
   "id": "3110a21e",
   "metadata": {},
   "source": [
    "# Indexing"
   ]
  },
  {
   "cell_type": "markdown",
   "id": "29921ad0",
   "metadata": {},
   "source": [
    "- A string is an orderd collection of data because it follows the indexing method.\n",
    "- It is also called as sequence type because it follows the indexing method.\n",
    "- Each character (element) of a string is stored at a particular index.\n",
    "- A string supports +ive and -ive indexing both."
   ]
  },
  {
   "cell_type": "markdown",
   "id": "b9debc89",
   "metadata": {},
   "source": [
    "# +ive indexing"
   ]
  },
  {
   "cell_type": "markdown",
   "id": "8804413e",
   "metadata": {},
   "source": [
    "- it is from left to right.\n",
    "- It starts from 0 by default.\n",
    "- The index of the last element is len(my_str)-1"
   ]
  },
  {
   "cell_type": "markdown",
   "id": "f88f221a",
   "metadata": {},
   "source": [
    "# -ive indexing"
   ]
  },
  {
   "cell_type": "markdown",
   "id": "7af1b732",
   "metadata": {},
   "source": [
    "- It is from right to left.\n",
    "- It starts from -1 by default.\n",
    "- The index of the last element is -len(my_str)"
   ]
  },
  {
   "cell_type": "code",
   "execution_count": 212,
   "id": "3934c7c0",
   "metadata": {},
   "outputs": [
    {
     "name": "stdout",
     "output_type": "stream",
     "text": [
      "P\n",
      "P\n",
      "P\n",
      "n\n",
      "n\n",
      "n\n"
     ]
    }
   ],
   "source": [
    "my_str='Python'\n",
    "\n",
    "# Get the first element\n",
    "print(my_str[0])\n",
    "print(my_str[-6])\n",
    "print(my_str[-len(my_str)])\n",
    "\n",
    "# Get the last element\n",
    "\n",
    "print(my_str[-1])\n",
    "print(my_str[5])\n",
    "print(my_str[len(my_str)-1])"
   ]
  },
  {
   "cell_type": "code",
   "execution_count": 211,
   "id": "c3f4ad06",
   "metadata": {},
   "outputs": [
    {
     "data": {
      "text/plain": [
       "5"
      ]
     },
     "execution_count": 211,
     "metadata": {},
     "output_type": "execute_result"
    }
   ],
   "source": [
    "len(my_str)-1"
   ]
  },
  {
   "cell_type": "code",
   "execution_count": null,
   "id": "a675b9d3",
   "metadata": {},
   "outputs": [],
   "source": []
  }
 ],
 "metadata": {
  "kernelspec": {
   "display_name": "Python 3 (ipykernel)",
   "language": "python",
   "name": "python3"
  },
  "language_info": {
   "codemirror_mode": {
    "name": "ipython",
    "version": 3
   },
   "file_extension": ".py",
   "mimetype": "text/x-python",
   "name": "python",
   "nbconvert_exporter": "python",
   "pygments_lexer": "ipython3",
   "version": "3.9.13"
  }
 },
 "nbformat": 4,
 "nbformat_minor": 5
}
