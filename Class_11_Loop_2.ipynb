{
 "cells": [
  {
   "cell_type": "code",
   "execution_count": 1,
   "id": "2e3d5fcd",
   "metadata": {},
   "outputs": [],
   "source": [
    "my_str='Python'"
   ]
  },
  {
   "cell_type": "code",
   "execution_count": 2,
   "id": "a291e25f",
   "metadata": {},
   "outputs": [],
   "source": [
    "# my_str[index]"
   ]
  },
  {
   "cell_type": "code",
   "execution_count": 6,
   "id": "80b0a8bc",
   "metadata": {},
   "outputs": [],
   "source": [
    "# my_str[2]"
   ]
  },
  {
   "cell_type": "code",
   "execution_count": 8,
   "id": "6ff6f532",
   "metadata": {},
   "outputs": [
    {
     "name": "stdout",
     "output_type": "stream",
     "text": [
      "P\n",
      "y\n",
      "t\n",
      "h\n",
      "o\n",
      "n\n"
     ]
    }
   ],
   "source": [
    "my_str='Python' #[0,1,2,3,4,5]\n",
    "for i in my_str: \n",
    "    print(i)"
   ]
  },
  {
   "cell_type": "code",
   "execution_count": 11,
   "id": "00a1e155",
   "metadata": {},
   "outputs": [
    {
     "name": "stdout",
     "output_type": "stream",
     "text": [
      "0 P\n",
      "1 y\n",
      "2 t\n",
      "3 h\n",
      "4 o\n",
      "5 n\n"
     ]
    }
   ],
   "source": [
    "for i in range(6):\n",
    "    print(i,my_str[i])"
   ]
  },
  {
   "cell_type": "code",
   "execution_count": 12,
   "id": "093e47e8",
   "metadata": {},
   "outputs": [
    {
     "data": {
      "text/plain": [
       "6"
      ]
     },
     "execution_count": 12,
     "metadata": {},
     "output_type": "execute_result"
    }
   ],
   "source": [
    "len(my_str)"
   ]
  },
  {
   "cell_type": "code",
   "execution_count": 14,
   "id": "2612a2fe",
   "metadata": {},
   "outputs": [
    {
     "name": "stdout",
     "output_type": "stream",
     "text": [
      "0 P\n",
      "1 y\n",
      "2 t\n",
      "3 h\n",
      "4 o\n",
      "5 n\n"
     ]
    }
   ],
   "source": [
    "for i in range(len(my_str)):\n",
    "    print(i,my_str[i])"
   ]
  },
  {
   "cell_type": "code",
   "execution_count": 15,
   "id": "a107560c",
   "metadata": {},
   "outputs": [
    {
     "name": "stdout",
     "output_type": "stream",
     "text": [
      "P\n",
      "y\n",
      "t\n",
      "h\n",
      "o\n",
      "n\n"
     ]
    }
   ],
   "source": [
    "for i in my_str:\n",
    "    print(i)"
   ]
  },
  {
   "cell_type": "code",
   "execution_count": 21,
   "id": "b35e5d2d",
   "metadata": {},
   "outputs": [
    {
     "name": "stdout",
     "output_type": "stream",
     "text": [
      "-1 n\n",
      "-2 o\n",
      "-3 h\n",
      "-4 t\n",
      "-5 y\n",
      "-6 P\n"
     ]
    }
   ],
   "source": [
    "my_str='Python' # [-1,-2,-3,-4,-5,-6] -7\n",
    "\n",
    "for i in range(-1,-7,-1):\n",
    "    print(i,my_str[i])"
   ]
  },
  {
   "cell_type": "code",
   "execution_count": 25,
   "id": "446f8cbc",
   "metadata": {},
   "outputs": [
    {
     "name": "stdout",
     "output_type": "stream",
     "text": [
      "-1 n\n",
      "-2 o\n",
      "-3 h\n",
      "-4 t\n",
      "-5 y\n",
      "-6 P\n"
     ]
    }
   ],
   "source": [
    "for i in range(-1,-len(my_str)-1,-1):\n",
    "    print(i,my_str[i])"
   ]
  },
  {
   "cell_type": "code",
   "execution_count": 27,
   "id": "18b2bd35",
   "metadata": {},
   "outputs": [
    {
     "name": "stdout",
     "output_type": "stream",
     "text": [
      "20\n"
     ]
    }
   ],
   "source": [
    "# Count the number of characters in the following string using loop\n",
    "\n",
    "c=0\n",
    "my_str='This is Python class'\n",
    "\n",
    "for i in my_str:\n",
    "    c+=1\n",
    "print(c)"
   ]
  },
  {
   "cell_type": "code",
   "execution_count": 31,
   "id": "8e924e82",
   "metadata": {},
   "outputs": [
    {
     "name": "stdout",
     "output_type": "stream",
     "text": [
      "1 h\n",
      "3 s\n",
      "5 i\n",
      "7  \n",
      "9 y\n",
      "11 h\n",
      "13 n\n",
      "15 c\n",
      "17 a\n",
      "19 s\n"
     ]
    }
   ],
   "source": [
    "# Print all the characters that are availabe at the odd indxees\n",
    "\n",
    "my_str='This is Python class'\n",
    "\n",
    "for i in range(len(my_str)):\n",
    "    if i%2!=0:\n",
    "        print(i,my_str[i])"
   ]
  },
  {
   "cell_type": "code",
   "execution_count": 32,
   "id": "05b2f5cc",
   "metadata": {},
   "outputs": [
    {
     "data": {
      "text/plain": [
       "['This', 'is', 'Python', 'class']"
      ]
     },
     "execution_count": 32,
     "metadata": {},
     "output_type": "execute_result"
    }
   ],
   "source": [
    "# Split all the words from the following string using loop\n",
    "# Output-['This', 'is', 'Python', 'class']\n",
    "\n",
    "my_str='This is Python class'\n",
    "my_str.split()"
   ]
  },
  {
   "cell_type": "code",
   "execution_count": 97,
   "id": "ba491c76",
   "metadata": {},
   "outputs": [
    {
     "name": "stdout",
     "output_type": "stream",
     "text": [
      "['This', 'is', 'Python', 'class']\n"
     ]
    }
   ],
   "source": [
    "my_str='This is Python class'\n",
    "lst=[]\n",
    "t=''\n",
    "for i in my_str:\n",
    "    if i!=' ':\n",
    "        t+=i\n",
    "    else:\n",
    "        lst.append(t)\n",
    "        t=''\n",
    "# print(lst)\n",
    "# print(t)\n",
    "lst.append(t)\n",
    "print(lst)"
   ]
  },
  {
   "cell_type": "code",
   "execution_count": 38,
   "id": "cf77f6d0",
   "metadata": {},
   "outputs": [
    {
     "name": "stdout",
     "output_type": "stream",
     "text": [
      "a\n",
      "ab\n"
     ]
    }
   ],
   "source": [
    "t=''\n",
    "i='a'\n",
    "t=t+i\n",
    "print(t)\n",
    "i='b'\n",
    "t=t+i\n",
    "print(t)"
   ]
  },
  {
   "cell_type": "code",
   "execution_count": 39,
   "id": "860b2c49",
   "metadata": {},
   "outputs": [
    {
     "name": "stdout",
     "output_type": "stream",
     "text": [
      "a\n",
      "ab\n"
     ]
    }
   ],
   "source": [
    "t=''\n",
    "i='a'\n",
    "t+=i\n",
    "\n",
    "print(t)\n",
    "i='b'\n",
    "t+=i\n",
    "print(t)"
   ]
  },
  {
   "cell_type": "code",
   "execution_count": 65,
   "id": "f262b95f",
   "metadata": {},
   "outputs": [
    {
     "data": {
      "text/plain": [
       "str"
      ]
     },
     "execution_count": 65,
     "metadata": {},
     "output_type": "execute_result"
    }
   ],
   "source": [
    "t=''\n",
    "type(t)"
   ]
  },
  {
   "cell_type": "code",
   "execution_count": 66,
   "id": "35e32269",
   "metadata": {},
   "outputs": [
    {
     "data": {
      "text/plain": [
       "str"
      ]
     },
     "execution_count": 66,
     "metadata": {},
     "output_type": "execute_result"
    }
   ],
   "source": [
    "i='T'\n",
    "type(t)"
   ]
  },
  {
   "cell_type": "code",
   "execution_count": 67,
   "id": "8fa14230",
   "metadata": {},
   "outputs": [
    {
     "data": {
      "text/plain": [
       "'T'"
      ]
     },
     "execution_count": 67,
     "metadata": {},
     "output_type": "execute_result"
    }
   ],
   "source": [
    "t=t+i\n",
    "t"
   ]
  },
  {
   "cell_type": "code",
   "execution_count": 68,
   "id": "853c2879",
   "metadata": {},
   "outputs": [
    {
     "data": {
      "text/plain": [
       "'h'"
      ]
     },
     "execution_count": 68,
     "metadata": {},
     "output_type": "execute_result"
    }
   ],
   "source": [
    "i='h'\n",
    "i"
   ]
  },
  {
   "cell_type": "code",
   "execution_count": 69,
   "id": "f4aa48da",
   "metadata": {},
   "outputs": [
    {
     "data": {
      "text/plain": [
       "'Th'"
      ]
     },
     "execution_count": 69,
     "metadata": {},
     "output_type": "execute_result"
    }
   ],
   "source": [
    "t=t+i # t+=i\n",
    "t"
   ]
  },
  {
   "cell_type": "code",
   "execution_count": 70,
   "id": "9caeace9",
   "metadata": {},
   "outputs": [
    {
     "data": {
      "text/plain": [
       "'Th'"
      ]
     },
     "execution_count": 70,
     "metadata": {},
     "output_type": "execute_result"
    }
   ],
   "source": [
    "'T'+'h'"
   ]
  },
  {
   "cell_type": "code",
   "execution_count": 71,
   "id": "869dc2ea",
   "metadata": {},
   "outputs": [
    {
     "data": {
      "text/plain": [
       "'i'"
      ]
     },
     "execution_count": 71,
     "metadata": {},
     "output_type": "execute_result"
    }
   ],
   "source": [
    "i='i'\n",
    "i"
   ]
  },
  {
   "cell_type": "code",
   "execution_count": 72,
   "id": "93851b59",
   "metadata": {},
   "outputs": [
    {
     "data": {
      "text/plain": [
       "'Thi'"
      ]
     },
     "execution_count": 72,
     "metadata": {},
     "output_type": "execute_result"
    }
   ],
   "source": [
    "t=t+i\n",
    "t"
   ]
  },
  {
   "cell_type": "code",
   "execution_count": 73,
   "id": "141d3263",
   "metadata": {},
   "outputs": [
    {
     "data": {
      "text/plain": [
       "'Thi'"
      ]
     },
     "execution_count": 73,
     "metadata": {},
     "output_type": "execute_result"
    }
   ],
   "source": [
    "'Th'+'i'"
   ]
  },
  {
   "cell_type": "code",
   "execution_count": 74,
   "id": "6408187e",
   "metadata": {},
   "outputs": [
    {
     "data": {
      "text/plain": [
       "'s'"
      ]
     },
     "execution_count": 74,
     "metadata": {},
     "output_type": "execute_result"
    }
   ],
   "source": [
    "i='s'\n",
    "i"
   ]
  },
  {
   "cell_type": "code",
   "execution_count": 75,
   "id": "a8e597b6",
   "metadata": {},
   "outputs": [
    {
     "data": {
      "text/plain": [
       "'This'"
      ]
     },
     "execution_count": 75,
     "metadata": {},
     "output_type": "execute_result"
    }
   ],
   "source": [
    "t=t+i\n",
    "t"
   ]
  },
  {
   "cell_type": "code",
   "execution_count": 76,
   "id": "e595ec44",
   "metadata": {},
   "outputs": [
    {
     "data": {
      "text/plain": [
       "'This'"
      ]
     },
     "execution_count": 76,
     "metadata": {},
     "output_type": "execute_result"
    }
   ],
   "source": [
    "'Thi'+'s'"
   ]
  },
  {
   "cell_type": "code",
   "execution_count": 77,
   "id": "1096e1c3",
   "metadata": {},
   "outputs": [
    {
     "data": {
      "text/plain": [
       "' '"
      ]
     },
     "execution_count": 77,
     "metadata": {},
     "output_type": "execute_result"
    }
   ],
   "source": [
    "i=' '\n",
    "i"
   ]
  },
  {
   "cell_type": "code",
   "execution_count": 78,
   "id": "48be6dcc",
   "metadata": {},
   "outputs": [],
   "source": [
    "lst=[]\n",
    "lst.append(t)"
   ]
  },
  {
   "cell_type": "code",
   "execution_count": 79,
   "id": "04970ac8",
   "metadata": {},
   "outputs": [
    {
     "data": {
      "text/plain": [
       "['This']"
      ]
     },
     "execution_count": 79,
     "metadata": {},
     "output_type": "execute_result"
    }
   ],
   "source": [
    "lst"
   ]
  },
  {
   "cell_type": "code",
   "execution_count": 80,
   "id": "e20cb057",
   "metadata": {},
   "outputs": [],
   "source": [
    "i='i'"
   ]
  },
  {
   "cell_type": "code",
   "execution_count": 83,
   "id": "fb93567d",
   "metadata": {},
   "outputs": [],
   "source": [
    "t=''"
   ]
  },
  {
   "cell_type": "code",
   "execution_count": 85,
   "id": "ae06a037",
   "metadata": {},
   "outputs": [
    {
     "data": {
      "text/plain": [
       "'i'"
      ]
     },
     "execution_count": 85,
     "metadata": {},
     "output_type": "execute_result"
    }
   ],
   "source": [
    "t=t+i\n",
    "t"
   ]
  },
  {
   "cell_type": "code",
   "execution_count": 86,
   "id": "c29cb648",
   "metadata": {},
   "outputs": [
    {
     "data": {
      "text/plain": [
       "'s'"
      ]
     },
     "execution_count": 86,
     "metadata": {},
     "output_type": "execute_result"
    }
   ],
   "source": [
    "i='s'\n",
    "i"
   ]
  },
  {
   "cell_type": "code",
   "execution_count": 87,
   "id": "239ec0bc",
   "metadata": {},
   "outputs": [
    {
     "data": {
      "text/plain": [
       "'is'"
      ]
     },
     "execution_count": 87,
     "metadata": {},
     "output_type": "execute_result"
    }
   ],
   "source": [
    "t=t+i\n",
    "t"
   ]
  },
  {
   "cell_type": "code",
   "execution_count": 88,
   "id": "11ed6015",
   "metadata": {},
   "outputs": [],
   "source": [
    "i=' '"
   ]
  },
  {
   "cell_type": "code",
   "execution_count": 89,
   "id": "1db9667c",
   "metadata": {},
   "outputs": [],
   "source": [
    "lst.append(t)"
   ]
  },
  {
   "cell_type": "code",
   "execution_count": 90,
   "id": "9413c3a7",
   "metadata": {},
   "outputs": [
    {
     "data": {
      "text/plain": [
       "['This', 'is']"
      ]
     },
     "execution_count": 90,
     "metadata": {},
     "output_type": "execute_result"
    }
   ],
   "source": [
    "lst"
   ]
  },
  {
   "cell_type": "code",
   "execution_count": 119,
   "id": "0714b8fe",
   "metadata": {},
   "outputs": [
    {
     "name": "stdout",
     "output_type": "stream",
     "text": [
      "['This', 'is', 'Python', 'class']\n",
      "['class', 'Python', 'is', 'This']\n"
     ]
    }
   ],
   "source": [
    "my_str='This is Python class'\n",
    "# Output- ['class','Python','is','This']\n",
    "\n",
    "# Approach- Convert to list and reverse the list\n",
    "\n",
    "lst=[]\n",
    "t=''\n",
    "\n",
    "for i in my_str:\n",
    "    if i!=' ':\n",
    "        t+=i\n",
    "    else:\n",
    "        lst.append(t)\n",
    "        t=''\n",
    "lst.append(t)\n",
    "print(lst)\n",
    "\n",
    "res=[]\n",
    "\n",
    "for i in range(len(lst)-1,-1,-1):\n",
    "    res.append(lst[i])\n",
    "print(res)"
   ]
  },
  {
   "cell_type": "code",
   "execution_count": 112,
   "id": "b6159d8c",
   "metadata": {},
   "outputs": [
    {
     "name": "stdout",
     "output_type": "stream",
     "text": [
      "['class', 'Python', 'is', 'This']\n"
     ]
    }
   ],
   "source": [
    "lst=['This', 'is', 'Python', 'class'] # [0,1,2,3], Reverse index- [3,2,1,0] -1\n",
    "res=[]\n",
    "\n",
    "for i in range(len(lst)-1,-1,-1):\n",
    "    res.append(lst[i])\n",
    "print(res)"
   ]
  },
  {
   "cell_type": "code",
   "execution_count": 109,
   "id": "8e3fd7e7",
   "metadata": {},
   "outputs": [
    {
     "data": {
      "text/plain": [
       "3"
      ]
     },
     "execution_count": 109,
     "metadata": {},
     "output_type": "execute_result"
    }
   ],
   "source": [
    "len(lst)-1"
   ]
  },
  {
   "cell_type": "code",
   "execution_count": 134,
   "id": "63f91e7b",
   "metadata": {},
   "outputs": [],
   "source": [
    "# my_str='This is Python class'\n",
    "# # Output- ['class','Python','is','This']\n",
    "\n",
    "# # Approach- Convert to list and reverse the list\n",
    "\n",
    "# lst=[]\n",
    "# t=''\n",
    "\n",
    "# for i in my_str:\n",
    "#     if i!=' ':\n",
    "#         t+=i\n",
    "#     else:\n",
    "#         lst=[t]+lst\n",
    "#         t=''\n",
    "# lst=[t]+lst\n",
    "# print(lst)"
   ]
  },
  {
   "cell_type": "code",
   "execution_count": 128,
   "id": "ff3a6d2e",
   "metadata": {},
   "outputs": [
    {
     "data": {
      "text/plain": [
       "['This', 'is', 'Python', 'class']"
      ]
     },
     "execution_count": 128,
     "metadata": {},
     "output_type": "execute_result"
    }
   ],
   "source": [
    "my_str='This is Python class'\n",
    "# Output- 'class Python is This'\n",
    "\n",
    "# Approach- Convert into list and reverse the list and convert into string\n",
    "\n",
    "lst=[]\n",
    "t=''\n",
    "\n",
    "\n",
    "for i in my_str:\n",
    "    if i!=' ':\n",
    "        t+=i\n",
    "    else:\n",
    "        lst.append(t)\n",
    "        t=''\n",
    "lst.append(t)\n",
    "lst"
   ]
  },
  {
   "cell_type": "code",
   "execution_count": 133,
   "id": "db732b9a",
   "metadata": {},
   "outputs": [
    {
     "name": "stdout",
     "output_type": "stream",
     "text": [
      "class Python is This <class 'str'>\n"
     ]
    },
    {
     "data": {
      "text/plain": [
       "'class Python is This'"
      ]
     },
     "execution_count": 133,
     "metadata": {},
     "output_type": "execute_result"
    }
   ],
   "source": [
    "res=''\n",
    "\n",
    "for i in range(len(lst)-1,-1,-1):\n",
    "    res=res+lst[i]+' '\n",
    "\n",
    "res=res.strip()\n",
    "print(res,type(res))\n",
    "res"
   ]
  },
  {
   "cell_type": "code",
   "execution_count": 130,
   "id": "23121060",
   "metadata": {},
   "outputs": [],
   "source": [
    "# lst=[]\n",
    "# t='This'\n",
    "# lst[]"
   ]
  },
  {
   "cell_type": "code",
   "execution_count": 144,
   "id": "9ccf6c06",
   "metadata": {},
   "outputs": [
    {
     "data": {
      "text/plain": [
       "'      Python'"
      ]
     },
     "execution_count": 144,
     "metadata": {},
     "output_type": "execute_result"
    }
   ],
   "source": [
    "a='      Python'\n",
    "a"
   ]
  },
  {
   "cell_type": "code",
   "execution_count": 145,
   "id": "b2b14423",
   "metadata": {},
   "outputs": [
    {
     "data": {
      "text/plain": [
       "'Python'"
      ]
     },
     "execution_count": 145,
     "metadata": {},
     "output_type": "execute_result"
    }
   ],
   "source": [
    "a=a.strip()\n",
    "a"
   ]
  },
  {
   "cell_type": "code",
   "execution_count": 146,
   "id": "0f1f58c4",
   "metadata": {},
   "outputs": [
    {
     "data": {
      "text/plain": [
       "'Python'"
      ]
     },
     "execution_count": 146,
     "metadata": {},
     "output_type": "execute_result"
    }
   ],
   "source": [
    "a"
   ]
  },
  {
   "cell_type": "code",
   "execution_count": null,
   "id": "ffc980ce",
   "metadata": {},
   "outputs": [],
   "source": [
    "# for loop- Iterable"
   ]
  },
  {
   "cell_type": "markdown",
   "id": "3ae75024",
   "metadata": {},
   "source": [
    "# while loop\n",
    "- while loop is used when we don't know the number of iterations or we want to execute some code infinite times.\n",
    "- while loop can be used without iterables"
   ]
  },
  {
   "cell_type": "markdown",
   "id": "57bf3a43",
   "metadata": {},
   "source": [
    "# components"
   ]
  },
  {
   "cell_type": "markdown",
   "id": "0f70143f",
   "metadata": {},
   "source": [
    "- Counter intialisation\n",
    "- Condition\n",
    "- Increment or decrement"
   ]
  },
  {
   "cell_type": "code",
   "execution_count": null,
   "id": "f34a2e5b",
   "metadata": {},
   "outputs": [],
   "source": [
    "counter intialisation\n",
    "\n",
    "while condition:\n",
    "    code\n",
    "    code\n",
    "    increment or decrement"
   ]
  },
  {
   "cell_type": "code",
   "execution_count": 147,
   "id": "d83ed121",
   "metadata": {},
   "outputs": [],
   "source": [
    "# print Hello 5 times using while loop"
   ]
  },
  {
   "cell_type": "code",
   "execution_count": 148,
   "id": "9c506465",
   "metadata": {},
   "outputs": [
    {
     "name": "stdout",
     "output_type": "stream",
     "text": [
      "Hello\n",
      "Hello\n",
      "Hello\n",
      "Hello\n",
      "Hello\n"
     ]
    }
   ],
   "source": [
    "for i in range(5):\n",
    "    print('Hello')"
   ]
  },
  {
   "cell_type": "code",
   "execution_count": 149,
   "id": "ce2b2095",
   "metadata": {},
   "outputs": [
    {
     "name": "stdout",
     "output_type": "stream",
     "text": [
      "Hello\n",
      "Hello\n",
      "Hello\n",
      "Hello\n",
      "Hello\n"
     ]
    }
   ],
   "source": [
    "i=1 # counter intialisation\n",
    "\n",
    "while i<=5: # Condition\n",
    "    print('Hello')\n",
    "    i+=1 # Increment"
   ]
  },
  {
   "cell_type": "code",
   "execution_count": 1,
   "id": "c9085b6c",
   "metadata": {},
   "outputs": [],
   "source": [
    "# i=1\n",
    "\n",
    "# while i<=5:\n",
    "#     print('Hello')\n",
    "#     print(i)"
   ]
  },
  {
   "cell_type": "code",
   "execution_count": 1,
   "id": "201b0879",
   "metadata": {},
   "outputs": [],
   "source": [
    "# i=1 # counter intialisation\n",
    "\n",
    "# while i<=5: # Condition\n",
    "#     print('Hello')\n",
    "#     i-=1"
   ]
  },
  {
   "cell_type": "code",
   "execution_count": 21,
   "id": "37c0758f",
   "metadata": {},
   "outputs": [
    {
     "name": "stdout",
     "output_type": "stream",
     "text": [
      "5 n\n",
      "4 o\n",
      "3 h\n",
      "2 t\n",
      "1 y\n",
      "0 P\n"
     ]
    }
   ],
   "source": [
    "# Reverse the following string using while loop\n",
    "\n",
    "my_str='Python' #Reverse indexes [5,4,3,2,1,0] or [-1,-2,-3,-4,-5,-6]\n",
    "\n",
    "start=5\n",
    "stop=0\n",
    "\n",
    "while start>=stop:\n",
    "    print(start,my_str[start])\n",
    "    start-=1\n"
   ]
  },
  {
   "cell_type": "code",
   "execution_count": 11,
   "id": "44ed12a2",
   "metadata": {},
   "outputs": [
    {
     "name": "stdout",
     "output_type": "stream",
     "text": [
      "-1 n\n",
      "-2 o\n",
      "-3 h\n",
      "-4 t\n",
      "-5 y\n",
      "-6 P\n"
     ]
    }
   ],
   "source": [
    "i=-1\n",
    "\n",
    "while i>=-6:\n",
    "    print(i,my_str[i])\n",
    "    i-=1"
   ]
  },
  {
   "cell_type": "code",
   "execution_count": 23,
   "id": "a1b5d44d",
   "metadata": {},
   "outputs": [
    {
     "name": "stdout",
     "output_type": "stream",
     "text": [
      "5\n",
      "5 n\n",
      "4 o\n",
      "3 h\n",
      "2 t\n",
      "1 y\n",
      "0 P\n"
     ]
    }
   ],
   "source": [
    "my_str='Python' #[5,4,3,2,1,0]\n",
    "\n",
    "i=len(my_str)-1\n",
    "print(i)\n",
    "\n",
    "while i>=0:\n",
    "    print(i,my_str[i])\n",
    "    i-=1"
   ]
  },
  {
   "cell_type": "code",
   "execution_count": 1,
   "id": "3c58c954",
   "metadata": {},
   "outputs": [
    {
     "name": "stdout",
     "output_type": "stream",
     "text": [
      "n\n",
      "o\n",
      "h\n",
      "t\n",
      "y\n",
      "P\n"
     ]
    }
   ],
   "source": [
    "my_str='Python' # [-1,-2,-3,-4,-5,-6]\n",
    "\n",
    "i=-1\n",
    "\n",
    "while i>=-len(my_str):\n",
    "    print(my_str[i])\n",
    "    i-=1"
   ]
  },
  {
   "cell_type": "code",
   "execution_count": 34,
   "id": "c3f53020",
   "metadata": {},
   "outputs": [
    {
     "name": "stdout",
     "output_type": "stream",
     "text": [
      "7 80\n",
      "5 60\n",
      "3 40\n",
      "1 20\n"
     ]
    }
   ],
   "source": [
    "lst=[10,20,30,40,50,60,70,80]\n",
    "# Print every alternate element in the reverse order using while loop\n",
    "# Output- [80,60,40,20]\n",
    "\n",
    "i=len(lst)-1\n",
    "\n",
    "while i >=0:\n",
    "    print(i,lst[i])\n",
    "    i=i-2"
   ]
  },
  {
   "cell_type": "markdown",
   "id": "21d544f0",
   "metadata": {},
   "source": [
    "# while True"
   ]
  },
  {
   "cell_type": "markdown",
   "id": "f1addd66",
   "metadata": {},
   "source": [
    "- while True is always True so it executes the code infinite times until we break (terminate) it.\n",
    "- break statement is used to terminate the while True loop"
   ]
  },
  {
   "cell_type": "code",
   "execution_count": 35,
   "id": "25892667",
   "metadata": {},
   "outputs": [
    {
     "name": "stdout",
     "output_type": "stream",
     "text": [
      "Enter your name- Sairam\n",
      "Invalid name\n",
      "Enter your name again- Purvi\n",
      "Invalid name\n",
      "Enter your name again- Asrar\n",
      "Invalid name\n",
      "Enter your name again- Diwaker\n",
      "Invalid name\n",
      "Enter your name again- Ashish Som\n",
      "Invalid name\n",
      "Enter your name again- Vaishali\n",
      "Hello Vaishali\n",
      "You have successfully logged in.\n"
     ]
    }
   ],
   "source": [
    "user_name='Vaishali'\n",
    "\n",
    "name=input('Enter your name- ')\n",
    "\n",
    "while True:    \n",
    "    if name==user_name:\n",
    "        print(f'Hello {name}')\n",
    "        print('You have successfully logged in.')\n",
    "        break\n",
    "    else:\n",
    "        print('Invalid name')\n",
    "        name=input('Enter your name again- ')"
   ]
  },
  {
   "cell_type": "code",
   "execution_count": 36,
   "id": "97ff613f",
   "metadata": {
    "scrolled": false
   },
   "outputs": [
    {
     "name": "stdout",
     "output_type": "stream",
     "text": [
      "Enter your name- Hemmanth\n",
      "Invalid name\n",
      "Enter your name again- Satish\n",
      "Enter your name- Satish\n",
      "Invalid name\n",
      "Enter your name again- Diwakar\n",
      "Enter your name- Diwakar\n",
      "Invalid name\n",
      "Enter your name again- Vaishali\n",
      "Enter your name- Vaishali\n",
      "Hello Vaishali\n",
      "You have successfully logged in.\n"
     ]
    }
   ],
   "source": [
    "user_name='Vaishali'\n",
    "\n",
    "while True:    \n",
    "    \n",
    "    name=input('Enter your name- ')\n",
    "    \n",
    "    if name==user_name:\n",
    "        print(f'Hello {name}')\n",
    "        print('You have successfully logged in.')\n",
    "        break\n",
    "    else:\n",
    "        print('Invalid name')\n",
    "        name=input('Enter your name again- ')"
   ]
  },
  {
   "cell_type": "code",
   "execution_count": 37,
   "id": "186b8be6",
   "metadata": {},
   "outputs": [
    {
     "name": "stdout",
     "output_type": "stream",
     "text": [
      "Enter your name- Amit\n",
      "Invalid name\n",
      "Vaishali\n",
      "Hello Vaishali\n",
      "You have successfully logged in.\n"
     ]
    }
   ],
   "source": [
    "user_name='Vaishali'\n",
    "\n",
    "name=input('Enter your name- ')\n",
    "\n",
    "while True:    \n",
    "    if name==user_name:\n",
    "        print(f'Hello {name}')\n",
    "        print('You have successfully logged in.')\n",
    "        break\n",
    "    else:\n",
    "        print('Invalid name')\n",
    "        name=input()"
   ]
  },
  {
   "cell_type": "code",
   "execution_count": 41,
   "id": "5d812d03",
   "metadata": {},
   "outputs": [
    {
     "name": "stdout",
     "output_type": "stream",
     "text": [
      "Enter the marks in Maths- 32\n",
      "Enter the marks in English- 32\n",
      "Enter the marks in Science- 25\n",
      "fail\n"
     ]
    }
   ],
   "source": [
    "math=int(input('Enter the marks in Maths- '))\n",
    "eng=int(input('Enter the marks in English- '))\n",
    "sci=int(input('Enter the marks in Science- '))\n",
    "\n",
    "total_marks = math + eng + sci \n",
    "percentage = (total_marks/300)*100\n",
    "        \n",
    "if percentage >=60:\n",
    "    print(\"first division\",percentage,\"welldone\")\n",
    "    \n",
    "elif percentage >=45:\n",
    "        print(\"second division\",percentage)\n",
    "    \n",
    "elif percentage >=33:\n",
    "        print(\"third division\",percentage)\n",
    "else:\n",
    "        print(\"fail\")\n"
   ]
  },
  {
   "cell_type": "code",
   "execution_count": 44,
   "id": "ef7821da",
   "metadata": {},
   "outputs": [
    {
     "name": "stdout",
     "output_type": "stream",
     "text": [
      "55.0\n",
      "61.0\n",
      "56.0\n"
     ]
    }
   ],
   "source": [
    "# total marks*100/(3*100)"
   ]
  },
  {
   "cell_type": "code",
   "execution_count": null,
   "id": "21777217",
   "metadata": {},
   "outputs": [],
   "source": []
  }
 ],
 "metadata": {
  "kernelspec": {
   "display_name": "Python 3 (ipykernel)",
   "language": "python",
   "name": "python3"
  },
  "language_info": {
   "codemirror_mode": {
    "name": "ipython",
    "version": 3
   },
   "file_extension": ".py",
   "mimetype": "text/x-python",
   "name": "python",
   "nbconvert_exporter": "python",
   "pygments_lexer": "ipython3",
   "version": "3.9.13"
  }
 },
 "nbformat": 4,
 "nbformat_minor": 5
}
