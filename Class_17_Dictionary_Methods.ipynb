{
 "cells": [
  {
   "cell_type": "markdown",
   "id": "a7049351",
   "metadata": {},
   "source": [
    "# How to iterate over a nested dictionary"
   ]
  },
  {
   "cell_type": "code",
   "execution_count": 42,
   "id": "82ae0bfc",
   "metadata": {},
   "outputs": [],
   "source": [
    "emp_details={'emp_1':{'Name':'Sairam',\n",
    "                     'ID':101,\n",
    "                      'Salary':55000,\n",
    "                     'City':'Pune'},\n",
    "            'emp_2':{'Name':'Rajesh',\n",
    "                     'ID':102,\n",
    "                      'Salary':56000,\n",
    "                     'City':'Delhi'},\n",
    "            'emp_3':{'Name':'Ganesh',\n",
    "                     'ID':103,\n",
    "                      'Salary':60000,\n",
    "                     'City':'Chennai'},\n",
    "            'emp_4':{'Name':'Aniket',\n",
    "                     'ID':104,\n",
    "                      'Salary':65000,\n",
    "                     'City':'Bangalore'}}"
   ]
  },
  {
   "cell_type": "code",
   "execution_count": 2,
   "id": "3433ed07",
   "metadata": {},
   "outputs": [
    {
     "data": {
      "text/plain": [
       "{'emp_1': {'Name': 'Sairam', 'ID': 101, 'Salary': 55000, 'City': 'Pune'},\n",
       " 'emp_2': {'Name': 'Rajesh', 'ID': 102, 'Salary': 56000, 'City': 'Delhi'},\n",
       " 'emp_3': {'Name': 'Ganesh', 'ID': 103, 'Salary': 60000, 'City': 'Chennai'},\n",
       " 'emp_4': {'Name': 'Aniket', 'ID': 104, 'Salary': 65000, 'City': 'Bangalore'}}"
      ]
     },
     "execution_count": 2,
     "metadata": {},
     "output_type": "execute_result"
    }
   ],
   "source": [
    "emp_details"
   ]
  },
  {
   "cell_type": "code",
   "execution_count": 6,
   "id": "db3edacc",
   "metadata": {},
   "outputs": [
    {
     "data": {
      "text/plain": [
       "{'Name': 'Sairam', 'ID': 101, 'Salary': 55000, 'City': 'Pune'}"
      ]
     },
     "execution_count": 6,
     "metadata": {},
     "output_type": "execute_result"
    }
   ],
   "source": [
    "emp_details['emp_1']"
   ]
  },
  {
   "cell_type": "code",
   "execution_count": 5,
   "id": "859e5df8",
   "metadata": {},
   "outputs": [
    {
     "name": "stdout",
     "output_type": "stream",
     "text": [
      "emp_1\n",
      "emp_2\n",
      "emp_3\n",
      "emp_4\n"
     ]
    }
   ],
   "source": [
    "for i in emp_details:\n",
    "    print(i)"
   ]
  },
  {
   "cell_type": "code",
   "execution_count": 8,
   "id": "c8ac3e82",
   "metadata": {},
   "outputs": [
    {
     "name": "stdout",
     "output_type": "stream",
     "text": [
      "{'Name': 'Sairam', 'ID': 101, 'Salary': 55000, 'City': 'Pune'}\n",
      "{'Name': 'Rajesh', 'ID': 102, 'Salary': 56000, 'City': 'Delhi'}\n",
      "{'Name': 'Ganesh', 'ID': 103, 'Salary': 60000, 'City': 'Chennai'}\n",
      "{'Name': 'Aniket', 'ID': 104, 'Salary': 65000, 'City': 'Bangalore'}\n"
     ]
    }
   ],
   "source": [
    "for i in emp_details:\n",
    "    print(emp_details[i])"
   ]
  },
  {
   "cell_type": "code",
   "execution_count": 9,
   "id": "7471e4d3",
   "metadata": {},
   "outputs": [],
   "source": [
    "# Names of all the employees"
   ]
  },
  {
   "cell_type": "code",
   "execution_count": 13,
   "id": "c8bcbbe9",
   "metadata": {},
   "outputs": [
    {
     "name": "stdout",
     "output_type": "stream",
     "text": [
      "Sairam\n",
      "Rajesh\n",
      "Ganesh\n",
      "Aniket\n"
     ]
    }
   ],
   "source": [
    "for i in emp_details:\n",
    "    print(emp_details[i]['Name'])"
   ]
  },
  {
   "cell_type": "code",
   "execution_count": 20,
   "id": "9e96dc7a",
   "metadata": {},
   "outputs": [
    {
     "name": "stdout",
     "output_type": "stream",
     "text": [
      "Sairam 101\n",
      "Rajesh 102\n",
      "Ganesh 103\n",
      "Aniket 104\n"
     ]
    }
   ],
   "source": [
    "# Names and the codes of all the employess\n",
    "\n",
    "for i in emp_details:\n",
    "    print(emp_details[i]['Name'],emp_details[i]['ID'])"
   ]
  },
  {
   "cell_type": "code",
   "execution_count": 31,
   "id": "eb689f50",
   "metadata": {},
   "outputs": [
    {
     "name": "stdout",
     "output_type": "stream",
     "text": [
      "102\n"
     ]
    }
   ],
   "source": [
    "# I want the ID of Rajesh\n",
    "\n",
    "for i in emp_details:\n",
    "    if emp_details[i]['Name']=='Rajesh':\n",
    "        print(emp_details[i]['ID'])"
   ]
  },
  {
   "cell_type": "code",
   "execution_count": 43,
   "id": "b14ce002",
   "metadata": {},
   "outputs": [],
   "source": [
    "# Change the city of Ganesh to Mumbai\n",
    "\n",
    "for i in emp_details:\n",
    "    if emp_details[i]['Name']=='Ganesh':\n",
    "        emp_details[i]['City']='Mumbai'"
   ]
  },
  {
   "cell_type": "code",
   "execution_count": 44,
   "id": "6baccf9f",
   "metadata": {},
   "outputs": [
    {
     "data": {
      "text/plain": [
       "{'emp_1': {'Name': 'Sairam', 'ID': 101, 'Salary': 55000, 'City': 'Pune'},\n",
       " 'emp_2': {'Name': 'Rajesh', 'ID': 102, 'Salary': 56000, 'City': 'Delhi'},\n",
       " 'emp_3': {'Name': 'Ganesh', 'ID': 103, 'Salary': 60000, 'City': 'Mumbai'},\n",
       " 'emp_4': {'Name': 'Aniket', 'ID': 104, 'Salary': 65000, 'City': 'Bangalore'}}"
      ]
     },
     "execution_count": 44,
     "metadata": {},
     "output_type": "execute_result"
    }
   ],
   "source": [
    "emp_details"
   ]
  },
  {
   "cell_type": "markdown",
   "id": "6e5b5f8e",
   "metadata": {},
   "source": [
    "# Dictionary Methods"
   ]
  },
  {
   "cell_type": "code",
   "execution_count": 39,
   "id": "988548b5",
   "metadata": {},
   "outputs": [
    {
     "name": "stdout",
     "output_type": "stream",
     "text": [
      "['__class__', '__class_getitem__', '__contains__', '__delattr__', '__delitem__', '__dir__', '__doc__', '__eq__', '__format__', '__ge__', '__getattribute__', '__getitem__', '__gt__', '__hash__', '__init__', '__init_subclass__', '__ior__', '__iter__', '__le__', '__len__', '__lt__', '__ne__', '__new__', '__or__', '__reduce__', '__reduce_ex__', '__repr__', '__reversed__', '__ror__', '__setattr__', '__setitem__', '__sizeof__', '__str__', '__subclasshook__', 'clear', 'copy', 'fromkeys', 'get', 'items', 'keys', 'pop', 'popitem', 'setdefault', 'update', 'values']\n"
     ]
    }
   ],
   "source": [
    "print(dir(dict))"
   ]
  },
  {
   "cell_type": "code",
   "execution_count": 45,
   "id": "4bd93213",
   "metadata": {},
   "outputs": [],
   "source": [
    "# 'clear', 'copy', 'fromkeys', 'get', 'items', 'keys', 'pop', 'popitem', 'setdefault', 'update', 'values'"
   ]
  },
  {
   "cell_type": "markdown",
   "id": "b16078f7",
   "metadata": {},
   "source": [
    "# keys()"
   ]
  },
  {
   "cell_type": "markdown",
   "id": "883ed558",
   "metadata": {},
   "source": [
    "- It returns a dict_keys object and the dict_keys object contains a list of the list keys from the dictionary."
   ]
  },
  {
   "cell_type": "code",
   "execution_count": 46,
   "id": "e5ffd58f",
   "metadata": {},
   "outputs": [
    {
     "name": "stdout",
     "output_type": "stream",
     "text": [
      "{1: 100, 2: 200, 3: 300, 4: 400} <class 'dict'>\n"
     ]
    }
   ],
   "source": [
    "d={1:100,2:200,3:300,4:400}\n",
    "print(d,type(d))"
   ]
  },
  {
   "cell_type": "code",
   "execution_count": 47,
   "id": "688eefb3",
   "metadata": {},
   "outputs": [
    {
     "data": {
      "text/plain": [
       "dict_keys([1, 2, 3, 4])"
      ]
     },
     "execution_count": 47,
     "metadata": {},
     "output_type": "execute_result"
    }
   ],
   "source": [
    "d.keys()"
   ]
  },
  {
   "cell_type": "code",
   "execution_count": 49,
   "id": "54a76a58",
   "metadata": {},
   "outputs": [
    {
     "data": {
      "text/plain": [
       "dict_keys(['emp_1', 'emp_2', 'emp_3', 'emp_4'])"
      ]
     },
     "execution_count": 49,
     "metadata": {},
     "output_type": "execute_result"
    }
   ],
   "source": [
    "emp_details.keys()"
   ]
  },
  {
   "cell_type": "markdown",
   "id": "e3ea1e53",
   "metadata": {},
   "source": [
    "# values()"
   ]
  },
  {
   "cell_type": "markdown",
   "id": "f8c6610a",
   "metadata": {},
   "source": [
    "- It returns a dict_values object. The dict_values object contains a list of the values from the dictionary."
   ]
  },
  {
   "cell_type": "code",
   "execution_count": 50,
   "id": "e25c7c2b",
   "metadata": {},
   "outputs": [
    {
     "data": {
      "text/plain": [
       "{1: 100, 2: 200, 3: 300, 4: 400}"
      ]
     },
     "execution_count": 50,
     "metadata": {},
     "output_type": "execute_result"
    }
   ],
   "source": [
    "d"
   ]
  },
  {
   "cell_type": "code",
   "execution_count": 51,
   "id": "d93d1b0a",
   "metadata": {},
   "outputs": [
    {
     "data": {
      "text/plain": [
       "dict_values([100, 200, 300, 400])"
      ]
     },
     "execution_count": 51,
     "metadata": {},
     "output_type": "execute_result"
    }
   ],
   "source": [
    "d.values()"
   ]
  },
  {
   "cell_type": "code",
   "execution_count": 52,
   "id": "71c77f8c",
   "metadata": {},
   "outputs": [
    {
     "data": {
      "text/plain": [
       "{'emp_1': {'Name': 'Sairam', 'ID': 101, 'Salary': 55000, 'City': 'Pune'},\n",
       " 'emp_2': {'Name': 'Rajesh', 'ID': 102, 'Salary': 56000, 'City': 'Delhi'},\n",
       " 'emp_3': {'Name': 'Ganesh', 'ID': 103, 'Salary': 60000, 'City': 'Mumbai'},\n",
       " 'emp_4': {'Name': 'Aniket', 'ID': 104, 'Salary': 65000, 'City': 'Bangalore'}}"
      ]
     },
     "execution_count": 52,
     "metadata": {},
     "output_type": "execute_result"
    }
   ],
   "source": [
    "emp_details"
   ]
  },
  {
   "cell_type": "code",
   "execution_count": 53,
   "id": "58551304",
   "metadata": {},
   "outputs": [
    {
     "data": {
      "text/plain": [
       "dict_values([{'Name': 'Sairam', 'ID': 101, 'Salary': 55000, 'City': 'Pune'}, {'Name': 'Rajesh', 'ID': 102, 'Salary': 56000, 'City': 'Delhi'}, {'Name': 'Ganesh', 'ID': 103, 'Salary': 60000, 'City': 'Mumbai'}, {'Name': 'Aniket', 'ID': 104, 'Salary': 65000, 'City': 'Bangalore'}])"
      ]
     },
     "execution_count": 53,
     "metadata": {},
     "output_type": "execute_result"
    }
   ],
   "source": [
    "emp_details.values()"
   ]
  },
  {
   "cell_type": "code",
   "execution_count": 54,
   "id": "72ad5bfc",
   "metadata": {},
   "outputs": [],
   "source": [
    "# Inner keys"
   ]
  },
  {
   "cell_type": "code",
   "execution_count": 57,
   "id": "cd604e7e",
   "metadata": {},
   "outputs": [
    {
     "data": {
      "text/plain": [
       "dict_keys(['Name', 'ID', 'Salary', 'City'])"
      ]
     },
     "execution_count": 57,
     "metadata": {},
     "output_type": "execute_result"
    }
   ],
   "source": [
    "emp_details['emp_1'].keys()"
   ]
  },
  {
   "cell_type": "code",
   "execution_count": 60,
   "id": "b64b9f8e",
   "metadata": {},
   "outputs": [
    {
     "data": {
      "text/plain": [
       "dict_values(['Sairam', 101, 55000, 'Pune'])"
      ]
     },
     "execution_count": 60,
     "metadata": {},
     "output_type": "execute_result"
    }
   ],
   "source": [
    "emp_details['emp_1'].values()"
   ]
  },
  {
   "cell_type": "code",
   "execution_count": 63,
   "id": "42928740",
   "metadata": {},
   "outputs": [
    {
     "name": "stdout",
     "output_type": "stream",
     "text": [
      "dict_keys(['Name', 'ID', 'Salary', 'City'])\n",
      "dict_keys(['Name', 'ID', 'Salary', 'City'])\n",
      "dict_keys(['Name', 'ID', 'Salary', 'City'])\n",
      "dict_keys(['Name', 'ID', 'Salary', 'City'])\n"
     ]
    }
   ],
   "source": [
    "for i in emp_details:\n",
    "    print(emp_details[i].keys())"
   ]
  },
  {
   "cell_type": "code",
   "execution_count": 64,
   "id": "124094e3",
   "metadata": {},
   "outputs": [
    {
     "name": "stdout",
     "output_type": "stream",
     "text": [
      "dict_values(['Sairam', 101, 55000, 'Pune'])\n",
      "dict_values(['Rajesh', 102, 56000, 'Delhi'])\n",
      "dict_values(['Ganesh', 103, 60000, 'Mumbai'])\n",
      "dict_values(['Aniket', 104, 65000, 'Bangalore'])\n"
     ]
    }
   ],
   "source": [
    "for i in emp_details:\n",
    "    print(emp_details[i].values())"
   ]
  },
  {
   "cell_type": "markdown",
   "id": "e777e84a",
   "metadata": {},
   "source": [
    "# items()"
   ]
  },
  {
   "cell_type": "markdown",
   "id": "413a7a30",
   "metadata": {},
   "source": [
    "- It returns a dict_items object. The dict_items object contains a list of tuples where every tuple has two elements.\n",
    "- The first element in the tuple is the key and the second element is the value from the dictionary."
   ]
  },
  {
   "cell_type": "code",
   "execution_count": 65,
   "id": "d6c31cc8",
   "metadata": {},
   "outputs": [
    {
     "data": {
      "text/plain": [
       "{1: 100, 2: 200, 3: 300, 4: 400}"
      ]
     },
     "execution_count": 65,
     "metadata": {},
     "output_type": "execute_result"
    }
   ],
   "source": [
    "d"
   ]
  },
  {
   "cell_type": "code",
   "execution_count": 66,
   "id": "b4510a63",
   "metadata": {},
   "outputs": [
    {
     "data": {
      "text/plain": [
       "dict_items([(1, 100), (2, 200), (3, 300), (4, 400)])"
      ]
     },
     "execution_count": 66,
     "metadata": {},
     "output_type": "execute_result"
    }
   ],
   "source": [
    "d.items()"
   ]
  },
  {
   "cell_type": "code",
   "execution_count": 67,
   "id": "d704ecf1",
   "metadata": {},
   "outputs": [
    {
     "data": {
      "text/plain": [
       "{1: 100, 2: 200, 3: 300, 4: 400}"
      ]
     },
     "execution_count": 67,
     "metadata": {},
     "output_type": "execute_result"
    }
   ],
   "source": [
    "dict([(1, 100), (2, 200), (3, 300), (4, 400)])"
   ]
  },
  {
   "cell_type": "code",
   "execution_count": 69,
   "id": "96b0d16e",
   "metadata": {},
   "outputs": [
    {
     "name": "stdout",
     "output_type": "stream",
     "text": [
      "(1, 100)\n",
      "(2, 200)\n",
      "(3, 300)\n",
      "(4, 400)\n"
     ]
    }
   ],
   "source": [
    "for i in d.items():\n",
    "    print(i)"
   ]
  },
  {
   "cell_type": "code",
   "execution_count": 76,
   "id": "c0b0ea7e",
   "metadata": {},
   "outputs": [
    {
     "data": {
      "text/plain": [
       "(1, 100)"
      ]
     },
     "execution_count": 76,
     "metadata": {},
     "output_type": "execute_result"
    }
   ],
   "source": [
    "x=(1,100)\n",
    "x"
   ]
  },
  {
   "cell_type": "code",
   "execution_count": 77,
   "id": "ec746f80",
   "metadata": {},
   "outputs": [
    {
     "data": {
      "text/plain": [
       "1"
      ]
     },
     "execution_count": 77,
     "metadata": {},
     "output_type": "execute_result"
    }
   ],
   "source": [
    "i,j=x\n",
    "i"
   ]
  },
  {
   "cell_type": "code",
   "execution_count": 78,
   "id": "5d6646b3",
   "metadata": {},
   "outputs": [
    {
     "data": {
      "text/plain": [
       "100"
      ]
     },
     "execution_count": 78,
     "metadata": {},
     "output_type": "execute_result"
    }
   ],
   "source": [
    "j"
   ]
  },
  {
   "cell_type": "code",
   "execution_count": 81,
   "id": "2fabe299",
   "metadata": {},
   "outputs": [
    {
     "name": "stdout",
     "output_type": "stream",
     "text": [
      "1 100\n",
      "2 200\n",
      "3 300\n",
      "4 400\n"
     ]
    }
   ],
   "source": [
    "for i,j in d.items():\n",
    "    print(i,j)\n",
    "#     print(j)"
   ]
  },
  {
   "cell_type": "code",
   "execution_count": 83,
   "id": "db86cb9d",
   "metadata": {},
   "outputs": [
    {
     "name": "stdout",
     "output_type": "stream",
     "text": [
      "('emp_1', {'Name': 'Sairam', 'ID': 101, 'Salary': 55000, 'City': 'Pune'})\n",
      "('emp_2', {'Name': 'Rajesh', 'ID': 102, 'Salary': 56000, 'City': 'Delhi'})\n",
      "('emp_3', {'Name': 'Ganesh', 'ID': 103, 'Salary': 60000, 'City': 'Mumbai'})\n",
      "('emp_4', {'Name': 'Aniket', 'ID': 104, 'Salary': 65000, 'City': 'Bangalore'})\n"
     ]
    }
   ],
   "source": [
    "for i in emp_details.items():\n",
    "    print(i)"
   ]
  },
  {
   "cell_type": "code",
   "execution_count": 85,
   "id": "14d3782d",
   "metadata": {},
   "outputs": [
    {
     "name": "stdout",
     "output_type": "stream",
     "text": [
      "emp_1\n",
      "{'Name': 'Sairam', 'ID': 101, 'Salary': 55000, 'City': 'Pune'}\n",
      "emp_2\n",
      "{'Name': 'Rajesh', 'ID': 102, 'Salary': 56000, 'City': 'Delhi'}\n",
      "emp_3\n",
      "{'Name': 'Ganesh', 'ID': 103, 'Salary': 60000, 'City': 'Mumbai'}\n",
      "emp_4\n",
      "{'Name': 'Aniket', 'ID': 104, 'Salary': 65000, 'City': 'Bangalore'}\n"
     ]
    }
   ],
   "source": [
    "for i,j in emp_details.items():\n",
    "    print(i)\n",
    "    print(j)"
   ]
  },
  {
   "cell_type": "code",
   "execution_count": 86,
   "id": "096557ed",
   "metadata": {},
   "outputs": [
    {
     "name": "stdout",
     "output_type": "stream",
     "text": [
      "emp_1\n",
      "dict_items([('Name', 'Sairam'), ('ID', 101), ('Salary', 55000), ('City', 'Pune')])\n",
      "emp_2\n",
      "dict_items([('Name', 'Rajesh'), ('ID', 102), ('Salary', 56000), ('City', 'Delhi')])\n",
      "emp_3\n",
      "dict_items([('Name', 'Ganesh'), ('ID', 103), ('Salary', 60000), ('City', 'Mumbai')])\n",
      "emp_4\n",
      "dict_items([('Name', 'Aniket'), ('ID', 104), ('Salary', 65000), ('City', 'Bangalore')])\n"
     ]
    }
   ],
   "source": [
    "for i,j in emp_details.items():\n",
    "    print(i)\n",
    "    print(j.items())"
   ]
  },
  {
   "cell_type": "code",
   "execution_count": 88,
   "id": "1ba34fa5",
   "metadata": {},
   "outputs": [
    {
     "name": "stdout",
     "output_type": "stream",
     "text": [
      "emp_1\n",
      "('Name', 'Sairam')\n",
      "('ID', 101)\n",
      "('Salary', 55000)\n",
      "('City', 'Pune')\n",
      "\n",
      "emp_2\n",
      "('Name', 'Rajesh')\n",
      "('ID', 102)\n",
      "('Salary', 56000)\n",
      "('City', 'Delhi')\n",
      "\n",
      "emp_3\n",
      "('Name', 'Ganesh')\n",
      "('ID', 103)\n",
      "('Salary', 60000)\n",
      "('City', 'Mumbai')\n",
      "\n",
      "emp_4\n",
      "('Name', 'Aniket')\n",
      "('ID', 104)\n",
      "('Salary', 65000)\n",
      "('City', 'Bangalore')\n",
      "\n"
     ]
    }
   ],
   "source": [
    "for i,j in emp_details.items():\n",
    "    print(i)\n",
    "    for x in j.items():\n",
    "        print(x)\n",
    "    print()"
   ]
  },
  {
   "cell_type": "code",
   "execution_count": 96,
   "id": "9503125f",
   "metadata": {},
   "outputs": [
    {
     "name": "stdout",
     "output_type": "stream",
     "text": [
      "{'Name': 'Sairam', 'ID': 101, 'Salary': 55000, 'City': 'Pune'}\n",
      "Name Sairam\n",
      "ID 101\n",
      "Salary 55000\n",
      "City Pune\n",
      "\n",
      "{'Name': 'Rajesh', 'ID': 102, 'Salary': 56000, 'City': 'Delhi'}\n",
      "Name Rajesh\n",
      "ID 102\n",
      "Salary 56000\n",
      "City Delhi\n",
      "\n",
      "{'Name': 'Ganesh', 'ID': 103, 'Salary': 60000, 'City': 'Mumbai'}\n",
      "Name Ganesh\n",
      "ID 103\n",
      "Salary 60000\n",
      "City Mumbai\n",
      "\n",
      "{'Name': 'Aniket', 'ID': 104, 'Salary': 65000, 'City': 'Bangalore'}\n",
      "Name Aniket\n",
      "ID 104\n",
      "Salary 65000\n",
      "City Bangalore\n",
      "\n"
     ]
    }
   ],
   "source": [
    "for i,j in emp_details.items():\n",
    "    print(j)\n",
    "    for x,y in j.items():\n",
    "        print(x,y)\n",
    "    print()"
   ]
  },
  {
   "cell_type": "markdown",
   "id": "9b3e4047",
   "metadata": {},
   "source": [
    "# update()"
   ]
  },
  {
   "cell_type": "markdown",
   "id": "2a3f96f8",
   "metadata": {},
   "source": [
    "- It is used to update the elements of one dictionary to another dictionary.\n",
    "- It is used to combine two dictionaries."
   ]
  },
  {
   "cell_type": "code",
   "execution_count": 117,
   "id": "096c359f",
   "metadata": {},
   "outputs": [],
   "source": [
    "# d1.update(d2)\n",
    "# The elements of dictionary d2 will be updated (added) to the dictionary d1\n",
    "# update() takes a dictionary argument (input)"
   ]
  },
  {
   "cell_type": "code",
   "execution_count": 98,
   "id": "2c0a6e9a",
   "metadata": {},
   "outputs": [],
   "source": [
    "d={1:100,2:200}\n",
    "d2={3:300,4:400}"
   ]
  },
  {
   "cell_type": "code",
   "execution_count": 99,
   "id": "d4aa75f7",
   "metadata": {},
   "outputs": [
    {
     "data": {
      "text/plain": [
       "{1: 100, 2: 200}"
      ]
     },
     "execution_count": 99,
     "metadata": {},
     "output_type": "execute_result"
    }
   ],
   "source": [
    "d"
   ]
  },
  {
   "cell_type": "code",
   "execution_count": 100,
   "id": "1839fb51",
   "metadata": {},
   "outputs": [
    {
     "data": {
      "text/plain": [
       "{3: 300, 4: 400}"
      ]
     },
     "execution_count": 100,
     "metadata": {},
     "output_type": "execute_result"
    }
   ],
   "source": [
    "d2"
   ]
  },
  {
   "cell_type": "code",
   "execution_count": 101,
   "id": "4414b17c",
   "metadata": {},
   "outputs": [],
   "source": [
    "d.update(d2)"
   ]
  },
  {
   "cell_type": "code",
   "execution_count": 102,
   "id": "f652bcb1",
   "metadata": {},
   "outputs": [
    {
     "data": {
      "text/plain": [
       "{1: 100, 2: 200, 3: 300, 4: 400}"
      ]
     },
     "execution_count": 102,
     "metadata": {},
     "output_type": "execute_result"
    }
   ],
   "source": [
    "d"
   ]
  },
  {
   "cell_type": "code",
   "execution_count": 103,
   "id": "7079cd90",
   "metadata": {},
   "outputs": [
    {
     "data": {
      "text/plain": [
       "{3: 300, 4: 400}"
      ]
     },
     "execution_count": 103,
     "metadata": {},
     "output_type": "execute_result"
    }
   ],
   "source": [
    "d2"
   ]
  },
  {
   "cell_type": "code",
   "execution_count": 104,
   "id": "dd31efdf",
   "metadata": {},
   "outputs": [],
   "source": [
    "d={1:100,2:200}\n",
    "d2={1:300,2:400}"
   ]
  },
  {
   "cell_type": "code",
   "execution_count": 105,
   "id": "336a05f0",
   "metadata": {},
   "outputs": [
    {
     "data": {
      "text/plain": [
       "{1: 100, 2: 200}"
      ]
     },
     "execution_count": 105,
     "metadata": {},
     "output_type": "execute_result"
    }
   ],
   "source": [
    "d"
   ]
  },
  {
   "cell_type": "code",
   "execution_count": 107,
   "id": "ca0ebccc",
   "metadata": {},
   "outputs": [
    {
     "data": {
      "text/plain": [
       "{1: 300, 2: 400}"
      ]
     },
     "execution_count": 107,
     "metadata": {},
     "output_type": "execute_result"
    }
   ],
   "source": [
    "d2"
   ]
  },
  {
   "cell_type": "code",
   "execution_count": 108,
   "id": "258f9838",
   "metadata": {},
   "outputs": [],
   "source": [
    "d.update(d2)"
   ]
  },
  {
   "cell_type": "code",
   "execution_count": 109,
   "id": "d199218e",
   "metadata": {},
   "outputs": [
    {
     "data": {
      "text/plain": [
       "{1: 300, 2: 400}"
      ]
     },
     "execution_count": 109,
     "metadata": {},
     "output_type": "execute_result"
    }
   ],
   "source": [
    "d"
   ]
  },
  {
   "cell_type": "code",
   "execution_count": 113,
   "id": "5a3bc36b",
   "metadata": {},
   "outputs": [
    {
     "name": "stdout",
     "output_type": "stream",
     "text": [
      "{1: 1, 2: 4, 3: 9, 4: 16, 5: 25, 6: 36, 7: 49, 8: 64, 9: 81, 10: 100}\n"
     ]
    }
   ],
   "source": [
    "# Create a dictionary where the numbers from 1 to 10 are the keys and their squares are the values\n",
    "\n",
    "d={}\n",
    "\n",
    "for i in range(1,11):\n",
    "    d[i]=i**2\n",
    "print(d)"
   ]
  },
  {
   "cell_type": "code",
   "execution_count": 158,
   "id": "7c1b74ee",
   "metadata": {},
   "outputs": [
    {
     "name": "stdout",
     "output_type": "stream",
     "text": [
      "{}\n",
      "{1: 1}\n",
      "{1: 1, 3: 9}\n",
      "{1: 1, 3: 9, 5: 25}\n",
      "{1: 1, 3: 9, 5: 25, 7: 49}\n",
      "{1: 1, 3: 9, 5: 25, 7: 49, 9: 81}\n"
     ]
    }
   ],
   "source": [
    "d={}\n",
    "print(d)\n",
    "for i in range(1,11,2):\n",
    "    d.update({i:i**2})\n",
    "    print(d)"
   ]
  },
  {
   "cell_type": "code",
   "execution_count": 126,
   "id": "c25c33c4",
   "metadata": {},
   "outputs": [
    {
     "name": "stdout",
     "output_type": "stream",
     "text": [
      "{}\n",
      "{1: 1}\n",
      "{1: 1, 3: 9}\n",
      "{1: 1, 3: 9, 5: 25}\n",
      "{1: 1, 3: 9, 5: 25, 7: 49}\n",
      "{1: 1, 3: 9, 5: 25, 7: 49, 9: 81}\n"
     ]
    }
   ],
   "source": [
    "d={}\n",
    "print(d)\n",
    "for i in range(1,11,2):\n",
    "    t={i:i**2}\n",
    "    d.update(t)\n",
    "    print(d)"
   ]
  },
  {
   "cell_type": "code",
   "execution_count": 118,
   "id": "7aad1783",
   "metadata": {},
   "outputs": [],
   "source": [
    "d={}"
   ]
  },
  {
   "cell_type": "code",
   "execution_count": 119,
   "id": "6ccde3d4",
   "metadata": {},
   "outputs": [
    {
     "data": {
      "text/plain": [
       "{}"
      ]
     },
     "execution_count": 119,
     "metadata": {},
     "output_type": "execute_result"
    }
   ],
   "source": [
    "t="
   ]
  },
  {
   "cell_type": "code",
   "execution_count": 123,
   "id": "c7656064",
   "metadata": {},
   "outputs": [],
   "source": [
    "d.update({10:20})"
   ]
  },
  {
   "cell_type": "code",
   "execution_count": 124,
   "id": "77ceb584",
   "metadata": {},
   "outputs": [
    {
     "data": {
      "text/plain": [
       "{10: 20}"
      ]
     },
     "execution_count": 124,
     "metadata": {},
     "output_type": "execute_result"
    }
   ],
   "source": [
    "d"
   ]
  },
  {
   "cell_type": "code",
   "execution_count": 122,
   "id": "d43cc90a",
   "metadata": {},
   "outputs": [
    {
     "data": {
      "text/plain": [
       "{10: 20}"
      ]
     },
     "execution_count": 122,
     "metadata": {},
     "output_type": "execute_result"
    }
   ],
   "source": [
    "{10:20}"
   ]
  },
  {
   "cell_type": "markdown",
   "id": "2f4decbe",
   "metadata": {},
   "source": [
    "# pop()"
   ]
  },
  {
   "cell_type": "markdown",
   "id": "c0895250",
   "metadata": {},
   "source": [
    "- It returns the value at a  specified key from the dictionary and removes the element at that particular key from the dictionary.\n",
    "- For any invalid key it raises the key error."
   ]
  },
  {
   "cell_type": "code",
   "execution_count": 130,
   "id": "019e8d64",
   "metadata": {},
   "outputs": [],
   "source": [
    "# d.pop(key)"
   ]
  },
  {
   "cell_type": "code",
   "execution_count": 133,
   "id": "6f230d6b",
   "metadata": {},
   "outputs": [
    {
     "data": {
      "text/plain": [
       "{1: 1, 3: 9, 5: 25, 7: 49, 9: 81}"
      ]
     },
     "execution_count": 133,
     "metadata": {},
     "output_type": "execute_result"
    }
   ],
   "source": [
    "d"
   ]
  },
  {
   "cell_type": "code",
   "execution_count": 134,
   "id": "f1e50329",
   "metadata": {},
   "outputs": [
    {
     "data": {
      "text/plain": [
       "49"
      ]
     },
     "execution_count": 134,
     "metadata": {},
     "output_type": "execute_result"
    }
   ],
   "source": [
    "d.pop(7)"
   ]
  },
  {
   "cell_type": "code",
   "execution_count": 135,
   "id": "842da889",
   "metadata": {},
   "outputs": [
    {
     "data": {
      "text/plain": [
       "{1: 1, 3: 9, 5: 25, 9: 81}"
      ]
     },
     "execution_count": 135,
     "metadata": {},
     "output_type": "execute_result"
    }
   ],
   "source": [
    "d"
   ]
  },
  {
   "cell_type": "code",
   "execution_count": 137,
   "id": "ef675bbb",
   "metadata": {},
   "outputs": [
    {
     "data": {
      "text/plain": [
       "9"
      ]
     },
     "execution_count": 137,
     "metadata": {},
     "output_type": "execute_result"
    }
   ],
   "source": [
    "d.pop(3)"
   ]
  },
  {
   "cell_type": "code",
   "execution_count": 138,
   "id": "2b5fadb8",
   "metadata": {},
   "outputs": [
    {
     "data": {
      "text/plain": [
       "{1: 1, 5: 25, 9: 81}"
      ]
     },
     "execution_count": 138,
     "metadata": {},
     "output_type": "execute_result"
    }
   ],
   "source": [
    "d"
   ]
  },
  {
   "cell_type": "code",
   "execution_count": 139,
   "id": "8e73fd1d",
   "metadata": {},
   "outputs": [
    {
     "ename": "KeyError",
     "evalue": "100",
     "output_type": "error",
     "traceback": [
      "\u001b[1;31m---------------------------------------------------------------------------\u001b[0m",
      "\u001b[1;31mKeyError\u001b[0m                                  Traceback (most recent call last)",
      "\u001b[1;32m~\\AppData\\Local\\Temp\\ipykernel_5476\\1613678028.py\u001b[0m in \u001b[0;36m<module>\u001b[1;34m\u001b[0m\n\u001b[1;32m----> 1\u001b[1;33m \u001b[0md\u001b[0m\u001b[1;33m.\u001b[0m\u001b[0mpop\u001b[0m\u001b[1;33m(\u001b[0m\u001b[1;36m100\u001b[0m\u001b[1;33m)\u001b[0m\u001b[1;33m\u001b[0m\u001b[1;33m\u001b[0m\u001b[0m\n\u001b[0m",
      "\u001b[1;31mKeyError\u001b[0m: 100"
     ]
    }
   ],
   "source": [
    "d.pop(100)"
   ]
  },
  {
   "cell_type": "code",
   "execution_count": 142,
   "id": "47ffffb4",
   "metadata": {},
   "outputs": [],
   "source": [
    "# d.pop()"
   ]
  },
  {
   "cell_type": "markdown",
   "id": "7867b0c4",
   "metadata": {},
   "source": [
    "# popitem()"
   ]
  },
  {
   "cell_type": "markdown",
   "id": "6e330635",
   "metadata": {},
   "source": [
    "- It returns the last element and  removes it from the dictionary."
   ]
  },
  {
   "cell_type": "code",
   "execution_count": 145,
   "id": "16264343",
   "metadata": {},
   "outputs": [
    {
     "data": {
      "text/plain": [
       "{1: 1, 3: 9, 5: 25, 7: 49, 9: 81}"
      ]
     },
     "execution_count": 145,
     "metadata": {},
     "output_type": "execute_result"
    }
   ],
   "source": [
    "d"
   ]
  },
  {
   "cell_type": "code",
   "execution_count": 146,
   "id": "ea0fca55",
   "metadata": {},
   "outputs": [
    {
     "data": {
      "text/plain": [
       "(9, 81)"
      ]
     },
     "execution_count": 146,
     "metadata": {},
     "output_type": "execute_result"
    }
   ],
   "source": [
    "d.popitem()"
   ]
  },
  {
   "cell_type": "code",
   "execution_count": 147,
   "id": "338c8f18",
   "metadata": {},
   "outputs": [
    {
     "data": {
      "text/plain": [
       "{1: 1, 3: 9, 5: 25, 7: 49}"
      ]
     },
     "execution_count": 147,
     "metadata": {},
     "output_type": "execute_result"
    }
   ],
   "source": [
    "d"
   ]
  },
  {
   "cell_type": "code",
   "execution_count": 148,
   "id": "f0c38734",
   "metadata": {},
   "outputs": [
    {
     "data": {
      "text/plain": [
       "(7, 49)"
      ]
     },
     "execution_count": 148,
     "metadata": {},
     "output_type": "execute_result"
    }
   ],
   "source": [
    "d.popitem()"
   ]
  },
  {
   "cell_type": "code",
   "execution_count": 149,
   "id": "e1126dd7",
   "metadata": {},
   "outputs": [
    {
     "data": {
      "text/plain": [
       "{1: 1, 3: 9, 5: 25}"
      ]
     },
     "execution_count": 149,
     "metadata": {},
     "output_type": "execute_result"
    }
   ],
   "source": [
    "d"
   ]
  },
  {
   "cell_type": "code",
   "execution_count": 150,
   "id": "4a3cf395",
   "metadata": {},
   "outputs": [
    {
     "data": {
      "text/plain": [
       "(5, 25)"
      ]
     },
     "execution_count": 150,
     "metadata": {},
     "output_type": "execute_result"
    }
   ],
   "source": [
    "d.popitem()"
   ]
  },
  {
   "cell_type": "code",
   "execution_count": 151,
   "id": "8e278bb9",
   "metadata": {},
   "outputs": [
    {
     "data": {
      "text/plain": [
       "{1: 1, 3: 9}"
      ]
     },
     "execution_count": 151,
     "metadata": {},
     "output_type": "execute_result"
    }
   ],
   "source": [
    "d"
   ]
  },
  {
   "cell_type": "code",
   "execution_count": 152,
   "id": "3d8cd355",
   "metadata": {},
   "outputs": [
    {
     "data": {
      "text/plain": [
       "(3, 9)"
      ]
     },
     "execution_count": 152,
     "metadata": {},
     "output_type": "execute_result"
    }
   ],
   "source": [
    "d.popitem()"
   ]
  },
  {
   "cell_type": "code",
   "execution_count": 153,
   "id": "98004552",
   "metadata": {},
   "outputs": [
    {
     "data": {
      "text/plain": [
       "{1: 1}"
      ]
     },
     "execution_count": 153,
     "metadata": {},
     "output_type": "execute_result"
    }
   ],
   "source": [
    "d"
   ]
  },
  {
   "cell_type": "code",
   "execution_count": 154,
   "id": "ed0b5062",
   "metadata": {},
   "outputs": [
    {
     "data": {
      "text/plain": [
       "(1, 1)"
      ]
     },
     "execution_count": 154,
     "metadata": {},
     "output_type": "execute_result"
    }
   ],
   "source": [
    "d.popitem()"
   ]
  },
  {
   "cell_type": "code",
   "execution_count": 155,
   "id": "f20f90ae",
   "metadata": {},
   "outputs": [
    {
     "data": {
      "text/plain": [
       "{}"
      ]
     },
     "execution_count": 155,
     "metadata": {},
     "output_type": "execute_result"
    }
   ],
   "source": [
    "d"
   ]
  },
  {
   "cell_type": "code",
   "execution_count": 157,
   "id": "3c7adc18",
   "metadata": {},
   "outputs": [],
   "source": [
    "# d.popitem()"
   ]
  },
  {
   "cell_type": "code",
   "execution_count": 159,
   "id": "ca398469",
   "metadata": {},
   "outputs": [
    {
     "data": {
      "text/plain": [
       "{1: 1, 3: 9, 5: 25, 7: 49, 9: 81}"
      ]
     },
     "execution_count": 159,
     "metadata": {},
     "output_type": "execute_result"
    }
   ],
   "source": [
    "d"
   ]
  },
  {
   "cell_type": "code",
   "execution_count": 171,
   "id": "6b42d077",
   "metadata": {},
   "outputs": [
    {
     "name": "stdout",
     "output_type": "stream",
     "text": [
      "{}\n",
      "{1: 1, 3: 9, 5: 25, 7: 49, 9: 81}\n",
      "5\n",
      "(9, 81)\n",
      "(7, 49)\n",
      "(5, 25)\n",
      "(3, 9)\n",
      "(1, 1)\n"
     ]
    }
   ],
   "source": [
    "d={}\n",
    "print(d)\n",
    "for i in range(1,11,2):\n",
    "    t={i:i**2}\n",
    "    d.update(t)\n",
    "print(d)\n",
    "print(len(d))\n",
    "\n",
    "print(d.popitem())\n",
    "print(d.popitem())\n",
    "print(d.popitem())\n",
    "print(d.popitem())\n",
    "print(d.popitem())"
   ]
  },
  {
   "cell_type": "code",
   "execution_count": 189,
   "id": "5b70e5d1",
   "metadata": {},
   "outputs": [
    {
     "name": "stdout",
     "output_type": "stream",
     "text": [
      "{1: 1, 3: 9, 5: 25, 7: 49, 9: 81}\n",
      "[(9, 81), (7, 49), (5, 25), (3, 9), (1, 1)]\n"
     ]
    }
   ],
   "source": [
    "d={1: 1, 3: 9, 5: 25, 7: 49, 9: 81}\n",
    "print(d)\n",
    "\n",
    "lst=[]\n",
    "for i in range(len(d)):\n",
    "#     lst+=[d.popitem()]\n",
    "    lst.append(d.popitem())\n",
    "    \n",
    "print(lst)"
   ]
  },
  {
   "cell_type": "code",
   "execution_count": 186,
   "id": "047a1863",
   "metadata": {},
   "outputs": [
    {
     "data": {
      "text/plain": [
       "{9: 81, 7: 49, 5: 25, 3: 9, 1: 1}"
      ]
     },
     "execution_count": 186,
     "metadata": {},
     "output_type": "execute_result"
    }
   ],
   "source": [
    "dict(lst)"
   ]
  },
  {
   "cell_type": "code",
   "execution_count": 166,
   "id": "9c8b9bd3",
   "metadata": {},
   "outputs": [],
   "source": [
    "# {1: 1, 3: 9, 5: 25, 7: 49, 9: 81}\n",
    "# Output= {9:81,7:49,5:25,3:9,1:1}"
   ]
  },
  {
   "cell_type": "markdown",
   "id": "ed75491b",
   "metadata": {},
   "source": [
    "# fromkeys()\n",
    "- It is used to assign the same value to multiple keys"
   ]
  },
  {
   "cell_type": "code",
   "execution_count": 197,
   "id": "b3d17fd3",
   "metadata": {},
   "outputs": [],
   "source": [
    "# dict.fromkeys(iterable,value)\n",
    "# Iterable- It should contain the keys "
   ]
  },
  {
   "cell_type": "code",
   "execution_count": 191,
   "id": "3c5ac3e0",
   "metadata": {},
   "outputs": [],
   "source": [
    "names=['Rajesh','Jashobant','Komal','Priya','Srihri','Pooja']\n",
    "# {'Rajesh':'Learnbay','Jashobant':'Lrearnbay'........'Pooja':'Learnbay'}"
   ]
  },
  {
   "cell_type": "code",
   "execution_count": 195,
   "id": "2da69d6d",
   "metadata": {},
   "outputs": [
    {
     "data": {
      "text/plain": [
       "{'Rajesh': 'Learnbay',\n",
       " 'Jashobant': 'Learnbay',\n",
       " 'Komal': 'Learnbay',\n",
       " 'Priya': 'Learnbay',\n",
       " 'Srihri': 'Learnbay',\n",
       " 'Pooja': 'Learnbay'}"
      ]
     },
     "execution_count": 195,
     "metadata": {},
     "output_type": "execute_result"
    }
   ],
   "source": [
    "company={}\n",
    "\n",
    "for i in names:\n",
    "    company.update({i:'Learnbay'})\n",
    "company"
   ]
  },
  {
   "cell_type": "code",
   "execution_count": 200,
   "id": "5fe31ca2",
   "metadata": {},
   "outputs": [
    {
     "data": {
      "text/plain": [
       "{'Rajesh': 'Learnbay',\n",
       " 'Jashobant': 'Learnbay',\n",
       " 'Komal': 'Learnbay',\n",
       " 'Priya': 'Learnbay',\n",
       " 'Srihri': 'Learnbay',\n",
       " 'Pooja': 'Learnbay'}"
      ]
     },
     "execution_count": 200,
     "metadata": {},
     "output_type": "execute_result"
    }
   ],
   "source": [
    "company=dict.fromkeys(names,'Learnbay')\n",
    "company"
   ]
  },
  {
   "cell_type": "markdown",
   "id": "b6b94901",
   "metadata": {},
   "source": [
    "# get()"
   ]
  },
  {
   "cell_type": "markdown",
   "id": "abc1a1d3",
   "metadata": {},
   "source": [
    "- It takes a key as an argument and returns the value at that particular key.\n",
    "- For any invalid key it returns None."
   ]
  },
  {
   "cell_type": "code",
   "execution_count": 201,
   "id": "8148869b",
   "metadata": {},
   "outputs": [
    {
     "data": {
      "text/plain": [
       "{'Rajesh': 'Learnbay',\n",
       " 'Jashobant': 'Learnbay',\n",
       " 'Komal': 'Learnbay',\n",
       " 'Priya': 'Learnbay',\n",
       " 'Srihri': 'Learnbay',\n",
       " 'Pooja': 'Learnbay'}"
      ]
     },
     "execution_count": 201,
     "metadata": {},
     "output_type": "execute_result"
    }
   ],
   "source": [
    "company"
   ]
  },
  {
   "cell_type": "code",
   "execution_count": 202,
   "id": "e63ceb65",
   "metadata": {},
   "outputs": [
    {
     "data": {
      "text/plain": [
       "'Learnbay'"
      ]
     },
     "execution_count": 202,
     "metadata": {},
     "output_type": "execute_result"
    }
   ],
   "source": [
    "company.get('Komal')"
   ]
  },
  {
   "cell_type": "code",
   "execution_count": 205,
   "id": "05549e77",
   "metadata": {},
   "outputs": [
    {
     "data": {
      "text/plain": [
       "'Learnbay'"
      ]
     },
     "execution_count": 205,
     "metadata": {},
     "output_type": "execute_result"
    }
   ],
   "source": [
    "company.get('Srihri')"
   ]
  },
  {
   "cell_type": "code",
   "execution_count": 207,
   "id": "27d51b24",
   "metadata": {},
   "outputs": [
    {
     "name": "stdout",
     "output_type": "stream",
     "text": [
      "None\n"
     ]
    }
   ],
   "source": [
    "print(company.get(100))"
   ]
  },
  {
   "cell_type": "code",
   "execution_count": 208,
   "id": "acb0527f",
   "metadata": {},
   "outputs": [
    {
     "data": {
      "text/plain": [
       "'Learnbay'"
      ]
     },
     "execution_count": 208,
     "metadata": {},
     "output_type": "execute_result"
    }
   ],
   "source": [
    "company['Srihri']"
   ]
  },
  {
   "cell_type": "code",
   "execution_count": 209,
   "id": "ceb88fb3",
   "metadata": {},
   "outputs": [
    {
     "data": {
      "text/plain": [
       "'Learnbay'"
      ]
     },
     "execution_count": 209,
     "metadata": {},
     "output_type": "execute_result"
    }
   ],
   "source": [
    "company.get('Srihri')"
   ]
  },
  {
   "cell_type": "code",
   "execution_count": 210,
   "id": "6ecfb97e",
   "metadata": {},
   "outputs": [
    {
     "ename": "KeyError",
     "evalue": "100",
     "output_type": "error",
     "traceback": [
      "\u001b[1;31m---------------------------------------------------------------------------\u001b[0m",
      "\u001b[1;31mKeyError\u001b[0m                                  Traceback (most recent call last)",
      "\u001b[1;32m~\\AppData\\Local\\Temp\\ipykernel_5476\\4168914881.py\u001b[0m in \u001b[0;36m<module>\u001b[1;34m\u001b[0m\n\u001b[1;32m----> 1\u001b[1;33m \u001b[0mcompany\u001b[0m\u001b[1;33m[\u001b[0m\u001b[1;36m100\u001b[0m\u001b[1;33m]\u001b[0m\u001b[1;33m\u001b[0m\u001b[1;33m\u001b[0m\u001b[0m\n\u001b[0m",
      "\u001b[1;31mKeyError\u001b[0m: 100"
     ]
    }
   ],
   "source": [
    "company[100]"
   ]
  },
  {
   "cell_type": "code",
   "execution_count": 211,
   "id": "f790775b",
   "metadata": {},
   "outputs": [
    {
     "name": "stdout",
     "output_type": "stream",
     "text": [
      "None\n"
     ]
    }
   ],
   "source": [
    "print(company.get(100))"
   ]
  },
  {
   "cell_type": "markdown",
   "id": "384f04e2",
   "metadata": {},
   "source": [
    "# setdefault()"
   ]
  },
  {
   "cell_type": "markdown",
   "id": "0a19dadf",
   "metadata": {},
   "source": [
    "- It takes a key as an argument.\n",
    "- If is already there in the dictionary then it returns the value at that particular key.\n",
    "- If the key does not exist then it creates the and assigns it to None.\n",
    "- We can pass key and value both."
   ]
  },
  {
   "cell_type": "code",
   "execution_count": 219,
   "id": "f1f525f2",
   "metadata": {},
   "outputs": [
    {
     "data": {
      "text/plain": [
       "{'Rajesh': 'Chennai',\n",
       " 'Jashobant': 'Bangalore',\n",
       " 'Komal': 'Noida',\n",
       " 'Priya': 'Mumbai',\n",
       " 'Srihri': 'Hyderabad',\n",
       " 'Pooja': 'Varanasi'}"
      ]
     },
     "execution_count": 219,
     "metadata": {},
     "output_type": "execute_result"
    }
   ],
   "source": [
    "names=['Rajesh','Jashobant','Komal','Priya','Srihri','Pooja']\n",
    "cities=['Chennai','Bangalore','Noida','Mumbai','Hyderabad','Varanasi']\n",
    "\n",
    "emp=dict(zip(names,cities))\n",
    "emp"
   ]
  },
  {
   "cell_type": "code",
   "execution_count": 223,
   "id": "5516148d",
   "metadata": {},
   "outputs": [
    {
     "name": "stdout",
     "output_type": "stream",
     "text": [
      "Noida\n",
      "Chennai\n"
     ]
    }
   ],
   "source": [
    "print(emp.setdefault('Komal'))\n",
    "print(emp.setdefault('Rajesh'))"
   ]
  },
  {
   "cell_type": "code",
   "execution_count": 224,
   "id": "144d45a9",
   "metadata": {},
   "outputs": [],
   "source": [
    "emp.setdefault('Sairam')"
   ]
  },
  {
   "cell_type": "code",
   "execution_count": 225,
   "id": "20e2d5d3",
   "metadata": {},
   "outputs": [
    {
     "data": {
      "text/plain": [
       "{'Rajesh': 'Chennai',\n",
       " 'Jashobant': 'Bangalore',\n",
       " 'Komal': 'Noida',\n",
       " 'Priya': 'Mumbai',\n",
       " 'Srihri': 'Hyderabad',\n",
       " 'Pooja': 'Varanasi',\n",
       " 'Sairam': None}"
      ]
     },
     "execution_count": 225,
     "metadata": {},
     "output_type": "execute_result"
    }
   ],
   "source": [
    "emp"
   ]
  },
  {
   "cell_type": "code",
   "execution_count": 226,
   "id": "ebe7e5f3",
   "metadata": {},
   "outputs": [],
   "source": [
    "emp.setdefault('Diwaker')"
   ]
  },
  {
   "cell_type": "code",
   "execution_count": 227,
   "id": "c35358e0",
   "metadata": {},
   "outputs": [
    {
     "data": {
      "text/plain": [
       "{'Rajesh': 'Chennai',\n",
       " 'Jashobant': 'Bangalore',\n",
       " 'Komal': 'Noida',\n",
       " 'Priya': 'Mumbai',\n",
       " 'Srihri': 'Hyderabad',\n",
       " 'Pooja': 'Varanasi',\n",
       " 'Sairam': None,\n",
       " 'Diwaker': None}"
      ]
     },
     "execution_count": 227,
     "metadata": {},
     "output_type": "execute_result"
    }
   ],
   "source": [
    "emp"
   ]
  },
  {
   "cell_type": "code",
   "execution_count": 229,
   "id": "3b621a62",
   "metadata": {},
   "outputs": [],
   "source": [
    "# emp.setdefault(key,value)\n",
    "# The new key will be assigned to the specified value"
   ]
  },
  {
   "cell_type": "code",
   "execution_count": 230,
   "id": "bfbdb913",
   "metadata": {},
   "outputs": [
    {
     "data": {
      "text/plain": [
       "'Bangalore'"
      ]
     },
     "execution_count": 230,
     "metadata": {},
     "output_type": "execute_result"
    }
   ],
   "source": [
    "emp.setdefault('Purvi','Bangalore')"
   ]
  },
  {
   "cell_type": "code",
   "execution_count": 231,
   "id": "129513a9",
   "metadata": {},
   "outputs": [
    {
     "data": {
      "text/plain": [
       "{'Rajesh': 'Chennai',\n",
       " 'Jashobant': 'Bangalore',\n",
       " 'Komal': 'Noida',\n",
       " 'Priya': 'Mumbai',\n",
       " 'Srihri': 'Hyderabad',\n",
       " 'Pooja': 'Varanasi',\n",
       " 'Sairam': None,\n",
       " 'Diwaker': None,\n",
       " 'Purvi': 'Bangalore'}"
      ]
     },
     "execution_count": 231,
     "metadata": {},
     "output_type": "execute_result"
    }
   ],
   "source": [
    "emp"
   ]
  },
  {
   "cell_type": "code",
   "execution_count": 232,
   "id": "3736d01a",
   "metadata": {},
   "outputs": [
    {
     "data": {
      "text/plain": [
       "'Chandigarh'"
      ]
     },
     "execution_count": 232,
     "metadata": {},
     "output_type": "execute_result"
    }
   ],
   "source": [
    "emp.setdefault('Suraj','Chandigarh')"
   ]
  },
  {
   "cell_type": "code",
   "execution_count": 233,
   "id": "76a5a208",
   "metadata": {},
   "outputs": [
    {
     "data": {
      "text/plain": [
       "{'Rajesh': 'Chennai',\n",
       " 'Jashobant': 'Bangalore',\n",
       " 'Komal': 'Noida',\n",
       " 'Priya': 'Mumbai',\n",
       " 'Srihri': 'Hyderabad',\n",
       " 'Pooja': 'Varanasi',\n",
       " 'Sairam': None,\n",
       " 'Diwaker': None,\n",
       " 'Purvi': 'Bangalore',\n",
       " 'Suraj': 'Chandigarh'}"
      ]
     },
     "execution_count": 233,
     "metadata": {},
     "output_type": "execute_result"
    }
   ],
   "source": [
    "emp"
   ]
  },
  {
   "cell_type": "code",
   "execution_count": 234,
   "id": "e7e958ac",
   "metadata": {},
   "outputs": [],
   "source": [
    "emp.setdefault('Aniket')"
   ]
  },
  {
   "cell_type": "code",
   "execution_count": 235,
   "id": "140ba407",
   "metadata": {},
   "outputs": [
    {
     "data": {
      "text/plain": [
       "{'Rajesh': 'Chennai',\n",
       " 'Jashobant': 'Bangalore',\n",
       " 'Komal': 'Noida',\n",
       " 'Priya': 'Mumbai',\n",
       " 'Srihri': 'Hyderabad',\n",
       " 'Pooja': 'Varanasi',\n",
       " 'Sairam': None,\n",
       " 'Diwaker': None,\n",
       " 'Purvi': 'Bangalore',\n",
       " 'Suraj': 'Chandigarh',\n",
       " 'Aniket': None}"
      ]
     },
     "execution_count": 235,
     "metadata": {},
     "output_type": "execute_result"
    }
   ],
   "source": [
    "emp"
   ]
  },
  {
   "cell_type": "code",
   "execution_count": 236,
   "id": "f9b4ad34",
   "metadata": {},
   "outputs": [],
   "source": [
    "emp.setdefault('Sairam','Pune')"
   ]
  },
  {
   "cell_type": "code",
   "execution_count": 237,
   "id": "cb2e1b2e",
   "metadata": {},
   "outputs": [
    {
     "data": {
      "text/plain": [
       "{'Rajesh': 'Chennai',\n",
       " 'Jashobant': 'Bangalore',\n",
       " 'Komal': 'Noida',\n",
       " 'Priya': 'Mumbai',\n",
       " 'Srihri': 'Hyderabad',\n",
       " 'Pooja': 'Varanasi',\n",
       " 'Sairam': None,\n",
       " 'Diwaker': None,\n",
       " 'Purvi': 'Bangalore',\n",
       " 'Suraj': 'Chandigarh',\n",
       " 'Aniket': None}"
      ]
     },
     "execution_count": 237,
     "metadata": {},
     "output_type": "execute_result"
    }
   ],
   "source": [
    "emp"
   ]
  },
  {
   "cell_type": "code",
   "execution_count": 238,
   "id": "80e99653",
   "metadata": {},
   "outputs": [],
   "source": [
    "emp['Sairam']='Pune'"
   ]
  },
  {
   "cell_type": "code",
   "execution_count": 239,
   "id": "82f8720b",
   "metadata": {},
   "outputs": [
    {
     "data": {
      "text/plain": [
       "{'Rajesh': 'Chennai',\n",
       " 'Jashobant': 'Bangalore',\n",
       " 'Komal': 'Noida',\n",
       " 'Priya': 'Mumbai',\n",
       " 'Srihri': 'Hyderabad',\n",
       " 'Pooja': 'Varanasi',\n",
       " 'Sairam': 'Pune',\n",
       " 'Diwaker': None,\n",
       " 'Purvi': 'Bangalore',\n",
       " 'Suraj': 'Chandigarh',\n",
       " 'Aniket': None}"
      ]
     },
     "execution_count": 239,
     "metadata": {},
     "output_type": "execute_result"
    }
   ],
   "source": [
    "emp"
   ]
  },
  {
   "cell_type": "code",
   "execution_count": 240,
   "id": "1384eca7",
   "metadata": {},
   "outputs": [],
   "source": [
    "emp['Diwaker']='Delhi'"
   ]
  },
  {
   "cell_type": "code",
   "execution_count": 241,
   "id": "ef93fe5c",
   "metadata": {},
   "outputs": [
    {
     "data": {
      "text/plain": [
       "{'Rajesh': 'Chennai',\n",
       " 'Jashobant': 'Bangalore',\n",
       " 'Komal': 'Noida',\n",
       " 'Priya': 'Mumbai',\n",
       " 'Srihri': 'Hyderabad',\n",
       " 'Pooja': 'Varanasi',\n",
       " 'Sairam': 'Pune',\n",
       " 'Diwaker': 'Delhi',\n",
       " 'Purvi': 'Bangalore',\n",
       " 'Suraj': 'Chandigarh',\n",
       " 'Aniket': None}"
      ]
     },
     "execution_count": 241,
     "metadata": {},
     "output_type": "execute_result"
    }
   ],
   "source": [
    "emp"
   ]
  },
  {
   "cell_type": "code",
   "execution_count": 242,
   "id": "acf769cd",
   "metadata": {},
   "outputs": [],
   "source": [
    "emp['Aniket']='Bangalore'"
   ]
  },
  {
   "cell_type": "code",
   "execution_count": 243,
   "id": "84a952cb",
   "metadata": {},
   "outputs": [
    {
     "data": {
      "text/plain": [
       "{'Rajesh': 'Chennai',\n",
       " 'Jashobant': 'Bangalore',\n",
       " 'Komal': 'Noida',\n",
       " 'Priya': 'Mumbai',\n",
       " 'Srihri': 'Hyderabad',\n",
       " 'Pooja': 'Varanasi',\n",
       " 'Sairam': 'Pune',\n",
       " 'Diwaker': 'Delhi',\n",
       " 'Purvi': 'Bangalore',\n",
       " 'Suraj': 'Chandigarh',\n",
       " 'Aniket': 'Bangalore'}"
      ]
     },
     "execution_count": 243,
     "metadata": {},
     "output_type": "execute_result"
    }
   ],
   "source": [
    "emp"
   ]
  },
  {
   "cell_type": "code",
   "execution_count": 244,
   "id": "4eb7a698",
   "metadata": {},
   "outputs": [
    {
     "data": {
      "text/plain": [
       "'Mumbai'"
      ]
     },
     "execution_count": 244,
     "metadata": {},
     "output_type": "execute_result"
    }
   ],
   "source": [
    "emp['Priya']"
   ]
  },
  {
   "cell_type": "code",
   "execution_count": 245,
   "id": "b5532608",
   "metadata": {},
   "outputs": [
    {
     "data": {
      "text/plain": [
       "'Mumbai'"
      ]
     },
     "execution_count": 245,
     "metadata": {},
     "output_type": "execute_result"
    }
   ],
   "source": [
    "emp.get('Priya')"
   ]
  },
  {
   "cell_type": "code",
   "execution_count": 246,
   "id": "c906cdc0",
   "metadata": {},
   "outputs": [
    {
     "data": {
      "text/plain": [
       "'Mumbai'"
      ]
     },
     "execution_count": 246,
     "metadata": {},
     "output_type": "execute_result"
    }
   ],
   "source": [
    "emp.setdefault('Priya')"
   ]
  },
  {
   "cell_type": "code",
   "execution_count": 247,
   "id": "b5f0872b",
   "metadata": {},
   "outputs": [
    {
     "ename": "TypeError",
     "evalue": "setdefault expected at least 1 argument, got 0",
     "output_type": "error",
     "traceback": [
      "\u001b[1;31m---------------------------------------------------------------------------\u001b[0m",
      "\u001b[1;31mTypeError\u001b[0m                                 Traceback (most recent call last)",
      "\u001b[1;32m~\\AppData\\Local\\Temp\\ipykernel_5476\\3600680441.py\u001b[0m in \u001b[0;36m<module>\u001b[1;34m\u001b[0m\n\u001b[1;32m----> 1\u001b[1;33m \u001b[0memp\u001b[0m\u001b[1;33m.\u001b[0m\u001b[0msetdefault\u001b[0m\u001b[1;33m(\u001b[0m\u001b[1;33m)\u001b[0m\u001b[1;33m\u001b[0m\u001b[1;33m\u001b[0m\u001b[0m\n\u001b[0m",
      "\u001b[1;31mTypeError\u001b[0m: setdefault expected at least 1 argument, got 0"
     ]
    }
   ],
   "source": [
    "emp.setdefault()"
   ]
  },
  {
   "cell_type": "markdown",
   "id": "4c19ceab",
   "metadata": {},
   "source": [
    "# clear()"
   ]
  },
  {
   "cell_type": "markdown",
   "id": "9c15a2af",
   "metadata": {},
   "source": [
    "- It removes all the elements from the dictionary and makes the dictionary empty."
   ]
  },
  {
   "cell_type": "code",
   "execution_count": 251,
   "id": "342b0c79",
   "metadata": {},
   "outputs": [
    {
     "data": {
      "text/plain": [
       "{'Rajesh': 'Learnbay',\n",
       " 'Jashobant': 'Learnbay',\n",
       " 'Komal': 'Learnbay',\n",
       " 'Priya': 'Learnbay',\n",
       " 'Srihri': 'Learnbay',\n",
       " 'Pooja': 'Learnbay'}"
      ]
     },
     "execution_count": 251,
     "metadata": {},
     "output_type": "execute_result"
    }
   ],
   "source": [
    "company"
   ]
  },
  {
   "cell_type": "code",
   "execution_count": 252,
   "id": "36e7de75",
   "metadata": {},
   "outputs": [],
   "source": [
    "company.clear()"
   ]
  },
  {
   "cell_type": "code",
   "execution_count": 253,
   "id": "80865458",
   "metadata": {},
   "outputs": [
    {
     "data": {
      "text/plain": [
       "{}"
      ]
     },
     "execution_count": 253,
     "metadata": {},
     "output_type": "execute_result"
    }
   ],
   "source": [
    "company"
   ]
  },
  {
   "cell_type": "markdown",
   "id": "8f266aad",
   "metadata": {},
   "source": [
    "# Python"
   ]
  },
  {
   "cell_type": "markdown",
   "id": "050250f1",
   "metadata": {},
   "source": [
    "# copy()\n",
    "- It copies the elements from a dictionary and creates a new dictionary."
   ]
  },
  {
   "cell_type": "code",
   "execution_count": 259,
   "id": "359545dd",
   "metadata": {},
   "outputs": [
    {
     "name": "stdout",
     "output_type": "stream",
     "text": [
      "{1: 100, 2: 200, 3: 300, 4: 400}\n",
      "{1: 100, 2: 200, 3: 300, 4: 400}\n",
      "{1: None, 2: 200, 3: 300, 4: 400}\n",
      "{1: None, 2: 200, 3: 300, 4: 400}\n",
      "2193243293824\n",
      "2193243293824\n"
     ]
    }
   ],
   "source": [
    "d={1:100,2:200,3:300,4:400}\n",
    "d2=d\n",
    "print(d)\n",
    "print(d2)\n",
    "\n",
    "d[1]=None\n",
    "print(d)\n",
    "print(d2)\n",
    "\n",
    "print(id(d))\n",
    "print(id(d2))"
   ]
  },
  {
   "cell_type": "code",
   "execution_count": 263,
   "id": "cb43ff64",
   "metadata": {},
   "outputs": [
    {
     "name": "stdout",
     "output_type": "stream",
     "text": [
      "{1: 100, 2: 200, 3: 300, 4: 400}\n",
      "{1: 100, 2: 200, 3: 300, 4: 400}\n",
      "{1: None, 2: 200, 3: 300, 4: 400}\n",
      "{1: 100, 2: 200, 3: 300, 4: 400}\n",
      "2193243277120\n",
      "2193243294976\n"
     ]
    }
   ],
   "source": [
    "d={1:100,2:200,3:300,4:400}\n",
    "d2=d.copy()\n",
    "\n",
    "print(d)\n",
    "print(d2)\n",
    "\n",
    "d[1]=None\n",
    "print(d)\n",
    "print(d2)\n",
    "\n",
    "print(id(d))\n",
    "print(id(d2))"
   ]
  },
  {
   "cell_type": "code",
   "execution_count": 264,
   "id": "3a475b8c",
   "metadata": {},
   "outputs": [
    {
     "data": {
      "text/plain": [
       "{1: None, 2: 200, 3: 300, 4: 400}"
      ]
     },
     "execution_count": 264,
     "metadata": {},
     "output_type": "execute_result"
    }
   ],
   "source": [
    "d"
   ]
  },
  {
   "cell_type": "code",
   "execution_count": 265,
   "id": "5b407649",
   "metadata": {},
   "outputs": [
    {
     "name": "stdout",
     "output_type": "stream",
     "text": [
      "2193243277120\n"
     ]
    }
   ],
   "source": [
    "print(id(d))"
   ]
  },
  {
   "cell_type": "code",
   "execution_count": 266,
   "id": "ed4d7d51",
   "metadata": {},
   "outputs": [
    {
     "name": "stdout",
     "output_type": "stream",
     "text": [
      "2193242825104\n"
     ]
    }
   ],
   "source": [
    "print(id(d.keys()))"
   ]
  },
  {
   "cell_type": "code",
   "execution_count": 269,
   "id": "f210b187",
   "metadata": {},
   "outputs": [
    {
     "data": {
      "text/plain": [
       "2193142407824"
      ]
     },
     "execution_count": 269,
     "metadata": {},
     "output_type": "execute_result"
    }
   ],
   "source": [
    "id(d[2])"
   ]
  },
  {
   "cell_type": "code",
   "execution_count": 271,
   "id": "800cb76f",
   "metadata": {},
   "outputs": [
    {
     "data": {
      "text/plain": [
       "200"
      ]
     },
     "execution_count": 271,
     "metadata": {},
     "output_type": "execute_result"
    }
   ],
   "source": [
    "d.pop(2)"
   ]
  },
  {
   "cell_type": "code",
   "execution_count": 272,
   "id": "a9bb4c5a",
   "metadata": {},
   "outputs": [
    {
     "data": {
      "text/plain": [
       "{1: None, 3: 300, 4: 400}"
      ]
     },
     "execution_count": 272,
     "metadata": {},
     "output_type": "execute_result"
    }
   ],
   "source": [
    "d"
   ]
  },
  {
   "cell_type": "code",
   "execution_count": 273,
   "id": "793b9cb1",
   "metadata": {},
   "outputs": [
    {
     "data": {
      "text/plain": [
       "2193243277120"
      ]
     },
     "execution_count": 273,
     "metadata": {},
     "output_type": "execute_result"
    }
   ],
   "source": [
    "id(d)"
   ]
  },
  {
   "cell_type": "code",
   "execution_count": null,
   "id": "c49e8b5b",
   "metadata": {},
   "outputs": [],
   "source": []
  }
 ],
 "metadata": {
  "kernelspec": {
   "display_name": "Python 3 (ipykernel)",
   "language": "python",
   "name": "python3"
  },
  "language_info": {
   "codemirror_mode": {
    "name": "ipython",
    "version": 3
   },
   "file_extension": ".py",
   "mimetype": "text/x-python",
   "name": "python",
   "nbconvert_exporter": "python",
   "pygments_lexer": "ipython3",
   "version": "3.9.13"
  }
 },
 "nbformat": 4,
 "nbformat_minor": 5
}
