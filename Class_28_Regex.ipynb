{
 "cells": [
  {
   "cell_type": "code",
   "execution_count": 1,
   "id": "c1531b5a",
   "metadata": {},
   "outputs": [],
   "source": [
    "import re"
   ]
  },
  {
   "cell_type": "markdown",
   "id": "1ffcef7d",
   "metadata": {},
   "source": [
    "# Special sequneces"
   ]
  },
  {
   "cell_type": "code",
   "execution_count": 40,
   "id": "8ff9bd6b",
   "metadata": {},
   "outputs": [],
   "source": [
    "# \\w- It matches all the alphanumeric characters. (A-Z, a-z, 0-9, _)\n",
    "# \\W- It matches everything except the alphanumeric characters.\n",
    "# \\d- It matches all the digits. (0-9)\n",
    "# \\D- It matches everything except the digits (0-9)\n",
    "# \\s- It matches all the space characters (\\n,\\t,\\r,\\v, space)\n",
    "# \\S- It matches everything except the space characters.\n",
    "# \\b- It matches a boundary chracter or word.\n",
    "# \\B- It matches not a boundary word or character."
   ]
  },
  {
   "cell_type": "code",
   "execution_count": 5,
   "id": "a027995f",
   "metadata": {},
   "outputs": [
    {
     "name": "stdout",
     "output_type": "stream",
     "text": [
      "<re.Match object; span=(0, 1), match='1'>\n",
      "<re.Match object; span=(1, 2), match='3'>\n",
      "<re.Match object; span=(2, 3), match='2'>\n",
      "<re.Match object; span=(3, 4), match='4'>\n",
      "<re.Match object; span=(11, 12), match='d'>\n",
      "<re.Match object; span=(12, 13), match='d'>\n",
      "<re.Match object; span=(13, 14), match='s'>\n",
      "<re.Match object; span=(15, 16), match='h'>\n",
      "<re.Match object; span=(20, 21), match='b'>\n",
      "<re.Match object; span=(21, 22), match='f'>\n",
      "<re.Match object; span=(22, 23), match='h'>\n",
      "<re.Match object; span=(24, 25), match='A'>\n",
      "<re.Match object; span=(25, 26), match='W'>\n",
      "<re.Match object; span=(26, 27), match='R'>\n",
      "<re.Match object; span=(27, 28), match='E'>\n",
      "<re.Match object; span=(29, 30), match='_'>\n",
      "<re.Match object; span=(32, 33), match='G'>\n",
      "<re.Match object; span=(33, 34), match='T'>\n"
     ]
    }
   ],
   "source": [
    "text='1324 !@@$$ dds-h@$#%bfh AWRE@_#$GT'\n",
    "\n",
    "pat=r'\\w'\n",
    "\n",
    "x=re.finditer(pat,text)\n",
    "for i in x:\n",
    "    print(i)"
   ]
  },
  {
   "cell_type": "code",
   "execution_count": 7,
   "id": "dcfb58e5",
   "metadata": {},
   "outputs": [
    {
     "name": "stdout",
     "output_type": "stream",
     "text": [
      "<re.Match object; span=(4, 5), match=' '>\n",
      "<re.Match object; span=(5, 6), match='!'>\n",
      "<re.Match object; span=(6, 7), match='@'>\n",
      "<re.Match object; span=(7, 8), match='@'>\n",
      "<re.Match object; span=(8, 9), match='$'>\n",
      "<re.Match object; span=(9, 10), match='$'>\n",
      "<re.Match object; span=(10, 11), match=' '>\n",
      "<re.Match object; span=(14, 15), match='-'>\n",
      "<re.Match object; span=(16, 17), match='@'>\n",
      "<re.Match object; span=(17, 18), match='$'>\n",
      "<re.Match object; span=(18, 19), match='#'>\n",
      "<re.Match object; span=(19, 20), match='%'>\n",
      "<re.Match object; span=(23, 24), match=' '>\n",
      "<re.Match object; span=(28, 29), match='@'>\n",
      "<re.Match object; span=(30, 31), match='#'>\n",
      "<re.Match object; span=(31, 32), match='$'>\n"
     ]
    }
   ],
   "source": [
    "text='1324 !@@$$ dds-h@$#%bfh AWRE@_#$GT'\n",
    "\n",
    "pat=r'\\W'\n",
    "\n",
    "x=re.finditer(pat,text)\n",
    "for i in x:\n",
    "    print(i)"
   ]
  },
  {
   "cell_type": "code",
   "execution_count": 14,
   "id": "264f0a2e",
   "metadata": {},
   "outputs": [
    {
     "name": "stdout",
     "output_type": "stream",
     "text": [
      "<re.Match object; span=(0, 1), match='1'>\n",
      "<re.Match object; span=(1, 2), match='3'>\n",
      "<re.Match object; span=(2, 3), match='2'>\n",
      "<re.Match object; span=(3, 4), match='4'>\n",
      "<re.Match object; span=(9, 10), match='5'>\n",
      "<re.Match object; span=(20, 21), match='8'>\n",
      "<re.Match object; span=(34, 35), match='7'>\n",
      "<re.Match object; span=(36, 37), match='0'>\n"
     ]
    }
   ],
   "source": [
    "text='1324 !@@$5$ dds-h@$#8%bfh AWRE@_#$7G0T'\n",
    "\n",
    "pat=r'\\d'\n",
    "\n",
    "x=re.finditer(pat,text)\n",
    "for i in x:\n",
    "    print(i)"
   ]
  },
  {
   "cell_type": "code",
   "execution_count": 16,
   "id": "a4c2c256",
   "metadata": {},
   "outputs": [
    {
     "name": "stdout",
     "output_type": "stream",
     "text": [
      "<re.Match object; span=(4, 5), match=' '>\n",
      "<re.Match object; span=(5, 6), match='!'>\n",
      "<re.Match object; span=(6, 7), match='@'>\n",
      "<re.Match object; span=(7, 8), match='@'>\n",
      "<re.Match object; span=(8, 9), match='$'>\n",
      "<re.Match object; span=(10, 11), match='$'>\n",
      "<re.Match object; span=(11, 12), match=' '>\n",
      "<re.Match object; span=(12, 13), match='d'>\n",
      "<re.Match object; span=(13, 14), match='d'>\n",
      "<re.Match object; span=(14, 15), match='s'>\n",
      "<re.Match object; span=(15, 16), match='-'>\n",
      "<re.Match object; span=(16, 17), match='h'>\n",
      "<re.Match object; span=(17, 18), match='@'>\n",
      "<re.Match object; span=(18, 19), match='$'>\n",
      "<re.Match object; span=(19, 20), match='#'>\n",
      "<re.Match object; span=(21, 22), match='%'>\n",
      "<re.Match object; span=(22, 23), match='b'>\n",
      "<re.Match object; span=(23, 24), match='f'>\n",
      "<re.Match object; span=(24, 25), match='h'>\n",
      "<re.Match object; span=(25, 26), match=' '>\n",
      "<re.Match object; span=(26, 27), match='A'>\n",
      "<re.Match object; span=(27, 28), match='W'>\n",
      "<re.Match object; span=(28, 29), match='R'>\n",
      "<re.Match object; span=(29, 30), match='E'>\n",
      "<re.Match object; span=(30, 31), match='@'>\n",
      "<re.Match object; span=(31, 32), match='_'>\n",
      "<re.Match object; span=(32, 33), match='#'>\n",
      "<re.Match object; span=(33, 34), match='$'>\n",
      "<re.Match object; span=(35, 36), match='G'>\n",
      "<re.Match object; span=(37, 38), match='T'>\n"
     ]
    }
   ],
   "source": [
    "text='1324 !@@$5$ dds-h@$#8%bfh AWRE@_#$7G0T'\n",
    "\n",
    "pat=r'\\D'\n",
    "\n",
    "x=re.finditer(pat,text)\n",
    "for i in x:\n",
    "    print(i)"
   ]
  },
  {
   "cell_type": "code",
   "execution_count": 18,
   "id": "ef00465b",
   "metadata": {},
   "outputs": [
    {
     "name": "stdout",
     "output_type": "stream",
     "text": [
      "<re.Match object; span=(3, 4), match='\\x0b'>\n",
      "<re.Match object; span=(5, 6), match=' '>\n",
      "<re.Match object; span=(9, 10), match='\\r'>\n",
      "<re.Match object; span=(13, 14), match=' '>\n",
      "<re.Match object; span=(15, 16), match='\\n'>\n",
      "<re.Match object; span=(23, 24), match='\\n'>\n",
      "<re.Match object; span=(28, 29), match='\\t'>\n",
      "<re.Match object; span=(30, 31), match=' '>\n"
     ]
    }
   ],
   "source": [
    "text='132\\v4 !@@\\r$5$ d\\nds-h@$#\\n8%bf\\th AWRE@'\n",
    "\n",
    "pat=r'\\s'\n",
    "\n",
    "x=re.finditer(pat,text)\n",
    "for i in x:\n",
    "    print(i)"
   ]
  },
  {
   "cell_type": "code",
   "execution_count": 20,
   "id": "2329c226",
   "metadata": {},
   "outputs": [
    {
     "name": "stdout",
     "output_type": "stream",
     "text": [
      "<re.Match object; span=(0, 1), match='1'>\n",
      "<re.Match object; span=(1, 2), match='3'>\n",
      "<re.Match object; span=(2, 3), match='2'>\n",
      "<re.Match object; span=(4, 5), match='4'>\n",
      "<re.Match object; span=(6, 7), match='!'>\n",
      "<re.Match object; span=(7, 8), match='@'>\n",
      "<re.Match object; span=(8, 9), match='@'>\n",
      "<re.Match object; span=(10, 11), match='$'>\n",
      "<re.Match object; span=(11, 12), match='5'>\n",
      "<re.Match object; span=(12, 13), match='$'>\n",
      "<re.Match object; span=(14, 15), match='d'>\n",
      "<re.Match object; span=(16, 17), match='d'>\n",
      "<re.Match object; span=(17, 18), match='s'>\n",
      "<re.Match object; span=(18, 19), match='-'>\n",
      "<re.Match object; span=(19, 20), match='h'>\n",
      "<re.Match object; span=(20, 21), match='@'>\n",
      "<re.Match object; span=(21, 22), match='$'>\n",
      "<re.Match object; span=(22, 23), match='#'>\n",
      "<re.Match object; span=(24, 25), match='8'>\n",
      "<re.Match object; span=(25, 26), match='%'>\n",
      "<re.Match object; span=(26, 27), match='b'>\n",
      "<re.Match object; span=(27, 28), match='f'>\n",
      "<re.Match object; span=(29, 30), match='h'>\n",
      "<re.Match object; span=(31, 32), match='A'>\n",
      "<re.Match object; span=(32, 33), match='W'>\n",
      "<re.Match object; span=(33, 34), match='R'>\n",
      "<re.Match object; span=(34, 35), match='E'>\n",
      "<re.Match object; span=(35, 36), match='@'>\n"
     ]
    }
   ],
   "source": [
    "text='132\\v4 !@@\\r$5$ d\\nds-h@$#\\n8%bf\\th AWRE@'\n",
    "\n",
    "pat=r'\\S'\n",
    "\n",
    "x=re.finditer(pat,text)\n",
    "for i in x:\n",
    "    print(i)"
   ]
  },
  {
   "cell_type": "code",
   "execution_count": 22,
   "id": "9414f5c8",
   "metadata": {},
   "outputs": [
    {
     "name": "stdout",
     "output_type": "stream",
     "text": [
      "<re.Match object; span=(0, 3), match='cat'>\n",
      "<re.Match object; span=(19, 22), match='cat'>\n",
      "<re.Match object; span=(27, 30), match='cat'>\n",
      "<re.Match object; span=(55, 58), match='cat'>\n"
     ]
    }
   ],
   "source": [
    "text='catherine bought a cat and catherine takes care of the cat well and named it Tom'\n",
    "\n",
    "pat=r'cat'\n",
    "\n",
    "x=re.finditer(pat,text)\n",
    "for i in x:\n",
    "    print(i)"
   ]
  },
  {
   "cell_type": "code",
   "execution_count": 23,
   "id": "f79fb11a",
   "metadata": {},
   "outputs": [
    {
     "name": "stdout",
     "output_type": "stream",
     "text": [
      "<re.Match object; span=(0, 3), match='cat'>\n",
      "<re.Match object; span=(19, 22), match='cat'>\n",
      "<re.Match object; span=(27, 30), match='cat'>\n",
      "<re.Match object; span=(55, 58), match='cat'>\n"
     ]
    }
   ],
   "source": [
    "text='catherine bought a cat and catherine takes care of the cat well and named it Tom'\n",
    "\n",
    "pat=r'\\bcat'\n",
    "\n",
    "x=re.finditer(pat,text)\n",
    "for i in x:\n",
    "    print(i)"
   ]
  },
  {
   "cell_type": "code",
   "execution_count": 25,
   "id": "a8dfc0ab",
   "metadata": {},
   "outputs": [
    {
     "name": "stdout",
     "output_type": "stream",
     "text": [
      "<re.Match object; span=(19, 22), match='cat'>\n",
      "<re.Match object; span=(55, 58), match='cat'>\n",
      "<re.Match object; span=(80, 83), match='cat'>\n"
     ]
    }
   ],
   "source": [
    "text='catherine bought a cat and catherine takes care of the cat well and named it Tomcat'\n",
    "\n",
    "pat=r'cat\\b'\n",
    "\n",
    "x=re.finditer(pat,text)\n",
    "for i in x:\n",
    "    print(i)"
   ]
  },
  {
   "cell_type": "code",
   "execution_count": 39,
   "id": "a962e38f",
   "metadata": {},
   "outputs": [
    {
     "name": "stdout",
     "output_type": "stream",
     "text": [
      "<re.Match object; span=(19, 22), match='cat'>\n",
      "<re.Match object; span=(55, 58), match='cat'>\n"
     ]
    }
   ],
   "source": [
    "text='catherine bought a cat and catherine takes care of the cat well and named it Tomcat'\n",
    "\n",
    "pat=r'\\bcat\\b'\n",
    "\n",
    "x=re.finditer(pat,text)\n",
    "for i in x:\n",
    "    print(i)"
   ]
  },
  {
   "cell_type": "code",
   "execution_count": 38,
   "id": "ce40123b",
   "metadata": {},
   "outputs": [],
   "source": [
    "# boundary word- Nothing or space or . or comma or special charcter"
   ]
  },
  {
   "cell_type": "code",
   "execution_count": 41,
   "id": "21064e80",
   "metadata": {},
   "outputs": [
    {
     "name": "stdout",
     "output_type": "stream",
     "text": [
      "<re.Match object; span=(80, 83), match='cat'>\n"
     ]
    }
   ],
   "source": [
    "text='catherine bought a cat and catherine takes care of the cat well and named it Tomcat'\n",
    "\n",
    "pat=r'\\Bcat'\n",
    "\n",
    "x=re.finditer(pat,text)\n",
    "for i in x:\n",
    "    print(i)"
   ]
  },
  {
   "cell_type": "code",
   "execution_count": 42,
   "id": "4054554a",
   "metadata": {},
   "outputs": [
    {
     "name": "stdout",
     "output_type": "stream",
     "text": [
      "<re.Match object; span=(0, 3), match='cat'>\n",
      "<re.Match object; span=(27, 30), match='cat'>\n"
     ]
    }
   ],
   "source": [
    "text='catherine bought a cat and catherine takes care of the cat well and named it Tomcat'\n",
    "\n",
    "pat=r'cat\\B'\n",
    "\n",
    "x=re.finditer(pat,text)\n",
    "for i in x:\n",
    "    print(i)"
   ]
  },
  {
   "cell_type": "code",
   "execution_count": 44,
   "id": "38922287",
   "metadata": {},
   "outputs": [
    {
     "name": "stdout",
     "output_type": "stream",
     "text": [
      "<re.Match object; span=(89, 92), match='cat'>\n"
     ]
    }
   ],
   "source": [
    "text='catherine bought a cat and catherine takes care of the cat well and named it Tomcat. copycatTom'\n",
    "\n",
    "pat=r'\\Bcat\\B'\n",
    "\n",
    "x=re.finditer(pat,text)\n",
    "for i in x:\n",
    "    print(i)"
   ]
  },
  {
   "cell_type": "markdown",
   "id": "6930a068",
   "metadata": {},
   "source": [
    "# Quantifiers"
   ]
  },
  {
   "cell_type": "code",
   "execution_count": 74,
   "id": "2e96d902",
   "metadata": {},
   "outputs": [],
   "source": [
    "# {2}- It matches two repetitions of the pattern\n",
    "# {2,3}- It will match the repetitions in the range 2 and 3\n",
    "# ?- It matches 1 or no repetition\n",
    "# *- It matches no repetition or n repetitions\n",
    "# +- It maches 1 or more than repetition"
   ]
  },
  {
   "cell_type": "code",
   "execution_count": 53,
   "id": "cc77001e",
   "metadata": {},
   "outputs": [
    {
     "name": "stdout",
     "output_type": "stream",
     "text": [
      "<re.Match object; span=(1, 3), match='oy'>\n",
      "<re.Match object; span=(5, 7), match='mi'>\n",
      "<re.Match object; span=(9, 11), match='go'>\n",
      "<re.Match object; span=(12, 14), match='ha'>\n",
      "<re.Match object; span=(14, 16), match='pp'>\n",
      "<re.Match object; span=(18, 20), match='to'>\n",
      "<re.Match object; span=(21, 23), match='sl'>\n",
      "<re.Match object; span=(23, 25), match='ee'>\n"
     ]
    }
   ],
   "source": [
    "# Match all the words of length 2\n",
    "\n",
    "text='Joy Amit go happy to sleep'\n",
    "\n",
    "pat=r'[a-z]{2}'\n",
    "\n",
    "x=re.finditer(pat,text)\n",
    "\n",
    "for i in x:\n",
    "    print(i)"
   ]
  },
  {
   "cell_type": "code",
   "execution_count": 54,
   "id": "3fbd9691",
   "metadata": {},
   "outputs": [
    {
     "name": "stdout",
     "output_type": "stream",
     "text": [
      "<re.Match object; span=(9, 11), match='go'>\n",
      "<re.Match object; span=(18, 20), match='to'>\n"
     ]
    }
   ],
   "source": [
    "# Match all the words of length 2\n",
    "\n",
    "text='Joy Amit go happy to sleep'\n",
    "\n",
    "pat=r'\\b[a-z]{2}\\b'\n",
    "\n",
    "x=re.finditer(pat,text)\n",
    "\n",
    "for i in x:\n",
    "    print(i)"
   ]
  },
  {
   "cell_type": "code",
   "execution_count": 57,
   "id": "c8b7f636",
   "metadata": {},
   "outputs": [
    {
     "name": "stdout",
     "output_type": "stream",
     "text": [
      "<re.Match object; span=(9, 11), match='go'>\n",
      "<re.Match object; span=(12, 14), match='to'>\n",
      "<re.Match object; span=(21, 23), match='to'>\n"
     ]
    }
   ],
   "source": [
    " text='joy amit go to sleep to happy'\n",
    "\n",
    "pat=r'\\b[a-z]{2}\\b'\n",
    "\n",
    "x=re.finditer(pat,text)\n",
    "\n",
    "for i in x:\n",
    "    print(i)"
   ]
  },
  {
   "cell_type": "code",
   "execution_count": 68,
   "id": "437f5638",
   "metadata": {},
   "outputs": [
    {
     "name": "stdout",
     "output_type": "stream",
     "text": [
      "<re.Match object; span=(3, 7), match='5486'>\n",
      "<re.Match object; span=(8, 13), match='22897'>\n",
      "<re.Match object; span=(16, 19), match='456'>\n",
      "<re.Match object; span=(32, 37), match='88775'>\n",
      "<re.Match object; span=(37, 40), match='242'>\n"
     ]
    }
   ],
   "source": [
    "text='12 5486 22897 DT456ab 32$ a1 9# 88775242'\n",
    "\n",
    "pat='[0-9]{3,5}'\n",
    "\n",
    "x=re.finditer(pat,text)\n",
    "\n",
    "for i in x:\n",
    "    print(i)"
   ]
  },
  {
   "cell_type": "code",
   "execution_count": 69,
   "id": "775e013d",
   "metadata": {},
   "outputs": [
    {
     "name": "stdout",
     "output_type": "stream",
     "text": [
      "<re.Match object; span=(0, 1), match='1'>\n",
      "<re.Match object; span=(1, 2), match='2'>\n",
      "<re.Match object; span=(2, 2), match=''>\n",
      "<re.Match object; span=(3, 4), match='5'>\n",
      "<re.Match object; span=(4, 5), match='4'>\n",
      "<re.Match object; span=(5, 5), match=''>\n",
      "<re.Match object; span=(6, 7), match='8'>\n",
      "<re.Match object; span=(7, 8), match='6'>\n",
      "<re.Match object; span=(8, 8), match=''>\n",
      "<re.Match object; span=(9, 10), match='2'>\n",
      "<re.Match object; span=(10, 11), match='2'>\n",
      "<re.Match object; span=(11, 12), match='8'>\n",
      "<re.Match object; span=(12, 13), match='9'>\n",
      "<re.Match object; span=(13, 14), match='7'>\n",
      "<re.Match object; span=(14, 14), match=''>\n",
      "<re.Match object; span=(15, 15), match=''>\n",
      "<re.Match object; span=(16, 16), match=''>\n",
      "<re.Match object; span=(17, 18), match='4'>\n",
      "<re.Match object; span=(18, 19), match='5'>\n",
      "<re.Match object; span=(19, 20), match='6'>\n",
      "<re.Match object; span=(20, 20), match=''>\n",
      "<re.Match object; span=(21, 21), match=''>\n",
      "<re.Match object; span=(22, 22), match=''>\n",
      "<re.Match object; span=(23, 24), match='3'>\n",
      "<re.Match object; span=(24, 25), match='2'>\n",
      "<re.Match object; span=(25, 25), match=''>\n",
      "<re.Match object; span=(26, 26), match=''>\n",
      "<re.Match object; span=(27, 27), match=''>\n",
      "<re.Match object; span=(28, 29), match='1'>\n",
      "<re.Match object; span=(29, 29), match=''>\n",
      "<re.Match object; span=(30, 31), match='9'>\n",
      "<re.Match object; span=(31, 31), match=''>\n",
      "<re.Match object; span=(32, 32), match=''>\n",
      "<re.Match object; span=(33, 34), match='8'>\n",
      "<re.Match object; span=(34, 35), match='8'>\n",
      "<re.Match object; span=(35, 36), match='7'>\n",
      "<re.Match object; span=(36, 37), match='7'>\n",
      "<re.Match object; span=(37, 38), match='5'>\n",
      "<re.Match object; span=(38, 39), match='2'>\n",
      "<re.Match object; span=(39, 39), match=''>\n"
     ]
    }
   ],
   "source": [
    "text='12 54@86 22897 DT456ab 32$ a1 9# 887752'\n",
    "\n",
    "pat='[0-9]?'\n",
    "\n",
    "x=re.finditer(pat,text)\n",
    "\n",
    "for i in x:\n",
    "    print(i)"
   ]
  },
  {
   "cell_type": "code",
   "execution_count": 72,
   "id": "52a7323e",
   "metadata": {},
   "outputs": [
    {
     "name": "stdout",
     "output_type": "stream",
     "text": [
      "<re.Match object; span=(0, 1), match='a'>\n",
      "<re.Match object; span=(1, 2), match='b'>\n",
      "<re.Match object; span=(2, 2), match=''>\n",
      "<re.Match object; span=(3, 4), match='c'>\n",
      "<re.Match object; span=(4, 5), match='d'>\n",
      "<re.Match object; span=(5, 5), match=''>\n",
      "<re.Match object; span=(6, 7), match='m'>\n",
      "<re.Match object; span=(7, 7), match=''>\n",
      "<re.Match object; span=(8, 9), match='b'>\n",
      "<re.Match object; span=(9, 10), match='a'>\n",
      "<re.Match object; span=(10, 10), match=''>\n"
     ]
    }
   ],
   "source": [
    "text='ab5cd@m#ba'\n",
    "\n",
    "pat=r'[a-z]?'\n",
    "\n",
    "x=re.finditer(pat,text)\n",
    "\n",
    "for i in x:\n",
    "    print(i)"
   ]
  },
  {
   "cell_type": "code",
   "execution_count": 73,
   "id": "6a79c364",
   "metadata": {},
   "outputs": [],
   "source": [
    "# ?- It returns only one repetition if the pattern is found.\n",
    "# ?- It returns empty string '' if the pattern is not found. "
   ]
  },
  {
   "cell_type": "code",
   "execution_count": 75,
   "id": "759b6d5d",
   "metadata": {},
   "outputs": [],
   "source": [
    "# *- It returns all the repetitions if the pattern is found.\n",
    "# *- It returns empty string '' if the pattern is not found. "
   ]
  },
  {
   "cell_type": "code",
   "execution_count": 79,
   "id": "e9f6d8da",
   "metadata": {},
   "outputs": [],
   "source": [
    "# +- It returns all the repetitions if the pattern is found.\n",
    "# +- It does not match anything if the pattern is not found. "
   ]
  },
  {
   "cell_type": "code",
   "execution_count": 78,
   "id": "65012d30",
   "metadata": {},
   "outputs": [
    {
     "name": "stdout",
     "output_type": "stream",
     "text": [
      "<re.Match object; span=(0, 2), match='12'>\n",
      "<re.Match object; span=(2, 2), match=''>\n",
      "<re.Match object; span=(3, 15), match='545615481515'>\n",
      "<re.Match object; span=(15, 15), match=''>\n",
      "<re.Match object; span=(16, 16), match=''>\n",
      "<re.Match object; span=(17, 19), match='86'>\n",
      "<re.Match object; span=(19, 19), match=''>\n",
      "<re.Match object; span=(20, 25), match='22897'>\n",
      "<re.Match object; span=(25, 25), match=''>\n",
      "<re.Match object; span=(26, 26), match=''>\n",
      "<re.Match object; span=(27, 27), match=''>\n",
      "<re.Match object; span=(28, 31), match='456'>\n",
      "<re.Match object; span=(31, 31), match=''>\n",
      "<re.Match object; span=(32, 32), match=''>\n",
      "<re.Match object; span=(33, 33), match=''>\n",
      "<re.Match object; span=(34, 36), match='32'>\n",
      "<re.Match object; span=(36, 36), match=''>\n",
      "<re.Match object; span=(37, 37), match=''>\n",
      "<re.Match object; span=(38, 38), match=''>\n",
      "<re.Match object; span=(39, 40), match='1'>\n",
      "<re.Match object; span=(40, 40), match=''>\n",
      "<re.Match object; span=(41, 42), match='9'>\n",
      "<re.Match object; span=(42, 42), match=''>\n",
      "<re.Match object; span=(43, 43), match=''>\n",
      "<re.Match object; span=(44, 50), match='887752'>\n",
      "<re.Match object; span=(50, 50), match=''>\n"
     ]
    }
   ],
   "source": [
    "text='12 545615481515@d86 22897 DT456ab 32$ a1 9# 887752'\n",
    "\n",
    "pat='[0-9]*'\n",
    "\n",
    "x=re.finditer(pat,text)\n",
    "\n",
    "for i in x:\n",
    "    print(i)"
   ]
  },
  {
   "cell_type": "code",
   "execution_count": 80,
   "id": "cabc02ff",
   "metadata": {},
   "outputs": [
    {
     "name": "stdout",
     "output_type": "stream",
     "text": [
      "<re.Match object; span=(0, 2), match='12'>\n",
      "<re.Match object; span=(3, 15), match='545615481515'>\n",
      "<re.Match object; span=(17, 19), match='86'>\n",
      "<re.Match object; span=(20, 25), match='22897'>\n",
      "<re.Match object; span=(28, 31), match='456'>\n",
      "<re.Match object; span=(34, 36), match='32'>\n",
      "<re.Match object; span=(39, 40), match='1'>\n",
      "<re.Match object; span=(41, 42), match='9'>\n",
      "<re.Match object; span=(44, 50), match='887752'>\n"
     ]
    }
   ],
   "source": [
    "text='12 545615481515@d86 22897 DT456ab 32$ a1 9# 887752'\n",
    "\n",
    "pat='[0-9]+'\n",
    "\n",
    "x=re.finditer(pat,text)\n",
    "\n",
    "for i in x:\n",
    "    print(i)"
   ]
  },
  {
   "cell_type": "code",
   "execution_count": 84,
   "id": "6eb5931d",
   "metadata": {},
   "outputs": [
    {
     "name": "stdout",
     "output_type": "stream",
     "text": [
      "<re.Match object; span=(0, 4), match='Amit'>\n",
      "<re.Match object; span=(20, 22), match='He'>\n",
      "<re.Match object; span=(40, 46), match='Ramesh'>\n"
     ]
    }
   ],
   "source": [
    "# Match all the words that begin with a capital case letter\n",
    "\n",
    "text='Amit is a good boy. He is the freind of Ramesh.'\n",
    "\n",
    "pat=r'[A-Z][a-z]*'\n",
    "\n",
    "x=re.finditer(pat,text)\n",
    "\n",
    "for i in x:\n",
    "    print(i)"
   ]
  },
  {
   "cell_type": "code",
   "execution_count": 87,
   "id": "e1afd7d2",
   "metadata": {},
   "outputs": [
    {
     "name": "stdout",
     "output_type": "stream",
     "text": [
      "<re.Match object; span=(0, 4), match='Amit'>\n",
      "<re.Match object; span=(20, 22), match='He'>\n",
      "<re.Match object; span=(40, 46), match='Ramesh'>\n",
      "<re.Match object; span=(48, 49), match='F'>\n",
      "<re.Match object; span=(50, 51), match='O'>\n",
      "<re.Match object; span=(52, 53), match='W'>\n",
      "<re.Match object; span=(54, 55), match='G'>\n"
     ]
    }
   ],
   "source": [
    "# Match all the words that begin with a capital case letter\n",
    "\n",
    "text='Amit is a good boy. He is the freind of Ramesh. F!O$W%G'\n",
    "\n",
    "pat=r'[A-Z][a-z]*'\n",
    "\n",
    "x=re.finditer(pat,text)\n",
    "\n",
    "for i in x:\n",
    "    print(i)"
   ]
  },
  {
   "cell_type": "code",
   "execution_count": 89,
   "id": "3c1ca427",
   "metadata": {},
   "outputs": [
    {
     "name": "stdout",
     "output_type": "stream",
     "text": [
      "<re.Match object; span=(0, 4), match='Amit'>\n",
      "<re.Match object; span=(20, 22), match='He'>\n",
      "<re.Match object; span=(40, 46), match='Ramesh'>\n",
      "<re.Match object; span=(54, 56), match='Gn'>\n"
     ]
    }
   ],
   "source": [
    "# Match all the words that begin with a capital case letter\n",
    "\n",
    "text='Amit is a good boy. He is the freind of Ramesh. F!O$W%Gn'\n",
    "\n",
    "pat=r'[A-Z][a-z]+'\n",
    "\n",
    "x=re.finditer(pat,text)\n",
    "\n",
    "for i in x:\n",
    "    print(i)"
   ]
  },
  {
   "cell_type": "markdown",
   "id": "b1d8e5d9",
   "metadata": {},
   "source": [
    "# Matching the metacharcters from the string"
   ]
  },
  {
   "cell_type": "code",
   "execution_count": 94,
   "id": "6e11a3b3",
   "metadata": {},
   "outputs": [
    {
     "name": "stdout",
     "output_type": "stream",
     "text": [
      "<re.Match object; span=(1, 2), match='$'>\n",
      "<re.Match object; span=(4, 5), match='$'>\n",
      "<re.Match object; span=(10, 11), match='$'>\n",
      "<re.Match object; span=(15, 16), match='$'>\n"
     ]
    }
   ],
   "source": [
    "# Match $\n",
    "\n",
    "text='a$bc$d1422$44!@$@#'\n",
    "\n",
    "pat=r'\\$'\n",
    "\n",
    "x=re.finditer(pat,text)\n",
    "\n",
    "for i in x:\n",
    "    print(i)"
   ]
  },
  {
   "cell_type": "code",
   "execution_count": 95,
   "id": "79122f70",
   "metadata": {},
   "outputs": [
    {
     "name": "stdout",
     "output_type": "stream",
     "text": [
      "<re.Match object; span=(1, 2), match='$'>\n",
      "<re.Match object; span=(4, 5), match='$'>\n",
      "<re.Match object; span=(10, 11), match='$'>\n",
      "<re.Match object; span=(15, 16), match='$'>\n"
     ]
    }
   ],
   "source": [
    "# Match $\n",
    "\n",
    "text='a$bc$d1422$44!@$@#'\n",
    "\n",
    "pat=r'[$]'\n",
    "\n",
    "x=re.finditer(pat,text)\n",
    "\n",
    "for i in x:\n",
    "    print(i)"
   ]
  },
  {
   "cell_type": "code",
   "execution_count": 97,
   "id": "57b7a82e",
   "metadata": {},
   "outputs": [
    {
     "name": "stdout",
     "output_type": "stream",
     "text": [
      "<re.Match object; span=(1, 2), match='^'>\n",
      "<re.Match object; span=(7, 8), match='^'>\n",
      "<re.Match object; span=(11, 12), match='^'>\n",
      "<re.Match object; span=(14, 15), match='^'>\n"
     ]
    }
   ],
   "source": [
    "# Match $\n",
    "\n",
    "text='a^bc$d1^422^$4^4!@$@#'\n",
    "\n",
    "pat=r'\\^'\n",
    "\n",
    "x=re.finditer(pat,text)\n",
    "\n",
    "for i in x:\n",
    "    print(i)"
   ]
  },
  {
   "cell_type": "code",
   "execution_count": 99,
   "id": "8dea1dd4",
   "metadata": {},
   "outputs": [
    {
     "name": "stdout",
     "output_type": "stream",
     "text": [
      "<re.Match object; span=(1, 2), match='^'>\n",
      "<re.Match object; span=(4, 5), match='$'>\n",
      "<re.Match object; span=(6, 7), match='1'>\n",
      "<re.Match object; span=(7, 8), match='^'>\n",
      "<re.Match object; span=(8, 9), match='4'>\n",
      "<re.Match object; span=(9, 10), match='2'>\n",
      "<re.Match object; span=(10, 11), match='2'>\n",
      "<re.Match object; span=(11, 12), match='^'>\n",
      "<re.Match object; span=(12, 13), match='$'>\n",
      "<re.Match object; span=(13, 14), match='4'>\n",
      "<re.Match object; span=(14, 15), match='^'>\n",
      "<re.Match object; span=(15, 16), match='4'>\n",
      "<re.Match object; span=(16, 17), match='!'>\n",
      "<re.Match object; span=(17, 18), match='@'>\n",
      "<re.Match object; span=(18, 19), match='$'>\n",
      "<re.Match object; span=(19, 20), match='@'>\n",
      "<re.Match object; span=(20, 21), match='#'>\n"
     ]
    }
   ],
   "source": [
    "# Match $\n",
    "\n",
    "text='a^bc$d1^422^$4^4!@$@#'\n",
    "\n",
    "pat=r'[^a-z]'\n",
    "\n",
    "x=re.finditer(pat,text)\n",
    "\n",
    "for i in x:\n",
    "    print(i)"
   ]
  },
  {
   "cell_type": "code",
   "execution_count": 101,
   "id": "da8a5363",
   "metadata": {},
   "outputs": [
    {
     "name": "stdout",
     "output_type": "stream",
     "text": [
      "<re.Match object; span=(6, 7), match='.'>\n",
      "<re.Match object; span=(12, 13), match='.'>\n",
      "<re.Match object; span=(18, 19), match='.'>\n",
      "<re.Match object; span=(24, 25), match='.'>\n"
     ]
    }
   ],
   "source": [
    "# Match $\n",
    "\n",
    "text='a^bc$d.1^422.^$4^4.!@$@#.'\n",
    "\n",
    "pat=r'\\.'\n",
    "\n",
    "x=re.finditer(pat,text)\n",
    "\n",
    "for i in x:\n",
    "    print(i)"
   ]
  },
  {
   "cell_type": "code",
   "execution_count": 102,
   "id": "cc653825",
   "metadata": {},
   "outputs": [
    {
     "name": "stdout",
     "output_type": "stream",
     "text": [
      "<re.Match object; span=(6, 7), match='.'>\n",
      "<re.Match object; span=(12, 13), match='.'>\n",
      "<re.Match object; span=(18, 19), match='.'>\n",
      "<re.Match object; span=(24, 25), match='.'>\n"
     ]
    }
   ],
   "source": [
    "# Match $\n",
    "\n",
    "text='a^bc$d.1^422.^$4^4.!@$@#.'\n",
    "\n",
    "pat=r'[.]'\n",
    "\n",
    "x=re.finditer(pat,text)\n",
    "\n",
    "for i in x:\n",
    "    print(i)"
   ]
  },
  {
   "cell_type": "code",
   "execution_count": 120,
   "id": "0a2f0431",
   "metadata": {},
   "outputs": [
    {
     "name": "stdout",
     "output_type": "stream",
     "text": [
      "<re.Match object; span=(0, 12), match='Mr. Surendra'>\n",
      "<re.Match object; span=(13, 21), match='Ms. Tina'>\n",
      "<re.Match object; span=(32, 41), match='Mrs_Sarah'>\n",
      "<re.Match object; span=(71, 81), match='Mr._Rajesh'>\n",
      "<re.Match object; span=(93, 103), match='Mr Sarvesh'>\n"
     ]
    }
   ],
   "source": [
    "# Match the names with salutaion\n",
    "\n",
    "names='''Mr. Surendra\n",
    "Ms. Tina\n",
    "!@!@#@$#%\n",
    "Mrs_Sarah\n",
    "121354454\n",
    "Amit\n",
    "dbhfbdsihfadi\n",
    "Mr._Rajesh\n",
    "wt623t486t\n",
    "Mr Sarvesh\n",
    "Farhan\n",
    "Sam\n",
    "Peter\n",
    "K\n",
    "P\n",
    "M\n",
    "Mr T'''\n",
    "\n",
    "pat=r'M(rs|r|s)\\.?_? ?[A-Z][a-z]+'\n",
    "\n",
    "x=re.finditer(pat,names)\n",
    "\n",
    "for i in x:\n",
    "    print(i)"
   ]
  },
  {
   "cell_type": "code",
   "execution_count": 136,
   "id": "24c50ead",
   "metadata": {},
   "outputs": [
    {
     "name": "stdout",
     "output_type": "stream",
     "text": [
      "<re.Match object; span=(0, 21), match='ashishsom@learnbay.co'>\n",
      "<re.Match object; span=(78, 96), match='amit_123@gmail.com'>\n",
      "<re.Match object; span=(125, 136), match='info@gov.in'>\n",
      "<re.Match object; span=(152, 164), match='mail@info.in'>\n",
      "<re.Match object; span=(165, 191), match='shweta_analyst@hotmail.com'>\n",
      "<re.Match object; span=(192, 216), match='rajesh_mba.123@yahoo.com'>\n"
     ]
    }
   ],
   "source": [
    "emails='''ashishsom@learnbay.co\n",
    "123_amit.com\n",
    "@#!$#@$%#@%\n",
    "xyz.com\n",
    "    earqewr\n",
    "asfddasfew\n",
    "amit_123@gmail.com\n",
    "dsafsdfdsFSDGGT\n",
    "12432546436\n",
    "info@gov.in\n",
    "@go.in\n",
    "abc.com\n",
    "mail@info.in\n",
    "shweta_analyst@hotmail.com\n",
    "rajesh_mba.123@yahoo.com\n",
    "'''\n",
    "\n",
    "pat=r'[a-z]+_?[a-z]*[0-9]*\\.?[a-z]*[0-9]*@[a-z]+(.com|.in|.edu|.co|.org)'\n",
    "\n",
    "x=re.finditer(pat,emails)\n",
    "\n",
    "for i in x:\n",
    "    print(i)"
   ]
  },
  {
   "cell_type": "code",
   "execution_count": 137,
   "id": "4938f129",
   "metadata": {},
   "outputs": [
    {
     "name": "stdout",
     "output_type": "stream",
     "text": [
      "<re.Match object; span=(0, 21), match='ashishsom@learnbay.co'>\n",
      "<re.Match object; span=(78, 96), match='amit_123@gmail.com'>\n",
      "<re.Match object; span=(125, 136), match='info@gov.in'>\n",
      "<re.Match object; span=(152, 164), match='mail@info.in'>\n",
      "<re.Match object; span=(165, 191), match='shweta_analyst@hotmail.com'>\n",
      "<re.Match object; span=(192, 216), match='rajesh_mba.123@yahoo.xyz'>\n"
     ]
    }
   ],
   "source": [
    "emails='''ashishsom@learnbay.co\n",
    "123_amit.com\n",
    "@#!$#@$%#@%\n",
    "xyz.com\n",
    "    earqewr\n",
    "asfddasfew\n",
    "amit_123@gmail.com\n",
    "dsafsdfdsFSDGGT\n",
    "12432546436\n",
    "info@gov.in\n",
    "@go.in\n",
    "abc.com\n",
    "mail@info.in\n",
    "shweta_analyst@hotmail.com\n",
    "rajesh_mba.123@yahoo.xyz\n",
    "'''\n",
    "\n",
    "pat=r'[a-z]+_?[a-z]*[0-9]*\\.?[a-z]*[0-9]*@[a-z]+\\.[a-z]+'\n",
    "\n",
    "x=re.finditer(pat,emails)\n",
    "\n",
    "for i in x:\n",
    "    print(i)"
   ]
  },
  {
   "cell_type": "code",
   "execution_count": 139,
   "id": "d7f473e7",
   "metadata": {},
   "outputs": [
    {
     "name": "stdout",
     "output_type": "stream",
     "text": [
      "<re.Match object; span=(0, 21), match='ashishsom@learnbay.co'>\n",
      "<re.Match object; span=(78, 96), match='amit_123@gmail.com'>\n",
      "<re.Match object; span=(125, 136), match='info@gov.in'>\n",
      "<re.Match object; span=(152, 164), match='mail@info.in'>\n",
      "<re.Match object; span=(165, 191), match='shweta_analyst@hotmail.com'>\n",
      "<re.Match object; span=(192, 216), match='rajesh_mba.123@yahoo.xyz'>\n"
     ]
    }
   ],
   "source": [
    "emails='''ashishsom@learnbay.co\n",
    "123_amit.com\n",
    "@#!$#@$%#@%\n",
    "xyz.com\n",
    "    earqewr\n",
    "asfddasfew\n",
    "amit_123@gmail.com\n",
    "dsafsdfdsFSDGGT\n",
    "12432546436\n",
    "info@gov.in\n",
    "@go.in\n",
    "abc.com\n",
    "mail@info.in\n",
    "shweta_analyst@hotmail.com\n",
    "rajesh_mba.123@yahoo.xyz\n",
    "'''\n",
    "\n",
    "pat=r'[a-z]+_?[a-z]*[0-9]*\\.?[a-z]*[0-9]*@.+'\n",
    "\n",
    "x=re.finditer(pat,emails)\n",
    "\n",
    "for i in x:\n",
    "    print(i)"
   ]
  },
  {
   "cell_type": "code",
   "execution_count": 149,
   "id": "302ee334",
   "metadata": {},
   "outputs": [
    {
     "name": "stdout",
     "output_type": "stream",
     "text": [
      "<re.Match object; span=(0, 2), match='\\\\s'>\n",
      "<re.Match object; span=(32, 34), match='\\\\s'>\n",
      "<re.Match object; span=(37, 39), match='\\\\s'>\n"
     ]
    }
   ],
   "source": [
    "# Match \\s\n",
    "\n",
    "text='\\s1324\\w3546\\rdqrtret\\d34325\\v\\S34\\s565\\s47'\n",
    "pat=r'\\\\s'\n",
    "\n",
    "x=re.finditer(pat,text)\n",
    "\n",
    "for i in x:\n",
    "    print(i)"
   ]
  },
  {
   "cell_type": "code",
   "execution_count": 146,
   "id": "4f747dbd",
   "metadata": {},
   "outputs": [],
   "source": [
    "# special sequences\n",
    "\n",
    "# Python- \\n \\t \\r \\v\n",
    "# Regex- \\s \\w \\d \\D \\b etc\n",
    "\n",
    "# \\- Escape sequence- It converts a special sequence into normal character"
   ]
  },
  {
   "cell_type": "markdown",
   "id": "752e922e",
   "metadata": {},
   "source": [
    "# sub()"
   ]
  },
  {
   "cell_type": "code",
   "execution_count": 150,
   "id": "97162db7",
   "metadata": {},
   "outputs": [],
   "source": [
    "# - It replaces a pattern with some other string"
   ]
  },
  {
   "cell_type": "code",
   "execution_count": 151,
   "id": "a0cc4f4b",
   "metadata": {},
   "outputs": [],
   "source": [
    "# re.sub(pat,new_string,string)"
   ]
  },
  {
   "cell_type": "code",
   "execution_count": 153,
   "id": "951f5912",
   "metadata": {},
   "outputs": [
    {
     "name": "stdout",
     "output_type": "stream",
     "text": [
      "This is Python class\n"
     ]
    }
   ],
   "source": [
    "# Each word should be seperated by space\n",
    "\n",
    "text='This!is@Python#class'\n",
    "pat=r'[@#!]'\n",
    "\n",
    "x=re.sub(pat,' ',text)\n",
    "print(x)"
   ]
  },
  {
   "cell_type": "code",
   "execution_count": 157,
   "id": "6b790da4",
   "metadata": {},
   "outputs": [
    {
     "name": "stdout",
     "output_type": "stream",
     "text": [
      "<re.Match object; span=(4, 7), match='123'>\n",
      "<re.Match object; span=(9, 13), match='1324'>\n",
      "<re.Match object; span=(19, 24), match='48848'>\n"
     ]
    }
   ],
   "source": [
    "# Each word should be seperated by space\n",
    "\n",
    "text='This123is1324Python48848class'\n",
    "pat=r'[0-9]+'\n",
    "\n",
    "x=re.finditer(pat,text)\n",
    "\n",
    "for i in x:\n",
    "    print(i)\n",
    "    \n",
    "# x=re.sub(pat,' ',text)\n",
    "# print(x)"
   ]
  },
  {
   "cell_type": "code",
   "execution_count": 164,
   "id": "56be0303",
   "metadata": {},
   "outputs": [
    {
     "name": "stdout",
     "output_type": "stream",
     "text": [
      "<re.Match object; span=(4, 7), match='123'>\n",
      "<re.Match object; span=(9, 13), match='1324'>\n",
      "<re.Match object; span=(19, 24), match='48848'>\n"
     ]
    }
   ],
   "source": [
    "# Each word should be seperated by space\n",
    "\n",
    "text='This123is1324Python48848class. We are learning data science.'\n",
    "pat=r'\\d+'\n",
    "\n",
    "x=re.finditer(pat,text)\n",
    "\n",
    "for i in x:\n",
    "    print(i)\n",
    "    \n"
   ]
  },
  {
   "cell_type": "code",
   "execution_count": 167,
   "id": "020c62f4",
   "metadata": {},
   "outputs": [
    {
     "name": "stdout",
     "output_type": "stream",
     "text": [
      "This is Python class. We are learning data science.\n"
     ]
    }
   ],
   "source": [
    "x=re.sub(pat,' ',text)\n",
    "print(x)"
   ]
  },
  {
   "cell_type": "code",
   "execution_count": 170,
   "id": "6fe640c8",
   "metadata": {},
   "outputs": [
    {
     "name": "stdout",
     "output_type": "stream",
     "text": [
      "This is Python class. We are learning data science.\n"
     ]
    }
   ],
   "source": [
    "# Each word should be seperated by space\n",
    "\n",
    "text='This123@$#$#is132#%$%^$^4Python48848class. We@##$#%are learning data science.'\n",
    "pat=r'[0-9~!@#$%&*^]+'\n",
    "\n",
    "x=re.finditer(pat,text)\n",
    "\n",
    "x=re.sub(pat,' ',text)\n",
    "print(x)"
   ]
  },
  {
   "cell_type": "code",
   "execution_count": null,
   "id": "09966272",
   "metadata": {},
   "outputs": [],
   "source": []
  }
 ],
 "metadata": {
  "kernelspec": {
   "display_name": "Python 3 (ipykernel)",
   "language": "python",
   "name": "python3"
  },
  "language_info": {
   "codemirror_mode": {
    "name": "ipython",
    "version": 3
   },
   "file_extension": ".py",
   "mimetype": "text/x-python",
   "name": "python",
   "nbconvert_exporter": "python",
   "pygments_lexer": "ipython3",
   "version": "3.9.13"
  }
 },
 "nbformat": 4,
 "nbformat_minor": 5
}
