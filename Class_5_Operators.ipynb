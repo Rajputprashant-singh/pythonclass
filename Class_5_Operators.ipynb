{
 "cells": [
  {
   "cell_type": "code",
   "execution_count": 1,
   "id": "f9f38870",
   "metadata": {},
   "outputs": [],
   "source": [
    "# bool()\n",
    "# Logical operators\n",
    "# Comparison Operators\n",
    "# Equality Operators"
   ]
  },
  {
   "cell_type": "markdown",
   "id": "71383b54",
   "metadata": {},
   "source": [
    "# bool()"
   ]
  },
  {
   "cell_type": "markdown",
   "id": "3d0a62df",
   "metadata": {},
   "source": [
    "- It returns a boolean value (True, False)\n",
    "- It typecasts to boolean"
   ]
  },
  {
   "cell_type": "code",
   "execution_count": 54,
   "id": "0fa72aef",
   "metadata": {},
   "outputs": [],
   "source": [
    "# int- 0- False else True\n",
    "# float- 0.0- False else True\n",
    "# complex- 0+0j or 0.0+0.0j- False else True\n",
    "# string- ''- False else True\n",
    "# List- []- False else True\n",
    "# Tuple- ()- False else True\n",
    "# Dictionary- {}- False else True\n",
    "# Frozenset- frozenset()- False or frozenset(empty iterable)- False else True"
   ]
  },
  {
   "cell_type": "code",
   "execution_count": 6,
   "id": "e21a2912",
   "metadata": {},
   "outputs": [
    {
     "name": "stdout",
     "output_type": "stream",
     "text": [
      "0 <class 'int'>\n",
      "False\n",
      "True\n",
      "True\n"
     ]
    }
   ],
   "source": [
    "a=0\n",
    "print(a,type(a))\n",
    "print(bool(a))\n",
    "\n",
    "a=5\n",
    "print(bool(a))\n",
    "\n",
    "a=-10\n",
    "print(bool(a))"
   ]
  },
  {
   "cell_type": "code",
   "execution_count": 10,
   "id": "a5299a25",
   "metadata": {},
   "outputs": [
    {
     "name": "stdout",
     "output_type": "stream",
     "text": [
      "0.0 <class 'float'>\n",
      "False\n",
      "True\n",
      "True\n"
     ]
    }
   ],
   "source": [
    "a=0.0\n",
    "print(a,type(a))\n",
    "print(bool(a))\n",
    "\n",
    "a=0.2\n",
    "print(bool(a))\n",
    "\n",
    "a=-1.2\n",
    "print(bool(a))"
   ]
  },
  {
   "cell_type": "code",
   "execution_count": 15,
   "id": "8e0e0dc3",
   "metadata": {},
   "outputs": [
    {
     "name": "stdout",
     "output_type": "stream",
     "text": [
      "0j <class 'complex'>\n",
      "False\n",
      "False\n",
      "True\n"
     ]
    }
   ],
   "source": [
    "a=0+0j\n",
    "print(a,type(a))\n",
    "print(bool(a))\n",
    "\n",
    "a=0.0+0.0j\n",
    "print(bool(a))\n",
    "\n",
    "a=5+0j\n",
    "print(bool(a))"
   ]
  },
  {
   "cell_type": "code",
   "execution_count": 21,
   "id": "4ce59c26",
   "metadata": {},
   "outputs": [
    {
     "name": "stdout",
     "output_type": "stream",
     "text": [
      " <class 'str'>\n",
      "False\n",
      "True\n",
      "True\n"
     ]
    }
   ],
   "source": [
    "a=''\n",
    "print(a,type(a))\n",
    "print(bool(a))\n",
    "\n",
    "a='0'\n",
    "print(bool(a))\n",
    "\n",
    "a='!'\n",
    "print(bool(a))"
   ]
  },
  {
   "cell_type": "code",
   "execution_count": 27,
   "id": "e2abaad9",
   "metadata": {},
   "outputs": [
    {
     "name": "stdout",
     "output_type": "stream",
     "text": [
      "[] <class 'list'>\n",
      "0\n",
      "False\n",
      "True\n"
     ]
    }
   ],
   "source": [
    "a=[]\n",
    "print(a,type(a))\n",
    "print(len(a))\n",
    "print(bool(a))\n",
    "\n",
    "a=[10,20]\n",
    "print(bool(a))"
   ]
  },
  {
   "cell_type": "code",
   "execution_count": 31,
   "id": "e464ed31",
   "metadata": {},
   "outputs": [
    {
     "name": "stdout",
     "output_type": "stream",
     "text": [
      "() <class 'tuple'>\n",
      "0\n",
      "2\n",
      "True\n"
     ]
    }
   ],
   "source": [
    "a=()\n",
    "print(a,type(a))\n",
    "print(len(a))\n",
    "\n",
    "a=(0,0)\n",
    "print(len(a))\n",
    "print(bool(a))"
   ]
  },
  {
   "cell_type": "code",
   "execution_count": 210,
   "id": "3eac91f9",
   "metadata": {},
   "outputs": [
    {
     "name": "stdout",
     "output_type": "stream",
     "text": [
      "4 <class 'int'>\n",
      "2.5 <class 'float'>\n",
      "abcd <class 'str'>\n"
     ]
    }
   ],
   "source": [
    "a=(4)\n",
    "print(a,type(a))\n",
    "\n",
    "a=(2.5)\n",
    "print(a,type(a))\n",
    "\n",
    "a=('abcd')\n",
    "print(a,type(a))"
   ]
  },
  {
   "cell_type": "code",
   "execution_count": 41,
   "id": "d8ea9aee",
   "metadata": {},
   "outputs": [
    {
     "name": "stdout",
     "output_type": "stream",
     "text": [
      "(4,) <class 'tuple'>\n",
      "(2.5,) <class 'tuple'>\n",
      "('abcd',) <class 'tuple'>\n"
     ]
    }
   ],
   "source": [
    "a=(4,)\n",
    "print(a,type(a))\n",
    "\n",
    "a=(2.5,)\n",
    "print(a,type(a))\n",
    "\n",
    "a=('abcd',)\n",
    "print(a,type(a))"
   ]
  },
  {
   "cell_type": "code",
   "execution_count": 43,
   "id": "e060ad5a",
   "metadata": {},
   "outputs": [
    {
     "name": "stdout",
     "output_type": "stream",
     "text": [
      "0 <class 'int'>\n",
      "False\n"
     ]
    }
   ],
   "source": [
    "a=(0)\n",
    "print(a,type(a))\n",
    "print(bool(a))"
   ]
  },
  {
   "cell_type": "code",
   "execution_count": 46,
   "id": "5b950033",
   "metadata": {},
   "outputs": [
    {
     "name": "stdout",
     "output_type": "stream",
     "text": [
      "(0,) <class 'tuple'>\n",
      "1\n",
      "True\n"
     ]
    }
   ],
   "source": [
    "a=(0,)\n",
    "print(a,type(a))\n",
    "print(len(a))\n",
    "print(bool(a))"
   ]
  },
  {
   "cell_type": "code",
   "execution_count": 53,
   "id": "9dc3b9d6",
   "metadata": {},
   "outputs": [
    {
     "name": "stdout",
     "output_type": "stream",
     "text": [
      "{} <class 'dict'>\n",
      "False\n",
      "{0, 10, 3, 20} <class 'set'>\n",
      "True\n",
      "{1: 0} <class 'dict'>\n",
      "True\n"
     ]
    }
   ],
   "source": [
    "a={}\n",
    "print(a,type(a))\n",
    "print(bool(a))\n",
    "\n",
    "a={10,20,3,0}\n",
    "print(a,type(a))\n",
    "print(bool(a))\n",
    "\n",
    "a={1:0}\n",
    "print(a,type(a))\n",
    "print(bool(a))"
   ]
  },
  {
   "cell_type": "code",
   "execution_count": 68,
   "id": "475e2f41",
   "metadata": {},
   "outputs": [
    {
     "name": "stdout",
     "output_type": "stream",
     "text": [
      "frozenset() <class 'frozenset'>\n",
      "0\n",
      "False\n",
      "frozenset() <class 'frozenset'>\n",
      "0\n",
      "False\n",
      "frozenset({0}) <class 'frozenset'>\n",
      "1\n",
      "True\n"
     ]
    }
   ],
   "source": [
    "a=frozenset()\n",
    "print(a,type(a))\n",
    "print(len(a))\n",
    "print(bool(a))\n",
    "\n",
    "a=frozenset([])\n",
    "print(a,type(a))\n",
    "print(len(a))\n",
    "print(bool(a))\n",
    "\n",
    "a=frozenset([0])\n",
    "print(a,type(a))\n",
    "print(len(a))\n",
    "print(bool(a))"
   ]
  },
  {
   "cell_type": "markdown",
   "id": "b027b521",
   "metadata": {},
   "source": [
    "# Logical Operators"
   ]
  },
  {
   "cell_type": "markdown",
   "id": "673a5d5e",
   "metadata": {},
   "source": [
    "- These operators are used to perform logical operations on the values.\n",
    "- These operators always return a boolean value (True, False)."
   ]
  },
  {
   "cell_type": "code",
   "execution_count": 69,
   "id": "dddd359e",
   "metadata": {},
   "outputs": [],
   "source": [
    "# and\n",
    "# or\n",
    "# not"
   ]
  },
  {
   "cell_type": "markdown",
   "id": "60db4896",
   "metadata": {},
   "source": [
    "# and"
   ]
  },
  {
   "cell_type": "markdown",
   "id": "53f2aa32",
   "metadata": {},
   "source": [
    "- and operators looks for False. As soon as it gets False, it returns False.\n",
    "- If there is no False then it returns the last True.\n",
    "- True and True is True else False"
   ]
  },
  {
   "cell_type": "code",
   "execution_count": 73,
   "id": "bb2e489e",
   "metadata": {},
   "outputs": [
    {
     "name": "stdout",
     "output_type": "stream",
     "text": [
      "True\n",
      "False\n",
      "False\n",
      "False\n"
     ]
    }
   ],
   "source": [
    "print(True and True)\n",
    "print(True and False)\n",
    "print(False and True)\n",
    "print(False and False)"
   ]
  },
  {
   "cell_type": "code",
   "execution_count": 3,
   "id": "b951706f",
   "metadata": {},
   "outputs": [
    {
     "name": "stdout",
     "output_type": "stream",
     "text": [
      "20\n",
      "[]\n",
      "{}\n",
      "()\n",
      "()\n"
     ]
    }
   ],
   "source": [
    "print(10 and 20)\n",
    "print(10 and [])\n",
    "print({} and 10)\n",
    "print(() and '')\n",
    "print(() and 20) # False and True"
   ]
  },
  {
   "cell_type": "code",
   "execution_count": 84,
   "id": "a7fccb1e",
   "metadata": {},
   "outputs": [
    {
     "data": {
      "text/plain": [
       "False"
      ]
     },
     "execution_count": 84,
     "metadata": {},
     "output_type": "execute_result"
    }
   ],
   "source": [
    "bool(())"
   ]
  },
  {
   "cell_type": "markdown",
   "id": "5161dd80",
   "metadata": {},
   "source": [
    "# or"
   ]
  },
  {
   "cell_type": "markdown",
   "id": "cded380a",
   "metadata": {},
   "source": [
    "- It looks for True. As soon as it gets True, it  returns True.\n",
    "- If there is no True then it returns the last False.\n",
    "- False or False is False else True."
   ]
  },
  {
   "cell_type": "code",
   "execution_count": 89,
   "id": "4bc87c14",
   "metadata": {},
   "outputs": [
    {
     "name": "stdout",
     "output_type": "stream",
     "text": [
      "True\n",
      "True\n",
      "True\n",
      "False\n"
     ]
    }
   ],
   "source": [
    "print(True or True)\n",
    "print(True or False)\n",
    "print(False or True)\n",
    "print(False or False)"
   ]
  },
  {
   "cell_type": "code",
   "execution_count": 94,
   "id": "ae18a310",
   "metadata": {},
   "outputs": [
    {
     "name": "stdout",
     "output_type": "stream",
     "text": [
      "10\n",
      "[0]\n",
      "Python\n",
      "0.0\n",
      "(1+1j)\n"
     ]
    }
   ],
   "source": [
    "print(10 or 20) # True or True\n",
    "print([0] or '')\n",
    "print({} or 'Python')\n",
    "print('' or 0.0)\n",
    "print(0+0j or 1+1j)"
   ]
  },
  {
   "cell_type": "markdown",
   "id": "31c94785",
   "metadata": {},
   "source": [
    "# not"
   ]
  },
  {
   "cell_type": "markdown",
   "id": "9b3d10b4",
   "metadata": {},
   "source": [
    "- It is unary operator because it is applied on a single operand (value).\n",
    "- It returns the opposite value (True- False, False- True)"
   ]
  },
  {
   "cell_type": "code",
   "execution_count": 96,
   "id": "74a2341e",
   "metadata": {},
   "outputs": [
    {
     "name": "stdout",
     "output_type": "stream",
     "text": [
      "False\n",
      "True\n"
     ]
    }
   ],
   "source": [
    "print(not True)\n",
    "print(not False)"
   ]
  },
  {
   "cell_type": "code",
   "execution_count": 98,
   "id": "d8398f61",
   "metadata": {},
   "outputs": [
    {
     "name": "stdout",
     "output_type": "stream",
     "text": [
      "False\n",
      "True\n"
     ]
    }
   ],
   "source": [
    "print(not 10)\n",
    "print(not '')"
   ]
  },
  {
   "cell_type": "markdown",
   "id": "22ca4a77",
   "metadata": {},
   "source": [
    "# Comparison Operators"
   ]
  },
  {
   "cell_type": "markdown",
   "id": "9f7cf49b",
   "metadata": {},
   "source": [
    "- Comparison operators are used to compare two values.\n",
    "- Comarison operators return boolean value (True, False)"
   ]
  },
  {
   "cell_type": "code",
   "execution_count": 99,
   "id": "83c520eb",
   "metadata": {},
   "outputs": [],
   "source": [
    "# < less than\n",
    "# > greater than\n",
    "# <= less than equal to\n",
    "# >= greater than equa to"
   ]
  },
  {
   "cell_type": "code",
   "execution_count": 104,
   "id": "1bacfd48",
   "metadata": {},
   "outputs": [
    {
     "name": "stdout",
     "output_type": "stream",
     "text": [
      "True\n",
      "True\n",
      "False\n",
      "False\n"
     ]
    }
   ],
   "source": [
    "print(10<50)\n",
    "print(50>20)\n",
    "print(10<3)\n",
    "print(20>500)"
   ]
  },
  {
   "cell_type": "code",
   "execution_count": 109,
   "id": "835d2cd2",
   "metadata": {},
   "outputs": [
    {
     "name": "stdout",
     "output_type": "stream",
     "text": [
      "True\n",
      "True\n",
      "False\n"
     ]
    }
   ],
   "source": [
    "print(10>2.5)\n",
    "print(50<252.8)\n",
    "print(2.5>6.8)"
   ]
  },
  {
   "cell_type": "code",
   "execution_count": 115,
   "id": "a2d86ac6",
   "metadata": {},
   "outputs": [
    {
     "name": "stdout",
     "output_type": "stream",
     "text": [
      "True\n",
      "True\n",
      "False\n",
      "True\n",
      "True\n"
     ]
    }
   ],
   "source": [
    "print(10<=20)\n",
    "print(10<=10)\n",
    "print(10>=20)\n",
    "print(-2<5)\n",
    "print(-2>-6)"
   ]
  },
  {
   "cell_type": "code",
   "execution_count": 118,
   "id": "c8d4b3a3",
   "metadata": {},
   "outputs": [],
   "source": [
    "# print(10+20j<4+5j)"
   ]
  },
  {
   "cell_type": "code",
   "execution_count": 117,
   "id": "b95293ad",
   "metadata": {},
   "outputs": [],
   "source": [
    "# print(10<'abc')"
   ]
  },
  {
   "cell_type": "code",
   "execution_count": 119,
   "id": "32c8c62d",
   "metadata": {},
   "outputs": [
    {
     "name": "stdout",
     "output_type": "stream",
     "text": [
      "True\n"
     ]
    }
   ],
   "source": [
    "print('a'<'d')"
   ]
  },
  {
   "cell_type": "code",
   "execution_count": 120,
   "id": "42dce57e",
   "metadata": {},
   "outputs": [],
   "source": [
    "# When we compare two string characters then it compares their ASCII value.\n",
    "# ASCII- American Standard Code for Information Interchange"
   ]
  },
  {
   "cell_type": "code",
   "execution_count": 121,
   "id": "17e4b488",
   "metadata": {},
   "outputs": [],
   "source": [
    "# ord()- returns the ASCII value of a character"
   ]
  },
  {
   "cell_type": "code",
   "execution_count": 122,
   "id": "4367c7f4",
   "metadata": {},
   "outputs": [
    {
     "data": {
      "text/plain": [
       "97"
      ]
     },
     "execution_count": 122,
     "metadata": {},
     "output_type": "execute_result"
    }
   ],
   "source": [
    "ord('a')"
   ]
  },
  {
   "cell_type": "code",
   "execution_count": 123,
   "id": "553ef835",
   "metadata": {},
   "outputs": [
    {
     "data": {
      "text/plain": [
       "122"
      ]
     },
     "execution_count": 123,
     "metadata": {},
     "output_type": "execute_result"
    }
   ],
   "source": [
    "ord('z')"
   ]
  },
  {
   "cell_type": "code",
   "execution_count": 124,
   "id": "90cd1855",
   "metadata": {},
   "outputs": [],
   "source": [
    "# a-z ->  97-122\n",
    "# A-Z -> 65-90"
   ]
  },
  {
   "cell_type": "code",
   "execution_count": 131,
   "id": "3bda0c1c",
   "metadata": {},
   "outputs": [
    {
     "data": {
      "text/plain": [
       "(65, 90, 45)"
      ]
     },
     "execution_count": 131,
     "metadata": {},
     "output_type": "execute_result"
    }
   ],
   "source": [
    "ord('A'),ord('Z'),ord('-')"
   ]
  },
  {
   "cell_type": "code",
   "execution_count": 132,
   "id": "7459adea",
   "metadata": {},
   "outputs": [
    {
     "name": "stdout",
     "output_type": "stream",
     "text": [
      "False\n",
      "True\n"
     ]
    }
   ],
   "source": [
    "print('A'>'a')\n",
    "print('Z'<'f')"
   ]
  },
  {
   "cell_type": "code",
   "execution_count": 135,
   "id": "5ba1f846",
   "metadata": {},
   "outputs": [
    {
     "name": "stdout",
     "output_type": "stream",
     "text": [
      "False\n",
      "True\n",
      "True\n"
     ]
    }
   ],
   "source": [
    "print('Python'<'Java')\n",
    "print('PYTHON'<'java')\n",
    "print('Amit'>'Aarti')"
   ]
  },
  {
   "cell_type": "code",
   "execution_count": 137,
   "id": "0d02bbd9",
   "metadata": {},
   "outputs": [],
   "source": [
    "# print(10<'A')"
   ]
  },
  {
   "cell_type": "markdown",
   "id": "390aee04",
   "metadata": {},
   "source": [
    "# Equality Operators"
   ]
  },
  {
   "cell_type": "markdown",
   "id": "f8486991",
   "metadata": {},
   "source": [
    "- These are comparison operators too.\n",
    "- These operators return boolean values.\n",
    "- These operators check whether two values are equal or not."
   ]
  },
  {
   "cell_type": "code",
   "execution_count": 138,
   "id": "72ec1130",
   "metadata": {},
   "outputs": [],
   "source": [
    "# == equal to equal to\n",
    "# != not equal to"
   ]
  },
  {
   "cell_type": "markdown",
   "id": "49de6b36",
   "metadata": {},
   "source": [
    "# == equal to equal to"
   ]
  },
  {
   "cell_type": "markdown",
   "id": "3278ad0c",
   "metadata": {},
   "source": [
    "- If two values are the same (equal) then it returns True else False"
   ]
  },
  {
   "cell_type": "code",
   "execution_count": 141,
   "id": "7d33ac3a",
   "metadata": {},
   "outputs": [
    {
     "name": "stdout",
     "output_type": "stream",
     "text": [
      "True\n",
      "True\n",
      "False\n"
     ]
    }
   ],
   "source": [
    "print(10==10)\n",
    "print(65==ord('A'))\n",
    "print('a'=='A')"
   ]
  },
  {
   "cell_type": "markdown",
   "id": "354964ed",
   "metadata": {},
   "source": [
    "# != not equal to"
   ]
  },
  {
   "cell_type": "markdown",
   "id": "a2f7bd20",
   "metadata": {},
   "source": [
    "- If two values are not equal then it returns True else False"
   ]
  },
  {
   "cell_type": "code",
   "execution_count": 144,
   "id": "800ac89e",
   "metadata": {},
   "outputs": [
    {
     "name": "stdout",
     "output_type": "stream",
     "text": [
      "True\n",
      "False\n",
      "True\n"
     ]
    }
   ],
   "source": [
    "print(10!=5)\n",
    "print('A'!='A')\n",
    "print(5==5.0)"
   ]
  },
  {
   "cell_type": "markdown",
   "id": "1eda2ba5",
   "metadata": {},
   "source": [
    "# Assignment Operator"
   ]
  },
  {
   "cell_type": "markdown",
   "id": "b5e9e877",
   "metadata": {},
   "source": [
    "- It is used to assign a value to a variable"
   ]
  },
  {
   "cell_type": "markdown",
   "id": "e499a652",
   "metadata": {},
   "source": [
    "= equal to is the assignment operator."
   ]
  },
  {
   "cell_type": "code",
   "execution_count": 145,
   "id": "b6c6b43d",
   "metadata": {},
   "outputs": [
    {
     "name": "stdout",
     "output_type": "stream",
     "text": [
      "5\n"
     ]
    }
   ],
   "source": [
    "a=5\n",
    "print(a)"
   ]
  },
  {
   "cell_type": "code",
   "execution_count": 146,
   "id": "a835ca39",
   "metadata": {},
   "outputs": [],
   "source": [
    "# a==5 # It will check whether the value of a is equal to 5 or not\n",
    "# a=5 # The value 5 will be assigned to the variable a"
   ]
  },
  {
   "cell_type": "markdown",
   "id": "25d2ffcb",
   "metadata": {},
   "source": [
    "# Membership Operators"
   ]
  },
  {
   "cell_type": "markdown",
   "id": "40dc4729",
   "metadata": {},
   "source": [
    "- These operators check whether a value is the part of a container type or not.\n",
    "- These operators return boolean values (True, False)"
   ]
  },
  {
   "cell_type": "code",
   "execution_count": 147,
   "id": "0931d10a",
   "metadata": {},
   "outputs": [],
   "source": [
    "# in \n",
    "# not in"
   ]
  },
  {
   "cell_type": "code",
   "execution_count": 148,
   "id": "bfe4a151",
   "metadata": {},
   "outputs": [],
   "source": [
    "# Container types- String, List, Tuple, Dictionary, Set, Frozenset, Range"
   ]
  },
  {
   "cell_type": "markdown",
   "id": "5a20e76d",
   "metadata": {},
   "source": [
    "# in"
   ]
  },
  {
   "cell_type": "code",
   "execution_count": null,
   "id": "973ad401",
   "metadata": {},
   "outputs": [],
   "source": []
  },
  {
   "cell_type": "markdown",
   "id": "49dddae5",
   "metadata": {},
   "source": [
    "- If a value is the part of a container type then it returns True else False."
   ]
  },
  {
   "cell_type": "code",
   "execution_count": 151,
   "id": "81ad45cb",
   "metadata": {},
   "outputs": [
    {
     "name": "stdout",
     "output_type": "stream",
     "text": [
      "True\n",
      "False\n",
      "False\n"
     ]
    }
   ],
   "source": [
    "a='Python'\n",
    "print('h' in a)\n",
    "print('K' in a )\n",
    "print('p' in a)"
   ]
  },
  {
   "cell_type": "code",
   "execution_count": 155,
   "id": "122376f2",
   "metadata": {},
   "outputs": [
    {
     "name": "stdout",
     "output_type": "stream",
     "text": [
      "True\n",
      "True\n",
      "True\n",
      "False\n"
     ]
    }
   ],
   "source": [
    "lst=[True, None, 50, (1,2,3), 'Python', {1,2,3,4,5}]\n",
    "\n",
    "print(50 in lst)\n",
    "print('Python' in lst)\n",
    "print((1,2,3) in lst)\n",
    "print('abcd' in lst)"
   ]
  },
  {
   "cell_type": "code",
   "execution_count": 163,
   "id": "2ea6707c",
   "metadata": {},
   "outputs": [
    {
     "name": "stdout",
     "output_type": "stream",
     "text": [
      "True\n",
      "False\n",
      "True\n"
     ]
    }
   ],
   "source": [
    "d={1:100,2:200,3:300,4:400}\n",
    "\n",
    "print(1 in d)\n",
    "print(400 in d)\n",
    "print(200 in d.values())"
   ]
  },
  {
   "cell_type": "code",
   "execution_count": 160,
   "id": "974dbbd5",
   "metadata": {},
   "outputs": [
    {
     "name": "stdout",
     "output_type": "stream",
     "text": [
      "True\n",
      "False\n"
     ]
    }
   ],
   "source": [
    "s={1,2,3,4,5}\n",
    "\n",
    "print(1 in s)\n",
    "print(8 in s)"
   ]
  },
  {
   "cell_type": "markdown",
   "id": "6f42457a",
   "metadata": {},
   "source": [
    "# not in"
   ]
  },
  {
   "cell_type": "markdown",
   "id": "2329a04c",
   "metadata": {},
   "source": [
    "- If a value is not the part of a container type then it returns True else False"
   ]
  },
  {
   "cell_type": "code",
   "execution_count": 167,
   "id": "197a6aed",
   "metadata": {},
   "outputs": [
    {
     "name": "stdout",
     "output_type": "stream",
     "text": [
      "True\n",
      "True\n",
      "False\n",
      "False\n"
     ]
    }
   ],
   "source": [
    "print('a' not in 'Python')\n",
    "print(10 not in {1,2,3,4,5})\n",
    "print('a' not in 'aeiou')\n",
    "print(1 not in {1:100,2:200})"
   ]
  },
  {
   "cell_type": "markdown",
   "id": "1e4e6e38",
   "metadata": {},
   "source": [
    "# Identity Operators"
   ]
  },
  {
   "cell_type": "markdown",
   "id": "85c56604",
   "metadata": {},
   "source": [
    "- These operators check whether two values have the same memory address or not.\n",
    "- These operators compares the memory addresses of the values (not comapre the value).\n",
    "- These operators return the boolean values (True, False)"
   ]
  },
  {
   "cell_type": "code",
   "execution_count": 169,
   "id": "69e8e8f3",
   "metadata": {},
   "outputs": [],
   "source": [
    "# is\n",
    "# is not"
   ]
  },
  {
   "cell_type": "code",
   "execution_count": 168,
   "id": "d6b01aad",
   "metadata": {},
   "outputs": [],
   "source": [
    "# id()- It returns the memory address of a value."
   ]
  },
  {
   "cell_type": "markdown",
   "id": "e567cb94",
   "metadata": {},
   "source": [
    "# is"
   ]
  },
  {
   "cell_type": "markdown",
   "id": "71ed1cf9",
   "metadata": {},
   "source": [
    "- If two values have the same memory address then it return True else False"
   ]
  },
  {
   "cell_type": "code",
   "execution_count": 172,
   "id": "e9fb0b2a",
   "metadata": {},
   "outputs": [
    {
     "name": "stdout",
     "output_type": "stream",
     "text": [
      "True\n",
      "2524756273744\n",
      "2524756273744\n"
     ]
    }
   ],
   "source": [
    "a=10\n",
    "b=10\n",
    "\n",
    "print(a is b)\n",
    "print(id(a))\n",
    "print(id(b))"
   ]
  },
  {
   "cell_type": "code",
   "execution_count": 175,
   "id": "da456dcd",
   "metadata": {},
   "outputs": [
    {
     "name": "stdout",
     "output_type": "stream",
     "text": [
      "False\n",
      "2524873496624\n",
      "2524873497200\n"
     ]
    }
   ],
   "source": [
    "a=2.5\n",
    "b=2.5\n",
    "\n",
    "print(a is b)\n",
    "print(id(a))\n",
    "print(id(b))"
   ]
  },
  {
   "cell_type": "markdown",
   "id": "ef431cfc",
   "metadata": {},
   "source": [
    "# Object Reusability in Python"
   ]
  },
  {
   "cell_type": "code",
   "execution_count": 176,
   "id": "fa5ca6dd",
   "metadata": {},
   "outputs": [],
   "source": [
    "# int- -5 to 256\n",
    "# string- A-Z, a-z\n",
    "# Boolean- True and False\n",
    "\n",
    "# float, complex and any derived datatype don't follow the object reusability concept"
   ]
  },
  {
   "cell_type": "code",
   "execution_count": 178,
   "id": "f9261538",
   "metadata": {},
   "outputs": [
    {
     "name": "stdout",
     "output_type": "stream",
     "text": [
      "True\n",
      "2524756273584 2524756273584\n"
     ]
    }
   ],
   "source": [
    "a=5\n",
    "b=5\n",
    "print(a is b)\n",
    "print(id(a),id(b))"
   ]
  },
  {
   "cell_type": "code",
   "execution_count": 180,
   "id": "05fa5a47",
   "metadata": {},
   "outputs": [
    {
     "name": "stdout",
     "output_type": "stream",
     "text": [
      "False\n",
      "2524873497648 2524873497552\n"
     ]
    }
   ],
   "source": [
    "a=1000\n",
    "b=1000\n",
    "print(a is b)\n",
    "print(id(a),id(b))"
   ]
  },
  {
   "cell_type": "code",
   "execution_count": 182,
   "id": "d0cba9fb",
   "metadata": {},
   "outputs": [
    {
     "name": "stdout",
     "output_type": "stream",
     "text": [
      "False\n",
      "2524873496784 2524873496976\n"
     ]
    }
   ],
   "source": [
    "a=5.2\n",
    "b=5.2\n",
    "print(a is b)\n",
    "print(id(a),id(b))"
   ]
  },
  {
   "cell_type": "code",
   "execution_count": 184,
   "id": "ceb62374",
   "metadata": {},
   "outputs": [
    {
     "name": "stdout",
     "output_type": "stream",
     "text": [
      "True\n",
      "2524758661232 2524758661232\n"
     ]
    }
   ],
   "source": [
    "a='Python'\n",
    "b='Python'\n",
    "\n",
    "print(a is b)\n",
    "print(id(a),id(b))"
   ]
  },
  {
   "cell_type": "code",
   "execution_count": 198,
   "id": "09fa1f2c",
   "metadata": {},
   "outputs": [
    {
     "name": "stdout",
     "output_type": "stream",
     "text": [
      "False\n",
      "2524869420400 2524869422256\n"
     ]
    }
   ],
   "source": [
    "a='Python class'\n",
    "b='Python class'\n",
    "print(a is b)\n",
    "print(id(a),id(b))"
   ]
  },
  {
   "cell_type": "code",
   "execution_count": 190,
   "id": "5f2418c5",
   "metadata": {},
   "outputs": [
    {
     "name": "stdout",
     "output_type": "stream",
     "text": [
      "False\n",
      "2524869996864 2524869409216\n"
     ]
    }
   ],
   "source": [
    "a=[1,2,3,4,5]\n",
    "b=[1,2,3,4,5]\n",
    "print(a is b)\n",
    "print(id(a),id(b))"
   ]
  },
  {
   "cell_type": "code",
   "execution_count": 192,
   "id": "ea4df164",
   "metadata": {},
   "outputs": [
    {
     "name": "stdout",
     "output_type": "stream",
     "text": [
      "False\n",
      "2524870354624 2524868888064\n"
     ]
    }
   ],
   "source": [
    "a={1:100,2:200}\n",
    "b={1:100,2:200}\n",
    "print(a is b)\n",
    "print(id(a),id(b))"
   ]
  },
  {
   "cell_type": "code",
   "execution_count": 194,
   "id": "153cd457",
   "metadata": {},
   "outputs": [
    {
     "name": "stdout",
     "output_type": "stream",
     "text": [
      "True\n",
      "140716982925416 140716982925416\n"
     ]
    }
   ],
   "source": [
    "a=True\n",
    "b=True\n",
    "print(a is b)\n",
    "print(id(a),id(b))"
   ]
  },
  {
   "cell_type": "code",
   "execution_count": 212,
   "id": "1040656c",
   "metadata": {},
   "outputs": [
    {
     "name": "stdout",
     "output_type": "stream",
     "text": [
      "False\n",
      "2524758661232 2524837020528\n"
     ]
    }
   ],
   "source": [
    "a='Python'\n",
    "b='PythOn'\n",
    "print(a is b)\n",
    "print(id(a),id(b))"
   ]
  },
  {
   "cell_type": "code",
   "execution_count": 208,
   "id": "be4add6e",
   "metadata": {},
   "outputs": [
    {
     "name": "stdout",
     "output_type": "stream",
     "text": [
      "True\n"
     ]
    }
   ],
   "source": [
    "print('PYTHON'<'java')"
   ]
  },
  {
   "cell_type": "markdown",
   "id": "f93701c3",
   "metadata": {},
   "source": [
    "# Bitwise Opeartors"
   ]
  },
  {
   "cell_type": "code",
   "execution_count": 214,
   "id": "f74d00d9",
   "metadata": {},
   "outputs": [
    {
     "name": "stdout",
     "output_type": "stream",
     "text": [
      "True\n",
      "2524756273584 2524873683120 2524756273584\n"
     ]
    }
   ],
   "source": [
    "a=5\n",
    "b=5.2\n",
    "c=int(b)\n",
    "print(a is c)\n",
    "print(id(a),id(b),id(c))"
   ]
  },
  {
   "cell_type": "code",
   "execution_count": 215,
   "id": "8d662281",
   "metadata": {},
   "outputs": [
    {
     "data": {
      "text/plain": [
       "'C:\\\\Users\\\\Dell\\\\OneDrive\\\\Desktop\\\\Data Science\\\\Learn Bay Classes\\\\Python 10th March Batch'"
      ]
     },
     "execution_count": 215,
     "metadata": {},
     "output_type": "execute_result"
    }
   ],
   "source": [
    "pwd"
   ]
  },
  {
   "cell_type": "code",
   "execution_count": null,
   "id": "a53e646a",
   "metadata": {},
   "outputs": [],
   "source": []
  }
 ],
 "metadata": {
  "kernelspec": {
   "display_name": "Python 3 (ipykernel)",
   "language": "python",
   "name": "python3"
  },
  "language_info": {
   "codemirror_mode": {
    "name": "ipython",
    "version": 3
   },
   "file_extension": ".py",
   "mimetype": "text/x-python",
   "name": "python",
   "nbconvert_exporter": "python",
   "pygments_lexer": "ipython3",
   "version": "3.9.13"
  }
 },
 "nbformat": 4,
 "nbformat_minor": 5
}
