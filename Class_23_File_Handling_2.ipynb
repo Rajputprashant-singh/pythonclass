{
 "cells": [
  {
   "cell_type": "markdown",
   "id": "8d53f2d2",
   "metadata": {},
   "source": [
    "### 5- write and read mode - 'w+'"
   ]
  },
  {
   "cell_type": "markdown",
   "id": "9198d76c",
   "metadata": {},
   "source": [
    "- If the file already exists then it opens the file in writre mode and erases the previous data.\n",
    "- If the file does not exist then it creates the file with the given name and extension.\n",
    "- We are allowed to write into the file as well as we are allowed to read from the file."
   ]
  },
  {
   "cell_type": "code",
   "execution_count": 1,
   "id": "9a487844",
   "metadata": {},
   "outputs": [
    {
     "name": "stdout",
     "output_type": "stream",
     "text": [
      " Volume in drive C is OS\n",
      " Volume Serial Number is DC45-AD44\n",
      "\n",
      " Directory of C:\\Users\\Dell\\OneDrive\\Desktop\\Data Science\\Learn Bay Classes\\Python 10th March Batch\n",
      "\n",
      "04/14/2023  08:06 AM    <DIR>          .\n",
      "03/29/2023  10:06 PM    <DIR>          ..\n",
      "04/14/2023  08:04 AM    <DIR>          .ipynb_checkpoints\n",
      "04/13/2023  08:03 AM    <DIR>          __pycache__\n",
      "04/13/2023  09:11 AM                56 abcd.txt\n",
      "03/24/2023  10:00 AM             3,625 Assignent_1.ipynb\n",
      "03/13/2023  09:41 AM            14,015 Class_1_Introduction.ipynb\n",
      "03/28/2023  10:06 AM            32,651 Class_10_Loop.ipynb\n",
      "03/29/2023  10:04 AM            27,617 Class_11_Loop_2.ipynb\n",
      "03/30/2023  12:24 PM            33,543 Class_12_Transfer_Statements_and_List.ipynb\n",
      "03/31/2023  10:02 AM            44,291 Class_13_List_Methods.ipynb\n",
      "04/03/2023  09:58 AM            52,931 Class_14_List_Methods_2.ipynb\n",
      "04/04/2023  11:13 AM            49,861 Class_15_Tuple.ipynb\n",
      "04/06/2023  08:04 AM            40,232 Class_16_Dictionary.ipynb\n",
      "04/06/2023  09:43 AM            58,072 Class_17_Dictionary_Methods.ipynb\n",
      "04/07/2023  10:06 AM            25,372 Class_18_Functions.ipynb\n",
      "04/10/2023  09:53 AM            54,430 Class_19_Functions_2.ipynb\n",
      "03/15/2023  08:47 AM            25,288 Class_2_Introduction.ipynb\n",
      "04/11/2023  09:47 AM            20,021 Class_20_Function_3.ipynb\n",
      "04/12/2023  09:50 AM            51,288 Class_21_Modules.ipynb\n",
      "04/13/2023  09:47 AM            29,156 Class_22_File_Handling.ipynb\n",
      "04/14/2023  08:06 AM               983 Class_23_File_Handling_2.ipynb\n",
      "03/15/2023  10:02 AM            40,513 Class_3_Datatypes.ipynb\n",
      "03/17/2023  10:05 AM            41,128 Class_4_Typecasting.ipynb\n",
      "03/20/2023  11:59 AM            29,379 Class_5_Operators.ipynb\n",
      "03/21/2023  10:01 AM            43,803 Class_6_Operators_2.ipynb\n",
      "03/23/2023  09:54 AM            24,783 Class_7_String.ipynb\n",
      "03/24/2023  09:55 AM            31,800 Class_8_String_Methods.ipynb\n",
      "03/27/2023  10:02 AM            32,169 Class_9_Conditional_Statements.ipynb\n",
      "04/13/2023  09:28 AM                41 data.txt\n",
      "04/13/2023  09:46 AM               106 intro.txt\n",
      "04/13/2023  08:03 AM               304 march.py\n",
      "04/13/2023  08:05 AM                14 test.py\n",
      "04/12/2023  09:11 AM             2,978 Untitled.ipynb\n",
      "              30 File(s)        810,450 bytes\n",
      "               4 Dir(s)  177,477,713,920 bytes free\n"
     ]
    }
   ],
   "source": [
    "ls"
   ]
  },
  {
   "cell_type": "code",
   "execution_count": 6,
   "id": "306cb7da",
   "metadata": {},
   "outputs": [
    {
     "name": "stdout",
     "output_type": "stream",
     "text": [
      "0\n",
      "Hello Python\n"
     ]
    }
   ],
   "source": [
    "f=open('abcd.txt','w+')\n",
    "f.write('Hello Python')\n",
    "f.seek(0)\n",
    "print(f.tell())\n",
    "print(f.read())\n",
    "f.close()"
   ]
  },
  {
   "cell_type": "code",
   "execution_count": 9,
   "id": "0e6e5239",
   "metadata": {},
   "outputs": [],
   "source": [
    "f=open('host.txt','w+')\n",
    "f.write('This is a text file')\n",
    "f.close()"
   ]
  },
  {
   "cell_type": "code",
   "execution_count": 8,
   "id": "0dda0c97",
   "metadata": {},
   "outputs": [
    {
     "name": "stdout",
     "output_type": "stream",
     "text": [
      " Volume in drive C is OS\n",
      " Volume Serial Number is DC45-AD44\n",
      "\n",
      " Directory of C:\\Users\\Dell\\OneDrive\\Desktop\\Data Science\\Learn Bay Classes\\Python 10th March Batch\n",
      "\n",
      "04/14/2023  08:08 AM    <DIR>          .\n",
      "03/29/2023  10:06 PM    <DIR>          ..\n",
      "04/14/2023  08:04 AM    <DIR>          .ipynb_checkpoints\n",
      "04/13/2023  08:03 AM    <DIR>          __pycache__\n",
      "04/14/2023  08:08 AM                12 abcd.txt\n",
      "03/24/2023  10:00 AM             3,625 Assignent_1.ipynb\n",
      "03/13/2023  09:41 AM            14,015 Class_1_Introduction.ipynb\n",
      "03/28/2023  10:06 AM            32,651 Class_10_Loop.ipynb\n",
      "03/29/2023  10:04 AM            27,617 Class_11_Loop_2.ipynb\n",
      "03/30/2023  12:24 PM            33,543 Class_12_Transfer_Statements_and_List.ipynb\n",
      "03/31/2023  10:02 AM            44,291 Class_13_List_Methods.ipynb\n",
      "04/03/2023  09:58 AM            52,931 Class_14_List_Methods_2.ipynb\n",
      "04/04/2023  11:13 AM            49,861 Class_15_Tuple.ipynb\n",
      "04/06/2023  08:04 AM            40,232 Class_16_Dictionary.ipynb\n",
      "04/06/2023  09:43 AM            58,072 Class_17_Dictionary_Methods.ipynb\n",
      "04/07/2023  10:06 AM            25,372 Class_18_Functions.ipynb\n",
      "04/10/2023  09:53 AM            54,430 Class_19_Functions_2.ipynb\n",
      "03/15/2023  08:47 AM            25,288 Class_2_Introduction.ipynb\n",
      "04/11/2023  09:47 AM            20,021 Class_20_Function_3.ipynb\n",
      "04/12/2023  09:50 AM            51,288 Class_21_Modules.ipynb\n",
      "04/13/2023  09:47 AM            29,156 Class_22_File_Handling.ipynb\n",
      "04/14/2023  08:08 AM             4,556 Class_23_File_Handling_2.ipynb\n",
      "03/15/2023  10:02 AM            40,513 Class_3_Datatypes.ipynb\n",
      "03/17/2023  10:05 AM            41,128 Class_4_Typecasting.ipynb\n",
      "03/20/2023  11:59 AM            29,379 Class_5_Operators.ipynb\n",
      "03/21/2023  10:01 AM            43,803 Class_6_Operators_2.ipynb\n",
      "03/23/2023  09:54 AM            24,783 Class_7_String.ipynb\n",
      "03/24/2023  09:55 AM            31,800 Class_8_String_Methods.ipynb\n",
      "03/27/2023  10:02 AM            32,169 Class_9_Conditional_Statements.ipynb\n",
      "04/13/2023  09:28 AM                41 data.txt\n",
      "04/14/2023  08:08 AM                 0 host.txt\n",
      "04/13/2023  09:46 AM               106 intro.txt\n",
      "04/13/2023  08:03 AM               304 march.py\n",
      "04/13/2023  08:05 AM                14 test.py\n",
      "04/12/2023  09:11 AM             2,978 Untitled.ipynb\n",
      "              31 File(s)        813,979 bytes\n",
      "               4 Dir(s)  177,383,903,232 bytes free\n"
     ]
    }
   ],
   "source": [
    "ls"
   ]
  },
  {
   "cell_type": "markdown",
   "id": "caf6dfe7",
   "metadata": {},
   "source": [
    "### 6- append and read mode 'a+'"
   ]
  },
  {
   "cell_type": "markdown",
   "id": "84829881",
   "metadata": {},
   "source": [
    "- If the file already exists then it opens the file in append mode and places the cursor at the end of the file.\n",
    "- If the file does not exist then it creates the file with the given name and extension.\n",
    "- We are allowed to write to the file as well as read from the file.\n",
    "- seek() is not applicable while writing to the file."
   ]
  },
  {
   "cell_type": "code",
   "execution_count": 13,
   "id": "7f4b72ad",
   "metadata": {},
   "outputs": [
    {
     "name": "stdout",
     "output_type": "stream",
     "text": [
      "19\n",
      "\n",
      "0\n",
      "This is a text file\n"
     ]
    }
   ],
   "source": [
    "f=open('host.txt','a+')\n",
    "print(f.tell())\n",
    "print(f.read())\n",
    "f.seek(0)\n",
    "print(f.tell())\n",
    "print(f.read())"
   ]
  },
  {
   "cell_type": "code",
   "execution_count": 15,
   "id": "d30a363c",
   "metadata": {},
   "outputs": [
    {
     "name": "stdout",
     "output_type": "stream",
     "text": [
      "19\n"
     ]
    }
   ],
   "source": [
    "f=open('host.txt','a+')\n",
    "print(f.tell())\n",
    "f.write('. This is Python class')\n",
    "f.close()"
   ]
  },
  {
   "cell_type": "code",
   "execution_count": 17,
   "id": "fd90d527",
   "metadata": {},
   "outputs": [
    {
     "name": "stdout",
     "output_type": "stream",
     "text": [
      "5\n"
     ]
    }
   ],
   "source": [
    "f=open('host.txt','a+')\n",
    "f.seek(5)\n",
    "print(f.tell())\n",
    "f.write('Good morning!')\n",
    "f.close()"
   ]
  },
  {
   "cell_type": "code",
   "execution_count": 20,
   "id": "a738b3d2",
   "metadata": {},
   "outputs": [],
   "source": [
    "f=open('ff.txt','a+')\n",
    "f.close()"
   ]
  },
  {
   "cell_type": "code",
   "execution_count": 19,
   "id": "cbd34a6d",
   "metadata": {},
   "outputs": [
    {
     "name": "stdout",
     "output_type": "stream",
     "text": [
      " Volume in drive C is OS\n",
      " Volume Serial Number is DC45-AD44\n",
      "\n",
      " Directory of C:\\Users\\Dell\\OneDrive\\Desktop\\Data Science\\Learn Bay Classes\\Python 10th March Batch\n",
      "\n",
      "04/14/2023  08:16 AM    <DIR>          .\n",
      "03/29/2023  10:06 PM    <DIR>          ..\n",
      "04/14/2023  08:04 AM    <DIR>          .ipynb_checkpoints\n",
      "04/13/2023  08:03 AM    <DIR>          __pycache__\n",
      "04/14/2023  08:08 AM                12 abcd.txt\n",
      "03/24/2023  10:00 AM             3,625 Assignent_1.ipynb\n",
      "03/13/2023  09:41 AM            14,015 Class_1_Introduction.ipynb\n",
      "03/28/2023  10:06 AM            32,651 Class_10_Loop.ipynb\n",
      "03/29/2023  10:04 AM            27,617 Class_11_Loop_2.ipynb\n",
      "03/30/2023  12:24 PM            33,543 Class_12_Transfer_Statements_and_List.ipynb\n",
      "03/31/2023  10:02 AM            44,291 Class_13_List_Methods.ipynb\n",
      "04/03/2023  09:58 AM            52,931 Class_14_List_Methods_2.ipynb\n",
      "04/04/2023  11:13 AM            49,861 Class_15_Tuple.ipynb\n",
      "04/06/2023  08:04 AM            40,232 Class_16_Dictionary.ipynb\n",
      "04/06/2023  09:43 AM            58,072 Class_17_Dictionary_Methods.ipynb\n",
      "04/07/2023  10:06 AM            25,372 Class_18_Functions.ipynb\n",
      "04/10/2023  09:53 AM            54,430 Class_19_Functions_2.ipynb\n",
      "03/15/2023  08:47 AM            25,288 Class_2_Introduction.ipynb\n",
      "04/11/2023  09:47 AM            20,021 Class_20_Function_3.ipynb\n",
      "04/12/2023  09:50 AM            51,288 Class_21_Modules.ipynb\n",
      "04/13/2023  09:47 AM            29,156 Class_22_File_Handling.ipynb\n",
      "04/14/2023  08:16 AM             9,622 Class_23_File_Handling_2.ipynb\n",
      "03/15/2023  10:02 AM            40,513 Class_3_Datatypes.ipynb\n",
      "03/17/2023  10:05 AM            41,128 Class_4_Typecasting.ipynb\n",
      "03/20/2023  11:59 AM            29,379 Class_5_Operators.ipynb\n",
      "03/21/2023  10:01 AM            43,803 Class_6_Operators_2.ipynb\n",
      "03/23/2023  09:54 AM            24,783 Class_7_String.ipynb\n",
      "03/24/2023  09:55 AM            31,800 Class_8_String_Methods.ipynb\n",
      "03/27/2023  10:02 AM            32,169 Class_9_Conditional_Statements.ipynb\n",
      "04/13/2023  09:28 AM                41 data.txt\n",
      "04/14/2023  08:16 AM                 0 ff.txt\n",
      "04/14/2023  08:15 AM                54 host.txt\n",
      "04/13/2023  09:46 AM               106 intro.txt\n",
      "04/13/2023  08:03 AM               304 march.py\n",
      "04/13/2023  08:05 AM                14 test.py\n",
      "04/12/2023  09:11 AM             2,978 Untitled.ipynb\n",
      "              32 File(s)        819,099 bytes\n",
      "               4 Dir(s)  177,101,176,832 bytes free\n"
     ]
    }
   ],
   "source": [
    "ls"
   ]
  },
  {
   "cell_type": "markdown",
   "id": "0ef5bc14",
   "metadata": {},
   "source": [
    "# with open()"
   ]
  },
  {
   "cell_type": "markdown",
   "id": "7442fb62",
   "metadata": {},
   "source": [
    "- The file is automatically closed when we have finished the operation."
   ]
  },
  {
   "cell_type": "code",
   "execution_count": null,
   "id": "bf0ff00e",
   "metadata": {},
   "outputs": [],
   "source": [
    "with open('file_name.extension','mode') as file_object:\n",
    "    code\n",
    "    code"
   ]
  },
  {
   "cell_type": "code",
   "execution_count": 24,
   "id": "762f8948",
   "metadata": {},
   "outputs": [
    {
     "name": "stdout",
     "output_type": "stream",
     "text": [
      "0\n",
      "This is a text file. This is Python classGood morning!\n"
     ]
    },
    {
     "ename": "ValueError",
     "evalue": "I/O operation on closed file.",
     "output_type": "error",
     "traceback": [
      "\u001b[1;31m---------------------------------------------------------------------------\u001b[0m",
      "\u001b[1;31mValueError\u001b[0m                                Traceback (most recent call last)",
      "\u001b[1;32m~\\AppData\\Local\\Temp\\ipykernel_9948\\3432941951.py\u001b[0m in \u001b[0;36m<module>\u001b[1;34m\u001b[0m\n\u001b[0;32m      4\u001b[0m     \u001b[0mprint\u001b[0m\u001b[1;33m(\u001b[0m\u001b[0mf\u001b[0m\u001b[1;33m.\u001b[0m\u001b[0mtell\u001b[0m\u001b[1;33m(\u001b[0m\u001b[1;33m)\u001b[0m\u001b[1;33m)\u001b[0m\u001b[1;33m\u001b[0m\u001b[1;33m\u001b[0m\u001b[0m\n\u001b[0;32m      5\u001b[0m     \u001b[0mprint\u001b[0m\u001b[1;33m(\u001b[0m\u001b[0mf\u001b[0m\u001b[1;33m.\u001b[0m\u001b[0mread\u001b[0m\u001b[1;33m(\u001b[0m\u001b[1;33m)\u001b[0m\u001b[1;33m)\u001b[0m\u001b[1;33m\u001b[0m\u001b[1;33m\u001b[0m\u001b[0m\n\u001b[1;32m----> 6\u001b[1;33m \u001b[0mf\u001b[0m\u001b[1;33m.\u001b[0m\u001b[0mseek\u001b[0m\u001b[1;33m(\u001b[0m\u001b[1;36m0\u001b[0m\u001b[1;33m)\u001b[0m\u001b[1;33m\u001b[0m\u001b[1;33m\u001b[0m\u001b[0m\n\u001b[0m",
      "\u001b[1;31mValueError\u001b[0m: I/O operation on closed file."
     ]
    }
   ],
   "source": [
    "# Open the file host.txt and read the data by using with open()\n",
    "\n",
    "with open('host.txt','r') as f:\n",
    "    print(f.tell())\n",
    "    print(f.read())\n",
    "f.seek(0)"
   ]
  },
  {
   "cell_type": "code",
   "execution_count": 29,
   "id": "2910d969",
   "metadata": {},
   "outputs": [
    {
     "name": "stdout",
     "output_type": "stream",
     "text": [
      "Hello Python\n"
     ]
    }
   ],
   "source": [
    "with open('xyz.txt','w+') as x:\n",
    "    x.write('Hello Python')\n",
    "    x.seek(0)\n",
    "    print(x.read())"
   ]
  },
  {
   "cell_type": "code",
   "execution_count": 26,
   "id": "8879540f",
   "metadata": {},
   "outputs": [
    {
     "ename": "ValueError",
     "evalue": "I/O operation on closed file.",
     "output_type": "error",
     "traceback": [
      "\u001b[1;31m---------------------------------------------------------------------------\u001b[0m",
      "\u001b[1;31mValueError\u001b[0m                                Traceback (most recent call last)",
      "\u001b[1;32m~\\AppData\\Local\\Temp\\ipykernel_9948\\3062577083.py\u001b[0m in \u001b[0;36m<module>\u001b[1;34m\u001b[0m\n\u001b[1;32m----> 1\u001b[1;33m \u001b[0mf\u001b[0m\u001b[1;33m.\u001b[0m\u001b[0mseek\u001b[0m\u001b[1;33m(\u001b[0m\u001b[1;36m0\u001b[0m\u001b[1;33m)\u001b[0m\u001b[1;33m\u001b[0m\u001b[1;33m\u001b[0m\u001b[0m\n\u001b[0m",
      "\u001b[1;31mValueError\u001b[0m: I/O operation on closed file."
     ]
    }
   ],
   "source": [
    "f.seek(0)"
   ]
  },
  {
   "cell_type": "code",
   "execution_count": 30,
   "id": "c6a76b07",
   "metadata": {},
   "outputs": [],
   "source": [
    "# import math as mt"
   ]
  },
  {
   "cell_type": "markdown",
   "id": "f0f917a7",
   "metadata": {},
   "source": [
    "# Functions"
   ]
  },
  {
   "cell_type": "code",
   "execution_count": 31,
   "id": "a3ffd83e",
   "metadata": {},
   "outputs": [],
   "source": [
    "# read()\n",
    "# readline()\n",
    "# readlines()\n",
    "# write()\n",
    "# writelines()"
   ]
  },
  {
   "cell_type": "markdown",
   "id": "aa665de0",
   "metadata": {},
   "source": [
    "# read()"
   ]
  },
  {
   "cell_type": "markdown",
   "id": "2289b8d5",
   "metadata": {},
   "source": [
    "- It reads the data from the cursor's current position upto the end of the file.\n",
    "- It returns a string value."
   ]
  },
  {
   "cell_type": "markdown",
   "id": "e9323136",
   "metadata": {},
   "source": [
    "# read(number of characters)"
   ]
  },
  {
   "cell_type": "markdown",
   "id": "636f50eb",
   "metadata": {},
   "source": [
    "- It reads the specified number of chracters from the cursor's current position."
   ]
  },
  {
   "cell_type": "code",
   "execution_count": 48,
   "id": "910fe545",
   "metadata": {},
   "outputs": [
    {
     "name": "stdout",
     "output_type": "stream",
     "text": [
      "0\n",
      "10\n",
      "text file. This is Python classGood morning!\n",
      "0\n",
      "This i\n"
     ]
    }
   ],
   "source": [
    "with open('host.txt','r') as f:\n",
    "    print(f.tell())\n",
    "    f.seek(10)\n",
    "    print(f.tell())\n",
    "    print(f.read())\n",
    "    f.seek(0)\n",
    "    print(f.tell())\n",
    "    print(f.read(6))\n",
    "    f.seek(0)\n",
    "    text=f.read(10)\n",
    "    txt=f.read()"
   ]
  },
  {
   "cell_type": "code",
   "execution_count": 49,
   "id": "fccde575",
   "metadata": {},
   "outputs": [
    {
     "name": "stdout",
     "output_type": "stream",
     "text": [
      "This is a  <class 'str'>\n"
     ]
    }
   ],
   "source": [
    "print(text,type(text))"
   ]
  },
  {
   "cell_type": "code",
   "execution_count": 50,
   "id": "48249e39",
   "metadata": {},
   "outputs": [
    {
     "data": {
      "text/plain": [
       "'text file. This is Python classGood morning!'"
      ]
     },
     "execution_count": 50,
     "metadata": {},
     "output_type": "execute_result"
    }
   ],
   "source": [
    "txt"
   ]
  },
  {
   "cell_type": "code",
   "execution_count": 51,
   "id": "97662523",
   "metadata": {},
   "outputs": [],
   "source": [
    "# ls"
   ]
  },
  {
   "cell_type": "code",
   "execution_count": 47,
   "id": "9225982c",
   "metadata": {},
   "outputs": [
    {
     "name": "stdout",
     "output_type": "stream",
     "text": [
      "We are learning Python.\n"
     ]
    }
   ],
   "source": [
    "with open('learn.txt.txt','r') as f:\n",
    "    print(f.read())"
   ]
  },
  {
   "cell_type": "markdown",
   "id": "0403ebe4",
   "metadata": {},
   "source": [
    "# readline()"
   ]
  },
  {
   "cell_type": "markdown",
   "id": "87afb191",
   "metadata": {},
   "source": [
    "- It reads one line at a time.\n",
    "- It reads from the cursor's current position and reads upto the end of the line."
   ]
  },
  {
   "cell_type": "code",
   "execution_count": 53,
   "id": "33559014",
   "metadata": {},
   "outputs": [
    {
     "name": "stdout",
     "output_type": "stream",
     "text": [
      "0\n",
      "Good morning eveyrone!\n",
      "\n"
     ]
    }
   ],
   "source": [
    "with open('host.txt','r') as f:\n",
    "    print(f.tell())\n",
    "    print(f.readline())"
   ]
  },
  {
   "cell_type": "code",
   "execution_count": 106,
   "id": "e7236511",
   "metadata": {},
   "outputs": [
    {
     "name": "stdout",
     "output_type": "stream",
     "text": [
      "0\n",
      "5\n",
      "morning eveyrone!\n",
      "\n",
      "This is a text file. \n",
      "\n",
      "This is Python class.\n"
     ]
    }
   ],
   "source": [
    "with open('host.txt','r') as f:\n",
    "    print(f.tell())\n",
    "    f.seek(5)\n",
    "    print(f.tell())\n",
    "    print(f.readline())\n",
    "    print(f.readline())\n",
    "    print(f.readline())"
   ]
  },
  {
   "cell_type": "markdown",
   "id": "e3108e39",
   "metadata": {},
   "source": [
    "# readlines()"
   ]
  },
  {
   "cell_type": "markdown",
   "id": "e3e9d612",
   "metadata": {},
   "source": [
    "- It reads the file line by line.\n",
    "- It reads all the lines frm the file and reeturns a list.\n",
    "- In the list each line is an elemnt in the list."
   ]
  },
  {
   "cell_type": "code",
   "execution_count": 68,
   "id": "1f1f9a1e",
   "metadata": {},
   "outputs": [
    {
     "name": "stdout",
     "output_type": "stream",
     "text": [
      "['Good morning eveyrone!\\n', 'This is a text file. \\n', 'This is Python class.']\n",
      "3\n",
      "Good morning eveyrone!\n",
      "\n",
      "This is a text file. \n",
      "\n",
      "This is Python class.\n"
     ]
    }
   ],
   "source": [
    "with open('host.txt') as f:\n",
    "    print(f.readlines())\n",
    "    f.seek(0)\n",
    "    print(len(f.readlines()))\n",
    "    f.seek(0)\n",
    "    \n",
    "    for i in f.readlines():\n",
    "        print(i)"
   ]
  },
  {
   "cell_type": "code",
   "execution_count": 64,
   "id": "8445fd11",
   "metadata": {},
   "outputs": [],
   "source": [
    "with open('host.txt') as f:\n",
    "    text=f.readlines()"
   ]
  },
  {
   "cell_type": "code",
   "execution_count": 65,
   "id": "edbb0d7b",
   "metadata": {},
   "outputs": [
    {
     "name": "stdout",
     "output_type": "stream",
     "text": [
      "['Good morning eveyrone!\\n', 'This is a text file. \\n', 'This is Python class.'] <class 'list'>\n"
     ]
    }
   ],
   "source": [
    "print(text,type(text))"
   ]
  },
  {
   "cell_type": "code",
   "execution_count": 66,
   "id": "bd83b969",
   "metadata": {},
   "outputs": [
    {
     "data": {
      "text/plain": [
       "3"
      ]
     },
     "execution_count": 66,
     "metadata": {},
     "output_type": "execute_result"
    }
   ],
   "source": [
    "len(text)"
   ]
  },
  {
   "cell_type": "code",
   "execution_count": 67,
   "id": "a2b535fb",
   "metadata": {},
   "outputs": [
    {
     "name": "stdout",
     "output_type": "stream",
     "text": [
      "Good morning eveyrone!\n",
      "\n",
      "This is a text file. \n",
      "\n",
      "This is Python class.\n"
     ]
    }
   ],
   "source": [
    "for i in text:\n",
    "    print(i)"
   ]
  },
  {
   "cell_type": "code",
   "execution_count": 69,
   "id": "f4b2a46d",
   "metadata": {},
   "outputs": [],
   "source": [
    "a='''Hello Gunjan\n",
    "This is Python class'''"
   ]
  },
  {
   "cell_type": "code",
   "execution_count": 70,
   "id": "74f18031",
   "metadata": {},
   "outputs": [
    {
     "data": {
      "text/plain": [
       "'Hello Gunjan\\nThis is Python class'"
      ]
     },
     "execution_count": 70,
     "metadata": {},
     "output_type": "execute_result"
    }
   ],
   "source": [
    "a"
   ]
  },
  {
   "cell_type": "code",
   "execution_count": 71,
   "id": "bf918d66",
   "metadata": {},
   "outputs": [
    {
     "name": "stdout",
     "output_type": "stream",
     "text": [
      "Hello Gunjan\n",
      "This is Python class\n"
     ]
    }
   ],
   "source": [
    "print(a)"
   ]
  },
  {
   "cell_type": "markdown",
   "id": "69c58fde",
   "metadata": {},
   "source": [
    "# Count the number of lines"
   ]
  },
  {
   "cell_type": "code",
   "execution_count": 72,
   "id": "b0f2ec0a",
   "metadata": {},
   "outputs": [],
   "source": [
    "with open('host.txt') as f:\n",
    "    x=f.readlines()"
   ]
  },
  {
   "cell_type": "code",
   "execution_count": 73,
   "id": "f159d089",
   "metadata": {},
   "outputs": [
    {
     "name": "stdout",
     "output_type": "stream",
     "text": [
      "3\n"
     ]
    }
   ],
   "source": [
    "print(len(x))"
   ]
  },
  {
   "cell_type": "markdown",
   "id": "5129160a",
   "metadata": {},
   "source": [
    "# Count the number of words in a file."
   ]
  },
  {
   "cell_type": "code",
   "execution_count": 74,
   "id": "4fd71899",
   "metadata": {},
   "outputs": [],
   "source": [
    "with open('host.txt') as f:\n",
    "    x=f.read()"
   ]
  },
  {
   "cell_type": "code",
   "execution_count": 76,
   "id": "2ffc3f31",
   "metadata": {},
   "outputs": [
    {
     "name": "stdout",
     "output_type": "stream",
     "text": [
      "Good morning eveyrone!\n",
      "This is a text file. \n",
      "This is Python class. <class 'str'>\n"
     ]
    }
   ],
   "source": [
    "print(x,type(x))"
   ]
  },
  {
   "cell_type": "code",
   "execution_count": 77,
   "id": "d059e089",
   "metadata": {},
   "outputs": [
    {
     "data": {
      "text/plain": [
       "66"
      ]
     },
     "execution_count": 77,
     "metadata": {},
     "output_type": "execute_result"
    }
   ],
   "source": [
    "len(x)"
   ]
  },
  {
   "cell_type": "code",
   "execution_count": 81,
   "id": "5a63439a",
   "metadata": {},
   "outputs": [
    {
     "name": "stdout",
     "output_type": "stream",
     "text": [
      "['Good', 'morning', 'eveyrone!', 'This', 'is', 'a', 'text', 'file.', 'This', 'is', 'Python', 'class.']\n"
     ]
    }
   ],
   "source": [
    "words=x.split()\n",
    "print(words)"
   ]
  },
  {
   "cell_type": "code",
   "execution_count": 82,
   "id": "37de13cf",
   "metadata": {},
   "outputs": [
    {
     "name": "stdout",
     "output_type": "stream",
     "text": [
      "12\n"
     ]
    }
   ],
   "source": [
    "print(len(words))"
   ]
  },
  {
   "cell_type": "markdown",
   "id": "a862ef1e",
   "metadata": {},
   "source": [
    "# Count of the characters in a file."
   ]
  },
  {
   "cell_type": "code",
   "execution_count": 83,
   "id": "8d32fd8f",
   "metadata": {},
   "outputs": [],
   "source": [
    "with open('host.txt') as f:\n",
    "    x=f.read()"
   ]
  },
  {
   "cell_type": "code",
   "execution_count": 84,
   "id": "c8c66d37",
   "metadata": {},
   "outputs": [
    {
     "name": "stdout",
     "output_type": "stream",
     "text": [
      "Good morning eveyrone!\n",
      "This is a text file. \n",
      "This is Python class. <class 'str'>\n"
     ]
    }
   ],
   "source": [
    "print(x,type(x))"
   ]
  },
  {
   "cell_type": "code",
   "execution_count": 85,
   "id": "d2bad4e9",
   "metadata": {},
   "outputs": [
    {
     "data": {
      "text/plain": [
       "66"
      ]
     },
     "execution_count": 85,
     "metadata": {},
     "output_type": "execute_result"
    }
   ],
   "source": [
    "len(x)"
   ]
  },
  {
   "cell_type": "code",
   "execution_count": 86,
   "id": "8f32570b",
   "metadata": {},
   "outputs": [
    {
     "data": {
      "text/plain": [
       "'Good morning eveyrone!\\nThis is a text file. \\nThis is Python class.'"
      ]
     },
     "execution_count": 86,
     "metadata": {},
     "output_type": "execute_result"
    }
   ],
   "source": [
    "x"
   ]
  },
  {
   "cell_type": "code",
   "execution_count": 88,
   "id": "8bd5af29",
   "metadata": {},
   "outputs": [],
   "source": [
    "# Count the number of characters except space and new line characters in host.txt\n",
    "\n",
    "with open('host.txt') as f:\n",
    "    x=f.read()"
   ]
  },
  {
   "cell_type": "code",
   "execution_count": 92,
   "id": "d9a30770",
   "metadata": {},
   "outputs": [
    {
     "name": "stdout",
     "output_type": "stream",
     "text": [
      "54\n"
     ]
    }
   ],
   "source": [
    "c=0\n",
    "for i in x:\n",
    "    if i!=' ' and i!='\\n':\n",
    "        c+=1\n",
    "        \n",
    "print(c)"
   ]
  },
  {
   "cell_type": "code",
   "execution_count": 94,
   "id": "abd9db94",
   "metadata": {},
   "outputs": [],
   "source": [
    "# c=0\n",
    "# for i in x:\n",
    "#     if i.isalnum():\n",
    "#         c+=1\n",
    "        \n",
    "# print(c)"
   ]
  },
  {
   "cell_type": "code",
   "execution_count": 95,
   "id": "7067ea1b",
   "metadata": {},
   "outputs": [
    {
     "data": {
      "text/plain": [
       "'Good morning eveyrone!\\nThis is a text file. \\nThis is Python class.'"
      ]
     },
     "execution_count": 95,
     "metadata": {},
     "output_type": "execute_result"
    }
   ],
   "source": [
    "# Count the number of words that begin with a capital case letter\n",
    "x"
   ]
  },
  {
   "cell_type": "code",
   "execution_count": 96,
   "id": "9eddf3bb",
   "metadata": {},
   "outputs": [
    {
     "name": "stdout",
     "output_type": "stream",
     "text": [
      "['Good', 'morning', 'eveyrone!', 'This', 'is', 'a', 'text', 'file.', 'This', 'is', 'Python', 'class.']\n"
     ]
    }
   ],
   "source": [
    "words=x.split()\n",
    "print(words)"
   ]
  },
  {
   "cell_type": "code",
   "execution_count": 100,
   "id": "85d39f5f",
   "metadata": {},
   "outputs": [
    {
     "name": "stdout",
     "output_type": "stream",
     "text": [
      "4\n"
     ]
    }
   ],
   "source": [
    "c=0\n",
    "for i in words:\n",
    "    if i[0].isupper():\n",
    "        c+=1\n",
    "print(c)"
   ]
  },
  {
   "cell_type": "markdown",
   "id": "af15ccc7",
   "metadata": {},
   "source": [
    "# Count the capital case letters in host.txt"
   ]
  },
  {
   "cell_type": "code",
   "execution_count": 104,
   "id": "614fe613",
   "metadata": {},
   "outputs": [
    {
     "name": "stdout",
     "output_type": "stream",
     "text": [
      "4\n"
     ]
    }
   ],
   "source": [
    "c=0\n",
    "for i in x:\n",
    "    if i.isupper():\n",
    "        c+=1\n",
    "print(c)"
   ]
  },
  {
   "cell_type": "markdown",
   "id": "bcfffbb1",
   "metadata": {},
   "source": [
    "# write()"
   ]
  },
  {
   "cell_type": "markdown",
   "id": "4eef9576",
   "metadata": {},
   "source": [
    "- It takes a string as an argument and writes that to the file.\n",
    "- We can write multiple lines using a single write() or we can use multiple write()"
   ]
  },
  {
   "cell_type": "code",
   "execution_count": 110,
   "id": "b6ca2c8a",
   "metadata": {},
   "outputs": [],
   "source": [
    "with open('learn.txt','w+') as f:\n",
    "    f.write('Hello Python.\\nThis is Python class.\\nWe are on file handling.')"
   ]
  },
  {
   "cell_type": "code",
   "execution_count": 116,
   "id": "7fc75261",
   "metadata": {},
   "outputs": [],
   "source": [
    "with open('learn.txt','w+') as f:\n",
    "    f.write('Hello Python.\\n')\n",
    "    f.write('This is Python class.\\n')\n",
    "    f.write('We are learning Python.')"
   ]
  },
  {
   "cell_type": "code",
   "execution_count": 119,
   "id": "c2c210c1",
   "metadata": {},
   "outputs": [],
   "source": [
    "text='''Hello everyone!\n",
    "This is Pyhon class.\n",
    "We are learning Python.\n",
    "We are going to be data scientists.'''"
   ]
  },
  {
   "cell_type": "code",
   "execution_count": 121,
   "id": "de6eb575",
   "metadata": {},
   "outputs": [
    {
     "name": "stdout",
     "output_type": "stream",
     "text": [
      "Hello everyone!\n",
      "This is Pyhon class.\n",
      "We are learning Python.\n",
      "We are going to be data scientists.\n"
     ]
    }
   ],
   "source": [
    "with open('learn.txt','w+') as f:\n",
    "    f.write(text)\n",
    "    f.seek(0)\n",
    "    print(f.read())"
   ]
  },
  {
   "cell_type": "markdown",
   "id": "15044dc2",
   "metadata": {},
   "source": [
    "# writelines()"
   ]
  },
  {
   "cell_type": "markdown",
   "id": "94cbfe39",
   "metadata": {},
   "source": [
    "- It takes a list as an argument.\n",
    "- It writes the data to the file."
   ]
  },
  {
   "cell_type": "code",
   "execution_count": 130,
   "id": "4518e4a0",
   "metadata": {},
   "outputs": [
    {
     "data": {
      "text/plain": [
       "3"
      ]
     },
     "execution_count": 130,
     "metadata": {},
     "output_type": "execute_result"
    }
   ],
   "source": [
    "lst=['Hello everyone.\\n','How are you?\\n','I am doing well']\n",
    "len(lst)"
   ]
  },
  {
   "cell_type": "code",
   "execution_count": 131,
   "id": "3b05c532",
   "metadata": {},
   "outputs": [
    {
     "name": "stdout",
     "output_type": "stream",
     "text": [
      "Hello everyone.\n",
      "How are you?\n",
      "I am doing well\n"
     ]
    }
   ],
   "source": [
    "with open('intro.txt','w+') as f:\n",
    "    f.writelines(lst)\n",
    "    f.seek(0)\n",
    "    print(f.read())"
   ]
  },
  {
   "cell_type": "markdown",
   "id": "fbec1f25",
   "metadata": {},
   "source": [
    "# Insert the data to a file"
   ]
  },
  {
   "cell_type": "code",
   "execution_count": 132,
   "id": "0413aee2",
   "metadata": {},
   "outputs": [],
   "source": [
    "# I am from learnbay. (This should be the second line in intro.txt)\n",
    "\n",
    "# Hello everyone.\n",
    "# I am from Learmbay\n",
    "# How are you?\n",
    "# I am doing well"
   ]
  },
  {
   "cell_type": "code",
   "execution_count": 133,
   "id": "35a49471",
   "metadata": {},
   "outputs": [
    {
     "name": "stdout",
     "output_type": "stream",
     "text": [
      "['Hello everyone.\\n', 'How are you?\\n', 'I am doing well']\n"
     ]
    }
   ],
   "source": [
    "with open('intro.txt') as f:\n",
    "    txt=f.readlines()\n",
    "    print(txt)"
   ]
  },
  {
   "cell_type": "code",
   "execution_count": 134,
   "id": "834f663e",
   "metadata": {},
   "outputs": [],
   "source": [
    "txt.insert(1,'I am from Learnbay\\n')"
   ]
  },
  {
   "cell_type": "code",
   "execution_count": 135,
   "id": "f5479b4b",
   "metadata": {},
   "outputs": [
    {
     "data": {
      "text/plain": [
       "['Hello everyone.\\n',\n",
       " 'I am from Learnbay\\n',\n",
       " 'How are you?\\n',\n",
       " 'I am doing well']"
      ]
     },
     "execution_count": 135,
     "metadata": {},
     "output_type": "execute_result"
    }
   ],
   "source": [
    "txt"
   ]
  },
  {
   "cell_type": "code",
   "execution_count": 137,
   "id": "eb248dd7",
   "metadata": {},
   "outputs": [
    {
     "name": "stdout",
     "output_type": "stream",
     "text": [
      "Hello everyone.\n",
      "I am from Learnbay\n",
      "How are you?\n",
      "I am doing well\n"
     ]
    }
   ],
   "source": [
    "with open('intro.txt','w+') as f:\n",
    "    f.writelines(txt)\n",
    "    f.seek(0)\n",
    "    print(f.read())"
   ]
  },
  {
   "cell_type": "code",
   "execution_count": 140,
   "id": "096ddb46",
   "metadata": {},
   "outputs": [
    {
     "name": "stdout",
     "output_type": "stream",
     "text": [
      "0\n",
      "66\n",
      "Hello everyone.\n",
      "I am Ashish Som.\n",
      "I am from Learnbay\n",
      "How are you?\n",
      "I am doing well\n"
     ]
    }
   ],
   "source": [
    "with open('intro.txt','r+') as f:\n",
    "    print(f.tell())\n",
    "    txt=f.readlines()\n",
    "    print(f.tell())\n",
    "    txt.insert(1,'I am Ashish Som.\\n')\n",
    "    f.seek(0)\n",
    "    f.writelines(txt)\n",
    "    f.seek(0)\n",
    "    print(f.read())"
   ]
  },
  {
   "cell_type": "code",
   "execution_count": 141,
   "id": "2efd3225",
   "metadata": {},
   "outputs": [],
   "source": [
    "# Create a file add.py that takes two numbers from the user and gives the addition of two numbers.\n",
    "# Create this file using file handling"
   ]
  },
  {
   "cell_type": "code",
   "execution_count": 142,
   "id": "8a2ead40",
   "metadata": {},
   "outputs": [
    {
     "name": "stdout",
     "output_type": "stream",
     "text": [
      "Enter a number- 5\n",
      "Enter a number again- 2\n",
      "7\n"
     ]
    }
   ],
   "source": [
    "a=int(input('Enter a number- '))\n",
    "b=int(input('Enter a number again- '))\n",
    "c=a+b\n",
    "print(c)"
   ]
  },
  {
   "cell_type": "code",
   "execution_count": 143,
   "id": "059cae37",
   "metadata": {},
   "outputs": [
    {
     "name": "stdout",
     "output_type": "stream",
     "text": [
      "a=int(input('Enter a number- '))\n",
      "b=int(input('Enter a number again- '))\n",
      "c=a+b\n",
      "print(c)\n"
     ]
    }
   ],
   "source": [
    "with open('add.py','w+') as f:\n",
    "    f.write(\"a=int(input('Enter a number- '))\\n\")\n",
    "    f.write(\"b=int(input('Enter a number again- '))\\n\")\n",
    "    f.write('c=a+b\\n')\n",
    "    f.write('print(c)')\n",
    "    f.seek(0)\n",
    "    print(f.read())"
   ]
  },
  {
   "cell_type": "code",
   "execution_count": 145,
   "id": "a0c7f65d",
   "metadata": {},
   "outputs": [],
   "source": [
    "# ls"
   ]
  },
  {
   "cell_type": "code",
   "execution_count": 146,
   "id": "24d92dd6",
   "metadata": {},
   "outputs": [
    {
     "name": "stdout",
     "output_type": "stream",
     "text": [
      "Enter a number- 10\n",
      "Enter a number again- 20\n",
      "30\n"
     ]
    }
   ],
   "source": [
    "%run add.py"
   ]
  },
  {
   "cell_type": "code",
   "execution_count": 147,
   "id": "d49b3a59",
   "metadata": {},
   "outputs": [],
   "source": [
    "with open('loop.py','w+') as f:\n",
    "    f.write('for i in range(5):\\n')\n",
    "    f.write('\\tprint(i)')"
   ]
  },
  {
   "cell_type": "code",
   "execution_count": 148,
   "id": "9f9bc247",
   "metadata": {},
   "outputs": [
    {
     "name": "stdout",
     "output_type": "stream",
     "text": [
      "0\n",
      "1\n",
      "2\n",
      "3\n",
      "4\n"
     ]
    }
   ],
   "source": [
    "%run loop.py"
   ]
  },
  {
   "cell_type": "code",
   "execution_count": 150,
   "id": "59411c4f",
   "metadata": {},
   "outputs": [],
   "source": [
    "a='''for i in range(10):\n",
    "    print(i)'''"
   ]
  },
  {
   "cell_type": "code",
   "execution_count": 152,
   "id": "b1577888",
   "metadata": {},
   "outputs": [],
   "source": [
    "with open('loop.py','w') as f:\n",
    "    f.write(a)"
   ]
  },
  {
   "cell_type": "code",
   "execution_count": 153,
   "id": "938d7c86",
   "metadata": {},
   "outputs": [
    {
     "name": "stdout",
     "output_type": "stream",
     "text": [
      "0\n",
      "1\n",
      "2\n",
      "3\n",
      "4\n",
      "5\n",
      "6\n",
      "7\n",
      "8\n",
      "9\n"
     ]
    }
   ],
   "source": [
    "%run loop.py"
   ]
  },
  {
   "cell_type": "code",
   "execution_count": 154,
   "id": "16543207",
   "metadata": {},
   "outputs": [
    {
     "name": "stdout",
     "output_type": "stream",
     "text": [
      "0\n",
      "1\n",
      "2\n",
      "3\n",
      "4\n"
     ]
    }
   ],
   "source": [
    "for i in range(5):\n",
    "    print(i)"
   ]
  },
  {
   "cell_type": "markdown",
   "id": "84c57649",
   "metadata": {},
   "source": [
    "# Binary Files"
   ]
  },
  {
   "cell_type": "code",
   "execution_count": null,
   "id": "d16247d4",
   "metadata": {},
   "outputs": [],
   "source": []
  }
 ],
 "metadata": {
  "kernelspec": {
   "display_name": "Python 3 (ipykernel)",
   "language": "python",
   "name": "python3"
  },
  "language_info": {
   "codemirror_mode": {
    "name": "ipython",
    "version": 3
   },
   "file_extension": ".py",
   "mimetype": "text/x-python",
   "name": "python",
   "nbconvert_exporter": "python",
   "pygments_lexer": "ipython3",
   "version": "3.9.13"
  }
 },
 "nbformat": 4,
 "nbformat_minor": 5
}
