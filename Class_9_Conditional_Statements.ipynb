{
 "cells": [
  {
   "cell_type": "markdown",
   "id": "efb7a8bc",
   "metadata": {},
   "source": [
    "# isidentifier()"
   ]
  },
  {
   "cell_type": "markdown",
   "id": "a15ee872",
   "metadata": {},
   "source": [
    "- It returns True if the string is a valid identifier else False."
   ]
  },
  {
   "cell_type": "markdown",
   "id": "28aa333a",
   "metadata": {},
   "source": [
    "# Identifier\n",
    "- An identifier is a name in Python.\n",
    "- variable_name, function_name, file_object, class_name etc."
   ]
  },
  {
   "cell_type": "code",
   "execution_count": 1,
   "id": "89f9c87d",
   "metadata": {},
   "outputs": [],
   "source": [
    "# a=2\n",
    "# a- identifier (variable name)\n",
    "# 2- constant (value)"
   ]
  },
  {
   "cell_type": "markdown",
   "id": "c017b3a1",
   "metadata": {},
   "source": [
    "# Properties of a valid identifier"
   ]
  },
  {
   "cell_type": "markdown",
   "id": "cc372d1b",
   "metadata": {},
   "source": [
    "- An identifier may have alphanumeric characters (A-Z, a-z, 0-9) and _.\n",
    "- An identifier my begin with an alphabet or _ but should not begin with a number.\n",
    "- An identifier may have numbers but after the alphabet or _.\n",
    "- An identifier should not have any space character or special character.\n",
    "- An identifier is case sensitive. It means a,A are different."
   ]
  },
  {
   "cell_type": "code",
   "execution_count": 2,
   "id": "0017523d",
   "metadata": {},
   "outputs": [
    {
     "name": "stdout",
     "output_type": "stream",
     "text": [
      "5\n"
     ]
    }
   ],
   "source": [
    "a=5\n",
    "print(a)"
   ]
  },
  {
   "cell_type": "code",
   "execution_count": 3,
   "id": "e3bfb2df",
   "metadata": {},
   "outputs": [
    {
     "name": "stdout",
     "output_type": "stream",
     "text": [
      "Amit\n"
     ]
    }
   ],
   "source": [
    "name1='Amit'\n",
    "print(name1)"
   ]
  },
  {
   "cell_type": "code",
   "execution_count": 4,
   "id": "c75a9455",
   "metadata": {},
   "outputs": [
    {
     "name": "stdout",
     "output_type": "stream",
     "text": [
      "50\n"
     ]
    }
   ],
   "source": [
    "a_b=50\n",
    "print(a_b)"
   ]
  },
  {
   "cell_type": "code",
   "execution_count": 5,
   "id": "75089534",
   "metadata": {},
   "outputs": [
    {
     "name": "stdout",
     "output_type": "stream",
     "text": [
      "50\n"
     ]
    }
   ],
   "source": [
    "_a=50\n",
    "print(_a)"
   ]
  },
  {
   "cell_type": "code",
   "execution_count": 6,
   "id": "051ecc35",
   "metadata": {},
   "outputs": [
    {
     "name": "stdout",
     "output_type": "stream",
     "text": [
      "50\n"
     ]
    }
   ],
   "source": [
    "_1=50\n",
    "print(_1)"
   ]
  },
  {
   "cell_type": "code",
   "execution_count": 7,
   "id": "872855e7",
   "metadata": {},
   "outputs": [
    {
     "ename": "SyntaxError",
     "evalue": "invalid syntax (4233643936.py, line 1)",
     "output_type": "error",
     "traceback": [
      "\u001b[1;36m  File \u001b[1;32m\"C:\\Users\\Dell\\AppData\\Local\\Temp\\ipykernel_9740\\4233643936.py\"\u001b[1;36m, line \u001b[1;32m1\u001b[0m\n\u001b[1;33m    1a=50\u001b[0m\n\u001b[1;37m     ^\u001b[0m\n\u001b[1;31mSyntaxError\u001b[0m\u001b[1;31m:\u001b[0m invalid syntax\n"
     ]
    }
   ],
   "source": [
    "1a=50\n",
    "print(1a)"
   ]
  },
  {
   "cell_type": "code",
   "execution_count": 8,
   "id": "ce496b54",
   "metadata": {},
   "outputs": [
    {
     "ename": "SyntaxError",
     "evalue": "cannot assign to operator (3084836791.py, line 1)",
     "output_type": "error",
     "traceback": [
      "\u001b[1;36m  File \u001b[1;32m\"C:\\Users\\Dell\\AppData\\Local\\Temp\\ipykernel_9740\\3084836791.py\"\u001b[1;36m, line \u001b[1;32m1\u001b[0m\n\u001b[1;33m    a@b=50\u001b[0m\n\u001b[1;37m    ^\u001b[0m\n\u001b[1;31mSyntaxError\u001b[0m\u001b[1;31m:\u001b[0m cannot assign to operator\n"
     ]
    }
   ],
   "source": [
    "a@b=50\n",
    "print(a@b)"
   ]
  },
  {
   "cell_type": "code",
   "execution_count": 9,
   "id": "182b44d8",
   "metadata": {},
   "outputs": [
    {
     "ename": "SyntaxError",
     "evalue": "invalid syntax (2973176238.py, line 1)",
     "output_type": "error",
     "traceback": [
      "\u001b[1;36m  File \u001b[1;32m\"C:\\Users\\Dell\\AppData\\Local\\Temp\\ipykernel_9740\\2973176238.py\"\u001b[1;36m, line \u001b[1;32m1\u001b[0m\n\u001b[1;33m    first name='Pragya'\u001b[0m\n\u001b[1;37m          ^\u001b[0m\n\u001b[1;31mSyntaxError\u001b[0m\u001b[1;31m:\u001b[0m invalid syntax\n"
     ]
    }
   ],
   "source": [
    "first name='Pragya'\n",
    "print(first name)"
   ]
  },
  {
   "cell_type": "code",
   "execution_count": 10,
   "id": "f7d30f5a",
   "metadata": {},
   "outputs": [],
   "source": [
    "a=50\n",
    "A=100"
   ]
  },
  {
   "cell_type": "code",
   "execution_count": 11,
   "id": "a1fa13fc",
   "metadata": {},
   "outputs": [
    {
     "name": "stdout",
     "output_type": "stream",
     "text": [
      "50\n"
     ]
    }
   ],
   "source": [
    "print(a)"
   ]
  },
  {
   "cell_type": "code",
   "execution_count": 12,
   "id": "4b52f489",
   "metadata": {},
   "outputs": [
    {
     "name": "stdout",
     "output_type": "stream",
     "text": [
      "100\n"
     ]
    }
   ],
   "source": [
    "print(A)"
   ]
  },
  {
   "cell_type": "code",
   "execution_count": 13,
   "id": "943dd3dc",
   "metadata": {},
   "outputs": [
    {
     "name": "stdout",
     "output_type": "stream",
     "text": [
      "True\n"
     ]
    }
   ],
   "source": [
    "my_str='abc'\n",
    "print(my_str.isidentifier())"
   ]
  },
  {
   "cell_type": "code",
   "execution_count": 14,
   "id": "5869805d",
   "metadata": {},
   "outputs": [
    {
     "name": "stdout",
     "output_type": "stream",
     "text": [
      "True\n"
     ]
    }
   ],
   "source": [
    "my_str='a1'\n",
    "print(my_str.isidentifier())"
   ]
  },
  {
   "cell_type": "code",
   "execution_count": 15,
   "id": "894a1fe6",
   "metadata": {},
   "outputs": [
    {
     "name": "stdout",
     "output_type": "stream",
     "text": [
      "True\n"
     ]
    }
   ],
   "source": [
    "print('a_b'.isidentifier())"
   ]
  },
  {
   "cell_type": "code",
   "execution_count": 16,
   "id": "9be0d751",
   "metadata": {},
   "outputs": [
    {
     "name": "stdout",
     "output_type": "stream",
     "text": [
      "False\n"
     ]
    }
   ],
   "source": [
    "my_str='123'\n",
    "print(my_str.isidentifier())"
   ]
  },
  {
   "cell_type": "code",
   "execution_count": 17,
   "id": "8cdb4f1d",
   "metadata": {},
   "outputs": [
    {
     "name": "stdout",
     "output_type": "stream",
     "text": [
      "True\n"
     ]
    }
   ],
   "source": [
    "my_str='_123'\n",
    "print(my_str.isidentifier())"
   ]
  },
  {
   "cell_type": "code",
   "execution_count": 18,
   "id": "6c643a0d",
   "metadata": {},
   "outputs": [
    {
     "name": "stdout",
     "output_type": "stream",
     "text": [
      "False\n"
     ]
    }
   ],
   "source": [
    "my_str='abc@xyz'\n",
    "print(my_str.isidentifier())"
   ]
  },
  {
   "cell_type": "code",
   "execution_count": 19,
   "id": "3026693a",
   "metadata": {},
   "outputs": [
    {
     "name": "stdout",
     "output_type": "stream",
     "text": [
      "False\n"
     ]
    }
   ],
   "source": [
    "my_str='a b'\n",
    "print(my_str.isidentifier())"
   ]
  },
  {
   "cell_type": "code",
   "execution_count": 20,
   "id": "b5a40363",
   "metadata": {},
   "outputs": [
    {
     "name": "stdout",
     "output_type": "stream",
     "text": [
      "['__add__', '__class__', '__contains__', '__delattr__', '__dir__', '__doc__', '__eq__', '__format__', '__ge__', '__getattribute__', '__getitem__', '__getnewargs__', '__gt__', '__hash__', '__init__', '__init_subclass__', '__iter__', '__le__', '__len__', '__lt__', '__mod__', '__mul__', '__ne__', '__new__', '__reduce__', '__reduce_ex__', '__repr__', '__rmod__', '__rmul__', '__setattr__', '__sizeof__', '__str__', '__subclasshook__', 'capitalize', 'casefold', 'center', 'count', 'encode', 'endswith', 'expandtabs', 'find', 'format', 'format_map', 'index', 'isalnum', 'isalpha', 'isascii', 'isdecimal', 'isdigit', 'isidentifier', 'islower', 'isnumeric', 'isprintable', 'isspace', 'istitle', 'isupper', 'join', 'ljust', 'lower', 'lstrip', 'maketrans', 'partition', 'removeprefix', 'removesuffix', 'replace', 'rfind', 'rindex', 'rjust', 'rpartition', 'rsplit', 'rstrip', 'split', 'splitlines', 'startswith', 'strip', 'swapcase', 'title', 'translate', 'upper', 'zfill']\n"
     ]
    }
   ],
   "source": [
    "print(dir(str))"
   ]
  },
  {
   "cell_type": "markdown",
   "id": "b441203f",
   "metadata": {},
   "source": [
    "# isprintable()"
   ]
  },
  {
   "cell_type": "markdown",
   "id": "45a290ed",
   "metadata": {},
   "source": [
    "- It returns True if all the elements in the string can be printed else False."
   ]
  },
  {
   "cell_type": "code",
   "execution_count": 2,
   "id": "876d9711",
   "metadata": {},
   "outputs": [
    {
     "name": "stdout",
     "output_type": "stream",
     "text": [
      "Hello Python\n",
      "True\n"
     ]
    }
   ],
   "source": [
    "my_str=\n",
    "Hello Python'\n",
    "print(my_str)\n",
    "\n",
    "print(my_str.isprintable())"
   ]
  },
  {
   "cell_type": "code",
   "execution_count": 4,
   "id": "d45848cc",
   "metadata": {},
   "outputs": [
    {
     "name": "stdout",
     "output_type": "stream",
     "text": [
      "Hello\n",
      "Python\n",
      "False\n"
     ]
    }
   ],
   "source": [
    "my_str='Hello\\nPython'\n",
    "print(my_str)\n",
    "\n",
    "print(my_str.isprintable())"
   ]
  },
  {
   "cell_type": "code",
   "execution_count": 6,
   "id": "5fc62aa3",
   "metadata": {},
   "outputs": [
    {
     "name": "stdout",
     "output_type": "stream",
     "text": [
      "Hello\tPython\n",
      "False\n"
     ]
    }
   ],
   "source": [
    "my_str='Hello\\tPython'\n",
    "print(my_str)\n",
    "\n",
    "print(my_str.isprintable())"
   ]
  },
  {
   "cell_type": "markdown",
   "id": "8c39b3f9",
   "metadata": {},
   "source": [
    "# replace()\n",
    "- It replaces an existing character or a substring with a new character or substring.\n",
    "- It does not make the changes in the existing string. It returns a new string."
   ]
  },
  {
   "cell_type": "code",
   "execution_count": 7,
   "id": "38152a42",
   "metadata": {},
   "outputs": [],
   "source": [
    "# my_str.replace(sub_string,new_string)"
   ]
  },
  {
   "cell_type": "code",
   "execution_count": 9,
   "id": "59de04e5",
   "metadata": {},
   "outputs": [
    {
     "name": "stdout",
     "output_type": "stream",
     "text": [
      "Hello Munday\n",
      "Hello Sunday\n"
     ]
    }
   ],
   "source": [
    "my_str='Hello Sunday'\n",
    "# Replace S by M\n",
    "\n",
    "print(my_str.replace('S','M'))\n",
    "print(my_str)"
   ]
  },
  {
   "cell_type": "code",
   "execution_count": 12,
   "id": "de75a4e1",
   "metadata": {},
   "outputs": [
    {
     "name": "stdout",
     "output_type": "stream",
     "text": [
      "This is Python class\n",
      "This is Java class\n"
     ]
    }
   ],
   "source": [
    "my_str='This is Java class'\n",
    "\n",
    "# Replace Java by Python\n",
    "print(my_str.replace('Java','Python'))\n",
    "print(my_str)"
   ]
  },
  {
   "cell_type": "markdown",
   "id": "a934aa1c",
   "metadata": {},
   "source": [
    "# isnumeric() , isdigit() and isdecimal()"
   ]
  },
  {
   "cell_type": "markdown",
   "id": "b29d328b",
   "metadata": {},
   "source": [
    "    # isnumeric()+\n",
    "- It returns True if all the characters in the string are digits or superscripts, subscripts, vulgar fractions, or Roman numerals. "
   ]
  },
  {
   "cell_type": "markdown",
   "id": "0ed0614e",
   "metadata": {},
   "source": [
    "# isdigit()\n",
    "- It returns True for digits, superscripts and subscripts else False."
   ]
  },
  {
   "cell_type": "markdown",
   "id": "73a4a9b8",
   "metadata": {},
   "source": [
    "# isdecimal()\n",
    "- It returns True for digits only else it returns False."
   ]
  },
  {
   "cell_type": "code",
   "execution_count": 16,
   "id": "fa81c508",
   "metadata": {},
   "outputs": [
    {
     "name": "stdout",
     "output_type": "stream",
     "text": [
      "True\n",
      "True\n",
      "True\n"
     ]
    }
   ],
   "source": [
    "a='10'\n",
    "print(a.isnumeric())\n",
    "print(a.isdigit())\n",
    "\n",
    ".print(a.isdecimal())"
   ]
  },
  {
   "cell_type": "code",
   "execution_count": 20,
   "id": "6ef3a9f2",
   "metadata": {},
   "outputs": [
    {
     "name": "stdout",
     "output_type": "stream",
     "text": [
      "2³\n",
      "True\n",
      "True\n",
      "False\n"
     ]
    }
   ],
   "source": [
    "a='2\\u00b3'\n",
    "print(a)\n",
    "\n",
    "print(a.isnumeric())\n",
    "print(a.isdigit())\n",
    "print(a.isdecimal())"
   ]
  },
  {
   "cell_type": "code",
   "execution_count": 23,
   "id": "17052b75",
   "metadata": {},
   "outputs": [
    {
     "name": "stdout",
     "output_type": "stream",
     "text": [
      "False\n",
      "False\n",
      "False\n"
     ]
    }
   ],
   "source": [
    "a='5.2'\n",
    "print(a.isnumeric())\n",
    "print(a.isdigit())\n",
    "print(a.isdecimal())"
   ]
  },
  {
   "cell_type": "code",
   "execution_count": 29,
   "id": "20f7c6a5",
   "metadata": {},
   "outputs": [
    {
     "name": "stdout",
     "output_type": "stream",
     "text": [
      "2₂\n",
      "True\n",
      "True\n",
      "False\n"
     ]
    }
   ],
   "source": [
    "my_str='2₂'\n",
    "print(my_str)\n",
    "\n",
    "print(my_str.isnumeric())\n",
    "print(my_str.isdigit())\n",
    "print(my_str.isdecimal())"
   ]
  },
  {
   "cell_type": "code",
   "execution_count": 37,
   "id": "5bb88877",
   "metadata": {},
   "outputs": [
    {
     "name": "stdout",
     "output_type": "stream",
     "text": [
      "5½\n",
      "True\n",
      "False\n",
      "False\n"
     ]
    }
   ],
   "source": [
    "a='5'+chr(189)\n",
    "print(a)\n",
    "\n",
    "print(a.isnumeric())\n",
    "print(a.isdigit())\n",
    "print(a.isdecimal())"
   ]
  },
  {
   "cell_type": "code",
   "execution_count": 38,
   "id": "964c334c",
   "metadata": {},
   "outputs": [
    {
     "name": "stdout",
     "output_type": "stream",
     "text": [
      "½\n",
      "True\n",
      "False\n",
      "False\n"
     ]
    }
   ],
   "source": [
    "a=chr(189)\n",
    "print(a)\n",
    "\n",
    "print(a.isnumeric())\n",
    "print(a.isdigit())\n",
    "print(a.isdecimal())"
   ]
  },
  {
   "cell_type": "code",
   "execution_count": 42,
   "id": "b3c2dc6f",
   "metadata": {},
   "outputs": [
    {
     "name": "stdout",
     "output_type": "stream",
     "text": [
      "A½\n",
      "False\n",
      "False\n",
      "False\n"
     ]
    }
   ],
   "source": [
    "a='A'+chr(189)\n",
    "print(a)\n",
    "\n",
    "print(a.isnumeric())\n",
    "print(a.isdigit())\n",
    "print(a.isdecimal())"
   ]
  },
  {
   "cell_type": "code",
   "execution_count": 45,
   "id": "eb2b45a5",
   "metadata": {},
   "outputs": [
    {
     "name": "stdout",
     "output_type": "stream",
     "text": [
      "A³\n",
      "False\n",
      "False\n",
      "False\n"
     ]
    }
   ],
   "source": [
    "a='A\\u00b3'\n",
    "print(a)\n",
    "\n",
    "print(a.isnumeric())\n",
    "print(a.isdigit())\n",
    "print(a.isdecimal())"
   ]
  },
  {
   "cell_type": "code",
   "execution_count": 51,
   "id": "1a6c7d72",
   "metadata": {},
   "outputs": [
    {
     "name": "stdout",
     "output_type": "stream",
     "text": [
      "Ⅰ\n",
      "I\n",
      "True\n",
      "False\n",
      "False\n"
     ]
    }
   ],
   "source": [
    "a='Ⅰ' # Roman numeral\n",
    "print(a)\n",
    "print('I')\n",
    "\n",
    "print(a.isnumeric())\n",
    "print(a.isdigit())\n",
    "print(a.isdecimal())"
   ]
  },
  {
   "cell_type": "code",
   "execution_count": 67,
   "id": "72e4b306",
   "metadata": {},
   "outputs": [
    {
     "name": "stdout",
     "output_type": "stream",
     "text": [
      "@1324\n",
      "False\n"
     ]
    }
   ],
   "source": [
    "a_b='@1324'\n",
    "print(a_b)\n",
    "print(a_b.isidentifier())"
   ]
  },
  {
   "cell_type": "code",
   "execution_count": 55,
   "id": "0009f211",
   "metadata": {},
   "outputs": [
    {
     "data": {
      "text/plain": [
       "8"
      ]
     },
     "execution_count": 55,
     "metadata": {},
     "output_type": "execute_result"
    }
   ],
   "source": [
    "a=5\n",
    "b=3\n",
    "a+b"
   ]
  },
  {
   "cell_type": "code",
   "execution_count": 64,
   "id": "ca3d8619",
   "metadata": {},
   "outputs": [
    {
     "data": {
      "text/plain": [
       "False"
      ]
     },
     "execution_count": 64,
     "metadata": {},
     "output_type": "execute_result"
    }
   ],
   "source": [
    "'A B'.isidentifier()"
   ]
  },
  {
   "cell_type": "code",
   "execution_count": 65,
   "id": "7fe06f3e",
   "metadata": {},
   "outputs": [
    {
     "ename": "SyntaxError",
     "evalue": "invalid syntax (2060387649.py, line 1)",
     "output_type": "error",
     "traceback": [
      "\u001b[1;36m  File \u001b[1;32m\"C:\\Users\\Dell\\AppData\\Local\\Temp\\ipykernel_13852\\2060387649.py\"\u001b[1;36m, line \u001b[1;32m1\u001b[0m\n\u001b[1;33m    A B=50\u001b[0m\n\u001b[1;37m      ^\u001b[0m\n\u001b[1;31mSyntaxError\u001b[0m\u001b[1;31m:\u001b[0m invalid syntax\n"
     ]
    }
   ],
   "source": [
    "A B=50"
   ]
  },
  {
   "cell_type": "code",
   "execution_count": 70,
   "id": "2c8319af",
   "metadata": {},
   "outputs": [
    {
     "name": "stdout",
     "output_type": "stream",
     "text": [
      "jbdbhdbasihdhewr\n",
      "QERSGAFAY@!$~#$$!#%^1515458488\n"
     ]
    }
   ],
   "source": [
    "print('jbdbhdbasihdhewr\\nQERSGAFAY@!$~#$$!#%^1515458488')"
   ]
  },
  {
   "cell_type": "code",
   "execution_count": 71,
   "id": "438e35d8",
   "metadata": {},
   "outputs": [
    {
     "name": "stdout",
     "output_type": "stream",
     "text": [
      "False\n"
     ]
    }
   ],
   "source": [
    "print('jbdbhdbasihdhewr\\nQERSGAFAY@!$~#$$!#%^1515458488'.isprintable())"
   ]
  },
  {
   "cell_type": "code",
   "execution_count": 73,
   "id": "3c0f93cc",
   "metadata": {},
   "outputs": [
    {
     "name": "stdout",
     "output_type": "stream",
     "text": [
      "True\n"
     ]
    }
   ],
   "source": [
    "print('jbdbhdbasihdhewrQERSGAFAY@!$~#$$!#%^1515458488'.isprintable())"
   ]
  },
  {
   "cell_type": "markdown",
   "id": "4e1efaf8",
   "metadata": {},
   "source": [
    "# Conditional Statements"
   ]
  },
  {
   "cell_type": "markdown",
   "id": "b7c8eb15",
   "metadata": {},
   "source": [
    "- Conditional statements are used when we want some piece of code to get executed if a particular condition is True or False.\n",
    "- if keyword is used to write the conditional statements."
   ]
  },
  {
   "cell_type": "markdown",
   "id": "6e2bcb58",
   "metadata": {},
   "source": [
    "# 1- if condition"
   ]
  },
  {
   "cell_type": "code",
   "execution_count": null,
   "id": "7be93e1d",
   "metadata": {},
   "outputs": [],
   "source": [
    "if condition:\n",
    "    code_1\n",
    "    code_2\n",
    "code_3"
   ]
  },
  {
   "cell_type": "markdown",
   "id": "02932536",
   "metadata": {},
   "source": [
    "- When the if condition is True then the code inside the if block gets executed."
   ]
  },
  {
   "cell_type": "markdown",
   "id": "c9372d1a",
   "metadata": {},
   "source": [
    "# Indentation"
   ]
  },
  {
   "cell_type": "markdown",
   "id": "1c8254df",
   "metadata": {},
   "source": [
    "- It is space before the code.\n",
    "- Indentation defines the scope of a condition"
   ]
  },
  {
   "cell_type": "code",
   "execution_count": 83,
   "id": "97cab3b9",
   "metadata": {},
   "outputs": [
    {
     "name": "stdout",
     "output_type": "stream",
     "text": [
      "40 is even\n",
      "Thanks\n"
     ]
    }
   ],
   "source": [
    "# Take a number and print The number is evem if it is even.\n",
    "\n",
    "a=40\n",
    "\n",
    "if a%2==0:\n",
    "    print(f'{a} is even')\n",
    "print('Thanks')"
   ]
  },
  {
   "cell_type": "code",
   "execution_count": 79,
   "id": "424d1a67",
   "metadata": {},
   "outputs": [
    {
     "data": {
      "text/plain": [
       "False"
      ]
     },
     "execution_count": 79,
     "metadata": {},
     "output_type": "execute_result"
    }
   ],
   "source": [
    "5%2==0"
   ]
  },
  {
   "cell_type": "code",
   "execution_count": 78,
   "id": "64a99cee",
   "metadata": {},
   "outputs": [
    {
     "data": {
      "text/plain": [
       "1"
      ]
     },
     "execution_count": 78,
     "metadata": {},
     "output_type": "execute_result"
    }
   ],
   "source": [
    "5%2"
   ]
  },
  {
   "cell_type": "code",
   "execution_count": 84,
   "id": "ea7c1725",
   "metadata": {},
   "outputs": [
    {
     "name": "stdout",
     "output_type": "stream",
     "text": [
      "Thanks\n"
     ]
    }
   ],
   "source": [
    "a=5\n",
    "\n",
    "if a%2==0:\n",
    "    print(f'{a} is even')\n",
    "print('Thanks')"
   ]
  },
  {
   "cell_type": "code",
   "execution_count": 86,
   "id": "b9b94fd5",
   "metadata": {},
   "outputs": [
    {
     "ename": "IndentationError",
     "evalue": "expected an indented block (3412981015.py, line 3)",
     "output_type": "error",
     "traceback": [
      "\u001b[1;36m  File \u001b[1;32m\"C:\\Users\\Dell\\AppData\\Local\\Temp\\ipykernel_13852\\3412981015.py\"\u001b[1;36m, line \u001b[1;32m3\u001b[0m\n\u001b[1;33m    print('Thanks')\u001b[0m\n\u001b[1;37m    ^\u001b[0m\n\u001b[1;31mIndentationError\u001b[0m\u001b[1;31m:\u001b[0m expected an indented block\n"
     ]
    }
   ],
   "source": [
    "a=50\n",
    "if a%2==0:\n",
    "print('Thanks')"
   ]
  },
  {
   "cell_type": "markdown",
   "id": "ad39d0e8",
   "metadata": {},
   "source": [
    "# 2- if....else statement"
   ]
  },
  {
   "cell_type": "code",
   "execution_count": null,
   "id": "fa37a5e3",
   "metadata": {},
   "outputs": [],
   "source": [
    "if condition:\n",
    "    code_1\n",
    "    code_2....code_n\n",
    "else:\n",
    "    code_3\n",
    "    code_4....code_n"
   ]
  },
  {
   "cell_type": "code",
   "execution_count": 87,
   "id": "c1fb6276",
   "metadata": {},
   "outputs": [],
   "source": [
    "# When the if cndition is True then the code inside the if block gets executed.\n",
    "# When the if cndition is False then the code inside the else block gets executed."
   ]
  },
  {
   "cell_type": "code",
   "execution_count": 111,
   "id": "27372813",
   "metadata": {},
   "outputs": [
    {
     "name": "stdout",
     "output_type": "stream",
     "text": [
      "Hello\n",
      "4 is even\n",
      "Thanks\n"
     ]
    }
   ],
   "source": [
    "# Take a number and check whether it is evn or odd\n",
    "\n",
    "a=4\n",
    "print('Hello')\n",
    "if a%2==0:\n",
    "    print(f'{a} is even')\n",
    "else:\n",
    "    print(f'{a} is odd')\n",
    "print('Thanks')"
   ]
  },
  {
   "cell_type": "code",
   "execution_count": 91,
   "id": "dde7afbe",
   "metadata": {},
   "outputs": [
    {
     "data": {
      "text/plain": [
       "True"
      ]
     },
     "execution_count": 91,
     "metadata": {},
     "output_type": "execute_result"
    }
   ],
   "source": [
    "50%2==0"
   ]
  },
  {
   "cell_type": "code",
   "execution_count": 110,
   "id": "52e6d211",
   "metadata": {},
   "outputs": [
    {
     "name": "stdout",
     "output_type": "stream",
     "text": [
      "5 is Happy\n"
     ]
    }
   ],
   "source": [
    "a=5\n",
    "print(f'{a} is Happy')"
   ]
  },
  {
   "cell_type": "code",
   "execution_count": 113,
   "id": "1771f953",
   "metadata": {},
   "outputs": [
    {
     "ename": "IndentationError",
     "evalue": "expected an indented block (2868480613.py, line 5)",
     "output_type": "error",
     "traceback": [
      "\u001b[1;36m  File \u001b[1;32m\"C:\\Users\\Dell\\AppData\\Local\\Temp\\ipykernel_13852\\2868480613.py\"\u001b[1;36m, line \u001b[1;32m5\u001b[0m\n\u001b[1;33m    # print('Thanks')\u001b[0m\n\u001b[1;37m                     ^\u001b[0m\n\u001b[1;31mIndentationError\u001b[0m\u001b[1;31m:\u001b[0m expected an indented block\n"
     ]
    }
   ],
   "source": [
    "a=4\n",
    "if a%2==0:\n",
    "    print('Even')    \n",
    "else:\n",
    "# print('Thanks')"
   ]
  },
  {
   "cell_type": "code",
   "execution_count": 108,
   "id": "86638e6a",
   "metadata": {},
   "outputs": [
    {
     "name": "stdout",
     "output_type": "stream",
     "text": [
      "False\n"
     ]
    }
   ],
   "source": [
    "a_1='t@'\n",
    "print(a_1.isidentifier())\n"
   ]
  },
  {
   "cell_type": "markdown",
   "id": "8c28310e",
   "metadata": {},
   "source": [
    "# Multiple if conditions"
   ]
  },
  {
   "cell_type": "code",
   "execution_count": null,
   "id": "3a5cd764",
   "metadata": {},
   "outputs": [],
   "source": [
    "if condition_1:\n",
    "    code_1\n",
    "    code_2...code_n\n",
    "if condition_2:\n",
    "    some code\n",
    "if condition_3:\n",
    "    some code\n",
    "\n",
    "    .\n",
    "    .\n",
    "    .\n",
    "if condition_n:\n",
    "    some code"
   ]
  },
  {
   "cell_type": "code",
   "execution_count": 114,
   "id": "cf473b4f",
   "metadata": {},
   "outputs": [],
   "source": [
    "# Print the following output accordingly\n",
    "# Input any number from 0 to 5\n",
    "# Input 1- One\n",
    "# Input 2- Two\n",
    "# Input 3- Three"
   ]
  },
  {
   "cell_type": "code",
   "execution_count": 119,
   "id": "5ce31576",
   "metadata": {},
   "outputs": [
    {
     "name": "stdout",
     "output_type": "stream",
     "text": [
      "Zero\n"
     ]
    }
   ],
   "source": [
    "a=0\n",
    "\n",
    "if a==0:\n",
    "    print('Zero')\n",
    "if a==1:\n",
    "    print('One')\n",
    "if a==2:\n",
    "    print('Two')\n",
    "if a==3:\n",
    "    print('Three')\n",
    "if a==4:\n",
    "    print('Four')\n",
    "if a==5:\n",
    "    print('Five')"
   ]
  },
  {
   "cell_type": "markdown",
   "id": "ce0ee6a3",
   "metadata": {},
   "source": [
    "# if.....elif.....else statement"
   ]
  },
  {
   "cell_type": "code",
   "execution_count": null,
   "id": "692112f9",
   "metadata": {},
   "outputs": [],
   "source": [
    "if condition_1:\n",
    "    code_1\n",
    "elif condition_2:\n",
    "    code_2\n",
    "elif condition_3:\n",
    "    code_3\n",
    "else:\n",
    "    some code"
   ]
  },
  {
   "cell_type": "code",
   "execution_count": 131,
   "id": "b340d37e",
   "metadata": {},
   "outputs": [
    {
     "name": "stdout",
     "output_type": "stream",
     "text": [
      "Zero\n"
     ]
    }
   ],
   "source": [
    "a=0\n",
    "\n",
    "if a==0:\n",
    "    print('Zero')\n",
    "elif a==1:\n",
    "    print('One')\n",
    "elif a==2:\n",
    "    print('Two')\n",
    "elif a==3:\n",
    "    print('Three')\n",
    "elif a==4:\n",
    "    print('Four')\n",
    "elif a==5:\n",
    "    print('Five')\n",
    "else:\n",
    "    print('Invalid input')"
   ]
  },
  {
   "cell_type": "code",
   "execution_count": 141,
   "id": "dee7542b",
   "metadata": {},
   "outputs": [
    {
     "name": "stdout",
     "output_type": "stream",
     "text": [
      "2000 is maximum\n"
     ]
    }
   ],
   "source": [
    "# Take 3 numbers from the user and print the maximum number\n",
    "\n",
    "a=100\n",
    "b=500\n",
    "c=2000\n",
    "\n",
    "if a>b and a>c:\n",
    "    print(f'{a} is maximum')\n",
    "elif b>a and b>c:\n",
    "    print(f'{b} is maximum')\n",
    "else:\n",
    "    print(f'{c} is maximum')"
   ]
  },
  {
   "cell_type": "code",
   "execution_count": 136,
   "id": "4b23bb17",
   "metadata": {},
   "outputs": [
    {
     "data": {
      "text/plain": [
       "(False, True)"
      ]
     },
     "execution_count": 136,
     "metadata": {},
     "output_type": "execute_result"
    }
   ],
   "source": [
    "100>500,100>20"
   ]
  },
  {
   "cell_type": "code",
   "execution_count": 137,
   "id": "8f0216b3",
   "metadata": {},
   "outputs": [
    {
     "data": {
      "text/plain": [
       "False"
      ]
     },
     "execution_count": 137,
     "metadata": {},
     "output_type": "execute_result"
    }
   ],
   "source": [
    "False and True"
   ]
  },
  {
   "cell_type": "code",
   "execution_count": 139,
   "id": "d908f5ea",
   "metadata": {},
   "outputs": [
    {
     "data": {
      "text/plain": [
       "(True, True)"
      ]
     },
     "execution_count": 139,
     "metadata": {},
     "output_type": "execute_result"
    }
   ],
   "source": [
    "500>100,500>20"
   ]
  },
  {
   "cell_type": "code",
   "execution_count": 143,
   "id": "04484434",
   "metadata": {},
   "outputs": [],
   "source": []
  },
  {
   "cell_type": "code",
   "execution_count": 146,
   "id": "58fb1353",
   "metadata": {},
   "outputs": [
    {
     "name": "stdout",
     "output_type": "stream",
     "text": [
      "500 is maximum\n"
     ]
    }
   ],
   "source": [
    "a=100\n",
    "b=500\n",
    "c=20\n",
    "\n",
    "print(f'{a} is maximum') if a>b and a>c else print(f'{b} is maximum') if b>a and b>c else print(f'{c} is maximum')"
   ]
  },
  {
   "cell_type": "markdown",
   "id": "5182e31b",
   "metadata": {},
   "source": [
    "# Nested if condition"
   ]
  },
  {
   "cell_type": "code",
   "execution_count": 151,
   "id": "b4097b12",
   "metadata": {},
   "outputs": [
    {
     "data": {
      "text/plain": [
       "0j"
      ]
     },
     "execution_count": 151,
     "metadata": {},
     "output_type": "execute_result"
    }
   ],
   "source": [
    "0+0j and 5.5"
   ]
  },
  {
   "cell_type": "code",
   "execution_count": 149,
   "id": "0d0cce69",
   "metadata": {},
   "outputs": [
    {
     "data": {
      "text/plain": [
       "(True, True)"
      ]
     },
     "execution_count": 149,
     "metadata": {},
     "output_type": "execute_result"
    }
   ],
   "source": [
    "bool(2+2j),bool(5.5)"
   ]
  },
  {
   "cell_type": "code",
   "execution_count": 152,
   "id": "db72382e",
   "metadata": {},
   "outputs": [
    {
     "data": {
      "text/plain": [
       "False"
      ]
     },
     "execution_count": 152,
     "metadata": {},
     "output_type": "execute_result"
    }
   ],
   "source": [
    "bool(0+0j)"
   ]
  },
  {
   "cell_type": "code",
   "execution_count": 155,
   "id": "4af3a85c",
   "metadata": {},
   "outputs": [
    {
     "data": {
      "text/plain": [
       "0"
      ]
     },
     "execution_count": 155,
     "metadata": {},
     "output_type": "execute_result"
    }
   ],
   "source": [
    "0 and 0.0"
   ]
  },
  {
   "cell_type": "code",
   "execution_count": 156,
   "id": "35b9da25",
   "metadata": {},
   "outputs": [
    {
     "data": {
      "text/plain": [
       "False"
      ]
     },
     "execution_count": 156,
     "metadata": {},
     "output_type": "execute_result"
    }
   ],
   "source": [
    "bool(0.0)"
   ]
  },
  {
   "cell_type": "code",
   "execution_count": 157,
   "id": "d8f54717",
   "metadata": {},
   "outputs": [
    {
     "name": "stdout",
     "output_type": "stream",
     "text": [
      "330\n"
     ]
    }
   ],
   "source": [
    "print(10+10*32)"
   ]
  },
  {
   "cell_type": "code",
   "execution_count": null,
   "id": "d2a4e828",
   "metadata": {},
   "outputs": [],
   "source": [
    "# Operator Precedence -\n",
    "# Number System- "
   ]
  },
  {
   "cell_type": "code",
   "execution_count": null,
   "id": "ca16d535",
   "metadata": {},
   "outputs": [],
   "source": []
  }
 ],
 "metadata": {
  "kernelspec": {
   "display_name": "Python 3 (ipykernel)",
   "language": "python",
   "name": "python3"
  },
  "language_info": {
   "codemirror_mode": {
    "name": "ipython",
    "version": 3
   },
   "file_extension": ".py",
   "mimetype": "text/x-python",
   "name": "python",
   "nbconvert_exporter": "python",
   "pygments_lexer": "ipython3",
   "version": "3.9.13"
  }
 },
 "nbformat": 4,
 "nbformat_minor": 5
}
