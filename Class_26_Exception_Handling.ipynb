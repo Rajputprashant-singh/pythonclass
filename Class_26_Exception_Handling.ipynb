{
 "cells": [
  {
   "cell_type": "markdown",
   "id": "d00a3846",
   "metadata": {},
   "source": [
    "# Exception"
   ]
  },
  {
   "cell_type": "markdown",
   "id": "05126b50",
   "metadata": {},
   "source": [
    "# Types of errors"
   ]
  },
  {
   "cell_type": "markdown",
   "id": "b484131f",
   "metadata": {},
   "source": [
    "- 1- Compile time error\n",
    "- 2- Run time error"
   ]
  },
  {
   "cell_type": "markdown",
   "id": "56cb0c11",
   "metadata": {},
   "source": [
    "# 1- Compile time errors"
   ]
  },
  {
   "cell_type": "markdown",
   "id": "9476abff",
   "metadata": {},
   "source": [
    "- The errors that are caught by the compiler are known as compile time error."
   ]
  },
  {
   "cell_type": "markdown",
   "id": "dc8e8093",
   "metadata": {},
   "source": [
    "- 1- Syntax error\n",
    "- 2- Indentation error"
   ]
  },
  {
   "cell_type": "markdown",
   "id": "853521e4",
   "metadata": {},
   "source": [
    "# 2- Run time errors"
   ]
  },
  {
   "cell_type": "markdown",
   "id": "4ab6ae1d",
   "metadata": {},
   "source": [
    "- The errors that occurs at run time are known as run time error.\n",
    "- Run time errors are caught by the interpreter."
   ]
  },
  {
   "cell_type": "markdown",
   "id": "5f33d105",
   "metadata": {},
   "source": [
    "- 1- Name error\n",
    "- 2- Value error\n",
    "- 3- Type error\n",
    "- 4- Key error\n",
    "- 5- Index error\n",
    "- 6- Stop Iteration error\n",
    "- 7- Attribute error\n",
    "- 8- Division by zero error\n",
    "- 9- File not found error\n",
    "- 10- Module not found error"
   ]
  },
  {
   "cell_type": "markdown",
   "id": "4c312a1e",
   "metadata": {},
   "source": [
    "# Exception"
   ]
  },
  {
   "cell_type": "markdown",
   "id": "8ad2a1a8",
   "metadata": {},
   "source": [
    "- A run time error is known as exception.\n",
    "- When an exception is raised it disrupts the normal flow of execution."
   ]
  },
  {
   "cell_type": "code",
   "execution_count": 5,
   "id": "ccf59a31",
   "metadata": {},
   "outputs": [
    {
     "name": "stdout",
     "output_type": "stream",
     "text": [
      "Hello\n",
      "Python\n"
     ]
    },
    {
     "ename": "NameError",
     "evalue": "name 'a' is not defined",
     "output_type": "error",
     "traceback": [
      "\u001b[1;31m---------------------------------------------------------------------------\u001b[0m",
      "\u001b[1;31mNameError\u001b[0m                                 Traceback (most recent call last)",
      "\u001b[1;32m~\\AppData\\Local\\Temp\\ipykernel_19716\\1509975995.py\u001b[0m in \u001b[0;36m<module>\u001b[1;34m\u001b[0m\n\u001b[0;32m      1\u001b[0m \u001b[0mprint\u001b[0m\u001b[1;33m(\u001b[0m\u001b[1;34m'Hello'\u001b[0m\u001b[1;33m)\u001b[0m\u001b[1;33m\u001b[0m\u001b[1;33m\u001b[0m\u001b[0m\n\u001b[0;32m      2\u001b[0m \u001b[0mprint\u001b[0m\u001b[1;33m(\u001b[0m\u001b[1;34m'Python'\u001b[0m\u001b[1;33m)\u001b[0m\u001b[1;33m\u001b[0m\u001b[1;33m\u001b[0m\u001b[0m\n\u001b[1;32m----> 3\u001b[1;33m \u001b[0mprint\u001b[0m\u001b[1;33m(\u001b[0m\u001b[0ma\u001b[0m\u001b[1;33m)\u001b[0m\u001b[1;33m\u001b[0m\u001b[1;33m\u001b[0m\u001b[0m\n\u001b[0m\u001b[0;32m      4\u001b[0m \u001b[0mprint\u001b[0m\u001b[1;33m(\u001b[0m\u001b[1;34m'Thanks'\u001b[0m\u001b[1;33m)\u001b[0m\u001b[1;33m\u001b[0m\u001b[1;33m\u001b[0m\u001b[0m\n\u001b[0;32m      5\u001b[0m \u001b[0ma\u001b[0m\u001b[1;33m=\u001b[0m\u001b[1;36m10\u001b[0m\u001b[1;33m\u001b[0m\u001b[1;33m\u001b[0m\u001b[0m\n",
      "\u001b[1;31mNameError\u001b[0m: name 'a' is not defined"
     ]
    }
   ],
   "source": [
    "print('Hello')\n",
    "print('Python')\n",
    "print(a)\n",
    "print('Thanks')\n",
    "a=10\n",
    "b=20\n",
    "c=a+b\n",
    "print(c)"
   ]
  },
  {
   "cell_type": "markdown",
   "id": "8e782773",
   "metadata": {},
   "source": [
    "# Exception Handling"
   ]
  },
  {
   "cell_type": "markdown",
   "id": "bb4a4b0f",
   "metadata": {},
   "source": [
    "- As we known when an exception is raised it disrupts the normal flow of execution.\n",
    "- Exception handling is the process to generate some response against the exception raised.\n",
    "- By handling an exception the normal flow of the execution does not get disrupted."
   ]
  },
  {
   "cell_type": "markdown",
   "id": "6941d99f",
   "metadata": {},
   "source": [
    "# How to do execption handling"
   ]
  },
  {
   "cell_type": "code",
   "execution_count": 6,
   "id": "60354928",
   "metadata": {},
   "outputs": [],
   "source": [
    "# try\n",
    "# execpt\n",
    "# else\n",
    "# finally\n",
    "# raise"
   ]
  },
  {
   "cell_type": "markdown",
   "id": "78cd052a",
   "metadata": {},
   "source": [
    "# try and except statement"
   ]
  },
  {
   "cell_type": "markdown",
   "id": "3bb0e8c7",
   "metadata": {},
   "source": [
    "- The code that may raise an exception is kept inside the try block and the response to that particular execption is kept inside the except block."
   ]
  },
  {
   "cell_type": "code",
   "execution_count": null,
   "id": "30aaa238",
   "metadata": {},
   "outputs": [],
   "source": [
    "try:\n",
    "    code\n",
    "    code\n",
    "except:\n",
    "    response"
   ]
  },
  {
   "cell_type": "markdown",
   "id": "9d5d555c",
   "metadata": {},
   "source": [
    "- When an exception is raised in try block then except block is executed."
   ]
  },
  {
   "cell_type": "code",
   "execution_count": 15,
   "id": "6fef47a6",
   "metadata": {},
   "outputs": [
    {
     "name": "stdout",
     "output_type": "stream",
     "text": [
      "Hello\n",
      "Python\n",
      "Check the code again.\n",
      "30\n",
      "Thank you!\n"
     ]
    }
   ],
   "source": [
    "try:\n",
    "    print('Hello')\n",
    "    print('Python')\n",
    "    print(x)\n",
    "    print('Thanks')\n",
    "except:\n",
    "    print('Check the code again.')\n",
    "a=10\n",
    "b=20\n",
    "c=a+b\n",
    "print(c)\n",
    "print('Thank you!')"
   ]
  },
  {
   "cell_type": "code",
   "execution_count": 23,
   "id": "a56f86f0",
   "metadata": {},
   "outputs": [
    {
     "name": "stdout",
     "output_type": "stream",
     "text": [
      "Enter a number- 6\n",
      "Enter a number again- 0\n",
      "Divison by zero is not possible.\n",
      "Thanks for using our services\n"
     ]
    }
   ],
   "source": [
    "a=int(input('Enter a number- '))\n",
    "b=int(input('Enter a number again- '))\n",
    "try:\n",
    "    c=a/b\n",
    "    print(c)\n",
    "except:\n",
    "    print('Divison by zero is not possible.')\n",
    "print('Thanks for using our services')"
   ]
  },
  {
   "cell_type": "code",
   "execution_count": 24,
   "id": "034d6ff2",
   "metadata": {},
   "outputs": [
    {
     "name": "stdout",
     "output_type": "stream",
     "text": [
      "Enter a number- g\n"
     ]
    },
    {
     "ename": "ValueError",
     "evalue": "invalid literal for int() with base 10: 'g'",
     "output_type": "error",
     "traceback": [
      "\u001b[1;31m---------------------------------------------------------------------------\u001b[0m",
      "\u001b[1;31mValueError\u001b[0m                                Traceback (most recent call last)",
      "\u001b[1;32m~\\AppData\\Local\\Temp\\ipykernel_19716\\3869274561.py\u001b[0m in \u001b[0;36m<module>\u001b[1;34m\u001b[0m\n\u001b[1;32m----> 1\u001b[1;33m \u001b[0ma\u001b[0m\u001b[1;33m=\u001b[0m\u001b[0mint\u001b[0m\u001b[1;33m(\u001b[0m\u001b[0minput\u001b[0m\u001b[1;33m(\u001b[0m\u001b[1;34m'Enter a number- '\u001b[0m\u001b[1;33m)\u001b[0m\u001b[1;33m)\u001b[0m\u001b[1;33m\u001b[0m\u001b[1;33m\u001b[0m\u001b[0m\n\u001b[0m\u001b[0;32m      2\u001b[0m \u001b[0mb\u001b[0m\u001b[1;33m=\u001b[0m\u001b[0mint\u001b[0m\u001b[1;33m(\u001b[0m\u001b[0minput\u001b[0m\u001b[1;33m(\u001b[0m\u001b[1;34m'Enter a number again- '\u001b[0m\u001b[1;33m)\u001b[0m\u001b[1;33m)\u001b[0m\u001b[1;33m\u001b[0m\u001b[1;33m\u001b[0m\u001b[0m\n\u001b[0;32m      3\u001b[0m \u001b[1;32mtry\u001b[0m\u001b[1;33m:\u001b[0m\u001b[1;33m\u001b[0m\u001b[1;33m\u001b[0m\u001b[0m\n\u001b[0;32m      4\u001b[0m     \u001b[0mc\u001b[0m\u001b[1;33m=\u001b[0m\u001b[0ma\u001b[0m\u001b[1;33m/\u001b[0m\u001b[0mb\u001b[0m\u001b[1;33m\u001b[0m\u001b[1;33m\u001b[0m\u001b[0m\n\u001b[0;32m      5\u001b[0m     \u001b[0mprint\u001b[0m\u001b[1;33m(\u001b[0m\u001b[0mc\u001b[0m\u001b[1;33m)\u001b[0m\u001b[1;33m\u001b[0m\u001b[1;33m\u001b[0m\u001b[0m\n",
      "\u001b[1;31mValueError\u001b[0m: invalid literal for int() with base 10: 'g'"
     ]
    }
   ],
   "source": [
    "a=int(input('Enter a number- '))\n",
    "b=int(input('Enter a number again- '))\n",
    "try:\n",
    "    c=a/b\n",
    "    print(c)\n",
    "except:\n",
    "    print('Divison by zero is not possible.')\n",
    "print('Thanks for using our services')"
   ]
  },
  {
   "cell_type": "code",
   "execution_count": 25,
   "id": "b1f37c21",
   "metadata": {},
   "outputs": [
    {
     "ename": "ValueError",
     "evalue": "invalid literal for int() with base 10: 'g'",
     "output_type": "error",
     "traceback": [
      "\u001b[1;31m---------------------------------------------------------------------------\u001b[0m",
      "\u001b[1;31mValueError\u001b[0m                                Traceback (most recent call last)",
      "\u001b[1;32m~\\AppData\\Local\\Temp\\ipykernel_19716\\1850497852.py\u001b[0m in \u001b[0;36m<module>\u001b[1;34m\u001b[0m\n\u001b[1;32m----> 1\u001b[1;33m \u001b[0mint\u001b[0m\u001b[1;33m(\u001b[0m\u001b[1;34m'g'\u001b[0m\u001b[1;33m)\u001b[0m\u001b[1;33m\u001b[0m\u001b[1;33m\u001b[0m\u001b[0m\n\u001b[0m",
      "\u001b[1;31mValueError\u001b[0m: invalid literal for int() with base 10: 'g'"
     ]
    }
   ],
   "source": [
    "int('g')"
   ]
  },
  {
   "cell_type": "code",
   "execution_count": 28,
   "id": "e913f7cf",
   "metadata": {},
   "outputs": [
    {
     "name": "stdout",
     "output_type": "stream",
     "text": [
      "Enter a number- l\n",
      "Divison by zero is not possible.\n",
      "Thanks for using our services\n"
     ]
    }
   ],
   "source": [
    "try:\n",
    "    a=int(input('Enter a number- '))\n",
    "    b=int(input('Enter a number again- '))\n",
    "    c=a/b\n",
    "    print(c)\n",
    "except:\n",
    "    print('Divison by zero is not possible.')\n",
    "print('Thanks for using our services')"
   ]
  },
  {
   "cell_type": "markdown",
   "id": "b84859e9",
   "metadata": {},
   "source": [
    "# How to get proper error message"
   ]
  },
  {
   "cell_type": "code",
   "execution_count": null,
   "id": "9f085b57",
   "metadata": {},
   "outputs": [],
   "source": [
    "try:\n",
    "    code\n",
    "    code\n",
    "execpt Exception as name:\n",
    "    print(name)"
   ]
  },
  {
   "cell_type": "code",
   "execution_count": 29,
   "id": "0b6854fd",
   "metadata": {},
   "outputs": [
    {
     "name": "stdout",
     "output_type": "stream",
     "text": [
      "['ArithmeticError', 'AssertionError', 'AttributeError', 'BaseException', 'BlockingIOError', 'BrokenPipeError', 'BufferError', 'BytesWarning', 'ChildProcessError', 'ConnectionAbortedError', 'ConnectionError', 'ConnectionRefusedError', 'ConnectionResetError', 'DeprecationWarning', 'EOFError', 'Ellipsis', 'EnvironmentError', 'Exception', 'False', 'FileExistsError', 'FileNotFoundError', 'FloatingPointError', 'FutureWarning', 'GeneratorExit', 'IOError', 'ImportError', 'ImportWarning', 'IndentationError', 'IndexError', 'InterruptedError', 'IsADirectoryError', 'KeyError', 'KeyboardInterrupt', 'LookupError', 'MemoryError', 'ModuleNotFoundError', 'NameError', 'None', 'NotADirectoryError', 'NotImplemented', 'NotImplementedError', 'OSError', 'OverflowError', 'PendingDeprecationWarning', 'PermissionError', 'ProcessLookupError', 'RecursionError', 'ReferenceError', 'ResourceWarning', 'RuntimeError', 'RuntimeWarning', 'StopAsyncIteration', 'StopIteration', 'SyntaxError', 'SyntaxWarning', 'SystemError', 'SystemExit', 'TabError', 'TimeoutError', 'True', 'TypeError', 'UnboundLocalError', 'UnicodeDecodeError', 'UnicodeEncodeError', 'UnicodeError', 'UnicodeTranslateError', 'UnicodeWarning', 'UserWarning', 'ValueError', 'Warning', 'WindowsError', 'ZeroDivisionError', '__IPYTHON__', '__build_class__', '__debug__', '__doc__', '__import__', '__loader__', '__name__', '__package__', '__spec__', 'abs', 'all', 'any', 'ascii', 'bin', 'bool', 'breakpoint', 'bytearray', 'bytes', 'callable', 'chr', 'classmethod', 'compile', 'complex', 'copyright', 'credits', 'delattr', 'dict', 'dir', 'display', 'divmod', 'enumerate', 'eval', 'exec', 'execfile', 'filter', 'float', 'format', 'frozenset', 'get_ipython', 'getattr', 'globals', 'hasattr', 'hash', 'help', 'hex', 'id', 'input', 'int', 'isinstance', 'issubclass', 'iter', 'len', 'license', 'list', 'locals', 'map', 'max', 'memoryview', 'min', 'next', 'object', 'oct', 'open', 'ord', 'pow', 'print', 'property', 'range', 'repr', 'reversed', 'round', 'runfile', 'set', 'setattr', 'slice', 'sorted', 'staticmethod', 'str', 'sum', 'super', 'tuple', 'type', 'vars', 'zip']\n"
     ]
    }
   ],
   "source": [
    "print(dir(__builtins__))"
   ]
  },
  {
   "cell_type": "code",
   "execution_count": 11,
   "id": "732a9de4",
   "metadata": {},
   "outputs": [
    {
     "name": "stdout",
     "output_type": "stream",
     "text": [
      "Enter a number- 5\n",
      "Enter a number again- j\n",
      "invalid literal for int() with base 10: 'j'\n",
      "Thanks for using our services\n"
     ]
    }
   ],
   "source": [
    "try:\n",
    "    a=int(input('Enter a number- '))\n",
    "    b=int(input('Enter a number again- '))\n",
    "    c=a/b\n",
    "    print(c)\n",
    "    print(x)\n",
    "except Exception as e:\n",
    "    print(e)\n",
    "print('Thanks for using our services')"
   ]
  },
  {
   "cell_type": "code",
   "execution_count": 32,
   "id": "220b6bde",
   "metadata": {},
   "outputs": [
    {
     "ename": "ZeroDivisionError",
     "evalue": "division by zero",
     "output_type": "error",
     "traceback": [
      "\u001b[1;31m---------------------------------------------------------------------------\u001b[0m",
      "\u001b[1;31mZeroDivisionError\u001b[0m                         Traceback (most recent call last)",
      "\u001b[1;32m~\\AppData\\Local\\Temp\\ipykernel_19716\\2874912419.py\u001b[0m in \u001b[0;36m<module>\u001b[1;34m\u001b[0m\n\u001b[1;32m----> 1\u001b[1;33m \u001b[1;36m5\u001b[0m\u001b[1;33m/\u001b[0m\u001b[1;36m0\u001b[0m\u001b[1;33m\u001b[0m\u001b[1;33m\u001b[0m\u001b[0m\n\u001b[0m",
      "\u001b[1;31mZeroDivisionError\u001b[0m: division by zero"
     ]
    }
   ],
   "source": [
    "5/0"
   ]
  },
  {
   "cell_type": "code",
   "execution_count": 1,
   "id": "ce5bc66d",
   "metadata": {},
   "outputs": [
    {
     "ename": "ValueError",
     "evalue": "invalid literal for int() with base 10: 'k'",
     "output_type": "error",
     "traceback": [
      "\u001b[1;31m---------------------------------------------------------------------------\u001b[0m",
      "\u001b[1;31mValueError\u001b[0m                                Traceback (most recent call last)",
      "\u001b[1;32m~\\AppData\\Local\\Temp\\ipykernel_25952\\3672752889.py\u001b[0m in \u001b[0;36m<module>\u001b[1;34m\u001b[0m\n\u001b[1;32m----> 1\u001b[1;33m \u001b[0mint\u001b[0m\u001b[1;33m(\u001b[0m\u001b[1;34m'k'\u001b[0m\u001b[1;33m)\u001b[0m\u001b[1;33m\u001b[0m\u001b[1;33m\u001b[0m\u001b[0m\n\u001b[0m",
      "\u001b[1;31mValueError\u001b[0m: invalid literal for int() with base 10: 'k'"
     ]
    }
   ],
   "source": [
    "int('k')"
   ]
  },
  {
   "cell_type": "code",
   "execution_count": 4,
   "id": "1816e13e",
   "metadata": {},
   "outputs": [
    {
     "ename": "NameError",
     "evalue": "name 'x' is not defined",
     "output_type": "error",
     "traceback": [
      "\u001b[1;31m---------------------------------------------------------------------------\u001b[0m",
      "\u001b[1;31mNameError\u001b[0m                                 Traceback (most recent call last)",
      "\u001b[1;32m~\\AppData\\Local\\Temp\\ipykernel_25952\\32546335.py\u001b[0m in \u001b[0;36m<module>\u001b[1;34m\u001b[0m\n\u001b[1;32m----> 1\u001b[1;33m \u001b[0mx\u001b[0m\u001b[1;33m\u001b[0m\u001b[1;33m\u001b[0m\u001b[0m\n\u001b[0m",
      "\u001b[1;31mNameError\u001b[0m: name 'x' is not defined"
     ]
    }
   ],
   "source": [
    "x"
   ]
  },
  {
   "cell_type": "code",
   "execution_count": 10,
   "id": "6863ff31",
   "metadata": {},
   "outputs": [
    {
     "data": {
      "text/plain": [
       "2"
      ]
     },
     "execution_count": 10,
     "metadata": {},
     "output_type": "execute_result"
    }
   ],
   "source": [
    "int(float('2.5'))"
   ]
  },
  {
   "cell_type": "markdown",
   "id": "16f89786",
   "metadata": {},
   "source": [
    "# How to get a customised message for different exceptions"
   ]
  },
  {
   "cell_type": "code",
   "execution_count": 20,
   "id": "639db8ba",
   "metadata": {},
   "outputs": [
    {
     "name": "stdout",
     "output_type": "stream",
     "text": [
      "Enter a number- 5\n",
      "Enter a number again- 2\n",
      "2.5\n",
      "name 'x' is not defined\n"
     ]
    }
   ],
   "source": [
    "try:\n",
    "    a=int(input('Enter a number- '))\n",
    "    b=int(input('Enter a number again- '))\n",
    "    c=a/b\n",
    "    print(c)\n",
    "    print(x)\n",
    "except ValueError:\n",
    "    print('Only digits are allowed')\n",
    "except ZeroDivisionError:\n",
    "    print('Divison by zero is not allowed.')\n",
    "except Exception as e:\n",
    "    print(e)"
   ]
  },
  {
   "cell_type": "code",
   "execution_count": 12,
   "id": "faad5fbc",
   "metadata": {},
   "outputs": [
    {
     "ename": "ValueError",
     "evalue": "invalid literal for int() with base 10: 'A'",
     "output_type": "error",
     "traceback": [
      "\u001b[1;31m---------------------------------------------------------------------------\u001b[0m",
      "\u001b[1;31mValueError\u001b[0m                                Traceback (most recent call last)",
      "\u001b[1;32m~\\AppData\\Local\\Temp\\ipykernel_25952\\593083718.py\u001b[0m in \u001b[0;36m<module>\u001b[1;34m\u001b[0m\n\u001b[1;32m----> 1\u001b[1;33m \u001b[0mint\u001b[0m\u001b[1;33m(\u001b[0m\u001b[1;34m'A'\u001b[0m\u001b[1;33m)\u001b[0m\u001b[1;33m\u001b[0m\u001b[1;33m\u001b[0m\u001b[0m\n\u001b[0m",
      "\u001b[1;31mValueError\u001b[0m: invalid literal for int() with base 10: 'A'"
     ]
    }
   ],
   "source": [
    "int('A')"
   ]
  },
  {
   "cell_type": "markdown",
   "id": "07e2e49f",
   "metadata": {},
   "source": [
    "# Nested try and execpt"
   ]
  },
  {
   "cell_type": "code",
   "execution_count": 21,
   "id": "9edf20f8",
   "metadata": {},
   "outputs": [],
   "source": [
    "try:\n",
    "    code_1 \n",
    "    code_2\n",
    "    try:\n",
    "        code_3\n",
    "        code_4\n",
    "    except:\n",
    "        response_1\n",
    "except:\n",
    "    response_2"
   ]
  },
  {
   "cell_type": "code",
   "execution_count": 22,
   "id": "37443d28",
   "metadata": {},
   "outputs": [
    {
     "name": "stdout",
     "output_type": "stream",
     "text": [
      "Outer try block\n",
      "Inner try block\n"
     ]
    }
   ],
   "source": [
    "try:\n",
    "    print('Outer try block')\n",
    "    try:\n",
    "        print('Inner try block')\n",
    "    except:\n",
    "        print('Inner execpt block')\n",
    "except:\n",
    "    print('Outer except block')"
   ]
  },
  {
   "cell_type": "code",
   "execution_count": 23,
   "id": "85e79422",
   "metadata": {},
   "outputs": [
    {
     "name": "stdout",
     "output_type": "stream",
     "text": [
      "Outer try block\n",
      "Outer except block\n"
     ]
    }
   ],
   "source": [
    "try:\n",
    "    print('Outer try block')\n",
    "    2/0\n",
    "    try:\n",
    "        print('Inner try block')\n",
    "    except:\n",
    "        print('Inner execpt block')\n",
    "except:\n",
    "    print('Outer except block')"
   ]
  },
  {
   "cell_type": "code",
   "execution_count": 24,
   "id": "1c1278b8",
   "metadata": {},
   "outputs": [
    {
     "name": "stdout",
     "output_type": "stream",
     "text": [
      "Outer try block\n",
      "Inner try block\n",
      "Inner execpt block\n"
     ]
    }
   ],
   "source": [
    "try:\n",
    "    print('Outer try block')\n",
    "    try:\n",
    "        print('Inner try block')\n",
    "        2/0\n",
    "    except:\n",
    "        print('Inner execpt block')\n",
    "except:\n",
    "    print('Outer except block')"
   ]
  },
  {
   "cell_type": "code",
   "execution_count": 25,
   "id": "dc515a0d",
   "metadata": {},
   "outputs": [
    {
     "name": "stdout",
     "output_type": "stream",
     "text": [
      "Outer except block\n"
     ]
    }
   ],
   "source": [
    "try:\n",
    "    int('k')\n",
    "    print('Outer try block')\n",
    "    try:\n",
    "        print('Inner try block')\n",
    "        2/0\n",
    "    except:\n",
    "        print('Inner execpt block')\n",
    "except:\n",
    "    print('Outer except block')"
   ]
  },
  {
   "cell_type": "code",
   "execution_count": 29,
   "id": "4a322de9",
   "metadata": {},
   "outputs": [
    {
     "name": "stdout",
     "output_type": "stream",
     "text": [
      "Outer try block\n",
      "Inner execpt block\n"
     ]
    }
   ],
   "source": [
    "try:\n",
    "    print('Outer try block')\n",
    "    try:\n",
    "        int('k')\n",
    "        print('Inner try block')\n",
    "        2/0\n",
    "    except:\n",
    "        print('Inner execpt block')\n",
    "except:\n",
    "    print('Outer except block')"
   ]
  },
  {
   "cell_type": "code",
   "execution_count": 43,
   "id": "a089e2cc",
   "metadata": {},
   "outputs": [
    {
     "name": "stdout",
     "output_type": "stream",
     "text": [
      "Enter a number- l\n",
      "Only digits are allowed.\n"
     ]
    }
   ],
   "source": [
    "try:\n",
    "    a=int(input('Enter a number- '))\n",
    "    b=int(input('Enter a number again- '))\n",
    "    \n",
    "    try:\n",
    "        c=a/b\n",
    "        print(c)\n",
    "    except:\n",
    "        print('Division by Zero is not possible')\n",
    "except:\n",
    "    print('Only digits are allowed.')"
   ]
  },
  {
   "cell_type": "markdown",
   "id": "f566e20f",
   "metadata": {},
   "source": [
    "# Multiple try and except block"
   ]
  },
  {
   "cell_type": "code",
   "execution_count": null,
   "id": "cab4449b",
   "metadata": {},
   "outputs": [],
   "source": [
    "try:\n",
    "    code\n",
    "    code\n",
    "except:\n",
    "    response\n",
    "    \n",
    "try:\n",
    "    code\n",
    "    code\n",
    "except:\n",
    "    response"
   ]
  },
  {
   "cell_type": "code",
   "execution_count": 45,
   "id": "bbcce5ef",
   "metadata": {},
   "outputs": [
    {
     "name": "stdout",
     "output_type": "stream",
     "text": [
      "Enter a number- k\n",
      "Only digits are allowed\n",
      "Division by Zero is not possible\n"
     ]
    }
   ],
   "source": [
    "try:\n",
    "    a=int(input('Enter a number- '))\n",
    "    b=int(input('Enter a number again- '))\n",
    "except:\n",
    "    print('Only digits are allowed')\n",
    "    \n",
    "try:\n",
    "    c=a/b\n",
    "    print(c)\n",
    "except:\n",
    "    print('Division by Zero is not possible')"
   ]
  },
  {
   "cell_type": "markdown",
   "id": "21b5bb86",
   "metadata": {},
   "source": [
    "# try.....except.....else statements"
   ]
  },
  {
   "cell_type": "code",
   "execution_count": null,
   "id": "2098bca2",
   "metadata": {},
   "outputs": [],
   "source": [
    "try:\n",
    "    code\n",
    "    code\n",
    "except:\n",
    "    response\n",
    "else:\n",
    "    code\n",
    "    code"
   ]
  },
  {
   "cell_type": "markdown",
   "id": "df7f7fc9",
   "metadata": {},
   "source": [
    "- If try block raises an exception then except block gets executed.\n",
    "- If try block is not raising an exception then else block gets executed."
   ]
  },
  {
   "cell_type": "code",
   "execution_count": 47,
   "id": "0baabcc2",
   "metadata": {},
   "outputs": [
    {
     "name": "stdout",
     "output_type": "stream",
     "text": [
      "Enter a number- 5\n",
      "Enter a number again- 2\n",
      "2.5\n"
     ]
    }
   ],
   "source": [
    "a=int(input('Enter a number- '))\n",
    "b=int(input('Enter a number again- '))\n",
    "\n",
    "try:\n",
    "    c=a/b\n",
    "except:\n",
    "    print('Division by zero is not allowed')\n",
    "else:\n",
    "    print(c)"
   ]
  },
  {
   "cell_type": "markdown",
   "id": "53cedca2",
   "metadata": {},
   "source": [
    "# finally block"
   ]
  },
  {
   "cell_type": "markdown",
   "id": "bec84f06",
   "metadata": {},
   "source": [
    "- The code that we write in finally block always gets executed."
   ]
  },
  {
   "cell_type": "code",
   "execution_count": null,
   "id": "fb0f539a",
   "metadata": {},
   "outputs": [],
   "source": [
    "try:\n",
    "    code\n",
    "    code\n",
    "except:\n",
    "    response\n",
    "else:\n",
    "    code\n",
    "    code\n",
    "finally:\n",
    "    code\n",
    "    code"
   ]
  },
  {
   "cell_type": "markdown",
   "id": "79755c9c",
   "metadata": {},
   "source": [
    "# Case_1\n",
    "- When no execption is raised"
   ]
  },
  {
   "cell_type": "code",
   "execution_count": 48,
   "id": "4c2f3754",
   "metadata": {},
   "outputs": [
    {
     "name": "stdout",
     "output_type": "stream",
     "text": [
      "Try block\n",
      "Else block\n",
      "Finally block\n"
     ]
    }
   ],
   "source": [
    "try:\n",
    "    print('Try block')\n",
    "except:\n",
    "    print('Except block')\n",
    "else:\n",
    "    print('Else block')\n",
    "finally:\n",
    "    print('Finally block')"
   ]
  },
  {
   "cell_type": "markdown",
   "id": "e419f6d1",
   "metadata": {},
   "source": [
    "# Case_2\n",
    "- When an exception is raised and handled"
   ]
  },
  {
   "cell_type": "code",
   "execution_count": 49,
   "id": "a5aaedb8",
   "metadata": {},
   "outputs": [
    {
     "name": "stdout",
     "output_type": "stream",
     "text": [
      "Try block\n",
      "Except block\n",
      "Finally block\n"
     ]
    }
   ],
   "source": [
    "try:\n",
    "    print('Try block')\n",
    "    int('k')\n",
    "except:\n",
    "    print('Except block')\n",
    "else:\n",
    "    print('Else block')\n",
    "finally:\n",
    "    print('Finally block')"
   ]
  },
  {
   "cell_type": "markdown",
   "id": "3aa74d3c",
   "metadata": {},
   "source": [
    "# Case_3\n",
    "- When an exception is raised but not handled."
   ]
  },
  {
   "cell_type": "code",
   "execution_count": 57,
   "id": "aa2355d4",
   "metadata": {},
   "outputs": [
    {
     "name": "stdout",
     "output_type": "stream",
     "text": [
      "Try block\n",
      "Thank you!\n"
     ]
    },
    {
     "ename": "ZeroDivisionError",
     "evalue": "division by zero",
     "output_type": "error",
     "traceback": [
      "\u001b[1;31m---------------------------------------------------------------------------\u001b[0m",
      "\u001b[1;31mZeroDivisionError\u001b[0m                         Traceback (most recent call last)",
      "\u001b[1;32m~\\AppData\\Local\\Temp\\ipykernel_25952\\1125836881.py\u001b[0m in \u001b[0;36m<module>\u001b[1;34m\u001b[0m\n\u001b[0;32m      1\u001b[0m \u001b[1;32mtry\u001b[0m\u001b[1;33m:\u001b[0m\u001b[1;33m\u001b[0m\u001b[1;33m\u001b[0m\u001b[0m\n\u001b[0;32m      2\u001b[0m     \u001b[0mprint\u001b[0m\u001b[1;33m(\u001b[0m\u001b[1;34m'Try block'\u001b[0m\u001b[1;33m)\u001b[0m\u001b[1;33m\u001b[0m\u001b[1;33m\u001b[0m\u001b[0m\n\u001b[1;32m----> 3\u001b[1;33m     \u001b[1;36m2\u001b[0m\u001b[1;33m/\u001b[0m\u001b[1;36m0\u001b[0m\u001b[1;33m\u001b[0m\u001b[1;33m\u001b[0m\u001b[0m\n\u001b[0m\u001b[0;32m      4\u001b[0m \u001b[1;32mexcept\u001b[0m \u001b[0mValueError\u001b[0m\u001b[1;33m:\u001b[0m\u001b[1;33m\u001b[0m\u001b[1;33m\u001b[0m\u001b[0m\n\u001b[0;32m      5\u001b[0m     \u001b[0mprint\u001b[0m\u001b[1;33m(\u001b[0m\u001b[1;34m'Only digits are allowed'\u001b[0m\u001b[1;33m)\u001b[0m\u001b[1;33m\u001b[0m\u001b[1;33m\u001b[0m\u001b[0m\n",
      "\u001b[1;31mZeroDivisionError\u001b[0m: division by zero"
     ]
    }
   ],
   "source": [
    "try:\n",
    "    print('Try block')\n",
    "    2/0\n",
    "except ValueError:\n",
    "    print('Only digits are allowed')\n",
    "finally:\n",
    "    print('Thank you!')"
   ]
  },
  {
   "cell_type": "code",
   "execution_count": 61,
   "id": "f4f19c30",
   "metadata": {},
   "outputs": [
    {
     "name": "stdout",
     "output_type": "stream",
     "text": [
      "Number1= 5\n",
      "Number2= 0\n",
      "this will print no matter what\n"
     ]
    },
    {
     "ename": "ZeroDivisionError",
     "evalue": "division by zero",
     "output_type": "error",
     "traceback": [
      "\u001b[1;31m---------------------------------------------------------------------------\u001b[0m",
      "\u001b[1;31mZeroDivisionError\u001b[0m                         Traceback (most recent call last)",
      "\u001b[1;32m~\\AppData\\Local\\Temp\\ipykernel_25952\\2156228701.py\u001b[0m in \u001b[0;36m<module>\u001b[1;34m\u001b[0m\n\u001b[0;32m      3\u001b[0m \u001b[1;32mtry\u001b[0m\u001b[1;33m:\u001b[0m\u001b[1;33m\u001b[0m\u001b[1;33m\u001b[0m\u001b[0m\n\u001b[0;32m      4\u001b[0m \u001b[1;33m\u001b[0m\u001b[0m\n\u001b[1;32m----> 5\u001b[1;33m     \u001b[0mc\u001b[0m\u001b[1;33m=\u001b[0m\u001b[0ma\u001b[0m\u001b[1;33m/\u001b[0m\u001b[0mb\u001b[0m\u001b[1;33m\u001b[0m\u001b[1;33m\u001b[0m\u001b[0m\n\u001b[0m\u001b[0;32m      6\u001b[0m     \u001b[0mprint\u001b[0m\u001b[1;33m(\u001b[0m\u001b[0mk\u001b[0m\u001b[1;33m)\u001b[0m\u001b[1;33m\u001b[0m\u001b[1;33m\u001b[0m\u001b[0m\n\u001b[0;32m      7\u001b[0m \u001b[1;31m#     print(k)\u001b[0m\u001b[1;33m\u001b[0m\u001b[1;33m\u001b[0m\u001b[0m\n",
      "\u001b[1;31mZeroDivisionError\u001b[0m: division by zero"
     ]
    }
   ],
   "source": [
    "a=int(input('Number1= '))\n",
    "b=int(input('Number2= '))\n",
    "try:\n",
    "    \n",
    "    c=a/b\n",
    "    print(k)\n",
    "#     print(k)\n",
    "\n",
    "except ValueError:\n",
    "    print('Only digits are allowed')\n",
    "# except:\n",
    "#     print('Division by zero')\n",
    "\n",
    "else:\n",
    "    print(c)\n",
    "    print('It will print too')\n",
    "finally:\n",
    "    print('this will print no matter what')\n",
    "\n",
    "print('No effect on this')\n"
   ]
  },
  {
   "cell_type": "markdown",
   "id": "abd7cdaf",
   "metadata": {},
   "source": [
    "# raise"
   ]
  },
  {
   "cell_type": "markdown",
   "id": "75e52f0c",
   "metadata": {},
   "source": [
    "- It is used to rise a user defined exception."
   ]
  },
  {
   "cell_type": "code",
   "execution_count": 62,
   "id": "42d14747",
   "metadata": {},
   "outputs": [],
   "source": [
    "# Ac no. and amount should not be the same"
   ]
  },
  {
   "cell_type": "code",
   "execution_count": 64,
   "id": "2f2b3a5d",
   "metadata": {},
   "outputs": [
    {
     "name": "stdout",
     "output_type": "stream",
     "text": [
      "Try block\n",
      "We are raising an exception\n",
      "Except block\n",
      "Finally block\n"
     ]
    }
   ],
   "source": [
    "try:\n",
    "    print('Try block')\n",
    "    print('We are raising an exception')\n",
    "    raise\n",
    "    print('After raise')\n",
    "except:\n",
    "    print('Except block')\n",
    "else:\n",
    "    print('Else block')\n",
    "finally:\n",
    "    print('Finally block')"
   ]
  },
  {
   "cell_type": "code",
   "execution_count": 65,
   "id": "747ea6ca",
   "metadata": {},
   "outputs": [],
   "source": [
    "# Create a money transfer program.\n",
    "# Amount is between 1 and 50000, It should say amount transferred.\n",
    "# If the amount is > 50000 then it should say over limit\n",
    "# If the amount is 0 or less than 0 than it sohuld say amount should be a positive number."
   ]
  },
  {
   "cell_type": "code",
   "execution_count": 89,
   "id": "3b1730ec",
   "metadata": {},
   "outputs": [
    {
     "name": "stdout",
     "output_type": "stream",
     "text": [
      "Enter the amount- 5000\n",
      "Amount transferred\n",
      "Visit again\n"
     ]
    }
   ],
   "source": [
    "try:\n",
    "    amt=float(input('Enter the amount- '))\n",
    "    try:\n",
    "        if amt<=0:\n",
    "            raise\n",
    "        try:\n",
    "            if amt>50000:\n",
    "                raise\n",
    "        except:\n",
    "            print('Over limit. Submit your Pan Card')\n",
    "        else:\n",
    "            print('Amount transferred')\n",
    "    except:\n",
    "        print('Amount should be more than 0')\n",
    "except:\n",
    "    print('Only digits are allowed')\n",
    "finally:\n",
    "        print('Visit again')"
   ]
  },
  {
   "cell_type": "code",
   "execution_count": null,
   "id": "06a7b4a0",
   "metadata": {},
   "outputs": [],
   "source": []
  },
  {
   "cell_type": "code",
   "execution_count": null,
   "id": "fa255a93",
   "metadata": {},
   "outputs": [],
   "source": []
  }
 ],
 "metadata": {
  "kernelspec": {
   "display_name": "Python 3 (ipykernel)",
   "language": "python",
   "name": "python3"
  },
  "language_info": {
   "codemirror_mode": {
    "name": "ipython",
    "version": 3
   },
   "file_extension": ".py",
   "mimetype": "text/x-python",
   "name": "python",
   "nbconvert_exporter": "python",
   "pygments_lexer": "ipython3",
   "version": "3.9.13"
  }
 },
 "nbformat": 4,
 "nbformat_minor": 5
}
