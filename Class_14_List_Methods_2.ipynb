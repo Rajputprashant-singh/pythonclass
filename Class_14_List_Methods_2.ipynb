{
 "cells": [
  {
   "cell_type": "code",
   "execution_count": 1,
   "id": "93dfaaf1",
   "metadata": {},
   "outputs": [],
   "source": [
    "# append(), extend()"
   ]
  },
  {
   "cell_type": "markdown",
   "id": "b36615c8",
   "metadata": {},
   "source": [
    "# index()"
   ]
  },
  {
   "cell_type": "markdown",
   "id": "bc79886a",
   "metadata": {},
   "source": [
    "- It returns the index of the first occurence from left to right.\n",
    "- If the element is not found then it returns value error."
   ]
  },
  {
   "cell_type": "code",
   "execution_count": 7,
   "id": "b4478fa7",
   "metadata": {},
   "outputs": [],
   "source": [
    "# lst.index(element)\n",
    "# lst.index(element,start_index)\n",
    "# lst.index(element,start_index,stop_index)\n",
    "# stop_index is excluded"
   ]
  },
  {
   "cell_type": "code",
   "execution_count": 5,
   "id": "bfd5b32e",
   "metadata": {},
   "outputs": [
    {
     "name": "stdout",
     "output_type": "stream",
     "text": [
      "1\n",
      "0\n"
     ]
    }
   ],
   "source": [
    "lst=[True, 'Python', 10, True, 50, 5+5j, 2.5,'Python']\n",
    "\n",
    "print(lst.index('Python'))\n",
    "print(lst.index(True))"
   ]
  },
  {
   "cell_type": "code",
   "execution_count": 6,
   "id": "1afa6bfb",
   "metadata": {},
   "outputs": [
    {
     "ename": "ValueError",
     "evalue": "100 is not in list",
     "output_type": "error",
     "traceback": [
      "\u001b[1;31m---------------------------------------------------------------------------\u001b[0m",
      "\u001b[1;31mValueError\u001b[0m                                Traceback (most recent call last)",
      "\u001b[1;32m~\\AppData\\Local\\Temp\\ipykernel_17228\\2018578910.py\u001b[0m in \u001b[0;36m<module>\u001b[1;34m\u001b[0m\n\u001b[1;32m----> 1\u001b[1;33m \u001b[0mprint\u001b[0m\u001b[1;33m(\u001b[0m\u001b[0mlst\u001b[0m\u001b[1;33m.\u001b[0m\u001b[0mindex\u001b[0m\u001b[1;33m(\u001b[0m\u001b[1;36m100\u001b[0m\u001b[1;33m)\u001b[0m\u001b[1;33m)\u001b[0m\u001b[1;33m\u001b[0m\u001b[1;33m\u001b[0m\u001b[0m\n\u001b[0m",
      "\u001b[1;31mValueError\u001b[0m: 100 is not in list"
     ]
    }
   ],
   "source": [
    "print(lst.index(100))"
   ]
  },
  {
   "cell_type": "code",
   "execution_count": 8,
   "id": "9589fb4a",
   "metadata": {},
   "outputs": [
    {
     "data": {
      "text/plain": [
       "7"
      ]
     },
     "execution_count": 8,
     "metadata": {},
     "output_type": "execute_result"
    }
   ],
   "source": [
    "lst.index('Python',2)"
   ]
  },
  {
   "cell_type": "code",
   "execution_count": 9,
   "id": "ebd17fd2",
   "metadata": {},
   "outputs": [
    {
     "ename": "ValueError",
     "evalue": "'Python' is not in list",
     "output_type": "error",
     "traceback": [
      "\u001b[1;31m---------------------------------------------------------------------------\u001b[0m",
      "\u001b[1;31mValueError\u001b[0m                                Traceback (most recent call last)",
      "\u001b[1;32m~\\AppData\\Local\\Temp\\ipykernel_17228\\1525388542.py\u001b[0m in \u001b[0;36m<module>\u001b[1;34m\u001b[0m\n\u001b[1;32m----> 1\u001b[1;33m \u001b[0mlst\u001b[0m\u001b[1;33m.\u001b[0m\u001b[0mindex\u001b[0m\u001b[1;33m(\u001b[0m\u001b[1;34m'Python'\u001b[0m\u001b[1;33m,\u001b[0m\u001b[1;36m2\u001b[0m\u001b[1;33m,\u001b[0m\u001b[1;36m6\u001b[0m\u001b[1;33m)\u001b[0m\u001b[1;33m\u001b[0m\u001b[1;33m\u001b[0m\u001b[0m\n\u001b[0m",
      "\u001b[1;31mValueError\u001b[0m: 'Python' is not in list"
     ]
    }
   ],
   "source": [
    "lst.index('Python',2,6)"
   ]
  },
  {
   "cell_type": "markdown",
   "id": "c229faa8",
   "metadata": {},
   "source": [
    "# count()"
   ]
  },
  {
   "cell_type": "markdown",
   "id": "a102e0b2",
   "metadata": {},
   "source": [
    "- It returns the number of occurences of an element."
   ]
  },
  {
   "cell_type": "code",
   "execution_count": 12,
   "id": "3494ccc3",
   "metadata": {},
   "outputs": [
    {
     "name": "stdout",
     "output_type": "stream",
     "text": [
      "3\n",
      "3\n",
      "0\n"
     ]
    }
   ],
   "source": [
    "lst=[10,20,30,10,20,30,50,60,70,80,10,20,50,90]\n",
    "\n",
    "print(lst.count(10))\n",
    "print(lst.count(20))\n",
    "print(lst.count(100))"
   ]
  },
  {
   "cell_type": "markdown",
   "id": "64230a6b",
   "metadata": {},
   "source": [
    "# pop()"
   ]
  },
  {
   "cell_type": "markdown",
   "id": "70df80f3",
   "metadata": {},
   "source": [
    "- It returns the element availanle at a particular index and removes that element from the list.\n",
    "- By default it returns and removes the last element.\n",
    "- For invalid index it returns index error."
   ]
  },
  {
   "cell_type": "code",
   "execution_count": 15,
   "id": "8c44d65f",
   "metadata": {},
   "outputs": [],
   "source": [
    "# lst.pop(index)"
   ]
  },
  {
   "cell_type": "code",
   "execution_count": 18,
   "id": "e485ff3d",
   "metadata": {},
   "outputs": [
    {
     "name": "stdout",
     "output_type": "stream",
     "text": [
      "[True, 'Hello', 'Python', False, (5+5j), {1: 100, 2: 200}, (1, 2, 3)]\n"
     ]
    }
   ],
   "source": [
    "lst=[True, 'Hello', 'Python', False, 5+5j, {1:100,2:200}, (1,2,3)]\n",
    "print(lst)"
   ]
  },
  {
   "cell_type": "code",
   "execution_count": 19,
   "id": "596cd36c",
   "metadata": {},
   "outputs": [
    {
     "name": "stdout",
     "output_type": "stream",
     "text": [
      "Python\n"
     ]
    }
   ],
   "source": [
    "x=lst.pop(2)\n",
    "print(x)"
   ]
  },
  {
   "cell_type": "code",
   "execution_count": 20,
   "id": "55fc4a99",
   "metadata": {},
   "outputs": [
    {
     "name": "stdout",
     "output_type": "stream",
     "text": [
      "[True, 'Hello', False, (5+5j), {1: 100, 2: 200}, (1, 2, 3)]\n"
     ]
    }
   ],
   "source": [
    "print(lst)"
   ]
  },
  {
   "cell_type": "code",
   "execution_count": 21,
   "id": "2ab31009",
   "metadata": {},
   "outputs": [
    {
     "name": "stdout",
     "output_type": "stream",
     "text": [
      "(1, 2, 3)\n"
     ]
    }
   ],
   "source": [
    "x=lst.pop()\n",
    "print(x)"
   ]
  },
  {
   "cell_type": "code",
   "execution_count": 22,
   "id": "d7fd1277",
   "metadata": {},
   "outputs": [
    {
     "name": "stdout",
     "output_type": "stream",
     "text": [
      "[True, 'Hello', False, (5+5j), {1: 100, 2: 200}]\n"
     ]
    }
   ],
   "source": [
    "print(lst)"
   ]
  },
  {
   "cell_type": "code",
   "execution_count": 24,
   "id": "866e3681",
   "metadata": {},
   "outputs": [
    {
     "ename": "IndexError",
     "evalue": "pop index out of range",
     "output_type": "error",
     "traceback": [
      "\u001b[1;31m---------------------------------------------------------------------------\u001b[0m",
      "\u001b[1;31mIndexError\u001b[0m                                Traceback (most recent call last)",
      "\u001b[1;32m~\\AppData\\Local\\Temp\\ipykernel_17228\\655153165.py\u001b[0m in \u001b[0;36m<module>\u001b[1;34m\u001b[0m\n\u001b[1;32m----> 1\u001b[1;33m \u001b[0mlst\u001b[0m\u001b[1;33m.\u001b[0m\u001b[0mpop\u001b[0m\u001b[1;33m(\u001b[0m\u001b[1;36m50\u001b[0m\u001b[1;33m)\u001b[0m\u001b[1;33m\u001b[0m\u001b[1;33m\u001b[0m\u001b[0m\n\u001b[0m",
      "\u001b[1;31mIndexError\u001b[0m: pop index out of range"
     ]
    }
   ],
   "source": [
    "lst.pop(50)"
   ]
  },
  {
   "cell_type": "code",
   "execution_count": 25,
   "id": "d75b9fb5",
   "metadata": {},
   "outputs": [
    {
     "name": "stdout",
     "output_type": "stream",
     "text": [
      "[True, 'Hello', 'Python', False, (5+5j), {1: 100, 2: 200}, 'Hello', (1, 2, 3)]\n"
     ]
    }
   ],
   "source": [
    "lst=[True, 'Hello', 'Python', False, 5+5j, {1:100,2:200}, 'Hello', (1,2,3)]\n",
    "print(lst)"
   ]
  },
  {
   "cell_type": "code",
   "execution_count": 26,
   "id": "b151998e",
   "metadata": {},
   "outputs": [
    {
     "data": {
      "text/plain": [
       "'Hello'"
      ]
     },
     "execution_count": 26,
     "metadata": {},
     "output_type": "execute_result"
    }
   ],
   "source": [
    "lst.pop(6)"
   ]
  },
  {
   "cell_type": "code",
   "execution_count": 27,
   "id": "4c11bab1",
   "metadata": {},
   "outputs": [
    {
     "data": {
      "text/plain": [
       "[True, 'Hello', 'Python', False, (5+5j), {1: 100, 2: 200}, (1, 2, 3)]"
      ]
     },
     "execution_count": 27,
     "metadata": {},
     "output_type": "execute_result"
    }
   ],
   "source": [
    "lst"
   ]
  },
  {
   "cell_type": "code",
   "execution_count": 28,
   "id": "10aba8fb",
   "metadata": {},
   "outputs": [
    {
     "name": "stdout",
     "output_type": "stream",
     "text": [
      "(1, 2, 3)\n",
      "[True, 'Hello', 'Python', False, (5+5j), {1: 100, 2: 200}]\n"
     ]
    }
   ],
   "source": [
    "print(lst.pop())\n",
    "print(lst)"
   ]
  },
  {
   "cell_type": "code",
   "execution_count": 29,
   "id": "602c214f",
   "metadata": {},
   "outputs": [
    {
     "name": "stdout",
     "output_type": "stream",
     "text": [
      "{1: 100, 2: 200}\n",
      "[True, 'Hello', 'Python', False, (5+5j)]\n"
     ]
    }
   ],
   "source": [
    "print(lst.pop())\n",
    "print(lst)"
   ]
  },
  {
   "cell_type": "code",
   "execution_count": 30,
   "id": "91a46c64",
   "metadata": {},
   "outputs": [
    {
     "name": "stdout",
     "output_type": "stream",
     "text": [
      "(5+5j)\n",
      "[True, 'Hello', 'Python', False]\n"
     ]
    }
   ],
   "source": [
    "print(lst.pop())\n",
    "print(lst)"
   ]
  },
  {
   "cell_type": "code",
   "execution_count": 31,
   "id": "388dd504",
   "metadata": {},
   "outputs": [
    {
     "name": "stdout",
     "output_type": "stream",
     "text": [
      "False\n",
      "[True, 'Hello', 'Python']\n"
     ]
    }
   ],
   "source": [
    "print(lst.pop())\n",
    "print(lst)"
   ]
  },
  {
   "cell_type": "code",
   "execution_count": 32,
   "id": "24cae6ef",
   "metadata": {},
   "outputs": [
    {
     "name": "stdout",
     "output_type": "stream",
     "text": [
      "Python\n",
      "[True, 'Hello']\n"
     ]
    }
   ],
   "source": [
    "print(lst.pop())\n",
    "print(lst)"
   ]
  },
  {
   "cell_type": "code",
   "execution_count": 33,
   "id": "df2650b9",
   "metadata": {},
   "outputs": [
    {
     "name": "stdout",
     "output_type": "stream",
     "text": [
      "Hello\n",
      "[True]\n"
     ]
    }
   ],
   "source": [
    "print(lst.pop())\n",
    "print(lst)"
   ]
  },
  {
   "cell_type": "code",
   "execution_count": 34,
   "id": "f49b7b90",
   "metadata": {},
   "outputs": [
    {
     "name": "stdout",
     "output_type": "stream",
     "text": [
      "True\n",
      "[]\n"
     ]
    }
   ],
   "source": [
    "print(lst.pop())\n",
    "print(lst)"
   ]
  },
  {
   "cell_type": "code",
   "execution_count": 35,
   "id": "04287a12",
   "metadata": {},
   "outputs": [
    {
     "ename": "IndexError",
     "evalue": "pop from empty list",
     "output_type": "error",
     "traceback": [
      "\u001b[1;31m---------------------------------------------------------------------------\u001b[0m",
      "\u001b[1;31mIndexError\u001b[0m                                Traceback (most recent call last)",
      "\u001b[1;32m~\\AppData\\Local\\Temp\\ipykernel_17228\\3044658256.py\u001b[0m in \u001b[0;36m<module>\u001b[1;34m\u001b[0m\n\u001b[1;32m----> 1\u001b[1;33m \u001b[0mprint\u001b[0m\u001b[1;33m(\u001b[0m\u001b[0mlst\u001b[0m\u001b[1;33m.\u001b[0m\u001b[0mpop\u001b[0m\u001b[1;33m(\u001b[0m\u001b[1;33m)\u001b[0m\u001b[1;33m)\u001b[0m\u001b[1;33m\u001b[0m\u001b[1;33m\u001b[0m\u001b[0m\n\u001b[0m\u001b[0;32m      2\u001b[0m \u001b[0mprint\u001b[0m\u001b[1;33m(\u001b[0m\u001b[0mlst\u001b[0m\u001b[1;33m)\u001b[0m\u001b[1;33m\u001b[0m\u001b[1;33m\u001b[0m\u001b[0m\n",
      "\u001b[1;31mIndexError\u001b[0m: pop from empty list"
     ]
    }
   ],
   "source": [
    "print(lst.pop())\n",
    "print(lst)"
   ]
  },
  {
   "cell_type": "markdown",
   "id": "e8fd3984",
   "metadata": {},
   "source": [
    "# remove()"
   ]
  },
  {
   "cell_type": "markdown",
   "id": "a5f54047",
   "metadata": {},
   "source": [
    "- It removes the first occurence of the specified element from left to right.\n",
    "- If element is not available then it throws value error."
   ]
  },
  {
   "cell_type": "code",
   "execution_count": 36,
   "id": "8b758b1d",
   "metadata": {},
   "outputs": [],
   "source": [
    "# lst.remove(element)"
   ]
  },
  {
   "cell_type": "code",
   "execution_count": 38,
   "id": "2ffe6b58",
   "metadata": {},
   "outputs": [
    {
     "name": "stdout",
     "output_type": "stream",
     "text": [
      "[True, 'Hello', 'Python', False, (5+5j), True, {1: 100, 2: 200}, 'Hello', (1, 2, 3)]\n"
     ]
    }
   ],
   "source": [
    "lst=[True, 'Hello', 'Python', False, 5+5j, True, {1:100,2:200}, 'Hello', (1,2,3)]\n",
    "print(lst)"
   ]
  },
  {
   "cell_type": "code",
   "execution_count": 39,
   "id": "51352f8a",
   "metadata": {},
   "outputs": [],
   "source": [
    "lst.remove(True)"
   ]
  },
  {
   "cell_type": "code",
   "execution_count": 40,
   "id": "433b92f8",
   "metadata": {},
   "outputs": [
    {
     "data": {
      "text/plain": [
       "['Hello', 'Python', False, (5+5j), True, {1: 100, 2: 200}, 'Hello', (1, 2, 3)]"
      ]
     },
     "execution_count": 40,
     "metadata": {},
     "output_type": "execute_result"
    }
   ],
   "source": [
    "lst"
   ]
  },
  {
   "cell_type": "code",
   "execution_count": 41,
   "id": "abb545f4",
   "metadata": {},
   "outputs": [],
   "source": [
    "lst.remove('Hello')"
   ]
  },
  {
   "cell_type": "code",
   "execution_count": 42,
   "id": "62eff068",
   "metadata": {},
   "outputs": [
    {
     "data": {
      "text/plain": [
       "['Python', False, (5+5j), True, {1: 100, 2: 200}, 'Hello', (1, 2, 3)]"
      ]
     },
     "execution_count": 42,
     "metadata": {},
     "output_type": "execute_result"
    }
   ],
   "source": [
    "lst"
   ]
  },
  {
   "cell_type": "code",
   "execution_count": 43,
   "id": "f2befa58",
   "metadata": {},
   "outputs": [],
   "source": [
    "lst.remove(True)"
   ]
  },
  {
   "cell_type": "code",
   "execution_count": 44,
   "id": "8bebf108",
   "metadata": {},
   "outputs": [
    {
     "data": {
      "text/plain": [
       "['Python', False, (5+5j), {1: 100, 2: 200}, 'Hello', (1, 2, 3)]"
      ]
     },
     "execution_count": 44,
     "metadata": {},
     "output_type": "execute_result"
    }
   ],
   "source": [
    "lst"
   ]
  },
  {
   "cell_type": "code",
   "execution_count": 45,
   "id": "8d073d05",
   "metadata": {},
   "outputs": [
    {
     "ename": "ValueError",
     "evalue": "list.remove(x): x not in list",
     "output_type": "error",
     "traceback": [
      "\u001b[1;31m---------------------------------------------------------------------------\u001b[0m",
      "\u001b[1;31mValueError\u001b[0m                                Traceback (most recent call last)",
      "\u001b[1;32m~\\AppData\\Local\\Temp\\ipykernel_17228\\749527309.py\u001b[0m in \u001b[0;36m<module>\u001b[1;34m\u001b[0m\n\u001b[1;32m----> 1\u001b[1;33m \u001b[0mlst\u001b[0m\u001b[1;33m.\u001b[0m\u001b[0mremove\u001b[0m\u001b[1;33m(\u001b[0m\u001b[1;32mTrue\u001b[0m\u001b[1;33m)\u001b[0m\u001b[1;33m\u001b[0m\u001b[1;33m\u001b[0m\u001b[0m\n\u001b[0m",
      "\u001b[1;31mValueError\u001b[0m: list.remove(x): x not in list"
     ]
    }
   ],
   "source": [
    "lst.remove(True)"
   ]
  },
  {
   "cell_type": "markdown",
   "id": "a538b6de",
   "metadata": {},
   "source": [
    "# reverse()"
   ]
  },
  {
   "cell_type": "markdown",
   "id": "24bb0a46",
   "metadata": {},
   "source": [
    "- It reverses the list.\n",
    "- It makes the changes in the existing list."
   ]
  },
  {
   "cell_type": "code",
   "execution_count": 46,
   "id": "31f21e5a",
   "metadata": {},
   "outputs": [
    {
     "data": {
      "text/plain": [
       "['Python', False, (5+5j), {1: 100, 2: 200}, 'Hello', (1, 2, 3)]"
      ]
     },
     "execution_count": 46,
     "metadata": {},
     "output_type": "execute_result"
    }
   ],
   "source": [
    "lst"
   ]
  },
  {
   "cell_type": "code",
   "execution_count": 47,
   "id": "16418fca",
   "metadata": {},
   "outputs": [],
   "source": [
    "lst.reverse()"
   ]
  },
  {
   "cell_type": "code",
   "execution_count": 48,
   "id": "c1656207",
   "metadata": {},
   "outputs": [
    {
     "data": {
      "text/plain": [
       "[(1, 2, 3), 'Hello', {1: 100, 2: 200}, (5+5j), False, 'Python']"
      ]
     },
     "execution_count": 48,
     "metadata": {},
     "output_type": "execute_result"
    }
   ],
   "source": [
    "lst"
   ]
  },
  {
   "cell_type": "markdown",
   "id": "204439ff",
   "metadata": {},
   "source": [
    "# sort()"
   ]
  },
  {
   "cell_type": "markdown",
   "id": "5e7b37ea",
   "metadata": {},
   "source": [
    "- It sorts the list in ascending order."
   ]
  },
  {
   "cell_type": "code",
   "execution_count": 49,
   "id": "9aab6f66",
   "metadata": {},
   "outputs": [
    {
     "name": "stdout",
     "output_type": "stream",
     "text": [
      "[20, 10, 50, 0, 9, 45, 7, 23, 1, 65, 42, 79, 32]\n"
     ]
    }
   ],
   "source": [
    "lst=[20,10,50,0,9,45,7,23,1,65,42,79,32]\n",
    "print(lst)"
   ]
  },
  {
   "cell_type": "code",
   "execution_count": 50,
   "id": "42e197f0",
   "metadata": {},
   "outputs": [],
   "source": [
    "lst.sort()"
   ]
  },
  {
   "cell_type": "code",
   "execution_count": 51,
   "id": "679d7584",
   "metadata": {},
   "outputs": [
    {
     "data": {
      "text/plain": [
       "[0, 1, 7, 9, 10, 20, 23, 32, 42, 45, 50, 65, 79]"
      ]
     },
     "execution_count": 51,
     "metadata": {},
     "output_type": "execute_result"
    }
   ],
   "source": [
    "lst"
   ]
  },
  {
   "cell_type": "markdown",
   "id": "b44b8fe1",
   "metadata": {},
   "source": [
    "# Descending order"
   ]
  },
  {
   "cell_type": "code",
   "execution_count": 52,
   "id": "c0d8adff",
   "metadata": {},
   "outputs": [
    {
     "name": "stdout",
     "output_type": "stream",
     "text": [
      "[20, 10, 50, 0, 9, 45, 7, 23, 1, 65, 42, 79, 32]\n"
     ]
    }
   ],
   "source": [
    "lst=[20,10,50,0,9,45,7,23,1,65,42,79,32]\n",
    "print(lst)"
   ]
  },
  {
   "cell_type": "code",
   "execution_count": 53,
   "id": "a0253ff8",
   "metadata": {},
   "outputs": [],
   "source": [
    "lst.sort(reverse=True)"
   ]
  },
  {
   "cell_type": "code",
   "execution_count": 54,
   "id": "fc05792b",
   "metadata": {},
   "outputs": [
    {
     "data": {
      "text/plain": [
       "[79, 65, 50, 45, 42, 32, 23, 20, 10, 9, 7, 1, 0]"
      ]
     },
     "execution_count": 54,
     "metadata": {},
     "output_type": "execute_result"
    }
   ],
   "source": [
    "lst"
   ]
  },
  {
   "cell_type": "code",
   "execution_count": 56,
   "id": "0ae64a8d",
   "metadata": {},
   "outputs": [
    {
     "name": "stdout",
     "output_type": "stream",
     "text": [
      "[20.68, 10, 5.9, 0, 9, 45, 7, 23.5, 1, 65, 42, 79, 32]\n"
     ]
    }
   ],
   "source": [
    "lst=[20.68,10,5.9,0,9,45,7,23.5,1,65,42,79,32]\n",
    "print(lst)"
   ]
  },
  {
   "cell_type": "code",
   "execution_count": 57,
   "id": "1e7219bc",
   "metadata": {},
   "outputs": [],
   "source": [
    "lst.sort()"
   ]
  },
  {
   "cell_type": "code",
   "execution_count": 58,
   "id": "a38ac16e",
   "metadata": {},
   "outputs": [
    {
     "data": {
      "text/plain": [
       "[0, 1, 5.9, 7, 9, 10, 20.68, 23.5, 32, 42, 45, 65, 79]"
      ]
     },
     "execution_count": 58,
     "metadata": {},
     "output_type": "execute_result"
    }
   ],
   "source": [
    "lst"
   ]
  },
  {
   "cell_type": "code",
   "execution_count": 59,
   "id": "6a64dc6b",
   "metadata": {},
   "outputs": [
    {
     "name": "stdout",
     "output_type": "stream",
     "text": [
      "[20.68, 10, 5.9, 0, 9, 45, 7, 23.5, 1, 'A', 'Z', 'Q', 'K']\n"
     ]
    }
   ],
   "source": [
    "lst=[20.68,10,5.9,0,9,45,7,23.5,1,'A','Z','Q','K']\n",
    "print(lst)"
   ]
  },
  {
   "cell_type": "code",
   "execution_count": 60,
   "id": "b2223259",
   "metadata": {},
   "outputs": [
    {
     "ename": "TypeError",
     "evalue": "'<' not supported between instances of 'str' and 'int'",
     "output_type": "error",
     "traceback": [
      "\u001b[1;31m---------------------------------------------------------------------------\u001b[0m",
      "\u001b[1;31mTypeError\u001b[0m                                 Traceback (most recent call last)",
      "\u001b[1;32m~\\AppData\\Local\\Temp\\ipykernel_17228\\4027238925.py\u001b[0m in \u001b[0;36m<module>\u001b[1;34m\u001b[0m\n\u001b[1;32m----> 1\u001b[1;33m \u001b[0mlst\u001b[0m\u001b[1;33m.\u001b[0m\u001b[0msort\u001b[0m\u001b[1;33m(\u001b[0m\u001b[1;33m)\u001b[0m\u001b[1;33m\u001b[0m\u001b[1;33m\u001b[0m\u001b[0m\n\u001b[0m",
      "\u001b[1;31mTypeError\u001b[0m: '<' not supported between instances of 'str' and 'int'"
     ]
    }
   ],
   "source": [
    "lst.sort()"
   ]
  },
  {
   "cell_type": "code",
   "execution_count": 61,
   "id": "8d9b871e",
   "metadata": {},
   "outputs": [
    {
     "name": "stdout",
     "output_type": "stream",
     "text": [
      "['A', 'Z', 'Q', 'K']\n"
     ]
    }
   ],
   "source": [
    "lst=['A','Z','Q','K']\n",
    "print(lst)"
   ]
  },
  {
   "cell_type": "code",
   "execution_count": 62,
   "id": "45025676",
   "metadata": {},
   "outputs": [],
   "source": [
    "lst.sort()"
   ]
  },
  {
   "cell_type": "code",
   "execution_count": 63,
   "id": "00261212",
   "metadata": {},
   "outputs": [
    {
     "data": {
      "text/plain": [
       "['A', 'K', 'Q', 'Z']"
      ]
     },
     "execution_count": 63,
     "metadata": {},
     "output_type": "execute_result"
    }
   ],
   "source": [
    "lst"
   ]
  },
  {
   "cell_type": "code",
   "execution_count": 64,
   "id": "573f87f0",
   "metadata": {},
   "outputs": [
    {
     "ename": "TypeError",
     "evalue": "'<' not supported between instances of 'int' and 'str'",
     "output_type": "error",
     "traceback": [
      "\u001b[1;31m---------------------------------------------------------------------------\u001b[0m",
      "\u001b[1;31mTypeError\u001b[0m                                 Traceback (most recent call last)",
      "\u001b[1;32m~\\AppData\\Local\\Temp\\ipykernel_17228\\502391825.py\u001b[0m in \u001b[0;36m<module>\u001b[1;34m\u001b[0m\n\u001b[1;32m----> 1\u001b[1;33m \u001b[1;36m5\u001b[0m\u001b[1;33m<\u001b[0m\u001b[1;34m'A'\u001b[0m\u001b[1;33m\u001b[0m\u001b[1;33m\u001b[0m\u001b[0m\n\u001b[0m",
      "\u001b[1;31mTypeError\u001b[0m: '<' not supported between instances of 'int' and 'str'"
     ]
    }
   ],
   "source": [
    "5<'A'"
   ]
  },
  {
   "cell_type": "code",
   "execution_count": 65,
   "id": "58542abd",
   "metadata": {},
   "outputs": [
    {
     "data": {
      "text/plain": [
       "True"
      ]
     },
     "execution_count": 65,
     "metadata": {},
     "output_type": "execute_result"
    }
   ],
   "source": [
    "5<ord('A')"
   ]
  },
  {
   "cell_type": "code",
   "execution_count": 66,
   "id": "ae0f9704",
   "metadata": {},
   "outputs": [
    {
     "data": {
      "text/plain": [
       "True"
      ]
     },
     "execution_count": 66,
     "metadata": {},
     "output_type": "execute_result"
    }
   ],
   "source": [
    "'A'<'X'"
   ]
  },
  {
   "cell_type": "code",
   "execution_count": 68,
   "id": "5ff01c2a",
   "metadata": {},
   "outputs": [],
   "source": [
    "# print(dir(lst))"
   ]
  },
  {
   "cell_type": "markdown",
   "id": "d42f903b",
   "metadata": {},
   "source": [
    "# insert()"
   ]
  },
  {
   "cell_type": "markdown",
   "id": "8f47633e",
   "metadata": {},
   "source": [
    "- It is used to insert an element at a particular index.\n",
    "- The preveious element at that particular index is shifted to the right."
   ]
  },
  {
   "cell_type": "code",
   "execution_count": 69,
   "id": "d426b49e",
   "metadata": {},
   "outputs": [],
   "source": [
    "# lst.insert(index,element)"
   ]
  },
  {
   "cell_type": "code",
   "execution_count": 71,
   "id": "25cfd47b",
   "metadata": {},
   "outputs": [
    {
     "name": "stdout",
     "output_type": "stream",
     "text": [
      "['Hello', True, 'Python', 10, 2.5, None]\n"
     ]
    }
   ],
   "source": [
    "lst=['Hello',True,'Python',10,2.5,None]\n",
    "print(lst)"
   ]
  },
  {
   "cell_type": "code",
   "execution_count": 72,
   "id": "7e72a605",
   "metadata": {},
   "outputs": [],
   "source": [
    "lst.insert(2,'Java')"
   ]
  },
  {
   "cell_type": "code",
   "execution_count": 73,
   "id": "0748f593",
   "metadata": {},
   "outputs": [
    {
     "data": {
      "text/plain": [
       "['Hello', True, 'Java', 'Python', 10, 2.5, None]"
      ]
     },
     "execution_count": 73,
     "metadata": {},
     "output_type": "execute_result"
    }
   ],
   "source": [
    "lst"
   ]
  },
  {
   "cell_type": "code",
   "execution_count": 74,
   "id": "fd68e85c",
   "metadata": {},
   "outputs": [],
   "source": [
    "lst.insert(-1,{1:100})"
   ]
  },
  {
   "cell_type": "code",
   "execution_count": 75,
   "id": "d3f7c230",
   "metadata": {},
   "outputs": [
    {
     "data": {
      "text/plain": [
       "['Hello', True, 'Java', 'Python', 10, 2.5, {1: 100}, None]"
      ]
     },
     "execution_count": 75,
     "metadata": {},
     "output_type": "execute_result"
    }
   ],
   "source": [
    "lst"
   ]
  },
  {
   "cell_type": "markdown",
   "id": "e2482f87",
   "metadata": {},
   "source": [
    "# copy()\n",
    "- It copies the eleemnts from the list and returns a new list with the same elements."
   ]
  },
  {
   "cell_type": "code",
   "execution_count": 82,
   "id": "7da7d97b",
   "metadata": {},
   "outputs": [
    {
     "name": "stdout",
     "output_type": "stream",
     "text": [
      "[10, 20, 30, 40, 50]\n",
      "[10, 20, 30, 40, 50]\n",
      "[None, 20, 30, 40, 50]\n",
      "[None, 20, 30, 40, 50]\n",
      "2168035550528\n",
      "2168035550528\n"
     ]
    }
   ],
   "source": [
    "lst=[10,20,30,40,50]\n",
    "print(lst)\n",
    "\n",
    "lst2=lst\n",
    "print(lst2)\n",
    "\n",
    "lst2[0]=None\n",
    "print(lst2)\n",
    "\n",
    "print(lst)\n",
    "\n",
    "print(id(lst))\n",
    "print(id(lst2))"
   ]
  },
  {
   "cell_type": "code",
   "execution_count": 93,
   "id": "b16fd8b2",
   "metadata": {},
   "outputs": [
    {
     "name": "stdout",
     "output_type": "stream",
     "text": [
      "[10, 20, 30, 40, 50]\n",
      "[10, 20, 30, 40, 50]\n",
      "[None, 20, 30, 40, 50]\n",
      "[10, 20, 30, 40, 50]\n",
      "[10, 20, 5000, 40, 50]\n",
      "[None, 20, 30, 40, 50]\n",
      "2168036215872\n",
      "2168035549632\n"
     ]
    }
   ],
   "source": [
    "lst=[10,20,30,40,50]\n",
    "print(lst)\n",
    "\n",
    "lst2=lst.copy()\n",
    "\n",
    "print(lst2)\n",
    "\n",
    "lst2[0]=None\n",
    "print(lst2)\n",
    "\n",
    "print(lst)\n",
    "\n",
    "lst[2]=5000\n",
    "print(lst)\n",
    "\n",
    "print(lst2)\n",
    "print(id(lst))\n",
    "print(id(lst2))"
   ]
  },
  {
   "cell_type": "code",
   "execution_count": 94,
   "id": "4b7babfb",
   "metadata": {},
   "outputs": [
    {
     "name": "stdout",
     "output_type": "stream",
     "text": [
      "[10, 20, 30, 40, 50]\n",
      "[10, 20, 30, 40, 50]\n"
     ]
    }
   ],
   "source": [
    "lst=[10,20,30,40,50]\n",
    "print(lst)\n",
    "\n",
    "lst2=lst.copy()\n",
    "\n",
    "print(lst2)\n"
   ]
  },
  {
   "cell_type": "code",
   "execution_count": 95,
   "id": "b018ae97",
   "metadata": {},
   "outputs": [
    {
     "name": "stdout",
     "output_type": "stream",
     "text": [
      "2168036078464\n",
      "2168035550528\n"
     ]
    }
   ],
   "source": [
    "print(id(lst))\n",
    "print(id(lst2))"
   ]
  },
  {
   "cell_type": "code",
   "execution_count": 100,
   "id": "81557b2a",
   "metadata": {},
   "outputs": [
    {
     "name": "stdout",
     "output_type": "stream",
     "text": [
      "2167922715216\n",
      "2167922715216\n"
     ]
    }
   ],
   "source": [
    "print(id(lst[0]))\n",
    "print(id(lst2[0]))"
   ]
  },
  {
   "cell_type": "code",
   "execution_count": 101,
   "id": "a1a0df87",
   "metadata": {},
   "outputs": [],
   "source": [
    "# - 5 to 256"
   ]
  },
  {
   "cell_type": "markdown",
   "id": "3475abac",
   "metadata": {},
   "source": [
    "# List is mutable"
   ]
  },
  {
   "cell_type": "markdown",
   "id": "e7be5608",
   "metadata": {},
   "source": [
    "# Mutability"
   ]
  },
  {
   "cell_type": "markdown",
   "id": "c3924ef9",
   "metadata": {},
   "source": [
    "- We can modify the values after definition.\n",
    "- Item assignment is possible.\n",
    "- The addresses remain the same before and after the modification."
   ]
  },
  {
   "cell_type": "code",
   "execution_count": 104,
   "id": "c98256af",
   "metadata": {},
   "outputs": [
    {
     "name": "stdout",
     "output_type": "stream",
     "text": [
      "[10, 20, 30, 40, 50] 2168036181504\n",
      "[1000, 20, 30, 40, 50]\n",
      "2168036181504\n"
     ]
    }
   ],
   "source": [
    "lst=[10,20,30,40,50]\n",
    "print(lst,id(lst))\n",
    "\n",
    "lst[0]=1000\n",
    "print(lst)\n",
    "\n",
    "print(id(lst))"
   ]
  },
  {
   "cell_type": "markdown",
   "id": "279d293d",
   "metadata": {},
   "source": [
    "# String is immutable"
   ]
  },
  {
   "cell_type": "code",
   "execution_count": 106,
   "id": "cbb726c6",
   "metadata": {},
   "outputs": [
    {
     "name": "stdout",
     "output_type": "stream",
     "text": [
      "Python\n"
     ]
    }
   ],
   "source": [
    "my_str='Python'\n",
    "print(my_str)"
   ]
  },
  {
   "cell_type": "code",
   "execution_count": 107,
   "id": "cf8cd132",
   "metadata": {},
   "outputs": [
    {
     "ename": "TypeError",
     "evalue": "'str' object does not support item assignment",
     "output_type": "error",
     "traceback": [
      "\u001b[1;31m---------------------------------------------------------------------------\u001b[0m",
      "\u001b[1;31mTypeError\u001b[0m                                 Traceback (most recent call last)",
      "\u001b[1;32m~\\AppData\\Local\\Temp\\ipykernel_17228\\2860150867.py\u001b[0m in \u001b[0;36m<module>\u001b[1;34m\u001b[0m\n\u001b[1;32m----> 1\u001b[1;33m \u001b[0mmy_str\u001b[0m\u001b[1;33m[\u001b[0m\u001b[1;36m0\u001b[0m\u001b[1;33m]\u001b[0m\u001b[1;33m=\u001b[0m\u001b[1;34m'A'\u001b[0m\u001b[1;33m\u001b[0m\u001b[1;33m\u001b[0m\u001b[0m\n\u001b[0m",
      "\u001b[1;31mTypeError\u001b[0m: 'str' object does not support item assignment"
     ]
    }
   ],
   "source": [
    "my_str[0]='A'"
   ]
  },
  {
   "cell_type": "code",
   "execution_count": 109,
   "id": "4917edaf",
   "metadata": {},
   "outputs": [
    {
     "name": "stdout",
     "output_type": "stream",
     "text": [
      "Python\n",
      "2167925102704\n",
      "Aython\n",
      "2168047845104\n"
     ]
    }
   ],
   "source": [
    "my_str='Python'\n",
    "print(my_str)\n",
    "print(id(my_str))\n",
    "\n",
    "my_str=my_str.replace('P','A')\n",
    "print(my_str)\n",
    "print(id(my_str))"
   ]
  },
  {
   "cell_type": "markdown",
   "id": "b0839aaa",
   "metadata": {},
   "source": [
    "# Tuple"
   ]
  },
  {
   "cell_type": "code",
   "execution_count": 118,
   "id": "61d0264a",
   "metadata": {},
   "outputs": [],
   "source": [
    "# Anything inside the () is a tuple.\n",
    "# A tuple is a container type that can contain multiple elements.\n",
    "# A tuple can contain heterogenous (different type) elements too.\n",
    "# A tuple can contain duplicate elements too."
   ]
  },
  {
   "cell_type": "code",
   "execution_count": 116,
   "id": "2f6be48c",
   "metadata": {},
   "outputs": [
    {
     "name": "stdout",
     "output_type": "stream",
     "text": [
      "(1, 2, 3, 4, 5, 6) <class 'tuple'>\n"
     ]
    }
   ],
   "source": [
    "t=(1,2,3,4,5,6)\n",
    "print(t,type(t))"
   ]
  },
  {
   "cell_type": "code",
   "execution_count": 117,
   "id": "3772e25c",
   "metadata": {},
   "outputs": [
    {
     "name": "stdout",
     "output_type": "stream",
     "text": [
      "(True, False, 0, None, 'Hello', 2.5, {1: 100, 2: 200}, [10, 20, 30]) <class 'tuple'>\n"
     ]
    }
   ],
   "source": [
    "t=(True, False, 0, None, 'Hello', 2.5, {1:100,2:200}, [10,20,30])\n",
    "print(t,type(t))"
   ]
  },
  {
   "cell_type": "code",
   "execution_count": 120,
   "id": "76bd1e2f",
   "metadata": {},
   "outputs": [
    {
     "name": "stdout",
     "output_type": "stream",
     "text": [
      "(1, 2, 3, 4, 5, 2, 1, 4, 5, 6, 2, 1, 4, 8, 5, 3, 2, 1, 4, 5, 2, 4) <class 'tuple'>\n"
     ]
    }
   ],
   "source": [
    "t=(1,2,3,4,5,2,1,4,5,6,2,1,4,8,5,3,2,1,4,5,2,4)\n",
    "print(t,type(t))"
   ]
  },
  {
   "cell_type": "markdown",
   "id": "33ac4dd9",
   "metadata": {},
   "source": [
    "# List vs Tuple"
   ]
  },
  {
   "cell_type": "code",
   "execution_count": 121,
   "id": "40393f8c",
   "metadata": {},
   "outputs": [],
   "source": [
    "# List is mutable whereas tuple is immutable"
   ]
  },
  {
   "cell_type": "markdown",
   "id": "1184f9ea",
   "metadata": {},
   "source": [
    "# Immutability"
   ]
  },
  {
   "cell_type": "markdown",
   "id": "ddd59c6f",
   "metadata": {},
   "source": [
    "- We can not modify the values after definition.\n",
    "- Item assignment is not possible.\n",
    "- Addresses are different after modification."
   ]
  },
  {
   "cell_type": "code",
   "execution_count": 122,
   "id": "7021a199",
   "metadata": {},
   "outputs": [
    {
     "name": "stdout",
     "output_type": "stream",
     "text": [
      "[10, 20, 30, 40, 50]\n"
     ]
    }
   ],
   "source": [
    "lst=[10,20,30,40,50]\n",
    "print(lst)"
   ]
  },
  {
   "cell_type": "code",
   "execution_count": 123,
   "id": "de1cda96",
   "metadata": {},
   "outputs": [
    {
     "name": "stdout",
     "output_type": "stream",
     "text": [
      "[5000, 20, 30, 40, 50]\n"
     ]
    }
   ],
   "source": [
    "lst[0]=5000\n",
    "print(lst)"
   ]
  },
  {
   "cell_type": "code",
   "execution_count": 124,
   "id": "3fefd6fb",
   "metadata": {},
   "outputs": [
    {
     "name": "stdout",
     "output_type": "stream",
     "text": [
      "(10, 20, 30, 40, 50)\n"
     ]
    }
   ],
   "source": [
    "t=(10,20,30,40,50)\n",
    "print(t)"
   ]
  },
  {
   "cell_type": "code",
   "execution_count": 125,
   "id": "1e60047b",
   "metadata": {},
   "outputs": [
    {
     "ename": "TypeError",
     "evalue": "'tuple' object does not support item assignment",
     "output_type": "error",
     "traceback": [
      "\u001b[1;31m---------------------------------------------------------------------------\u001b[0m",
      "\u001b[1;31mTypeError\u001b[0m                                 Traceback (most recent call last)",
      "\u001b[1;32m~\\AppData\\Local\\Temp\\ipykernel_17228\\475506145.py\u001b[0m in \u001b[0;36m<module>\u001b[1;34m\u001b[0m\n\u001b[1;32m----> 1\u001b[1;33m \u001b[0mt\u001b[0m\u001b[1;33m[\u001b[0m\u001b[1;36m0\u001b[0m\u001b[1;33m]\u001b[0m\u001b[1;33m=\u001b[0m\u001b[1;36m1000\u001b[0m\u001b[1;33m\u001b[0m\u001b[1;33m\u001b[0m\u001b[0m\n\u001b[0m",
      "\u001b[1;31mTypeError\u001b[0m: 'tuple' object does not support item assignment"
     ]
    }
   ],
   "source": [
    "t[0]=1000"
   ]
  },
  {
   "cell_type": "markdown",
   "id": "92a543d5",
   "metadata": {},
   "source": [
    "# Operations on a tuple"
   ]
  },
  {
   "cell_type": "code",
   "execution_count": 126,
   "id": "c22904b8",
   "metadata": {},
   "outputs": [],
   "source": [
    "# Length\n",
    "# Concatenation\n",
    "# Repetition\n",
    "# Indexing and slicing"
   ]
  },
  {
   "cell_type": "markdown",
   "id": "3ff94983",
   "metadata": {},
   "source": [
    "# Length\n",
    "- The number of elements in a tuple is the length of the tuple."
   ]
  },
  {
   "cell_type": "code",
   "execution_count": 127,
   "id": "7448be7c",
   "metadata": {},
   "outputs": [],
   "source": [
    "# len(t)"
   ]
  },
  {
   "cell_type": "code",
   "execution_count": 129,
   "id": "6d64baa1",
   "metadata": {},
   "outputs": [
    {
     "name": "stdout",
     "output_type": "stream",
     "text": [
      "(10, 20, 30, 40, 50)\n",
      "5\n"
     ]
    }
   ],
   "source": [
    "t=(10,20,30,40,50)\n",
    "print(t)\n",
    "\n",
    "print(len(t))"
   ]
  },
  {
   "cell_type": "markdown",
   "id": "3269054f",
   "metadata": {},
   "source": [
    "# Concatenation\n",
    "- Joining or adding two or more tuples together is known as concatenation."
   ]
  },
  {
   "cell_type": "code",
   "execution_count": 130,
   "id": "5edb01eb",
   "metadata": {},
   "outputs": [],
   "source": [
    "# + operators is used to concatenate two or more tuples"
   ]
  },
  {
   "cell_type": "code",
   "execution_count": 136,
   "id": "23088c9c",
   "metadata": {},
   "outputs": [
    {
     "name": "stdout",
     "output_type": "stream",
     "text": [
      "(10, 20, 30, 40, 50)\n",
      "(True, False, None, [1, 2, 3])\n",
      "2168036257360\n"
     ]
    }
   ],
   "source": [
    "t=(10,20,30,40,50)\n",
    "t2=(True, False, None, [1,2,3])\n",
    "\n",
    "print(t)\n",
    "print(t2)\n",
    "print(id(t))"
   ]
  },
  {
   "cell_type": "code",
   "execution_count": 137,
   "id": "4d291e50",
   "metadata": {},
   "outputs": [
    {
     "name": "stdout",
     "output_type": "stream",
     "text": [
      "(10, 20, 30, 40, 50, True, False, None, [1, 2, 3])\n",
      "2168038884512\n"
     ]
    }
   ],
   "source": [
    "t=t+t2\n",
    "print(t)\n",
    "print(id(t))"
   ]
  },
  {
   "cell_type": "code",
   "execution_count": 138,
   "id": "e5b3ad75",
   "metadata": {},
   "outputs": [],
   "source": [
    "# w3schools.com"
   ]
  },
  {
   "cell_type": "markdown",
   "id": "6b7c467d",
   "metadata": {},
   "source": [
    "# Repetition"
   ]
  },
  {
   "cell_type": "code",
   "execution_count": 139,
   "id": "d1acdd59",
   "metadata": {},
   "outputs": [],
   "source": [
    "# * operator is used to perform the repetition on a tuple"
   ]
  },
  {
   "cell_type": "code",
   "execution_count": 140,
   "id": "2da5a033",
   "metadata": {},
   "outputs": [
    {
     "name": "stdout",
     "output_type": "stream",
     "text": [
      "(10, 20, 30, 40, 50)\n"
     ]
    }
   ],
   "source": [
    "t=(10,20,30,40,50)\n",
    "print(t)"
   ]
  },
  {
   "cell_type": "code",
   "execution_count": 141,
   "id": "06682437",
   "metadata": {},
   "outputs": [
    {
     "data": {
      "text/plain": [
       "(10, 20, 30, 40, 50, 10, 20, 30, 40, 50)"
      ]
     },
     "execution_count": 141,
     "metadata": {},
     "output_type": "execute_result"
    }
   ],
   "source": [
    "t*2"
   ]
  },
  {
   "cell_type": "code",
   "execution_count": 142,
   "id": "8a8efa56",
   "metadata": {},
   "outputs": [
    {
     "data": {
      "text/plain": [
       "(10, 20, 30, 40, 50, 10, 20, 30, 40, 50, 10, 20, 30, 40, 50)"
      ]
     },
     "execution_count": 142,
     "metadata": {},
     "output_type": "execute_result"
    }
   ],
   "source": [
    "t*3"
   ]
  },
  {
   "cell_type": "code",
   "execution_count": 146,
   "id": "1bb4721d",
   "metadata": {},
   "outputs": [
    {
     "data": {
      "text/plain": [
       "(10, 10, 10, 10, 10, 10, 10, 10, 10, 10, 10, 10, 10, 10, 10)"
      ]
     },
     "execution_count": 146,
     "metadata": {},
     "output_type": "execute_result"
    }
   ],
   "source": [
    "# Create a tuple that has 15 times 10\n",
    "\n",
    "(10,)*15"
   ]
  },
  {
   "cell_type": "code",
   "execution_count": 147,
   "id": "e198a1e6",
   "metadata": {},
   "outputs": [
    {
     "data": {
      "text/plain": [
       "[10, 10, 10, 10, 10, 10, 10, 10, 10, 10, 10, 10, 10, 10, 10]"
      ]
     },
     "execution_count": 147,
     "metadata": {},
     "output_type": "execute_result"
    }
   ],
   "source": [
    "[10]*15"
   ]
  },
  {
   "cell_type": "markdown",
   "id": "46b2198b",
   "metadata": {},
   "source": [
    "# Indexing"
   ]
  },
  {
   "cell_type": "markdown",
   "id": "08c3257b",
   "metadata": {},
   "source": [
    "- A tuple is ordered collection of data because each element of a tuple is stored at a particular index.\n",
    "- A tuple is also called as sequence type because it follows the indexing method.\n",
    "- A tuple supports +ive and -ive indexing both."
   ]
  },
  {
   "cell_type": "code",
   "execution_count": 149,
   "id": "4f70c2b4",
   "metadata": {},
   "outputs": [
    {
     "name": "stdout",
     "output_type": "stream",
     "text": [
      "[5000, 20, 30, 40, 50]\n"
     ]
    }
   ],
   "source": [
    "t=(10,20,30,40,50,60)\n",
    "print(lst)"
   ]
  },
  {
   "cell_type": "markdown",
   "id": "d2e8a7a2",
   "metadata": {},
   "source": [
    "# +ive index"
   ]
  },
  {
   "cell_type": "markdown",
   "id": "30bfd2ee",
   "metadata": {},
   "source": [
    "- +ive index are from left to  right.\n",
    "- It starts from 0 by default.\n",
    "- The index of the last element is len(t)-1"
   ]
  },
  {
   "cell_type": "markdown",
   "id": "e6b00370",
   "metadata": {},
   "source": [
    "# -ive index"
   ]
  },
  {
   "cell_type": "markdown",
   "id": "0f8a077f",
   "metadata": {},
   "source": [
    "- It is from right to left\n",
    "- The start is -1 by default.\n",
    "- The index of the last element is -len(t)"
   ]
  },
  {
   "cell_type": "code",
   "execution_count": 163,
   "id": "27bcca0e",
   "metadata": {},
   "outputs": [
    {
     "name": "stdout",
     "output_type": "stream",
     "text": [
      "(10, 20, 30, 40, 50, 60)\n",
      "10\n",
      "10\n",
      "10\n",
      "60\n",
      "60\n",
      "60\n",
      "30\n",
      "30\n"
     ]
    }
   ],
   "source": [
    "t=(10,20,30,40,50,60)\n",
    "print(t)\n",
    "\n",
    "# Fetch the first element of the tuple.\n",
    "\n",
    "print(t[0])\n",
    "print(t[-6])\n",
    "print(t[-len(t)])\n",
    "\n",
    "# Fetch the last element of the tuple.\n",
    "\n",
    "print(t[-1])\n",
    "print(t[5])\n",
    "print(t[len(t)-1])\n",
    "\n",
    "# Fetch 30\n",
    "\n",
    "print(t[2])\n",
    "print(t[-4])"
   ]
  },
  {
   "cell_type": "markdown",
   "id": "b2502f27",
   "metadata": {},
   "source": [
    "# Slicing"
   ]
  },
  {
   "cell_type": "code",
   "execution_count": 164,
   "id": "0f6ff608",
   "metadata": {},
   "outputs": [],
   "source": [
    "# t[start:stop:step]\n",
    "# Stop is excluded"
   ]
  },
  {
   "cell_type": "code",
   "execution_count": 170,
   "id": "8fccfada",
   "metadata": {},
   "outputs": [
    {
     "name": "stdout",
     "output_type": "stream",
     "text": [
      "(10, 20, 30, 40, 50, 60)\n",
      "(10, 20, 30)\n",
      "(10, 20, 30)\n",
      "(10, 20, 30)\n",
      "(10, 20, 30)\n"
     ]
    }
   ],
   "source": [
    "t=(10,20,30,40,50,60)\n",
    "print(t)\n",
    "\n",
    "# Fetch the first three elements\n",
    "print(t[0:3])\n",
    "print(t[0:3:1])\n",
    "print(t[:3])\n",
    "print(t[:3:1])"
   ]
  },
  {
   "cell_type": "code",
   "execution_count": 174,
   "id": "144c9930",
   "metadata": {},
   "outputs": [
    {
     "name": "stdout",
     "output_type": "stream",
     "text": [
      "(10, 30)\n"
     ]
    }
   ],
   "source": [
    "print(t[:3:2])"
   ]
  },
  {
   "cell_type": "code",
   "execution_count": 178,
   "id": "df9e5c0f",
   "metadata": {},
   "outputs": [
    {
     "name": "stdout",
     "output_type": "stream",
     "text": [
      "(10, 20, 30, 40, 50, 60)\n"
     ]
    }
   ],
   "source": [
    "print(t)"
   ]
  },
  {
   "cell_type": "code",
   "execution_count": 180,
   "id": "fa90a5bb",
   "metadata": {},
   "outputs": [
    {
     "name": "stdout",
     "output_type": "stream",
     "text": [
      "(60, 50, 40, 30, 20, 10)\n",
      "(40, 30, 20, 10)\n",
      "(40, 20)\n"
     ]
    }
   ],
   "source": [
    "# Reverse the tuple\n",
    "\n",
    "print(t[::-1])\n",
    "\n",
    "print(t[-3::-1])\n",
    "print(t[-3::-2])"
   ]
  },
  {
   "cell_type": "code",
   "execution_count": 181,
   "id": "c73f6068",
   "metadata": {},
   "outputs": [
    {
     "name": "stdout",
     "output_type": "stream",
     "text": [
      "(10, 20, 30, 40, 50, 60)\n"
     ]
    }
   ],
   "source": [
    "print(t)"
   ]
  },
  {
   "cell_type": "code",
   "execution_count": 182,
   "id": "dd1b4ee8",
   "metadata": {},
   "outputs": [
    {
     "data": {
      "text/plain": [
       "(50,)"
      ]
     },
     "execution_count": 182,
     "metadata": {},
     "output_type": "execute_result"
    }
   ],
   "source": [
    "t[-2:-len(t)+2:-2] # [-2:-4:-2]"
   ]
  },
  {
   "cell_type": "code",
   "execution_count": 192,
   "id": "a4299d22",
   "metadata": {},
   "outputs": [
    {
     "data": {
      "text/plain": [
       "(50, 30, 10)"
      ]
     },
     "execution_count": 192,
     "metadata": {},
     "output_type": "execute_result"
    }
   ],
   "source": [
    "t[-2:-len(t)-2:-2] #[-2:-8:-2]"
   ]
  },
  {
   "cell_type": "code",
   "execution_count": 187,
   "id": "a38dbda6",
   "metadata": {},
   "outputs": [
    {
     "data": {
      "text/plain": [
       "-8"
      ]
     },
     "execution_count": 187,
     "metadata": {},
     "output_type": "execute_result"
    }
   ],
   "source": [
    "-len(t)-2"
   ]
  },
  {
   "cell_type": "code",
   "execution_count": 193,
   "id": "9686b753",
   "metadata": {},
   "outputs": [],
   "source": [
    "# 50,30,10"
   ]
  },
  {
   "cell_type": "code",
   "execution_count": 199,
   "id": "4cb34526",
   "metadata": {},
   "outputs": [],
   "source": [
    "# t[::]"
   ]
  },
  {
   "cell_type": "markdown",
   "id": "c274dcd0",
   "metadata": {},
   "source": [
    "# How to create a tuple"
   ]
  },
  {
   "cell_type": "markdown",
   "id": "189c05da",
   "metadata": {},
   "source": [
    "# Case_1\n",
    "- When we already know the elements."
   ]
  },
  {
   "cell_type": "code",
   "execution_count": 200,
   "id": "e15d3c54",
   "metadata": {},
   "outputs": [
    {
     "name": "stdout",
     "output_type": "stream",
     "text": [
      "(True, False, 'Hello', 'Python', (1, 2, 3), [10, 20, 30]) <class 'tuple'>\n"
     ]
    }
   ],
   "source": [
    "t=(True, False, 'Hello','Python', (1,2,3), [10,20,30])\n",
    "print(t,type(t))"
   ]
  },
  {
   "cell_type": "code",
   "execution_count": 201,
   "id": "f894ab28",
   "metadata": {},
   "outputs": [],
   "source": [
    "#Take a string from user and check if it is:-\n",
    "#     1. alphanumeric\n",
    "#     2. alphabets\n",
    "#     3. digit\n",
    "#     4. all letters are in lower case\n",
    "#     5. all letters are in upper case\n",
    "#     6. in title case\n",
    "#     7. a space character\n",
    "#     8. numeric\n",
    "#     9. all number elements in string are decimal\n"
   ]
  },
  {
   "cell_type": "code",
   "execution_count": 206,
   "id": "c7e25c4b",
   "metadata": {},
   "outputs": [
    {
     "name": "stdout",
     "output_type": "stream",
     "text": [
      "Enter a string- @!#@#@$\n",
      "@!#@#@$ <class 'str'>\n",
      "Not alphanumeric\n"
     ]
    }
   ],
   "source": [
    "a=input('Enter a string- ')\n",
    "print(a,type(a))\n",
    "\n",
    "if a.isalnum():\n",
    "    print('Alphanumeric')\n",
    "else:\n",
    "    print('Not alphanumeric')"
   ]
  },
  {
   "cell_type": "code",
   "execution_count": 208,
   "id": "883d34ef",
   "metadata": {},
   "outputs": [
    {
     "name": "stdout",
     "output_type": "stream",
     "text": [
      "Enter a string- bdhsvdh\n",
      "bdhsvdh <class 'str'>\n",
      "Alphabets\n"
     ]
    }
   ],
   "source": [
    "a=input('Enter a string- ')\n",
    "print(a,type(a))\n",
    "\n",
    "if a.isalpha():\n",
    "    print('Alphabets')\n",
    "else:\n",
    "    print('Not alphabets')"
   ]
  },
  {
   "cell_type": "markdown",
   "id": "45546474",
   "metadata": {},
   "source": [
    "# find and index"
   ]
  },
  {
   "cell_type": "code",
   "execution_count": 212,
   "id": "ad8f5f44",
   "metadata": {},
   "outputs": [
    {
     "name": "stdout",
     "output_type": "stream",
     "text": [
      "2\n",
      "2\n"
     ]
    }
   ],
   "source": [
    "a='Hello'\n",
    "print(a.find('l'))\n",
    "print(a.index('l'))"
   ]
  },
  {
   "cell_type": "code",
   "execution_count": 214,
   "id": "317d67d8",
   "metadata": {},
   "outputs": [
    {
     "name": "stdout",
     "output_type": "stream",
     "text": [
      "-1\n"
     ]
    },
    {
     "ename": "ValueError",
     "evalue": "substring not found",
     "output_type": "error",
     "traceback": [
      "\u001b[1;31m---------------------------------------------------------------------------\u001b[0m",
      "\u001b[1;31mValueError\u001b[0m                                Traceback (most recent call last)",
      "\u001b[1;32m~\\AppData\\Local\\Temp\\ipykernel_17228\\100989827.py\u001b[0m in \u001b[0;36m<module>\u001b[1;34m\u001b[0m\n\u001b[0;32m      1\u001b[0m \u001b[0ma\u001b[0m\u001b[1;33m=\u001b[0m\u001b[1;34m'Hello'\u001b[0m\u001b[1;33m\u001b[0m\u001b[1;33m\u001b[0m\u001b[0m\n\u001b[0;32m      2\u001b[0m \u001b[0mprint\u001b[0m\u001b[1;33m(\u001b[0m\u001b[0ma\u001b[0m\u001b[1;33m.\u001b[0m\u001b[0mfind\u001b[0m\u001b[1;33m(\u001b[0m\u001b[1;34m'x'\u001b[0m\u001b[1;33m)\u001b[0m\u001b[1;33m)\u001b[0m\u001b[1;33m\u001b[0m\u001b[1;33m\u001b[0m\u001b[0m\n\u001b[1;32m----> 3\u001b[1;33m \u001b[0mprint\u001b[0m\u001b[1;33m(\u001b[0m\u001b[0ma\u001b[0m\u001b[1;33m.\u001b[0m\u001b[0mindex\u001b[0m\u001b[1;33m(\u001b[0m\u001b[1;34m'x'\u001b[0m\u001b[1;33m)\u001b[0m\u001b[1;33m)\u001b[0m\u001b[1;33m\u001b[0m\u001b[1;33m\u001b[0m\u001b[0m\n\u001b[0m",
      "\u001b[1;31mValueError\u001b[0m: substring not found"
     ]
    }
   ],
   "source": [
    "a='Hello'\n",
    "print(a.find('x'))\n",
    "print(a.index('x'))"
   ]
  },
  {
   "cell_type": "code",
   "execution_count": 224,
   "id": "37ff3db8",
   "metadata": {},
   "outputs": [
    {
     "name": "stdout",
     "output_type": "stream",
     "text": [
      "retep repip dekcip a kcep fo delkcip .sreppep\n"
     ]
    }
   ],
   "source": [
    "# Write a python program to find below output:-\n",
    "#Input:- 'peter piper picked a peck of pickled peppers.'\n",
    "#Output:- 'retep repip dekcip a kcep fo delkcip .sreppep'\n",
    "\n",
    "my_str='peter piper picked a peck of pickled peppers.'\n",
    "\n",
    "res=' '.join(my_str[::-1].split()[::-1])\n",
    "print(res)"
   ]
  },
  {
   "cell_type": "markdown",
   "id": "375a64bd",
   "metadata": {},
   "source": [
    "# eval()"
   ]
  },
  {
   "cell_type": "code",
   "execution_count": 225,
   "id": "8c2984c0",
   "metadata": {},
   "outputs": [],
   "source": [
    "# It evaluates the type"
   ]
  },
  {
   "cell_type": "code",
   "execution_count": 227,
   "id": "49cd4d04",
   "metadata": {},
   "outputs": [
    {
     "name": "stdout",
     "output_type": "stream",
     "text": [
      "5 <class 'int'>\n"
     ]
    }
   ],
   "source": [
    "a=eval('5')\n",
    "print(a,type(a))"
   ]
  },
  {
   "cell_type": "code",
   "execution_count": 228,
   "id": "69e6bc77",
   "metadata": {},
   "outputs": [
    {
     "name": "stdout",
     "output_type": "stream",
     "text": [
      "5.5 <class 'float'>\n"
     ]
    }
   ],
   "source": [
    "a=eval('5.5')\n",
    "print(a,type(a))"
   ]
  },
  {
   "cell_type": "code",
   "execution_count": 229,
   "id": "68dc962f",
   "metadata": {},
   "outputs": [
    {
     "name": "stdout",
     "output_type": "stream",
     "text": [
      "[5] <class 'list'>\n"
     ]
    }
   ],
   "source": [
    "a=eval('[5]')\n",
    "print(a,type(a))"
   ]
  },
  {
   "cell_type": "code",
   "execution_count": 230,
   "id": "2cc48341",
   "metadata": {},
   "outputs": [],
   "source": [
    "# Create a list heterogenous elements by taking the input from the user"
   ]
  },
  {
   "cell_type": "code",
   "execution_count": 241,
   "id": "9971ce8a",
   "metadata": {},
   "outputs": [
    {
     "name": "stdout",
     "output_type": "stream",
     "text": [
      "Enter a value- 5.5\n",
      "5.5 <class 'float'>\n"
     ]
    }
   ],
   "source": [
    "a=eval(input('Enter a value- '))\n",
    "print(a,type(a))"
   ]
  },
  {
   "cell_type": "code",
   "execution_count": null,
   "id": "a4b115f5",
   "metadata": {},
   "outputs": [],
   "source": []
  }
 ],
 "metadata": {
  "kernelspec": {
   "display_name": "Python 3 (ipykernel)",
   "language": "python",
   "name": "python3"
  },
  "language_info": {
   "codemirror_mode": {
    "name": "ipython",
    "version": 3
   },
   "file_extension": ".py",
   "mimetype": "text/x-python",
   "name": "python",
   "nbconvert_exporter": "python",
   "pygments_lexer": "ipython3",
   "version": "3.9.13"
  }
 },
 "nbformat": 4,
 "nbformat_minor": 5
}
