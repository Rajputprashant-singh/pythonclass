{
 "cells": [
  {
   "cell_type": "markdown",
   "id": "e08f0ea2",
   "metadata": {},
   "source": [
    "# Regex"
   ]
  },
  {
   "cell_type": "markdown",
   "id": "b2d39fd0",
   "metadata": {},
   "source": [
    "- Regex stands for Regular expression.\n",
    "- It is a concept that is used to match or update a pattern from a string."
   ]
  },
  {
   "cell_type": "code",
   "execution_count": 1,
   "id": "96fb096b",
   "metadata": {},
   "outputs": [],
   "source": [
    "text='Amit21515 #$~@#% Suresh51515155454'\n",
    "text='''+91-9557833460\n",
    "+84-1348671235\n",
    "+55-6514183460\n",
    "+91-9876543210'''"
   ]
  },
  {
   "cell_type": "markdown",
   "id": "c7d016ea",
   "metadata": {},
   "source": [
    "- To use Regex we have to import re module."
   ]
  },
  {
   "cell_type": "code",
   "execution_count": null,
   "id": "0b1c127a",
   "metadata": {},
   "outputs": [],
   "source": [
    "text='''tarunverma_______1996@hotmail.com\n",
    "suresh.mahesh@yahoo.com\n",
    "ashish..som@gmail.com\n",
    "star_boy123@gmail.com\n",
    "abc.gmail.com\n",
    "123_245@.hotmail'''"
   ]
  },
  {
   "cell_type": "code",
   "execution_count": 2,
   "id": "6c819529",
   "metadata": {},
   "outputs": [],
   "source": [
    "import re"
   ]
  },
  {
   "cell_type": "markdown",
   "id": "c393295d",
   "metadata": {},
   "source": [
    "# Components of Regex"
   ]
  },
  {
   "cell_type": "markdown",
   "id": "5e0203a4",
   "metadata": {},
   "source": [
    "- Functions\n",
    "- Metacharcters\n",
    "- Special sequences\n",
    "- Quantifiers"
   ]
  },
  {
   "cell_type": "markdown",
   "id": "475477a3",
   "metadata": {},
   "source": [
    "# Functions"
   ]
  },
  {
   "cell_type": "code",
   "execution_count": 3,
   "id": "86c41d17",
   "metadata": {},
   "outputs": [],
   "source": [
    "# - match()\n",
    "# - search()\n",
    "# - findall()\n",
    "# - finditer()\n",
    "# - fullmatch()\n",
    "# - sub()\n",
    "# - split()\n",
    "# - compile()"
   ]
  },
  {
   "cell_type": "markdown",
   "id": "c2689fe4",
   "metadata": {},
   "source": [
    "# match()"
   ]
  },
  {
   "cell_type": "markdown",
   "id": "f110d58e",
   "metadata": {},
   "source": [
    "- It matches the pattern at the beginning of a string.\n",
    "- If the pattern is found at the beginning then it returns a match object.\n",
    "- If the pattern is not found at the beginning then it returns None."
   ]
  },
  {
   "cell_type": "code",
   "execution_count": 4,
   "id": "69a518d1",
   "metadata": {},
   "outputs": [],
   "source": [
    "# Synntax- re.match(pattern, string)"
   ]
  },
  {
   "cell_type": "markdown",
   "id": "8116e101",
   "metadata": {},
   "source": [
    "# Regex pattern"
   ]
  },
  {
   "cell_type": "markdown",
   "id": "1b454103",
   "metadata": {},
   "source": [
    "- It is a string."
   ]
  },
  {
   "cell_type": "code",
   "execution_count": 16,
   "id": "ac774490",
   "metadata": {},
   "outputs": [
    {
     "name": "stdout",
     "output_type": "stream",
     "text": [
      "<re.Match object; span=(0, 3), match='Ind'>\n"
     ]
    }
   ],
   "source": [
    "text='India is my country'\n",
    "\n",
    "pat=r'Ind'\n",
    "\n",
    "x=re.match(pat,text)\n",
    "print(x)"
   ]
  },
  {
   "cell_type": "code",
   "execution_count": 17,
   "id": "28fa868b",
   "metadata": {},
   "outputs": [
    {
     "name": "stdout",
     "output_type": "stream",
     "text": [
      "None\n"
     ]
    }
   ],
   "source": [
    "text='India is my country'\n",
    "\n",
    "pat=r'is'\n",
    "\n",
    "x=re.match(pat,text)\n",
    "print(x)"
   ]
  },
  {
   "cell_type": "markdown",
   "id": "987c2135",
   "metadata": {},
   "source": [
    "# The functions and attributes in match object"
   ]
  },
  {
   "cell_type": "code",
   "execution_count": 18,
   "id": "af5e9ae5",
   "metadata": {},
   "outputs": [],
   "source": [
    "# group()- It returns the pattern matched from the match object.\n",
    "# span()- It returns a tuple of two elements. The first element is start index and the second element is the stop index.\n",
    "# start()- It returns the start index.\n",
    "# end()- It returns the stop index.\n",
    "# Note- Stop index is always excluded."
   ]
  },
  {
   "cell_type": "code",
   "execution_count": 31,
   "id": "040cf9d3",
   "metadata": {},
   "outputs": [
    {
     "name": "stdout",
     "output_type": "stream",
     "text": [
      "<re.Match object; span=(0, 5), match='India'>\n",
      "India\n",
      "(0, 5)\n",
      "0\n",
      "5\n"
     ]
    }
   ],
   "source": [
    "text='India is my country'\n",
    "\n",
    "pat=r'India'\n",
    "\n",
    "x=re.match(pat,text)\n",
    "print(x)\n",
    "\n",
    "print(x.group())\n",
    "print(x.span())\n",
    "print(x.start())\n",
    "print(x.end())"
   ]
  },
  {
   "cell_type": "code",
   "execution_count": 34,
   "id": "33a58750",
   "metadata": {},
   "outputs": [
    {
     "name": "stdout",
     "output_type": "stream",
     "text": [
      "None\n"
     ]
    }
   ],
   "source": [
    "text='I love India very much.'\n",
    "\n",
    "pat=r'India'\n",
    "\n",
    "x=re.match(pat,text)\n",
    "print(x)"
   ]
  },
  {
   "cell_type": "markdown",
   "id": "4a027292",
   "metadata": {},
   "source": [
    "# search()"
   ]
  },
  {
   "cell_type": "markdown",
   "id": "6a3d6f59",
   "metadata": {},
   "source": [
    "- It matches the first occurence of the pattern from left to right in the string.\n",
    "- If the pattern is found then it returns match object.\n",
    "- If the pattern is not found then it returns None."
   ]
  },
  {
   "cell_type": "code",
   "execution_count": 35,
   "id": "6a73f35c",
   "metadata": {},
   "outputs": [],
   "source": [
    "# Syntax- re.search(pattern,string)"
   ]
  },
  {
   "cell_type": "code",
   "execution_count": 40,
   "id": "a3a43055",
   "metadata": {},
   "outputs": [
    {
     "name": "stdout",
     "output_type": "stream",
     "text": [
      "<re.Match object; span=(7, 12), match='India'>\n",
      "India\n",
      "(7, 12)\n",
      "7\n",
      "12\n"
     ]
    }
   ],
   "source": [
    "text='I love India very much.'\n",
    "\n",
    "pat=r'India'\n",
    "\n",
    "x=re.search(pat,text)\n",
    "print(x)\n",
    "\n",
    "print(x.group())\n",
    "print(x.span())\n",
    "print(x.start())\n",
    "print(x.end())"
   ]
  },
  {
   "cell_type": "code",
   "execution_count": 45,
   "id": "d702f319",
   "metadata": {},
   "outputs": [
    {
     "name": "stdout",
     "output_type": "stream",
     "text": [
      "<re.Match object; span=(7, 12), match='India'>\n"
     ]
    }
   ],
   "source": [
    "text='I love India very much. India lies in Asia.'\n",
    "\n",
    "pat=r'India'\n",
    "\n",
    "x=re.search(pat,text)\n",
    "print(x)"
   ]
  },
  {
   "cell_type": "code",
   "execution_count": 52,
   "id": "ab1b217c",
   "metadata": {},
   "outputs": [
    {
     "name": "stdout",
     "output_type": "stream",
     "text": [
      "None\n"
     ]
    }
   ],
   "source": [
    "text='I love India very much. India lies in Asia.'\n",
    "\n",
    "pat=r'China'\n",
    "\n",
    "x=re.search(pat,text)\n",
    "print(x)"
   ]
  },
  {
   "cell_type": "markdown",
   "id": "ac2038e6",
   "metadata": {},
   "source": [
    "# findall()"
   ]
  },
  {
   "cell_type": "markdown",
   "id": "f3b72956",
   "metadata": {},
   "source": [
    "- It matches all the occurences of the pattern in the string and returns a list.\n",
    "- If the pattern is not found then it returns empty list."
   ]
  },
  {
   "cell_type": "code",
   "execution_count": 46,
   "id": "085fe6f5",
   "metadata": {},
   "outputs": [],
   "source": [
    "# re.findall(pat,string)"
   ]
  },
  {
   "cell_type": "code",
   "execution_count": 70,
   "id": "e8d621b0",
   "metadata": {},
   "outputs": [
    {
     "name": "stdout",
     "output_type": "stream",
     "text": [
      "['India', 'India', 'India']\n"
     ]
    }
   ],
   "source": [
    "text='I love India very much. India lies in Asia. I live in Bangalore in India.'\n",
    "\n",
    "pat=r'India'\n",
    "\n",
    "x=re.findall(pat,text)\n",
    "print(x)\n",
    "\n",
    "# for i in x:\n",
    "#     print(i)"
   ]
  },
  {
   "cell_type": "code",
   "execution_count": 50,
   "id": "52741a4d",
   "metadata": {},
   "outputs": [
    {
     "name": "stdout",
     "output_type": "stream",
     "text": [
      "['Asia']\n"
     ]
    }
   ],
   "source": [
    "text='I love India very much. India lies in Asia. I live in Bangalore in India.'\n",
    "\n",
    "pat=r'Asia'\n",
    "\n",
    "x=re.findall(pat,text)\n",
    "print(x)"
   ]
  },
  {
   "cell_type": "code",
   "execution_count": 51,
   "id": "b2fd4965",
   "metadata": {},
   "outputs": [
    {
     "name": "stdout",
     "output_type": "stream",
     "text": [
      "[]\n"
     ]
    }
   ],
   "source": [
    "text='I love India very much. India lies in Asia. I live in Bangalore in India.'\n",
    "\n",
    "pat=r'China'\n",
    "\n",
    "x=re.findall(pat,text)\n",
    "print(x)"
   ]
  },
  {
   "cell_type": "markdown",
   "id": "2217878b",
   "metadata": {},
   "source": [
    "# finditer()"
   ]
  },
  {
   "cell_type": "markdown",
   "id": "939345de",
   "metadata": {},
   "source": [
    "- It matches all the occurences of the pattern in the string.\n",
    "- It returns an iterator object where each element in the iterator object is a match object.\n",
    "- If the pattern is not found then it returns an empty iterator object.\n",
    "- To fetch the elements from an iterator object we use for loop."
   ]
  },
  {
   "cell_type": "code",
   "execution_count": 54,
   "id": "f3da1124",
   "metadata": {},
   "outputs": [],
   "source": [
    "# Syntax- re.finditer(pat,string)"
   ]
  },
  {
   "cell_type": "code",
   "execution_count": 61,
   "id": "12d6f01f",
   "metadata": {},
   "outputs": [
    {
     "name": "stdout",
     "output_type": "stream",
     "text": [
      "<callable_iterator object at 0x000001E446563970>\n",
      "<re.Match object; span=(7, 12), match='India'>\n",
      "<re.Match object; span=(24, 29), match='India'>\n",
      "<re.Match object; span=(67, 72), match='India'>\n"
     ]
    }
   ],
   "source": [
    "text='I love India very much. India lies in Asia. I live in Bangalore in India.'\n",
    "\n",
    "pat=r'India'\n",
    "\n",
    "x=re.finditer(pat,text)\n",
    "print(x)\n",
    "\n",
    "for i in x:\n",
    "    print(i)"
   ]
  },
  {
   "cell_type": "code",
   "execution_count": 57,
   "id": "2bc304fd",
   "metadata": {},
   "outputs": [
    {
     "name": "stdout",
     "output_type": "stream",
     "text": [
      "<callable_iterator object at 0x000001E446563550>\n"
     ]
    }
   ],
   "source": [
    "text='I love India very much. India lies in Asia. I live in Bangalore in India.'\n",
    "\n",
    "pat=r'Japan'\n",
    "\n",
    "x=re.finditer(pat,text)\n",
    "print(x)\n",
    "\n",
    "for i in x:\n",
    "    print(i)"
   ]
  },
  {
   "cell_type": "code",
   "execution_count": 68,
   "id": "1c159cc8",
   "metadata": {},
   "outputs": [
    {
     "name": "stdout",
     "output_type": "stream",
     "text": [
      "<re.Match object; span=(7, 12), match='India'>\n",
      "India\n",
      "(7, 12)\n",
      "7\n",
      "12\n",
      "\n",
      "<re.Match object; span=(24, 29), match='India'>\n",
      "India\n",
      "(24, 29)\n",
      "24\n",
      "29\n",
      "\n",
      "<re.Match object; span=(67, 72), match='India'>\n",
      "India\n",
      "(67, 72)\n",
      "67\n",
      "72\n",
      "\n"
     ]
    }
   ],
   "source": [
    "text='I love India very much. India lies in Asia. I live in Bangalore in India.'\n",
    "\n",
    "pat=r'India'\n",
    "\n",
    "x=re.finditer(pat,text)\n",
    "# print(x)\n",
    "\n",
    "for i in x:\n",
    "    print(i)\n",
    "    print(i.group())\n",
    "    print(i.span())\n",
    "    print(i.start())\n",
    "    print(i.end())\n",
    "    print()"
   ]
  },
  {
   "cell_type": "markdown",
   "id": "861b8582",
   "metadata": {},
   "source": [
    "# Metacharcters"
   ]
  },
  {
   "cell_type": "markdown",
   "id": "88f1a45c",
   "metadata": {},
   "source": [
    "- These are special charcters in Regex.\n",
    "- These characters carry some special meaning and are used for some specific purpose."
   ]
  },
  {
   "cell_type": "code",
   "execution_count": 152,
   "id": "93c38924",
   "metadata": {},
   "outputs": [],
   "source": [
    "# []- Set\n",
    "# ()- Group\n",
    "# ^- Caret\n",
    "# $- dollar\n",
    "# |- or\n",
    "# .- dot"
   ]
  },
  {
   "cell_type": "markdown",
   "id": "60f377a3",
   "metadata": {},
   "source": [
    "# [ ]- Set"
   ]
  },
  {
   "cell_type": "code",
   "execution_count": 100,
   "id": "9d3a357e",
   "metadata": {},
   "outputs": [],
   "source": [
    "# [A]- It will match all A one by one in the string.\n",
    "# [AB]- It will A and B sepaerately one by one in the string.\n",
    "# [A-B]- It will match all the upper case letters from A to Z one by one\n",
    "# [a-z]- It will match all the lower case letters from a to z one by one\n",
    "# [0-9]- It will matcg all the digits between 0 and 9\n",
    "# [A-Za-z0-9]- It will match all the upper case letters, lower case letters and the digits.\n",
    "# [^A]- It will match everything in the string except A\n",
    "# [^A-Z]- It will match everything except the upper case letters."
   ]
  },
  {
   "cell_type": "code",
   "execution_count": 78,
   "id": "76f526ab",
   "metadata": {},
   "outputs": [
    {
     "name": "stdout",
     "output_type": "stream",
     "text": [
      "<re.Match object; span=(6, 7), match='A'>\n",
      "<re.Match object; span=(7, 8), match='A'>\n",
      "<re.Match object; span=(16, 17), match='A'>\n",
      "<re.Match object; span=(20, 21), match='B'>\n",
      "<re.Match object; span=(40, 41), match='A'>\n"
     ]
    }
   ],
   "source": [
    "text='da 18 AA@# 72@$ AIJ Bsk fjwu! @@$#%^1548A48'\n",
    "\n",
    "pat=r'[AB]'\n",
    "\n",
    "x=re.finditer(pat,text)\n",
    "for i in x:\n",
    "    print(i)"
   ]
  },
  {
   "cell_type": "code",
   "execution_count": 79,
   "id": "9e73dde3",
   "metadata": {},
   "outputs": [
    {
     "name": "stdout",
     "output_type": "stream",
     "text": [
      "<re.Match object; span=(6, 8), match='AB'>\n"
     ]
    }
   ],
   "source": [
    "text='da 18 ABA@# 72@$ AIJ Bsk fjwu! @@$#%^1548A48'\n",
    "\n",
    "pat=r'AB'\n",
    "\n",
    "x=re.finditer(pat,text)\n",
    "for i in x:\n",
    "    print(i)"
   ]
  },
  {
   "cell_type": "code",
   "execution_count": 83,
   "id": "ee4b072c",
   "metadata": {},
   "outputs": [
    {
     "name": "stdout",
     "output_type": "stream",
     "text": [
      "<re.Match object; span=(6, 7), match='A'>\n",
      "<re.Match object; span=(7, 8), match='B'>\n",
      "<re.Match object; span=(8, 9), match='A'>\n",
      "<re.Match object; span=(17, 18), match='A'>\n",
      "<re.Match object; span=(18, 19), match='I'>\n",
      "<re.Match object; span=(19, 20), match='J'>\n",
      "<re.Match object; span=(21, 22), match='B'>\n",
      "<re.Match object; span=(33, 34), match='F'>\n",
      "<re.Match object; span=(34, 35), match='E'>\n",
      "<re.Match object; span=(35, 36), match='R'>\n",
      "<re.Match object; span=(40, 41), match='Y'>\n",
      "<re.Match object; span=(41, 42), match='E'>\n",
      "<re.Match object; span=(45, 46), match='U'>\n",
      "<re.Match object; span=(47, 48), match='R'>\n",
      "<re.Match object; span=(52, 53), match='H'>\n",
      "<re.Match object; span=(53, 54), match='I'>\n",
      "<re.Match object; span=(62, 63), match='O'>\n",
      "<re.Match object; span=(78, 79), match='L'>\n",
      "<re.Match object; span=(80, 81), match='G'>\n",
      "<re.Match object; span=(81, 82), match='M'>\n",
      "<re.Match object; span=(86, 87), match='R'>\n",
      "<re.Match object; span=(101, 102), match='O'>\n",
      "<re.Match object; span=(102, 103), match='I'>\n",
      "<re.Match object; span=(103, 104), match='T'>\n",
      "<re.Match object; span=(104, 105), match='J'>\n",
      "<re.Match object; span=(105, 106), match='E'>\n",
      "<re.Match object; span=(106, 107), match='I'>\n",
      "<re.Match object; span=(108, 109), match='A'>\n"
     ]
    }
   ],
   "source": [
    "text='da 18 ABA@# 72@$ AIJ Bsk fjwu! @@FERa ssYEgfhU RghgjHI243 5456O$ et46#%tyu^154L GMhtjyRrytty344 657  OITJEI8A48'\n",
    "\n",
    "pat=r'[A-Z]'\n",
    "\n",
    "x=re.finditer(pat,text)\n",
    "for i in x:\n",
    "    print(i)"
   ]
  },
  {
   "cell_type": "code",
   "execution_count": 85,
   "id": "81aa70e9",
   "metadata": {},
   "outputs": [
    {
     "name": "stdout",
     "output_type": "stream",
     "text": [
      "<re.Match object; span=(0, 1), match='d'>\n",
      "<re.Match object; span=(1, 2), match='a'>\n",
      "<re.Match object; span=(22, 23), match='s'>\n",
      "<re.Match object; span=(23, 24), match='k'>\n",
      "<re.Match object; span=(25, 26), match='f'>\n",
      "<re.Match object; span=(26, 27), match='j'>\n",
      "<re.Match object; span=(27, 28), match='w'>\n",
      "<re.Match object; span=(28, 29), match='u'>\n",
      "<re.Match object; span=(36, 37), match='a'>\n",
      "<re.Match object; span=(38, 39), match='s'>\n",
      "<re.Match object; span=(39, 40), match='s'>\n",
      "<re.Match object; span=(42, 43), match='g'>\n",
      "<re.Match object; span=(43, 44), match='f'>\n",
      "<re.Match object; span=(44, 45), match='h'>\n",
      "<re.Match object; span=(48, 49), match='g'>\n",
      "<re.Match object; span=(49, 50), match='h'>\n",
      "<re.Match object; span=(50, 51), match='g'>\n",
      "<re.Match object; span=(51, 52), match='j'>\n",
      "<re.Match object; span=(65, 66), match='e'>\n",
      "<re.Match object; span=(66, 67), match='t'>\n",
      "<re.Match object; span=(71, 72), match='t'>\n",
      "<re.Match object; span=(72, 73), match='y'>\n",
      "<re.Match object; span=(73, 74), match='u'>\n",
      "<re.Match object; span=(82, 83), match='h'>\n",
      "<re.Match object; span=(83, 84), match='t'>\n",
      "<re.Match object; span=(84, 85), match='j'>\n",
      "<re.Match object; span=(85, 86), match='y'>\n",
      "<re.Match object; span=(87, 88), match='r'>\n",
      "<re.Match object; span=(88, 89), match='y'>\n",
      "<re.Match object; span=(89, 90), match='t'>\n",
      "<re.Match object; span=(90, 91), match='t'>\n",
      "<re.Match object; span=(91, 92), match='y'>\n"
     ]
    }
   ],
   "source": [
    "text='da 18 ABA@# 72@$ AIJ Bsk fjwu! @@FERa ssYEgfhU RghgjHI243 5456O$ et46#%tyu^154L GMhtjyRrytty344 657  OITJEI8A48'\n",
    "\n",
    "pat=r'[a-z]'\n",
    "\n",
    "x=re.finditer(pat,text)\n",
    "for i in x:\n",
    "    print(i)"
   ]
  },
  {
   "cell_type": "code",
   "execution_count": 88,
   "id": "f8007048",
   "metadata": {},
   "outputs": [
    {
     "name": "stdout",
     "output_type": "stream",
     "text": [
      "<re.Match object; span=(6, 7), match='A'>\n",
      "<re.Match object; span=(8, 9), match='A'>\n",
      "<re.Match object; span=(17, 18), match='A'>\n",
      "<re.Match object; span=(24, 25), match='D'>\n",
      "<re.Match object; span=(44, 45), match='D'>\n",
      "<re.Match object; span=(83, 84), match='M'>\n",
      "<re.Match object; span=(110, 111), match='A'>\n"
     ]
    }
   ],
   "source": [
    "text='da 18 ABA@# 72@$ AIJ BskD fjwu! @@FERa ssYEgDfhU RghgjHI243 5456O$ et46#%tyu^154L GMhtjyRrytty344 657  OITJEI8A48'\n",
    "\n",
    "pat=r'[ADM]'\n",
    "\n",
    "x=re.finditer(pat,text)\n",
    "for i in x:\n",
    "    print(i)"
   ]
  },
  {
   "cell_type": "code",
   "execution_count": 99,
   "id": "ead1656d",
   "metadata": {},
   "outputs": [
    {
     "name": "stdout",
     "output_type": "stream",
     "text": [
      "<re.Match object; span=(3, 4), match='1'>\n",
      "<re.Match object; span=(4, 5), match='8'>\n",
      "<re.Match object; span=(7, 8), match='0'>\n",
      "<re.Match object; span=(13, 14), match='7'>\n",
      "<re.Match object; span=(14, 15), match='2'>\n",
      "<re.Match object; span=(17, 18), match='2'>\n",
      "<re.Match object; span=(18, 19), match='4'>\n",
      "<re.Match object; span=(19, 20), match='3'>\n",
      "<re.Match object; span=(21, 22), match='5'>\n",
      "<re.Match object; span=(22, 23), match='4'>\n",
      "<re.Match object; span=(23, 24), match='5'>\n",
      "<re.Match object; span=(24, 25), match='6'>\n",
      "<re.Match object; span=(29, 30), match='0'>\n",
      "<re.Match object; span=(31, 32), match='4'>\n",
      "<re.Match object; span=(32, 33), match='6'>\n",
      "<re.Match object; span=(39, 40), match='1'>\n",
      "<re.Match object; span=(40, 41), match='5'>\n",
      "<re.Match object; span=(41, 42), match='4'>\n",
      "<re.Match object; span=(53, 54), match='3'>\n",
      "<re.Match object; span=(54, 55), match='4'>\n",
      "<re.Match object; span=(55, 56), match='4'>\n",
      "<re.Match object; span=(57, 58), match='8'>\n",
      "<re.Match object; span=(59, 60), match='4'>\n",
      "<re.Match object; span=(60, 61), match='0'>\n",
      "<re.Match object; span=(61, 62), match='8'>\n"
     ]
    }
   ],
   "source": [
    "text='da 18 A0BA@# 72@$243 5456O$ e0t46#%tyu^154L GMhRrytty344 8A408'\n",
    "\n",
    "pat=r'[0-9]'\n",
    "\n",
    "x=re.finditer(pat,text)\n",
    "for i in x:\n",
    "    print(i)"
   ]
  },
  {
   "cell_type": "code",
   "execution_count": 103,
   "id": "73cc4484",
   "metadata": {},
   "outputs": [
    {
     "name": "stdout",
     "output_type": "stream",
     "text": [
      "<re.Match object; span=(0, 1), match='d'>\n",
      "<re.Match object; span=(1, 2), match='a'>\n",
      "<re.Match object; span=(7, 8), match='1'>\n",
      "<re.Match object; span=(8, 9), match='8'>\n",
      "<re.Match object; span=(10, 11), match='A'>\n",
      "<re.Match object; span=(11, 12), match='0'>\n",
      "<re.Match object; span=(12, 13), match='B'>\n",
      "<re.Match object; span=(13, 14), match='A'>\n",
      "<re.Match object; span=(17, 18), match='7'>\n",
      "<re.Match object; span=(18, 19), match='2'>\n",
      "<re.Match object; span=(21, 22), match='2'>\n",
      "<re.Match object; span=(22, 23), match='4'>\n",
      "<re.Match object; span=(23, 24), match='3'>\n",
      "<re.Match object; span=(25, 26), match='5'>\n",
      "<re.Match object; span=(26, 27), match='4'>\n",
      "<re.Match object; span=(27, 28), match='5'>\n",
      "<re.Match object; span=(28, 29), match='6'>\n",
      "<re.Match object; span=(29, 30), match='O'>\n",
      "<re.Match object; span=(32, 33), match='e'>\n",
      "<re.Match object; span=(33, 34), match='0'>\n",
      "<re.Match object; span=(34, 35), match='t'>\n",
      "<re.Match object; span=(35, 36), match='4'>\n",
      "<re.Match object; span=(36, 37), match='6'>\n",
      "<re.Match object; span=(39, 40), match='t'>\n",
      "<re.Match object; span=(40, 41), match='y'>\n",
      "<re.Match object; span=(41, 42), match='u'>\n",
      "<re.Match object; span=(43, 44), match='1'>\n",
      "<re.Match object; span=(44, 45), match='5'>\n",
      "<re.Match object; span=(45, 46), match='4'>\n",
      "<re.Match object; span=(46, 47), match='L'>\n",
      "<re.Match object; span=(48, 49), match='G'>\n",
      "<re.Match object; span=(49, 50), match='M'>\n",
      "<re.Match object; span=(50, 51), match='h'>\n",
      "<re.Match object; span=(51, 52), match='R'>\n",
      "<re.Match object; span=(52, 53), match='r'>\n",
      "<re.Match object; span=(53, 54), match='y'>\n",
      "<re.Match object; span=(54, 55), match='t'>\n",
      "<re.Match object; span=(55, 56), match='t'>\n",
      "<re.Match object; span=(56, 57), match='y'>\n",
      "<re.Match object; span=(57, 58), match='3'>\n",
      "<re.Match object; span=(58, 59), match='4'>\n",
      "<re.Match object; span=(59, 60), match='4'>\n",
      "<re.Match object; span=(61, 62), match='8'>\n",
      "<re.Match object; span=(62, 63), match='A'>\n",
      "<re.Match object; span=(63, 64), match='4'>\n",
      "<re.Match object; span=(64, 65), match='0'>\n",
      "<re.Match object; span=(65, 66), match='8'>\n"
     ]
    }
   ],
   "source": [
    "text='da!#@$ 18 A0BA@# 72@$243 5456O$ e0t46#%tyu^154L GMhRrytty344 8A408'\n",
    "\n",
    "pat=r'[0-9A-Za-z]'\n",
    "\n",
    "x=re.finditer(pat,text)\n",
    "for i in x:\n",
    "    print(i)"
   ]
  },
  {
   "cell_type": "code",
   "execution_count": 104,
   "id": "9b1f3837",
   "metadata": {},
   "outputs": [
    {
     "name": "stdout",
     "output_type": "stream",
     "text": [
      "<re.Match object; span=(0, 1), match='d'>\n",
      "<re.Match object; span=(1, 2), match='a'>\n",
      "<re.Match object; span=(2, 3), match=' '>\n",
      "<re.Match object; span=(5, 6), match=' '>\n",
      "<re.Match object; span=(6, 7), match='A'>\n",
      "<re.Match object; span=(8, 9), match='B'>\n",
      "<re.Match object; span=(9, 10), match='A'>\n",
      "<re.Match object; span=(10, 11), match='@'>\n",
      "<re.Match object; span=(11, 12), match='#'>\n",
      "<re.Match object; span=(12, 13), match=' '>\n",
      "<re.Match object; span=(15, 16), match='@'>\n",
      "<re.Match object; span=(16, 17), match='$'>\n",
      "<re.Match object; span=(20, 21), match=' '>\n",
      "<re.Match object; span=(25, 26), match='O'>\n",
      "<re.Match object; span=(26, 27), match='$'>\n",
      "<re.Match object; span=(27, 28), match=' '>\n",
      "<re.Match object; span=(28, 29), match='e'>\n",
      "<re.Match object; span=(30, 31), match='t'>\n",
      "<re.Match object; span=(33, 34), match='#'>\n",
      "<re.Match object; span=(34, 35), match='%'>\n",
      "<re.Match object; span=(35, 36), match='t'>\n",
      "<re.Match object; span=(36, 37), match='y'>\n",
      "<re.Match object; span=(37, 38), match='u'>\n",
      "<re.Match object; span=(38, 39), match='^'>\n",
      "<re.Match object; span=(42, 43), match='L'>\n",
      "<re.Match object; span=(43, 44), match=' '>\n",
      "<re.Match object; span=(44, 45), match='G'>\n",
      "<re.Match object; span=(45, 46), match='M'>\n",
      "<re.Match object; span=(46, 47), match='h'>\n",
      "<re.Match object; span=(47, 48), match='R'>\n",
      "<re.Match object; span=(48, 49), match='r'>\n",
      "<re.Match object; span=(49, 50), match='y'>\n",
      "<re.Match object; span=(50, 51), match='t'>\n",
      "<re.Match object; span=(51, 52), match='t'>\n",
      "<re.Match object; span=(52, 53), match='y'>\n",
      "<re.Match object; span=(56, 57), match=' '>\n",
      "<re.Match object; span=(58, 59), match='A'>\n"
     ]
    }
   ],
   "source": [
    "text='da 18 A0BA@# 72@$243 5456O$ e0t46#%tyu^154L GMhRrytty344 8A408'\n",
    "\n",
    "pat=r'[^0-9]'\n",
    "\n",
    "x=re.finditer(pat,text)\n",
    "for i in x:\n",
    "    print(i)"
   ]
  },
  {
   "cell_type": "code",
   "execution_count": 108,
   "id": "1197db27",
   "metadata": {},
   "outputs": [
    {
     "name": "stdout",
     "output_type": "stream",
     "text": [
      "<re.Match object; span=(10, 11), match='@'>\n",
      "<re.Match object; span=(11, 12), match='#'>\n",
      "<re.Match object; span=(15, 16), match='@'>\n",
      "<re.Match object; span=(16, 17), match='$'>\n",
      "<re.Match object; span=(26, 27), match='$'>\n",
      "<re.Match object; span=(33, 34), match='#'>\n",
      "<re.Match object; span=(34, 35), match='%'>\n",
      "<re.Match object; span=(38, 39), match='^'>\n"
     ]
    }
   ],
   "source": [
    "text='da 18 A0BA@# 72@$243 5456O$ e0t46#%tyu^154L GMhRrytty344 8A408'\n",
    "\n",
    "pat=r'[^A-Za-z 0-9]'\n",
    "\n",
    "x=re.finditer(pat,text)\n",
    "for i in x:\n",
    "    print(i)"
   ]
  },
  {
   "cell_type": "code",
   "execution_count": 112,
   "id": "0fda4ab6",
   "metadata": {},
   "outputs": [
    {
     "name": "stdout",
     "output_type": "stream",
     "text": [
      "<re.Match object; span=(10, 11), match='@'>\n",
      "<re.Match object; span=(11, 12), match='#'>\n",
      "<re.Match object; span=(15, 16), match='@'>\n",
      "<re.Match object; span=(33, 34), match='#'>\n"
     ]
    }
   ],
   "source": [
    "text='da 18 A0BA@# 72@$243 5456O$ e0t46#%tyu^154L GMhRrytty344 8A408'\n",
    "\n",
    "pat=r'[@#]'\n",
    "\n",
    "x=re.finditer(pat,text)\n",
    "for i in x:\n",
    "    print(i)"
   ]
  },
  {
   "cell_type": "markdown",
   "id": "bab2768c",
   "metadata": {},
   "source": [
    "# ^ carat"
   ]
  },
  {
   "cell_type": "markdown",
   "id": "3ad78f77",
   "metadata": {},
   "source": [
    "- It matches the pttern at the beginning of the string."
   ]
  },
  {
   "cell_type": "code",
   "execution_count": 116,
   "id": "40635d48",
   "metadata": {},
   "outputs": [
    {
     "name": "stdout",
     "output_type": "stream",
     "text": [
      "<re.Match object; span=(0, 5), match='da 18'>\n"
     ]
    }
   ],
   "source": [
    "text='da 18 A0BA@# 72@$243 5456O$ e0t46#%tyu^154L GMhRrytty344 8A408'\n",
    "\n",
    "pat=r'^da 18'\n",
    "\n",
    "x=re.finditer(pat,text)\n",
    "for i in x:\n",
    "    print(i)"
   ]
  },
  {
   "cell_type": "code",
   "execution_count": 118,
   "id": "30e86a5b",
   "metadata": {},
   "outputs": [
    {
     "name": "stdout",
     "output_type": "stream",
     "text": [
      "<re.Match object; span=(0, 1), match='d'>\n",
      "<re.Match object; span=(1, 2), match='a'>\n",
      "<re.Match object; span=(2, 3), match=' '>\n",
      "<re.Match object; span=(3, 4), match='1'>\n",
      "<re.Match object; span=(4, 5), match='8'>\n",
      "<re.Match object; span=(5, 6), match=' '>\n",
      "<re.Match object; span=(6, 7), match='A'>\n",
      "<re.Match object; span=(7, 8), match='0'>\n",
      "<re.Match object; span=(9, 10), match='A'>\n",
      "<re.Match object; span=(10, 11), match='@'>\n",
      "<re.Match object; span=(11, 12), match='#'>\n",
      "<re.Match object; span=(12, 13), match=' '>\n",
      "<re.Match object; span=(13, 14), match='7'>\n",
      "<re.Match object; span=(14, 15), match='2'>\n",
      "<re.Match object; span=(15, 16), match='@'>\n",
      "<re.Match object; span=(16, 17), match='$'>\n",
      "<re.Match object; span=(17, 18), match='2'>\n",
      "<re.Match object; span=(18, 19), match='4'>\n",
      "<re.Match object; span=(19, 20), match='3'>\n",
      "<re.Match object; span=(20, 21), match=' '>\n",
      "<re.Match object; span=(21, 22), match='5'>\n",
      "<re.Match object; span=(22, 23), match='4'>\n",
      "<re.Match object; span=(23, 24), match='5'>\n",
      "<re.Match object; span=(24, 25), match='6'>\n",
      "<re.Match object; span=(25, 26), match='O'>\n",
      "<re.Match object; span=(26, 27), match='$'>\n",
      "<re.Match object; span=(27, 28), match=' '>\n",
      "<re.Match object; span=(28, 29), match='e'>\n",
      "<re.Match object; span=(29, 30), match='0'>\n",
      "<re.Match object; span=(30, 31), match='t'>\n",
      "<re.Match object; span=(31, 32), match='4'>\n",
      "<re.Match object; span=(32, 33), match='6'>\n",
      "<re.Match object; span=(33, 34), match='#'>\n",
      "<re.Match object; span=(34, 35), match='%'>\n",
      "<re.Match object; span=(35, 36), match='t'>\n",
      "<re.Match object; span=(36, 37), match='y'>\n",
      "<re.Match object; span=(37, 38), match='u'>\n",
      "<re.Match object; span=(38, 39), match='^'>\n",
      "<re.Match object; span=(39, 40), match='1'>\n",
      "<re.Match object; span=(40, 41), match='5'>\n",
      "<re.Match object; span=(41, 42), match='4'>\n",
      "<re.Match object; span=(42, 43), match='L'>\n",
      "<re.Match object; span=(43, 44), match=' '>\n",
      "<re.Match object; span=(44, 45), match='G'>\n",
      "<re.Match object; span=(45, 46), match='M'>\n",
      "<re.Match object; span=(46, 47), match='h'>\n",
      "<re.Match object; span=(47, 48), match='R'>\n",
      "<re.Match object; span=(48, 49), match='r'>\n",
      "<re.Match object; span=(49, 50), match='y'>\n",
      "<re.Match object; span=(50, 51), match='t'>\n",
      "<re.Match object; span=(51, 52), match='t'>\n",
      "<re.Match object; span=(52, 53), match='y'>\n",
      "<re.Match object; span=(53, 54), match='3'>\n",
      "<re.Match object; span=(54, 55), match='4'>\n",
      "<re.Match object; span=(55, 56), match='4'>\n",
      "<re.Match object; span=(56, 57), match=' '>\n",
      "<re.Match object; span=(57, 58), match='8'>\n",
      "<re.Match object; span=(58, 59), match='A'>\n",
      "<re.Match object; span=(59, 60), match='4'>\n",
      "<re.Match object; span=(60, 61), match='0'>\n",
      "<re.Match object; span=(61, 62), match='8'>\n"
     ]
    }
   ],
   "source": [
    "text='da 18 A0BA@# 72@$243 5456O$ e0t46#%tyu^154L GMhRrytty344 8A408'\n",
    "\n",
    "pat=r'[^B]'\n",
    "\n",
    "x=re.finditer(pat,text)\n",
    "for i in x:\n",
    "    print(i)"
   ]
  },
  {
   "cell_type": "code",
   "execution_count": 125,
   "id": "238291a6",
   "metadata": {},
   "outputs": [
    {
     "name": "stdout",
     "output_type": "stream",
     "text": [
      "None\n"
     ]
    }
   ],
   "source": [
    "text='Python is a high level language.'\n",
    "\n",
    "pat='l'\n",
    "\n",
    "x=re.match(pat,text)\n",
    "print(x)"
   ]
  },
  {
   "cell_type": "code",
   "execution_count": 126,
   "id": "763ae0b8",
   "metadata": {},
   "outputs": [],
   "source": [
    "text='Python is a high level language.'\n",
    "\n",
    "pat='^l'\n",
    "\n",
    "x=re.finditer(pat,text)\n",
    "\n",
    "for i in x:\n",
    "    print(i)"
   ]
  },
  {
   "cell_type": "markdown",
   "id": "aa93cf5c",
   "metadata": {},
   "source": [
    "# $ dollar"
   ]
  },
  {
   "cell_type": "markdown",
   "id": "93a8d3ba",
   "metadata": {},
   "source": [
    "- It matches the pattern at the end of the string."
   ]
  },
  {
   "cell_type": "code",
   "execution_count": 130,
   "id": "25943def",
   "metadata": {},
   "outputs": [
    {
     "name": "stdout",
     "output_type": "stream",
     "text": [
      "<re.Match object; span=(27, 31), match='uage'>\n"
     ]
    }
   ],
   "source": [
    "text='Python is a high level language'\n",
    "\n",
    "pat='uage$'\n",
    "\n",
    "x=re.finditer(pat,text)\n",
    "\n",
    "for i in x:\n",
    "    print(i)"
   ]
  },
  {
   "cell_type": "code",
   "execution_count": 131,
   "id": "a6245de5",
   "metadata": {},
   "outputs": [],
   "source": [
    "text='Python is a high level language'\n",
    "\n",
    "pat='l$'\n",
    "\n",
    "x=re.finditer(pat,text)\n",
    "\n",
    "for i in x:\n",
    "    print(i)"
   ]
  },
  {
   "cell_type": "markdown",
   "id": "202ea3f0",
   "metadata": {},
   "source": [
    "# . dot"
   ]
  },
  {
   "cell_type": "markdown",
   "id": "9535203e",
   "metadata": {},
   "source": [
    "- It matches all the characters except the \\n character."
   ]
  },
  {
   "cell_type": "code",
   "execution_count": 132,
   "id": "20cfbbdf",
   "metadata": {},
   "outputs": [
    {
     "name": "stdout",
     "output_type": "stream",
     "text": [
      "<re.Match object; span=(0, 1), match='H'>\n",
      "<re.Match object; span=(1, 2), match='e'>\n",
      "<re.Match object; span=(2, 3), match='l'>\n",
      "<re.Match object; span=(3, 4), match='l'>\n",
      "<re.Match object; span=(4, 5), match='o'>\n",
      "<re.Match object; span=(5, 6), match=' '>\n",
      "<re.Match object; span=(6, 7), match='e'>\n",
      "<re.Match object; span=(7, 8), match='v'>\n",
      "<re.Match object; span=(8, 9), match='e'>\n",
      "<re.Match object; span=(9, 10), match='r'>\n",
      "<re.Match object; span=(10, 11), match='y'>\n",
      "<re.Match object; span=(11, 12), match='o'>\n",
      "<re.Match object; span=(12, 13), match='n'>\n",
      "<re.Match object; span=(13, 14), match='e'>\n",
      "<re.Match object; span=(14, 15), match='!'>\n",
      "<re.Match object; span=(16, 17), match='2'>\n",
      "<re.Match object; span=(17, 18), match='1'>\n",
      "<re.Match object; span=(18, 19), match='5'>\n",
      "<re.Match object; span=(19, 20), match='5'>\n",
      "<re.Match object; span=(20, 21), match='4'>\n",
      "<re.Match object; span=(21, 22), match='5'>\n",
      "<re.Match object; span=(22, 23), match='4'>\n",
      "<re.Match object; span=(23, 24), match='5'>\n",
      "<re.Match object; span=(25, 26), match='!'>\n",
      "<re.Match object; span=(26, 27), match='@'>\n",
      "<re.Match object; span=(27, 28), match='$'>\n",
      "<re.Match object; span=(28, 29), match='#'>\n",
      "<re.Match object; span=(29, 30), match='@'>\n",
      "<re.Match object; span=(30, 31), match='!'>\n",
      "<re.Match object; span=(31, 32), match='$'>\n",
      "<re.Match object; span=(32, 33), match='%'>\n",
      "<re.Match object; span=(33, 34), match='@'>\n",
      "<re.Match object; span=(34, 35), match='%'>\n",
      "<re.Match object; span=(35, 36), match='$'>\n",
      "<re.Match object; span=(36, 37), match='#'>\n",
      "<re.Match object; span=(37, 38), match='^'>\n",
      "<re.Match object; span=(39, 40), match='D'>\n",
      "<re.Match object; span=(40, 41), match='A'>\n",
      "<re.Match object; span=(41, 42), match='F'>\n",
      "<re.Match object; span=(42, 43), match='S'>\n",
      "<re.Match object; span=(43, 44), match='D'>\n",
      "<re.Match object; span=(44, 45), match='G'>\n",
      "<re.Match object; span=(45, 46), match='D'>\n",
      "<re.Match object; span=(46, 47), match='F'>\n",
      "<re.Match object; span=(47, 48), match='H'>\n",
      "<re.Match object; span=(49, 50), match='s'>\n",
      "<re.Match object; span=(50, 51), match='a'>\n",
      "<re.Match object; span=(51, 52), match='d'>\n",
      "<re.Match object; span=(52, 53), match='f'>\n",
      "<re.Match object; span=(53, 54), match='s'>\n",
      "<re.Match object; span=(54, 55), match='d'>\n",
      "<re.Match object; span=(55, 56), match='t'>\n",
      "<re.Match object; span=(56, 57), match='r'>\n",
      "<re.Match object; span=(57, 58), match='t'>\n"
     ]
    }
   ],
   "source": [
    "text='''Hello everyone!\n",
    "21554545\n",
    "!@$#@!$%@%$#^\n",
    "DAFSDGDFH\n",
    "sadfsdtrt'''\n",
    "\n",
    "pat='.'\n",
    "\n",
    "x=re.finditer(pat,text)\n",
    "for i in x:\n",
    "    print(i)"
   ]
  },
  {
   "cell_type": "markdown",
   "id": "880b2794",
   "metadata": {},
   "source": [
    "# | or"
   ]
  },
  {
   "cell_type": "code",
   "execution_count": 133,
   "id": "a41ee831",
   "metadata": {},
   "outputs": [],
   "source": [
    "# abc|xyz- It matches either abc or xyz whatever the case may be."
   ]
  },
  {
   "cell_type": "code",
   "execution_count": 138,
   "id": "958a6393",
   "metadata": {},
   "outputs": [
    {
     "name": "stdout",
     "output_type": "stream",
     "text": [
      "<re.Match object; span=(0, 3), match='abc'>\n",
      "<re.Match object; span=(8, 11), match='xyz'>\n",
      "<re.Match object; span=(41, 44), match='abc'>\n",
      "<re.Match object; span=(48, 51), match='xyz'>\n"
     ]
    }
   ],
   "source": [
    "# Match abc and xyz\n",
    "\n",
    "text='abc.com xyz.com jkl.com mno.com info.com abc.co xyz.in'\n",
    "\n",
    "pat=r'xyz|abc'\n",
    "\n",
    "x=re.finditer(pat,text)\n",
    "\n",
    "for i in x:\n",
    "    print(i)"
   ]
  },
  {
   "cell_type": "code",
   "execution_count": 139,
   "id": "9f65a67c",
   "metadata": {},
   "outputs": [
    {
     "name": "stdout",
     "output_type": "stream",
     "text": [
      "<re.Match object; span=(0, 3), match='abc'>\n",
      "<re.Match object; span=(8, 11), match='xyz'>\n",
      "<re.Match object; span=(16, 19), match='jkl'>\n",
      "<re.Match object; span=(24, 27), match='mno'>\n",
      "<re.Match object; span=(32, 36), match='info'>\n",
      "<re.Match object; span=(41, 44), match='abc'>\n",
      "<re.Match object; span=(48, 51), match='xyz'>\n"
     ]
    }
   ],
   "source": [
    "text='abc.com xyz.com jkl.com mno.com info.com abc.co xyz.in'\n",
    "\n",
    "pat=r'xyz|abc|mno|info|jkl'\n",
    "\n",
    "x=re.finditer(pat,text)\n",
    "\n",
    "for i in x:\n",
    "    print(i)"
   ]
  },
  {
   "cell_type": "markdown",
   "id": "133ec5e3",
   "metadata": {},
   "source": [
    "# ( ) group"
   ]
  },
  {
   "cell_type": "markdown",
   "id": "397d2aa7",
   "metadata": {},
   "source": [
    "- It is used to group the pattern."
   ]
  },
  {
   "cell_type": "code",
   "execution_count": 147,
   "id": "c7097e08",
   "metadata": {},
   "outputs": [
    {
     "name": "stdout",
     "output_type": "stream",
     "text": [
      "<re.Match object; span=(0, 7), match='abc.com'>\n",
      "<re.Match object; span=(8, 15), match='xyz.com'>\n",
      "<re.Match object; span=(63, 70), match='xyz.com'>\n"
     ]
    }
   ],
   "source": [
    "# abc.com, xyz.com\n",
    "text='abc.com xyz.com jkl.in, abc.in, xyz.co mno.com info.com abc.co xyz.com'\n",
    "\n",
    "pat='(abc|xyz).com'\n",
    "\n",
    "x=re.finditer(pat,text)\n",
    "for i in x:\n",
    "    print(i)"
   ]
  },
  {
   "cell_type": "code",
   "execution_count": 151,
   "id": "e20260d3",
   "metadata": {},
   "outputs": [
    {
     "name": "stdout",
     "output_type": "stream",
     "text": [
      "<re.Match object; span=(0, 3), match='bat'>\n",
      "<re.Match object; span=(8, 11), match='cat'>\n",
      "<re.Match object; span=(16, 19), match='mat'>\n",
      "<re.Match object; span=(24, 27), match='rat'>\n",
      "<re.Match object; span=(36, 39), match='hat'>\n"
     ]
    }
   ],
   "source": [
    "# Match cat mat rat bat hat\n",
    "\n",
    "text='bat set cat bed mat pet rat jet sat hat'\n",
    "\n",
    "pat=r'(b|m|r|c|h)at'\n",
    "\n",
    "x=re.finditer(pat,text)\n",
    "\n",
    "for i in x:\n",
    "    print(i)"
   ]
  },
  {
   "cell_type": "code",
   "execution_count": 154,
   "id": "e89b6888",
   "metadata": {},
   "outputs": [
    {
     "name": "stdout",
     "output_type": "stream",
     "text": [
      "<re.Match object; span=(0, 3), match='bat'>\n",
      "<re.Match object; span=(8, 11), match='cat'>\n",
      "<re.Match object; span=(16, 19), match='mat'>\n",
      "<re.Match object; span=(24, 27), match='rat'>\n",
      "<re.Match object; span=(36, 39), match='hat'>\n"
     ]
    }
   ],
   "source": [
    "# Match cat mat rat bat hat\n",
    "\n",
    "text='bat set cat bed mat pet rat jet sat hat'\n",
    "\n",
    "pat=r'[cmrbh]at'\n",
    "\n",
    "x=re.finditer(pat,text)\n",
    "\n",
    "for i in x:\n",
    "    print(i)"
   ]
  },
  {
   "cell_type": "markdown",
   "id": "ae857302",
   "metadata": {},
   "source": [
    "# Special sequences"
   ]
  },
  {
   "cell_type": "code",
   "execution_count": null,
   "id": "f18741ba",
   "metadata": {},
   "outputs": [],
   "source": []
  }
 ],
 "metadata": {
  "kernelspec": {
   "display_name": "Python 3 (ipykernel)",
   "language": "python",
   "name": "python3"
  },
  "language_info": {
   "codemirror_mode": {
    "name": "ipython",
    "version": 3
   },
   "file_extension": ".py",
   "mimetype": "text/x-python",
   "name": "python",
   "nbconvert_exporter": "python",
   "pygments_lexer": "ipython3",
   "version": "3.9.13"
  }
 },
 "nbformat": 4,
 "nbformat_minor": 5
}
