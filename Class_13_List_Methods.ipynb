{
 "cells": [
  {
   "cell_type": "markdown",
   "id": "4bf7acd8",
   "metadata": {},
   "source": [
    "# Slicing\n",
    "- Fetching a sublist from a list is known as slicing."
   ]
  },
  {
   "cell_type": "code",
   "execution_count": 3,
   "id": "bab081ae",
   "metadata": {},
   "outputs": [],
   "source": [
    "# lst[start_index:stop_index:step_size]\n",
    "# Stop_index is excluded\n",
    "# Step_size is 1 by default"
   ]
  },
  {
   "cell_type": "code",
   "execution_count": 2,
   "id": "52ac1135",
   "metadata": {},
   "outputs": [
    {
     "name": "stdout",
     "output_type": "stream",
     "text": [
      "['Python', True, {1: 100, 2: 200}, None, 50, (1, 2, 3), (10+20j), False, 5.5] <class 'list'>\n"
     ]
    }
   ],
   "source": [
    "lst=['Python',True, {1:100,2:200},None, 50,(1,2,3),10+20j, False, 5.5]\n",
    "print(lst,type(lst))"
   ]
  },
  {
   "cell_type": "code",
   "execution_count": 5,
   "id": "fcdbde4e",
   "metadata": {},
   "outputs": [
    {
     "name": "stdout",
     "output_type": "stream",
     "text": [
      "['Python', True, {1: 100, 2: 200}, None, 50]\n",
      "['Python', True, {1: 100, 2: 200}, None, 50]\n"
     ]
    }
   ],
   "source": [
    "# Fetch  the first four elements  indexs-[0,1,2,3,4] 5\n",
    "print(lst[0:5:1])\n",
    "print(lst[0:5])"
   ]
  },
  {
   "cell_type": "code",
   "execution_count": 10,
   "id": "e3aa4a94",
   "metadata": {},
   "outputs": [
    {
     "name": "stdout",
     "output_type": "stream",
     "text": [
      "[5.5, False, (10+20j), (1, 2, 3), 50, None, {1: 100, 2: 200}, True, 'Python']\n",
      "[5.5, False, (10+20j), (1, 2, 3), 50, None, {1: 100, 2: 200}, True, 'Python']\n"
     ]
    }
   ],
   "source": [
    "# Reverse the list [-1,-2,-3,-4,-5,-6,-7,-8,-9] -10\n",
    "print(lst[-1:-10:-1])\n",
    "print(lst[-1:-len(lst)-1:-1])"
   ]
  },
  {
   "cell_type": "code",
   "execution_count": 9,
   "id": "4237aa66",
   "metadata": {},
   "outputs": [
    {
     "data": {
      "text/plain": [
       "-10"
      ]
     },
     "execution_count": 9,
     "metadata": {},
     "output_type": "execute_result"
    }
   ],
   "source": [
    "-len(lst)-1"
   ]
  },
  {
   "cell_type": "markdown",
   "id": "5636d2e6",
   "metadata": {},
   "source": [
    "# When step is +ive"
   ]
  },
  {
   "cell_type": "markdown",
   "id": "4e0114db",
   "metadata": {},
   "source": [
    "- The start is 0 by default\n",
    "- The stop is len(lst) by default"
   ]
  },
  {
   "cell_type": "markdown",
   "id": "7ea4a8bc",
   "metadata": {},
   "source": [
    "# When the step is -ive"
   ]
  },
  {
   "cell_type": "markdown",
   "id": "640ad204",
   "metadata": {},
   "source": [
    "- Start is -1 by default.\n",
    "- Stop is -len(lst)-1 by default."
   ]
  },
  {
   "cell_type": "code",
   "execution_count": 12,
   "id": "3b792dbb",
   "metadata": {},
   "outputs": [
    {
     "data": {
      "text/plain": [
       "['Python', True, {1: 100, 2: 200}, None, 50, (1, 2, 3), (10+20j), False, 5.5]"
      ]
     },
     "execution_count": 12,
     "metadata": {},
     "output_type": "execute_result"
    }
   ],
   "source": [
    "lst"
   ]
  },
  {
   "cell_type": "code",
   "execution_count": 29,
   "id": "ab476afa",
   "metadata": {},
   "outputs": [
    {
     "name": "stdout",
     "output_type": "stream",
     "text": [
      "['Python', True, {1: 100, 2: 200}, None]\n",
      "['Python', True, {1: 100, 2: 200}, None]\n"
     ]
    }
   ],
   "source": [
    "# Firt four elements\n",
    "print(lst[:4:1])\n",
    "print(lst[:4])"
   ]
  },
  {
   "cell_type": "code",
   "execution_count": 20,
   "id": "74bfc6fd",
   "metadata": {},
   "outputs": [
    {
     "data": {
      "text/plain": [
       "9"
      ]
     },
     "execution_count": 20,
     "metadata": {},
     "output_type": "execute_result"
    }
   ],
   "source": [
    "len(lst)"
   ]
  },
  {
   "cell_type": "code",
   "execution_count": 38,
   "id": "5233a438",
   "metadata": {},
   "outputs": [
    {
     "name": "stdout",
     "output_type": "stream",
     "text": [
      "['Python', True, {1: 100, 2: 200}, None, 50, (1, 2, 3), (10+20j), False, 5.5]\n",
      "['Python', True, {1: 100, 2: 200}, None, 50, (1, 2, 3), (10+20j), False, 5.5]\n",
      "['Python', True, {1: 100, 2: 200}, None, 50, (1, 2, 3), (10+20j), False, 5.5]\n"
     ]
    }
   ],
   "source": [
    "print(lst[0:9])\n",
    "print(lst[0:len(lst):1])\n",
    "print(lst[::])"
   ]
  },
  {
   "cell_type": "code",
   "execution_count": 27,
   "id": "25318e3e",
   "metadata": {},
   "outputs": [],
   "source": [
    "# lst[9]"
   ]
  },
  {
   "cell_type": "code",
   "execution_count": 34,
   "id": "bf3365de",
   "metadata": {},
   "outputs": [
    {
     "name": "stdout",
     "output_type": "stream",
     "text": [
      "[5.5, False, (10+20j), (1, 2, 3), 50, None, {1: 100, 2: 200}, True, 'Python']\n",
      "[5.5, False, (10+20j), (1, 2, 3), 50, None, {1: 100, 2: 200}, True, 'Python']\n"
     ]
    }
   ],
   "source": [
    "# Reverse the list\n",
    "\n",
    "print(lst[-1:-len(lst)-1:-1])\n",
    "print(lst[::-1])"
   ]
  },
  {
   "cell_type": "code",
   "execution_count": 40,
   "id": "6193def1",
   "metadata": {},
   "outputs": [
    {
     "data": {
      "text/plain": [
       "['Python', True, {1: 100, 2: 200}, None, 50, (1, 2, 3), (10+20j), False, 5.5]"
      ]
     },
     "execution_count": 40,
     "metadata": {},
     "output_type": "execute_result"
    }
   ],
   "source": [
    "lst[:5000]"
   ]
  },
  {
   "cell_type": "code",
   "execution_count": 42,
   "id": "5d1280fb",
   "metadata": {},
   "outputs": [],
   "source": [
    "# lst[50]"
   ]
  },
  {
   "cell_type": "code",
   "execution_count": 43,
   "id": "957ccac9",
   "metadata": {},
   "outputs": [
    {
     "name": "stdout",
     "output_type": "stream",
     "text": [
      "[]\n"
     ]
    }
   ],
   "source": [
    "print(lst[0:5:-1])"
   ]
  },
  {
   "cell_type": "code",
   "execution_count": 44,
   "id": "2704890e",
   "metadata": {},
   "outputs": [
    {
     "data": {
      "text/plain": [
       "['Python', True, {1: 100, 2: 200}, None, 50, (1, 2, 3), (10+20j), False, 5.5]"
      ]
     },
     "execution_count": 44,
     "metadata": {},
     "output_type": "execute_result"
    }
   ],
   "source": [
    "lst"
   ]
  },
  {
   "cell_type": "code",
   "execution_count": 50,
   "id": "a5453ef7",
   "metadata": {},
   "outputs": [],
   "source": [
    "# [5.5,(1,2,3),{1:100,2:200}]\n",
    "# [(10+20j),50,{1:100,2:200},'Python']"
   ]
  },
  {
   "cell_type": "code",
   "execution_count": 53,
   "id": "52494357",
   "metadata": {},
   "outputs": [
    {
     "name": "stdout",
     "output_type": "stream",
     "text": [
      "[5.5, (1, 2, 3), {1: 100, 2: 200}]\n",
      "[(10+20j), 50, {1: 100, 2: 200}, 'Python']\n"
     ]
    }
   ],
   "source": [
    "print(lst[::-3])\n",
    "print(lst[-3::-2])"
   ]
  },
  {
   "cell_type": "markdown",
   "id": "21be18f0",
   "metadata": {},
   "source": [
    "# How to create a list"
   ]
  },
  {
   "cell_type": "markdown",
   "id": "07bc69d7",
   "metadata": {},
   "source": [
    "# Case_1\n",
    "- When we already know the elements"
   ]
  },
  {
   "cell_type": "code",
   "execution_count": 54,
   "id": "92662560",
   "metadata": {},
   "outputs": [
    {
     "name": "stdout",
     "output_type": "stream",
     "text": [
      "[True, 'Python', 10, 20, 5.2] <class 'list'>\n"
     ]
    }
   ],
   "source": [
    "lst=[True, 'Python', 10,20, 5.2]\n",
    "print(lst,type(lst))"
   ]
  },
  {
   "cell_type": "markdown",
   "id": "271ec21d",
   "metadata": {},
   "source": [
    "# Case_2\n",
    "- Using list()"
   ]
  },
  {
   "cell_type": "code",
   "execution_count": 56,
   "id": "2190cb89",
   "metadata": {},
   "outputs": [],
   "source": [
    "# list(iterable)g\n",
    "# list() takes an iterable as an argument and returns a list"
   ]
  },
  {
   "cell_type": "code",
   "execution_count": 57,
   "id": "97901324",
   "metadata": {},
   "outputs": [],
   "source": [
    "# Iterable- String, List, Tuple, Dictionary, Set, Frozenset, Range"
   ]
  },
  {
   "cell_type": "code",
   "execution_count": 62,
   "id": "5254a394",
   "metadata": {},
   "outputs": [
    {
     "name": "stdout",
     "output_type": "stream",
     "text": [
      "Python <class 'str'>\n",
      "6\n",
      "\n",
      "['P', 'y', 't', 'h', 'o', 'n'] <class 'list'>\n",
      "6\n"
     ]
    }
   ],
   "source": [
    "my_str='Python'\n",
    "print(my_str,type(my_str))\n",
    "print(len(my_str))\n",
    "print()\n",
    "\n",
    "lst=list(my_str)\n",
    "print(lst,type(lst))\n",
    "print(len(lst))"
   ]
  },
  {
   "cell_type": "code",
   "execution_count": 66,
   "id": "3fddb7b0",
   "metadata": {},
   "outputs": [
    {
     "name": "stdout",
     "output_type": "stream",
     "text": [
      "(10, 20, 30, 40, 50) <class 'tuple'>\n",
      "[10, 20, 30, 40, 50] <class 'list'>\n"
     ]
    }
   ],
   "source": [
    "t=(10,20,30,40,50)\n",
    "print(t,type(t))\n",
    "\n",
    "lst=list(t)\n",
    "print(lst,type(lst))"
   ]
  },
  {
   "cell_type": "code",
   "execution_count": 71,
   "id": "fe1efbfe",
   "metadata": {},
   "outputs": [
    {
     "name": "stdout",
     "output_type": "stream",
     "text": [
      "{1: 100, 2: 200, 3: 300, 4: 400} <class 'dict'>\n",
      "[1, 2, 3, 4] <class 'list'>\n",
      "[100, 200, 300, 400] <class 'list'>\n"
     ]
    }
   ],
   "source": [
    "d={1:100,2:200,3:300,4:400}\n",
    "print(d,type(d))\n",
    "\n",
    "lst=list(d)\n",
    "print(lst,type(lst))\n",
    "\n",
    "lst=list(d.values())\n",
    "print(lst,type(lst))"
   ]
  },
  {
   "cell_type": "code",
   "execution_count": 73,
   "id": "2c67eb05",
   "metadata": {},
   "outputs": [
    {
     "name": "stdout",
     "output_type": "stream",
     "text": [
      "{'Python', True, 50, 'Hello'} <class 'set'>\n",
      "['Python', True, 50, 'Hello'] <class 'list'>\n"
     ]
    }
   ],
   "source": [
    "s={True, 50, 'Python','Hello'}\n",
    "print(s,type(s))\n",
    "\n",
    "lst=list(s)\n",
    "print(lst,type(lst))"
   ]
  },
  {
   "cell_type": "code",
   "execution_count": 76,
   "id": "79ccf208",
   "metadata": {},
   "outputs": [
    {
     "name": "stdout",
     "output_type": "stream",
     "text": [
      "frozenset({50, 20, 40, 10, 60, 30}) <class 'frozenset'>\n",
      "[50, 20, 40, 10, 60, 30] <class 'list'>\n"
     ]
    }
   ],
   "source": [
    "f=frozenset({10,20,30,40,50,60})\n",
    "print(f,type(f))\n",
    "\n",
    "\n",
    "\n",
    "\n",
    "\n",
    "\n",
    "lst=list(f)\n",
    "print(lst,type(lst))"
   ]
  },
  {
   "cell_type": "code",
   "execution_count": 82,
   "id": "f4f9ca03",
   "metadata": {},
   "outputs": [
    {
     "name": "stdout",
     "output_type": "stream",
     "text": [
      "range(1, 5) <class 'range'>\n",
      "[1, 2, 3, 4] <class 'list'>\n",
      "[0, 1, 2, 3, 4] <class 'list'>\n"
     ]
    }
   ],
   "source": [
    "r=range(1,5)\n",
    "print(r,type(r))\n",
    "\n",
    "lst=list(r)\n",
    "print(lst,type(lst))\n",
    "\n",
    "lst=list(range(5))\n",
    "print(lst,type(lst))"
   ]
  },
  {
   "cell_type": "markdown",
   "id": "7f7bceb6",
   "metadata": {},
   "source": [
    "# Case_3\n",
    "- By taking the input from the user"
   ]
  },
  {
   "cell_type": "code",
   "execution_count": 84,
   "id": "5453c557",
   "metadata": {},
   "outputs": [
    {
     "name": "stdout",
     "output_type": "stream",
     "text": [
      "Enter some values- 123\n",
      "['1', '2', '3'] <class 'list'>\n"
     ]
    }
   ],
   "source": [
    "lst=list(input('Enter some values- '))\n",
    "print(lst,type(lst))"
   ]
  },
  {
   "cell_type": "code",
   "execution_count": 85,
   "id": "93172438",
   "metadata": {},
   "outputs": [
    {
     "data": {
      "text/plain": [
       "['1', '2', '3']"
      ]
     },
     "execution_count": 85,
     "metadata": {},
     "output_type": "execute_result"
    }
   ],
   "source": [
    "list('123')"
   ]
  },
  {
   "cell_type": "code",
   "execution_count": 86,
   "id": "0896caed",
   "metadata": {},
   "outputs": [
    {
     "name": "stdout",
     "output_type": "stream",
     "text": [
      "Enter some values- Hello Python\n",
      "['H', 'e', 'l', 'l', 'o', ' ', 'P', 'y', 't', 'h', 'o', 'n'] <class 'list'>\n"
     ]
    }
   ],
   "source": [
    "lst=list(input('Enter some values- '))\n",
    "print(lst,type(lst))"
   ]
  },
  {
   "cell_type": "code",
   "execution_count": 87,
   "id": "5d6ac195",
   "metadata": {},
   "outputs": [
    {
     "data": {
      "text/plain": [
       "['H', 'e', 'l', 'l', 'o', ' ', 'P', 'y', 't', 'h', 'o', 'n']"
      ]
     },
     "execution_count": 87,
     "metadata": {},
     "output_type": "execute_result"
    }
   ],
   "source": [
    "list('Hello Python')"
   ]
  },
  {
   "cell_type": "code",
   "execution_count": 88,
   "id": "c2a0f398",
   "metadata": {},
   "outputs": [],
   "source": [
    "# Output- ['Hello','Python']\n",
    "# Output- [10,20,30,40]"
   ]
  },
  {
   "cell_type": "code",
   "execution_count": 90,
   "id": "98407f6c",
   "metadata": {},
   "outputs": [
    {
     "name": "stdout",
     "output_type": "stream",
     "text": [
      "Enter the values- Hello Python\n",
      "['Hello', 'Python']\n"
     ]
    }
   ],
   "source": [
    "s=input('Enter the values- ')\n",
    "lst=s.split()\n",
    "print(lst)"
   ]
  },
  {
   "cell_type": "code",
   "execution_count": 91,
   "id": "4cdadd04",
   "metadata": {},
   "outputs": [
    {
     "name": "stdout",
     "output_type": "stream",
     "text": [
      "Enter the values- 10 20 30 40 50\n",
      "['10', '20', '30', '40', '50']\n"
     ]
    }
   ],
   "source": [
    "s=input('Enter the values- ')\n",
    "lst=s.split()\n",
    "print(lst)"
   ]
  },
  {
   "cell_type": "code",
   "execution_count": 92,
   "id": "51ca2a3d",
   "metadata": {},
   "outputs": [
    {
     "data": {
      "text/plain": [
       "['10', '20', '30', '40', '50']"
      ]
     },
     "execution_count": 92,
     "metadata": {},
     "output_type": "execute_result"
    }
   ],
   "source": [
    "'10 20 30 40 50'.split()"
   ]
  },
  {
   "cell_type": "markdown",
   "id": "88433d1c",
   "metadata": {},
   "source": [
    "# eval()"
   ]
  },
  {
   "cell_type": "markdown",
   "id": "670b9314",
   "metadata": {},
   "source": [
    "- It evaluates the type of the value."
   ]
  },
  {
   "cell_type": "code",
   "execution_count": 93,
   "id": "0302082d",
   "metadata": {},
   "outputs": [],
   "source": [
    "# Syntax- eval('value')"
   ]
  },
  {
   "cell_type": "code",
   "execution_count": 94,
   "id": "0808d203",
   "metadata": {},
   "outputs": [
    {
     "name": "stdout",
     "output_type": "stream",
     "text": [
      "10 <class 'int'>\n"
     ]
    }
   ],
   "source": [
    "a=eval('10')\n",
    "print(a,type(a))"
   ]
  },
  {
   "cell_type": "code",
   "execution_count": 95,
   "id": "bd845386",
   "metadata": {},
   "outputs": [
    {
     "name": "stdout",
     "output_type": "stream",
     "text": [
      "2.5 <class 'float'>\n"
     ]
    }
   ],
   "source": [
    "a=eval('2.5')\n",
    "print(a,type(a))"
   ]
  },
  {
   "cell_type": "code",
   "execution_count": 99,
   "id": "3693ea6c",
   "metadata": {},
   "outputs": [
    {
     "name": "stdout",
     "output_type": "stream",
     "text": [
      "Hello <class 'str'>\n"
     ]
    }
   ],
   "source": [
    "a=eval('\"Hello\"')\n",
    "print(a,type(a))"
   ]
  },
  {
   "cell_type": "code",
   "execution_count": 97,
   "id": "d457cef6",
   "metadata": {},
   "outputs": [
    {
     "data": {
      "text/plain": [
       "'Hello'"
      ]
     },
     "execution_count": 97,
     "metadata": {},
     "output_type": "execute_result"
    }
   ],
   "source": [
    "\"Hello\""
   ]
  },
  {
   "cell_type": "code",
   "execution_count": 101,
   "id": "f305e0fd",
   "metadata": {},
   "outputs": [
    {
     "data": {
      "text/plain": [
       "10"
      ]
     },
     "execution_count": 101,
     "metadata": {},
     "output_type": "execute_result"
    }
   ],
   "source": [
    "abc=10\n",
    "abc"
   ]
  },
  {
   "cell_type": "code",
   "execution_count": 103,
   "id": "1c3942a2",
   "metadata": {},
   "outputs": [
    {
     "name": "stdout",
     "output_type": "stream",
     "text": [
      "[10, 20, 30, 40] <class 'list'>\n"
     ]
    }
   ],
   "source": [
    "a=eval('[10,20,30,40]')\n",
    "print(a,type(a))"
   ]
  },
  {
   "cell_type": "code",
   "execution_count": 111,
   "id": "ac3c1b64",
   "metadata": {},
   "outputs": [
    {
     "name": "stdout",
     "output_type": "stream",
     "text": [
      "Pass a value- [10,20,30,40]\n",
      "[10, 20, 30, 40] <class 'list'>\n"
     ]
    }
   ],
   "source": [
    "a=eval(input('Pass a value- '))\n",
    "print(a,type(a))"
   ]
  },
  {
   "cell_type": "code",
   "execution_count": 105,
   "id": "5e9cc3ca",
   "metadata": {},
   "outputs": [
    {
     "name": "stdout",
     "output_type": "stream",
     "text": [
      "55\n"
     ]
    },
    {
     "data": {
      "text/plain": [
       "'5'"
      ]
     },
     "execution_count": 105,
     "metadata": {},
     "output_type": "execute_result"
    }
   ],
   "source": [
    "input()"
   ]
  },
  {
   "cell_type": "code",
   "execution_count": 106,
   "id": "0a505af3",
   "metadata": {},
   "outputs": [
    {
     "data": {
      "text/plain": [
       "5"
      ]
     },
     "execution_count": 106,
     "metadata": {},
     "output_type": "execute_result"
    }
   ],
   "source": [
    "eval('5')"
   ]
  },
  {
   "cell_type": "code",
   "execution_count": 109,
   "id": "ca78c050",
   "metadata": {},
   "outputs": [
    {
     "ename": "NameError",
     "evalue": "name 'Hello' is not defined",
     "output_type": "error",
     "traceback": [
      "\u001b[1;31m---------------------------------------------------------------------------\u001b[0m",
      "\u001b[1;31mNameError\u001b[0m                                 Traceback (most recent call last)",
      "\u001b[1;32m~\\AppData\\Local\\Temp\\ipykernel_15708\\3378726434.py\u001b[0m in \u001b[0;36m<module>\u001b[1;34m\u001b[0m\n\u001b[1;32m----> 1\u001b[1;33m \u001b[0meval\u001b[0m\u001b[1;33m(\u001b[0m\u001b[1;34m'Hello'\u001b[0m\u001b[1;33m)\u001b[0m\u001b[1;33m\u001b[0m\u001b[1;33m\u001b[0m\u001b[0m\n\u001b[0m",
      "\u001b[1;32m<string>\u001b[0m in \u001b[0;36m<module>\u001b[1;34m\u001b[0m\n",
      "\u001b[1;31mNameError\u001b[0m: name 'Hello' is not defined"
     ]
    }
   ],
   "source": [
    "eval('Hello')"
   ]
  },
  {
   "cell_type": "code",
   "execution_count": 112,
   "id": "4b739b91",
   "metadata": {},
   "outputs": [
    {
     "name": "stdout",
     "output_type": "stream",
     "text": [
      "Enter a value- 10\n",
      "Enter a value- 2.5\n",
      "Enter a value- True\n",
      "Enter a value- \"Python\"\n",
      "Enter a value- 10+20j\n",
      "[10, 2.5, True, 'Python', (10+20j)]\n"
     ]
    }
   ],
   "source": [
    "lst=[]\n",
    "for i in range(5):\n",
    "    a=eval(input('Enter a value- '))\n",
    "    lst=lst+[a]\n",
    "print(lst)"
   ]
  },
  {
   "cell_type": "code",
   "execution_count": 113,
   "id": "ed55eb36",
   "metadata": {},
   "outputs": [
    {
     "name": "stdout",
     "output_type": "stream",
     "text": [
      "Enter a value- 40\n",
      "Enter a value- 50\n",
      "Enter a value- \"Hello\"\n",
      "Enter a value- [1,2,3,4]\n",
      "Enter a value- (10,20,30)\n",
      "[40, 50, 'Hello', [1, 2, 3, 4], (10, 20, 30)]\n"
     ]
    }
   ],
   "source": [
    "lst=[]\n",
    "for i in range(5):\n",
    "    a=eval(input('Enter a value- '))\n",
    "    lst=lst+[a] # or lst.append(a)\n",
    "print(lst)"
   ]
  },
  {
   "cell_type": "code",
   "execution_count": 114,
   "id": "9820e586",
   "metadata": {},
   "outputs": [
    {
     "data": {
      "text/plain": [
       "[40, 50, 'Hello', [1, 2, 3, 4], (10, 20, 30)]"
      ]
     },
     "execution_count": 114,
     "metadata": {},
     "output_type": "execute_result"
    }
   ],
   "source": [
    "lst"
   ]
  },
  {
   "cell_type": "code",
   "execution_count": 116,
   "id": "ca9d795f",
   "metadata": {},
   "outputs": [
    {
     "name": "stdout",
     "output_type": "stream",
     "text": [
      "40 <class 'int'>\n",
      "50 <class 'int'>\n",
      "Hello <class 'str'>\n",
      "[1, 2, 3, 4] <class 'list'>\n",
      "(10, 20, 30) <class 'tuple'>\n"
     ]
    }
   ],
   "source": [
    "for i in lst:\n",
    "    print(i,type(i))"
   ]
  },
  {
   "cell_type": "code",
   "execution_count": 117,
   "id": "9761fd57",
   "metadata": {},
   "outputs": [
    {
     "name": "stdout",
     "output_type": "stream",
     "text": [
      "Enter a value- 10\n",
      "Enter a value- 20\n",
      "Enter a value- Hello\n",
      "Enter a value- (1,2,3,4,5)\n",
      "Enter a value- \n",
      "['10', '20', 'Hello', '(1,2,3,4,5)', '']\n"
     ]
    }
   ],
   "source": [
    "lst=[]\n",
    "for i in range(5):\n",
    "    a=input('Enter a value- ')\n",
    "    lst=lst+[a] # or lst.append(a)\n",
    "print(lst)"
   ]
  },
  {
   "cell_type": "code",
   "execution_count": 119,
   "id": "b46c3081",
   "metadata": {},
   "outputs": [
    {
     "name": "stdout",
     "output_type": "stream",
     "text": [
      "10 <class 'str'>\n",
      "20 <class 'str'>\n",
      "Hello <class 'str'>\n",
      "(1,2,3,4,5) <class 'str'>\n",
      " <class 'str'>\n"
     ]
    }
   ],
   "source": [
    "for i in lst:\n",
    "    print(i,type(i))"
   ]
  },
  {
   "cell_type": "markdown",
   "id": "8476ca46",
   "metadata": {},
   "source": [
    "# Case_4\n",
    "- By using list comprehension\n",
    "- List comprehension is the easier way to create a list using loop"
   ]
  },
  {
   "cell_type": "code",
   "execution_count": 120,
   "id": "0df225be",
   "metadata": {},
   "outputs": [],
   "source": [
    "# Syntax- [for loop]\n",
    "# [value for variable in iterable]"
   ]
  },
  {
   "cell_type": "code",
   "execution_count": 121,
   "id": "889b06a4",
   "metadata": {},
   "outputs": [
    {
     "name": "stdout",
     "output_type": "stream",
     "text": [
      "P\n",
      "y\n",
      "t\n",
      "h\n",
      "o\n",
      "n\n"
     ]
    }
   ],
   "source": [
    "# for variable in iterable\n",
    "for i in 'Python':\n",
    "    print(i)"
   ]
  },
  {
   "cell_type": "code",
   "execution_count": 124,
   "id": "c2bce2a2",
   "metadata": {},
   "outputs": [
    {
     "name": "stdout",
     "output_type": "stream",
     "text": [
      "[10, 10, 10, 10, 10, 10]\n"
     ]
    }
   ],
   "source": [
    "lst=[10 for i in 'Python']\n",
    "print(lst)"
   ]
  },
  {
   "cell_type": "code",
   "execution_count": 127,
   "id": "0598c9d4",
   "metadata": {},
   "outputs": [
    {
     "name": "stdout",
     "output_type": "stream",
     "text": [
      "['P', 'y', 't', 'h', 'o', 'n']\n"
     ]
    }
   ],
   "source": [
    "lst=[i for i in 'Python']\n",
    "print(lst)"
   ]
  },
  {
   "cell_type": "code",
   "execution_count": 144,
   "id": "dd3691de",
   "metadata": {},
   "outputs": [
    {
     "name": "stdout",
     "output_type": "stream",
     "text": [
      "[2, 4, 6, 8, 10, 12, 14, 16, 18, 20]\n"
     ]
    }
   ],
   "source": [
    "# Create a list of even numbers from 2 to 20 using list comprehension\n",
    "\n",
    "lst=[]\n",
    "\n",
    "for i in range(2,21,2):\n",
    "    lst+=[i] # lst=lst+[i]\n",
    "print(lst)\n",
    "# print(lst)"
   ]
  },
  {
   "cell_type": "code",
   "execution_count": 141,
   "id": "384abcaf",
   "metadata": {},
   "outputs": [
    {
     "name": "stdout",
     "output_type": "stream",
     "text": [
      "[2]\n",
      "[2, 4]\n",
      "[2, 4, 6]\n"
     ]
    }
   ],
   "source": [
    "lst=[]\n",
    "lst+=[2]\n",
    "print(lst)\n",
    "\n",
    "lst+=[4]\n",
    "print(lst)\n",
    "\n",
    "lst+=[6]\n",
    "print(lst)"
   ]
  },
  {
   "cell_type": "code",
   "execution_count": 150,
   "id": "74fafbc1",
   "metadata": {},
   "outputs": [
    {
     "name": "stdout",
     "output_type": "stream",
     "text": [
      "[2, 4, 6, 8, 10, 12, 14, 16, 18, 20]\n"
     ]
    }
   ],
   "source": [
    "lst=[i for i in range(2,21,2)]\n",
    "print(lst)"
   ]
  },
  {
   "cell_type": "code",
   "execution_count": 151,
   "id": "3eee854c",
   "metadata": {},
   "outputs": [],
   "source": [
    "# Create a list of letters from A to Z using list comprehension"
   ]
  },
  {
   "cell_type": "code",
   "execution_count": 154,
   "id": "8e5bec18",
   "metadata": {},
   "outputs": [
    {
     "name": "stdout",
     "output_type": "stream",
     "text": [
      "65\n",
      "90\n"
     ]
    }
   ],
   "source": [
    "print(ord('A'))\n",
    "print(ord('Z'))"
   ]
  },
  {
   "cell_type": "code",
   "execution_count": 159,
   "id": "865bd073",
   "metadata": {},
   "outputs": [
    {
     "name": "stdout",
     "output_type": "stream",
     "text": [
      "A\n",
      "B\n",
      "Y\n",
      "Z\n"
     ]
    }
   ],
   "source": [
    "print(chr(65))\n",
    "print(chr(66))\n",
    "print(chr(89))\n",
    "print(chr(90))"
   ]
  },
  {
   "cell_type": "code",
   "execution_count": 164,
   "id": "281fdb96",
   "metadata": {},
   "outputs": [
    {
     "name": "stdout",
     "output_type": "stream",
     "text": [
      "65 A\n",
      "66 B\n",
      "67 C\n",
      "68 D\n",
      "69 E\n",
      "70 F\n",
      "71 G\n",
      "72 H\n",
      "73 I\n",
      "74 J\n",
      "75 K\n",
      "76 L\n",
      "77 M\n",
      "78 N\n",
      "79 O\n",
      "80 P\n",
      "81 Q\n",
      "82 R\n",
      "83 S\n",
      "84 T\n",
      "85 U\n",
      "86 V\n",
      "87 W\n",
      "88 X\n",
      "89 Y\n",
      "90 Z\n"
     ]
    }
   ],
   "source": [
    "for i in range(ord('A'),ord('Z')+1):\n",
    "    print(i,chr(i))"
   ]
  },
  {
   "cell_type": "code",
   "execution_count": 166,
   "id": "e6fb00d2",
   "metadata": {},
   "outputs": [
    {
     "name": "stdout",
     "output_type": "stream",
     "text": [
      "['A', 'B', 'C', 'D', 'E', 'F', 'G', 'H', 'I', 'J', 'K', 'L', 'M', 'N', 'O', 'P', 'Q', 'R', 'S', 'T', 'U', 'V', 'W', 'X', 'Y', 'Z']\n"
     ]
    }
   ],
   "source": [
    "lst=[]\n",
    "\n",
    "for i in range(65,91):\n",
    "    lst+=[chr(i)]\n",
    "print(lst)"
   ]
  },
  {
   "cell_type": "code",
   "execution_count": 169,
   "id": "3a2e0401",
   "metadata": {},
   "outputs": [
    {
     "name": "stdout",
     "output_type": "stream",
     "text": [
      "['A', 'B', 'C', 'D', 'E', 'F', 'G', 'H', 'I', 'J', 'K', 'L', 'M', 'N', 'O', 'P', 'Q', 'R', 'S', 'T', 'U', 'V', 'W', 'X', 'Y', 'Z']\n"
     ]
    }
   ],
   "source": [
    "lst=[chr(i) for i in range(65,91)]\n",
    "print(lst)"
   ]
  },
  {
   "cell_type": "code",
   "execution_count": 172,
   "id": "971121ab",
   "metadata": {},
   "outputs": [
    {
     "name": "stdout",
     "output_type": "stream",
     "text": [
      "[1, 4, 9, 16, 25, 36, 49, 64, 81, 100]\n"
     ]
    }
   ],
   "source": [
    "# Create a list of the squares of the numbers from 1 to 10\n",
    "lst=[]\n",
    "for i in range(1,11):\n",
    "#     print(i**2)\n",
    "    lst+=[i**2]\n",
    "print(lst)"
   ]
  },
  {
   "cell_type": "code",
   "execution_count": 178,
   "id": "143a8492",
   "metadata": {},
   "outputs": [
    {
     "name": "stdout",
     "output_type": "stream",
     "text": [
      "[1, 4, 9, 16, 25, 36, 49, 64, 81, 100]\n"
     ]
    }
   ],
   "source": [
    "lst=[i**2 for i in range(1,11,1)]\n",
    "print(lst)"
   ]
  },
  {
   "cell_type": "code",
   "execution_count": 177,
   "id": "63e67c1d",
   "metadata": {},
   "outputs": [],
   "source": [
    "# [value for loop condition (optional)]"
   ]
  },
  {
   "cell_type": "code",
   "execution_count": 181,
   "id": "35c70065",
   "metadata": {},
   "outputs": [
    {
     "name": "stdout",
     "output_type": "stream",
     "text": [
      "[2, 4, 6, 8, 12, 14, 16, 18, 22, 24, 26, 28, 32, 34, 36, 38, 42, 44, 46, 48]\n"
     ]
    }
   ],
   "source": [
    "# Create a list of the numbers that are divisible by 2 but not divisible by 5 from 1 to 50\n",
    "lst=[]\n",
    "for i in range(1,51):\n",
    "    if i%2==0 and i%5!=0:\n",
    "#         print(i)\n",
    "        lst+=[i]\n",
    "print(lst)"
   ]
  },
  {
   "cell_type": "code",
   "execution_count": 183,
   "id": "b2af6416",
   "metadata": {},
   "outputs": [
    {
     "name": "stdout",
     "output_type": "stream",
     "text": [
      "[2, 4, 6, 8, 12, 14, 16, 18, 22, 24, 26, 28, 32, 34, 36, 38, 42, 44, 46, 48]\n"
     ]
    }
   ],
   "source": [
    "lst=[i for i in range(1,51) if i%2==0 and i%5!=0]\n",
    "print(lst)"
   ]
  },
  {
   "cell_type": "code",
   "execution_count": 184,
   "id": "3d5c272b",
   "metadata": {},
   "outputs": [],
   "source": [
    "# Create a list that has the squares of the even numbers and the cubes of the odd numbers using list comprehension\n",
    "# Output- [1,4,,27,16,125,36,343,64,729,100]"
   ]
  },
  {
   "cell_type": "code",
   "execution_count": 192,
   "id": "d69c4b33",
   "metadata": {},
   "outputs": [
    {
     "name": "stdout",
     "output_type": "stream",
     "text": [
      "1\n",
      "4\n",
      "27\n",
      "16\n",
      "125\n",
      "36\n",
      "343\n",
      "64\n",
      "729\n",
      "100\n",
      "[1, 4, 27, 16, 125, 36, 343, 64, 729, 100]\n"
     ]
    }
   ],
   "source": [
    "lst=[]\n",
    "\n",
    "for i in range(1,11):\n",
    "    if i%2==0:\n",
    "        print(i**2)\n",
    "        lst+=[i**2]\n",
    "    else:\n",
    "        print(i**3)\n",
    "        lst+=[i**3]\n",
    "print(lst)"
   ]
  },
  {
   "cell_type": "code",
   "execution_count": 193,
   "id": "a05798da",
   "metadata": {},
   "outputs": [],
   "source": [
    "# [ternary operator for loop]"
   ]
  },
  {
   "cell_type": "code",
   "execution_count": 195,
   "id": "92675232",
   "metadata": {},
   "outputs": [
    {
     "data": {
      "text/plain": [
       "27"
      ]
     },
     "execution_count": 195,
     "metadata": {},
     "output_type": "execute_result"
    }
   ],
   "source": [
    "i=3\n",
    "i**2 if i%2==0 else i**3"
   ]
  },
  {
   "cell_type": "code",
   "execution_count": 196,
   "id": "1a3e88ba",
   "metadata": {},
   "outputs": [
    {
     "name": "stdout",
     "output_type": "stream",
     "text": [
      "[1, 4, 27, 16, 125, 36, 343, 64, 729, 100]\n"
     ]
    }
   ],
   "source": [
    "lst=[i**2 if i%2==0 else i**3 for i in range(1,11)]\n",
    "print(lst)"
   ]
  },
  {
   "cell_type": "code",
   "execution_count": 197,
   "id": "37c2cb7a",
   "metadata": {},
   "outputs": [
    {
     "name": "stdout",
     "output_type": "stream",
     "text": [
      "Enter a value- 10\n",
      "Enter a value- 20\n",
      "Enter a value- 'Helo'\n",
      "Enter a value- 2.5\n",
      "Enter a value- (1,2,3,4,5)\n",
      "[10, 20, 'Helo', 2.5, (1, 2, 3, 4, 5)]\n"
     ]
    }
   ],
   "source": [
    "lst=[eval(input('Enter a value- ')) for i in range(5)]\n",
    "print(lst)"
   ]
  },
  {
   "cell_type": "code",
   "execution_count": 198,
   "id": "bf33e580",
   "metadata": {},
   "outputs": [],
   "source": [
    "# exp_1 if condition else exp_2"
   ]
  },
  {
   "cell_type": "code",
   "execution_count": 201,
   "id": "bc2aa255",
   "metadata": {},
   "outputs": [
    {
     "data": {
      "text/plain": [
       "[1, 4, 27, 16, 125, 36, 343, 64, 729, 100]"
      ]
     },
     "execution_count": 201,
     "metadata": {},
     "output_type": "execute_result"
    }
   ],
   "source": [
    "[i**2 if i%2==0 else i**3 for i in range(1,11)]"
   ]
  },
  {
   "cell_type": "code",
   "execution_count": 202,
   "id": "3c67aac4",
   "metadata": {},
   "outputs": [],
   "source": [
    "# Note- if condition after the loop\n",
    "# if...else.. before the loop"
   ]
  },
  {
   "cell_type": "markdown",
   "id": "37add702",
   "metadata": {},
   "source": [
    "# List methods"
   ]
  },
  {
   "cell_type": "code",
   "execution_count": 203,
   "id": "e5f83363",
   "metadata": {},
   "outputs": [
    {
     "name": "stdout",
     "output_type": "stream",
     "text": [
      "['__add__', '__class__', '__class_getitem__', '__contains__', '__delattr__', '__delitem__', '__dir__', '__doc__', '__eq__', '__format__', '__ge__', '__getattribute__', '__getitem__', '__gt__', '__hash__', '__iadd__', '__imul__', '__init__', '__init_subclass__', '__iter__', '__le__', '__len__', '__lt__', '__mul__', '__ne__', '__new__', '__reduce__', '__reduce_ex__', '__repr__', '__reversed__', '__rmul__', '__setattr__', '__setitem__', '__sizeof__', '__str__', '__subclasshook__', 'append', 'clear', 'copy', 'count', 'extend', 'index', 'insert', 'pop', 'remove', 'reverse', 'sort']\n"
     ]
    }
   ],
   "source": [
    "lst=[10,20,30,40,50]\n",
    "print(dir(lst))"
   ]
  },
  {
   "cell_type": "code",
   "execution_count": 204,
   "id": "1ee03458",
   "metadata": {},
   "outputs": [],
   "source": [
    "# 'append', 'clear', 'copy', 'count', 'extend', 'index', 'insert', 'pop', 'remove', 'reverse', 'sort'"
   ]
  },
  {
   "cell_type": "markdown",
   "id": "706f0ebc",
   "metadata": {},
   "source": [
    "# append()\n",
    "- It adds the element at the end of the list"
   ]
  },
  {
   "cell_type": "code",
   "execution_count": 205,
   "id": "5359f743",
   "metadata": {},
   "outputs": [],
   "source": [
    "# lst.append(value)"
   ]
  },
  {
   "cell_type": "code",
   "execution_count": 212,
   "id": "df5db1e2",
   "metadata": {},
   "outputs": [
    {
     "name": "stdout",
     "output_type": "stream",
     "text": [
      "[10, 20, 30]\n",
      "[10, 20, 30, 100]\n",
      "[10, 20, 30, 100, 'Python']\n",
      "[10, 20, 30, 100, 'Python', (1, 2, 3, 4, 5)]\n",
      "[10, 20, 30, 100, 'Python', (1, 2, 3, 4, 5), 0.25]\n",
      "[10, 20, 30, 100, 'Python', (1, 2, 3, 4, 5), 0.25, {2, 5}]\n"
     ]
    }
   ],
   "source": [
    "lst=[10,20,30]\n",
    "print(lst)\n",
    "\n",
    "lst.append(100)\n",
    "print(lst)\n",
    "\n",
    "lst.append('Python')\n",
    "print(lst)\n",
    "\n",
    "lst.append((1,2,3,4,5))\n",
    "print(lst)\n",
    "\n",
    "lst.append(0.25)\n",
    "print(lst)\n",
    "\n",
    "lst.append({2,5})\n",
    "print(lst)"
   ]
  },
  {
   "cell_type": "code",
   "execution_count": 213,
   "id": "8a0f7476",
   "metadata": {},
   "outputs": [
    {
     "name": "stdout",
     "output_type": "stream",
     "text": [
      "[1, 4, 27, 16, 125, 36, 343, 64, 729, 100]\n"
     ]
    }
   ],
   "source": [
    "lst=[]\n",
    "\n",
    "for i in range(1,11):\n",
    "    if i%2==0:\n",
    "#         print(i**2)\n",
    "        lst.append(i**2)\n",
    "    else:\n",
    "#         print(i**3)\n",
    "        lst.append(i**3)\n",
    "print(lst)"
   ]
  },
  {
   "cell_type": "markdown",
   "id": "73db4aaa",
   "metadata": {},
   "source": [
    "# extend()\n",
    "- It takes an iterable as an argument.\n",
    "- It adds the elements of the iterable to the list one by one"
   ]
  },
  {
   "cell_type": "code",
   "execution_count": 214,
   "id": "88fd97ec",
   "metadata": {},
   "outputs": [],
   "source": [
    "# lst.extend(iterable)"
   ]
  },
  {
   "cell_type": "code",
   "execution_count": 216,
   "id": "12e43c0a",
   "metadata": {},
   "outputs": [
    {
     "name": "stdout",
     "output_type": "stream",
     "text": [
      "[10, 20, 30]\n",
      "[10, 20, 30, 'P', 'y', 't', 'h', 'o', 'n']\n"
     ]
    }
   ],
   "source": [
    "lst=[10,20,30]\n",
    "print(lst)\n",
    "\n",
    "lst.extend('Python')\n",
    "print(lst)"
   ]
  },
  {
   "cell_type": "code",
   "execution_count": 217,
   "id": "d081d1cf",
   "metadata": {},
   "outputs": [
    {
     "name": "stdout",
     "output_type": "stream",
     "text": [
      "[10, 20, 30]\n",
      "[10, 20, 30, 'Python']\n"
     ]
    }
   ],
   "source": [
    "lst=[10,20,30]\n",
    "print(lst)\n",
    "\n",
    "lst.append('Python')\n",
    "print(lst)"
   ]
  },
  {
   "cell_type": "code",
   "execution_count": 218,
   "id": "693d6958",
   "metadata": {},
   "outputs": [
    {
     "name": "stdout",
     "output_type": "stream",
     "text": [
      "[10, 20, 30]\n",
      "[10, 20, 30, (5, 5, 5)]\n"
     ]
    }
   ],
   "source": [
    "lst=[10,20,30]\n",
    "print(lst)\n",
    "\n",
    "lst.append((5,5,5))\n",
    "print(lst)"
   ]
  },
  {
   "cell_type": "code",
   "execution_count": 219,
   "id": "549916d0",
   "metadata": {},
   "outputs": [
    {
     "name": "stdout",
     "output_type": "stream",
     "text": [
      "[10, 20, 30]\n",
      "[10, 20, 30, 5, 5, 5]\n"
     ]
    }
   ],
   "source": [
    "lst=[10,20,30]\n",
    "print(lst)\n",
    "\n",
    "lst.extend((5,5,5))\n",
    "print(lst)"
   ]
  },
  {
   "cell_type": "code",
   "execution_count": 220,
   "id": "96185a85",
   "metadata": {},
   "outputs": [],
   "source": [
    "# lst+=iterable # Internally extend method is applied"
   ]
  },
  {
   "cell_type": "code",
   "execution_count": 227,
   "id": "2bf52068",
   "metadata": {},
   "outputs": [
    {
     "name": "stdout",
     "output_type": "stream",
     "text": [
      "[10, 20, 30, 100, 200]\n"
     ]
    }
   ],
   "source": [
    "lst=[10,20,30]\n",
    "\n",
    "lst+={1:100,2:200}.values()\n",
    "print(lst)"
   ]
  },
  {
   "cell_type": "code",
   "execution_count": 231,
   "id": "54e99984",
   "metadata": {},
   "outputs": [
    {
     "data": {
      "text/plain": [
       "[10, 20, 30, 'Python']"
      ]
     },
     "execution_count": 231,
     "metadata": {},
     "output_type": "execute_result"
    }
   ],
   "source": [
    "lst=[10,20,30]\n",
    "lst=lst+['Python']\n",
    "lst"
   ]
  },
  {
   "cell_type": "code",
   "execution_count": 232,
   "id": "860acd3f",
   "metadata": {},
   "outputs": [],
   "source": [
    "# lst=lst+[] - Concatenation\n",
    "# lst+=iterable - extend()"
   ]
  },
  {
   "cell_type": "code",
   "execution_count": 237,
   "id": "ffd6e9bd",
   "metadata": {},
   "outputs": [
    {
     "name": "stdout",
     "output_type": "stream",
     "text": [
      "['Hello']\n"
     ]
    }
   ],
   "source": [
    "lst=[]\n",
    "lst=lst+['Hello']\n",
    "print(lst)"
   ]
  },
  {
   "cell_type": "code",
   "execution_count": 238,
   "id": "72d97a86",
   "metadata": {},
   "outputs": [
    {
     "name": "stdout",
     "output_type": "stream",
     "text": [
      "['H', 'e', 'l', 'l', 'o']\n"
     ]
    }
   ],
   "source": [
    "lst=[]\n",
    "lst+='Hello'\n",
    "print(lst)"
   ]
  },
  {
   "cell_type": "code",
   "execution_count": 239,
   "id": "87d9ade9",
   "metadata": {},
   "outputs": [
    {
     "name": "stdout",
     "output_type": "stream",
     "text": [
      "\n",
      "\n",
      "Python\n",
      "Python\n",
      "False\n",
      "True\n"
     ]
    }
   ],
   "source": [
    "a = 'Python'\n",
    "b = ''\n",
    "\n",
    "#Apply logical opereators (and, or & not) on above string values and observe the output.\n",
    "print(a and b)\n",
    "print(b and a)\n",
    "print(a or b)\n",
    "print(b or a)\n",
    "print(not a)\n",
    "print(not b)\n"
   ]
  },
  {
   "cell_type": "code",
   "execution_count": 241,
   "id": "e9567e4b",
   "metadata": {},
   "outputs": [
    {
     "data": {
      "text/plain": [
       "(True, False)"
      ]
     },
     "execution_count": 241,
     "metadata": {},
     "output_type": "execute_result"
    }
   ],
   "source": [
    "bool('Python'),bool('')"
   ]
  },
  {
   "cell_type": "code",
   "execution_count": 243,
   "id": "7e63e1b1",
   "metadata": {},
   "outputs": [
    {
     "data": {
      "text/plain": [
       "''"
      ]
     },
     "execution_count": 243,
     "metadata": {},
     "output_type": "execute_result"
    }
   ],
   "source": [
    "a and b"
   ]
  },
  {
   "cell_type": "code",
   "execution_count": null,
   "id": "5ef1a212",
   "metadata": {},
   "outputs": [],
   "source": [
    "'a' and 'b'"
   ]
  },
  {
   "cell_type": "code",
   "execution_count": 245,
   "id": "0e048cfb",
   "metadata": {},
   "outputs": [
    {
     "data": {
      "text/plain": [
       "(True, True)"
      ]
     },
     "execution_count": 245,
     "metadata": {},
     "output_type": "execute_result"
    }
   ],
   "source": [
    "bool('a'),bool('b')"
   ]
  },
  {
   "cell_type": "code",
   "execution_count": 246,
   "id": "0732b49f",
   "metadata": {},
   "outputs": [
    {
     "data": {
      "text/plain": [
       "True"
      ]
     },
     "execution_count": 246,
     "metadata": {},
     "output_type": "execute_result"
    }
   ],
   "source": [
    "True and True"
   ]
  },
  {
   "cell_type": "code",
   "execution_count": 247,
   "id": "d4fb331f",
   "metadata": {},
   "outputs": [
    {
     "data": {
      "text/plain": [
       "'b'"
      ]
     },
     "execution_count": 247,
     "metadata": {},
     "output_type": "execute_result"
    }
   ],
   "source": [
    "'a' and 'b'"
   ]
  },
  {
   "cell_type": "code",
   "execution_count": 249,
   "id": "fb3686f4",
   "metadata": {},
   "outputs": [
    {
     "data": {
      "text/plain": [
       "False"
      ]
     },
     "execution_count": 249,
     "metadata": {},
     "output_type": "execute_result"
    }
   ],
   "source": [
    "False and True"
   ]
  },
  {
   "cell_type": "code",
   "execution_count": 251,
   "id": "6e207401",
   "metadata": {},
   "outputs": [
    {
     "data": {
      "text/plain": [
       "(False, True)"
      ]
     },
     "execution_count": 251,
     "metadata": {},
     "output_type": "execute_result"
    }
   ],
   "source": [
    "bool(0+0j), bool(5j)"
   ]
  },
  {
   "cell_type": "code",
   "execution_count": 252,
   "id": "fbf23510",
   "metadata": {},
   "outputs": [
    {
     "data": {
      "text/plain": [
       "0j"
      ]
     },
     "execution_count": 252,
     "metadata": {},
     "output_type": "execute_result"
    }
   ],
   "source": [
    "0+0j"
   ]
  },
  {
   "cell_type": "code",
   "execution_count": 253,
   "id": "ede4772f",
   "metadata": {},
   "outputs": [
    {
     "name": "stdout",
     "output_type": "stream",
     "text": [
      "True\n",
      "True\n",
      "True\n",
      "False\n"
     ]
    }
   ],
   "source": [
    "str1 = 'Python'\n",
    "str2 = 'Python'\n",
    "#Compare str1 and str2 and print True using comparison operator\n",
    "#Compare str1 and str2 and print True using equality operator\n",
    "#Compare str1 and str2 and print False using equality operator\n",
    "#Compare str1 and str2 and print False using comparison operator\n",
    "\n",
    "print(str1<=str2)\n",
    "print(str1>=str2)\n",
    "print(str1==str2)\n",
    "print(str1!=str2)\n"
   ]
  },
  {
   "cell_type": "code",
   "execution_count": 259,
   "id": "0ba38edb",
   "metadata": {},
   "outputs": [
    {
     "name": "stdout",
     "output_type": "stream",
     "text": [
      "True\n",
      "False\n",
      "False\n",
      "True\n"
     ]
    }
   ],
   "source": [
    "str1 = 'python'\n",
    "str2 = 'Python'\n",
    "#Compare str1 and str2 and print True using comparison operator\n",
    "#Compare str1 and str2 and print True using equality operator\n",
    "#Compare str1 and str2 and print False using equality operator\n",
    "#Compare str1 and str2 and print False using comparison operator\n",
    "\n",
    "print(str1>=str2)\n",
    "print(str1<=str2)\n",
    "print(str1==str2)\n",
    "print(str1!=str2)"
   ]
  },
  {
   "cell_type": "code",
   "execution_count": null,
   "id": "3a0325b5",
   "metadata": {},
   "outputs": [],
   "source": [
    "my_str = \"Although 8 that way may not be obvious at first unless you're Dutch\"\n",
    "\n",
    "#Write the code to get the total count of 't' in above string. Use find() and index() method.\n"
   ]
  }
 ],
 "metadata": {
  "kernelspec": {
   "display_name": "Python 3 (ipykernel)",
   "language": "python",
   "name": "python3"
  },
  "language_info": {
   "codemirror_mode": {
    "name": "ipython",
    "version": 3
   },
   "file_extension": ".py",
   "mimetype": "text/x-python",
   "name": "python",
   "nbconvert_exporter": "python",
   "pygments_lexer": "ipython3",
   "version": "3.9.13"
  }
 },
 "nbformat": 4,
 "nbformat_minor": 5
}
