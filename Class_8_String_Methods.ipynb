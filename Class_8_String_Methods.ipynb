{
 "cells": [
  {
   "cell_type": "markdown",
   "id": "c988fc26",
   "metadata": {},
   "source": [
    "# count()"
   ]
  },
  {
   "cell_type": "markdown",
   "id": "de7341bb",
   "metadata": {},
   "source": [
    "- It counts the number of occurences of a character or a substring. "
   ]
  },
  {
   "cell_type": "code",
   "execution_count": 12,
   "id": "c2d39b87",
   "metadata": {},
   "outputs": [],
   "source": [
    "# my_str.count(charcter)\n",
    "# my_str.count('character',start_index)\n",
    "# my_str.count('character',start_index,stop_index)\n",
    "# Stop index will be excluded"
   ]
  },
  {
   "cell_type": "code",
   "execution_count": 6,
   "id": "f469f257",
   "metadata": {},
   "outputs": [
    {
     "name": "stdout",
     "output_type": "stream",
     "text": [
      "2\n",
      "2\n",
      "1\n",
      "0\n"
     ]
    }
   ],
   "source": [
    "my_str='Hello Python'\n",
    "print(my_str.count('l'))\n",
    "print(my_str.count('o'))\n",
    "print(my_str.count('H'))\n",
    "print(my_str.count('x'))"
   ]
  },
  {
   "cell_type": "code",
   "execution_count": 1,
   "id": "6b89b5cc",
   "metadata": {},
   "outputs": [
    {
     "name": "stdout",
     "output_type": "stream",
     "text": [
      "1\n",
      "2\n",
      "0\n",
      "2\n"
     ]
    }
   ],
   "source": [
    "my_str='Hello Python, Python'\n",
    "# Afetr 7th index how many o's we do have?\n",
    "my_str.count('o',7)\n",
    "\n",
    "# Between 3rd and 6th index how many o's we do have?\n",
    "print(my_str.count('o',3,7))\n",
    "\n",
    "print(my_str.count('Py'))\n",
    "print(my_str.count('PY'))\n",
    "print(my_str.count('Python'))"
   ]
  },
  {
   "cell_type": "markdown",
   "id": "bbda2796",
   "metadata": {},
   "source": [
    "# index()"
   ]
  },
  {
   "cell_type": "markdown",
   "id": "4116d1ac",
   "metadata": {},
   "source": [
    "- It returns the index of the first occurence from left to right of the specified character.\n",
    "- If the character is not found then it throws value error."
   ]
  },
  {
   "cell_type": "code",
   "execution_count": 38,
   "id": "50b74ba8",
   "metadata": {},
   "outputs": [],
   "source": [
    "# my_str.index('character')\n",
    "# my_str.index('character',start_index)\n",
    "# my_str.index('character',start_index, stop_index)\n",
    "# Stop index is excluded"
   ]
  },
  {
   "cell_type": "code",
   "execution_count": 46,
   "id": "26efd946",
   "metadata": {},
   "outputs": [
    {
     "name": "stdout",
     "output_type": "stream",
     "text": [
      "10\n",
      "0\n",
      "2\n",
      "7\n",
      "1\n",
      "5\n",
      "13\n"
     ]
    }
   ],
   "source": [
    "my_str='This h is Python class'\n",
    "my_str.index('P')\n",
    "print(my_str.index('Python'))\n",
    "print(my_str.index('This'))\n",
    "print(my_str.index('i'))\n",
    "print(my_str.index('i',3))\n",
    "print(my_str.index('h'))\n",
    "print(my_str.index('h',2,12))\n",
    "print(my_str.index('h',6,15))\n",
    "# print(my_str.index('python'))"
   ]
  },
  {
   "cell_type": "code",
   "execution_count": 48,
   "id": "a654f4ef",
   "metadata": {},
   "outputs": [
    {
     "name": "stdout",
     "output_type": "stream",
     "text": [
      "5\n"
     ]
    }
   ],
   "source": [
    "print(my_str.index('h',2,11))"
   ]
  },
  {
   "cell_type": "markdown",
   "id": "eb298166",
   "metadata": {},
   "source": [
    "# find()"
   ]
  },
  {
   "cell_type": "markdown",
   "id": "a0b8f77f",
   "metadata": {},
   "source": [
    "- It returns the index of the first occurence from left to right of the specified character or substring.\n",
    "- If the character or substring is not found then it returns -1."
   ]
  },
  {
   "cell_type": "code",
   "execution_count": 55,
   "id": "91715724",
   "metadata": {},
   "outputs": [],
   "source": [
    "# my_str.find('charcter')\n",
    "# my_str.find('charcter',start_index)\n",
    "# my_str.find('charcter',start_index,stop_index)"
   ]
  },
  {
   "cell_type": "code",
   "execution_count": 59,
   "id": "79139861",
   "metadata": {},
   "outputs": [
    {
     "name": "stdout",
     "output_type": "stream",
     "text": [
      "0\n",
      "2\n",
      "5\n",
      "17\n",
      "6\n",
      "-1\n",
      "10\n"
     ]
    }
   ],
   "source": [
    "my_str='This is s Python i class'\n",
    "\n",
    "print(my_str.find('T'))\n",
    "print(my_str.find('i'))\n",
    "print(my_str.find('i',3))\n",
    "\n",
    "# Get the index of 3rd i\n",
    "print(my_str.find('i',6))\n",
    "\n",
    "print(my_str.find('s',5,10))\n",
    "\n",
    "print(my_str.find('x'))\n",
    "\n",
    "print(my_str.find('Python'))"
   ]
  },
  {
   "cell_type": "markdown",
   "id": "7378fc29",
   "metadata": {},
   "source": [
    "# rfind()"
   ]
  },
  {
   "cell_type": "markdown",
   "id": "e56d56f4",
   "metadata": {},
   "source": [
    "- It reads the string from right to left.\n",
    "- It returns the index of the first occurence from right to left of the specified character or substring.\n",
    "- If the character is not found then it returns -1.\n",
    "- **Note-** It only reads the string from right to left but returns the actual index."
   ]
  },
  {
   "cell_type": "code",
   "execution_count": 65,
   "id": "e3837681",
   "metadata": {},
   "outputs": [],
   "source": [
    "# my_str.rfind('character')\n",
    "# my_str.rfind('character',start_index)\n",
    "# my_str.rfind('character',start_index,stop_index)"
   ]
  },
  {
   "cell_type": "code",
   "execution_count": 69,
   "id": "e1ee7512",
   "metadata": {},
   "outputs": [
    {
     "name": "stdout",
     "output_type": "stream",
     "text": [
      "20\n",
      "29\n",
      "34\n",
      "23\n",
      "14\n",
      "-1\n"
     ]
    }
   ],
   "source": [
    "my_str='Hello This is s Python i class Java'\n",
    "\n",
    "print(my_str.rfind('o'))\n",
    "print(my_str.rfind('s'))\n",
    "\n",
    "print(my_str.rfind('a',20))\n",
    "print(my_str.rfind('i',20))\n",
    "print(my_str.rfind('s',10,19))\n",
    "print(my_str.rfind('x'))"
   ]
  },
  {
   "cell_type": "code",
   "execution_count": 63,
   "id": "dd54ff55",
   "metadata": {},
   "outputs": [
    {
     "data": {
      "text/plain": [
       "29"
      ]
     },
     "execution_count": 63,
     "metadata": {},
     "output_type": "execute_result"
    }
   ],
   "source": [
    "len(my_str)-1"
   ]
  },
  {
   "cell_type": "markdown",
   "id": "9426672c",
   "metadata": {},
   "source": [
    "# split()"
   ]
  },
  {
   "cell_type": "markdown",
   "id": "db5bc590",
   "metadata": {},
   "source": [
    "- It splits the string from the specified character and returns a list.\n",
    "- By default it splits from the space character."
   ]
  },
  {
   "cell_type": "code",
   "execution_count": 70,
   "id": "b0684ab4",
   "metadata": {},
   "outputs": [],
   "source": [
    "# my_str.split('character')"
   ]
  },
  {
   "cell_type": "code",
   "execution_count": 77,
   "id": "28b6d2f9",
   "metadata": {},
   "outputs": [
    {
     "name": "stdout",
     "output_type": "stream",
     "text": [
      "['This', 'is', 'Python', 'class'] <class 'list'>\n",
      "4\n"
     ]
    }
   ],
   "source": [
    "my_str='This@is@Python@class'\n",
    "x=my_str.split('@')\n",
    "print(x,type(x))\n",
    "print(len(x))"
   ]
  },
  {
   "cell_type": "code",
   "execution_count": 81,
   "id": "ee657d9e",
   "metadata": {},
   "outputs": [
    {
     "name": "stdout",
     "output_type": "stream",
     "text": [
      "['Hello', 'everyone!', 'how', 'are', 'you?'] <class 'list'>\n",
      "5\n"
     ]
    }
   ],
   "source": [
    "my_str='Hello everyone! how are you?'\n",
    "lst=my_str.split()\n",
    "print(lst,type(lst))\n",
    "print(len(lst))"
   ]
  },
  {
   "cell_type": "code",
   "execution_count": 86,
   "id": "2dd5f581",
   "metadata": {},
   "outputs": [],
   "source": [
    "# lst[3]"
   ]
  },
  {
   "cell_type": "code",
   "execution_count": 87,
   "id": "8813fb06",
   "metadata": {},
   "outputs": [
    {
     "name": "stdout",
     "output_type": "stream",
     "text": [
      "['100', '200', '300', '400']\n"
     ]
    }
   ],
   "source": [
    "my_str='100+200+300+400'\n",
    "lst=my_str.split('+')\n",
    "print(lst)"
   ]
  },
  {
   "cell_type": "code",
   "execution_count": 88,
   "id": "ab21c391",
   "metadata": {},
   "outputs": [
    {
     "name": "stdout",
     "output_type": "stream",
     "text": [
      "Hello everyone!\n",
      "This is Python class.\n",
      "We are learning strings.\n",
      "Thank you!\n"
     ]
    }
   ],
   "source": [
    "my_str='''Hello everyone!\n",
    "This is Python class.\n",
    "We are learning strings.\n",
    "Thank you!'''\n",
    "print(my_str)"
   ]
  },
  {
   "cell_type": "code",
   "execution_count": 89,
   "id": "2d52e739",
   "metadata": {},
   "outputs": [
    {
     "data": {
      "text/plain": [
       "'Hello everyone!\\nThis is Python class.\\nWe are learning strings.\\nThank you!'"
      ]
     },
     "execution_count": 89,
     "metadata": {},
     "output_type": "execute_result"
    }
   ],
   "source": [
    "my_str"
   ]
  },
  {
   "cell_type": "code",
   "execution_count": 91,
   "id": "c23bda73",
   "metadata": {},
   "outputs": [
    {
     "name": "stdout",
     "output_type": "stream",
     "text": [
      "['Hello everyone!', 'This is Python class.', 'We are learning strings.', 'Thank you!']\n"
     ]
    }
   ],
   "source": [
    "lst=my_str.split('\\n')\n",
    "print(lst)"
   ]
  },
  {
   "cell_type": "markdown",
   "id": "c9c3cc49",
   "metadata": {},
   "source": [
    "# splitlines()"
   ]
  },
  {
   "cell_type": "markdown",
   "id": "d8ff9a69",
   "metadata": {},
   "source": [
    "- By default it splits from the \\n character."
   ]
  },
  {
   "cell_type": "code",
   "execution_count": 94,
   "id": "af055129",
   "metadata": {},
   "outputs": [
    {
     "name": "stdout",
     "output_type": "stream",
     "text": [
      "['Hello everyone!', 'This is Python class.', 'We are learning strings.', 'Thank you!']\n"
     ]
    }
   ],
   "source": [
    "lst=my_str.splitlines()\n",
    "print(lst)"
   ]
  },
  {
   "cell_type": "markdown",
   "id": "797695df",
   "metadata": {},
   "source": [
    "# join()"
   ]
  },
  {
   "cell_type": "markdown",
   "id": "4da432bc",
   "metadata": {},
   "source": [
    "- It combines the elements of a list seperated by the specified character and returns a string."
   ]
  },
  {
   "cell_type": "code",
   "execution_count": 96,
   "id": "7bb1fe7f",
   "metadata": {},
   "outputs": [],
   "source": [
    "# 'charcter'.join(lst)"
   ]
  },
  {
   "cell_type": "code",
   "execution_count": 95,
   "id": "2b68d4b4",
   "metadata": {},
   "outputs": [
    {
     "name": "stdout",
     "output_type": "stream",
     "text": [
      "['Hello', 'This', 'is', 'not', 'Java', 'class']\n"
     ]
    }
   ],
   "source": [
    "lst=['Hello','This','is','not','Java','class']\n",
    "print(lst)\n",
    "\n",
    "# Output-'Hello This is not Java class'"
   ]
  },
  {
   "cell_type": "code",
   "execution_count": 98,
   "id": "dc39f16c",
   "metadata": {},
   "outputs": [
    {
     "name": "stdout",
     "output_type": "stream",
     "text": [
      "Hello This is not Java class <class 'str'>\n"
     ]
    }
   ],
   "source": [
    "x=' '.join(lst)\n",
    "print(x,type(x))"
   ]
  },
  {
   "cell_type": "code",
   "execution_count": 108,
   "id": "c927fe01",
   "metadata": {},
   "outputs": [
    {
     "name": "stdout",
     "output_type": "stream",
     "text": [
      "HelloThisisnotJavaclass\n"
     ]
    }
   ],
   "source": [
    "x=''.join(lst)\n",
    "print(x)"
   ]
  },
  {
   "cell_type": "code",
   "execution_count": 109,
   "id": "33a5fad0",
   "metadata": {},
   "outputs": [
    {
     "name": "stdout",
     "output_type": "stream",
     "text": [
      "Hello+This+is+not+Java+class\n"
     ]
    }
   ],
   "source": [
    "x='+'.join(lst)\n",
    "print(x)"
   ]
  },
  {
   "cell_type": "code",
   "execution_count": 110,
   "id": "89644669",
   "metadata": {},
   "outputs": [
    {
     "name": "stdout",
     "output_type": "stream",
     "text": [
      "Hello\n",
      "This\n",
      "is\n",
      "not\n",
      "Java\n",
      "class\n"
     ]
    }
   ],
   "source": [
    "x='\\n'.join(lst)\n",
    "print(x)"
   ]
  },
  {
   "cell_type": "code",
   "execution_count": 111,
   "id": "fa2be6b7",
   "metadata": {},
   "outputs": [
    {
     "name": "stdout",
     "output_type": "stream",
     "text": [
      "Hello\tThis\tis\tnot\tJava\tclass\n"
     ]
    }
   ],
   "source": [
    "x='\\t'.join(lst)\n",
    "print(x)"
   ]
  },
  {
   "cell_type": "markdown",
   "id": "3ea4fa4c",
   "metadata": {},
   "source": [
    "# strip()"
   ]
  },
  {
   "cell_type": "markdown",
   "id": "1feecee7",
   "metadata": {},
   "source": [
    "- It removes the specified characters from the left and the right side of the string.\n",
    "- By default it removes the space charcters from the left and the right side of the string.\n",
    "- **Note-** It removes the boundary characters not the charcters in between the string."
   ]
  },
  {
   "cell_type": "code",
   "execution_count": 116,
   "id": "efe63bae",
   "metadata": {},
   "outputs": [],
   "source": [
    "# my_str.strip('charcter')"
   ]
  },
  {
   "cell_type": "code",
   "execution_count": 120,
   "id": "5ab4d6fd",
   "metadata": {},
   "outputs": [
    {
     "name": "stdout",
     "output_type": "stream",
     "text": [
      "$150$ <class 'str'>\n"
     ]
    },
    {
     "data": {
      "text/plain": [
       "150"
      ]
     },
     "execution_count": 120,
     "metadata": {},
     "output_type": "execute_result"
    }
   ],
   "source": [
    "price='$150$'\n",
    "print(price,type(price))\n",
    "# int(price)\n",
    "\n",
    "price=price.strip('$')\n",
    "int(price)"
   ]
  },
  {
   "cell_type": "code",
   "execution_count": 123,
   "id": "278ccb04",
   "metadata": {},
   "outputs": [
    {
     "name": "stdout",
     "output_type": "stream",
     "text": [
      "$120\n",
      "120\n"
     ]
    }
   ],
   "source": [
    "price='$120'\n",
    "print(price)\n",
    "print(price.strip('$'))"
   ]
  },
  {
   "cell_type": "code",
   "execution_count": 1,
   "id": "e1a84346",
   "metadata": {},
   "outputs": [
    {
     "data": {
      "text/plain": [
       "'   Python    '"
      ]
     },
     "execution_count": 1,
     "metadata": {},
     "output_type": "execute_result"
    }
   ],
   "source": [
    "my_str='   Python    '\n",
    "my_str"
   ]
  },
  {
   "cell_type": "code",
   "execution_count": 2,
   "id": "621e4bd7",
   "metadata": {},
   "outputs": [
    {
     "data": {
      "text/plain": [
       "'Python'"
      ]
     },
     "execution_count": 2,
     "metadata": {},
     "output_type": "execute_result"
    }
   ],
   "source": [
    "my_str.strip()"
   ]
  },
  {
   "cell_type": "code",
   "execution_count": 3,
   "id": "a6ad56a3",
   "metadata": {},
   "outputs": [
    {
     "data": {
      "text/plain": [
       "'     Python class    '"
      ]
     },
     "execution_count": 3,
     "metadata": {},
     "output_type": "execute_result"
    }
   ],
   "source": [
    "my_str='     Python class    '\n",
    "my_str"
   ]
  },
  {
   "cell_type": "code",
   "execution_count": 4,
   "id": "aa3834cc",
   "metadata": {},
   "outputs": [
    {
     "data": {
      "text/plain": [
       "'Python class'"
      ]
     },
     "execution_count": 4,
     "metadata": {},
     "output_type": "execute_result"
    }
   ],
   "source": [
    "my_str.strip()"
   ]
  },
  {
   "cell_type": "code",
   "execution_count": 5,
   "id": "6025daa9",
   "metadata": {},
   "outputs": [
    {
     "data": {
      "text/plain": [
       "'$12$0$'"
      ]
     },
     "execution_count": 5,
     "metadata": {},
     "output_type": "execute_result"
    }
   ],
   "source": [
    "my_str='$12$0$'\n",
    "my_str"
   ]
  },
  {
   "cell_type": "code",
   "execution_count": 6,
   "id": "604c2b8a",
   "metadata": {},
   "outputs": [
    {
     "data": {
      "text/plain": [
       "'12$0'"
      ]
     },
     "execution_count": 6,
     "metadata": {},
     "output_type": "execute_result"
    }
   ],
   "source": [
    "my_str.strip('$')"
   ]
  },
  {
   "cell_type": "markdown",
   "id": "4b403b9c",
   "metadata": {},
   "source": [
    "# lstrip()"
   ]
  },
  {
   "cell_type": "markdown",
   "id": "dfac1a9d",
   "metadata": {},
   "source": [
    "- It removes the specified charcter from the left side only of the string.\n",
    "- By default it removes the space character."
   ]
  },
  {
   "cell_type": "code",
   "execution_count": 9,
   "id": "671a6dad",
   "metadata": {},
   "outputs": [
    {
     "name": "stdout",
     "output_type": "stream",
     "text": [
      "$150$\n",
      "150$\n"
     ]
    }
   ],
   "source": [
    "my_str='$150$'\n",
    "# Output- '150$'\n",
    "\n",
    "print(my_str)\n",
    "print(my_str.lstrip('$'))"
   ]
  },
  {
   "cell_type": "code",
   "execution_count": 12,
   "id": "760e80b5",
   "metadata": {},
   "outputs": [
    {
     "name": "stdout",
     "output_type": "stream",
     "text": [
      "$150$0$\n",
      "150$0$\n"
     ]
    }
   ],
   "source": [
    "my_str='$150$0$'\n",
    "print(my_str)\n",
    "\n",
    "print(my_str.lstrip('$'))"
   ]
  },
  {
   "cell_type": "markdown",
   "id": "cd22e0a8",
   "metadata": {},
   "source": [
    "# rstrip()"
   ]
  },
  {
   "cell_type": "markdown",
   "id": "8545d94b",
   "metadata": {},
   "source": [
    "- It removes the specified character from the right side of the string.\n",
    "- By default it removes the space character."
   ]
  },
  {
   "cell_type": "code",
   "execution_count": 16,
   "id": "197c7fef",
   "metadata": {},
   "outputs": [
    {
     "name": "stdout",
     "output_type": "stream",
     "text": [
      "*******Python*******\n",
      "*******Python\n"
     ]
    }
   ],
   "source": [
    "my_str='*******Python*******'\n",
    "# Output- *******Python\n",
    "\n",
    "print(my_str)\n",
    "\n",
    "print(my_str.rstrip('*'))"
   ]
  },
  {
   "cell_type": "code",
   "execution_count": 17,
   "id": "dc398776",
   "metadata": {},
   "outputs": [
    {
     "data": {
      "text/plain": [
       "'     Pthon class    '"
      ]
     },
     "execution_count": 17,
     "metadata": {},
     "output_type": "execute_result"
    }
   ],
   "source": [
    "my_str='     Pthon class    '\n",
    "my_str"
   ]
  },
  {
   "cell_type": "code",
   "execution_count": 18,
   "id": "3bd4dd12",
   "metadata": {},
   "outputs": [
    {
     "data": {
      "text/plain": [
       "'     Pthon class'"
      ]
     },
     "execution_count": 18,
     "metadata": {},
     "output_type": "execute_result"
    }
   ],
   "source": [
    "my_str.rstrip()"
   ]
  },
  {
   "cell_type": "code",
   "execution_count": 23,
   "id": "ec4ac5b5",
   "metadata": {},
   "outputs": [
    {
     "name": "stdout",
     "output_type": "stream",
     "text": [
      "####******Pyt***###hon******#####\n"
     ]
    },
    {
     "data": {
      "text/plain": [
       "'Pyt***###hon'"
      ]
     },
     "execution_count": 23,
     "metadata": {},
     "output_type": "execute_result"
    }
   ],
   "source": [
    "my_str='####******Pyt***###hon******#####'\n",
    "print(my_str)\n",
    "\n",
    "my_str.strip('*#')"
   ]
  },
  {
   "cell_type": "markdown",
   "id": "53ebc54a",
   "metadata": {},
   "source": [
    "# ljust(), rjust(), center()"
   ]
  },
  {
   "cell_type": "markdown",
   "id": "f5947c9b",
   "metadata": {},
   "source": [
    "- These are the justification methods.\n",
    "- These functions are used to add specified charcters on the left side or the side or both sides of the string."
   ]
  },
  {
   "cell_type": "markdown",
   "id": "3a0db470",
   "metadata": {},
   "source": [
    "# ljust()"
   ]
  },
  {
   "cell_type": "markdown",
   "id": "9d338fbe",
   "metadata": {},
   "source": [
    "- It reads the string from left to right.\n",
    "- It adds the specified charcters to the right side of the string."
   ]
  },
  {
   "cell_type": "code",
   "execution_count": 26,
   "id": "ebe3f2ae",
   "metadata": {},
   "outputs": [],
   "source": [
    "# my_str.ljust(length of the resultant string,'charcter')\n",
    "# my_str.ljust(len(my_str)+number of characters,'character')"
   ]
  },
  {
   "cell_type": "code",
   "execution_count": 35,
   "id": "3fddc871",
   "metadata": {},
   "outputs": [
    {
     "data": {
      "text/plain": [
       "'Python++'"
      ]
     },
     "execution_count": 35,
     "metadata": {},
     "output_type": "execute_result"
    }
   ],
   "source": [
    "my_str='Python'\n",
    "# Output- Python++\n",
    "\n",
    "my_str.ljust(len(my_str)+2,'+')"
   ]
  },
  {
   "cell_type": "code",
   "execution_count": 36,
   "id": "a9c567f0",
   "metadata": {},
   "outputs": [
    {
     "data": {
      "text/plain": [
       "'Hello everyone! Data Science**********'"
      ]
     },
     "execution_count": 36,
     "metadata": {},
     "output_type": "execute_result"
    }
   ],
   "source": [
    "# Add 10 * on the right side of the following string\n",
    "\n",
    "my_str='Hello everyone! Data Science'\n",
    "my_str.ljust(len(my_str)+10,'*')"
   ]
  },
  {
   "cell_type": "markdown",
   "id": "bcf352ed",
   "metadata": {},
   "source": [
    "# rjust()"
   ]
  },
  {
   "cell_type": "markdown",
   "id": "963a9cad",
   "metadata": {},
   "source": [
    "- It reads the string from right to left.\n",
    "- It adds the specified charcter on the left side of the  string."
   ]
  },
  {
   "cell_type": "code",
   "execution_count": 37,
   "id": "2c0f0669",
   "metadata": {},
   "outputs": [],
   "source": [
    "# my_str.rjust(length of the resultatnt string,'character')\n",
    "# my_str.rjust(len(my_str)+number of charcters,'character')"
   ]
  },
  {
   "cell_type": "code",
   "execution_count": 44,
   "id": "f507fed3",
   "metadata": {},
   "outputs": [
    {
     "name": "stdout",
     "output_type": "stream",
     "text": [
      "Data\n",
      "****Data\n",
      "****Data\n"
     ]
    }
   ],
   "source": [
    "my_str='Data'\n",
    "# Output- ****Data\n",
    "print(my_str)\n",
    "\n",
    "print(my_str.rjust(4+4,'*'))\n",
    "print(my_str.rjust(len(my_str)+4,'*'))"
   ]
  },
  {
   "cell_type": "markdown",
   "id": "cf03797a",
   "metadata": {},
   "source": [
    "# center()"
   ]
  },
  {
   "cell_type": "markdown",
   "id": "4140dec0",
   "metadata": {},
   "source": [
    "- It adds the specified character on both sides of the string."
   ]
  },
  {
   "cell_type": "code",
   "execution_count": 45,
   "id": "2f5c9895",
   "metadata": {},
   "outputs": [],
   "source": [
    "# my_str.center(length of the resultant string,'charcter')\n",
    "# my_str.center(len(my_str)+number of characters,'charcter')"
   ]
  },
  {
   "cell_type": "code",
   "execution_count": 53,
   "id": "6f39d1a9",
   "metadata": {},
   "outputs": [
    {
     "name": "stdout",
     "output_type": "stream",
     "text": [
      "**Data**\n",
      "***Data***\n",
      "****Data****\n",
      "*****Data****\n",
      "**Data*\n"
     ]
    }
   ],
   "source": [
    "my_str='Data'\n",
    "# Output- '**Data**'\n",
    "\n",
    "print(my_str.center(len(my_str)+4,'*'))\n",
    "print(my_str.center(len(my_str)+6,'*'))\n",
    "print(my_str.center(len(my_str)+8,'*'))\n",
    "print(my_str.center(len(my_str)+9,'*'))\n",
    "print(my_str.center(len(my_str)+3,'*'))"
   ]
  },
  {
   "cell_type": "code",
   "execution_count": 62,
   "id": "5e98d7e7",
   "metadata": {},
   "outputs": [
    {
     "data": {
      "text/plain": [
       "'++Data**'"
      ]
     },
     "execution_count": 62,
     "metadata": {},
     "output_type": "execute_result"
    }
   ],
   "source": [
    "my_str='Data'\n",
    "# Output- '++Data**'\n",
    "\n",
    "my_str.ljust(len(my_str)+2,'*').rjust(len(my_str)+2+2,'+')"
   ]
  },
  {
   "cell_type": "code",
   "execution_count": 67,
   "id": "ddb34999",
   "metadata": {},
   "outputs": [
    {
     "name": "stdout",
     "output_type": "stream",
     "text": [
      "Data** 6\n",
      "++Data**\n"
     ]
    }
   ],
   "source": [
    "my_str='Data'\n",
    "l=my_str.ljust(len(my_str)+2,'*')\n",
    "print(l,len(l))\n",
    "\n",
    "res=l.rjust(len(l)+2,'+')\n",
    "print(res)"
   ]
  },
  {
   "cell_type": "markdown",
   "id": "f3a37aaa",
   "metadata": {},
   "source": [
    "# isalnum()"
   ]
  },
  {
   "cell_type": "markdown",
   "id": "3d25f877",
   "metadata": {},
   "source": [
    "- It returns True if all the the charcters in the string are alphanumeric else it returns False.\n",
    "- **Alphanumeric** 0-9, A-Z, a-z"
   ]
  },
  {
   "cell_type": "code",
   "execution_count": 72,
   "id": "f0b6bf42",
   "metadata": {},
   "outputs": [
    {
     "name": "stdout",
     "output_type": "stream",
     "text": [
      "True\n",
      "True\n",
      "False\n",
      "False\n"
     ]
    }
   ],
   "source": [
    "my_str='Data'\n",
    "print(my_str.isalnum())\n",
    "\n",
    "my_str='Data123'\n",
    "print(my_str.isalnum())\n",
    "\n",
    "my_str='Data1213!@#$@$'\n",
    "print(my_str.isalnum())\n",
    "\n",
    "my_str='Data Scinece'\n",
    "print(my_str.isalnum())"
   ]
  },
  {
   "cell_type": "markdown",
   "id": "343c9932",
   "metadata": {},
   "source": [
    "# isalpha()"
   ]
  },
  {
   "cell_type": "markdown",
   "id": "54167be6",
   "metadata": {},
   "source": [
    "- It returns True if all the characters in the string are alphabets else it returns False."
   ]
  },
  {
   "cell_type": "code",
   "execution_count": 76,
   "id": "66eb37b3",
   "metadata": {},
   "outputs": [
    {
     "name": "stdout",
     "output_type": "stream",
     "text": [
      "True\n",
      "False\n",
      "False\n"
     ]
    }
   ],
   "source": [
    "my_str='Data'\n",
    "print(my_str.isalpha())\n",
    "\n",
    "my_str='Data123'\n",
    "print(my_str.isalpha())\n",
    "\n",
    "my_str='Data!@!#@$'\n",
    "print(my_str.isalpha())"
   ]
  },
  {
   "cell_type": "markdown",
   "id": "9b276687",
   "metadata": {},
   "source": [
    "# isupper()"
   ]
  },
  {
   "cell_type": "markdown",
   "id": "f48a6127",
   "metadata": {},
   "source": [
    "- It returns True if all the alphabets in the string are in upper case."
   ]
  },
  {
   "cell_type": "code",
   "execution_count": 81,
   "id": "6b9e6729",
   "metadata": {},
   "outputs": [
    {
     "name": "stdout",
     "output_type": "stream",
     "text": [
      "True\n",
      "True\n",
      "True\n",
      "False\n"
     ]
    }
   ],
   "source": [
    "my_str='DATA SCIENCE'\n",
    "print(my_str.isupper())\n",
    "\n",
    "my_str='DATA SCIENCE12345'\n",
    "print(my_str.isupper())\n",
    "\n",
    "my_str='DATA SCIENCE13234!@#%#%$^'\n",
    "print(my_str.isupper())\n",
    "\n",
    "my_str='Data Science'\n",
    "print(my_str.isupper())"
   ]
  },
  {
   "cell_type": "markdown",
   "id": "8148fdc1",
   "metadata": {},
   "source": [
    "# islower()"
   ]
  },
  {
   "cell_type": "markdown",
   "id": "f4fef17d",
   "metadata": {},
   "source": [
    "- It returns True if all the alphabets in the string are in lower case."
   ]
  },
  {
   "cell_type": "code",
   "execution_count": 84,
   "id": "ba94f8be",
   "metadata": {},
   "outputs": [
    {
     "name": "stdout",
     "output_type": "stream",
     "text": [
      "True\n",
      "True\n",
      "False\n"
     ]
    }
   ],
   "source": [
    "my_str='data scinece'\n",
    "print(my_str.islower())\n",
    "\n",
    "my_str='data scinece!@!#@$@132435'\n",
    "print(my_str.islower())\n",
    "\n",
    "my_str='Data Scinece'\n",
    "print(my_str.islower())"
   ]
  },
  {
   "cell_type": "markdown",
   "id": "04705792",
   "metadata": {},
   "source": [
    "# istitle()"
   ]
  },
  {
   "cell_type": "markdown",
   "id": "c891fe08",
   "metadata": {},
   "source": [
    "- It returns True if the string is in title case.\n",
    "- **Title-** The first charcter of each word should be in uppercase."
   ]
  },
  {
   "cell_type": "code",
   "execution_count": 87,
   "id": "f43acbb3",
   "metadata": {},
   "outputs": [
    {
     "name": "stdout",
     "output_type": "stream",
     "text": [
      "True\n",
      "False\n",
      "False\n"
     ]
    }
   ],
   "source": [
    "my_str='This Is Python Class.'\n",
    "print(my_str.istitle())\n",
    "\n",
    "my_str='PYTHON CLASS'\n",
    "print(my_str.istitle())\n",
    "\n",
    "my_str='Python class'\n",
    "print(my_str.istitle())"
   ]
  },
  {
   "cell_type": "markdown",
   "id": "d74c5ce0",
   "metadata": {},
   "source": [
    "# isspace()"
   ]
  },
  {
   "cell_type": "markdown",
   "id": "7f6e9899",
   "metadata": {},
   "source": [
    "- It returns True if all the characters in the string are space characters.\n",
    "- **Space characters-** \\n,\\t,\\r,\\v,' '"
   ]
  },
  {
   "cell_type": "code",
   "execution_count": 89,
   "id": "0f3e8895",
   "metadata": {},
   "outputs": [
    {
     "name": "stdout",
     "output_type": "stream",
     "text": [
      "True\n",
      "False\n"
     ]
    }
   ],
   "source": [
    "my_str='       \\n\\t\\v\\r'\n",
    "print(my_str.isspace())\n",
    "\n",
    "my_str='Hello\\nPython'\n",
    "print(my_str.isspace())"
   ]
  },
  {
   "cell_type": "markdown",
   "id": "18405215",
   "metadata": {},
   "source": [
    "# startswith()"
   ]
  },
  {
   "cell_type": "markdown",
   "id": "3c8c17be",
   "metadata": {},
   "source": [
    "- It returns True if a string starts with a specified character else it returns False."
   ]
  },
  {
   "cell_type": "code",
   "execution_count": 100,
   "id": "4397e290",
   "metadata": {},
   "outputs": [
    {
     "name": "stdout",
     "output_type": "stream",
     "text": [
      "True\n",
      "False\n",
      "True\n",
      "True\n",
      "True\n",
      "False\n"
     ]
    }
   ],
   "source": [
    "my_str='Data'\n",
    "print(my_str.startswith('D'))\n",
    "\n",
    "print(my_str.startswith('d'))\n",
    "\n",
    "my_str='1 Data'\n",
    "print(my_str.startswith('1'))\n",
    "print(my_str.startswith('1 Da'))\n",
    "\n",
    "my_str='Data Scinece'\n",
    "print(my_str.startswith('Dat'))\n",
    "print(my_str.startswith('Dta'))"
   ]
  },
  {
   "cell_type": "markdown",
   "id": "eeb01e81",
   "metadata": {},
   "source": [
    "# endswith()"
   ]
  },
  {
   "cell_type": "markdown",
   "id": "3195f1a2",
   "metadata": {},
   "source": [
    "- It returns True if a string ends with a specified character else it returns False."
   ]
  },
  {
   "cell_type": "code",
   "execution_count": 104,
   "id": "b2335558",
   "metadata": {},
   "outputs": [
    {
     "name": "stdout",
     "output_type": "stream",
     "text": [
      "True\n",
      "True\n",
      "True\n",
      "False\n"
     ]
    }
   ],
   "source": [
    "my_str='Data Science'\n",
    "print(my_str.endswith('e'))\n",
    "print(my_str.endswith('ce'))\n",
    "print(my_str.endswith('ence'))\n",
    "print(my_str.endswith('ec'))"
   ]
  },
  {
   "cell_type": "code",
   "execution_count": null,
   "id": "47b96fde",
   "metadata": {},
   "outputs": [],
   "source": []
  }
 ],
 "metadata": {
  "kernelspec": {
   "display_name": "Python 3 (ipykernel)",
   "language": "python",
   "name": "python3"
  },
  "language_info": {
   "codemirror_mode": {
    "name": "ipython",
    "version": 3
   },
   "file_extension": ".py",
   "mimetype": "text/x-python",
   "name": "python",
   "nbconvert_exporter": "python",
   "pygments_lexer": "ipython3",
   "version": "3.9.13"
  }
 },
 "nbformat": 4,
 "nbformat_minor": 5
}
