{
 "cells": [
  {
   "cell_type": "markdown",
   "id": "0b05e162",
   "metadata": {},
   "source": [
    "# Generator"
   ]
  },
  {
   "cell_type": "markdown",
   "id": "5fc4c9c0",
   "metadata": {},
   "source": [
    "- A generator object is used to create a user defined iterator object.\n",
    "- A generator object is an iterator object."
   ]
  },
  {
   "cell_type": "markdown",
   "id": "a58e46bb",
   "metadata": {},
   "source": [
    "# How to create a generator"
   ]
  },
  {
   "cell_type": "markdown",
   "id": "eef19a4e",
   "metadata": {},
   "source": [
    "- 1- Tuple comprehension\n",
    "- 2- Generator function"
   ]
  },
  {
   "cell_type": "markdown",
   "id": "f23789a9",
   "metadata": {},
   "source": [
    "# 1- Tuple comprehension"
   ]
  },
  {
   "cell_type": "markdown",
   "id": "f7aedfb8",
   "metadata": {},
   "source": [
    "- It is similar to list comprehension.\n",
    "- A tuple comprehension returns a generator object."
   ]
  },
  {
   "cell_type": "code",
   "execution_count": 1,
   "id": "b62f85ab",
   "metadata": {},
   "outputs": [],
   "source": [
    "# (for loop)- Tuple comprehension\n",
    "# (variable for variable in iterable)"
   ]
  },
  {
   "cell_type": "code",
   "execution_count": 4,
   "id": "544206b9",
   "metadata": {},
   "outputs": [],
   "source": [
    "t=(i for i in range(1,11))"
   ]
  },
  {
   "cell_type": "code",
   "execution_count": 5,
   "id": "e65e3c4d",
   "metadata": {},
   "outputs": [
    {
     "name": "stdout",
     "output_type": "stream",
     "text": [
      "<generator object <genexpr> at 0x000001DA5A3A5200> <class 'generator'>\n"
     ]
    }
   ],
   "source": [
    "print(t,type(t))"
   ]
  },
  {
   "cell_type": "code",
   "execution_count": 6,
   "id": "f0e55aa7",
   "metadata": {},
   "outputs": [
    {
     "name": "stdout",
     "output_type": "stream",
     "text": [
      "['__class__', '__del__', '__delattr__', '__dir__', '__doc__', '__eq__', '__format__', '__ge__', '__getattribute__', '__gt__', '__hash__', '__init__', '__init_subclass__', '__iter__', '__le__', '__lt__', '__name__', '__ne__', '__new__', '__next__', '__qualname__', '__reduce__', '__reduce_ex__', '__repr__', '__setattr__', '__sizeof__', '__str__', '__subclasshook__', 'close', 'gi_code', 'gi_frame', 'gi_running', 'gi_yieldfrom', 'send', 'throw']\n"
     ]
    }
   ],
   "source": [
    "print(dir(t))"
   ]
  },
  {
   "cell_type": "markdown",
   "id": "1f9d41c4",
   "metadata": {},
   "source": [
    "# How to fetch the elements from a generator object"
   ]
  },
  {
   "cell_type": "markdown",
   "id": "c3a11e1e",
   "metadata": {},
   "source": [
    "- 1- Apply next() again and again\n",
    "- 2- Apply for loop"
   ]
  },
  {
   "cell_type": "code",
   "execution_count": 7,
   "id": "32d78ede",
   "metadata": {},
   "outputs": [
    {
     "name": "stdout",
     "output_type": "stream",
     "text": [
      "1\n"
     ]
    }
   ],
   "source": [
    "print(next(t))"
   ]
  },
  {
   "cell_type": "code",
   "execution_count": 8,
   "id": "a70255a8",
   "metadata": {},
   "outputs": [
    {
     "name": "stdout",
     "output_type": "stream",
     "text": [
      "2\n"
     ]
    }
   ],
   "source": [
    "print(next(t))"
   ]
  },
  {
   "cell_type": "code",
   "execution_count": 17,
   "id": "99845b3a",
   "metadata": {},
   "outputs": [
    {
     "ename": "StopIteration",
     "evalue": "",
     "output_type": "error",
     "traceback": [
      "\u001b[1;31m---------------------------------------------------------------------------\u001b[0m",
      "\u001b[1;31mStopIteration\u001b[0m                             Traceback (most recent call last)",
      "\u001b[1;32m~\\AppData\\Local\\Temp\\ipykernel_27420\\674627973.py\u001b[0m in \u001b[0;36m<module>\u001b[1;34m\u001b[0m\n\u001b[1;32m----> 1\u001b[1;33m \u001b[0mprint\u001b[0m\u001b[1;33m(\u001b[0m\u001b[0mnext\u001b[0m\u001b[1;33m(\u001b[0m\u001b[0mt\u001b[0m\u001b[1;33m)\u001b[0m\u001b[1;33m)\u001b[0m\u001b[1;33m\u001b[0m\u001b[1;33m\u001b[0m\u001b[0m\n\u001b[0m",
      "\u001b[1;31mStopIteration\u001b[0m: "
     ]
    }
   ],
   "source": [
    "print(next(t))"
   ]
  },
  {
   "cell_type": "code",
   "execution_count": 18,
   "id": "4ec7efd0",
   "metadata": {},
   "outputs": [],
   "source": [
    "t=(i for i in range(1,11))"
   ]
  },
  {
   "cell_type": "code",
   "execution_count": 19,
   "id": "f2ad2604",
   "metadata": {},
   "outputs": [
    {
     "name": "stdout",
     "output_type": "stream",
     "text": [
      "1\n",
      "2\n",
      "3\n",
      "4\n",
      "5\n",
      "6\n",
      "7\n",
      "8\n",
      "9\n",
      "10\n"
     ]
    }
   ],
   "source": [
    "for i in t:\n",
    "    print(i)"
   ]
  },
  {
   "cell_type": "code",
   "execution_count": 20,
   "id": "6bd7f9cc",
   "metadata": {},
   "outputs": [
    {
     "name": "stdout",
     "output_type": "stream",
     "text": [
      "10\n"
     ]
    }
   ],
   "source": [
    "print(i)"
   ]
  },
  {
   "cell_type": "markdown",
   "id": "4526faa1",
   "metadata": {},
   "source": [
    "- A generator is used for memory efficient operations.\n",
    "- It generates one value at a time in the memory."
   ]
  },
  {
   "cell_type": "code",
   "execution_count": 22,
   "id": "c447eb38",
   "metadata": {},
   "outputs": [],
   "source": [
    "import sys"
   ]
  },
  {
   "cell_type": "code",
   "execution_count": 23,
   "id": "954b6f31",
   "metadata": {},
   "outputs": [
    {
     "name": "stdout",
     "output_type": "stream",
     "text": [
      "8448728\n"
     ]
    }
   ],
   "source": [
    "lst=[i for i in range(1,1000000)]\n",
    "print(sys.getsizeof(lst))"
   ]
  },
  {
   "cell_type": "code",
   "execution_count": 54,
   "id": "86970e2c",
   "metadata": {},
   "outputs": [
    {
     "name": "stdout",
     "output_type": "stream",
     "text": [
      "<generator object <genexpr> at 0x000001DA612F1350>\n",
      "112\n"
     ]
    }
   ],
   "source": [
    "t=(i for i in range(1,1000000))\n",
    "print(t)\n",
    "print(sys.getsizeof(t))"
   ]
  },
  {
   "cell_type": "code",
   "execution_count": 28,
   "id": "bd256319",
   "metadata": {},
   "outputs": [
    {
     "name": "stdout",
     "output_type": "stream",
     "text": [
      "1\n"
     ]
    }
   ],
   "source": [
    "print(next(t))"
   ]
  },
  {
   "cell_type": "code",
   "execution_count": 29,
   "id": "c10cc7de",
   "metadata": {},
   "outputs": [
    {
     "name": "stdout",
     "output_type": "stream",
     "text": [
      "2\n"
     ]
    }
   ],
   "source": [
    "x=print(next(t))"
   ]
  },
  {
   "cell_type": "code",
   "execution_count": 31,
   "id": "053ff1b2",
   "metadata": {},
   "outputs": [
    {
     "data": {
      "text/plain": [
       "3"
      ]
     },
     "execution_count": 31,
     "metadata": {},
     "output_type": "execute_result"
    }
   ],
   "source": [
    "x=next(t)\n",
    "x"
   ]
  },
  {
   "cell_type": "code",
   "execution_count": 32,
   "id": "4613430a",
   "metadata": {},
   "outputs": [
    {
     "name": "stdout",
     "output_type": "stream",
     "text": [
      "4\n"
     ]
    }
   ],
   "source": [
    "print(next(t))"
   ]
  },
  {
   "cell_type": "code",
   "execution_count": 40,
   "id": "e6f2261f",
   "metadata": {},
   "outputs": [
    {
     "name": "stdout",
     "output_type": "stream",
     "text": [
      "45\n",
      "46\n",
      "47\n",
      "48\n",
      "49\n",
      "50\n",
      "51\n",
      "52\n"
     ]
    }
   ],
   "source": [
    "for i in range(8):\n",
    "    print(next(t))"
   ]
  },
  {
   "cell_type": "code",
   "execution_count": 45,
   "id": "03d7a28a",
   "metadata": {},
   "outputs": [
    {
     "name": "stdout",
     "output_type": "stream",
     "text": [
      "<generator object <genexpr> at 0x000001DA5EB31AC0>\n"
     ]
    }
   ],
   "source": [
    "t=(i for i in range(1,11))\n",
    "print(t)"
   ]
  },
  {
   "cell_type": "code",
   "execution_count": 42,
   "id": "18e3aad9",
   "metadata": {},
   "outputs": [
    {
     "name": "stdout",
     "output_type": "stream",
     "text": [
      "1\n",
      "2\n",
      "3\n",
      "4\n",
      "5\n",
      "6\n",
      "7\n",
      "8\n",
      "9\n",
      "10\n"
     ]
    }
   ],
   "source": [
    "for i in t:\n",
    "    print(i)"
   ]
  },
  {
   "cell_type": "code",
   "execution_count": 51,
   "id": "b106f1f5",
   "metadata": {},
   "outputs": [
    {
     "name": "stdout",
     "output_type": "stream",
     "text": [
      "<generator object <genexpr> at 0x000001DA612F1190>\n"
     ]
    }
   ],
   "source": [
    "t=(i for i in range(1,11))\n",
    "print(t)"
   ]
  },
  {
   "cell_type": "code",
   "execution_count": 52,
   "id": "165ff7f8",
   "metadata": {},
   "outputs": [
    {
     "name": "stdout",
     "output_type": "stream",
     "text": [
      "1\n",
      "2\n",
      "3\n",
      "4\n",
      "5\n"
     ]
    }
   ],
   "source": [
    "for i in range(5):\n",
    "    print(next(t))"
   ]
  },
  {
   "cell_type": "code",
   "execution_count": 53,
   "id": "1dc22ea5",
   "metadata": {},
   "outputs": [
    {
     "name": "stdout",
     "output_type": "stream",
     "text": [
      "6\n",
      "7\n",
      "8\n",
      "9\n",
      "10\n"
     ]
    },
    {
     "ename": "StopIteration",
     "evalue": "",
     "output_type": "error",
     "traceback": [
      "\u001b[1;31m---------------------------------------------------------------------------\u001b[0m",
      "\u001b[1;31mStopIteration\u001b[0m                             Traceback (most recent call last)",
      "\u001b[1;32m~\\AppData\\Local\\Temp\\ipykernel_27420\\312262203.py\u001b[0m in \u001b[0;36m<module>\u001b[1;34m\u001b[0m\n\u001b[0;32m      1\u001b[0m \u001b[1;32mfor\u001b[0m \u001b[0mi\u001b[0m \u001b[1;32min\u001b[0m \u001b[0mrange\u001b[0m\u001b[1;33m(\u001b[0m\u001b[1;36m10\u001b[0m\u001b[1;33m)\u001b[0m\u001b[1;33m:\u001b[0m\u001b[1;33m\u001b[0m\u001b[1;33m\u001b[0m\u001b[0m\n\u001b[1;32m----> 2\u001b[1;33m     \u001b[0mprint\u001b[0m\u001b[1;33m(\u001b[0m\u001b[0mnext\u001b[0m\u001b[1;33m(\u001b[0m\u001b[0mt\u001b[0m\u001b[1;33m)\u001b[0m\u001b[1;33m)\u001b[0m\u001b[1;33m\u001b[0m\u001b[1;33m\u001b[0m\u001b[0m\n\u001b[0m",
      "\u001b[1;31mStopIteration\u001b[0m: "
     ]
    }
   ],
   "source": [
    "for i in range(10):\n",
    "    print(next(t))"
   ]
  },
  {
   "cell_type": "code",
   "execution_count": 56,
   "id": "b9ff6b48",
   "metadata": {},
   "outputs": [],
   "source": [
    "# print(lst)"
   ]
  },
  {
   "cell_type": "code",
   "execution_count": 57,
   "id": "db6dc4d8",
   "metadata": {},
   "outputs": [
    {
     "name": "stdout",
     "output_type": "stream",
     "text": [
      "<class 'list'>\n"
     ]
    }
   ],
   "source": [
    "print(type(lst))"
   ]
  },
  {
   "cell_type": "code",
   "execution_count": 58,
   "id": "78a72a06",
   "metadata": {},
   "outputs": [
    {
     "name": "stdout",
     "output_type": "stream",
     "text": [
      "['__class__', '__del__', '__delattr__', '__dir__', '__doc__', '__eq__', '__format__', '__ge__', '__getattribute__', '__gt__', '__hash__', '__init__', '__init_subclass__', '__iter__', '__le__', '__lt__', '__name__', '__ne__', '__new__', '__next__', '__qualname__', '__reduce__', '__reduce_ex__', '__repr__', '__setattr__', '__sizeof__', '__str__', '__subclasshook__', 'close', 'gi_code', 'gi_frame', 'gi_running', 'gi_yieldfrom', 'send', 'throw']\n"
     ]
    }
   ],
   "source": [
    "print(dir(t))"
   ]
  },
  {
   "cell_type": "markdown",
   "id": "5bb56ba3",
   "metadata": {},
   "source": [
    "# 2- Generator Function"
   ]
  },
  {
   "cell_type": "markdown",
   "id": "7410fd43",
   "metadata": {},
   "source": [
    "- A generator function returns a generator object."
   ]
  },
  {
   "cell_type": "markdown",
   "id": "0c4ad2e5",
   "metadata": {},
   "source": [
    "# How to create a generator function"
   ]
  },
  {
   "cell_type": "code",
   "execution_count": null,
   "id": "1199dab4",
   "metadata": {},
   "outputs": [],
   "source": [
    "def function_name():\n",
    "    yield value\n",
    "    yield value"
   ]
  },
  {
   "cell_type": "code",
   "execution_count": 59,
   "id": "af9f8536",
   "metadata": {},
   "outputs": [],
   "source": [
    "def gen():\n",
    "    yield 'Hello'\n",
    "    yield 'Python'\n",
    "    yield 10+20j\n",
    "    yield True"
   ]
  },
  {
   "cell_type": "code",
   "execution_count": 60,
   "id": "420bbc6c",
   "metadata": {},
   "outputs": [
    {
     "name": "stdout",
     "output_type": "stream",
     "text": [
      "<generator object gen at 0x000001DA612F1C80>\n"
     ]
    }
   ],
   "source": [
    "x=gen()\n",
    "print(x)"
   ]
  },
  {
   "cell_type": "code",
   "execution_count": 61,
   "id": "02498333",
   "metadata": {},
   "outputs": [
    {
     "name": "stdout",
     "output_type": "stream",
     "text": [
      "Hello\n"
     ]
    }
   ],
   "source": [
    "print(next(x))"
   ]
  },
  {
   "cell_type": "code",
   "execution_count": 62,
   "id": "049c062d",
   "metadata": {},
   "outputs": [
    {
     "name": "stdout",
     "output_type": "stream",
     "text": [
      "Python\n"
     ]
    }
   ],
   "source": [
    "print(next(x))"
   ]
  },
  {
   "cell_type": "code",
   "execution_count": 63,
   "id": "327b51dc",
   "metadata": {},
   "outputs": [
    {
     "name": "stdout",
     "output_type": "stream",
     "text": [
      "(10+20j)\n"
     ]
    }
   ],
   "source": [
    "print(next(x))"
   ]
  },
  {
   "cell_type": "code",
   "execution_count": 64,
   "id": "0e7ebf8a",
   "metadata": {},
   "outputs": [
    {
     "name": "stdout",
     "output_type": "stream",
     "text": [
      "True\n"
     ]
    }
   ],
   "source": [
    "print(next(x))"
   ]
  },
  {
   "cell_type": "code",
   "execution_count": 65,
   "id": "762c31fb",
   "metadata": {},
   "outputs": [
    {
     "ename": "StopIteration",
     "evalue": "",
     "output_type": "error",
     "traceback": [
      "\u001b[1;31m---------------------------------------------------------------------------\u001b[0m",
      "\u001b[1;31mStopIteration\u001b[0m                             Traceback (most recent call last)",
      "\u001b[1;32m~\\AppData\\Local\\Temp\\ipykernel_27420\\3267691084.py\u001b[0m in \u001b[0;36m<module>\u001b[1;34m\u001b[0m\n\u001b[1;32m----> 1\u001b[1;33m \u001b[0mprint\u001b[0m\u001b[1;33m(\u001b[0m\u001b[0mnext\u001b[0m\u001b[1;33m(\u001b[0m\u001b[0mx\u001b[0m\u001b[1;33m)\u001b[0m\u001b[1;33m)\u001b[0m\u001b[1;33m\u001b[0m\u001b[1;33m\u001b[0m\u001b[0m\n\u001b[0m",
      "\u001b[1;31mStopIteration\u001b[0m: "
     ]
    }
   ],
   "source": [
    "print(next(x))"
   ]
  },
  {
   "cell_type": "markdown",
   "id": "eb76ccd6",
   "metadata": {},
   "source": [
    "# return vs yield"
   ]
  },
  {
   "cell_type": "markdown",
   "id": "44c85c96",
   "metadata": {},
   "source": [
    "- return statement terminates the function."
   ]
  },
  {
   "cell_type": "markdown",
   "id": "035eacb9",
   "metadata": {},
   "source": [
    "- yield satatement pauses the function.\n",
    "- yield statement does not terminate the function.\n",
    "- When we call the next() on a generator object then it returns the next yield value and pauses the function until we call the next() again."
   ]
  },
  {
   "cell_type": "code",
   "execution_count": 79,
   "id": "6e1f8141",
   "metadata": {},
   "outputs": [],
   "source": [
    "def values():\n",
    "    yield [1,2,3,4,5]\n",
    "    yield {1:100,2:200}"
   ]
  },
  {
   "cell_type": "code",
   "execution_count": 80,
   "id": "090efc5d",
   "metadata": {},
   "outputs": [],
   "source": [
    "x=values()"
   ]
  },
  {
   "cell_type": "code",
   "execution_count": 81,
   "id": "5c111eff",
   "metadata": {},
   "outputs": [
    {
     "name": "stdout",
     "output_type": "stream",
     "text": [
      "<generator object values at 0x000001DA612F5A50>\n"
     ]
    }
   ],
   "source": [
    "print(x)"
   ]
  },
  {
   "cell_type": "code",
   "execution_count": 83,
   "id": "4febdc65",
   "metadata": {},
   "outputs": [
    {
     "data": {
      "text/plain": [
       "[1, 2, 3, 4, 5]"
      ]
     },
     "execution_count": 83,
     "metadata": {},
     "output_type": "execute_result"
    }
   ],
   "source": [
    "next(x)"
   ]
  },
  {
   "cell_type": "code",
   "execution_count": 85,
   "id": "87504ef0",
   "metadata": {},
   "outputs": [
    {
     "data": {
      "text/plain": [
       "{1: 100, 2: 200}"
      ]
     },
     "execution_count": 85,
     "metadata": {},
     "output_type": "execute_result"
    }
   ],
   "source": [
    "next(x)"
   ]
  },
  {
   "cell_type": "code",
   "execution_count": 86,
   "id": "ec19439b",
   "metadata": {},
   "outputs": [
    {
     "ename": "StopIteration",
     "evalue": "",
     "output_type": "error",
     "traceback": [
      "\u001b[1;31m---------------------------------------------------------------------------\u001b[0m",
      "\u001b[1;31mStopIteration\u001b[0m                             Traceback (most recent call last)",
      "\u001b[1;32m~\\AppData\\Local\\Temp\\ipykernel_27420\\3485793935.py\u001b[0m in \u001b[0;36m<module>\u001b[1;34m\u001b[0m\n\u001b[1;32m----> 1\u001b[1;33m \u001b[0mnext\u001b[0m\u001b[1;33m(\u001b[0m\u001b[0mx\u001b[0m\u001b[1;33m)\u001b[0m\u001b[1;33m\u001b[0m\u001b[1;33m\u001b[0m\u001b[0m\n\u001b[0m",
      "\u001b[1;31mStopIteration\u001b[0m: "
     ]
    }
   ],
   "source": [
    "next(x)"
   ]
  },
  {
   "cell_type": "code",
   "execution_count": 87,
   "id": "b9355eb5",
   "metadata": {},
   "outputs": [],
   "source": [
    "def values():\n",
    "    yield [1,2,3,4,5]\n",
    "    yield {1:100,2:200}"
   ]
  },
  {
   "cell_type": "code",
   "execution_count": 88,
   "id": "95dc27e4",
   "metadata": {},
   "outputs": [],
   "source": [
    "x=values()"
   ]
  },
  {
   "cell_type": "code",
   "execution_count": 89,
   "id": "844f0e65",
   "metadata": {},
   "outputs": [
    {
     "name": "stdout",
     "output_type": "stream",
     "text": [
      "<generator object values at 0x000001DA612F5E40>\n"
     ]
    }
   ],
   "source": [
    "print(x)"
   ]
  },
  {
   "cell_type": "code",
   "execution_count": 90,
   "id": "95d37cc4",
   "metadata": {},
   "outputs": [
    {
     "name": "stdout",
     "output_type": "stream",
     "text": [
      "[1, 2, 3, 4, 5]\n",
      "{1: 100, 2: 200}\n"
     ]
    }
   ],
   "source": [
    "for i in x:\n",
    "    print(i)"
   ]
  },
  {
   "cell_type": "code",
   "execution_count": 91,
   "id": "bb221092",
   "metadata": {},
   "outputs": [],
   "source": [
    "def values():\n",
    "    print('Hello')\n",
    "    print('Python')\n",
    "    yield [1,2,3,4,5]\n",
    "    yield {1:100,2:200}"
   ]
  },
  {
   "cell_type": "code",
   "execution_count": 93,
   "id": "15fa8cb0",
   "metadata": {},
   "outputs": [
    {
     "name": "stdout",
     "output_type": "stream",
     "text": [
      "<generator object values at 0x000001DA612F87B0>\n"
     ]
    }
   ],
   "source": [
    "x=values()\n",
    "print(x)"
   ]
  },
  {
   "cell_type": "code",
   "execution_count": 94,
   "id": "e8126b2b",
   "metadata": {},
   "outputs": [
    {
     "name": "stdout",
     "output_type": "stream",
     "text": [
      "Hello\n",
      "Python\n"
     ]
    },
    {
     "data": {
      "text/plain": [
       "[1, 2, 3, 4, 5]"
      ]
     },
     "execution_count": 94,
     "metadata": {},
     "output_type": "execute_result"
    }
   ],
   "source": [
    "next(x)"
   ]
  },
  {
   "cell_type": "code",
   "execution_count": 95,
   "id": "80b91943",
   "metadata": {},
   "outputs": [
    {
     "name": "stdout",
     "output_type": "stream",
     "text": [
      "{1: 100, 2: 200}\n"
     ]
    }
   ],
   "source": [
    "print(next(x))"
   ]
  },
  {
   "cell_type": "code",
   "execution_count": 159,
   "id": "5e028e12",
   "metadata": {},
   "outputs": [],
   "source": [
    "def values():\n",
    "    print('Hello')\n",
    "    print('Python')\n",
    "    yield [1,2,3,4,5]\n",
    "    print('Data Science')\n",
    "    print('Business Analyst')\n",
    "    yield {1:100,2:200}"
   ]
  },
  {
   "cell_type": "code",
   "execution_count": 160,
   "id": "1d594bda",
   "metadata": {},
   "outputs": [
    {
     "name": "stdout",
     "output_type": "stream",
     "text": [
      "<generator object values at 0x000001DA612F8DD0>\n"
     ]
    }
   ],
   "source": [
    "x=values()\n",
    "print(x)"
   ]
  },
  {
   "cell_type": "code",
   "execution_count": 161,
   "id": "0f275f5d",
   "metadata": {},
   "outputs": [
    {
     "name": "stdout",
     "output_type": "stream",
     "text": [
      "Hello\n",
      "Python\n"
     ]
    }
   ],
   "source": [
    "a=next(x)"
   ]
  },
  {
   "cell_type": "code",
   "execution_count": 162,
   "id": "a4d1e490",
   "metadata": {},
   "outputs": [
    {
     "name": "stdout",
     "output_type": "stream",
     "text": [
      "[1, 2, 3, 4, 5]\n"
     ]
    }
   ],
   "source": [
    "print(a)"
   ]
  },
  {
   "cell_type": "code",
   "execution_count": 99,
   "id": "ad61cfc9",
   "metadata": {},
   "outputs": [
    {
     "name": "stdout",
     "output_type": "stream",
     "text": [
      "Data Science\n",
      "Business Analyst\n",
      "{1: 100, 2: 200}\n"
     ]
    }
   ],
   "source": [
    "print(next(x))"
   ]
  },
  {
   "cell_type": "code",
   "execution_count": 100,
   "id": "840557f7",
   "metadata": {},
   "outputs": [
    {
     "ename": "StopIteration",
     "evalue": "",
     "output_type": "error",
     "traceback": [
      "\u001b[1;31m---------------------------------------------------------------------------\u001b[0m",
      "\u001b[1;31mStopIteration\u001b[0m                             Traceback (most recent call last)",
      "\u001b[1;32m~\\AppData\\Local\\Temp\\ipykernel_27420\\3267691084.py\u001b[0m in \u001b[0;36m<module>\u001b[1;34m\u001b[0m\n\u001b[1;32m----> 1\u001b[1;33m \u001b[0mprint\u001b[0m\u001b[1;33m(\u001b[0m\u001b[0mnext\u001b[0m\u001b[1;33m(\u001b[0m\u001b[0mx\u001b[0m\u001b[1;33m)\u001b[0m\u001b[1;33m)\u001b[0m\u001b[1;33m\u001b[0m\u001b[1;33m\u001b[0m\u001b[0m\n\u001b[0m",
      "\u001b[1;31mStopIteration\u001b[0m: "
     ]
    }
   ],
   "source": [
    "print(next(x))"
   ]
  },
  {
   "cell_type": "code",
   "execution_count": 101,
   "id": "1f8c7713",
   "metadata": {},
   "outputs": [],
   "source": [
    "def values():\n",
    "    print('Hello')\n",
    "    print('Python')\n",
    "    \n",
    "    yield [1,2,3,4,5]\n",
    "    \n",
    "    print('Data Science')\n",
    "    print('Business Analyst')\n",
    "    \n",
    "    yield {1:100,2:200}\n",
    "    \n",
    "    print('Thank you!')\n",
    "    print('Have a good day!')"
   ]
  },
  {
   "cell_type": "code",
   "execution_count": 102,
   "id": "2a493efe",
   "metadata": {},
   "outputs": [
    {
     "name": "stdout",
     "output_type": "stream",
     "text": [
      "<generator object values at 0x000001DA612F8B30>\n"
     ]
    }
   ],
   "source": [
    "x=values()\n",
    "print(x)"
   ]
  },
  {
   "cell_type": "code",
   "execution_count": 103,
   "id": "c46c2ec5",
   "metadata": {},
   "outputs": [
    {
     "name": "stdout",
     "output_type": "stream",
     "text": [
      "Hello\n",
      "Python\n",
      "[1, 2, 3, 4, 5]\n"
     ]
    }
   ],
   "source": [
    "print(next(x))"
   ]
  },
  {
   "cell_type": "code",
   "execution_count": 104,
   "id": "45a7a77a",
   "metadata": {},
   "outputs": [
    {
     "name": "stdout",
     "output_type": "stream",
     "text": [
      "Data Science\n",
      "Business Analyst\n",
      "{1: 100, 2: 200}\n"
     ]
    }
   ],
   "source": [
    "print(next(x))"
   ]
  },
  {
   "cell_type": "code",
   "execution_count": 105,
   "id": "1fb477e3",
   "metadata": {},
   "outputs": [
    {
     "name": "stdout",
     "output_type": "stream",
     "text": [
      "Thank you!\n",
      "Have a good day!\n"
     ]
    },
    {
     "ename": "StopIteration",
     "evalue": "",
     "output_type": "error",
     "traceback": [
      "\u001b[1;31m---------------------------------------------------------------------------\u001b[0m",
      "\u001b[1;31mStopIteration\u001b[0m                             Traceback (most recent call last)",
      "\u001b[1;32m~\\AppData\\Local\\Temp\\ipykernel_27420\\3267691084.py\u001b[0m in \u001b[0;36m<module>\u001b[1;34m\u001b[0m\n\u001b[1;32m----> 1\u001b[1;33m \u001b[0mprint\u001b[0m\u001b[1;33m(\u001b[0m\u001b[0mnext\u001b[0m\u001b[1;33m(\u001b[0m\u001b[0mx\u001b[0m\u001b[1;33m)\u001b[0m\u001b[1;33m)\u001b[0m\u001b[1;33m\u001b[0m\u001b[1;33m\u001b[0m\u001b[0m\n\u001b[0m",
      "\u001b[1;31mStopIteration\u001b[0m: "
     ]
    }
   ],
   "source": [
    "print(next(x))"
   ]
  },
  {
   "cell_type": "code",
   "execution_count": 106,
   "id": "2462c45b",
   "metadata": {},
   "outputs": [
    {
     "data": {
      "text/plain": [
       "112"
      ]
     },
     "execution_count": 106,
     "metadata": {},
     "output_type": "execute_result"
    }
   ],
   "source": [
    "sys.getsizeof(x)"
   ]
  },
  {
   "cell_type": "code",
   "execution_count": 107,
   "id": "da66f32f",
   "metadata": {},
   "outputs": [
    {
     "name": "stdout",
     "output_type": "stream",
     "text": [
      "['__class__', '__del__', '__delattr__', '__dir__', '__doc__', '__eq__', '__format__', '__ge__', '__getattribute__', '__gt__', '__hash__', '__init__', '__init_subclass__', '__iter__', '__le__', '__lt__', '__name__', '__ne__', '__new__', '__next__', '__qualname__', '__reduce__', '__reduce_ex__', '__repr__', '__setattr__', '__sizeof__', '__str__', '__subclasshook__', 'close', 'gi_code', 'gi_frame', 'gi_running', 'gi_yieldfrom', 'send', 'throw']\n"
     ]
    }
   ],
   "source": [
    "print(dir(x))"
   ]
  },
  {
   "cell_type": "code",
   "execution_count": 108,
   "id": "e11a95bb",
   "metadata": {},
   "outputs": [],
   "source": [
    "t=(i for i in [True,False,'Hello',10+20j,50])"
   ]
  },
  {
   "cell_type": "code",
   "execution_count": 109,
   "id": "76029544",
   "metadata": {},
   "outputs": [
    {
     "data": {
      "text/plain": [
       "<generator object <genexpr> at 0x000001DA612FA0B0>"
      ]
     },
     "execution_count": 109,
     "metadata": {},
     "output_type": "execute_result"
    }
   ],
   "source": [
    "t"
   ]
  },
  {
   "cell_type": "code",
   "execution_count": 110,
   "id": "acdb335f",
   "metadata": {},
   "outputs": [
    {
     "name": "stdout",
     "output_type": "stream",
     "text": [
      "112\n"
     ]
    }
   ],
   "source": [
    "print(sys.getsizeof(t))"
   ]
  },
  {
   "cell_type": "code",
   "execution_count": 111,
   "id": "c8bb4a45",
   "metadata": {},
   "outputs": [],
   "source": [
    "def values():\n",
    "    while True:\n",
    "        yield 10"
   ]
  },
  {
   "cell_type": "code",
   "execution_count": 112,
   "id": "3f156a61",
   "metadata": {},
   "outputs": [],
   "source": [
    "x=values()"
   ]
  },
  {
   "cell_type": "code",
   "execution_count": 113,
   "id": "6b33686c",
   "metadata": {},
   "outputs": [
    {
     "data": {
      "text/plain": [
       "<generator object values at 0x000001DA612F8740>"
      ]
     },
     "execution_count": 113,
     "metadata": {},
     "output_type": "execute_result"
    }
   ],
   "source": [
    "x"
   ]
  },
  {
   "cell_type": "code",
   "execution_count": 114,
   "id": "cdb6dab4",
   "metadata": {},
   "outputs": [
    {
     "data": {
      "text/plain": [
       "10"
      ]
     },
     "execution_count": 114,
     "metadata": {},
     "output_type": "execute_result"
    }
   ],
   "source": [
    "next(x)"
   ]
  },
  {
   "cell_type": "code",
   "execution_count": 116,
   "id": "6f4c8966",
   "metadata": {},
   "outputs": [],
   "source": [
    "# 2**32-1"
   ]
  },
  {
   "cell_type": "code",
   "execution_count": 117,
   "id": "d2192a1a",
   "metadata": {},
   "outputs": [],
   "source": [
    "# 10 million rows, 500 columns, cloud"
   ]
  },
  {
   "cell_type": "code",
   "execution_count": 118,
   "id": "486ba48a",
   "metadata": {},
   "outputs": [],
   "source": [
    "def values():\n",
    "    print('Hello')\n",
    "    \n",
    "    yield 'Python'\n",
    "    \n",
    "    return 'Thank you!'"
   ]
  },
  {
   "cell_type": "code",
   "execution_count": 119,
   "id": "992a0d64",
   "metadata": {},
   "outputs": [],
   "source": [
    "x=values()"
   ]
  },
  {
   "cell_type": "code",
   "execution_count": 120,
   "id": "d29fca75",
   "metadata": {},
   "outputs": [
    {
     "data": {
      "text/plain": [
       "<generator object values at 0x000001DA612FA820>"
      ]
     },
     "execution_count": 120,
     "metadata": {},
     "output_type": "execute_result"
    }
   ],
   "source": [
    "x"
   ]
  },
  {
   "cell_type": "code",
   "execution_count": 121,
   "id": "130b6f2d",
   "metadata": {},
   "outputs": [
    {
     "name": "stdout",
     "output_type": "stream",
     "text": [
      "Hello\n"
     ]
    },
    {
     "data": {
      "text/plain": [
       "'Python'"
      ]
     },
     "execution_count": 121,
     "metadata": {},
     "output_type": "execute_result"
    }
   ],
   "source": [
    "next(x)"
   ]
  },
  {
   "cell_type": "code",
   "execution_count": 122,
   "id": "a0ce5119",
   "metadata": {},
   "outputs": [
    {
     "ename": "StopIteration",
     "evalue": "Thank you!",
     "output_type": "error",
     "traceback": [
      "\u001b[1;31m---------------------------------------------------------------------------\u001b[0m",
      "\u001b[1;31mStopIteration\u001b[0m                             Traceback (most recent call last)",
      "\u001b[1;32m~\\AppData\\Local\\Temp\\ipykernel_27420\\3485793935.py\u001b[0m in \u001b[0;36m<module>\u001b[1;34m\u001b[0m\n\u001b[1;32m----> 1\u001b[1;33m \u001b[0mnext\u001b[0m\u001b[1;33m(\u001b[0m\u001b[0mx\u001b[0m\u001b[1;33m)\u001b[0m\u001b[1;33m\u001b[0m\u001b[1;33m\u001b[0m\u001b[0m\n\u001b[0m",
      "\u001b[1;31mStopIteration\u001b[0m: Thank you!"
     ]
    }
   ],
   "source": [
    "next(x)"
   ]
  },
  {
   "cell_type": "code",
   "execution_count": 148,
   "id": "a0420dd0",
   "metadata": {},
   "outputs": [],
   "source": [
    "def values():\n",
    "    print('Hello')\n",
    "    print(10+20)\n",
    "    yield 'Python'\n",
    "    print('Java')\n",
    "    return 'Thank you!'\n",
    "    print('C++')\n",
    "    \n",
    "    yield 'Last yield'"
   ]
  },
  {
   "cell_type": "code",
   "execution_count": 149,
   "id": "70888865",
   "metadata": {},
   "outputs": [],
   "source": [
    "x=values()"
   ]
  },
  {
   "cell_type": "code",
   "execution_count": 150,
   "id": "08e622c1",
   "metadata": {},
   "outputs": [
    {
     "data": {
      "text/plain": [
       "<generator object values at 0x000001DA61314120>"
      ]
     },
     "execution_count": 150,
     "metadata": {},
     "output_type": "execute_result"
    }
   ],
   "source": [
    "x"
   ]
  },
  {
   "cell_type": "code",
   "execution_count": 151,
   "id": "bd960451",
   "metadata": {},
   "outputs": [
    {
     "name": "stdout",
     "output_type": "stream",
     "text": [
      "Hello\n",
      "30\n"
     ]
    },
    {
     "data": {
      "text/plain": [
       "'Python'"
      ]
     },
     "execution_count": 151,
     "metadata": {},
     "output_type": "execute_result"
    }
   ],
   "source": [
    "next(x)"
   ]
  },
  {
   "cell_type": "code",
   "execution_count": 152,
   "id": "087f58e4",
   "metadata": {},
   "outputs": [
    {
     "name": "stdout",
     "output_type": "stream",
     "text": [
      "Java\n"
     ]
    },
    {
     "ename": "StopIteration",
     "evalue": "Thank you!",
     "output_type": "error",
     "traceback": [
      "\u001b[1;31m---------------------------------------------------------------------------\u001b[0m",
      "\u001b[1;31mStopIteration\u001b[0m                             Traceback (most recent call last)",
      "\u001b[1;32m~\\AppData\\Local\\Temp\\ipykernel_27420\\3485793935.py\u001b[0m in \u001b[0;36m<module>\u001b[1;34m\u001b[0m\n\u001b[1;32m----> 1\u001b[1;33m \u001b[0mnext\u001b[0m\u001b[1;33m(\u001b[0m\u001b[0mx\u001b[0m\u001b[1;33m)\u001b[0m\u001b[1;33m\u001b[0m\u001b[1;33m\u001b[0m\u001b[0m\n\u001b[0m",
      "\u001b[1;31mStopIteration\u001b[0m: Thank you!"
     ]
    }
   ],
   "source": [
    "next(x)"
   ]
  },
  {
   "cell_type": "code",
   "execution_count": 154,
   "id": "c5a2deca",
   "metadata": {},
   "outputs": [],
   "source": [
    "def gene():\n",
    "    a=10\n",
    "    b=20\n",
    "    c=a+b\n",
    "    yield c"
   ]
  },
  {
   "cell_type": "code",
   "execution_count": 155,
   "id": "ad85db0e",
   "metadata": {},
   "outputs": [
    {
     "name": "stdout",
     "output_type": "stream",
     "text": [
      "<generator object gene at 0x000001DA61314970>\n"
     ]
    }
   ],
   "source": [
    "x=gene()\n",
    "print(x)"
   ]
  },
  {
   "cell_type": "code",
   "execution_count": 156,
   "id": "2411ac15",
   "metadata": {},
   "outputs": [
    {
     "data": {
      "text/plain": [
       "30"
      ]
     },
     "execution_count": 156,
     "metadata": {},
     "output_type": "execute_result"
    }
   ],
   "source": [
    "next(x)"
   ]
  },
  {
   "cell_type": "code",
   "execution_count": 171,
   "id": "f70bbc38",
   "metadata": {},
   "outputs": [],
   "source": [
    "# Create a generator function that takes n values from th user and prints them along with their type\n",
    "\n",
    "def values(n):\n",
    "    for i in range(n):\n",
    "        yield eval(input('Enter a value- '))"
   ]
  },
  {
   "cell_type": "code",
   "execution_count": 172,
   "id": "98e8de01",
   "metadata": {},
   "outputs": [],
   "source": [
    "x=values(5)"
   ]
  },
  {
   "cell_type": "code",
   "execution_count": 173,
   "id": "9787b0f7",
   "metadata": {},
   "outputs": [
    {
     "data": {
      "text/plain": [
       "<generator object values at 0x000001DA61316900>"
      ]
     },
     "execution_count": 173,
     "metadata": {},
     "output_type": "execute_result"
    }
   ],
   "source": [
    "x"
   ]
  },
  {
   "cell_type": "code",
   "execution_count": 174,
   "id": "b03074e1",
   "metadata": {},
   "outputs": [
    {
     "name": "stdout",
     "output_type": "stream",
     "text": [
      "Enter a value- 10\n",
      "10 <class 'int'>\n",
      "Enter a value- 10+20j\n",
      "(10+20j) <class 'complex'>\n",
      "Enter a value- True\n",
      "True <class 'bool'>\n",
      "Enter a value- None\n",
      "None <class 'NoneType'>\n",
      "Enter a value- [1,2,3]\n",
      "[1, 2, 3] <class 'list'>\n"
     ]
    }
   ],
   "source": [
    "for i in x:\n",
    "    print(i,type(i))"
   ]
  },
  {
   "cell_type": "code",
   "execution_count": 176,
   "id": "a008af24",
   "metadata": {},
   "outputs": [
    {
     "data": {
      "text/plain": [
       "[1, 2, 3]"
      ]
     },
     "execution_count": 176,
     "metadata": {},
     "output_type": "execute_result"
    }
   ],
   "source": [
    "i"
   ]
  },
  {
   "cell_type": "code",
   "execution_count": 178,
   "id": "2972447b",
   "metadata": {},
   "outputs": [
    {
     "data": {
      "text/plain": [
       "<generator object <genexpr> at 0x000001DA6131D200>"
      ]
     },
     "execution_count": 178,
     "metadata": {},
     "output_type": "execute_result"
    }
   ],
   "source": [
    "t=(i for i in 'Python')\n",
    "t"
   ]
  },
  {
   "cell_type": "code",
   "execution_count": 185,
   "id": "0c6b039a",
   "metadata": {},
   "outputs": [
    {
     "ename": "StopIteration",
     "evalue": "",
     "output_type": "error",
     "traceback": [
      "\u001b[1;31m---------------------------------------------------------------------------\u001b[0m",
      "\u001b[1;31mStopIteration\u001b[0m                             Traceback (most recent call last)",
      "\u001b[1;32m~\\AppData\\Local\\Temp\\ipykernel_27420\\2139502855.py\u001b[0m in \u001b[0;36m<module>\u001b[1;34m\u001b[0m\n\u001b[1;32m----> 1\u001b[1;33m \u001b[0mnext\u001b[0m\u001b[1;33m(\u001b[0m\u001b[0mt\u001b[0m\u001b[1;33m)\u001b[0m\u001b[1;33m\u001b[0m\u001b[1;33m\u001b[0m\u001b[0m\n\u001b[0m",
      "\u001b[1;31mStopIteration\u001b[0m: "
     ]
    }
   ],
   "source": [
    "next(t)"
   ]
  },
  {
   "cell_type": "code",
   "execution_count": 175,
   "id": "b288c6e0",
   "metadata": {},
   "outputs": [],
   "source": [
    "# Create a generator function that takes n numbers from th user and prints the addition"
   ]
  },
  {
   "cell_type": "code",
   "execution_count": null,
   "id": "f7140835",
   "metadata": {},
   "outputs": [],
   "source": []
  }
 ],
 "metadata": {
  "kernelspec": {
   "display_name": "Python 3 (ipykernel)",
   "language": "python",
   "name": "python3"
  },
  "language_info": {
   "codemirror_mode": {
    "name": "ipython",
    "version": 3
   },
   "file_extension": ".py",
   "mimetype": "text/x-python",
   "name": "python",
   "nbconvert_exporter": "python",
   "pygments_lexer": "ipython3",
   "version": "3.9.13"
  }
 },
 "nbformat": 4,
 "nbformat_minor": 5
}
