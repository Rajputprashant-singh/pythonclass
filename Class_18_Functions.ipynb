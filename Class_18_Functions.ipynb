{
 "cells": [
  {
   "cell_type": "markdown",
   "id": "af3434ef",
   "metadata": {},
   "source": [
    "# Function"
   ]
  },
  {
   "cell_type": "markdown",
   "id": "00b1704b",
   "metadata": {},
   "source": [
    "- A function is a block of code that gets executed as and when it is called.\n",
    "- A function is used to resue the code.\n",
    "- By using function we write the code once and we can use it n number of times in the same program.\n",
    "- A function helps reduce the lines of code in a program."
   ]
  },
  {
   "cell_type": "code",
   "execution_count": 5,
   "id": "1830a8ba",
   "metadata": {},
   "outputs": [],
   "source": [
    "def add():\n",
    "    a=int(input('Enter a number- '))\n",
    "    b=int(input(\"Enter a number again- \"))\n",
    "\n",
    "    c=a+b\n",
    "    print(c)"
   ]
  },
  {
   "cell_type": "code",
   "execution_count": 7,
   "id": "1844891e",
   "metadata": {},
   "outputs": [
    {
     "name": "stdout",
     "output_type": "stream",
     "text": [
      "Enter a number- 8\n",
      "Enter a number again- 2\n",
      "10\n"
     ]
    }
   ],
   "source": [
    "add()"
   ]
  },
  {
   "cell_type": "markdown",
   "id": "a36f51bc",
   "metadata": {},
   "source": [
    "# Types"
   ]
  },
  {
   "cell_type": "markdown",
   "id": "157f5905",
   "metadata": {},
   "source": [
    "- 1- In-built functions\n",
    "- 2- User defined functions"
   ]
  },
  {
   "cell_type": "markdown",
   "id": "11cc4ae9",
   "metadata": {},
   "source": [
    "# 1- Inbuilt functions"
   ]
  },
  {
   "cell_type": "markdown",
   "id": "1b30357d",
   "metadata": {},
   "source": [
    "- The functions that are already defined in Python are known as in-built functions or predefined functions.\n",
    "- As a user we have not created those functions we just use them.\n",
    "- **Example-** print(), input(), int(), float(), append(), etc."
   ]
  },
  {
   "cell_type": "markdown",
   "id": "9a3af1fa",
   "metadata": {},
   "source": [
    "# 2- User-defined functions"
   ]
  },
  {
   "cell_type": "markdown",
   "id": "632622ae",
   "metadata": {},
   "source": [
    "- The functions that  are defined or created by the user are known as user-defined functions.\n",
    "- In user-defined functions the programmar has to write the logic how the function will work.\n",
    "- He we can create an function to solve any problem.\n",
    "- A user defined function is defined by using the def keyword."
   ]
  },
  {
   "cell_type": "markdown",
   "id": "2c52c356",
   "metadata": {},
   "source": [
    "# Components of a user defined function"
   ]
  },
  {
   "cell_type": "markdown",
   "id": "b9311029",
   "metadata": {},
   "source": [
    "- Function definition\n",
    "- Function call"
   ]
  },
  {
   "cell_type": "markdown",
   "id": "390aeeb8",
   "metadata": {},
   "source": [
    "# Function definition"
   ]
  },
  {
   "cell_type": "markdown",
   "id": "2114e161",
   "metadata": {},
   "source": [
    "- This is the place where we define the function name and writes the logic (code) how the function will work."
   ]
  },
  {
   "cell_type": "markdown",
   "id": "eb2e06d3",
   "metadata": {},
   "source": [
    "# Syntax"
   ]
  },
  {
   "cell_type": "code",
   "execution_count": null,
   "id": "9805c283",
   "metadata": {},
   "outputs": [],
   "source": [
    "def function_name(): # function definition\n",
    "    code  # function body\n",
    "    code  # function body\n",
    "    code  # function body\n",
    "    code  # function body"
   ]
  },
  {
   "cell_type": "code",
   "execution_count": 14,
   "id": "e971f54a",
   "metadata": {},
   "outputs": [],
   "source": [
    "# Create a function add that adds two numbers\n",
    "\n",
    "def add():                                       # Function definition\n",
    "    a=int(input('Enter a number- '))\n",
    "    b=int(input(\"Enter a number again- \"))       # Function body\n",
    "\n",
    "    c=a+b\n",
    "    print(c)"
   ]
  },
  {
   "cell_type": "markdown",
   "id": "6e8e6f4b",
   "metadata": {},
   "source": [
    "# Function call"
   ]
  },
  {
   "cell_type": "markdown",
   "id": "d6601520",
   "metadata": {},
   "source": [
    "- A function call acts as a trigger.\n",
    "- As and where we call the function the code inside the function body gets executed."
   ]
  },
  {
   "cell_type": "markdown",
   "id": "dbe04c71",
   "metadata": {},
   "source": [
    "# Syntax"
   ]
  },
  {
   "cell_type": "code",
   "execution_count": 15,
   "id": "5a72af21",
   "metadata": {},
   "outputs": [],
   "source": [
    "# function_name()"
   ]
  },
  {
   "cell_type": "code",
   "execution_count": 16,
   "id": "a5aecc7a",
   "metadata": {},
   "outputs": [
    {
     "name": "stdout",
     "output_type": "stream",
     "text": [
      "Enter a number- 10\n",
      "Enter a number again- 20\n",
      "30\n"
     ]
    }
   ],
   "source": [
    "add()"
   ]
  },
  {
   "cell_type": "code",
   "execution_count": 17,
   "id": "b29349e0",
   "metadata": {},
   "outputs": [],
   "source": [
    "def greet():\n",
    "    print('Hello everyone!')\n",
    "    print('Welcome to my class!')"
   ]
  },
  {
   "cell_type": "code",
   "execution_count": 18,
   "id": "798b17f8",
   "metadata": {},
   "outputs": [
    {
     "name": "stdout",
     "output_type": "stream",
     "text": [
      "Hello everyone!\n",
      "Welcome to my class!\n"
     ]
    }
   ],
   "source": [
    "greet()"
   ]
  },
  {
   "cell_type": "markdown",
   "id": "68fdf087",
   "metadata": {},
   "source": [
    "# Types of user defined functions"
   ]
  },
  {
   "cell_type": "markdown",
   "id": "ca867d65",
   "metadata": {},
   "source": [
    "- Parameterised functions\n",
    "- Non-parameterised functions"
   ]
  },
  {
   "cell_type": "markdown",
   "id": "fbb50a61",
   "metadata": {},
   "source": [
    "# Parameterised function"
   ]
  },
  {
   "cell_type": "markdown",
   "id": "8d11f45a",
   "metadata": {},
   "source": [
    "- When we pass parmeters inside the function definition then it is called as parameterised function"
   ]
  },
  {
   "cell_type": "markdown",
   "id": "e7ba4af1",
   "metadata": {},
   "source": [
    "# Parameter"
   ]
  },
  {
   "cell_type": "markdown",
   "id": "1676a696",
   "metadata": {},
   "source": [
    "- When we pass variables inside the function definition then those variables are called parameters."
   ]
  },
  {
   "cell_type": "markdown",
   "id": "b699e19c",
   "metadata": {},
   "source": [
    "# Argument"
   ]
  },
  {
   "cell_type": "markdown",
   "id": "af4144df",
   "metadata": {},
   "source": [
    "- When we pass the varaibles inside the function call then those variables are known as arguments."
   ]
  },
  {
   "cell_type": "code",
   "execution_count": 40,
   "id": "2b7ea569",
   "metadata": {},
   "outputs": [],
   "source": [
    "def add(a,b):  # a and b are the parameters\n",
    "    code\n",
    "    code"
   ]
  },
  {
   "cell_type": "code",
   "execution_count": 21,
   "id": "0fb9be13",
   "metadata": {},
   "outputs": [],
   "source": [
    "# add(x,y) x and y are the arguments"
   ]
  },
  {
   "cell_type": "code",
   "execution_count": 24,
   "id": "408d9c23",
   "metadata": {},
   "outputs": [],
   "source": [
    "# Create a function add that takes two numbers from the user and add them\n",
    "\n",
    "def add(a,b):\n",
    "    c=a+b\n",
    "    print(c)"
   ]
  },
  {
   "cell_type": "code",
   "execution_count": 25,
   "id": "cc83310a",
   "metadata": {},
   "outputs": [
    {
     "name": "stdout",
     "output_type": "stream",
     "text": [
      "30\n"
     ]
    }
   ],
   "source": [
    "a=10\n",
    "b=20\n",
    "\n",
    "add(a,b)"
   ]
  },
  {
   "cell_type": "code",
   "execution_count": 29,
   "id": "544412dd",
   "metadata": {},
   "outputs": [
    {
     "name": "stdout",
     "output_type": "stream",
     "text": [
      "70\n"
     ]
    }
   ],
   "source": [
    "lst=[10,20,30,40,50,60]\n",
    "\n",
    "add(lst[0],lst[-1])"
   ]
  },
  {
   "cell_type": "code",
   "execution_count": 31,
   "id": "31b46d44",
   "metadata": {},
   "outputs": [],
   "source": [
    "def dummy(a,b):\n",
    "    print(a,type(a))\n",
    "    print(b,type(b))"
   ]
  },
  {
   "cell_type": "code",
   "execution_count": 33,
   "id": "efeaee28",
   "metadata": {},
   "outputs": [
    {
     "name": "stdout",
     "output_type": "stream",
     "text": [
      "Hello <class 'str'>\n",
      "(10+20j) <class 'complex'>\n"
     ]
    }
   ],
   "source": [
    "dummy('Hello',10+20j)"
   ]
  },
  {
   "cell_type": "code",
   "execution_count": 34,
   "id": "ab0daafb",
   "metadata": {},
   "outputs": [
    {
     "name": "stdout",
     "output_type": "stream",
     "text": [
      "<class 'function'>\n"
     ]
    }
   ],
   "source": [
    "print(type(dummy))"
   ]
  },
  {
   "cell_type": "markdown",
   "id": "bcec56d5",
   "metadata": {},
   "source": [
    "# Non-parameterised function"
   ]
  },
  {
   "cell_type": "markdown",
   "id": "56207998",
   "metadata": {},
   "source": [
    "- The function that does not have any parameters is known as non-parameterised function"
   ]
  },
  {
   "cell_type": "code",
   "execution_count": 36,
   "id": "11a6f9c5",
   "metadata": {},
   "outputs": [],
   "source": [
    "# Create a function greet that prints Hello Python on the output area when we call it\n",
    "\n",
    "def greet():\n",
    "    print('Hello Python')"
   ]
  },
  {
   "cell_type": "code",
   "execution_count": 37,
   "id": "000dbf02",
   "metadata": {},
   "outputs": [
    {
     "name": "stdout",
     "output_type": "stream",
     "text": [
      "Hello Python\n"
     ]
    }
   ],
   "source": [
    "greet()"
   ]
  },
  {
   "cell_type": "code",
   "execution_count": 46,
   "id": "f2a40741",
   "metadata": {},
   "outputs": [],
   "source": [
    "# Create a function add that generates two numbers and adds them\n",
    "\n",
    "def add():\n",
    "    a=int(input('Enter a number- '))\n",
    "    b=int(input('Enter a number again- '))\n",
    "    \n",
    "    c=a+b\n",
    "    print(c)"
   ]
  },
  {
   "cell_type": "code",
   "execution_count": 42,
   "id": "7d165ed4",
   "metadata": {},
   "outputs": [
    {
     "name": "stdout",
     "output_type": "stream",
     "text": [
      "Enter a number- 5\n",
      "Enter a number agani- 2\n",
      "7\n"
     ]
    }
   ],
   "source": [
    "add()"
   ]
  },
  {
   "cell_type": "code",
   "execution_count": 43,
   "id": "4a20f9c2",
   "metadata": {},
   "outputs": [],
   "source": [
    "def add_parameter(a,b):\n",
    "    c=a+b\n",
    "    print(c)"
   ]
  },
  {
   "cell_type": "code",
   "execution_count": 44,
   "id": "be38b61a",
   "metadata": {},
   "outputs": [
    {
     "name": "stdout",
     "output_type": "stream",
     "text": [
      "110\n"
     ]
    }
   ],
   "source": [
    "a=50\n",
    "b=60\n",
    "\n",
    "add_parameter(a,b)"
   ]
  },
  {
   "cell_type": "code",
   "execution_count": 45,
   "id": "c68a9c78",
   "metadata": {},
   "outputs": [
    {
     "name": "stdout",
     "output_type": "stream",
     "text": [
      "Enter a number- 50\n",
      "Enter a number agani- 60\n",
      "110\n"
     ]
    }
   ],
   "source": [
    "add()"
   ]
  },
  {
   "cell_type": "code",
   "execution_count": 47,
   "id": "e1dd136f",
   "metadata": {},
   "outputs": [],
   "source": [
    "num1=110\n",
    "num2=250"
   ]
  },
  {
   "cell_type": "code",
   "execution_count": 48,
   "id": "7c7408ac",
   "metadata": {},
   "outputs": [],
   "source": [
    "# add()\n",
    "# add_parameter()"
   ]
  },
  {
   "cell_type": "code",
   "execution_count": 49,
   "id": "9e5482d5",
   "metadata": {},
   "outputs": [
    {
     "name": "stdout",
     "output_type": "stream",
     "text": [
      "Enter a number- 110\n",
      "Enter a number again- 250\n",
      "360\n"
     ]
    }
   ],
   "source": [
    "add()"
   ]
  },
  {
   "cell_type": "code",
   "execution_count": 50,
   "id": "5a103f4a",
   "metadata": {},
   "outputs": [
    {
     "name": "stdout",
     "output_type": "stream",
     "text": [
      "360\n"
     ]
    }
   ],
   "source": [
    "add_parameter(num1,num2)"
   ]
  },
  {
   "cell_type": "markdown",
   "id": "c56cee50",
   "metadata": {},
   "source": [
    "# Global and local variables"
   ]
  },
  {
   "cell_type": "markdown",
   "id": "71df5fbb",
   "metadata": {},
   "source": [
    "# Global variables"
   ]
  },
  {
   "cell_type": "markdown",
   "id": "a4d7b46c",
   "metadata": {},
   "source": [
    "- The variables that are defined outside the function are known as global variables.\n",
    "- The global variables have the scode outside the function as well as inside the function."
   ]
  },
  {
   "cell_type": "markdown",
   "id": "b9506d88",
   "metadata": {},
   "source": [
    "# Local variables"
   ]
  },
  {
   "cell_type": "markdown",
   "id": "439311d7",
   "metadata": {},
   "source": [
    "- The variables that are defined inside the function are known as local variables.\n",
    "- The local variables have the scope inside the function only.\n",
    "- We can not use the local variables outside the function."
   ]
  },
  {
   "cell_type": "code",
   "execution_count": 3,
   "id": "95692058",
   "metadata": {},
   "outputs": [
    {
     "name": "stdout",
     "output_type": "stream",
     "text": [
      "The values of a outside the function 10\n"
     ]
    }
   ],
   "source": [
    "a=10\n",
    "\n",
    "def dummy():\n",
    "    print('The values of a inside the function',a)\n",
    "    x=50\n",
    "    print('The value of x inside the function',x)\n",
    "    \n",
    "print('The values of a outside the function',a)"
   ]
  },
  {
   "cell_type": "code",
   "execution_count": 4,
   "id": "33583393",
   "metadata": {},
   "outputs": [
    {
     "name": "stdout",
     "output_type": "stream",
     "text": [
      "The values of a inside the function 10\n",
      "The value of x inside the function 50\n"
     ]
    }
   ],
   "source": [
    "dummy()"
   ]
  },
  {
   "cell_type": "code",
   "execution_count": 5,
   "id": "a6ce4a0f",
   "metadata": {},
   "outputs": [
    {
     "name": "stdout",
     "output_type": "stream",
     "text": [
      "['In', 'Out', '_', '__', '___', '__builtin__', '__builtins__', '__doc__', '__loader__', '__name__', '__package__', '__spec__', '_dh', '_i', '_i1', '_i2', '_i3', '_i4', '_i5', '_ih', '_ii', '_iii', '_oh', 'a', 'dummy', 'exit', 'get_ipython', 'quit']\n"
     ]
    }
   ],
   "source": [
    "print(dir())"
   ]
  },
  {
   "cell_type": "code",
   "execution_count": 6,
   "id": "b6190529",
   "metadata": {},
   "outputs": [
    {
     "ename": "NameError",
     "evalue": "name 'x' is not defined",
     "output_type": "error",
     "traceback": [
      "\u001b[1;31m---------------------------------------------------------------------------\u001b[0m",
      "\u001b[1;31mNameError\u001b[0m                                 Traceback (most recent call last)",
      "\u001b[1;32m~\\AppData\\Local\\Temp\\ipykernel_16760\\1353120783.py\u001b[0m in \u001b[0;36m<module>\u001b[1;34m\u001b[0m\n\u001b[1;32m----> 1\u001b[1;33m \u001b[0mprint\u001b[0m\u001b[1;33m(\u001b[0m\u001b[0mx\u001b[0m\u001b[1;33m)\u001b[0m\u001b[1;33m\u001b[0m\u001b[1;33m\u001b[0m\u001b[0m\n\u001b[0m",
      "\u001b[1;31mNameError\u001b[0m: name 'x' is not defined"
     ]
    }
   ],
   "source": [
    "print(x)"
   ]
  },
  {
   "cell_type": "code",
   "execution_count": 7,
   "id": "8edefe06",
   "metadata": {},
   "outputs": [
    {
     "name": "stdout",
     "output_type": "stream",
     "text": [
      "15\n"
     ]
    }
   ],
   "source": [
    "def add(a,b):\n",
    "    c=a+b\n",
    "    print(c)\n",
    "add(10,5)"
   ]
  },
  {
   "cell_type": "code",
   "execution_count": 8,
   "id": "b8ca5249",
   "metadata": {},
   "outputs": [
    {
     "ename": "NameError",
     "evalue": "name 'c' is not defined",
     "output_type": "error",
     "traceback": [
      "\u001b[1;31m---------------------------------------------------------------------------\u001b[0m",
      "\u001b[1;31mNameError\u001b[0m                                 Traceback (most recent call last)",
      "\u001b[1;32m~\\AppData\\Local\\Temp\\ipykernel_16760\\408908665.py\u001b[0m in \u001b[0;36m<module>\u001b[1;34m\u001b[0m\n\u001b[0;32m      1\u001b[0m \u001b[0mlst\u001b[0m\u001b[1;33m=\u001b[0m\u001b[1;33m[\u001b[0m\u001b[1;33m]\u001b[0m\u001b[1;33m\u001b[0m\u001b[1;33m\u001b[0m\u001b[0m\n\u001b[1;32m----> 2\u001b[1;33m \u001b[0mlst\u001b[0m\u001b[1;33m.\u001b[0m\u001b[0mappend\u001b[0m\u001b[1;33m(\u001b[0m\u001b[0mc\u001b[0m\u001b[1;33m)\u001b[0m\u001b[1;33m\u001b[0m\u001b[1;33m\u001b[0m\u001b[0m\n\u001b[0m",
      "\u001b[1;31mNameError\u001b[0m: name 'c' is not defined"
     ]
    }
   ],
   "source": [
    "lst=[]\n",
    "lst.append(c)"
   ]
  },
  {
   "cell_type": "markdown",
   "id": "1bac9cd9",
   "metadata": {},
   "source": [
    "# return"
   ]
  },
  {
   "cell_type": "markdown",
   "id": "dd5f8833",
   "metadata": {},
   "source": [
    "- A function may return or may not return value.\n",
    "- return statement is used to return the value from a function.\n",
    "- return statement returns the value back to function call.\n",
    "- We assign the function call to a variable to handle the returned value.\n",
    "- **Note-** print() does not return anything. It returns None."
   ]
  },
  {
   "cell_type": "code",
   "execution_count": 36,
   "id": "88053b63",
   "metadata": {},
   "outputs": [],
   "source": [
    "def add(a,b):\n",
    "    c=a+b\n",
    "    return c"
   ]
  },
  {
   "cell_type": "code",
   "execution_count": 37,
   "id": "3eefe687",
   "metadata": {},
   "outputs": [
    {
     "name": "stdout",
     "output_type": "stream",
     "text": [
      "60\n"
     ]
    }
   ],
   "source": [
    "x=add(10,50)\n",
    "print(x)"
   ]
  },
  {
   "cell_type": "code",
   "execution_count": 16,
   "id": "2eecf044",
   "metadata": {},
   "outputs": [
    {
     "data": {
      "text/plain": [
       "[60]"
      ]
     },
     "execution_count": 16,
     "metadata": {},
     "output_type": "execute_result"
    }
   ],
   "source": [
    "lst=[]\n",
    "lst.append(x)\n",
    "lst"
   ]
  },
  {
   "cell_type": "code",
   "execution_count": 30,
   "id": "a26d165f",
   "metadata": {},
   "outputs": [],
   "source": [
    "def add(a,b):\n",
    "    c=a+b\n",
    "    print(c)"
   ]
  },
  {
   "cell_type": "code",
   "execution_count": 31,
   "id": "93d5de51",
   "metadata": {},
   "outputs": [
    {
     "name": "stdout",
     "output_type": "stream",
     "text": [
      "60\n"
     ]
    }
   ],
   "source": [
    "x=add(10,50)\n",
    "# print(x)"
   ]
  },
  {
   "cell_type": "code",
   "execution_count": 21,
   "id": "1ade9b40",
   "metadata": {},
   "outputs": [
    {
     "name": "stdout",
     "output_type": "stream",
     "text": [
      "None\n"
     ]
    }
   ],
   "source": [
    "print(x)"
   ]
  },
  {
   "cell_type": "code",
   "execution_count": 22,
   "id": "7944b6e4",
   "metadata": {},
   "outputs": [
    {
     "name": "stdout",
     "output_type": "stream",
     "text": [
      "Hello\n"
     ]
    }
   ],
   "source": [
    "a='Hello'\n",
    "print(a)"
   ]
  },
  {
   "cell_type": "code",
   "execution_count": 24,
   "id": "9aeef53a",
   "metadata": {},
   "outputs": [
    {
     "name": "stdout",
     "output_type": "stream",
     "text": [
      "Hello\n",
      "None\n"
     ]
    }
   ],
   "source": [
    "a=print('Hello')\n",
    "print(a)"
   ]
  },
  {
   "cell_type": "code",
   "execution_count": 25,
   "id": "932ea5e7",
   "metadata": {},
   "outputs": [],
   "source": [
    "def add(a,b):\n",
    "    c=a+b\n",
    "    print(c)"
   ]
  },
  {
   "cell_type": "code",
   "execution_count": 26,
   "id": "936b69b9",
   "metadata": {},
   "outputs": [
    {
     "name": "stdout",
     "output_type": "stream",
     "text": [
      "6\n",
      "None\n"
     ]
    }
   ],
   "source": [
    "print(add(2,4))"
   ]
  },
  {
   "cell_type": "code",
   "execution_count": 27,
   "id": "40cd6926",
   "metadata": {},
   "outputs": [],
   "source": [
    "def add(a,b):\n",
    "    c=a+b\n",
    "    return c"
   ]
  },
  {
   "cell_type": "code",
   "execution_count": 28,
   "id": "24930e13",
   "metadata": {},
   "outputs": [
    {
     "name": "stdout",
     "output_type": "stream",
     "text": [
      "6\n"
     ]
    }
   ],
   "source": [
    "print(add(2,4))"
   ]
  },
  {
   "cell_type": "code",
   "execution_count": 29,
   "id": "814572da",
   "metadata": {},
   "outputs": [],
   "source": [
    "# why A is called A"
   ]
  },
  {
   "cell_type": "markdown",
   "id": "00d42234",
   "metadata": {},
   "source": [
    "# print() vs return"
   ]
  },
  {
   "cell_type": "markdown",
   "id": "dfb7e35a",
   "metadata": {},
   "source": [
    "- print() returns None back to the function call.\n",
    "- return statement returns the value back to the function call.\n",
    "- If we want the result to use for further operations then we always use return statement.\n",
    "- reteurn statement terminates the function. Once return statement is executed no further execution takes place."
   ]
  },
  {
   "cell_type": "code",
   "execution_count": 39,
   "id": "9bc03bbf",
   "metadata": {},
   "outputs": [
    {
     "name": "stdout",
     "output_type": "stream",
     "text": [
      "Hello\n",
      "None\n"
     ]
    }
   ],
   "source": [
    "a=print('Hello')\n",
    "print(a)"
   ]
  },
  {
   "cell_type": "code",
   "execution_count": 83,
   "id": "05b70fe1",
   "metadata": {},
   "outputs": [],
   "source": [
    "def dummy():\n",
    "    a=10\n",
    "    b=20\n",
    "    return a+b\n",
    "    print('Hello')"
   ]
  },
  {
   "cell_type": "code",
   "execution_count": 85,
   "id": "c2910ed5",
   "metadata": {},
   "outputs": [
    {
     "data": {
      "text/plain": [
       "30"
      ]
     },
     "execution_count": 85,
     "metadata": {},
     "output_type": "execute_result"
    }
   ],
   "source": [
    "dummy()"
   ]
  },
  {
   "cell_type": "code",
   "execution_count": 75,
   "id": "adf00ff3",
   "metadata": {},
   "outputs": [],
   "source": [
    "# Create a function lst that takes a number as an argument and creates a list of the natural number upto that number\n",
    "\n",
    "# lst(5)\n",
    "# Output- [1,2,3,4,5]\n",
    "# lst(2)\n",
    "# Output- [1,2]\n",
    "\n",
    "def lst(a):\n",
    "    res=[]\n",
    "\n",
    "    for i in range(1,a+1):\n",
    "        res.append(i)\n",
    "    return res"
   ]
  },
  {
   "cell_type": "code",
   "execution_count": 76,
   "id": "3190bf9b",
   "metadata": {},
   "outputs": [
    {
     "name": "stdout",
     "output_type": "stream",
     "text": [
      "[1, 2, 3, 4, 5] <class 'list'>\n"
     ]
    }
   ],
   "source": [
    "x=lst(5)\n",
    "print(x,type(x))"
   ]
  },
  {
   "cell_type": "code",
   "execution_count": 77,
   "id": "92e2ed17",
   "metadata": {},
   "outputs": [
    {
     "name": "stdout",
     "output_type": "stream",
     "text": [
      "[1, 2, 3, 4, 5]\n"
     ]
    }
   ],
   "source": [
    "print(x)"
   ]
  },
  {
   "cell_type": "code",
   "execution_count": 79,
   "id": "cd164cc0",
   "metadata": {},
   "outputs": [],
   "source": [
    "# print(res)"
   ]
  },
  {
   "cell_type": "code",
   "execution_count": 80,
   "id": "adbfafe6",
   "metadata": {},
   "outputs": [],
   "source": [
    "x.append(100)"
   ]
  },
  {
   "cell_type": "code",
   "execution_count": 81,
   "id": "74367ff1",
   "metadata": {},
   "outputs": [
    {
     "data": {
      "text/plain": [
       "[1, 2, 3, 4, 5, 100]"
      ]
     },
     "execution_count": 81,
     "metadata": {},
     "output_type": "execute_result"
    }
   ],
   "source": [
    "x"
   ]
  },
  {
   "cell_type": "code",
   "execution_count": 86,
   "id": "493155ed",
   "metadata": {},
   "outputs": [],
   "source": [
    "def dummy():\n",
    "    print('Hello')"
   ]
  },
  {
   "cell_type": "code",
   "execution_count": 87,
   "id": "0eb3a671",
   "metadata": {},
   "outputs": [
    {
     "name": "stdout",
     "output_type": "stream",
     "text": [
      "Hello\n",
      "None\n"
     ]
    }
   ],
   "source": [
    "print(dummy())"
   ]
  },
  {
   "cell_type": "code",
   "execution_count": 88,
   "id": "0248eb75",
   "metadata": {},
   "outputs": [
    {
     "name": "stdout",
     "output_type": "stream",
     "text": [
      "None\n"
     ]
    }
   ],
   "source": [
    "lst=[1,2,3,4,5]\n",
    "x=lst.append(50)\n",
    "print(x)"
   ]
  },
  {
   "cell_type": "markdown",
   "id": "3e1abfc3",
   "metadata": {},
   "source": [
    "# Types of arguments"
   ]
  },
  {
   "cell_type": "code",
   "execution_count": 1,
   "id": "9a61fc3d",
   "metadata": {},
   "outputs": [
    {
     "ename": "NameError",
     "evalue": "name 'x' is not defined",
     "output_type": "error",
     "traceback": [
      "\u001b[1;31m---------------------------------------------------------------------------\u001b[0m",
      "\u001b[1;31mNameError\u001b[0m                                 Traceback (most recent call last)",
      "\u001b[1;32m~\\AppData\\Local\\Temp\\ipykernel_9092\\1691122883.py\u001b[0m in \u001b[0;36m<module>\u001b[1;34m\u001b[0m\n\u001b[0;32m      1\u001b[0m \u001b[1;32mdef\u001b[0m \u001b[0madd\u001b[0m\u001b[1;33m(\u001b[0m\u001b[1;33m*\u001b[0m\u001b[0mx\u001b[0m\u001b[1;33m)\u001b[0m\u001b[1;33m:\u001b[0m\u001b[1;33m\u001b[0m\u001b[1;33m\u001b[0m\u001b[0m\n\u001b[0;32m      2\u001b[0m     \u001b[0ms\u001b[0m\u001b[1;33m=\u001b[0m\u001b[1;36m0\u001b[0m\u001b[1;33m\u001b[0m\u001b[1;33m\u001b[0m\u001b[0m\n\u001b[1;32m----> 3\u001b[1;33m \u001b[1;32mfor\u001b[0m \u001b[0mi\u001b[0m \u001b[1;32min\u001b[0m \u001b[0mx\u001b[0m\u001b[1;33m:\u001b[0m\u001b[1;33m\u001b[0m\u001b[1;33m\u001b[0m\u001b[0m\n\u001b[0m\u001b[0;32m      4\u001b[0m         \u001b[0ms\u001b[0m\u001b[1;33m+=\u001b[0m\u001b[0mi\u001b[0m\u001b[1;33m\u001b[0m\u001b[1;33m\u001b[0m\u001b[0m\n\u001b[0;32m      5\u001b[0m \u001b[0mprint\u001b[0m\u001b[1;33m(\u001b[0m\u001b[0ms\u001b[0m\u001b[1;33m)\u001b[0m\u001b[1;33m\u001b[0m\u001b[1;33m\u001b[0m\u001b[0m\n",
      "\u001b[1;31mNameError\u001b[0m: name 'x' is not defined"
     ]
    }
   ],
   "source": [
    "def add(*x):\n",
    "    s=0\n",
    "for i in x:\n",
    "    s+=i\n",
    "print(s)"
   ]
  },
  {
   "cell_type": "code",
   "execution_count": 2,
   "id": "9d9aaf23",
   "metadata": {},
   "outputs": [
    {
     "ename": "SyntaxError",
     "evalue": "invalid syntax (879109560.py, line 1)",
     "output_type": "error",
     "traceback": [
      "\u001b[1;36m  File \u001b[1;32m\"C:\\Users\\Purvi\\AppData\\Local\\Temp\\ipykernel_9092\\879109560.py\"\u001b[1;36m, line \u001b[1;32m1\u001b[0m\n\u001b[1;33m    res add(10,5,20,45,78)\u001b[0m\n\u001b[1;37m        ^\u001b[0m\n\u001b[1;31mSyntaxError\u001b[0m\u001b[1;31m:\u001b[0m invalid syntax\n"
     ]
    }
   ],
   "source": [
    "res add(10,5,20,45,78)\n",
    "print(s)"
   ]
  },
  {
   "cell_type": "code",
   "execution_count": 3,
   "id": "9725f2cd",
   "metadata": {},
   "outputs": [
    {
     "name": "stdout",
     "output_type": "stream",
     "text": [
      "158\n"
     ]
    }
   ],
   "source": [
    "t=(10, 5, 6, 72, 55,10)\n",
    "s=0\n",
    "for i in t:\n",
    "    s+=i\n",
    "print(s)"
   ]
  },
  {
   "cell_type": "code",
   "execution_count": null,
   "id": "a989f5da",
   "metadata": {},
   "outputs": [],
   "source": []
  },
  {
   "cell_type": "code",
   "execution_count": null,
   "id": "de3f5b2f",
   "metadata": {},
   "outputs": [],
   "source": []
  },
  {
   "cell_type": "code",
   "execution_count": 7,
   "id": "dfc85d74",
   "metadata": {},
   "outputs": [
    {
     "name": "stdout",
     "output_type": "stream",
     "text": [
      "The sum of 3 and 4 is: 7\n",
      "The square of the result is: 49\n"
     ]
    }
   ],
   "source": [
    "def add_and_square(a, b, lst):\n",
    "    c = a + b\n",
    "    result = c**2\n",
    "    lst.append(result)\n",
    "    return c\n",
    "\n",
    "lst = []\n",
    "sum_result = add_and_square(3, 4, lst)\n",
    "print(\"The sum of 3 and 4 is:\", sum_result)\n",
    "print(\"The square of the result is:\", lst[0])"
   ]
  },
  {
   "cell_type": "code",
   "execution_count": null,
   "id": "5bbfe16b",
   "metadata": {},
   "outputs": [],
   "source": []
  }
 ],
 "metadata": {
  "kernelspec": {
   "display_name": "Python 3 (ipykernel)",
   "language": "python",
   "name": "python3"
  },
  "language_info": {
   "codemirror_mode": {
    "name": "ipython",
    "version": 3
   },
   "file_extension": ".py",
   "mimetype": "text/x-python",
   "name": "python",
   "nbconvert_exporter": "python",
   "pygments_lexer": "ipython3",
   "version": "3.9.13"
  }
 },
 "nbformat": 4,
 "nbformat_minor": 5
}
