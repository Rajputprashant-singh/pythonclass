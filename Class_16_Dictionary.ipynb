{
 "cells": [
  {
   "cell_type": "markdown",
   "id": "9040b230",
   "metadata": {},
   "source": [
    "# Case_3\n",
    "- By taking the input from the user"
   ]
  },
  {
   "cell_type": "code",
   "execution_count": 1,
   "id": "41a6f9c4",
   "metadata": {},
   "outputs": [
    {
     "name": "stdout",
     "output_type": "stream",
     "text": [
      "Enter a dictionary- {1:100,2:200}\n",
      "{1:100,2:200} <class 'str'>\n"
     ]
    }
   ],
   "source": [
    "d=input('Enter a dictionary- ')\n",
    "print(d,type(d))"
   ]
  },
  {
   "cell_type": "code",
   "execution_count": 2,
   "id": "96902a21",
   "metadata": {},
   "outputs": [
    {
     "data": {
      "text/plain": [
       "13"
      ]
     },
     "execution_count": 2,
     "metadata": {},
     "output_type": "execute_result"
    }
   ],
   "source": [
    "len(d)"
   ]
  },
  {
   "cell_type": "code",
   "execution_count": 6,
   "id": "f61ddf76",
   "metadata": {},
   "outputs": [
    {
     "name": "stdout",
     "output_type": "stream",
     "text": [
      "{\n",
      "1\n",
      ":\n",
      "1\n",
      "0\n",
      "0\n",
      ",\n",
      "2\n",
      ":\n",
      "2\n",
      "0\n",
      "0\n",
      "}\n"
     ]
    }
   ],
   "source": [
    "for i in d:\n",
    "    print(i)"
   ]
  },
  {
   "cell_type": "code",
   "execution_count": 9,
   "id": "ec7a9cac",
   "metadata": {},
   "outputs": [],
   "source": [
    "# d=dict(input('Enter a dictionary- '))\n",
    "# print(d,type(d))"
   ]
  },
  {
   "cell_type": "markdown",
   "id": "e1ae1a2c",
   "metadata": {},
   "source": [
    "# eval()"
   ]
  },
  {
   "cell_type": "code",
   "execution_count": 10,
   "id": "fe7e3e12",
   "metadata": {},
   "outputs": [
    {
     "name": "stdout",
     "output_type": "stream",
     "text": [
      "{1, 2, 3} <class 'set'>\n"
     ]
    }
   ],
   "source": [
    "a=eval('{1,2,3}')\n",
    "print(a,type(a))"
   ]
  },
  {
   "cell_type": "code",
   "execution_count": 11,
   "id": "e1dea111",
   "metadata": {},
   "outputs": [
    {
     "name": "stdout",
     "output_type": "stream",
     "text": [
      "{1: 100, 2: 200, 3: 300, 4: 400} <class 'dict'>\n"
     ]
    }
   ],
   "source": [
    "a=eval('{1:100,2:200,3:300,4:400}')\n",
    "print(a,type(a))"
   ]
  },
  {
   "cell_type": "code",
   "execution_count": 12,
   "id": "121b7e59",
   "metadata": {},
   "outputs": [
    {
     "name": "stdout",
     "output_type": "stream",
     "text": [
      "Enter a dictionary- {1:100,2:200}\n",
      "{1: 100, 2: 200} <class 'dict'>\n"
     ]
    }
   ],
   "source": [
    "d=eval(input(\"Enter a dictionary- \"))\n",
    "print(d,type(d))"
   ]
  },
  {
   "cell_type": "code",
   "execution_count": 17,
   "id": "3b756fc6",
   "metadata": {},
   "outputs": [
    {
     "name": "stdout",
     "output_type": "stream",
     "text": [
      "Enter a key- 1\n",
      "Enter the value- 100\n",
      "Enter a key- 2\n",
      "Enter the value- 200\n",
      "Enter a key- 3\n",
      "Enter the value- 300\n",
      "Enter a key- 4\n",
      "Enter the value- 400\n",
      "{1: 100, 2: 200, 3: 300, 4: 400}\n"
     ]
    }
   ],
   "source": [
    "keys=[]\n",
    "vals=[]\n",
    "\n",
    "for i in range(4):\n",
    "    a=eval(input('Enter a key- '))\n",
    "    keys.append(a)\n",
    "    \n",
    "    b=eval(input('Enter the value- '))\n",
    "    vals.append(b)\n",
    "d=dict(zip(keys,vals))\n",
    "\n",
    "print(d)"
   ]
  },
  {
   "cell_type": "code",
   "execution_count": 18,
   "id": "81c02c02",
   "metadata": {},
   "outputs": [
    {
     "data": {
      "text/plain": [
       "[1, 2, 3, 4]"
      ]
     },
     "execution_count": 18,
     "metadata": {},
     "output_type": "execute_result"
    }
   ],
   "source": [
    "keys"
   ]
  },
  {
   "cell_type": "code",
   "execution_count": 19,
   "id": "580c5bca",
   "metadata": {},
   "outputs": [
    {
     "data": {
      "text/plain": [
       "[100, 200, 300, 400]"
      ]
     },
     "execution_count": 19,
     "metadata": {},
     "output_type": "execute_result"
    }
   ],
   "source": [
    "vals"
   ]
  },
  {
   "cell_type": "code",
   "execution_count": 2,
   "id": "ea8e91b7",
   "metadata": {},
   "outputs": [],
   "source": [
    "a=5"
   ]
  },
  {
   "cell_type": "code",
   "execution_count": 3,
   "id": "1ccdd0e3",
   "metadata": {},
   "outputs": [
    {
     "data": {
      "text/plain": [
       "5"
      ]
     },
     "execution_count": 3,
     "metadata": {},
     "output_type": "execute_result"
    }
   ],
   "source": [
    "a"
   ]
  },
  {
   "cell_type": "code",
   "execution_count": 6,
   "id": "d488133d",
   "metadata": {},
   "outputs": [],
   "source": [
    "lst=[]"
   ]
  },
  {
   "cell_type": "code",
   "execution_count": 7,
   "id": "897197c3",
   "metadata": {},
   "outputs": [
    {
     "name": "stdout",
     "output_type": "stream",
     "text": [
      "[] <class 'list'>\n"
     ]
    }
   ],
   "source": [
    "print(lst,type(lst))"
   ]
  },
  {
   "cell_type": "code",
   "execution_count": 8,
   "id": "a15fe34c",
   "metadata": {},
   "outputs": [],
   "source": [
    "lst.append(50)"
   ]
  },
  {
   "cell_type": "code",
   "execution_count": 9,
   "id": "a756c974",
   "metadata": {},
   "outputs": [
    {
     "data": {
      "text/plain": [
       "[50]"
      ]
     },
     "execution_count": 9,
     "metadata": {},
     "output_type": "execute_result"
    }
   ],
   "source": [
    "lst"
   ]
  },
  {
   "cell_type": "code",
   "execution_count": 19,
   "id": "4eb9685c",
   "metadata": {},
   "outputs": [
    {
     "name": "stdout",
     "output_type": "stream",
     "text": [
      "oa\n"
     ]
    }
   ],
   "source": [
    "# Create a new string that has only the vowels from the following string\n",
    "\n",
    "my_str='Python class'\n",
    "res=''\n",
    "\n",
    "for x in my_str:\n",
    "    if x in 'AEIOUaeiou':\n",
    "        res+=x\n",
    "print(res)"
   ]
  },
  {
   "cell_type": "markdown",
   "id": "dbb8183b",
   "metadata": {},
   "source": [
    "# Case_4\n",
    "- By using dictionary comprehension"
   ]
  },
  {
   "cell_type": "markdown",
   "id": "70eca6e9",
   "metadata": {},
   "source": [
    "- It is the easy way to create a dictionary using loop."
   ]
  },
  {
   "cell_type": "code",
   "execution_count": 21,
   "id": "aba5c79f",
   "metadata": {},
   "outputs": [],
   "source": [
    "# {for loop}- dictionary comprehension\n",
    "# {key:value for loop}"
   ]
  },
  {
   "cell_type": "code",
   "execution_count": 25,
   "id": "dc0daa97",
   "metadata": {},
   "outputs": [
    {
     "name": "stdout",
     "output_type": "stream",
     "text": [
      "{1: 1, 2: 4, 3: 9, 4: 16, 5: 25, 6: 36, 7: 49, 8: 64, 9: 81, 10: 100}\n"
     ]
    }
   ],
   "source": [
    "# Create a dictionary where the numbers from 1 to 10 are the keys and their squares are the values\n",
    "\n",
    "# {1:1,2:4,3:9,4:16,5:25,6:36,7:49,8:64,9:81,10:100}\n",
    "\n",
    "d={i:i**2 for i in range(1,11)}\n",
    "print(d)"
   ]
  },
  {
   "cell_type": "code",
   "execution_count": 27,
   "id": "9f1d494e",
   "metadata": {},
   "outputs": [
    {
     "data": {
      "text/plain": [
       "{1: 1, 4: 2, 9: 3, 16: 4, 25: 5, 36: 6, 49: 7, 64: 8, 81: 9, 100: 10}"
      ]
     },
     "execution_count": 27,
     "metadata": {},
     "output_type": "execute_result"
    }
   ],
   "source": [
    "# Create a dictionary where the numbers from 1 to 10 are the values and their squares are the keys\n",
    "\n",
    "{i**2:i for i in range(1,11)}"
   ]
  },
  {
   "cell_type": "code",
   "execution_count": 28,
   "id": "4870e864",
   "metadata": {},
   "outputs": [],
   "source": [
    "# {key:value for loop if condition (option)}"
   ]
  },
  {
   "cell_type": "code",
   "execution_count": 32,
   "id": "af6f0df8",
   "metadata": {},
   "outputs": [
    {
     "name": "stdout",
     "output_type": "stream",
     "text": [
      "{3: 27, 6: 216, 9: 729, 12: 1728, 18: 5832}\n"
     ]
    }
   ],
   "source": [
    "# Create a dictionary where the keys are the numbers divisible by 3 but not divisible by 5 from 1 to 20 \n",
    "# and their cubes are the values.\n",
    "\n",
    "d={i:i**3 for i in range(1,21) if i%3==0 and i%5!=0}\n",
    "print(d)"
   ]
  },
  {
   "cell_type": "code",
   "execution_count": 37,
   "id": "e8c775d9",
   "metadata": {},
   "outputs": [
    {
     "data": {
      "text/plain": [
       "{1: 1, 2: 4, 3: 27, 4: 16, 5: 125, 6: 36, 7: 343, 8: 64, 9: 729, 10: 100}"
      ]
     },
     "execution_count": 37,
     "metadata": {},
     "output_type": "execute_result"
    }
   ],
   "source": [
    "# {ternary operator for loop}\n",
    "\n",
    "# Create a dictionary where the numbers from 1 to 10 are the keys and \n",
    "# the values are the squares of the even keys and the cubes of the odd keys\n",
    "\n",
    "# {1:1,2:2,3:27,4:16,5:125,6:36,7:343,8:64,9:729,10:100}\n",
    "\n",
    "{i:i**2 if i%2==0 else i**3 for i in range(1,11)}"
   ]
  },
  {
   "cell_type": "code",
   "execution_count": 40,
   "id": "0129afe8",
   "metadata": {},
   "outputs": [
    {
     "data": {
      "text/plain": [
       "{1: 1, 4: 2, 27: 3, 16: 4, 125: 5, 36: 6, 343: 7, 64: 8, 729: 9, 100: 10}"
      ]
     },
     "execution_count": 40,
     "metadata": {},
     "output_type": "execute_result"
    }
   ],
   "source": [
    "# Create a dictionary where the numbers from 1 to 10 are the values and \n",
    "# the keys are the squares of the even values and the cubes of the odd values\n",
    "\n",
    "{i**2 if i%2==0 else i**3:i for i in range(1,11)}"
   ]
  },
  {
   "cell_type": "code",
   "execution_count": null,
   "id": "c491a1fe",
   "metadata": {},
   "outputs": [],
   "source": [
    "# d[key]=value"
   ]
  },
  {
   "cell_type": "code",
   "execution_count": 55,
   "id": "7f204f21",
   "metadata": {},
   "outputs": [
    {
     "name": "stdout",
     "output_type": "stream",
     "text": [
      "{1: 1, 2: 4, 3: 27, 4: 16, 5: 125, 6: 36, 7: 343, 8: 64, 9: 729, 10: 100}\n"
     ]
    }
   ],
   "source": [
    "# Using loop\n",
    "# {1:1,2:2,3:27,4:16,5:125,6:36,7:343,8:64,9:729,10:100}\n",
    "d={}\n",
    "\n",
    "for i in range(1,11):\n",
    "    if i%2==0:\n",
    "        d[i]=i**2\n",
    "    else:\n",
    "        d[i]=i**3\n",
    "print(d)"
   ]
  },
  {
   "cell_type": "code",
   "execution_count": 56,
   "id": "7f195611",
   "metadata": {},
   "outputs": [
    {
     "name": "stdout",
     "output_type": "stream",
     "text": [
      "{1: 1, 4: 2, 27: 3, 16: 4, 125: 5, 36: 6, 343: 7, 64: 8, 729: 9, 100: 10}\n"
     ]
    }
   ],
   "source": [
    "# Using loop\n",
    "d={}\n",
    "\n",
    "for i in range(1,11):\n",
    "    if i%2==0:\n",
    "        d[i**2]=i\n",
    "    else:\n",
    "        d[i**3]=i\n",
    "print(d)"
   ]
  },
  {
   "cell_type": "code",
   "execution_count": 46,
   "id": "32a400d8",
   "metadata": {},
   "outputs": [
    {
     "name": "stdout",
     "output_type": "stream",
     "text": [
      "{} <class 'dict'>\n"
     ]
    }
   ],
   "source": [
    "# {1:100}\n",
    "d={}\n",
    "print(d,type(d))"
   ]
  },
  {
   "cell_type": "code",
   "execution_count": 48,
   "id": "138dd4fe",
   "metadata": {},
   "outputs": [],
   "source": [
    "d[1]=100"
   ]
  },
  {
   "cell_type": "code",
   "execution_count": 49,
   "id": "b053ca95",
   "metadata": {},
   "outputs": [
    {
     "data": {
      "text/plain": [
       "{1: 100}"
      ]
     },
     "execution_count": 49,
     "metadata": {},
     "output_type": "execute_result"
    }
   ],
   "source": [
    "d"
   ]
  },
  {
   "cell_type": "code",
   "execution_count": 50,
   "id": "089a3d9e",
   "metadata": {},
   "outputs": [
    {
     "ename": "KeyError",
     "evalue": "2",
     "output_type": "error",
     "traceback": [
      "\u001b[1;31m---------------------------------------------------------------------------\u001b[0m",
      "\u001b[1;31mKeyError\u001b[0m                                  Traceback (most recent call last)",
      "\u001b[1;32m~\\AppData\\Local\\Temp\\ipykernel_16160\\464593666.py\u001b[0m in \u001b[0;36m<module>\u001b[1;34m\u001b[0m\n\u001b[1;32m----> 1\u001b[1;33m \u001b[0md\u001b[0m\u001b[1;33m[\u001b[0m\u001b[1;36m2\u001b[0m\u001b[1;33m]\u001b[0m\u001b[1;33m\u001b[0m\u001b[1;33m\u001b[0m\u001b[0m\n\u001b[0m",
      "\u001b[1;31mKeyError\u001b[0m: 2"
     ]
    }
   ],
   "source": [
    "d[2]"
   ]
  },
  {
   "cell_type": "code",
   "execution_count": 51,
   "id": "38397e6e",
   "metadata": {},
   "outputs": [],
   "source": [
    "d[2]=None"
   ]
  },
  {
   "cell_type": "code",
   "execution_count": 52,
   "id": "3716efa3",
   "metadata": {},
   "outputs": [
    {
     "data": {
      "text/plain": [
       "{1: 100, 2: None}"
      ]
     },
     "execution_count": 52,
     "metadata": {},
     "output_type": "execute_result"
    }
   ],
   "source": [
    "d"
   ]
  },
  {
   "cell_type": "code",
   "execution_count": 53,
   "id": "1281a070",
   "metadata": {},
   "outputs": [],
   "source": [
    "# d[key]=value"
   ]
  },
  {
   "cell_type": "code",
   "execution_count": 57,
   "id": "858f2a44",
   "metadata": {},
   "outputs": [],
   "source": [
    "# {key:value for loop}"
   ]
  },
  {
   "cell_type": "code",
   "execution_count": 66,
   "id": "5666932a",
   "metadata": {},
   "outputs": [
    {
     "data": {
      "text/plain": [
       "{1: 'Suraj', 2: 'Suraj', 3: 'Suraj', 4: 'Suraj', 5: 'Suraj'}"
      ]
     },
     "execution_count": 66,
     "metadata": {},
     "output_type": "execute_result"
    }
   ],
   "source": [
    "{i:'Suraj' for i in range(1,6)}"
   ]
  },
  {
   "cell_type": "code",
   "execution_count": 70,
   "id": "37c59ca0",
   "metadata": {},
   "outputs": [
    {
     "data": {
      "text/plain": [
       "{'A': 65,\n",
       " 'B': 66,\n",
       " 'C': 67,\n",
       " 'D': 68,\n",
       " 'E': 69,\n",
       " 'F': 70,\n",
       " 'G': 71,\n",
       " 'H': 72,\n",
       " 'I': 73,\n",
       " 'J': 74,\n",
       " 'K': 75,\n",
       " 'L': 76,\n",
       " 'M': 77,\n",
       " 'N': 78,\n",
       " 'O': 79,\n",
       " 'P': 80,\n",
       " 'Q': 81,\n",
       " 'R': 82,\n",
       " 'S': 83,\n",
       " 'T': 84,\n",
       " 'U': 85,\n",
       " 'V': 86,\n",
       " 'W': 87,\n",
       " 'X': 88,\n",
       " 'Y': 89,\n",
       " 'Z': 90}"
      ]
     },
     "execution_count": 70,
     "metadata": {},
     "output_type": "execute_result"
    }
   ],
   "source": [
    "# Create a dictionary where the letters from A to Z are the keys and their ASCII values are the values\n",
    "\n",
    "# A- 65\n",
    "# Z- 90\n",
    "\n",
    "# ord('A')-> 65\n",
    "# chr(65)-> 'A'\n",
    "\n",
    "{chr(i):i for i in range(65,91)}    "
   ]
  },
  {
   "cell_type": "code",
   "execution_count": 72,
   "id": "8d6d33f3",
   "metadata": {},
   "outputs": [
    {
     "data": {
      "text/plain": [
       "{65: 'A',\n",
       " 66: 'B',\n",
       " 67: 'C',\n",
       " 68: 'D',\n",
       " 69: 'E',\n",
       " 70: 'F',\n",
       " 71: 'G',\n",
       " 72: 'H',\n",
       " 73: 'I',\n",
       " 74: 'J',\n",
       " 75: 'K',\n",
       " 76: 'L',\n",
       " 77: 'M',\n",
       " 78: 'N',\n",
       " 79: 'O',\n",
       " 80: 'P',\n",
       " 81: 'Q',\n",
       " 82: 'R',\n",
       " 83: 'S',\n",
       " 84: 'T',\n",
       " 85: 'U',\n",
       " 86: 'V',\n",
       " 87: 'W',\n",
       " 88: 'X',\n",
       " 89: 'Y',\n",
       " 90: 'Z'}"
      ]
     },
     "execution_count": 72,
     "metadata": {},
     "output_type": "execute_result"
    }
   ],
   "source": [
    "{i:chr(i) for i in range(65,91)}"
   ]
  },
  {
   "cell_type": "code",
   "execution_count": 76,
   "id": "f13fc377",
   "metadata": {},
   "outputs": [
    {
     "data": {
      "text/plain": [
       "{65: 'A', 69: 'E', 73: 'I', 79: 'O', 85: 'U'}"
      ]
     },
     "execution_count": 76,
     "metadata": {},
     "output_type": "execute_result"
    }
   ],
   "source": [
    "# Keys- ASCII\n",
    "# values- Vowels from A-Z\n",
    "\n",
    "{i:chr(i) for i in range(65,91) if chr(i) in 'AEIOU'}"
   ]
  },
  {
   "cell_type": "code",
   "execution_count": 80,
   "id": "353f4193",
   "metadata": {},
   "outputs": [
    {
     "data": {
      "text/plain": [
       "{66: 'B',\n",
       " 67: 'C',\n",
       " 68: 'D',\n",
       " 70: 'F',\n",
       " 71: 'G',\n",
       " 72: 'H',\n",
       " 74: 'J',\n",
       " 75: 'K',\n",
       " 76: 'L',\n",
       " 77: 'M',\n",
       " 78: 'N',\n",
       " 80: 'P',\n",
       " 81: 'Q',\n",
       " 82: 'R',\n",
       " 83: 'S',\n",
       " 84: 'T',\n",
       " 86: 'V',\n",
       " 87: 'W',\n",
       " 88: 'X',\n",
       " 89: 'Y',\n",
       " 90: 'Z'}"
      ]
     },
     "execution_count": 80,
     "metadata": {},
     "output_type": "execute_result"
    }
   ],
   "source": [
    "# Keys- ASCII\n",
    "# values- Consonants from A-Z\n",
    "\n",
    "{i:chr(i) for i in range(65,91) if chr(i) not in 'AEIOU'}"
   ]
  },
  {
   "cell_type": "code",
   "execution_count": 81,
   "id": "dc761a9b",
   "metadata": {},
   "outputs": [],
   "source": [
    "# Create a dictionary using dictionary comprehension where the keys are the odd ASCII values between 80 to 100\n",
    "# Values are the charcters at those ASCII values"
   ]
  },
  {
   "cell_type": "code",
   "execution_count": 82,
   "id": "57234452",
   "metadata": {},
   "outputs": [],
   "source": [
    "# lst=[10,20,30,40,50,60]\n",
    "# Keys= indexes of the elements from the above list\n",
    "# Values= The elemnts available at those particular indexes"
   ]
  },
  {
   "cell_type": "markdown",
   "id": "30341157",
   "metadata": {},
   "source": [
    "# We can map multiple values to a particular key"
   ]
  },
  {
   "cell_type": "code",
   "execution_count": 83,
   "id": "52173f32",
   "metadata": {},
   "outputs": [],
   "source": [
    "# emp_name\n",
    "# emp_age\n",
    "# emp_department"
   ]
  },
  {
   "cell_type": "code",
   "execution_count": 84,
   "id": "c5815cbd",
   "metadata": {},
   "outputs": [
    {
     "data": {
      "text/plain": [
       "['HR', 'Operations', 'Data', 'Marketing', 'HR', 'Data', 'Finance']"
      ]
     },
     "execution_count": 84,
     "metadata": {},
     "output_type": "execute_result"
    }
   ],
   "source": [
    "['Vaishali', 'Pooja','Aniket','Pragya','Sairam','Rajesh','Kannan']\n",
    "[22,23,25,24,22,21,26]\n",
    "['HR','Operations','Data','Marketing','HR','Data','Finance']"
   ]
  },
  {
   "cell_type": "code",
   "execution_count": 85,
   "id": "fe5f2a0c",
   "metadata": {},
   "outputs": [],
   "source": [
    "emp_details={'emp_name':['Vaishali', 'Pooja','Aniket','Pragya','Sairam','Rajesh','Kannan'],\n",
    "'emp_age':[22,23,25,24,22,21,26],\n",
    "'emp_department':['HR','Operations','Data','Marketing','HR','Data','Finance']}"
   ]
  },
  {
   "cell_type": "code",
   "execution_count": 86,
   "id": "327126da",
   "metadata": {},
   "outputs": [
    {
     "name": "stdout",
     "output_type": "stream",
     "text": [
      "{'emp_name': ['Vaishali', 'Pooja', 'Aniket', 'Pragya', 'Sairam', 'Rajesh', 'Kannan'], 'emp_age': [22, 23, 25, 24, 22, 21, 26], 'emp_department': ['HR', 'Operations', 'Data', 'Marketing', 'HR', 'Data', 'Finance']}\n"
     ]
    }
   ],
   "source": [
    "print(emp_details)"
   ]
  },
  {
   "cell_type": "code",
   "execution_count": 87,
   "id": "f9d0731a",
   "metadata": {},
   "outputs": [
    {
     "data": {
      "text/plain": [
       "['Vaishali', 'Pooja', 'Aniket', 'Pragya', 'Sairam', 'Rajesh', 'Kannan']"
      ]
     },
     "execution_count": 87,
     "metadata": {},
     "output_type": "execute_result"
    }
   ],
   "source": [
    "emp_details['emp_name']"
   ]
  },
  {
   "cell_type": "code",
   "execution_count": 88,
   "id": "2ee0644b",
   "metadata": {},
   "outputs": [
    {
     "data": {
      "text/plain": [
       "[22, 23, 25, 24, 22, 21, 26]"
      ]
     },
     "execution_count": 88,
     "metadata": {},
     "output_type": "execute_result"
    }
   ],
   "source": [
    "emp_details['emp_age']"
   ]
  },
  {
   "cell_type": "code",
   "execution_count": 89,
   "id": "ae7f3051",
   "metadata": {},
   "outputs": [
    {
     "data": {
      "text/plain": [
       "['HR', 'Operations', 'Data', 'Marketing', 'HR', 'Data', 'Finance']"
      ]
     },
     "execution_count": 89,
     "metadata": {},
     "output_type": "execute_result"
    }
   ],
   "source": [
    "emp_details['emp_department']"
   ]
  },
  {
   "cell_type": "code",
   "execution_count": 90,
   "id": "7c87b1f6",
   "metadata": {},
   "outputs": [],
   "source": [
    "import pandas as pd"
   ]
  },
  {
   "cell_type": "code",
   "execution_count": 91,
   "id": "45ab6d27",
   "metadata": {},
   "outputs": [
    {
     "data": {
      "text/html": [
       "<div>\n",
       "<style scoped>\n",
       "    .dataframe tbody tr th:only-of-type {\n",
       "        vertical-align: middle;\n",
       "    }\n",
       "\n",
       "    .dataframe tbody tr th {\n",
       "        vertical-align: top;\n",
       "    }\n",
       "\n",
       "    .dataframe thead th {\n",
       "        text-align: right;\n",
       "    }\n",
       "</style>\n",
       "<table border=\"1\" class=\"dataframe\">\n",
       "  <thead>\n",
       "    <tr style=\"text-align: right;\">\n",
       "      <th></th>\n",
       "      <th>emp_name</th>\n",
       "      <th>emp_age</th>\n",
       "      <th>emp_department</th>\n",
       "    </tr>\n",
       "  </thead>\n",
       "  <tbody>\n",
       "    <tr>\n",
       "      <th>0</th>\n",
       "      <td>Vaishali</td>\n",
       "      <td>22</td>\n",
       "      <td>HR</td>\n",
       "    </tr>\n",
       "    <tr>\n",
       "      <th>1</th>\n",
       "      <td>Pooja</td>\n",
       "      <td>23</td>\n",
       "      <td>Operations</td>\n",
       "    </tr>\n",
       "    <tr>\n",
       "      <th>2</th>\n",
       "      <td>Aniket</td>\n",
       "      <td>25</td>\n",
       "      <td>Data</td>\n",
       "    </tr>\n",
       "    <tr>\n",
       "      <th>3</th>\n",
       "      <td>Pragya</td>\n",
       "      <td>24</td>\n",
       "      <td>Marketing</td>\n",
       "    </tr>\n",
       "    <tr>\n",
       "      <th>4</th>\n",
       "      <td>Sairam</td>\n",
       "      <td>22</td>\n",
       "      <td>HR</td>\n",
       "    </tr>\n",
       "    <tr>\n",
       "      <th>5</th>\n",
       "      <td>Rajesh</td>\n",
       "      <td>21</td>\n",
       "      <td>Data</td>\n",
       "    </tr>\n",
       "    <tr>\n",
       "      <th>6</th>\n",
       "      <td>Kannan</td>\n",
       "      <td>26</td>\n",
       "      <td>Finance</td>\n",
       "    </tr>\n",
       "  </tbody>\n",
       "</table>\n",
       "</div>"
      ],
      "text/plain": [
       "   emp_name  emp_age emp_department\n",
       "0  Vaishali       22             HR\n",
       "1     Pooja       23     Operations\n",
       "2    Aniket       25           Data\n",
       "3    Pragya       24      Marketing\n",
       "4    Sairam       22             HR\n",
       "5    Rajesh       21           Data\n",
       "6    Kannan       26        Finance"
      ]
     },
     "execution_count": 91,
     "metadata": {},
     "output_type": "execute_result"
    }
   ],
   "source": [
    "pd.DataFrame(emp_details)"
   ]
  },
  {
   "cell_type": "markdown",
   "id": "a513d593",
   "metadata": {},
   "source": [
    "# Nested Dictionary"
   ]
  },
  {
   "cell_type": "markdown",
   "id": "72abdcd4",
   "metadata": {},
   "source": [
    "- A dictionary within another dictionary is known as dictionary.\n",
    "- When a dictionary is mapped to a key of another dictionary then it is known  as nested dictionary."
   ]
  },
  {
   "cell_type": "code",
   "execution_count": 93,
   "id": "8dce479c",
   "metadata": {},
   "outputs": [],
   "source": [
    "# {key:{key:value}}"
   ]
  },
  {
   "cell_type": "code",
   "execution_count": 95,
   "id": "4645c72d",
   "metadata": {},
   "outputs": [],
   "source": [
    "# emp_details\n",
    "# name\n",
    "# age\n",
    "# ID\n",
    "# Salary"
   ]
  },
  {
   "cell_type": "code",
   "execution_count": 98,
   "id": "26599558",
   "metadata": {},
   "outputs": [],
   "source": [
    "emp_details={'emp_1':{'name':'Rajesh',\n",
    "         'age':22,\n",
    "         'ID':101,\n",
    "         'Salary':45000},\n",
    " \n",
    " 'emp_2':{'name':'Bhagyashree',\n",
    "         'age':23,\n",
    "         'ID':102,\n",
    "         'Salary':48000},\n",
    " \n",
    " 'emp_3':{'name':'Gaurav',\n",
    "         'age':24,\n",
    "         'ID':None,\n",
    "         'Salary':50000},\n",
    "}"
   ]
  },
  {
   "cell_type": "code",
   "execution_count": 99,
   "id": "37b9d06b",
   "metadata": {},
   "outputs": [
    {
     "name": "stdout",
     "output_type": "stream",
     "text": [
      "{'emp_1': {'name': 'Rajesh', 'age': 22, 'ID': 101, 'Salary': 45000}, 'emp_2': {'name': 'Bhagyashree', 'age': 23, 'ID': 102, 'Salary': 48000}, 'emp_3': {'name': 'Gaurav', 'age': 24, 'ID': None, 'Salary': 50000}}\n"
     ]
    }
   ],
   "source": [
    "print(emp_details)"
   ]
  },
  {
   "cell_type": "markdown",
   "id": "90db0294",
   "metadata": {},
   "source": [
    "# How to access the values from a nested dictionary?"
   ]
  },
  {
   "cell_type": "code",
   "execution_count": 100,
   "id": "e660da7d",
   "metadata": {},
   "outputs": [],
   "source": [
    "# d[key]"
   ]
  },
  {
   "cell_type": "code",
   "execution_count": 101,
   "id": "f693425a",
   "metadata": {},
   "outputs": [
    {
     "data": {
      "text/plain": [
       "{'name': 'Rajesh', 'age': 22, 'ID': 101, 'Salary': 45000}"
      ]
     },
     "execution_count": 101,
     "metadata": {},
     "output_type": "execute_result"
    }
   ],
   "source": [
    "emp_details['emp_1']"
   ]
  },
  {
   "cell_type": "code",
   "execution_count": 103,
   "id": "9aca2d6b",
   "metadata": {},
   "outputs": [
    {
     "data": {
      "text/plain": [
       "{'name': 'Bhagyashree', 'age': 23, 'ID': 102, 'Salary': 48000}"
      ]
     },
     "execution_count": 103,
     "metadata": {},
     "output_type": "execute_result"
    }
   ],
   "source": [
    "emp_details['emp_2']"
   ]
  },
  {
   "cell_type": "code",
   "execution_count": 104,
   "id": "49055e30",
   "metadata": {},
   "outputs": [
    {
     "data": {
      "text/plain": [
       "{'name': 'Gaurav', 'age': 24, 'ID': None, 'Salary': 50000}"
      ]
     },
     "execution_count": 104,
     "metadata": {},
     "output_type": "execute_result"
    }
   ],
   "source": [
    "emp_details['emp_3']"
   ]
  },
  {
   "cell_type": "code",
   "execution_count": 107,
   "id": "843f6461",
   "metadata": {},
   "outputs": [
    {
     "data": {
      "text/plain": [
       "'Rajesh'"
      ]
     },
     "execution_count": 107,
     "metadata": {},
     "output_type": "execute_result"
    }
   ],
   "source": [
    "# Fetch the name of the emp_1\n",
    "\n",
    "emp_details['emp_1']['name']"
   ]
  },
  {
   "cell_type": "code",
   "execution_count": 113,
   "id": "1554b714",
   "metadata": {},
   "outputs": [
    {
     "name": "stdout",
     "output_type": "stream",
     "text": [
      "None\n"
     ]
    }
   ],
   "source": [
    "# ID of emp_3\n",
    "\n",
    "print(emp_details['emp_3']['ID'])"
   ]
  },
  {
   "cell_type": "code",
   "execution_count": 114,
   "id": "18c267a3",
   "metadata": {},
   "outputs": [],
   "source": [
    "# Assign 105 as ID to emp_3"
   ]
  },
  {
   "cell_type": "code",
   "execution_count": 117,
   "id": "de532881",
   "metadata": {},
   "outputs": [],
   "source": [
    "emp_details['emp_3']['ID']=105"
   ]
  },
  {
   "cell_type": "code",
   "execution_count": 119,
   "id": "0b0c93b5",
   "metadata": {},
   "outputs": [
    {
     "data": {
      "text/plain": [
       "{'emp_1': {'name': 'Rajesh', 'age': 22, 'ID': 101, 'Salary': 45000},\n",
       " 'emp_2': {'name': 'Bhagyashree', 'age': 23, 'ID': 102, 'Salary': 48000},\n",
       " 'emp_3': {'name': 'Gaurav', 'age': 24, 'ID': 105, 'Salary': 50000}}"
      ]
     },
     "execution_count": 119,
     "metadata": {},
     "output_type": "execute_result"
    }
   ],
   "source": [
    "emp_details"
   ]
  },
  {
   "cell_type": "markdown",
   "id": "4a88fb62",
   "metadata": {},
   "source": [
    "# Dictionary is mutable"
   ]
  },
  {
   "cell_type": "code",
   "execution_count": 120,
   "id": "809e607b",
   "metadata": {},
   "outputs": [
    {
     "data": {
      "text/plain": [
       "{'name': 'Rajesh', 'age': 22, 'ID': 101, 'Salary': 45000}"
      ]
     },
     "execution_count": 120,
     "metadata": {},
     "output_type": "execute_result"
    }
   ],
   "source": [
    "emp={'name': 'Rajesh', 'age': 22, 'ID': 101, 'Salary': 45000}\n",
    "emp"
   ]
  },
  {
   "cell_type": "code",
   "execution_count": 121,
   "id": "427a3bb6",
   "metadata": {},
   "outputs": [],
   "source": [
    "# Change name=Tejasvi"
   ]
  },
  {
   "cell_type": "code",
   "execution_count": 123,
   "id": "d8c80af8",
   "metadata": {},
   "outputs": [],
   "source": [
    "# emp[key]=value"
   ]
  },
  {
   "cell_type": "code",
   "execution_count": 125,
   "id": "3d45e20a",
   "metadata": {},
   "outputs": [],
   "source": [
    "emp['name']='Tejasvi'"
   ]
  },
  {
   "cell_type": "code",
   "execution_count": 126,
   "id": "693a14db",
   "metadata": {},
   "outputs": [
    {
     "data": {
      "text/plain": [
       "{'name': 'Tejasvi', 'age': 22, 'ID': 101, 'Salary': 45000}"
      ]
     },
     "execution_count": 126,
     "metadata": {},
     "output_type": "execute_result"
    }
   ],
   "source": [
    "emp"
   ]
  },
  {
   "cell_type": "code",
   "execution_count": 127,
   "id": "ffb28e59",
   "metadata": {},
   "outputs": [],
   "source": [
    "# ID=111\n",
    "\n",
    "emp['ID']=111"
   ]
  },
  {
   "cell_type": "code",
   "execution_count": 128,
   "id": "e88ca284",
   "metadata": {},
   "outputs": [
    {
     "data": {
      "text/plain": [
       "{'name': 'Tejasvi', 'age': 22, 'ID': 111, 'Salary': 45000}"
      ]
     },
     "execution_count": 128,
     "metadata": {},
     "output_type": "execute_result"
    }
   ],
   "source": [
    "emp"
   ]
  },
  {
   "cell_type": "code",
   "execution_count": 130,
   "id": "5c5b34f6",
   "metadata": {},
   "outputs": [],
   "source": [
    "# Salary=52000\n",
    "emp['Salary']=52000"
   ]
  },
  {
   "cell_type": "code",
   "execution_count": 131,
   "id": "04e6958a",
   "metadata": {},
   "outputs": [
    {
     "data": {
      "text/plain": [
       "{'name': 'Tejasvi', 'age': 22, 'ID': 111, 'Salary': 52000}"
      ]
     },
     "execution_count": 131,
     "metadata": {},
     "output_type": "execute_result"
    }
   ],
   "source": [
    "emp"
   ]
  },
  {
   "cell_type": "markdown",
   "id": "97ae384b",
   "metadata": {},
   "source": [
    "# How to add keys to a dictionary"
   ]
  },
  {
   "cell_type": "code",
   "execution_count": 132,
   "id": "e937f90e",
   "metadata": {},
   "outputs": [],
   "source": [
    "# d[key]=value"
   ]
  },
  {
   "cell_type": "code",
   "execution_count": 133,
   "id": "4eece43d",
   "metadata": {},
   "outputs": [],
   "source": [
    "# 'City'=Delhi"
   ]
  },
  {
   "cell_type": "code",
   "execution_count": 135,
   "id": "6d4c6de0",
   "metadata": {},
   "outputs": [],
   "source": [
    "emp['City']='Delhi'"
   ]
  },
  {
   "cell_type": "code",
   "execution_count": 136,
   "id": "abcd1e72",
   "metadata": {},
   "outputs": [
    {
     "data": {
      "text/plain": [
       "{'name': 'Tejasvi', 'age': 22, 'ID': 111, 'Salary': 52000, 'City': 'Delhi'}"
      ]
     },
     "execution_count": 136,
     "metadata": {},
     "output_type": "execute_result"
    }
   ],
   "source": [
    "emp"
   ]
  },
  {
   "cell_type": "code",
   "execution_count": 137,
   "id": "f5bb8233",
   "metadata": {},
   "outputs": [],
   "source": [
    "# Phone=1234567890"
   ]
  },
  {
   "cell_type": "code",
   "execution_count": 139,
   "id": "11118ca5",
   "metadata": {},
   "outputs": [],
   "source": [
    "emp['Phone']=1234567890"
   ]
  },
  {
   "cell_type": "code",
   "execution_count": 140,
   "id": "82858b82",
   "metadata": {},
   "outputs": [
    {
     "data": {
      "text/plain": [
       "{'name': 'Tejasvi',\n",
       " 'age': 22,\n",
       " 'ID': 111,\n",
       " 'Salary': 52000,\n",
       " 'City': 'Delhi',\n",
       " 'Phone': 1234567890}"
      ]
     },
     "execution_count": 140,
     "metadata": {},
     "output_type": "execute_result"
    }
   ],
   "source": [
    "emp"
   ]
  },
  {
   "cell_type": "code",
   "execution_count": 141,
   "id": "fc4baa5d",
   "metadata": {},
   "outputs": [],
   "source": [
    "# 'Department'=Data"
   ]
  },
  {
   "cell_type": "code",
   "execution_count": 143,
   "id": "545d36c9",
   "metadata": {},
   "outputs": [],
   "source": [
    "emp['Department']='Data'"
   ]
  },
  {
   "cell_type": "code",
   "execution_count": 144,
   "id": "40c618c3",
   "metadata": {},
   "outputs": [
    {
     "data": {
      "text/plain": [
       "{'name': 'Tejasvi',\n",
       " 'age': 22,\n",
       " 'ID': 111,\n",
       " 'Salary': 52000,\n",
       " 'City': 'Delhi',\n",
       " 'Phone': 1234567890,\n",
       " 'Department': 'Data'}"
      ]
     },
     "execution_count": 144,
     "metadata": {},
     "output_type": "execute_result"
    }
   ],
   "source": [
    "emp"
   ]
  },
  {
   "cell_type": "code",
   "execution_count": 147,
   "id": "d2a2a873",
   "metadata": {},
   "outputs": [
    {
     "name": "stdout",
     "output_type": "stream",
     "text": [
      "{1: 100, 2: 100, 3: 100, 4: 100}\n"
     ]
    }
   ],
   "source": [
    "# {1:100,2:100,3:100,4:100}\n",
    "\n",
    "d={}\n",
    "\n",
    "for i in range(1,5):\n",
    "    d[i]=100\n",
    "print(d)"
   ]
  },
  {
   "cell_type": "code",
   "execution_count": 149,
   "id": "c5d9e3b8",
   "metadata": {},
   "outputs": [],
   "source": [
    "# d[index/key]"
   ]
  },
  {
   "cell_type": "code",
   "execution_count": 150,
   "id": "a66fe31f",
   "metadata": {},
   "outputs": [
    {
     "data": {
      "text/plain": [
       "{'name': 'Tejasvi',\n",
       " 'age': 22,\n",
       " 'ID': 111,\n",
       " 'Salary': 52000,\n",
       " 'City': 'Delhi',\n",
       " 'Phone': 1234567890,\n",
       " 'Department': 'Data'}"
      ]
     },
     "execution_count": 150,
     "metadata": {},
     "output_type": "execute_result"
    }
   ],
   "source": [
    "emp"
   ]
  },
  {
   "cell_type": "code",
   "execution_count": 151,
   "id": "ec3e2928",
   "metadata": {},
   "outputs": [],
   "source": [
    "# 'ID'-'Code'"
   ]
  },
  {
   "cell_type": "code",
   "execution_count": 157,
   "id": "a6de931a",
   "metadata": {},
   "outputs": [],
   "source": [
    "keys=list(emp.keys())"
   ]
  },
  {
   "cell_type": "code",
   "execution_count": 158,
   "id": "f5c51974",
   "metadata": {},
   "outputs": [
    {
     "name": "stdout",
     "output_type": "stream",
     "text": [
      "['name', 'age', 'Code', 'Salary', 'City', 'Phone', 'Department']\n"
     ]
    }
   ],
   "source": [
    "for i in range(len(keys)):\n",
    "    if keys[i]=='ID':\n",
    "        keys[i]='Code'\n",
    "print(keys)"
   ]
  },
  {
   "cell_type": "code",
   "execution_count": 160,
   "id": "09a5bdd4",
   "metadata": {},
   "outputs": [
    {
     "data": {
      "text/plain": [
       "{'name': 'Tejasvi',\n",
       " 'age': 22,\n",
       " 'Code': 111,\n",
       " 'Salary': 52000,\n",
       " 'City': 'Delhi',\n",
       " 'Phone': 1234567890,\n",
       " 'Department': 'Data'}"
      ]
     },
     "execution_count": 160,
     "metadata": {},
     "output_type": "execute_result"
    }
   ],
   "source": [
    "dict(zip(keys,emp.values()))"
   ]
  },
  {
   "cell_type": "markdown",
   "id": "f3c4d693",
   "metadata": {},
   "source": [
    "# How to apply loop on a dictionary"
   ]
  },
  {
   "cell_type": "code",
   "execution_count": 161,
   "id": "d1259fc8",
   "metadata": {},
   "outputs": [
    {
     "data": {
      "text/plain": [
       "{'name': 'Tejasvi',\n",
       " 'age': 22,\n",
       " 'ID': 111,\n",
       " 'Salary': 52000,\n",
       " 'City': 'Delhi',\n",
       " 'Phone': 1234567890,\n",
       " 'Department': 'Data'}"
      ]
     },
     "execution_count": 161,
     "metadata": {},
     "output_type": "execute_result"
    }
   ],
   "source": [
    "emp"
   ]
  },
  {
   "cell_type": "code",
   "execution_count": 162,
   "id": "248bb4f5",
   "metadata": {},
   "outputs": [
    {
     "name": "stdout",
     "output_type": "stream",
     "text": [
      "name\n",
      "age\n",
      "ID\n",
      "Salary\n",
      "City\n",
      "Phone\n",
      "Department\n"
     ]
    }
   ],
   "source": [
    "for i in emp:\n",
    "    print(i)"
   ]
  },
  {
   "cell_type": "code",
   "execution_count": 164,
   "id": "7326e2d9",
   "metadata": {},
   "outputs": [
    {
     "data": {
      "text/plain": [
       "22"
      ]
     },
     "execution_count": 164,
     "metadata": {},
     "output_type": "execute_result"
    }
   ],
   "source": [
    "emp['age']"
   ]
  },
  {
   "cell_type": "code",
   "execution_count": 168,
   "id": "cc8b50df",
   "metadata": {},
   "outputs": [
    {
     "name": "stdout",
     "output_type": "stream",
     "text": [
      "Tejasvi\n",
      "22\n",
      "111\n",
      "52000\n",
      "Delhi\n",
      "1234567890\n",
      "Data\n"
     ]
    }
   ],
   "source": [
    "for i in emp:\n",
    "    print(emp[i])"
   ]
  },
  {
   "cell_type": "code",
   "execution_count": 169,
   "id": "86696f27",
   "metadata": {},
   "outputs": [
    {
     "data": {
      "text/plain": [
       "{'name': 'Tejasvi',\n",
       " 'age': 22,\n",
       " 'ID': 111,\n",
       " 'Salary': 52000,\n",
       " 'City': 'Delhi',\n",
       " 'Phone': 1234567890,\n",
       " 'Department': 'Data'}"
      ]
     },
     "execution_count": 169,
     "metadata": {},
     "output_type": "execute_result"
    }
   ],
   "source": [
    "emp"
   ]
  },
  {
   "cell_type": "code",
   "execution_count": 171,
   "id": "88d35c96",
   "metadata": {},
   "outputs": [],
   "source": [
    "emp['Name']='Shubham'"
   ]
  },
  {
   "cell_type": "code",
   "execution_count": 172,
   "id": "e4497516",
   "metadata": {},
   "outputs": [
    {
     "data": {
      "text/plain": [
       "{'name': 'Tejasvi',\n",
       " 'age': 22,\n",
       " 'ID': 111,\n",
       " 'Salary': 52000,\n",
       " 'City': 'Delhi',\n",
       " 'Phone': 1234567890,\n",
       " 'Department': 'Data',\n",
       " 'Name': 'Shubham'}"
      ]
     },
     "execution_count": 172,
     "metadata": {},
     "output_type": "execute_result"
    }
   ],
   "source": [
    "emp"
   ]
  },
  {
   "cell_type": "markdown",
   "id": "9e85f412",
   "metadata": {},
   "source": [
    "# How to iterate over a nested dictionary"
   ]
  },
  {
   "cell_type": "code",
   "execution_count": 173,
   "id": "49d803b3",
   "metadata": {},
   "outputs": [],
   "source": [
    "# Dictionary\n",
    "# Functions\n",
    "# Modules\n",
    "# Iterators and Generators\n",
    "# File Handling\n",
    "# Exception Handling\n",
    "# Regex\n",
    "\n",
    "# Numpy\n",
    "# Pandas\n",
    "# Matplotlib\n",
    "# Seaborn"
   ]
  },
  {
   "cell_type": "code",
   "execution_count": 174,
   "id": "d8a94743",
   "metadata": {},
   "outputs": [],
   "source": [
    "# Scikit learn\n",
    "# Scipy\n",
    "# SpaCy"
   ]
  },
  {
   "cell_type": "code",
   "execution_count": null,
   "id": "c7985957",
   "metadata": {},
   "outputs": [],
   "source": []
  }
 ],
 "metadata": {
  "kernelspec": {
   "display_name": "Python 3 (ipykernel)",
   "language": "python",
   "name": "python3"
  },
  "language_info": {
   "codemirror_mode": {
    "name": "ipython",
    "version": 3
   },
   "file_extension": ".py",
   "mimetype": "text/x-python",
   "name": "python",
   "nbconvert_exporter": "python",
   "pygments_lexer": "ipython3",
   "version": "3.9.13"
  }
 },
 "nbformat": 4,
 "nbformat_minor": 5
}
