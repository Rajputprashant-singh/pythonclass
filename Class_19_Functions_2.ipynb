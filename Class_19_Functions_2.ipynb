{
 "cells": [
  {
   "cell_type": "markdown",
   "id": "454e48d0",
   "metadata": {},
   "source": [
    "# Types of arguments"
   ]
  },
  {
   "cell_type": "markdown",
   "id": "2d873a2a",
   "metadata": {},
   "source": [
    "- 1- Required positional arguments\n",
    "- 2- Default arguments\n",
    "- 3- Keyworded arguments\n",
    "- 4- Variable length arguments\n",
    "- 5- Keyworded variable length arguments"
   ]
  },
  {
   "cell_type": "markdown",
   "id": "1c6f0a6d",
   "metadata": {},
   "source": [
    "# 1- Required positional arguments"
   ]
  },
  {
   "cell_type": "markdown",
   "id": "49201c9a",
   "metadata": {},
   "source": [
    "- The number of variables inside the function definition and function call should be the same.\n",
    "- The values are passed from arguments to parameters in the sequence as they are positioned.\n",
    "- The variables in function call and function definition may be the same or different it doesn't matter."
   ]
  },
  {
   "cell_type": "code",
   "execution_count": 2,
   "id": "5f2fb5d3",
   "metadata": {},
   "outputs": [],
   "source": [
    "def course(a,b): # a and b are the parameters\n",
    "    print(a)\n",
    "    print(b)"
   ]
  },
  {
   "cell_type": "code",
   "execution_count": 3,
   "id": "5d271011",
   "metadata": {},
   "outputs": [
    {
     "name": "stdout",
     "output_type": "stream",
     "text": [
      "DA\n",
      "DS\n"
     ]
    }
   ],
   "source": [
    "a='DA'\n",
    "b='DS'\n",
    "course(a,b)"
   ]
  },
  {
   "cell_type": "code",
   "execution_count": 4,
   "id": "0593b14c",
   "metadata": {},
   "outputs": [
    {
     "name": "stdout",
     "output_type": "stream",
     "text": [
      "BBA\n",
      "MBA\n"
     ]
    }
   ],
   "source": [
    "x='BBA'\n",
    "y='MBA'\n",
    "\n",
    "course(x,y)"
   ]
  },
  {
   "cell_type": "code",
   "execution_count": 5,
   "id": "4152650e",
   "metadata": {},
   "outputs": [
    {
     "name": "stdout",
     "output_type": "stream",
     "text": [
      "B.Tech\n",
      "MCA\n"
     ]
    }
   ],
   "source": [
    "course('B.Tech','MCA')"
   ]
  },
  {
   "cell_type": "code",
   "execution_count": 6,
   "id": "a8ad6d26",
   "metadata": {},
   "outputs": [
    {
     "ename": "TypeError",
     "evalue": "course() takes 2 positional arguments but 3 were given",
     "output_type": "error",
     "traceback": [
      "\u001b[1;31m---------------------------------------------------------------------------\u001b[0m",
      "\u001b[1;31mTypeError\u001b[0m                                 Traceback (most recent call last)",
      "\u001b[1;32m~\\AppData\\Local\\Temp\\ipykernel_25684\\4272532594.py\u001b[0m in \u001b[0;36m<module>\u001b[1;34m\u001b[0m\n\u001b[1;32m----> 1\u001b[1;33m \u001b[0mcourse\u001b[0m\u001b[1;33m(\u001b[0m\u001b[1;34m'DA'\u001b[0m\u001b[1;33m,\u001b[0m\u001b[1;34m'BA'\u001b[0m\u001b[1;33m,\u001b[0m\u001b[1;34m'DE'\u001b[0m\u001b[1;33m)\u001b[0m\u001b[1;33m\u001b[0m\u001b[1;33m\u001b[0m\u001b[0m\n\u001b[0m",
      "\u001b[1;31mTypeError\u001b[0m: course() takes 2 positional arguments but 3 were given"
     ]
    }
   ],
   "source": [
    "course('DA','BA','DE')"
   ]
  },
  {
   "cell_type": "code",
   "execution_count": 7,
   "id": "41e700a2",
   "metadata": {},
   "outputs": [
    {
     "ename": "TypeError",
     "evalue": "course() missing 1 required positional argument: 'b'",
     "output_type": "error",
     "traceback": [
      "\u001b[1;31m---------------------------------------------------------------------------\u001b[0m",
      "\u001b[1;31mTypeError\u001b[0m                                 Traceback (most recent call last)",
      "\u001b[1;32m~\\AppData\\Local\\Temp\\ipykernel_25684\\2375118338.py\u001b[0m in \u001b[0;36m<module>\u001b[1;34m\u001b[0m\n\u001b[1;32m----> 1\u001b[1;33m \u001b[0mcourse\u001b[0m\u001b[1;33m(\u001b[0m\u001b[1;34m'DS'\u001b[0m\u001b[1;33m)\u001b[0m\u001b[1;33m\u001b[0m\u001b[1;33m\u001b[0m\u001b[0m\n\u001b[0m",
      "\u001b[1;31mTypeError\u001b[0m: course() missing 1 required positional argument: 'b'"
     ]
    }
   ],
   "source": [
    "course('DS')"
   ]
  },
  {
   "cell_type": "markdown",
   "id": "77fcc19d",
   "metadata": {},
   "source": [
    "# 2- Default arguments"
   ]
  },
  {
   "cell_type": "markdown",
   "id": "bf042cb3",
   "metadata": {},
   "source": [
    "- When we assign some value to a variable in function definition itself then it becomes default argument.\n",
    "- If we don't pass any value for the default argument then it takes the default value.\n",
    "- If we pass some value to the default argument then it takes the value passed to it.\n",
    "- Default arguments should always be placed after the positional arguments.\n",
    "- The variable names in function definition and function call may be the same or different it doesn't matter"
   ]
  },
  {
   "cell_type": "code",
   "execution_count": 8,
   "id": "1d96688f",
   "metadata": {},
   "outputs": [],
   "source": [
    "def course(a,b='MBA'): # b- default argument and MBA is default value\n",
    "    print(a)\n",
    "    print(b)"
   ]
  },
  {
   "cell_type": "code",
   "execution_count": 9,
   "id": "e844f620",
   "metadata": {},
   "outputs": [
    {
     "name": "stdout",
     "output_type": "stream",
     "text": [
      "M.Tech\n",
      "MBA\n"
     ]
    }
   ],
   "source": [
    "course('M.Tech')"
   ]
  },
  {
   "cell_type": "code",
   "execution_count": 10,
   "id": "82bf901f",
   "metadata": {},
   "outputs": [
    {
     "name": "stdout",
     "output_type": "stream",
     "text": [
      "BBA\n",
      "BCA\n"
     ]
    }
   ],
   "source": [
    "course('BBA','BCA')"
   ]
  },
  {
   "cell_type": "code",
   "execution_count": 11,
   "id": "1f040d2a",
   "metadata": {},
   "outputs": [
    {
     "name": "stdout",
     "output_type": "stream",
     "text": [
      "MCA\n",
      "Data Science\n"
     ]
    }
   ],
   "source": [
    "x='MCA'\n",
    "y='Data Science'\n",
    "\n",
    "course(x,y)"
   ]
  },
  {
   "cell_type": "code",
   "execution_count": 12,
   "id": "d616fa30",
   "metadata": {},
   "outputs": [
    {
     "ename": "SyntaxError",
     "evalue": "non-default argument follows default argument (1500537476.py, line 1)",
     "output_type": "error",
     "traceback": [
      "\u001b[1;36m  File \u001b[1;32m\"C:\\Users\\Dell\\AppData\\Local\\Temp\\ipykernel_25684\\1500537476.py\"\u001b[1;36m, line \u001b[1;32m1\u001b[0m\n\u001b[1;33m    def course(a,b='MCA',c):\u001b[0m\n\u001b[1;37m                          ^\u001b[0m\n\u001b[1;31mSyntaxError\u001b[0m\u001b[1;31m:\u001b[0m non-default argument follows default argument\n"
     ]
    }
   ],
   "source": [
    "def course(a,b='MCA',c):\n",
    "    print(a)\n",
    "    print(b)\n",
    "    print(c)"
   ]
  },
  {
   "cell_type": "code",
   "execution_count": 14,
   "id": "23898743",
   "metadata": {},
   "outputs": [],
   "source": [
    "def course(a,c,b='MCA',d='B.Tech'):\n",
    "    print(a,b,c,d)"
   ]
  },
  {
   "cell_type": "code",
   "execution_count": 17,
   "id": "7440f1f3",
   "metadata": {},
   "outputs": [
    {
     "name": "stdout",
     "output_type": "stream",
     "text": [
      "DA MCA DS B.Tech\n"
     ]
    }
   ],
   "source": [
    "course('DA','DS')\n",
    "\n",
    "# a='DA'\n",
    "# c='DS'\n",
    "# b='MCA'\n",
    "# d='B.Tech'"
   ]
  },
  {
   "cell_type": "code",
   "execution_count": 19,
   "id": "9e698f40",
   "metadata": {},
   "outputs": [
    {
     "name": "stdout",
     "output_type": "stream",
     "text": [
      "DA BA DS B.Tech\n"
     ]
    }
   ],
   "source": [
    "course('DA','DS','BA')"
   ]
  },
  {
   "cell_type": "code",
   "execution_count": 18,
   "id": "ab6e855e",
   "metadata": {},
   "outputs": [],
   "source": [
    "# a='DA'\n",
    "# c='DS'\n",
    "# b='BA'\n",
    "# d='B.Tech'"
   ]
  },
  {
   "cell_type": "markdown",
   "id": "d673bb1a",
   "metadata": {},
   "source": [
    "# 3- Keyworded arguments"
   ]
  },
  {
   "cell_type": "markdown",
   "id": "6540ee88",
   "metadata": {},
   "source": [
    "- When we assign some value to a variable in function call then it is known as keyworded argument.\n",
    "- The varaible names for the keyworded arguments should be the same in function definition and function call.\n",
    "- For keyworded arguments the position or order does not matter.\n",
    "- Keyworded arguments should always be placed after the positional arguments."
   ]
  },
  {
   "cell_type": "code",
   "execution_count": 20,
   "id": "95492e5b",
   "metadata": {},
   "outputs": [],
   "source": [
    "def course(a,b):\n",
    "    print(a)\n",
    "    print(b)"
   ]
  },
  {
   "cell_type": "code",
   "execution_count": 21,
   "id": "7941d729",
   "metadata": {},
   "outputs": [
    {
     "name": "stdout",
     "output_type": "stream",
     "text": [
      "MCA\n",
      "MBA\n"
     ]
    }
   ],
   "source": [
    "a='MCA'\n",
    "course(a,b='MBA') # b is the keyworded argument"
   ]
  },
  {
   "cell_type": "code",
   "execution_count": 23,
   "id": "f1256f59",
   "metadata": {},
   "outputs": [],
   "source": [
    "def course(a,b):\n",
    "    print(a)\n",
    "    print(b)"
   ]
  },
  {
   "cell_type": "code",
   "execution_count": 24,
   "id": "d05e6adf",
   "metadata": {},
   "outputs": [
    {
     "ename": "TypeError",
     "evalue": "course() got an unexpected keyword argument 'y'",
     "output_type": "error",
     "traceback": [
      "\u001b[1;31m---------------------------------------------------------------------------\u001b[0m",
      "\u001b[1;31mTypeError\u001b[0m                                 Traceback (most recent call last)",
      "\u001b[1;32m~\\AppData\\Local\\Temp\\ipykernel_25684\\3765576885.py\u001b[0m in \u001b[0;36m<module>\u001b[1;34m\u001b[0m\n\u001b[0;32m      1\u001b[0m \u001b[0mx\u001b[0m\u001b[1;33m=\u001b[0m\u001b[1;34m'MBA'\u001b[0m\u001b[1;33m\u001b[0m\u001b[1;33m\u001b[0m\u001b[0m\n\u001b[1;32m----> 2\u001b[1;33m \u001b[0mcourse\u001b[0m\u001b[1;33m(\u001b[0m\u001b[0mx\u001b[0m\u001b[1;33m,\u001b[0m\u001b[0my\u001b[0m\u001b[1;33m=\u001b[0m\u001b[1;34m'MCA'\u001b[0m\u001b[1;33m)\u001b[0m\u001b[1;33m\u001b[0m\u001b[1;33m\u001b[0m\u001b[0m\n\u001b[0m",
      "\u001b[1;31mTypeError\u001b[0m: course() got an unexpected keyword argument 'y'"
     ]
    }
   ],
   "source": [
    "x='MBA'\n",
    "course(x,y='MCA')"
   ]
  },
  {
   "cell_type": "code",
   "execution_count": 25,
   "id": "8b06d815",
   "metadata": {},
   "outputs": [],
   "source": [
    "def course(a,b,c='MBA'):\n",
    "    print(a)\n",
    "    print(b)\n",
    "    print(c)"
   ]
  },
  {
   "cell_type": "code",
   "execution_count": 26,
   "id": "acc33586",
   "metadata": {},
   "outputs": [
    {
     "name": "stdout",
     "output_type": "stream",
     "text": [
      "MCA\n",
      "M.Tech\n",
      "MBA\n"
     ]
    }
   ],
   "source": [
    "course('MCA',b='M.Tech')"
   ]
  },
  {
   "cell_type": "code",
   "execution_count": 19,
   "id": "394a7138",
   "metadata": {},
   "outputs": [],
   "source": [
    "def course(a,b,c,d='MBA'):\n",
    "    print(a)\n",
    "    print(b)\n",
    "    print(c)\n",
    "    print(d)\n",
    "    d='XYZ'\n",
    "    print(d)"
   ]
  },
  {
   "cell_type": "code",
   "execution_count": 33,
   "id": "fcf29ea3",
   "metadata": {},
   "outputs": [
    {
     "name": "stdout",
     "output_type": "stream",
     "text": [
      "BBA\n",
      "Data Science\n",
      "MBBS\n",
      "MBA\n"
     ]
    }
   ],
   "source": [
    "course('BBA','Data Science',c='MBBS')"
   ]
  },
  {
   "cell_type": "code",
   "execution_count": 21,
   "id": "cccd5ae8",
   "metadata": {},
   "outputs": [
    {
     "name": "stdout",
     "output_type": "stream",
     "text": [
      "10\n",
      "20\n",
      "dummy\n",
      "Happy\n",
      "XYZ\n",
      "dummy\n"
     ]
    }
   ],
   "source": [
    "d='dummy'\n",
    "course(10,20,d,d='Happy')\n",
    "print(d)"
   ]
  },
  {
   "cell_type": "markdown",
   "id": "69612eba",
   "metadata": {},
   "source": [
    "# 4- Variable length arguments"
   ]
  },
  {
   "cell_type": "markdown",
   "id": "30fedb6f",
   "metadata": {},
   "source": [
    "- If don't know the number of arguments then we use variable length arguments.\n",
    "- It stores the values inside a tuple."
   ]
  },
  {
   "cell_type": "code",
   "execution_count": null,
   "id": "c9ca7d66",
   "metadata": {},
   "outputs": [],
   "source": [
    "def function_name(*a): # a is variable length argument\n",
    "    code\n",
    "    code "
   ]
  },
  {
   "cell_type": "code",
   "execution_count": 44,
   "id": "a353bb0c",
   "metadata": {},
   "outputs": [],
   "source": [
    "def course(*a):\n",
    "    print(a,type(a))"
   ]
  },
  {
   "cell_type": "code",
   "execution_count": 51,
   "id": "4694b196",
   "metadata": {},
   "outputs": [
    {
     "name": "stdout",
     "output_type": "stream",
     "text": [
      "('DS', 'DA', 'DE', 'BA', 'BBA', 'B.Tech', 'MBA') <class 'tuple'>\n"
     ]
    }
   ],
   "source": [
    "course('DS','DA','DE','BA','BBA','B.Tech','MBA')"
   ]
  },
  {
   "cell_type": "code",
   "execution_count": 62,
   "id": "1e918ec1",
   "metadata": {},
   "outputs": [],
   "source": [
    "# Create a function that add that can take n numbers as arguments and returns the sum of those numbers\n",
    "\n",
    "def add(*x):\n",
    "    s=0\n",
    "    \n",
    "    for i in x:\n",
    "        s+=i\n",
    "    return s"
   ]
  },
  {
   "cell_type": "code",
   "execution_count": 69,
   "id": "be67d250",
   "metadata": {},
   "outputs": [
    {
     "name": "stdout",
     "output_type": "stream",
     "text": [
      "158\n"
     ]
    }
   ],
   "source": [
    "res=add(10,5,20,45,78)\n",
    "print(s)"
   ]
  },
  {
   "cell_type": "code",
   "execution_count": 61,
   "id": "9cb17b29",
   "metadata": {},
   "outputs": [
    {
     "name": "stdout",
     "output_type": "stream",
     "text": [
      "158\n"
     ]
    }
   ],
   "source": [
    "t=(10, 5, 6, 72, 55,10)\n",
    "s=0\n",
    "\n",
    "for i in t:\n",
    "    s+=i\n",
    "print(s)"
   ]
  },
  {
   "cell_type": "code",
   "execution_count": 70,
   "id": "8206bce0",
   "metadata": {},
   "outputs": [],
   "source": [
    "# Create a function that adds two numbers and returns the addition \n",
    "# Square the result outside the function and store that in an empty list"
   ]
  },
  {
   "cell_type": "markdown",
   "id": "1ddefb14",
   "metadata": {},
   "source": [
    "# 5- Keyworded variable length arguments"
   ]
  },
  {
   "cell_type": "markdown",
   "id": "a0c5305d",
   "metadata": {},
   "source": [
    "- When we don't know how many keyworded arguments are there then we use keyworded variable length arguments.\n",
    "- It stores the values in a dictionary.\n",
    "- The variables becomes the keys and the values becomes the values in the dictionary"
   ]
  },
  {
   "cell_type": "code",
   "execution_count": 4,
   "id": "2d639335",
   "metadata": {},
   "outputs": [],
   "source": [
    "def function_name(**a): # a is a keyworded variable length argument\n",
    "    code\n",
    "    code\n",
    "\n",
    "function_name(key_1=value,key_2=value....key_n=value_n)"
   ]
  },
  {
   "cell_type": "code",
   "execution_count": 39,
   "id": "364cef09",
   "metadata": {},
   "outputs": [],
   "source": [
    "def course(**a):\n",
    "    print(a,type(a))"
   ]
  },
  {
   "cell_type": "code",
   "execution_count": 41,
   "id": "4c2a1c23",
   "metadata": {},
   "outputs": [
    {
     "name": "stdout",
     "output_type": "stream",
     "text": [
      "<function course at 0x0000027662CB33A0>\n"
     ]
    }
   ],
   "source": [
    "a=course\n",
    "print(a)"
   ]
  },
  {
   "cell_type": "code",
   "execution_count": 8,
   "id": "4146a260",
   "metadata": {},
   "outputs": [
    {
     "name": "stdout",
     "output_type": "stream",
     "text": [
      "{'a': 10, 'b': 20, 'c': 30, 'd': 40} <class 'dict'>\n"
     ]
    }
   ],
   "source": [
    "course(a=10,b=20,c=30,d=40)"
   ]
  },
  {
   "cell_type": "code",
   "execution_count": 10,
   "id": "0120ac61",
   "metadata": {},
   "outputs": [],
   "source": [
    "def emp(**a):\n",
    "    print(a,type(a))"
   ]
  },
  {
   "cell_type": "code",
   "execution_count": 13,
   "id": "4a40a380",
   "metadata": {},
   "outputs": [
    {
     "name": "stdout",
     "output_type": "stream",
     "text": [
      "{'name': 'Anmol', 'age': 22, 'city': 'Noida'} <class 'dict'>\n"
     ]
    }
   ],
   "source": [
    "emp(name='Anmol',age=22,city='Noida')"
   ]
  },
  {
   "cell_type": "code",
   "execution_count": 16,
   "id": "d9ec8407",
   "metadata": {},
   "outputs": [],
   "source": [
    "def record(**data):\n",
    "    print(data)"
   ]
  },
  {
   "cell_type": "code",
   "execution_count": 17,
   "id": "39f0c573",
   "metadata": {},
   "outputs": [
    {
     "name": "stdout",
     "output_type": "stream",
     "text": [
      "{'name': 'Gunjan'}\n"
     ]
    }
   ],
   "source": [
    "record(name='Gunjan')"
   ]
  },
  {
   "cell_type": "markdown",
   "id": "f664858a",
   "metadata": {},
   "source": [
    "# Anonymous function"
   ]
  },
  {
   "cell_type": "markdown",
   "id": "ff3ed2aa",
   "metadata": {},
   "source": [
    "- The function without any name is an anonymous function.\n",
    "- lambda keyword is used to define an anonymous function."
   ]
  },
  {
   "cell_type": "code",
   "execution_count": 22,
   "id": "d6380e23",
   "metadata": {},
   "outputs": [],
   "source": [
    "# (lambda arguments:operation) (call)"
   ]
  },
  {
   "cell_type": "code",
   "execution_count": 26,
   "id": "55a6770f",
   "metadata": {},
   "outputs": [
    {
     "data": {
      "text/plain": [
       "30"
      ]
     },
     "execution_count": 26,
     "metadata": {},
     "output_type": "execute_result"
    }
   ],
   "source": [
    "# Create a lambda() that can add two numbers\n",
    "\n",
    "(lambda a,b:a+b) (10,20)"
   ]
  },
  {
   "cell_type": "code",
   "execution_count": 28,
   "id": "d033d68d",
   "metadata": {},
   "outputs": [
    {
     "name": "stdout",
     "output_type": "stream",
     "text": [
      "15\n"
     ]
    }
   ],
   "source": [
    "x=(lambda x,y:x*y) (5,3)\n",
    "print(x)"
   ]
  },
  {
   "cell_type": "code",
   "execution_count": 29,
   "id": "c72c3996",
   "metadata": {},
   "outputs": [],
   "source": [
    "# We can assign the lambda() to a variable and then we can call that variable"
   ]
  },
  {
   "cell_type": "code",
   "execution_count": 31,
   "id": "992d11e7",
   "metadata": {},
   "outputs": [
    {
     "name": "stdout",
     "output_type": "stream",
     "text": [
      "<function <lambda> at 0x0000027662CB35E0> <class 'function'>\n"
     ]
    }
   ],
   "source": [
    "x=lambda a,b:a+b\n",
    "print(x,type(x))"
   ]
  },
  {
   "cell_type": "code",
   "execution_count": 32,
   "id": "3e53c4e6",
   "metadata": {},
   "outputs": [
    {
     "data": {
      "text/plain": [
       "30"
      ]
     },
     "execution_count": 32,
     "metadata": {},
     "output_type": "execute_result"
    }
   ],
   "source": [
    "x(10,20)"
   ]
  },
  {
   "cell_type": "code",
   "execution_count": 33,
   "id": "111430a8",
   "metadata": {},
   "outputs": [
    {
     "data": {
      "text/plain": [
       "11"
      ]
     },
     "execution_count": 33,
     "metadata": {},
     "output_type": "execute_result"
    }
   ],
   "source": [
    "x(5,6)"
   ]
  },
  {
   "cell_type": "code",
   "execution_count": 34,
   "id": "94163e9f",
   "metadata": {},
   "outputs": [],
   "source": [
    "add=lambda x,y:x+y\n",
    "mul=lambda x,y:x*y"
   ]
  },
  {
   "cell_type": "code",
   "execution_count": 35,
   "id": "8245a5f7",
   "metadata": {},
   "outputs": [
    {
     "data": {
      "text/plain": [
       "6"
      ]
     },
     "execution_count": 35,
     "metadata": {},
     "output_type": "execute_result"
    }
   ],
   "source": [
    "add(2,4)"
   ]
  },
  {
   "cell_type": "code",
   "execution_count": 37,
   "id": "21600dd0",
   "metadata": {},
   "outputs": [
    {
     "data": {
      "text/plain": [
       "8"
      ]
     },
     "execution_count": 37,
     "metadata": {},
     "output_type": "execute_result"
    }
   ],
   "source": [
    "mul(2,4)"
   ]
  },
  {
   "cell_type": "code",
   "execution_count": 38,
   "id": "7f1eb6b2",
   "metadata": {},
   "outputs": [],
   "source": [
    "# lambda arguments:operation Ternary operator"
   ]
  },
  {
   "cell_type": "code",
   "execution_count": 43,
   "id": "b08dac20",
   "metadata": {},
   "outputs": [],
   "source": [
    "# Take 2 numbers and return the maximum using anonymous function\n",
    "\n",
    "mx=lambda a,b:a if a>b else b"
   ]
  },
  {
   "cell_type": "code",
   "execution_count": 45,
   "id": "1367a3a0",
   "metadata": {},
   "outputs": [
    {
     "data": {
      "text/plain": [
       "20"
      ]
     },
     "execution_count": 45,
     "metadata": {},
     "output_type": "execute_result"
    }
   ],
   "source": [
    "mx(50,20)"
   ]
  },
  {
   "cell_type": "code",
   "execution_count": 51,
   "id": "6afa864a",
   "metadata": {},
   "outputs": [
    {
     "data": {
      "text/plain": [
       "200"
      ]
     },
     "execution_count": 51,
     "metadata": {},
     "output_type": "execute_result"
    }
   ],
   "source": [
    "# Take 3 numbers and return the maximum using anonymous function\n",
    "\n",
    "mx=lambda a,b,c:a if a>b and a>c else b if b>a and b>c else c\n",
    "\n",
    "mx(100,200,30)"
   ]
  },
  {
   "cell_type": "code",
   "execution_count": 52,
   "id": "0326dbe0",
   "metadata": {},
   "outputs": [],
   "source": [
    "# Take a number acnd return wheteher it is even or odd\n",
    "\n",
    "num=lambda x:'even' if x%2==0 else 'odd'"
   ]
  },
  {
   "cell_type": "code",
   "execution_count": 54,
   "id": "f7be571a",
   "metadata": {},
   "outputs": [
    {
     "data": {
      "text/plain": [
       "'odd'"
      ]
     },
     "execution_count": 54,
     "metadata": {},
     "output_type": "execute_result"
    }
   ],
   "source": [
    "num(25)"
   ]
  },
  {
   "cell_type": "code",
   "execution_count": 55,
   "id": "059ef6f3",
   "metadata": {},
   "outputs": [],
   "source": [
    "def maximum(a,b,c):\n",
    "    if a>b and a>c:\n",
    "        return a\n",
    "    elif b>c and b>a:\n",
    "        return b\n",
    "    else:\n",
    "        return c"
   ]
  },
  {
   "cell_type": "code",
   "execution_count": 58,
   "id": "d7455f3d",
   "metadata": {},
   "outputs": [
    {
     "data": {
      "text/plain": [
       "1000"
      ]
     },
     "execution_count": 58,
     "metadata": {},
     "output_type": "execute_result"
    }
   ],
   "source": [
    "maximum(1000,200,30)"
   ]
  },
  {
   "cell_type": "code",
   "execution_count": 59,
   "id": "266a0b44",
   "metadata": {},
   "outputs": [],
   "source": [
    "import seaborn as sns"
   ]
  },
  {
   "cell_type": "code",
   "execution_count": 60,
   "id": "a8cc2bb3",
   "metadata": {},
   "outputs": [
    {
     "data": {
      "text/html": [
       "<div>\n",
       "<style scoped>\n",
       "    .dataframe tbody tr th:only-of-type {\n",
       "        vertical-align: middle;\n",
       "    }\n",
       "\n",
       "    .dataframe tbody tr th {\n",
       "        vertical-align: top;\n",
       "    }\n",
       "\n",
       "    .dataframe thead th {\n",
       "        text-align: right;\n",
       "    }\n",
       "</style>\n",
       "<table border=\"1\" class=\"dataframe\">\n",
       "  <thead>\n",
       "    <tr style=\"text-align: right;\">\n",
       "      <th></th>\n",
       "      <th>survived</th>\n",
       "      <th>pclass</th>\n",
       "      <th>sex</th>\n",
       "      <th>age</th>\n",
       "      <th>sibsp</th>\n",
       "      <th>parch</th>\n",
       "      <th>fare</th>\n",
       "      <th>embarked</th>\n",
       "      <th>class</th>\n",
       "      <th>who</th>\n",
       "      <th>adult_male</th>\n",
       "      <th>deck</th>\n",
       "      <th>embark_town</th>\n",
       "      <th>alive</th>\n",
       "      <th>alone</th>\n",
       "    </tr>\n",
       "  </thead>\n",
       "  <tbody>\n",
       "    <tr>\n",
       "      <th>0</th>\n",
       "      <td>0</td>\n",
       "      <td>3</td>\n",
       "      <td>male</td>\n",
       "      <td>22.0</td>\n",
       "      <td>1</td>\n",
       "      <td>0</td>\n",
       "      <td>7.2500</td>\n",
       "      <td>S</td>\n",
       "      <td>Third</td>\n",
       "      <td>man</td>\n",
       "      <td>True</td>\n",
       "      <td>NaN</td>\n",
       "      <td>Southampton</td>\n",
       "      <td>no</td>\n",
       "      <td>False</td>\n",
       "    </tr>\n",
       "    <tr>\n",
       "      <th>1</th>\n",
       "      <td>1</td>\n",
       "      <td>1</td>\n",
       "      <td>female</td>\n",
       "      <td>38.0</td>\n",
       "      <td>1</td>\n",
       "      <td>0</td>\n",
       "      <td>71.2833</td>\n",
       "      <td>C</td>\n",
       "      <td>First</td>\n",
       "      <td>woman</td>\n",
       "      <td>False</td>\n",
       "      <td>C</td>\n",
       "      <td>Cherbourg</td>\n",
       "      <td>yes</td>\n",
       "      <td>False</td>\n",
       "    </tr>\n",
       "    <tr>\n",
       "      <th>2</th>\n",
       "      <td>1</td>\n",
       "      <td>3</td>\n",
       "      <td>female</td>\n",
       "      <td>26.0</td>\n",
       "      <td>0</td>\n",
       "      <td>0</td>\n",
       "      <td>7.9250</td>\n",
       "      <td>S</td>\n",
       "      <td>Third</td>\n",
       "      <td>woman</td>\n",
       "      <td>False</td>\n",
       "      <td>NaN</td>\n",
       "      <td>Southampton</td>\n",
       "      <td>yes</td>\n",
       "      <td>True</td>\n",
       "    </tr>\n",
       "    <tr>\n",
       "      <th>3</th>\n",
       "      <td>1</td>\n",
       "      <td>1</td>\n",
       "      <td>female</td>\n",
       "      <td>35.0</td>\n",
       "      <td>1</td>\n",
       "      <td>0</td>\n",
       "      <td>53.1000</td>\n",
       "      <td>S</td>\n",
       "      <td>First</td>\n",
       "      <td>woman</td>\n",
       "      <td>False</td>\n",
       "      <td>C</td>\n",
       "      <td>Southampton</td>\n",
       "      <td>yes</td>\n",
       "      <td>False</td>\n",
       "    </tr>\n",
       "    <tr>\n",
       "      <th>4</th>\n",
       "      <td>0</td>\n",
       "      <td>3</td>\n",
       "      <td>male</td>\n",
       "      <td>35.0</td>\n",
       "      <td>0</td>\n",
       "      <td>0</td>\n",
       "      <td>8.0500</td>\n",
       "      <td>S</td>\n",
       "      <td>Third</td>\n",
       "      <td>man</td>\n",
       "      <td>True</td>\n",
       "      <td>NaN</td>\n",
       "      <td>Southampton</td>\n",
       "      <td>no</td>\n",
       "      <td>True</td>\n",
       "    </tr>\n",
       "  </tbody>\n",
       "</table>\n",
       "</div>"
      ],
      "text/plain": [
       "   survived  pclass     sex   age  sibsp  parch     fare embarked  class  \\\n",
       "0         0       3    male  22.0      1      0   7.2500        S  Third   \n",
       "1         1       1  female  38.0      1      0  71.2833        C  First   \n",
       "2         1       3  female  26.0      0      0   7.9250        S  Third   \n",
       "3         1       1  female  35.0      1      0  53.1000        S  First   \n",
       "4         0       3    male  35.0      0      0   8.0500        S  Third   \n",
       "\n",
       "     who  adult_male deck  embark_town alive  alone  \n",
       "0    man        True  NaN  Southampton    no  False  \n",
       "1  woman       False    C    Cherbourg   yes  False  \n",
       "2  woman       False  NaN  Southampton   yes   True  \n",
       "3  woman       False    C  Southampton   yes  False  \n",
       "4    man        True  NaN  Southampton    no   True  "
      ]
     },
     "execution_count": 60,
     "metadata": {},
     "output_type": "execute_result"
    }
   ],
   "source": [
    "data=sns.load_dataset('titanic')\n",
    "data.head()"
   ]
  },
  {
   "cell_type": "code",
   "execution_count": 61,
   "id": "c1b95f45",
   "metadata": {},
   "outputs": [
    {
     "data": {
      "text/plain": [
       "(891, 15)"
      ]
     },
     "execution_count": 61,
     "metadata": {},
     "output_type": "execute_result"
    }
   ],
   "source": [
    "data.shape"
   ]
  },
  {
   "cell_type": "code",
   "execution_count": 62,
   "id": "23ecebb2",
   "metadata": {},
   "outputs": [],
   "source": [
    "# male-1\n",
    "# female-0"
   ]
  },
  {
   "cell_type": "code",
   "execution_count": 68,
   "id": "7d4867c6",
   "metadata": {},
   "outputs": [],
   "source": [
    "data['Gender']=data.sex.apply(lambda x: 1 if x=='male' else 0)"
   ]
  },
  {
   "cell_type": "code",
   "execution_count": 66,
   "id": "1ee27acc",
   "metadata": {},
   "outputs": [
    {
     "data": {
      "text/plain": [
       "0"
      ]
     },
     "execution_count": 66,
     "metadata": {},
     "output_type": "execute_result"
    }
   ],
   "source": [
    "x='female'\n",
    "(lambda x:1 if x=='male' else 0) (x)"
   ]
  },
  {
   "cell_type": "code",
   "execution_count": 69,
   "id": "91a0a237",
   "metadata": {},
   "outputs": [
    {
     "data": {
      "text/html": [
       "<div>\n",
       "<style scoped>\n",
       "    .dataframe tbody tr th:only-of-type {\n",
       "        vertical-align: middle;\n",
       "    }\n",
       "\n",
       "    .dataframe tbody tr th {\n",
       "        vertical-align: top;\n",
       "    }\n",
       "\n",
       "    .dataframe thead th {\n",
       "        text-align: right;\n",
       "    }\n",
       "</style>\n",
       "<table border=\"1\" class=\"dataframe\">\n",
       "  <thead>\n",
       "    <tr style=\"text-align: right;\">\n",
       "      <th></th>\n",
       "      <th>survived</th>\n",
       "      <th>pclass</th>\n",
       "      <th>sex</th>\n",
       "      <th>age</th>\n",
       "      <th>sibsp</th>\n",
       "      <th>parch</th>\n",
       "      <th>fare</th>\n",
       "      <th>embarked</th>\n",
       "      <th>class</th>\n",
       "      <th>who</th>\n",
       "      <th>adult_male</th>\n",
       "      <th>deck</th>\n",
       "      <th>embark_town</th>\n",
       "      <th>alive</th>\n",
       "      <th>alone</th>\n",
       "      <th>Gender</th>\n",
       "    </tr>\n",
       "  </thead>\n",
       "  <tbody>\n",
       "    <tr>\n",
       "      <th>0</th>\n",
       "      <td>0</td>\n",
       "      <td>3</td>\n",
       "      <td>male</td>\n",
       "      <td>22.0</td>\n",
       "      <td>1</td>\n",
       "      <td>0</td>\n",
       "      <td>7.2500</td>\n",
       "      <td>S</td>\n",
       "      <td>Third</td>\n",
       "      <td>man</td>\n",
       "      <td>True</td>\n",
       "      <td>NaN</td>\n",
       "      <td>Southampton</td>\n",
       "      <td>no</td>\n",
       "      <td>False</td>\n",
       "      <td>1</td>\n",
       "    </tr>\n",
       "    <tr>\n",
       "      <th>1</th>\n",
       "      <td>1</td>\n",
       "      <td>1</td>\n",
       "      <td>female</td>\n",
       "      <td>38.0</td>\n",
       "      <td>1</td>\n",
       "      <td>0</td>\n",
       "      <td>71.2833</td>\n",
       "      <td>C</td>\n",
       "      <td>First</td>\n",
       "      <td>woman</td>\n",
       "      <td>False</td>\n",
       "      <td>C</td>\n",
       "      <td>Cherbourg</td>\n",
       "      <td>yes</td>\n",
       "      <td>False</td>\n",
       "      <td>0</td>\n",
       "    </tr>\n",
       "    <tr>\n",
       "      <th>2</th>\n",
       "      <td>1</td>\n",
       "      <td>3</td>\n",
       "      <td>female</td>\n",
       "      <td>26.0</td>\n",
       "      <td>0</td>\n",
       "      <td>0</td>\n",
       "      <td>7.9250</td>\n",
       "      <td>S</td>\n",
       "      <td>Third</td>\n",
       "      <td>woman</td>\n",
       "      <td>False</td>\n",
       "      <td>NaN</td>\n",
       "      <td>Southampton</td>\n",
       "      <td>yes</td>\n",
       "      <td>True</td>\n",
       "      <td>0</td>\n",
       "    </tr>\n",
       "    <tr>\n",
       "      <th>3</th>\n",
       "      <td>1</td>\n",
       "      <td>1</td>\n",
       "      <td>female</td>\n",
       "      <td>35.0</td>\n",
       "      <td>1</td>\n",
       "      <td>0</td>\n",
       "      <td>53.1000</td>\n",
       "      <td>S</td>\n",
       "      <td>First</td>\n",
       "      <td>woman</td>\n",
       "      <td>False</td>\n",
       "      <td>C</td>\n",
       "      <td>Southampton</td>\n",
       "      <td>yes</td>\n",
       "      <td>False</td>\n",
       "      <td>0</td>\n",
       "    </tr>\n",
       "    <tr>\n",
       "      <th>4</th>\n",
       "      <td>0</td>\n",
       "      <td>3</td>\n",
       "      <td>male</td>\n",
       "      <td>35.0</td>\n",
       "      <td>0</td>\n",
       "      <td>0</td>\n",
       "      <td>8.0500</td>\n",
       "      <td>S</td>\n",
       "      <td>Third</td>\n",
       "      <td>man</td>\n",
       "      <td>True</td>\n",
       "      <td>NaN</td>\n",
       "      <td>Southampton</td>\n",
       "      <td>no</td>\n",
       "      <td>True</td>\n",
       "      <td>1</td>\n",
       "    </tr>\n",
       "    <tr>\n",
       "      <th>...</th>\n",
       "      <td>...</td>\n",
       "      <td>...</td>\n",
       "      <td>...</td>\n",
       "      <td>...</td>\n",
       "      <td>...</td>\n",
       "      <td>...</td>\n",
       "      <td>...</td>\n",
       "      <td>...</td>\n",
       "      <td>...</td>\n",
       "      <td>...</td>\n",
       "      <td>...</td>\n",
       "      <td>...</td>\n",
       "      <td>...</td>\n",
       "      <td>...</td>\n",
       "      <td>...</td>\n",
       "      <td>...</td>\n",
       "    </tr>\n",
       "    <tr>\n",
       "      <th>886</th>\n",
       "      <td>0</td>\n",
       "      <td>2</td>\n",
       "      <td>male</td>\n",
       "      <td>27.0</td>\n",
       "      <td>0</td>\n",
       "      <td>0</td>\n",
       "      <td>13.0000</td>\n",
       "      <td>S</td>\n",
       "      <td>Second</td>\n",
       "      <td>man</td>\n",
       "      <td>True</td>\n",
       "      <td>NaN</td>\n",
       "      <td>Southampton</td>\n",
       "      <td>no</td>\n",
       "      <td>True</td>\n",
       "      <td>1</td>\n",
       "    </tr>\n",
       "    <tr>\n",
       "      <th>887</th>\n",
       "      <td>1</td>\n",
       "      <td>1</td>\n",
       "      <td>female</td>\n",
       "      <td>19.0</td>\n",
       "      <td>0</td>\n",
       "      <td>0</td>\n",
       "      <td>30.0000</td>\n",
       "      <td>S</td>\n",
       "      <td>First</td>\n",
       "      <td>woman</td>\n",
       "      <td>False</td>\n",
       "      <td>B</td>\n",
       "      <td>Southampton</td>\n",
       "      <td>yes</td>\n",
       "      <td>True</td>\n",
       "      <td>0</td>\n",
       "    </tr>\n",
       "    <tr>\n",
       "      <th>888</th>\n",
       "      <td>0</td>\n",
       "      <td>3</td>\n",
       "      <td>female</td>\n",
       "      <td>NaN</td>\n",
       "      <td>1</td>\n",
       "      <td>2</td>\n",
       "      <td>23.4500</td>\n",
       "      <td>S</td>\n",
       "      <td>Third</td>\n",
       "      <td>woman</td>\n",
       "      <td>False</td>\n",
       "      <td>NaN</td>\n",
       "      <td>Southampton</td>\n",
       "      <td>no</td>\n",
       "      <td>False</td>\n",
       "      <td>0</td>\n",
       "    </tr>\n",
       "    <tr>\n",
       "      <th>889</th>\n",
       "      <td>1</td>\n",
       "      <td>1</td>\n",
       "      <td>male</td>\n",
       "      <td>26.0</td>\n",
       "      <td>0</td>\n",
       "      <td>0</td>\n",
       "      <td>30.0000</td>\n",
       "      <td>C</td>\n",
       "      <td>First</td>\n",
       "      <td>man</td>\n",
       "      <td>True</td>\n",
       "      <td>C</td>\n",
       "      <td>Cherbourg</td>\n",
       "      <td>yes</td>\n",
       "      <td>True</td>\n",
       "      <td>1</td>\n",
       "    </tr>\n",
       "    <tr>\n",
       "      <th>890</th>\n",
       "      <td>0</td>\n",
       "      <td>3</td>\n",
       "      <td>male</td>\n",
       "      <td>32.0</td>\n",
       "      <td>0</td>\n",
       "      <td>0</td>\n",
       "      <td>7.7500</td>\n",
       "      <td>Q</td>\n",
       "      <td>Third</td>\n",
       "      <td>man</td>\n",
       "      <td>True</td>\n",
       "      <td>NaN</td>\n",
       "      <td>Queenstown</td>\n",
       "      <td>no</td>\n",
       "      <td>True</td>\n",
       "      <td>1</td>\n",
       "    </tr>\n",
       "  </tbody>\n",
       "</table>\n",
       "<p>891 rows × 16 columns</p>\n",
       "</div>"
      ],
      "text/plain": [
       "     survived  pclass     sex   age  sibsp  parch     fare embarked   class  \\\n",
       "0           0       3    male  22.0      1      0   7.2500        S   Third   \n",
       "1           1       1  female  38.0      1      0  71.2833        C   First   \n",
       "2           1       3  female  26.0      0      0   7.9250        S   Third   \n",
       "3           1       1  female  35.0      1      0  53.1000        S   First   \n",
       "4           0       3    male  35.0      0      0   8.0500        S   Third   \n",
       "..        ...     ...     ...   ...    ...    ...      ...      ...     ...   \n",
       "886         0       2    male  27.0      0      0  13.0000        S  Second   \n",
       "887         1       1  female  19.0      0      0  30.0000        S   First   \n",
       "888         0       3  female   NaN      1      2  23.4500        S   Third   \n",
       "889         1       1    male  26.0      0      0  30.0000        C   First   \n",
       "890         0       3    male  32.0      0      0   7.7500        Q   Third   \n",
       "\n",
       "       who  adult_male deck  embark_town alive  alone  Gender  \n",
       "0      man        True  NaN  Southampton    no  False       1  \n",
       "1    woman       False    C    Cherbourg   yes  False       0  \n",
       "2    woman       False  NaN  Southampton   yes   True       0  \n",
       "3    woman       False    C  Southampton   yes  False       0  \n",
       "4      man        True  NaN  Southampton    no   True       1  \n",
       "..     ...         ...  ...          ...   ...    ...     ...  \n",
       "886    man        True  NaN  Southampton    no   True       1  \n",
       "887  woman       False    B  Southampton   yes   True       0  \n",
       "888  woman       False  NaN  Southampton    no  False       0  \n",
       "889    man        True    C    Cherbourg   yes   True       1  \n",
       "890    man        True  NaN   Queenstown    no   True       1  \n",
       "\n",
       "[891 rows x 16 columns]"
      ]
     },
     "execution_count": 69,
     "metadata": {},
     "output_type": "execute_result"
    }
   ],
   "source": [
    "data"
   ]
  },
  {
   "cell_type": "code",
   "execution_count": 70,
   "id": "91b2ae84",
   "metadata": {},
   "outputs": [],
   "source": [
    "def convert(x):\n",
    "    if x=='male':\n",
    "        return 1\n",
    "    else:\n",
    "        return 0"
   ]
  },
  {
   "cell_type": "code",
   "execution_count": 72,
   "id": "78b23486",
   "metadata": {},
   "outputs": [],
   "source": [
    "data['Convert']=data.sex.apply(convert)"
   ]
  },
  {
   "cell_type": "code",
   "execution_count": 73,
   "id": "58f416e7",
   "metadata": {},
   "outputs": [
    {
     "data": {
      "text/html": [
       "<div>\n",
       "<style scoped>\n",
       "    .dataframe tbody tr th:only-of-type {\n",
       "        vertical-align: middle;\n",
       "    }\n",
       "\n",
       "    .dataframe tbody tr th {\n",
       "        vertical-align: top;\n",
       "    }\n",
       "\n",
       "    .dataframe thead th {\n",
       "        text-align: right;\n",
       "    }\n",
       "</style>\n",
       "<table border=\"1\" class=\"dataframe\">\n",
       "  <thead>\n",
       "    <tr style=\"text-align: right;\">\n",
       "      <th></th>\n",
       "      <th>survived</th>\n",
       "      <th>pclass</th>\n",
       "      <th>sex</th>\n",
       "      <th>age</th>\n",
       "      <th>sibsp</th>\n",
       "      <th>parch</th>\n",
       "      <th>fare</th>\n",
       "      <th>embarked</th>\n",
       "      <th>class</th>\n",
       "      <th>who</th>\n",
       "      <th>adult_male</th>\n",
       "      <th>deck</th>\n",
       "      <th>embark_town</th>\n",
       "      <th>alive</th>\n",
       "      <th>alone</th>\n",
       "      <th>Gender</th>\n",
       "      <th>Convert</th>\n",
       "    </tr>\n",
       "  </thead>\n",
       "  <tbody>\n",
       "    <tr>\n",
       "      <th>0</th>\n",
       "      <td>0</td>\n",
       "      <td>3</td>\n",
       "      <td>male</td>\n",
       "      <td>22.0</td>\n",
       "      <td>1</td>\n",
       "      <td>0</td>\n",
       "      <td>7.2500</td>\n",
       "      <td>S</td>\n",
       "      <td>Third</td>\n",
       "      <td>man</td>\n",
       "      <td>True</td>\n",
       "      <td>NaN</td>\n",
       "      <td>Southampton</td>\n",
       "      <td>no</td>\n",
       "      <td>False</td>\n",
       "      <td>1</td>\n",
       "      <td>1</td>\n",
       "    </tr>\n",
       "    <tr>\n",
       "      <th>1</th>\n",
       "      <td>1</td>\n",
       "      <td>1</td>\n",
       "      <td>female</td>\n",
       "      <td>38.0</td>\n",
       "      <td>1</td>\n",
       "      <td>0</td>\n",
       "      <td>71.2833</td>\n",
       "      <td>C</td>\n",
       "      <td>First</td>\n",
       "      <td>woman</td>\n",
       "      <td>False</td>\n",
       "      <td>C</td>\n",
       "      <td>Cherbourg</td>\n",
       "      <td>yes</td>\n",
       "      <td>False</td>\n",
       "      <td>0</td>\n",
       "      <td>0</td>\n",
       "    </tr>\n",
       "    <tr>\n",
       "      <th>2</th>\n",
       "      <td>1</td>\n",
       "      <td>3</td>\n",
       "      <td>female</td>\n",
       "      <td>26.0</td>\n",
       "      <td>0</td>\n",
       "      <td>0</td>\n",
       "      <td>7.9250</td>\n",
       "      <td>S</td>\n",
       "      <td>Third</td>\n",
       "      <td>woman</td>\n",
       "      <td>False</td>\n",
       "      <td>NaN</td>\n",
       "      <td>Southampton</td>\n",
       "      <td>yes</td>\n",
       "      <td>True</td>\n",
       "      <td>0</td>\n",
       "      <td>0</td>\n",
       "    </tr>\n",
       "    <tr>\n",
       "      <th>3</th>\n",
       "      <td>1</td>\n",
       "      <td>1</td>\n",
       "      <td>female</td>\n",
       "      <td>35.0</td>\n",
       "      <td>1</td>\n",
       "      <td>0</td>\n",
       "      <td>53.1000</td>\n",
       "      <td>S</td>\n",
       "      <td>First</td>\n",
       "      <td>woman</td>\n",
       "      <td>False</td>\n",
       "      <td>C</td>\n",
       "      <td>Southampton</td>\n",
       "      <td>yes</td>\n",
       "      <td>False</td>\n",
       "      <td>0</td>\n",
       "      <td>0</td>\n",
       "    </tr>\n",
       "    <tr>\n",
       "      <th>4</th>\n",
       "      <td>0</td>\n",
       "      <td>3</td>\n",
       "      <td>male</td>\n",
       "      <td>35.0</td>\n",
       "      <td>0</td>\n",
       "      <td>0</td>\n",
       "      <td>8.0500</td>\n",
       "      <td>S</td>\n",
       "      <td>Third</td>\n",
       "      <td>man</td>\n",
       "      <td>True</td>\n",
       "      <td>NaN</td>\n",
       "      <td>Southampton</td>\n",
       "      <td>no</td>\n",
       "      <td>True</td>\n",
       "      <td>1</td>\n",
       "      <td>1</td>\n",
       "    </tr>\n",
       "    <tr>\n",
       "      <th>...</th>\n",
       "      <td>...</td>\n",
       "      <td>...</td>\n",
       "      <td>...</td>\n",
       "      <td>...</td>\n",
       "      <td>...</td>\n",
       "      <td>...</td>\n",
       "      <td>...</td>\n",
       "      <td>...</td>\n",
       "      <td>...</td>\n",
       "      <td>...</td>\n",
       "      <td>...</td>\n",
       "      <td>...</td>\n",
       "      <td>...</td>\n",
       "      <td>...</td>\n",
       "      <td>...</td>\n",
       "      <td>...</td>\n",
       "      <td>...</td>\n",
       "    </tr>\n",
       "    <tr>\n",
       "      <th>886</th>\n",
       "      <td>0</td>\n",
       "      <td>2</td>\n",
       "      <td>male</td>\n",
       "      <td>27.0</td>\n",
       "      <td>0</td>\n",
       "      <td>0</td>\n",
       "      <td>13.0000</td>\n",
       "      <td>S</td>\n",
       "      <td>Second</td>\n",
       "      <td>man</td>\n",
       "      <td>True</td>\n",
       "      <td>NaN</td>\n",
       "      <td>Southampton</td>\n",
       "      <td>no</td>\n",
       "      <td>True</td>\n",
       "      <td>1</td>\n",
       "      <td>1</td>\n",
       "    </tr>\n",
       "    <tr>\n",
       "      <th>887</th>\n",
       "      <td>1</td>\n",
       "      <td>1</td>\n",
       "      <td>female</td>\n",
       "      <td>19.0</td>\n",
       "      <td>0</td>\n",
       "      <td>0</td>\n",
       "      <td>30.0000</td>\n",
       "      <td>S</td>\n",
       "      <td>First</td>\n",
       "      <td>woman</td>\n",
       "      <td>False</td>\n",
       "      <td>B</td>\n",
       "      <td>Southampton</td>\n",
       "      <td>yes</td>\n",
       "      <td>True</td>\n",
       "      <td>0</td>\n",
       "      <td>0</td>\n",
       "    </tr>\n",
       "    <tr>\n",
       "      <th>888</th>\n",
       "      <td>0</td>\n",
       "      <td>3</td>\n",
       "      <td>female</td>\n",
       "      <td>NaN</td>\n",
       "      <td>1</td>\n",
       "      <td>2</td>\n",
       "      <td>23.4500</td>\n",
       "      <td>S</td>\n",
       "      <td>Third</td>\n",
       "      <td>woman</td>\n",
       "      <td>False</td>\n",
       "      <td>NaN</td>\n",
       "      <td>Southampton</td>\n",
       "      <td>no</td>\n",
       "      <td>False</td>\n",
       "      <td>0</td>\n",
       "      <td>0</td>\n",
       "    </tr>\n",
       "    <tr>\n",
       "      <th>889</th>\n",
       "      <td>1</td>\n",
       "      <td>1</td>\n",
       "      <td>male</td>\n",
       "      <td>26.0</td>\n",
       "      <td>0</td>\n",
       "      <td>0</td>\n",
       "      <td>30.0000</td>\n",
       "      <td>C</td>\n",
       "      <td>First</td>\n",
       "      <td>man</td>\n",
       "      <td>True</td>\n",
       "      <td>C</td>\n",
       "      <td>Cherbourg</td>\n",
       "      <td>yes</td>\n",
       "      <td>True</td>\n",
       "      <td>1</td>\n",
       "      <td>1</td>\n",
       "    </tr>\n",
       "    <tr>\n",
       "      <th>890</th>\n",
       "      <td>0</td>\n",
       "      <td>3</td>\n",
       "      <td>male</td>\n",
       "      <td>32.0</td>\n",
       "      <td>0</td>\n",
       "      <td>0</td>\n",
       "      <td>7.7500</td>\n",
       "      <td>Q</td>\n",
       "      <td>Third</td>\n",
       "      <td>man</td>\n",
       "      <td>True</td>\n",
       "      <td>NaN</td>\n",
       "      <td>Queenstown</td>\n",
       "      <td>no</td>\n",
       "      <td>True</td>\n",
       "      <td>1</td>\n",
       "      <td>1</td>\n",
       "    </tr>\n",
       "  </tbody>\n",
       "</table>\n",
       "<p>891 rows × 17 columns</p>\n",
       "</div>"
      ],
      "text/plain": [
       "     survived  pclass     sex   age  sibsp  parch     fare embarked   class  \\\n",
       "0           0       3    male  22.0      1      0   7.2500        S   Third   \n",
       "1           1       1  female  38.0      1      0  71.2833        C   First   \n",
       "2           1       3  female  26.0      0      0   7.9250        S   Third   \n",
       "3           1       1  female  35.0      1      0  53.1000        S   First   \n",
       "4           0       3    male  35.0      0      0   8.0500        S   Third   \n",
       "..        ...     ...     ...   ...    ...    ...      ...      ...     ...   \n",
       "886         0       2    male  27.0      0      0  13.0000        S  Second   \n",
       "887         1       1  female  19.0      0      0  30.0000        S   First   \n",
       "888         0       3  female   NaN      1      2  23.4500        S   Third   \n",
       "889         1       1    male  26.0      0      0  30.0000        C   First   \n",
       "890         0       3    male  32.0      0      0   7.7500        Q   Third   \n",
       "\n",
       "       who  adult_male deck  embark_town alive  alone  Gender  Convert  \n",
       "0      man        True  NaN  Southampton    no  False       1        1  \n",
       "1    woman       False    C    Cherbourg   yes  False       0        0  \n",
       "2    woman       False  NaN  Southampton   yes   True       0        0  \n",
       "3    woman       False    C  Southampton   yes  False       0        0  \n",
       "4      man        True  NaN  Southampton    no   True       1        1  \n",
       "..     ...         ...  ...          ...   ...    ...     ...      ...  \n",
       "886    man        True  NaN  Southampton    no   True       1        1  \n",
       "887  woman       False    B  Southampton   yes   True       0        0  \n",
       "888  woman       False  NaN  Southampton    no  False       0        0  \n",
       "889    man        True    C    Cherbourg   yes   True       1        1  \n",
       "890    man        True  NaN   Queenstown    no   True       1        1  \n",
       "\n",
       "[891 rows x 17 columns]"
      ]
     },
     "execution_count": 73,
     "metadata": {},
     "output_type": "execute_result"
    }
   ],
   "source": [
    "data"
   ]
  },
  {
   "cell_type": "markdown",
   "id": "be82de09",
   "metadata": {},
   "source": [
    "# filter()"
   ]
  },
  {
   "cell_type": "markdown",
   "id": "0499ba26",
   "metadata": {},
   "source": [
    "- It takes two arguments. The first argument is a function and the second argument is an iterable\n",
    "- It filters the values from the iterable on the basis of some condition.\n",
    "- It returns a filter object.\n",
    "- To fetch the values from the filter object we typecast it to list() or tuple()"
   ]
  },
  {
   "cell_type": "code",
   "execution_count": 76,
   "id": "db7f7f66",
   "metadata": {},
   "outputs": [
    {
     "name": "stdout",
     "output_type": "stream",
     "text": [
      "[2, 4, 6, 8, 10, 12, 14]\n"
     ]
    }
   ],
   "source": [
    "lst=[1,2,3,4,5,6,7,8,9,10,11,12,13,14,15]\n",
    "\n",
    "res=[]\n",
    "\n",
    "# Fetch all the evn numbers\n",
    "\n",
    "for i in lst:\n",
    "    if i%2==0:\n",
    "        res.append(i)\n",
    "print(res)"
   ]
  },
  {
   "cell_type": "code",
   "execution_count": 82,
   "id": "7ed1f693",
   "metadata": {},
   "outputs": [
    {
     "name": "stdout",
     "output_type": "stream",
     "text": [
      "<filter object at 0x00000276694C2880>\n",
      "[2, 4, 6, 8, 10, 12, 14]\n"
     ]
    }
   ],
   "source": [
    "# filter(function,iterable)\n",
    "# filter(lambda function,iterable)\n",
    "# filter(lambda argument:condition,iterable)\n",
    "\n",
    "\n",
    "f=filter(lambda x:x%2==0,lst)\n",
    "\n",
    "print(f)\n",
    "\n",
    "res=list(f)\n",
    "print(res)"
   ]
  },
  {
   "cell_type": "code",
   "execution_count": 83,
   "id": "dc086031",
   "metadata": {},
   "outputs": [],
   "source": [
    "def even(x):\n",
    "    if x%2==0:\n",
    "        return x"
   ]
  },
  {
   "cell_type": "code",
   "execution_count": 85,
   "id": "ee172212",
   "metadata": {},
   "outputs": [
    {
     "data": {
      "text/plain": [
       "[2, 4, 6, 8, 10, 12, 14]"
      ]
     },
     "execution_count": 85,
     "metadata": {},
     "output_type": "execute_result"
    }
   ],
   "source": [
    "list(filter(even,lst))"
   ]
  },
  {
   "cell_type": "code",
   "execution_count": 90,
   "id": "64dd2a7c",
   "metadata": {},
   "outputs": [
    {
     "name": "stdout",
     "output_type": "stream",
     "text": [
      "['e', 'o', 'e', 'e', 'o', 'e', 'I', 'o', 'e', 'o', 'u', 'e', 'a', 'i', 'i', 'o', 'i', 'e']\n"
     ]
    },
    {
     "data": {
      "text/plain": [
       "18"
      ]
     },
     "execution_count": 90,
     "metadata": {},
     "output_type": "execute_result"
    }
   ],
   "source": [
    "text='Hello everyone. I hope your learning is going well'\n",
    "\n",
    "# Fetch all the vowels from the above text using filter()\n",
    "\n",
    "lst=list(filter(lambda x:x in 'AEIOUaeiou',text))\n",
    "print(lst)\n",
    "len(lst)"
   ]
  },
  {
   "cell_type": "code",
   "execution_count": 93,
   "id": "fb1771a2",
   "metadata": {},
   "outputs": [
    {
     "data": {
      "text/plain": [
       "18"
      ]
     },
     "execution_count": 93,
     "metadata": {},
     "output_type": "execute_result"
    }
   ],
   "source": [
    "text='Hello everyone. I hope your learning is going well'\n",
    "\n",
    "len(list(filter(lambda x:x in 'AEIOUaeiou',text)))"
   ]
  },
  {
   "cell_type": "code",
   "execution_count": 95,
   "id": "0a9da6d4",
   "metadata": {},
   "outputs": [],
   "source": [
    "def greet():\n",
    "    print('Hello')\n",
    "    print('How are you')"
   ]
  },
  {
   "cell_type": "markdown",
   "id": "36cb6d7b",
   "metadata": {},
   "source": [
    "# map()"
   ]
  },
  {
   "cell_type": "code",
   "execution_count": null,
   "id": "4f813506",
   "metadata": {},
   "outputs": [],
   "source": []
  }
 ],
 "metadata": {
  "kernelspec": {
   "display_name": "Python 3 (ipykernel)",
   "language": "python",
   "name": "python3"
  },
  "language_info": {
   "codemirror_mode": {
    "name": "ipython",
    "version": 3
   },
   "file_extension": ".py",
   "mimetype": "text/x-python",
   "name": "python",
   "nbconvert_exporter": "python",
   "pygments_lexer": "ipython3",
   "version": "3.9.13"
  }
 },
 "nbformat": 4,
 "nbformat_minor": 5
}
