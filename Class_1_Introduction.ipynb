{
 "cells": [
  {
   "cell_type": "code",
   "execution_count": 1,
   "id": "335dd50d",
   "metadata": {},
   "outputs": [],
   "source": [
    "# What is Anaconda Distribution?\n",
    "# What is Jupyter Notebook\n",
    "# An overview of Jupyter Notebook\n",
    "# What is an operating system\n",
    "# What is a programming language\n",
    "# Types of programming language"
   ]
  },
  {
   "cell_type": "markdown",
   "id": "e9a59d76",
   "metadata": {},
   "source": [
    "# What is Anaconda Distribution?"
   ]
  },
  {
   "cell_type": "code",
   "execution_count": 2,
   "id": "0212f34c",
   "metadata": {},
   "outputs": [],
   "source": [
    "# Core Python + Data Scienece libraries"
   ]
  },
  {
   "cell_type": "code",
   "execution_count": 3,
   "id": "55e3a907",
   "metadata": {},
   "outputs": [],
   "source": [
    "# - Anaconda distribution is a package (library) distribution platform.\n",
    "# - It is open source and it provides n number of data science libraries related to Python under one umbrella"
   ]
  },
  {
   "cell_type": "code",
   "execution_count": 4,
   "id": "8698ed61",
   "metadata": {},
   "outputs": [],
   "source": [
    "# Core Python\n",
    "# Numpy- Mathetical computations\n",
    "# Pandas- Data manipulation (excel)\n",
    "# Matplotlib- Visualisation\n",
    "# Seaborn- Visualisation\n",
    "# sklearn- Statistical analysisi and algorithms\n",
    "# Flask- Deployment"
   ]
  },
  {
   "cell_type": "markdown",
   "id": "82340101",
   "metadata": {},
   "source": [
    "# Jupyter Notebook"
   ]
  },
  {
   "cell_type": "markdown",
   "id": "f721ead6",
   "metadata": {},
   "source": [
    "- It is an browser based IDE provided by Anaconda\n",
    "- IDE- Integrated Development Environment\n",
    "- An IDE is the interface (medium) between the user and the system."
   ]
  },
  {
   "cell_type": "code",
   "execution_count": 16,
   "id": "4638614b",
   "metadata": {},
   "outputs": [
    {
     "name": "stdout",
     "output_type": "stream",
     "text": [
      "15\n"
     ]
    }
   ],
   "source": [
    "print(10+5)"
   ]
  },
  {
   "cell_type": "code",
   "execution_count": 6,
   "id": "1add7616",
   "metadata": {},
   "outputs": [],
   "source": [
    "# IDE- Jupyter Notebook, Spyder, Pycharm, VSCode, Thonny etc."
   ]
  },
  {
   "cell_type": "markdown",
   "id": "64891c57",
   "metadata": {},
   "source": [
    "# An overview of Jupyter Notebook"
   ]
  },
  {
   "cell_type": "markdown",
   "id": "d4ead117",
   "metadata": {},
   "source": [
    "- In Jupyter Notebook we write the code in cells.\n",
    "- We can write single line of code or multiple lines of code in a cell.\n",
    "- We can execute the code cell wise.\n",
    "- We get the output just below the cell."
   ]
  },
  {
   "cell_type": "code",
   "execution_count": 7,
   "id": "cd69b412",
   "metadata": {},
   "outputs": [
    {
     "name": "stdout",
     "output_type": "stream",
     "text": [
      "Hello\n"
     ]
    }
   ],
   "source": [
    "print('Hello')"
   ]
  },
  {
   "cell_type": "code",
   "execution_count": 15,
   "id": "2353fbba",
   "metadata": {},
   "outputs": [
    {
     "name": "stdout",
     "output_type": "stream",
     "text": [
      "200\n"
     ]
    }
   ],
   "source": [
    "a=10\n",
    "b=20\n",
    "c=a*b\n",
    "print(c)"
   ]
  },
  {
   "cell_type": "code",
   "execution_count": 14,
   "id": "a34e8672",
   "metadata": {},
   "outputs": [
    {
     "name": "stdout",
     "output_type": "stream",
     "text": [
      "30\n"
     ]
    }
   ],
   "source": [
    "a=10\n",
    "b=20\n",
    "c=a+b\n",
    "print(c)"
   ]
  },
  {
   "cell_type": "markdown",
   "id": "d79f78ca",
   "metadata": {},
   "source": [
    "# Edit mode vs Command mode"
   ]
  },
  {
   "cell_type": "markdown",
   "id": "daee4934",
   "metadata": {},
   "source": [
    "# Edit mode"
   ]
  },
  {
   "cell_type": "markdown",
   "id": "43097090",
   "metadata": {},
   "source": [
    "- We can write into a cell only in edit mode.\n",
    "- Edit mode is represented by green colour.\n",
    "- To convert the mode from command to edit press enter or just click on the cell."
   ]
  },
  {
   "cell_type": "markdown",
   "id": "50b6b2ec",
   "metadata": {},
   "source": [
    "# Command mode"
   ]
  },
  {
   "cell_type": "markdown",
   "id": "9ba454b9",
   "metadata": {},
   "source": [
    "- We can not write into a cell when it is in command mode.\n",
    "- In command mode we can select multiple cells and can do many otherv operations.\n",
    "- Command mode is represented by blue colour.\n",
    "- To convert the mode from edit to command press esc key."
   ]
  },
  {
   "cell_type": "code",
   "execution_count": 22,
   "id": "e400de44",
   "metadata": {},
   "outputs": [
    {
     "name": "stdout",
     "output_type": "stream",
     "text": [
      "Hello Python\n"
     ]
    }
   ],
   "source": [
    "print('Hello Python')"
   ]
  },
  {
   "cell_type": "code",
   "execution_count": 22,
   "id": "38458aae",
   "metadata": {},
   "outputs": [
    {
     "name": "stdout",
     "output_type": "stream",
     "text": [
      "Hello Python\n"
     ]
    }
   ],
   "source": [
    "print('Hello Python')"
   ]
  },
  {
   "cell_type": "code",
   "execution_count": 17,
   "id": "1ac81c8a",
   "metadata": {},
   "outputs": [
    {
     "name": "stdout",
     "output_type": "stream",
     "text": [
      "Hello\n"
     ]
    }
   ],
   "source": [
    "print('Hello')"
   ]
  },
  {
   "cell_type": "code",
   "execution_count": 20,
   "id": "07a02486",
   "metadata": {},
   "outputs": [
    {
     "name": "stdout",
     "output_type": "stream",
     "text": [
      "Learnbay\n"
     ]
    }
   ],
   "source": [
    "print('Learnbay')"
   ]
  },
  {
   "cell_type": "code",
   "execution_count": null,
   "id": "c6f13dfa",
   "metadata": {},
   "outputs": [],
   "source": []
  },
  {
   "cell_type": "code",
   "execution_count": null,
   "id": "bd93acbf",
   "metadata": {},
   "outputs": [],
   "source": []
  },
  {
   "cell_type": "code",
   "execution_count": 21,
   "id": "96f88629",
   "metadata": {},
   "outputs": [
    {
     "name": "stdout",
     "output_type": "stream",
     "text": [
      "Data Science\n"
     ]
    }
   ],
   "source": [
    "print('Data Science')"
   ]
  },
  {
   "cell_type": "code",
   "execution_count": null,
   "id": "b582d40f",
   "metadata": {},
   "outputs": [],
   "source": []
  },
  {
   "cell_type": "code",
   "execution_count": null,
   "id": "0d0979d7",
   "metadata": {},
   "outputs": [],
   "source": []
  },
  {
   "cell_type": "code",
   "execution_count": 23,
   "id": "5575d680",
   "metadata": {},
   "outputs": [
    {
     "name": "stdout",
     "output_type": "stream",
     "text": [
      "15\n"
     ]
    }
   ],
   "source": [
    "print(10+5)"
   ]
  },
  {
   "cell_type": "code",
   "execution_count": null,
   "id": "ae258245",
   "metadata": {},
   "outputs": [],
   "source": [
    "\n",
    "\n",
    "\n",
    "\n",
    "\n",
    "\n",
    "\n"
   ]
  },
  {
   "cell_type": "code",
   "execution_count": null,
   "id": "8ceccb22",
   "metadata": {},
   "outputs": [],
   "source": []
  },
  {
   "cell_type": "code",
   "execution_count": 24,
   "id": "79b62457",
   "metadata": {},
   "outputs": [
    {
     "name": "stdout",
     "output_type": "stream",
     "text": [
      "15\n"
     ]
    }
   ],
   "source": [
    "print(10+5)"
   ]
  },
  {
   "cell_type": "markdown",
   "id": "bd7330c8",
   "metadata": {},
   "source": [
    "# Code vs Markdown"
   ]
  },
  {
   "cell_type": "markdown",
   "id": "04997a6c",
   "metadata": {},
   "source": [
    "# Code mode"
   ]
  },
  {
   "cell_type": "markdown",
   "id": "5253b1c3",
   "metadata": {},
   "source": [
    "- In code mode we write the Python code.\n",
    "- If we write anything else apart from the Python code then it throws errors."
   ]
  },
  {
   "cell_type": "code",
   "execution_count": 25,
   "id": "ee2e6bcd",
   "metadata": {},
   "outputs": [
    {
     "name": "stdout",
     "output_type": "stream",
     "text": [
      "30\n"
     ]
    }
   ],
   "source": [
    "a=10\n",
    "b=20\n",
    "c=a+b\n",
    "print(c)"
   ]
  },
  {
   "cell_type": "code",
   "execution_count": 26,
   "id": "2050e84f",
   "metadata": {},
   "outputs": [
    {
     "ename": "SyntaxError",
     "evalue": "invalid syntax (1301177627.py, line 1)",
     "output_type": "error",
     "traceback": [
      "\u001b[1;36m  File \u001b[1;32m\"C:\\Users\\Dell\\AppData\\Local\\Temp\\ipykernel_6828\\1301177627.py\"\u001b[1;36m, line \u001b[1;32m1\u001b[0m\n\u001b[1;33m    This is a Python class.\u001b[0m\n\u001b[1;37m              ^\u001b[0m\n\u001b[1;31mSyntaxError\u001b[0m\u001b[1;31m:\u001b[0m invalid syntax\n"
     ]
    }
   ],
   "source": [
    "This is a Python class.\n",
    "How are you\n",
    "We are learning Data Science"
   ]
  },
  {
   "cell_type": "markdown",
   "id": "701d34de",
   "metadata": {},
   "source": [
    "# Markdown mode"
   ]
  },
  {
   "cell_type": "markdown",
   "id": "6ed0e13d",
   "metadata": {},
   "source": [
    "- In markdown mode we write simple notes (text)"
   ]
  },
  {
   "cell_type": "markdown",
   "id": "c1bf15ce",
   "metadata": {},
   "source": [
    "This is a Python class.\n",
    "How are you\n",
    "We are learning Data Science"
   ]
  },
  {
   "cell_type": "markdown",
   "id": "5c6e3a2c",
   "metadata": {},
   "source": [
    "# More about markdown mode"
   ]
  },
  {
   "cell_type": "markdown",
   "id": "4c8a85c8",
   "metadata": {},
   "source": [
    "# Python"
   ]
  },
  {
   "cell_type": "markdown",
   "id": "614e554b",
   "metadata": {},
   "source": [
    "## Python"
   ]
  },
  {
   "cell_type": "markdown",
   "id": "3bbcc962",
   "metadata": {},
   "source": [
    "### Python"
   ]
  },
  {
   "cell_type": "markdown",
   "id": "8e2b4701",
   "metadata": {},
   "source": [
    "#### Python"
   ]
  },
  {
   "cell_type": "markdown",
   "id": "70679353",
   "metadata": {},
   "source": [
    "- Bullet point\n",
    "* Bullet Point"
   ]
  },
  {
   "cell_type": "markdown",
   "id": "9693654b",
   "metadata": {},
   "source": [
    "**Bold**"
   ]
  },
  {
   "cell_type": "markdown",
   "id": "d0ef760c",
   "metadata": {},
   "source": [
    "#### Bold"
   ]
  },
  {
   "cell_type": "markdown",
   "id": "f62661f7",
   "metadata": {},
   "source": [
    "*Italic*"
   ]
  },
  {
   "cell_type": "markdown",
   "id": "315aab93",
   "metadata": {},
   "source": [
    "##### Bold and Italic"
   ]
  },
  {
   "cell_type": "markdown",
   "id": "58c2304f",
   "metadata": {},
   "source": [
    "# Short cut keys"
   ]
  },
  {
   "cell_type": "code",
   "execution_count": 35,
   "id": "3ce723d7",
   "metadata": {},
   "outputs": [],
   "source": [
    "# - To run or execute a cell- shift+enter\n",
    "# - To add a cell above a particular cell- Press a in command mode\n",
    "# - To add a cell below a particular cell- Press b in command mode\n",
    "# - To convert the mode from code to markdown- Press m in command mode\n",
    "# - To convert the mode from markdown to code- Press y in command mode\n",
    "# - To delete a cell- Press x in command mode\n",
    "# - To get the list of all the short cut keys- Press h in commnad mode"
   ]
  },
  {
   "cell_type": "markdown",
   "id": "84d13bed",
   "metadata": {},
   "source": [
    "Hello everyone"
   ]
  },
  {
   "cell_type": "code",
   "execution_count": 29,
   "id": "cbca7855",
   "metadata": {},
   "outputs": [
    {
     "name": "stdout",
     "output_type": "stream",
     "text": [
      "Hello Python\n"
     ]
    }
   ],
   "source": [
    "print('Hello Python')"
   ]
  },
  {
   "cell_type": "markdown",
   "id": "ddd29466",
   "metadata": {},
   "source": [
    "# What is an operating system"
   ]
  },
  {
   "cell_type": "markdown",
   "id": "2f9afe35",
   "metadata": {},
   "source": [
    "- It is the interface (medium) between the user and the hardware.\n",
    "- It is the resource manager that provides resources to different application to run on a machine.\n",
    "- Resources- I/O units, Memory units, Network etc.\n",
    "- Examples- Windows, macOS, Linux, Unix, unbuntu etc."
   ]
  },
  {
   "cell_type": "markdown",
   "id": "cebb6553",
   "metadata": {},
   "source": [
    "# What is a programming language?"
   ]
  },
  {
   "cell_type": "markdown",
   "id": "329f12fe",
   "metadata": {},
   "source": [
    "- A programming (computer) language is used to communicate with a computer system.\n",
    "- A programming language is a set of some predefined words and characters that are used according to some rules and these rules  are known as syntax. "
   ]
  },
  {
   "cell_type": "code",
   "execution_count": 36,
   "id": "750805c2",
   "metadata": {},
   "outputs": [],
   "source": [
    "# Alphabet - Set of predefined words\n",
    "# Grammar- Syntax"
   ]
  },
  {
   "cell_type": "markdown",
   "id": "30667c3c",
   "metadata": {},
   "source": [
    "# Types"
   ]
  },
  {
   "cell_type": "code",
   "execution_count": 7,
   "id": "b82b4ceb",
   "metadata": {},
   "outputs": [
    {
     "name": "stdout",
     "output_type": "stream",
     "text": [
      "5.0\n"
     ]
    }
   ],
   "source": [
    "x=(55/11)\n",
    "print(x)"
   ]
  },
  {
   "cell_type": "code",
   "execution_count": 8,
   "id": "9500083d",
   "metadata": {},
   "outputs": [
    {
     "data": {
      "text/plain": [
       "False"
      ]
     },
     "execution_count": 8,
     "metadata": {},
     "output_type": "execute_result"
    }
   ],
   "source": [
    "(\"\"\"A B C\"\"\"==\"\\nA\\nB\\nC\\n\")"
   ]
  },
  {
   "cell_type": "code",
   "execution_count": 9,
   "id": "8163859c",
   "metadata": {},
   "outputs": [
    {
     "name": "stdout",
     "output_type": "stream",
     "text": [
      "1\n"
     ]
    }
   ],
   "source": []
  },
  {
   "cell_type": "code",
   "execution_count": 10,
   "id": "ed0059ea",
   "metadata": {},
   "outputs": [
    {
     "name": "stdout",
     "output_type": "stream",
     "text": [
      "unununium\n"
     ]
    }
   ],
   "source": [
    "print(3*'un'+'ium')"
   ]
  },
  {
   "cell_type": "code",
   "execution_count": null,
   "id": "3c4f5b6d",
   "metadata": {},
   "outputs": [],
   "source": []
  }
 ],
 "metadata": {
  "kernelspec": {
   "display_name": "Python 3 (ipykernel)",
   "language": "python",
   "name": "python3"
  },
  "language_info": {
   "codemirror_mode": {
    "name": "ipython",
    "version": 3
   },
   "file_extension": ".py",
   "mimetype": "text/x-python",
   "name": "python",
   "nbconvert_exporter": "python",
   "pygments_lexer": "ipython3",
   "version": "3.9.13"
  }
 },
 "nbformat": 4,
 "nbformat_minor": 5
}
